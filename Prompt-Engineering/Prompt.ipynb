{
 "cells": [
  {
   "cell_type": "markdown",
   "metadata": {},
   "source": [
    "Base LLM\n",
    "\n",
    "Predict next word based on training data\n",
    "e.g:Once upon a time there was a uvicorn that lived in magical forest\n",
    "\n",
    "Instruction tune LLM:\n",
    "Tries to follow the instructions\n",
    "\n",
    "Fine tune on instruction and good attempts to following those instructions\n",
    "\n",
    "e.g:What is capital of france?\n",
    "Capital of france is Paris"
   ]
  },
  {
   "cell_type": "code",
   "execution_count": null,
   "metadata": {},
   "outputs": [],
   "source": []
  }
 ],
 "metadata": {
  "kernelspec": {
   "display_name": "python13",
   "language": "python",
   "name": "python3"
  },
  "language_info": {
   "codemirror_mode": {
    "name": "ipython",
    "version": 3
   },
   "file_extension": ".py",
   "mimetype": "text/x-python",
   "name": "python",
   "nbconvert_exporter": "python",
   "pygments_lexer": "ipython3",
   "version": "3.12.0"
  }
 },
 "nbformat": 4,
 "nbformat_minor": 2
}
