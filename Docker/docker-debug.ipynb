{
 "cells": [
  {
   "cell_type": "markdown",
   "metadata": {},
   "source": [
    "## For making image from Dockerfile:\n",
    "\n",
    "#### For image build\n",
    "* docker build -t my-debug-image:1.0.0 . (1.0.0 is version.If we not used it then it use latest by default)\n",
    "\n",
    "#### For running container\n",
    "* docker run -d -p 8000:8000 my-debug-image:1.0.0\n",
    "\n",
    "#### For checking logs\n",
    "* docker logs happy_austin\n"
   ]
  },
  {
   "cell_type": "markdown",
   "metadata": {},
   "source": [
    "# For debugging:\n",
    "* docker run -it -p 8000:8000 my-debug-image:1.0.0 /bin/bash\n",
    "* (it means container chalanay sai pehlay container sai connect ho)\n",
    "* (/bin/bash linux k shell sai connect)\n",
    "\n",
    "* ls (for list of files)\n",
    "\n",
    "* exit"
   ]
  },
  {
   "cell_type": "markdown",
   "metadata": {},
   "source": [
    "## For debugging:\n",
    "* docker run -it -p 8000:8000 my-debug-image:1.0.0 /bin/bash\n",
    "* ls (if everything fine then i can below command)\n",
    "* poetry run uvicorn app.main:app --host 0.0.0.0 --port 8000\n",
    "#### To come out of the container without stopping it,means it will run at foreground\n",
    "* CTRL + P + Q\n",
    "### Then Intract back with the Container:\n",
    "* docker exec -it dev-cont1 /bin/bash\n",
    "* docker exec -it af4e /bin/sh(You can write first words of the container and you can use sh instead of bash if bash is not available)\n",
    "#### Exit from the container shell\n",
    "* exit"
   ]
  },
  {
   "cell_type": "markdown",
   "metadata": {},
   "source": [
    "## For making image from container"
   ]
  }
 ],
 "metadata": {
  "language_info": {
   "name": "python"
  }
 },
 "nbformat": 4,
 "nbformat_minor": 2
}
