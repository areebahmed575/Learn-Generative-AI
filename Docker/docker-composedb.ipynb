{
 "cells": [
  {
   "cell_type": "markdown",
   "metadata": {},
   "source": [
    "## Docker Compose with Database Service"
   ]
  },
  {
   "cell_type": "markdown",
   "metadata": {},
   "source": [
    "Image or container immutable hoti h.Postgres db use krtay way agr changing karo ga tou image dobara bani ghi tou changing save nahi hoghi data lost hojaye ga\n",
    "Humaray pass ek concept aata h persistance ka.Persistance mai kohi storage ho jo data ko apnai pass save krley.Non volatile kr k save krley takay woh delete na ho.Tou is k baad concept aata h volume ka.Volume ek storage ya disk h \n"
   ]
  },
  {
   "cell_type": "markdown",
   "metadata": {},
   "source": [
    "Note:Where I am using --,there will only - will be use\n",
    "* version: \"3.9\"\n",
    "\n",
    "* name: myapi\n",
    "\n",
    "* services:\n",
    "  - api:\n",
    "    - build:\n",
    "      - context: ./todo\n",
    "      - dockerfile: Dockerfile.dev\n",
    "    - depends_on: #depends on postgres h means pehlay postgres ka container banaye ga then fastapi ka\n",
    "        - -- postgres_db\n",
    "    - ports:\n",
    "      - -- \"8000:8000\"  # Expose container port 8000 to host port 8000  \n",
    "    - networks:\n",
    "      - -- my-api-net\n",
    "  - postgres_db:\n",
    "    - image: postgres:latest  # Use the official PostgreSQL image\n",
    "    - restart: always\n",
    "    - container_name: PostgresCont\n",
    "    - environment:\n",
    "        - -- POSTGRES_USER=ziakhan\n",
    "        - -- POSTGRES_PASSWORD=my_password\n",
    "        - -- POSTGRES_DB=mydatabase\n",
    "    - ports:\n",
    "        - -- '5433:5432' #right side wali container k ander wali port h or left side wali humari port ki port h means container k bahar ki\n",
    "    - volumes:  #yaha volume use horaha h\n",
    "        - -- postgres_db:/var/lib/postgresql/data \n",
    "    - networks:\n",
    "      - my-api-net\n",
    "\n",
    "- volumes:       #yaha volume create kya h \n",
    "   - postgres_db: \n",
    "   -  driver: local\n",
    "\n",
    "- networks: #yaha network create kya h.Phir api or postgres mai same network use kya h takay dono apas mai connect hoskay because containers isolated hotay h.\n",
    "  - my-api-net:  # Define the custom network"
   ]
  },
  {
   "cell_type": "markdown",
   "metadata": {},
   "source": [
    "### Explanation:\n",
    "\n",
    "Here's a detailed explanation of the Docker Compose file:\n",
    "\n",
    "File Structure:\n",
    "\n",
    "* Version: 3.9 specifies the Compose file format for compatibility.\n",
    "* Project Name: myapi labels the project for organization.\n",
    " Services:\n",
    "api:\n",
    "\n",
    " Build:\n",
    "* context: ./todo: Instructs Compose to build the image from the ./todo directory.\n",
    "* dockerfile: Dockerfile.dev: Specifies the Dockerfile named Dockerfile.dev for building instructions.\n",
    "* Depends_on: postgres_db: Ensures the database starts before this service.\n",
    "* Ports: 8000:8000: Maps container port 8000 to host port 8000 for accessibility.\n",
    "* Networks: my-api-net: Connects the service to the designated network.\n",
    "* postgres_db:\n",
    "\n",
    "* Image: postgres:latest: Uses the official PostgreSQL image for the database.\n",
    "* Restart: always: Automatically restarts the container if it crashes.\n",
    "* Container_name: PostgresCont: Assigns a friendly name to the container for identification.\n",
    "* Environment: Sets database credentials and configuration:\n",
    "* POSTGRES_USER=ziakhan: Database username.\n",
    "* POSTGRES_PASSWORD=my_password: Database password.\n",
    "* POSTGRES_DB=mydatabase: Name of the database to create.\n",
    "* Ports: 5433:5432: Exposes container port 5432 (PostgreSQL's default) to host port 5433 for access.\n",
    "* Volumes: postgres_db:/var/lib/postgresql/data: Persistently stores database data in a volume named postgres_db.\n",
    "* Networks: my-api-net: Connects to the custom network.\n",
    "Volumes:\n",
    "\n",
    "* postgres_db: Creates a named volume with the local driver for database data persistence.\n",
    "* Networks:\n",
    "\n",
    "* my-api-net: Defines a custom isolated network for communication between services.\n",
    "* Summary:\n",
    "\n",
    "This Compose file defines a two-service application:\n",
    "\n",
    "* An API service, built from a Dockerfile and exposed on port 8000.\n",
    "* A PostgreSQL database service, using a ready-made image with specific configuration and exposed on port 5433.\n",
    "* Both services are connected to a shared network for seamless communication. The database data is preserved using a persistent volume.\n",
    "\n",
    "Running the application:\n",
    "\n",
    "With this Compose file saved as compose.yml , you can use the following commands to manage your application:\n",
    "\n",
    "* docker compose up -d: This builds the images (if needed) and starts both containers in detached mode (background). You can check it by going open: http://0.0.0.0:8000/ in browser.\n",
    "* docker compose stop: This stops both containers.\n",
    "* docker compose down: This stops and removes both containers, as well as volumes associated with them."
   ]
  },
  {
   "cell_type": "markdown",
   "metadata": {},
   "source": [
    "#pd admin client h jab humai db ko use krna prta h hum client sai acess krtay h "
   ]
  },
  {
   "cell_type": "markdown",
   "metadata": {},
   "source": [
    "Then dev ccontainer mai myapi  k  container mai attach in current window mai click kr k.Then phir dev ccontainer mai open folder mai /code/ kr k ok krna h then container mai rehtay he dev container vs code sai connect hojaye ga then main.py mai development live hoghi. "
   ]
  }
 ],
 "metadata": {
  "language_info": {
   "name": "python"
  }
 },
 "nbformat": 4,
 "nbformat_minor": 2
}
