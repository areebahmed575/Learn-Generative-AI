{
 "cells": [
  {
   "cell_type": "markdown",
   "metadata": {},
   "source": [
    "## Docker Compose\n",
    "Docker Compose is a tool specifically designed to simplify the development and management of applications that consist of multiple Docker containers. Here's a breakdown of what it does and why it's useful:"
   ]
  },
  {
   "cell_type": "markdown",
   "metadata": {},
   "source": [
    "### Functionality:\n",
    "\n",
    "Define services in a YAML file: Compose allows you to define the different services (containers) that make up your application in a single YAML file. This file specifies things like the image to use for each container, any environment variables, ports to expose, and how the containers should link together.\n",
    "\n",
    "Start, stop, and manage services with a single command: Once you've defined your services in the YAML file, you can use Docker Compose commands to easily manage them. For instance, with a single command you can start up all the containers required for your application, stop them all, or rebuild them.\n",
    "\n",
    "Streamlined development experience: By using Compose, you can set up a consistent development environment with all the dependencies your application needs. This makes it easier for developers to work on the project and ensures everyone has the same environment.\n",
    "\n",
    "Simplified collaboration: The Compose YAML file acts as a clear and shareable definition of your application's infrastructure. This makes it easier for teams to collaborate on development and deployment.\n",
    "\n",
    "### Benefits:\n",
    "\n",
    "Reduced complexity: Managing multiple containers can get complicated. Compose streamlines this process by allowing you to define and manage everything in one place.\n",
    "\n",
    "Improved development workflow: Compose makes it faster and easier to get started with development and iterate on your application.\n",
    "\n",
    "Enhanced collaboration: The shareable Compose file makes it easier for developers and operations teams to work together."
   ]
  },
  {
   "cell_type": "markdown",
   "metadata": {},
   "source": [
    "\n",
    "\n",
    "\n",
    "\n",
    "Dockerfile # Declarative Style means mujhai change krnay ki need nahi just like dockerfie\n",
    "\n",
    "Image \n",
    "docker build -t ImageName:1.0 . #Imperative Style  means mai change krskta ho just like image or conatainer ki command ki need nahi\n",
    " \n",
    "docker build -t AmeenImage:0.0 .\n",
    "\n",
    "Container\n",
    "docker run -d -p 8000:8000 ImageName\n",
    "docker run -d -p 8002:8000 ImageName\n",
    "\n",
    "\n",
    "Declarative style mai image or container ki file bhi de ja skti h by using compose.yaml"
   ]
  },
  {
   "cell_type": "markdown",
   "metadata": {},
   "source": [
    "yaml data serializtion k liyai use hota h just like json.Yaml is a superset of json means is mai json k features bhi h or apnai kud k features bhi or bohut sari cheezain easy krde h\n",
    "\n",
    "\n",
    "\n",
    "* version: \"3.9\" #humari file ka version\n",
    "\n",
    "* name: myapi\n",
    "\n",
    "* services:\n",
    " - api:\n",
    "  -  build:\n",
    "   -   context: ./todo\n",
    "   -  dockerfile: Dockerfile.dev\n",
    "   - ports:\n",
    "      - -- \"8000:8000\"  # Expose container port 8000 to host port 8000.\n",
    "#Yaha pr object indentation sai pata chalta h.- means array"
   ]
  },
  {
   "cell_type": "markdown",
   "metadata": {},
   "source": [
    "### Explanation:\n",
    "\n",
    "* version: This specifies the Docker Compose file version (here, version 3.9).\n",
    "* services: This section defines only one service:\n",
    "* api: This builds a container image from the todo directory with Dockerfile.dev file. It exposes port 8000."
   ]
  },
  {
   "cell_type": "markdown",
   "metadata": {},
   "source": [
    "\n",
    "* docker compose up -d: This builds the images (if needed) and starts the container in detached mode (background). You can   check it by going open: http://0.0.0.0:8000/ in browser.\n",
    "* docker-compose logs # This shows the logs\n",
    "* docker compose config # This shows the configuration\n",
    "* docker compose status # This shows the status\n",
    "* docker compose stop: This stops the container.\n",
    "* docker compose down: This stops and removes the container.\n",
    "* docker compose up -d --build -->for forcefully creating image again.This is also use when you made any changes in code.\n",
    "* docker compose ps # This shows the containers \n",
    "* docker compose ps -a # This shows all the containers \n",
    "* docker compose images # This shows all the images\n",
    "\n",
    "* Note:\n",
    "\n",
    "- The flag -d in the command docker-compose up -d instructs Docker Compose to run the containers in detached mode. Here's what that means:\n",
    "\n",
    "* Normal vs. Detached Mode:\n",
    "\n",
    "By default, the docker-compose up command starts the defined services in the foreground. This means the terminal window you run the command from stays open and displays logs from the running containers.\n",
    "With the -d flag, Docker Compose starts the containers in the background. This allows the terminal window to be closed, and the containers continue to run independently.\n",
    "Benefits of Detached Mode:\n",
    "\n",
    "Frees up your terminal window for other tasks.\n",
    "Useful for long-running services that don't require constant interaction.\n",
    "Viewing Logs for Detached Containers:\n",
    "\n",
    "To view logs from detached containers, use docker-compose logs followed by the service name(s).\n",
    "In summary, the -d flag allows you to run Docker Compose services in the background, keeping your terminal free and the containers operational even after the window is closed."
   ]
  },
  {
   "cell_type": "markdown",
   "metadata": {},
   "source": [
    "## YAML  for Docker Compose\n",
    "Docker Compose uses YAML (YAML Ain't Markup Language) to define your multi-container application. YAML is a human-readable data serialization language, similar to JSON, but with a focus on readability. \n",
    "\n",
    "Data Types:\n",
    "\n",
    "YAML supports various data types, including:\n",
    "\n",
    "* Scalars: Strings (e.g., \"hello\"), numbers (e.g., 42), booleans (e.g., true, false)\n",
    "* Lists: Ordered collections of items, enclosed in square brackets [] (e.g., [\"apple\", \"banana\"])\n",
    "* Mappings: Unordered collections of key-value pairs, enclosed in curly braces {} (e.g., {name: \"Alice\", age: 25})\n",
    "\n",
    "Tips and Best Practices:\n",
    "\n",
    "* Use proper indentation for readability.\n",
    "* Use comments (#) to explain sections of your YAML file.\n",
    "* Leverage online YAML validators to check your syntax.\n",
    "\n",
    "By understanding YAML basics, you'll be well-equipped to write clear and effective Docker Compose files to manage your multi-container applications."
   ]
  }
 ],
 "metadata": {
  "language_info": {
   "name": "python"
  }
 },
 "nbformat": 4,
 "nbformat_minor": 2
}
