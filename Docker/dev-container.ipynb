{
 "cells": [
  {
   "cell_type": "markdown",
   "metadata": {},
   "source": [
    "## Dev Container\n",
    "Dev containers provide a consistent and reproducible development environment and work by running a Docker container.\n",
    "### Developing inside a Container(You can make your work easy using Dev Container)\n",
    "We will edit the code we develop in the last step. This tutorial walks you through running Visual Studio Code in a Docker container using the Dev Containers extension."
   ]
  },
  {
   "cell_type": "markdown",
   "metadata": {},
   "source": [
    "The Dev Containers extension supports two primary operating models:\n",
    "\n",
    "* You can attach to a running container to inspect it.\n",
    "\n",
    "* You can use a container as your full-time development environment"
   ]
  },
  {
   "cell_type": "markdown",
   "metadata": {},
   "source": [
    "## Developing inside a Container\n",
    "System requirements\n",
    "\n",
    "You can use Docker with the Dev Containers extension in a few ways, including:\n",
    "\n",
    "* Docker installed locally.\n",
    "* Docker installed on a remote environment.\n",
    "* Other Docker compliant CLIs, installed locally or remotely.\n",
    "* While other CLIs may work, they are not officially supported."
   ]
  }
 ],
 "metadata": {
  "kernelspec": {
   "display_name": "python13",
   "language": "python",
   "name": "python3"
  },
  "language_info": {
   "name": "python",
   "version": "3.12.0"
  }
 },
 "nbformat": 4,
 "nbformat_minor": 2
}
