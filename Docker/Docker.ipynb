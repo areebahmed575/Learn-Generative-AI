{
 "cells": [
  {
   "cell_type": "markdown",
   "metadata": {},
   "source": [
    "# Conterization"
   ]
  },
  {
   "cell_type": "markdown",
   "metadata": {},
   "source": [
    "* Dockerfile #filename\n",
    "\n",
    "* FROM python:3.12 #base image #using my laptop os kernel so it's called cutting edge os\n",
    "\n",
    "* LABEL maintainer=\"areebahmed575@gmail.com\" #meta data #if image mai masla aajaye tou for contact\n",
    "\n",
    "* RUN pip install poetry #install\n",
    "\n",
    "* WORKDIR /code #work folder #agr directory nahi bani hwi tou banalo.Agr bani hwi h tou use krlo\n",
    "* COPY source destination  #codebase\n",
    "* COPY .       ./\n",
    "* RUN poetry install\n",
    "* CMD [\"uvicorn\" ,\"run\" ,\"app.main:app\" ,\"--reload\"] #for running application\t\n"
   ]
  }
 ],
 "metadata": {
  "language_info": {
   "name": "python"
  }
 },
 "nbformat": 4,
 "nbformat_minor": 2
}
