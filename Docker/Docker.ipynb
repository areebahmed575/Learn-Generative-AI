{
 "cells": [
  {
   "cell_type": "markdown",
   "metadata": {},
   "source": [
    "* Dockerfile  ---> Instructions\n",
    "* Image ---> Image Build\n",
    "* Container ---> Container means run the image "
   ]
  },
  {
   "cell_type": "markdown",
   "metadata": {},
   "source": [
    "# Conterization"
   ]
  },
  {
   "cell_type": "markdown",
   "metadata": {},
   "source": [
    "* Dockerfile #filename\n",
    "\n",
    "* FROM python:3.12 #base image #using my laptop os kernel so it's called cutting edge os\n",
    "\n",
    "* LABEL maintainer=\"areebahmed575@gmail.com\" #meta data #if image mai masla aajaye tou for contact\n",
    "\n",
    "* RUN pip install poetry #install\n",
    "\n",
    "* WORKDIR /code #work folder #agr directory nahi bani hwi tou banalo.Agr bani hwi h tou use krlo\n",
    "* COPY source destination  #codebase\n",
    "* COPY . /code/ # . means current working directory #Copy the current directory contents into the container at /code \n",
    "* RUN poetry install\n",
    "* CMD [\"uvicorn\" ,\"run\" ,\"app.main:app\" ,\"--reload\"] #for running application\t\n"
   ]
  },
  {
   "cell_type": "markdown",
   "metadata": {},
   "source": [
    "* docker -v \n",
    "* docker version\n",
    "* docker run hello-world\n",
    "\n",
    "## First run the application locally\n",
    "### Install dependency:\n",
    "\n",
    "* poetry install\n",
    "### Run project in Poetry Envirnoment, to see if it is running outside a container:\n",
    "\n",
    "* poetry run uvicorn app.main:app --host 0.0.0.0 --port 8000\n",
    "### Open in Browser:\n",
    "\n",
    "* http://0.0.0.0:8000/\n",
    "\n",
    "* http://0.0.0.0:8000/docs\n",
    "\n",
    "* http://0.0.0.0:8000/openapi.json\n",
    "### Run test:\n",
    "\n",
    "* poetry run pytest\n",
    "\n",
    "### Building the Image for Dev:\n",
    "* docker build -f Dockerfile.dev -t my-dev-image .\n",
    "\n",
    "### Check Images:\n",
    "* docker images\n",
    "\n",
    "### Verify the config:(for cheking information about image)\n",
    "* docker inspect my-dev-image\n",
    "\n",
    "### Running the Container for Dev:\n",
    "* docker run -d --name dev-cont1 -p 8000:8000 my-dev-image (-d means background process k saat detached krdu and terminal mai process nahi dhekao)(--name means jo cheez chala rahay h uska naam rakh rahay h)(2 port h first wali host ki or second wali container ki)\n",
    "\n",
    "### container logs\n",
    "* docker logs dev-cont1\n",
    "\n",
    "### container logs(for live logs)\n",
    "* docker logs dev-cont1 -f\n",
    "\n",
    "### List Running Containers\n",
    "* docker ps\n",
    "\n",
    "### Test the Container:\n",
    "docker run -it --rm my-dev-image /bin/bash -c \"poetry run pytest\" #it means jaha container h waha jakr #-it direct interact krwata h jaha container h waha sai \n",
    "\n",
    "### Remove container\n",
    "* docker rm dev-cont1\n",
    "\n",
    "### Stop container\n",
    "* docker stop dev-cont1\n"
   ]
  }
 ],
 "metadata": {
  "language_info": {
   "name": "python"
  }
 },
 "nbformat": 4,
 "nbformat_minor": 2
}
