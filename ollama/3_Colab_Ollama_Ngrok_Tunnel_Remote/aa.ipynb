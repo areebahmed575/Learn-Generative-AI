{
 "cells": [
  {
   "cell_type": "code",
   "execution_count": 4,
   "metadata": {},
   "outputs": [
    {
     "name": "stdout",
     "output_type": "stream",
     "text": [
      "Generative AI refers to a type of artificial intelligence (AI) that can create new, original content, such as text, images, music, or videos, based on patterns and structures it has learned from existing data. This type of AI uses algorithms and machine learning techniques to generate novel outputs that are often indistinguishable from those created by humans.\n",
      "\n",
      "Generative AI models are trained on large datasets of examples, which they use to learn the underlying patterns and relationships between different elements. Once trained, these models can be used to generate new content that is similar in style, tone, or structure to the training data.\n",
      "\n",
      "Some common applications of generative AI include:\n",
      "\n",
      "1. **Text generation**: Generating text that is coherent, natural-sounding, and relevant to a given topic or context.\n",
      "2. **Image generation**: Creating images that are realistic, detailed, and often indistinguishable from those taken by human photographers.\n",
      "3. **Music generation**: Composing music that sounds like it was written by a human musician, with its own melody, harmony, and rhythm.\n",
      "4. **Video generation**: Producing videos that are convincing, engaging, and often difficult to distinguish from those created by humans.\n",
      "\n",
      "Generative AI has many potential applications across industries, including:\n",
      "\n",
      "1. **Content creation**: Automating the process of creating content for social media, blogs, or other online platforms.\n",
      "2. **Artificial creativity**: Allowing artists to generate new ideas, inspiration, or even entire artworks.\n",
      "3. **Customer service**: Enabling chatbots and virtual assistants to respond to customers in a more personalized and human-like manner.\n",
      "4. **Data augmentation**: Generating synthetic data to supplement existing datasets, which can be used for training machine learning models.\n",
      "\n",
      "However, generative AI also raises important questions about the nature of creativity, originality, and authorship, as well as potential ethical concerns around bias, privacy, and intellectual property.\n",
      "\n",
      "Some popular examples of generative AI include:\n",
      "\n",
      "1. **Language models**: Models like OpenAI's GPT-3 and Meta AI's LLaMA can generate human-like text responses to user input.\n",
      "2. **Image generators**: Tools like DALL-E and Deep Dream can create realistic images based on textual descriptions or prompts.\n",
      "3. **Music composition**: Software like Amper Music and AIVA can compose original music tracks in various styles and genres.\n",
      "\n",
      "Overall, generative AI has the potential to revolutionize many industries and aspects of our lives, but it also requires careful consideration of its implications and limitations.\n"
     ]
    }
   ],
   "source": [
    "import requests\n",
    "import json\n",
    "\n",
    "# Replace this URL with your Ngrok URL\n",
    "ollama_url = \"https://7afd-35-196-177-10.ngrok-free.app\"\n",
    "\n",
    "def query_ollama(prompt, model=\"llama3\"):\n",
    "    headers = {\n",
    "        \"ngrok-skip-browser-warning\": \"true\"  # This header bypasses the Ngrok browser warning\n",
    "    }\n",
    "    data = {\n",
    "        \"prompt\": prompt,\n",
    "        \"model\": model\n",
    "    }\n",
    "    \n",
    "    # Stream the request to handle the sequence of JSON objects\n",
    "    response = requests.post(f\"{ollama_url}/api/generate\", json=data, headers=headers, stream=True)\n",
    "    \n",
    "    results = []\n",
    "    \n",
    "    # Process each line in the response as a separate JSON object\n",
    "    for line in response.iter_lines():\n",
    "        if line:\n",
    "            try:\n",
    "                json_response = json.loads(line.decode('utf-8'))\n",
    "                results.append(json_response)\n",
    "            except json.JSONDecodeError as e:\n",
    "                print(f\"Failed to decode JSON: {e}\")\n",
    "                continue\n",
    "    \n",
    "    return results\n",
    "\n",
    "# Test the connection with a specific model\n",
    "response = query_ollama(\"What is Generative Ai?\", model=\"llama3\")\n",
    "result = \"\"\n",
    "for r in response:\n",
    "    result += r['response']\n",
    "\n",
    "print(result)"
   ]
  }
 ],
 "metadata": {
  "kernelspec": {
   "display_name": "python12",
   "language": "python",
   "name": "python3"
  },
  "language_info": {
   "codemirror_mode": {
    "name": "ipython",
    "version": 3
   },
   "file_extension": ".py",
   "mimetype": "text/x-python",
   "name": "python",
   "nbconvert_exporter": "python",
   "pygments_lexer": "ipython3",
   "version": "3.12.0"
  }
 },
 "nbformat": 4,
 "nbformat_minor": 2
}
