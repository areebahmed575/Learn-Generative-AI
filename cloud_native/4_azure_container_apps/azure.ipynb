{
 "cells": [
  {
   "cell_type": "markdown",
   "metadata": {},
   "source": [
    "## Select the right code-to-cloud path for Azure Container Apps"
   ]
  },
  {
   "cell_type": "markdown",
   "metadata": {},
   "source": [
    "You have several options available as you develop and deploy your apps to Azure Container Apps. As you evaluate your goals and the needs of your team, consider the following questions.\n",
    "\n",
    "Are you new to containers?\n",
    "Is your focus more on your application or your infrastructure?\n",
    "Are you innovating rapidly or in a stable steady state with your application?\n",
    "Your answers to these questions affect your preferred development and deployment strategies. This article helps you select the most appropriate option for how you develop and deploy your applications to Azure Container Apps.\n",
    "\n",
    "Depending on your situation, you might want to deploy from a code editor, through the Azure portal, with a hosted code repository, or via infrastructure as code. However, if you're new to containers, you can learn more about how containers can help your development process."
   ]
  },
  {
   "cell_type": "markdown",
   "metadata": {},
   "source": [
    "## Code editor\n",
    "If you spend most your time editing code and favor rapid iteration of your applications, then you might want to use Visual Studio or Visual Studio Code. These editors allow you to easily build Docker files a deploy your applications directly to Azure Container Apps.\n",
    "\n",
    "This approach allows you to experiment with configuration options made in the early stages of an application's life.\n",
    "\n",
    "Once your application works as expected, then you can formalize the build process through your code repository to run and deploy your application."
   ]
  },
  {
   "cell_type": "markdown",
   "metadata": {},
   "source": [
    "Installed azure account  and azure container app registry extensions then on azure account extension click container apps create container app environment,then check environment on portal and then create container app from workspace,select dockerfile and then it ask permissions for container registry,click on OK and give name.Your app is deployed on Azure."
   ]
  },
  {
   "cell_type": "markdown",
   "metadata": {},
   "source": [
    "## Azure portal\n",
    "The Azure portal's focus is on setting up, changing, and experimenting with your Container Apps environment.\n",
    "\n",
    "While you can't use the portal to deploy your code, it's ideal for making incremental changes to your configuration. The portal's strengths lie in making it easy for you to set up, change, and experiment with your container app.\n",
    "\n",
    "You can also use the portal with Azure App Spaces to deploy your applications to Container Apps."
   ]
  },
  {
   "cell_type": "markdown",
   "metadata": {},
   "source": [
    "## Code repository\n",
    "GitHub and Azure DevOps repositories provide the most structured path to running your code on Azure Container Apps.\n",
    "\n",
    "As you maintain code in a repository, deployment takes place on the server rather than your local workstation. Remote execution engages safeguards to ensure your application is only updated through trusted channels."
   ]
  }
 ],
 "metadata": {
  "language_info": {
   "name": "python"
  }
 },
 "nbformat": 4,
 "nbformat_minor": 2
}
