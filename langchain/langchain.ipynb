{
 "cells": [
  {
   "cell_type": "markdown",
   "metadata": {},
   "source": [
    "# Langchain"
   ]
  },
  {
   "cell_type": "code",
   "execution_count": 6,
   "metadata": {},
   "outputs": [
    {
     "name": "stdout",
     "output_type": "stream",
     "text": [
      "Requirement already satisfied: python-dotenv in c:\\users\\dell\\appdata\\local\\programs\\python\\python312\\lib\\site-packages (from -r requirements.txt (line 1)) (1.0.1)\n",
      "Requirement already satisfied: openai in c:\\users\\dell\\appdata\\local\\programs\\python\\python312\\lib\\site-packages (from -r requirements.txt (line 2)) (1.35.10)\n",
      "Collecting langchain==0.0.225 (from -r requirements.txt (line 3))\n",
      "  Downloading langchain-0.0.225-py3-none-any.whl.metadata (13 kB)\n",
      "Requirement already satisfied: PyYAML>=5.4.1 in c:\\users\\dell\\appdata\\local\\programs\\python\\python312\\lib\\site-packages (from langchain==0.0.225->-r requirements.txt (line 3)) (6.0.1)\n",
      "Requirement already satisfied: SQLAlchemy<3,>=1.4 in c:\\users\\dell\\appdata\\local\\programs\\python\\python312\\lib\\site-packages (from langchain==0.0.225->-r requirements.txt (line 3)) (2.0.25)\n",
      "Collecting aiohttp<4.0.0,>=3.8.3 (from langchain==0.0.225->-r requirements.txt (line 3))\n",
      "  Using cached aiohttp-3.9.5-cp312-cp312-win_amd64.whl.metadata (7.7 kB)\n",
      "Collecting dataclasses-json<0.6.0,>=0.5.7 (from langchain==0.0.225->-r requirements.txt (line 3))\n",
      "  Downloading dataclasses_json-0.5.14-py3-none-any.whl.metadata (22 kB)\n",
      "Collecting langchainplus-sdk<0.0.21,>=0.0.20 (from langchain==0.0.225->-r requirements.txt (line 3))\n",
      "  Downloading langchainplus_sdk-0.0.20-py3-none-any.whl.metadata (8.7 kB)\n",
      "Collecting numexpr<3.0.0,>=2.8.4 (from langchain==0.0.225->-r requirements.txt (line 3))\n",
      "  Downloading numexpr-2.10.1-cp312-cp312-win_amd64.whl.metadata (1.3 kB)\n",
      "Collecting numpy<2,>=1 (from langchain==0.0.225->-r requirements.txt (line 3))\n",
      "  Using cached numpy-1.26.4-cp312-cp312-win_amd64.whl.metadata (61 kB)\n",
      "Collecting openapi-schema-pydantic<2.0,>=1.2 (from langchain==0.0.225->-r requirements.txt (line 3))\n",
      "  Downloading openapi_schema_pydantic-1.2.4-py3-none-any.whl.metadata (8.5 kB)\n",
      "Collecting pydantic<2,>=1 (from langchain==0.0.225->-r requirements.txt (line 3))\n",
      "  Downloading pydantic-1.10.17-cp312-cp312-win_amd64.whl.metadata (153 kB)\n",
      "     ---------------------------------------- 0.0/153.0 kB ? eta -:--:--\n",
      "     --------------------------- ---------- 112.6/153.0 kB 3.2 MB/s eta 0:00:01\n",
      "     -------------------------------------- 153.0/153.0 kB 2.3 MB/s eta 0:00:00\n",
      "Requirement already satisfied: requests<3,>=2 in c:\\users\\dell\\appdata\\local\\programs\\python\\python312\\lib\\site-packages (from langchain==0.0.225->-r requirements.txt (line 3)) (2.31.0)\n",
      "Collecting tenacity<9.0.0,>=8.1.0 (from langchain==0.0.225->-r requirements.txt (line 3))\n",
      "  Downloading tenacity-8.4.2-py3-none-any.whl.metadata (1.2 kB)\n",
      "Requirement already satisfied: anyio<5,>=3.5.0 in c:\\users\\dell\\appdata\\local\\programs\\python\\python312\\lib\\site-packages (from openai->-r requirements.txt (line 2)) (4.2.0)\n",
      "Requirement already satisfied: distro<2,>=1.7.0 in c:\\users\\dell\\appdata\\local\\programs\\python\\python312\\lib\\site-packages (from openai->-r requirements.txt (line 2)) (1.9.0)\n",
      "Requirement already satisfied: httpx<1,>=0.23.0 in c:\\users\\dell\\appdata\\local\\programs\\python\\python312\\lib\\site-packages (from openai->-r requirements.txt (line 2)) (0.27.0)\n",
      "Requirement already satisfied: sniffio in c:\\users\\dell\\appdata\\local\\programs\\python\\python312\\lib\\site-packages (from openai->-r requirements.txt (line 2)) (1.3.0)\n",
      "Requirement already satisfied: tqdm>4 in c:\\users\\dell\\appdata\\local\\programs\\python\\python312\\lib\\site-packages (from openai->-r requirements.txt (line 2)) (4.66.4)\n",
      "Requirement already satisfied: typing-extensions<5,>=4.7 in c:\\users\\dell\\appdata\\local\\programs\\python\\python312\\lib\\site-packages (from openai->-r requirements.txt (line 2)) (4.9.0)\n",
      "Collecting aiosignal>=1.1.2 (from aiohttp<4.0.0,>=3.8.3->langchain==0.0.225->-r requirements.txt (line 3))\n",
      "  Using cached aiosignal-1.3.1-py3-none-any.whl.metadata (4.0 kB)\n",
      "Collecting attrs>=17.3.0 (from aiohttp<4.0.0,>=3.8.3->langchain==0.0.225->-r requirements.txt (line 3))\n",
      "  Using cached attrs-23.2.0-py3-none-any.whl.metadata (9.5 kB)\n",
      "Collecting frozenlist>=1.1.1 (from aiohttp<4.0.0,>=3.8.3->langchain==0.0.225->-r requirements.txt (line 3))\n",
      "  Using cached frozenlist-1.4.1-cp312-cp312-win_amd64.whl.metadata (12 kB)\n",
      "Collecting multidict<7.0,>=4.5 (from aiohttp<4.0.0,>=3.8.3->langchain==0.0.225->-r requirements.txt (line 3))\n",
      "  Using cached multidict-6.0.5-cp312-cp312-win_amd64.whl.metadata (4.3 kB)\n",
      "Collecting yarl<2.0,>=1.0 (from aiohttp<4.0.0,>=3.8.3->langchain==0.0.225->-r requirements.txt (line 3))\n",
      "  Using cached yarl-1.9.4-cp312-cp312-win_amd64.whl.metadata (32 kB)\n",
      "Requirement already satisfied: idna>=2.8 in c:\\users\\dell\\appdata\\local\\programs\\python\\python312\\lib\\site-packages (from anyio<5,>=3.5.0->openai->-r requirements.txt (line 2)) (3.6)\n",
      "Collecting marshmallow<4.0.0,>=3.18.0 (from dataclasses-json<0.6.0,>=0.5.7->langchain==0.0.225->-r requirements.txt (line 3))\n",
      "  Downloading marshmallow-3.21.3-py3-none-any.whl.metadata (7.1 kB)\n",
      "Collecting typing-inspect<1,>=0.4.0 (from dataclasses-json<0.6.0,>=0.5.7->langchain==0.0.225->-r requirements.txt (line 3))\n",
      "  Using cached typing_inspect-0.9.0-py3-none-any.whl.metadata (1.5 kB)\n",
      "Requirement already satisfied: certifi in c:\\users\\dell\\appdata\\local\\programs\\python\\python312\\lib\\site-packages (from httpx<1,>=0.23.0->openai->-r requirements.txt (line 2)) (2023.11.17)\n",
      "Requirement already satisfied: httpcore==1.* in c:\\users\\dell\\appdata\\local\\programs\\python\\python312\\lib\\site-packages (from httpx<1,>=0.23.0->openai->-r requirements.txt (line 2)) (1.0.5)\n",
      "Requirement already satisfied: h11<0.15,>=0.13 in c:\\users\\dell\\appdata\\local\\programs\\python\\python312\\lib\\site-packages (from httpcore==1.*->httpx<1,>=0.23.0->openai->-r requirements.txt (line 2)) (0.14.0)\n",
      "Requirement already satisfied: charset-normalizer<4,>=2 in c:\\users\\dell\\appdata\\local\\programs\\python\\python312\\lib\\site-packages (from requests<3,>=2->langchain==0.0.225->-r requirements.txt (line 3)) (3.3.2)\n",
      "Requirement already satisfied: urllib3<3,>=1.21.1 in c:\\users\\dell\\appdata\\local\\programs\\python\\python312\\lib\\site-packages (from requests<3,>=2->langchain==0.0.225->-r requirements.txt (line 3)) (2.1.0)\n",
      "Requirement already satisfied: greenlet!=0.4.17 in c:\\users\\dell\\appdata\\local\\programs\\python\\python312\\lib\\site-packages (from SQLAlchemy<3,>=1.4->langchain==0.0.225->-r requirements.txt (line 3)) (3.0.3)\n",
      "Requirement already satisfied: colorama in c:\\users\\dell\\appdata\\roaming\\python\\python312\\site-packages (from tqdm>4->openai->-r requirements.txt (line 2)) (0.4.6)\n",
      "Requirement already satisfied: packaging>=17.0 in c:\\users\\dell\\appdata\\roaming\\python\\python312\\site-packages (from marshmallow<4.0.0,>=3.18.0->dataclasses-json<0.6.0,>=0.5.7->langchain==0.0.225->-r requirements.txt (line 3)) (23.2)\n",
      "Collecting mypy-extensions>=0.3.0 (from typing-inspect<1,>=0.4.0->dataclasses-json<0.6.0,>=0.5.7->langchain==0.0.225->-r requirements.txt (line 3))\n",
      "  Downloading mypy_extensions-1.0.0-py3-none-any.whl.metadata (1.1 kB)\n",
      "Downloading langchain-0.0.225-py3-none-any.whl (1.2 MB)\n",
      "   ---------------------------------------- 0.0/1.2 MB ? eta -:--:--\n",
      "   ----- ---------------------------------- 0.2/1.2 MB 3.5 MB/s eta 0:00:01\n",
      "   ---------- ----------------------------- 0.3/1.2 MB 3.3 MB/s eta 0:00:01\n",
      "   -------------- ------------------------- 0.5/1.2 MB 3.1 MB/s eta 0:00:01\n",
      "   -------------- ------------------------- 0.5/1.2 MB 3.1 MB/s eta 0:00:01\n",
      "   ----------------- ---------------------- 0.5/1.2 MB 2.4 MB/s eta 0:00:01\n",
      "   ---------------------- ----------------- 0.7/1.2 MB 2.5 MB/s eta 0:00:01\n",
      "   --------------------------- ------------ 0.8/1.2 MB 2.6 MB/s eta 0:00:01\n",
      "   ----------------------------- ---------- 0.9/1.2 MB 2.6 MB/s eta 0:00:01\n",
      "   ------------------------------- -------- 1.0/1.2 MB 2.4 MB/s eta 0:00:01\n",
      "   -------------------------------- ------- 1.0/1.2 MB 2.2 MB/s eta 0:00:01\n",
      "   ------------------------------------ --- 1.1/1.2 MB 2.2 MB/s eta 0:00:01\n",
      "   ------------------------------------ --- 1.1/1.2 MB 2.2 MB/s eta 0:00:01\n",
      "   ---------------------------------------  1.2/1.2 MB 2.0 MB/s eta 0:00:01\n",
      "   ---------------------------------------- 1.2/1.2 MB 2.0 MB/s eta 0:00:00\n",
      "Using cached aiohttp-3.9.5-cp312-cp312-win_amd64.whl (369 kB)\n",
      "Downloading dataclasses_json-0.5.14-py3-none-any.whl (26 kB)\n",
      "Downloading langchainplus_sdk-0.0.20-py3-none-any.whl (25 kB)\n",
      "Downloading numexpr-2.10.1-cp312-cp312-win_amd64.whl (141 kB)\n",
      "   ---------------------------------------- 0.0/141.3 kB ? eta -:--:--\n",
      "   ---------------------------------- ----- 122.9/141.3 kB 3.6 MB/s eta 0:00:01\n",
      "   ---------------------------------------- 141.3/141.3 kB 2.1 MB/s eta 0:00:00\n",
      "Using cached numpy-1.26.4-cp312-cp312-win_amd64.whl (15.5 MB)\n",
      "Downloading openapi_schema_pydantic-1.2.4-py3-none-any.whl (90 kB)\n",
      "   ---------------------------------------- 0.0/90.0 kB ? eta -:--:--\n",
      "   ---------------------------------------- 90.0/90.0 kB 2.6 MB/s eta 0:00:00\n",
      "Downloading pydantic-1.10.17-cp312-cp312-win_amd64.whl (1.9 MB)\n",
      "   ---------------------------------------- 0.0/1.9 MB ? eta -:--:--\n",
      "   -- ------------------------------------- 0.1/1.9 MB 2.8 MB/s eta 0:00:01\n",
      "   ------ --------------------------------- 0.3/1.9 MB 3.3 MB/s eta 0:00:01\n",
      "   -------- ------------------------------- 0.4/1.9 MB 3.3 MB/s eta 0:00:01\n",
      "   ------------ --------------------------- 0.6/1.9 MB 3.1 MB/s eta 0:00:01\n",
      "   -------------- ------------------------- 0.7/1.9 MB 3.0 MB/s eta 0:00:01\n",
      "   ---------------- ----------------------- 0.8/1.9 MB 2.7 MB/s eta 0:00:01\n",
      "   ----------------- ---------------------- 0.8/1.9 MB 2.5 MB/s eta 0:00:01\n",
      "   ----------------- ---------------------- 0.8/1.9 MB 2.5 MB/s eta 0:00:01\n",
      "   ----------------- ---------------------- 0.8/1.9 MB 2.5 MB/s eta 0:00:01\n",
      "   -------------------- ------------------- 1.0/1.9 MB 2.0 MB/s eta 0:00:01\n",
      "   ---------------------- ----------------- 1.1/1.9 MB 2.1 MB/s eta 0:00:01\n",
      "   ------------------------ --------------- 1.2/1.9 MB 2.1 MB/s eta 0:00:01\n",
      "   ------------------------- -------------- 1.2/1.9 MB 2.0 MB/s eta 0:00:01\n",
      "   --------------------------- ------------ 1.3/1.9 MB 2.0 MB/s eta 0:00:01\n",
      "   ---------------------------- ----------- 1.4/1.9 MB 2.0 MB/s eta 0:00:01\n",
      "   ----------------------------- ---------- 1.5/1.9 MB 2.0 MB/s eta 0:00:01\n",
      "   ------------------------------- -------- 1.5/1.9 MB 1.9 MB/s eta 0:00:01\n",
      "   -------------------------------- ------- 1.6/1.9 MB 1.9 MB/s eta 0:00:01\n",
      "   ---------------------------------- ----- 1.7/1.9 MB 1.9 MB/s eta 0:00:01\n",
      "   ----------------------------------- ---- 1.7/1.9 MB 1.8 MB/s eta 0:00:01\n",
      "   ----------------------------------- ---- 1.7/1.9 MB 1.8 MB/s eta 0:00:01\n",
      "   ----------------------------------- ---- 1.7/1.9 MB 1.8 MB/s eta 0:00:01\n",
      "   -------------------------------------- - 1.9/1.9 MB 1.7 MB/s eta 0:00:01\n",
      "   ---------------------------------------  1.9/1.9 MB 1.7 MB/s eta 0:00:01\n",
      "   ---------------------------------------- 1.9/1.9 MB 1.7 MB/s eta 0:00:00\n",
      "Downloading tenacity-8.4.2-py3-none-any.whl (28 kB)\n",
      "Using cached aiosignal-1.3.1-py3-none-any.whl (7.6 kB)\n",
      "Using cached attrs-23.2.0-py3-none-any.whl (60 kB)\n",
      "Using cached frozenlist-1.4.1-cp312-cp312-win_amd64.whl (50 kB)\n",
      "Downloading marshmallow-3.21.3-py3-none-any.whl (49 kB)\n",
      "   ---------------------------------------- 0.0/49.2 kB ? eta -:--:--\n",
      "   ---------------------------------------- 49.2/49.2 kB 2.4 MB/s eta 0:00:00\n",
      "Using cached multidict-6.0.5-cp312-cp312-win_amd64.whl (27 kB)\n",
      "Using cached typing_inspect-0.9.0-py3-none-any.whl (8.8 kB)\n",
      "Using cached yarl-1.9.4-cp312-cp312-win_amd64.whl (76 kB)\n",
      "Using cached mypy_extensions-1.0.0-py3-none-any.whl (4.7 kB)\n",
      "Installing collected packages: tenacity, pydantic, numpy, mypy-extensions, multidict, marshmallow, frozenlist, attrs, yarl, typing-inspect, openapi-schema-pydantic, numexpr, langchainplus-sdk, aiosignal, dataclasses-json, aiohttp, langchain\n",
      "  Attempting uninstall: pydantic\n",
      "    Found existing installation: pydantic 2.5.3\n",
      "    Uninstalling pydantic-2.5.3:\n",
      "      Successfully uninstalled pydantic-2.5.3\n",
      "Successfully installed aiohttp-3.9.5 aiosignal-1.3.1 attrs-23.2.0 dataclasses-json-0.5.14 frozenlist-1.4.1 langchain-0.0.225 langchainplus-sdk-0.0.20 marshmallow-3.21.3 multidict-6.0.5 mypy-extensions-1.0.0 numexpr-2.10.1 numpy-1.26.4 openapi-schema-pydantic-1.2.4 pydantic-1.10.17 tenacity-8.4.2 typing-inspect-0.9.0 yarl-1.9.4\n",
      "Note: you may need to restart the kernel to use updated packages.\n"
     ]
    }
   ],
   "source": [
    "%pip install -r requirements.txt"
   ]
  },
  {
   "cell_type": "code",
   "execution_count": 8,
   "metadata": {},
   "outputs": [
    {
     "name": "stdout",
     "output_type": "stream",
     "text": [
      "Requirement already satisfied: langchain in c:\\users\\dell\\appdata\\local\\programs\\python\\python312\\lib\\site-packages (0.0.225)\n",
      "Collecting langchain\n",
      "  Using cached langchain-0.2.6-py3-none-any.whl.metadata (7.0 kB)\n",
      "Requirement already satisfied: PyYAML>=5.3 in c:\\users\\dell\\appdata\\local\\programs\\python\\python312\\lib\\site-packages (from langchain) (6.0.1)\n",
      "Requirement already satisfied: SQLAlchemy<3,>=1.4 in c:\\users\\dell\\appdata\\local\\programs\\python\\python312\\lib\\site-packages (from langchain) (2.0.25)\n",
      "Requirement already satisfied: aiohttp<4.0.0,>=3.8.3 in c:\\users\\dell\\appdata\\local\\programs\\python\\python312\\lib\\site-packages (from langchain) (3.9.5)\n",
      "Collecting langchain-core<0.3.0,>=0.2.10 (from langchain)\n",
      "  Using cached langchain_core-0.2.11-py3-none-any.whl.metadata (6.0 kB)\n",
      "Collecting langchain-text-splitters<0.3.0,>=0.2.0 (from langchain)\n",
      "  Using cached langchain_text_splitters-0.2.2-py3-none-any.whl.metadata (2.1 kB)\n",
      "Collecting langsmith<0.2.0,>=0.1.17 (from langchain)\n",
      "  Using cached langsmith-0.1.83-py3-none-any.whl.metadata (13 kB)\n",
      "Requirement already satisfied: numpy<2.0.0,>=1.26.0 in c:\\users\\dell\\appdata\\local\\programs\\python\\python312\\lib\\site-packages (from langchain) (1.26.4)\n",
      "Requirement already satisfied: pydantic<3,>=1 in c:\\users\\dell\\appdata\\local\\programs\\python\\python312\\lib\\site-packages (from langchain) (1.10.17)\n",
      "Requirement already satisfied: requests<3,>=2 in c:\\users\\dell\\appdata\\local\\programs\\python\\python312\\lib\\site-packages (from langchain) (2.31.0)\n",
      "Requirement already satisfied: tenacity!=8.4.0,<9.0.0,>=8.1.0 in c:\\users\\dell\\appdata\\local\\programs\\python\\python312\\lib\\site-packages (from langchain) (8.4.2)\n",
      "Requirement already satisfied: aiosignal>=1.1.2 in c:\\users\\dell\\appdata\\local\\programs\\python\\python312\\lib\\site-packages (from aiohttp<4.0.0,>=3.8.3->langchain) (1.3.1)\n",
      "Requirement already satisfied: attrs>=17.3.0 in c:\\users\\dell\\appdata\\local\\programs\\python\\python312\\lib\\site-packages (from aiohttp<4.0.0,>=3.8.3->langchain) (23.2.0)\n",
      "Requirement already satisfied: frozenlist>=1.1.1 in c:\\users\\dell\\appdata\\local\\programs\\python\\python312\\lib\\site-packages (from aiohttp<4.0.0,>=3.8.3->langchain) (1.4.1)\n",
      "Requirement already satisfied: multidict<7.0,>=4.5 in c:\\users\\dell\\appdata\\local\\programs\\python\\python312\\lib\\site-packages (from aiohttp<4.0.0,>=3.8.3->langchain) (6.0.5)\n",
      "Requirement already satisfied: yarl<2.0,>=1.0 in c:\\users\\dell\\appdata\\local\\programs\\python\\python312\\lib\\site-packages (from aiohttp<4.0.0,>=3.8.3->langchain) (1.9.4)\n",
      "Collecting jsonpatch<2.0,>=1.33 (from langchain-core<0.3.0,>=0.2.10->langchain)\n",
      "  Using cached jsonpatch-1.33-py2.py3-none-any.whl.metadata (3.0 kB)\n",
      "Requirement already satisfied: packaging<25,>=23.2 in c:\\users\\dell\\appdata\\roaming\\python\\python312\\site-packages (from langchain-core<0.3.0,>=0.2.10->langchain) (23.2)\n",
      "Collecting orjson<4.0.0,>=3.9.14 (from langsmith<0.2.0,>=0.1.17->langchain)\n",
      "  Using cached orjson-3.10.6-cp312-none-win_amd64.whl.metadata (51 kB)\n",
      "Requirement already satisfied: typing-extensions>=4.2.0 in c:\\users\\dell\\appdata\\local\\programs\\python\\python312\\lib\\site-packages (from pydantic<3,>=1->langchain) (4.9.0)\n",
      "Requirement already satisfied: charset-normalizer<4,>=2 in c:\\users\\dell\\appdata\\local\\programs\\python\\python312\\lib\\site-packages (from requests<3,>=2->langchain) (3.3.2)\n",
      "Requirement already satisfied: idna<4,>=2.5 in c:\\users\\dell\\appdata\\local\\programs\\python\\python312\\lib\\site-packages (from requests<3,>=2->langchain) (3.6)\n",
      "Requirement already satisfied: urllib3<3,>=1.21.1 in c:\\users\\dell\\appdata\\local\\programs\\python\\python312\\lib\\site-packages (from requests<3,>=2->langchain) (2.1.0)\n",
      "Requirement already satisfied: certifi>=2017.4.17 in c:\\users\\dell\\appdata\\local\\programs\\python\\python312\\lib\\site-packages (from requests<3,>=2->langchain) (2023.11.17)\n",
      "Requirement already satisfied: greenlet!=0.4.17 in c:\\users\\dell\\appdata\\local\\programs\\python\\python312\\lib\\site-packages (from SQLAlchemy<3,>=1.4->langchain) (3.0.3)\n",
      "Collecting jsonpointer>=1.9 (from jsonpatch<2.0,>=1.33->langchain-core<0.3.0,>=0.2.10->langchain)\n",
      "  Using cached jsonpointer-3.0.0-py2.py3-none-any.whl.metadata (2.3 kB)\n",
      "Using cached langchain-0.2.6-py3-none-any.whl (975 kB)\n",
      "Downloading langchain_core-0.2.11-py3-none-any.whl (337 kB)\n",
      "   ---------------------------------------- 0.0/337.4 kB ? eta -:--:--\n",
      "   ---------------------------------------- 0.0/337.4 kB ? eta -:--:--\n",
      "   ---------------------------------------- 0.0/337.4 kB ? eta -:--:--\n",
      "   ---------------------------------------- 0.0/337.4 kB ? eta -:--:--\n",
      "   ---------------------------------------- 0.0/337.4 kB ? eta -:--:--\n",
      "   ---------------------------------------- 0.0/337.4 kB ? eta -:--:--\n",
      "   ---------------------------------------- 0.0/337.4 kB ? eta -:--:--\n",
      "   ---- ----------------------------------- 41.0/337.4 kB 2.0 MB/s eta 0:00:01\n",
      "   ---- ----------------------------------- 41.0/337.4 kB 2.0 MB/s eta 0:00:01\n",
      "   ---- ----------------------------------- 41.0/337.4 kB 2.0 MB/s eta 0:00:01\n",
      "   ---- ----------------------------------- 41.0/337.4 kB 2.0 MB/s eta 0:00:01\n",
      "   ---- ----------------------------------- 41.0/337.4 kB 2.0 MB/s eta 0:00:01\n",
      "   ---- ----------------------------------- 41.0/337.4 kB 2.0 MB/s eta 0:00:01\n",
      "   ---- ----------------------------------- 41.0/337.4 kB 2.0 MB/s eta 0:00:01\n",
      "   ---- ----------------------------------- 41.0/337.4 kB 2.0 MB/s eta 0:00:01\n",
      "   ---- ----------------------------------- 41.0/337.4 kB 2.0 MB/s eta 0:00:01\n",
      "   --------- ----------------------------- 81.9/337.4 kB 164.0 kB/s eta 0:00:02\n",
      "   --------- ----------------------------- 81.9/337.4 kB 164.0 kB/s eta 0:00:02\n",
      "   --------- ----------------------------- 81.9/337.4 kB 164.0 kB/s eta 0:00:02\n",
      "   --------- ----------------------------- 81.9/337.4 kB 164.0 kB/s eta 0:00:02\n",
      "   --------- ----------------------------- 81.9/337.4 kB 164.0 kB/s eta 0:00:02\n",
      "   --------- ----------------------------- 81.9/337.4 kB 164.0 kB/s eta 0:00:02\n",
      "   --------- ----------------------------- 81.9/337.4 kB 164.0 kB/s eta 0:00:02\n",
      "   --------- ----------------------------- 81.9/337.4 kB 164.0 kB/s eta 0:00:02\n",
      "   --------- ----------------------------- 81.9/337.4 kB 164.0 kB/s eta 0:00:02\n",
      "   ------------ ------------------------- 112.6/337.4 kB 113.0 kB/s eta 0:00:02\n",
      "   ------------- ------------------------ 122.9/337.4 kB 118.2 kB/s eta 0:00:02\n",
      "   ------------- ------------------------ 122.9/337.4 kB 118.2 kB/s eta 0:00:02\n",
      "   ------------- ------------------------ 122.9/337.4 kB 118.2 kB/s eta 0:00:02\n",
      "   ------------- ------------------------ 122.9/337.4 kB 118.2 kB/s eta 0:00:02\n",
      "   ------------- ------------------------ 122.9/337.4 kB 118.2 kB/s eta 0:00:02\n",
      "   ---------------- --------------------- 143.4/337.4 kB 112.1 kB/s eta 0:00:02\n",
      "   ---------------- --------------------- 143.4/337.4 kB 112.1 kB/s eta 0:00:02\n",
      "   ---------------- --------------------- 143.4/337.4 kB 112.1 kB/s eta 0:00:02\n",
      "   ---------------- --------------------- 143.4/337.4 kB 112.1 kB/s eta 0:00:02\n",
      "   ----------------- -------------------- 153.6/337.4 kB 100.9 kB/s eta 0:00:02\n",
      "   ------------------- ------------------ 174.1/337.4 kB 114.0 kB/s eta 0:00:02\n",
      "   ------------------- ------------------ 174.1/337.4 kB 114.0 kB/s eta 0:00:02\n",
      "   ------------------- ------------------ 174.1/337.4 kB 114.0 kB/s eta 0:00:02\n",
      "   ------------------- ------------------ 174.1/337.4 kB 114.0 kB/s eta 0:00:02\n",
      "   ------------------- ------------------ 174.1/337.4 kB 114.0 kB/s eta 0:00:02\n",
      "   ------------------- ------------------ 174.1/337.4 kB 114.0 kB/s eta 0:00:02\n",
      "   ------------------- ------------------ 174.1/337.4 kB 114.0 kB/s eta 0:00:02\n",
      "   --------------------- ---------------- 194.6/337.4 kB 102.6 kB/s eta 0:00:02\n",
      "   --------------------- ---------------- 194.6/337.4 kB 102.6 kB/s eta 0:00:02\n",
      "   --------------------- ---------------- 194.6/337.4 kB 102.6 kB/s eta 0:00:02\n",
      "   --------------------- ---------------- 194.6/337.4 kB 102.6 kB/s eta 0:00:02\n",
      "   --------------------- ---------------- 194.6/337.4 kB 102.6 kB/s eta 0:00:02\n",
      "   --------------------- ---------------- 194.6/337.4 kB 102.6 kB/s eta 0:00:02\n",
      "   --------------------- ---------------- 194.6/337.4 kB 102.6 kB/s eta 0:00:02\n",
      "   --------------------- ---------------- 194.6/337.4 kB 102.6 kB/s eta 0:00:02\n",
      "   --------------------- ---------------- 194.6/337.4 kB 102.6 kB/s eta 0:00:02\n",
      "   --------------------- ---------------- 194.6/337.4 kB 102.6 kB/s eta 0:00:02\n",
      "   --------------------- ---------------- 194.6/337.4 kB 102.6 kB/s eta 0:00:02\n",
      "   ----------------------- --------------- 204.8/337.4 kB 83.0 kB/s eta 0:00:02\n",
      "   ----------------------- --------------- 204.8/337.4 kB 83.0 kB/s eta 0:00:02\n",
      "   ----------------------- --------------- 204.8/337.4 kB 83.0 kB/s eta 0:00:02\n",
      "   ----------------------- --------------- 204.8/337.4 kB 83.0 kB/s eta 0:00:02\n",
      "   ----------------------- --------------- 204.8/337.4 kB 83.0 kB/s eta 0:00:02\n",
      "   ----------------------- --------------- 204.8/337.4 kB 83.0 kB/s eta 0:00:02\n",
      "   ----------------------- --------------- 204.8/337.4 kB 83.0 kB/s eta 0:00:02\n",
      "   ----------------------- --------------- 204.8/337.4 kB 83.0 kB/s eta 0:00:02\n",
      "   ----------------------- --------------- 204.8/337.4 kB 83.0 kB/s eta 0:00:02\n",
      "   ----------------------- --------------- 204.8/337.4 kB 83.0 kB/s eta 0:00:02\n",
      "   ----------------------- --------------- 204.8/337.4 kB 83.0 kB/s eta 0:00:02\n",
      "   ----------------------- --------------- 204.8/337.4 kB 83.0 kB/s eta 0:00:02\n",
      "   ----------------------- --------------- 204.8/337.4 kB 83.0 kB/s eta 0:00:02\n",
      "   -------------------------- ------------ 225.3/337.4 kB 71.3 kB/s eta 0:00:02\n",
      "   -------------------------- ------------ 225.3/337.4 kB 71.3 kB/s eta 0:00:02\n",
      "   -------------------------- ------------ 225.3/337.4 kB 71.3 kB/s eta 0:00:02\n",
      "   -------------------------- ------------ 225.3/337.4 kB 71.3 kB/s eta 0:00:02\n",
      "   -------------------------- ------------ 225.3/337.4 kB 71.3 kB/s eta 0:00:02\n",
      "   -------------------------- ------------ 225.3/337.4 kB 71.3 kB/s eta 0:00:02\n",
      "   -------------------------- ------------ 225.3/337.4 kB 71.3 kB/s eta 0:00:02\n",
      "   -------------------------- ------------ 225.3/337.4 kB 71.3 kB/s eta 0:00:02\n",
      "   -------------------------- ------------ 225.3/337.4 kB 71.3 kB/s eta 0:00:02\n",
      "   -------------------------- ------------ 225.3/337.4 kB 71.3 kB/s eta 0:00:02\n",
      "   -------------------------- ------------ 225.3/337.4 kB 71.3 kB/s eta 0:00:02\n",
      "   -------------------------- ------------ 225.3/337.4 kB 71.3 kB/s eta 0:00:02\n",
      "   -------------------------- ------------ 225.3/337.4 kB 71.3 kB/s eta 0:00:02\n",
      "   -------------------------- ------------ 225.3/337.4 kB 71.3 kB/s eta 0:00:02\n",
      "   ---------------------------- ---------- 245.8/337.4 kB 63.9 kB/s eta 0:00:02\n",
      "   ---------------------------- ---------- 245.8/337.4 kB 63.9 kB/s eta 0:00:02\n",
      "   ---------------------------- ---------- 245.8/337.4 kB 63.9 kB/s eta 0:00:02\n",
      "   ---------------------------- ---------- 245.8/337.4 kB 63.9 kB/s eta 0:00:02\n",
      "   ---------------------------- ---------- 245.8/337.4 kB 63.9 kB/s eta 0:00:02\n",
      "   ---------------------------- ---------- 245.8/337.4 kB 63.9 kB/s eta 0:00:02\n",
      "   ---------------------------- ---------- 245.8/337.4 kB 63.9 kB/s eta 0:00:02\n",
      "   ---------------------------- ---------- 245.8/337.4 kB 63.9 kB/s eta 0:00:02\n",
      "   ---------------------------- ---------- 245.8/337.4 kB 63.9 kB/s eta 0:00:02\n",
      "   ---------------------------- ---------- 245.8/337.4 kB 63.9 kB/s eta 0:00:02\n",
      "   ---------------------------- ---------- 245.8/337.4 kB 63.9 kB/s eta 0:00:02\n",
      "   ---------------------------- ---------- 245.8/337.4 kB 63.9 kB/s eta 0:00:02\n",
      "   ---------------------------- ---------- 245.8/337.4 kB 63.9 kB/s eta 0:00:02\n",
      "   ---------------------------- ---------- 245.8/337.4 kB 63.9 kB/s eta 0:00:02\n",
      "   ---------------------------- ---------- 245.8/337.4 kB 63.9 kB/s eta 0:00:02\n",
      "   ---------------------------- ---------- 245.8/337.4 kB 63.9 kB/s eta 0:00:02\n",
      "   ---------------------------- ---------- 245.8/337.4 kB 63.9 kB/s eta 0:00:02\n",
      "   ---------------------------- ---------- 245.8/337.4 kB 63.9 kB/s eta 0:00:02\n",
      "   ---------------------------- ---------- 245.8/337.4 kB 63.9 kB/s eta 0:00:02\n",
      "   ---------------------------- ---------- 245.8/337.4 kB 63.9 kB/s eta 0:00:02\n",
      "   ---------------------------- ---------- 245.8/337.4 kB 63.9 kB/s eta 0:00:02\n",
      "   ---------------------------- ---------- 245.8/337.4 kB 63.9 kB/s eta 0:00:02\n",
      "   ---------------------------- ---------- 245.8/337.4 kB 63.9 kB/s eta 0:00:02\n",
      "   ---------------------------- ---------- 245.8/337.4 kB 63.9 kB/s eta 0:00:02\n",
      "   ---------------------------- ---------- 245.8/337.4 kB 63.9 kB/s eta 0:00:02\n",
      "   ---------------------------- ---------- 245.8/337.4 kB 63.9 kB/s eta 0:00:02\n",
      "   ---------------------------- ---------- 245.8/337.4 kB 63.9 kB/s eta 0:00:02\n",
      "   ---------------------------- ---------- 245.8/337.4 kB 63.9 kB/s eta 0:00:02\n",
      "   ---------------------------- ---------- 245.8/337.4 kB 63.9 kB/s eta 0:00:02\n",
      "   ---------------------------- ---------- 245.8/337.4 kB 63.9 kB/s eta 0:00:02\n",
      "   ---------------------------- ---------- 245.8/337.4 kB 63.9 kB/s eta 0:00:02\n",
      "   ---------------------------- ---------- 245.8/337.4 kB 63.9 kB/s eta 0:00:02\n",
      "   ---------------------------- ---------- 245.8/337.4 kB 63.9 kB/s eta 0:00:02\n",
      "   ---------------------------- ---------- 245.8/337.4 kB 63.9 kB/s eta 0:00:02\n",
      "   ---------------------------- ---------- 245.8/337.4 kB 63.9 kB/s eta 0:00:02\n",
      "   ---------------------------- ---------- 245.8/337.4 kB 63.9 kB/s eta 0:00:02\n",
      "   ---------------------------- ---------- 245.8/337.4 kB 63.9 kB/s eta 0:00:02\n",
      "   ---------------------------- ---------- 245.8/337.4 kB 63.9 kB/s eta 0:00:02\n",
      "   ---------------------------- ---------- 245.8/337.4 kB 63.9 kB/s eta 0:00:02\n",
      "   ---------------------------- ---------- 245.8/337.4 kB 63.9 kB/s eta 0:00:02\n",
      "   ---------------------------- ---------- 245.8/337.4 kB 63.9 kB/s eta 0:00:02\n",
      "   ---------------------------- ---------- 245.8/337.4 kB 63.9 kB/s eta 0:00:02\n",
      "   ---------------------------- ---------- 245.8/337.4 kB 63.9 kB/s eta 0:00:02\n",
      "   ---------------------------- ---------- 245.8/337.4 kB 63.9 kB/s eta 0:00:02\n",
      "   ------------------------------ -------- 266.2/337.4 kB 43.6 kB/s eta 0:00:02\n",
      "   ------------------------------ -------- 266.2/337.4 kB 43.6 kB/s eta 0:00:02\n",
      "   ------------------------------ -------- 266.2/337.4 kB 43.6 kB/s eta 0:00:02\n",
      "   ------------------------------ -------- 266.2/337.4 kB 43.6 kB/s eta 0:00:02\n",
      "   ------------------------------ -------- 266.2/337.4 kB 43.6 kB/s eta 0:00:02\n",
      "   ------------------------------ -------- 266.2/337.4 kB 43.6 kB/s eta 0:00:02\n",
      "   ------------------------------ -------- 266.2/337.4 kB 43.6 kB/s eta 0:00:02\n",
      "   ------------------------------ -------- 266.2/337.4 kB 43.6 kB/s eta 0:00:02\n",
      "   ------------------------------ -------- 266.2/337.4 kB 43.6 kB/s eta 0:00:02\n",
      "   ------------------------------ -------- 266.2/337.4 kB 43.6 kB/s eta 0:00:02\n",
      "   ------------------------------ -------- 266.2/337.4 kB 43.6 kB/s eta 0:00:02\n",
      "   ------------------------------ -------- 266.2/337.4 kB 43.6 kB/s eta 0:00:02\n",
      "   ------------------------------ -------- 266.2/337.4 kB 43.6 kB/s eta 0:00:02\n",
      "   ------------------------------ -------- 266.2/337.4 kB 43.6 kB/s eta 0:00:02\n",
      "   ------------------------------ -------- 266.2/337.4 kB 43.6 kB/s eta 0:00:02\n",
      "   ------------------------------ -------- 266.2/337.4 kB 43.6 kB/s eta 0:00:02\n",
      "   ------------------------------ -------- 266.2/337.4 kB 43.6 kB/s eta 0:00:02\n",
      "   ------------------------------ -------- 266.2/337.4 kB 43.6 kB/s eta 0:00:02\n",
      "   ------------------------------ -------- 266.2/337.4 kB 43.6 kB/s eta 0:00:02\n",
      "   ------------------------------ -------- 266.2/337.4 kB 43.6 kB/s eta 0:00:02\n",
      "   ------------------------------ -------- 266.2/337.4 kB 43.6 kB/s eta 0:00:02\n",
      "   ------------------------------ -------- 266.2/337.4 kB 43.6 kB/s eta 0:00:02\n",
      "   ------------------------------ -------- 266.2/337.4 kB 43.6 kB/s eta 0:00:02\n",
      "   ------------------------------ -------- 266.2/337.4 kB 43.6 kB/s eta 0:00:02\n",
      "   ------------------------------ -------- 266.2/337.4 kB 43.6 kB/s eta 0:00:02\n",
      "   --------------------------------- ----- 286.7/337.4 kB 38.7 kB/s eta 0:00:02\n",
      "   --------------------------------- ----- 286.7/337.4 kB 38.7 kB/s eta 0:00:02\n",
      "   --------------------------------- ----- 286.7/337.4 kB 38.7 kB/s eta 0:00:02\n",
      "   --------------------------------- ----- 286.7/337.4 kB 38.7 kB/s eta 0:00:02\n",
      "   --------------------------------- ----- 286.7/337.4 kB 38.7 kB/s eta 0:00:02\n",
      "   --------------------------------- ----- 286.7/337.4 kB 38.7 kB/s eta 0:00:02\n",
      "   --------------------------------- ----- 286.7/337.4 kB 38.7 kB/s eta 0:00:02\n",
      "   --------------------------------- ----- 286.7/337.4 kB 38.7 kB/s eta 0:00:02\n",
      "   --------------------------------- ----- 286.7/337.4 kB 38.7 kB/s eta 0:00:02\n",
      "   --------------------------------- ----- 286.7/337.4 kB 38.7 kB/s eta 0:00:02\n",
      "   --------------------------------- ----- 286.7/337.4 kB 38.7 kB/s eta 0:00:02\n",
      "   --------------------------------- ----- 286.7/337.4 kB 38.7 kB/s eta 0:00:02\n",
      "   --------------------------------- ----- 286.7/337.4 kB 38.7 kB/s eta 0:00:02\n",
      "   --------------------------------- ----- 286.7/337.4 kB 38.7 kB/s eta 0:00:02\n",
      "   ---------------------------------- ---- 297.0/337.4 kB 36.6 kB/s eta 0:00:02\n",
      "   ---------------------------------- ---- 297.0/337.4 kB 36.6 kB/s eta 0:00:02\n",
      "   ---------------------------------- ---- 297.0/337.4 kB 36.6 kB/s eta 0:00:02\n",
      "   ---------------------------------- ---- 297.0/337.4 kB 36.6 kB/s eta 0:00:02\n",
      "   ---------------------------------- ---- 297.0/337.4 kB 36.6 kB/s eta 0:00:02\n",
      "   ---------------------------------- ---- 297.0/337.4 kB 36.6 kB/s eta 0:00:02\n",
      "   ---------------------------------- ---- 297.0/337.4 kB 36.6 kB/s eta 0:00:02\n",
      "   ---------------------------------- ---- 297.0/337.4 kB 36.6 kB/s eta 0:00:02\n",
      "   ---------------------------------- ---- 297.0/337.4 kB 36.6 kB/s eta 0:00:02\n",
      "   ---------------------------------- ---- 297.0/337.4 kB 36.6 kB/s eta 0:00:02\n",
      "   ---------------------------------- ---- 297.0/337.4 kB 36.6 kB/s eta 0:00:02\n",
      "   ---------------------------------- ---- 297.0/337.4 kB 36.6 kB/s eta 0:00:02\n",
      "   ------------------------------------ -- 317.4/337.4 kB 36.4 kB/s eta 0:00:01\n",
      "   ------------------------------------ -- 317.4/337.4 kB 36.4 kB/s eta 0:00:01\n",
      "   ------------------------------------ -- 317.4/337.4 kB 36.4 kB/s eta 0:00:01\n",
      "   ------------------------------------ -- 317.4/337.4 kB 36.4 kB/s eta 0:00:01\n",
      "   ------------------------------------ -- 317.4/337.4 kB 36.4 kB/s eta 0:00:01\n",
      "   ------------------------------------ -- 317.4/337.4 kB 36.4 kB/s eta 0:00:01\n",
      "   ------------------------------------ -- 317.4/337.4 kB 36.4 kB/s eta 0:00:01\n",
      "   ------------------------------------ -- 317.4/337.4 kB 36.4 kB/s eta 0:00:01\n",
      "   ------------------------------------ -- 317.4/337.4 kB 36.4 kB/s eta 0:00:01\n",
      "   ------------------------------------ -- 317.4/337.4 kB 36.4 kB/s eta 0:00:01\n",
      "   ------------------------------------ -- 317.4/337.4 kB 36.4 kB/s eta 0:00:01\n",
      "   ------------------------------------- - 327.7/337.4 kB 35.4 kB/s eta 0:00:01\n",
      "   --------------------------------------- 337.4/337.4 kB 36.2 kB/s eta 0:00:00\n",
      "Downloading langchain_text_splitters-0.2.2-py3-none-any.whl (25 kB)\n",
      "Downloading langsmith-0.1.83-py3-none-any.whl (127 kB)\n",
      "   ---------------------------------------- 0.0/127.5 kB ? eta -:--:--\n",
      "   ---------------------------------------- 0.0/127.5 kB ? eta -:--:--\n",
      "   ---------------------------------------- 0.0/127.5 kB ? eta -:--:--\n",
      "   ---------------------------------------- 0.0/127.5 kB ? eta -:--:--\n",
      "   ---------------------------------------- 0.0/127.5 kB ? eta -:--:--\n",
      "   ---------------------------------------- 0.0/127.5 kB ? eta -:--:--\n",
      "   ---------------------------------------- 0.0/127.5 kB ? eta -:--:--\n",
      "   ---------------------------------------- 0.0/127.5 kB ? eta -:--:--\n",
      "   ---------------------------------------- 0.0/127.5 kB ? eta -:--:--\n",
      "   ---------------------------------------- 0.0/127.5 kB ? eta -:--:--\n",
      "   --- ------------------------------------ 10.2/127.5 kB ? eta -:--:--\n",
      "   --- ------------------------------------ 10.2/127.5 kB ? eta -:--:--\n",
      "   --- ------------------------------------ 10.2/127.5 kB ? eta -:--:--\n",
      "   --- ------------------------------------ 10.2/127.5 kB ? eta -:--:--\n",
      "   --- ------------------------------------ 10.2/127.5 kB ? eta -:--:--\n",
      "   --- ------------------------------------ 10.2/127.5 kB ? eta -:--:--\n",
      "   --- ------------------------------------ 10.2/127.5 kB ? eta -:--:--\n",
      "   --- ------------------------------------ 10.2/127.5 kB ? eta -:--:--\n",
      "   --- ------------------------------------ 10.2/127.5 kB ? eta -:--:--\n",
      "   --- ------------------------------------ 10.2/127.5 kB ? eta -:--:--\n",
      "   --- ------------------------------------ 10.2/127.5 kB ? eta -:--:--\n",
      "   --- ------------------------------------ 10.2/127.5 kB ? eta -:--:--\n",
      "   --- ------------------------------------ 10.2/127.5 kB ? eta -:--:--\n",
      "   --------- ------------------------------ 30.7/127.5 kB 34.5 kB/s eta 0:00:03\n",
      "   --------- ------------------------------ 30.7/127.5 kB 34.5 kB/s eta 0:00:03\n",
      "   --------- ------------------------------ 30.7/127.5 kB 34.5 kB/s eta 0:00:03\n",
      "   --------- ------------------------------ 30.7/127.5 kB 34.5 kB/s eta 0:00:03\n",
      "   --------- ------------------------------ 30.7/127.5 kB 34.5 kB/s eta 0:00:03\n",
      "   --------- ------------------------------ 30.7/127.5 kB 34.5 kB/s eta 0:00:03\n",
      "   --------- ------------------------------ 30.7/127.5 kB 34.5 kB/s eta 0:00:03\n",
      "   --------- ------------------------------ 30.7/127.5 kB 34.5 kB/s eta 0:00:03\n",
      "   --------- ------------------------------ 30.7/127.5 kB 34.5 kB/s eta 0:00:03\n",
      "   --------- ------------------------------ 30.7/127.5 kB 34.5 kB/s eta 0:00:03\n",
      "   --------- ------------------------------ 30.7/127.5 kB 34.5 kB/s eta 0:00:03\n",
      "   --------- ------------------------------ 30.7/127.5 kB 34.5 kB/s eta 0:00:03\n",
      "   ------------ --------------------------- 41.0/127.5 kB 28.1 kB/s eta 0:00:04\n",
      "   ------------ --------------------------- 41.0/127.5 kB 28.1 kB/s eta 0:00:04\n",
      "   ------------ --------------------------- 41.0/127.5 kB 28.1 kB/s eta 0:00:04\n",
      "   ------------ --------------------------- 41.0/127.5 kB 28.1 kB/s eta 0:00:04\n",
      "   ------------ --------------------------- 41.0/127.5 kB 28.1 kB/s eta 0:00:04\n",
      "   ------------ --------------------------- 41.0/127.5 kB 28.1 kB/s eta 0:00:04\n",
      "   ------------ --------------------------- 41.0/127.5 kB 28.1 kB/s eta 0:00:04\n",
      "   ------------ --------------------------- 41.0/127.5 kB 28.1 kB/s eta 0:00:04\n",
      "   ------------ --------------------------- 41.0/127.5 kB 28.1 kB/s eta 0:00:04\n",
      "   ------------ --------------------------- 41.0/127.5 kB 28.1 kB/s eta 0:00:04\n",
      "   ------------------- -------------------- 61.4/127.5 kB 32.4 kB/s eta 0:00:03\n",
      "   ------------------- -------------------- 61.4/127.5 kB 32.4 kB/s eta 0:00:03\n",
      "   ------------------- -------------------- 61.4/127.5 kB 32.4 kB/s eta 0:00:03\n",
      "   ------------------- -------------------- 61.4/127.5 kB 32.4 kB/s eta 0:00:03\n",
      "   ------------------- -------------------- 61.4/127.5 kB 32.4 kB/s eta 0:00:03\n",
      "   ------------------- -------------------- 61.4/127.5 kB 32.4 kB/s eta 0:00:03\n",
      "   ------------------- -------------------- 61.4/127.5 kB 32.4 kB/s eta 0:00:03\n",
      "   ------------------- -------------------- 61.4/127.5 kB 32.4 kB/s eta 0:00:03\n",
      "   ------------------- -------------------- 61.4/127.5 kB 32.4 kB/s eta 0:00:03\n",
      "   ------------------------- -------------- 81.9/127.5 kB 36.4 kB/s eta 0:00:02\n",
      "   ------------------------- -------------- 81.9/127.5 kB 36.4 kB/s eta 0:00:02\n",
      "   ------------------------- -------------- 81.9/127.5 kB 36.4 kB/s eta 0:00:02\n",
      "   ------------------------- -------------- 81.9/127.5 kB 36.4 kB/s eta 0:00:02\n",
      "   ------------------------- -------------- 81.9/127.5 kB 36.4 kB/s eta 0:00:02\n",
      "   ------------------------- -------------- 81.9/127.5 kB 36.4 kB/s eta 0:00:02\n",
      "   ------------------------- -------------- 81.9/127.5 kB 36.4 kB/s eta 0:00:02\n",
      "   ------------------------- -------------- 81.9/127.5 kB 36.4 kB/s eta 0:00:02\n",
      "   ------------------------- -------------- 81.9/127.5 kB 36.4 kB/s eta 0:00:02\n",
      "   ------------------------- -------------- 81.9/127.5 kB 36.4 kB/s eta 0:00:02\n",
      "   ------------------------- -------------- 81.9/127.5 kB 36.4 kB/s eta 0:00:02\n",
      "   ------------------------- -------------- 81.9/127.5 kB 36.4 kB/s eta 0:00:02\n",
      "   ------------------------- -------------- 81.9/127.5 kB 36.4 kB/s eta 0:00:02\n",
      "   ---------------------------- ----------- 92.2/127.5 kB 32.0 kB/s eta 0:00:02\n",
      "   ---------------------------- ----------- 92.2/127.5 kB 32.0 kB/s eta 0:00:02\n",
      "   ---------------------------- ----------- 92.2/127.5 kB 32.0 kB/s eta 0:00:02\n",
      "   ---------------------------- ----------- 92.2/127.5 kB 32.0 kB/s eta 0:00:02\n",
      "   ---------------------------- ----------- 92.2/127.5 kB 32.0 kB/s eta 0:00:02\n",
      "   ---------------------------- ----------- 92.2/127.5 kB 32.0 kB/s eta 0:00:02\n",
      "   ---------------------------- ----------- 92.2/127.5 kB 32.0 kB/s eta 0:00:02\n",
      "   ---------------------------- ----------- 92.2/127.5 kB 32.0 kB/s eta 0:00:02\n",
      "   ---------------------------- ----------- 92.2/127.5 kB 32.0 kB/s eta 0:00:02\n",
      "   ---------------------------- ----------- 92.2/127.5 kB 32.0 kB/s eta 0:00:02\n",
      "   ---------------------------- ----------- 92.2/127.5 kB 32.0 kB/s eta 0:00:02\n",
      "   ---------------------------- ----------- 92.2/127.5 kB 32.0 kB/s eta 0:00:02\n",
      "   ---------------------------- ----------- 92.2/127.5 kB 32.0 kB/s eta 0:00:02\n",
      "   ---------------------------------- ---- 112.6/127.5 kB 32.0 kB/s eta 0:00:01\n",
      "   ---------------------------------- ---- 112.6/127.5 kB 32.0 kB/s eta 0:00:01\n",
      "   ---------------------------------- ---- 112.6/127.5 kB 32.0 kB/s eta 0:00:01\n",
      "   ---------------------------------- ---- 112.6/127.5 kB 32.0 kB/s eta 0:00:01\n",
      "   ---------------------------------- ---- 112.6/127.5 kB 32.0 kB/s eta 0:00:01\n",
      "   ---------------------------------- ---- 112.6/127.5 kB 32.0 kB/s eta 0:00:01\n",
      "   ---------------------------------- ---- 112.6/127.5 kB 32.0 kB/s eta 0:00:01\n",
      "   ---------------------------------- ---- 112.6/127.5 kB 32.0 kB/s eta 0:00:01\n",
      "   ---------------------------------- ---- 112.6/127.5 kB 32.0 kB/s eta 0:00:01\n",
      "   ---------------------------------- ---- 112.6/127.5 kB 32.0 kB/s eta 0:00:01\n",
      "   --------------------------------------- 127.5/127.5 kB 31.7 kB/s eta 0:00:00\n",
      "Using cached jsonpatch-1.33-py2.py3-none-any.whl (12 kB)\n",
      "Downloading orjson-3.10.6-cp312-none-win_amd64.whl (136 kB)\n",
      "   ---------------------------------------- 0.0/136.4 kB ? eta -:--:--\n",
      "   ---------------------------------------- 0.0/136.4 kB ? eta -:--:--\n",
      "   ---------------------------------------- 0.0/136.4 kB ? eta -:--:--\n",
      "   ---------------------------------------- 0.0/136.4 kB ? eta -:--:--\n",
      "   ---------------------------------------- 0.0/136.4 kB ? eta -:--:--\n",
      "   ---------------------------------------- 0.0/136.4 kB ? eta -:--:--\n",
      "   ---------------------------------------- 0.0/136.4 kB ? eta -:--:--\n",
      "   ---------------------------------------- 0.0/136.4 kB ? eta -:--:--\n",
      "   ---------------------------------------- 0.0/136.4 kB ? eta -:--:--\n",
      "   ---------------------------------------- 0.0/136.4 kB ? eta -:--:--\n",
      "   ---------------------------------------- 0.0/136.4 kB ? eta -:--:--\n",
      "   ---------------------------------------- 0.0/136.4 kB ? eta -:--:--\n",
      "   ---------------------------------------- 0.0/136.4 kB ? eta -:--:--\n",
      "   ---------------------------------------- 0.0/136.4 kB ? eta -:--:--\n",
      "   ---------------------------------------- 0.0/136.4 kB ? eta -:--:--\n",
      "   ---------------------------------------- 0.0/136.4 kB ? eta -:--:--\n",
      "   ---------------------------------------- 0.0/136.4 kB ? eta -:--:--\n",
      "   ---------------------------------------- 0.0/136.4 kB ? eta -:--:--\n",
      "   ---------------------------------------- 0.0/136.4 kB ? eta -:--:--\n",
      "   ---------------------------------------- 0.0/136.4 kB ? eta -:--:--\n",
      "   ---------------------------------------- 0.0/136.4 kB ? eta -:--:--\n",
      "   ---------------------------------------- 0.0/136.4 kB ? eta -:--:--\n",
      "   ---------------------------------------- 0.0/136.4 kB ? eta -:--:--\n",
      "   ---------------------------------------- 0.0/136.4 kB ? eta -:--:--\n",
      "   ---------------------------------------- 0.0/136.4 kB ? eta -:--:--\n",
      "   ---------------------------------------- 0.0/136.4 kB ? eta -:--:--\n",
      "   --- ------------------------------------ 10.2/136.4 kB ? eta -:--:--\n",
      "   --- ------------------------------------ 10.2/136.4 kB ? eta -:--:--\n",
      "   --- ------------------------------------ 10.2/136.4 kB ? eta -:--:--\n",
      "   --- ------------------------------------ 10.2/136.4 kB ? eta -:--:--\n",
      "   --- ------------------------------------ 10.2/136.4 kB ? eta -:--:--\n",
      "   --- ------------------------------------ 10.2/136.4 kB ? eta -:--:--\n",
      "   --- ------------------------------------ 10.2/136.4 kB ? eta -:--:--\n",
      "   --- ------------------------------------ 10.2/136.4 kB ? eta -:--:--\n",
      "   --- ------------------------------------ 10.2/136.4 kB ? eta -:--:--\n",
      "   --- ------------------------------------ 10.2/136.4 kB ? eta -:--:--\n",
      "   --- ------------------------------------ 10.2/136.4 kB ? eta -:--:--\n",
      "   --- ------------------------------------ 10.2/136.4 kB ? eta -:--:--\n",
      "   --- ------------------------------------ 10.2/136.4 kB ? eta -:--:--\n",
      "   --- ------------------------------------ 10.2/136.4 kB ? eta -:--:--\n",
      "   --- ------------------------------------ 10.2/136.4 kB ? eta -:--:--\n",
      "   --- ------------------------------------ 10.2/136.4 kB ? eta -:--:--\n",
      "   --- ------------------------------------ 10.2/136.4 kB ? eta -:--:--\n",
      "   --- ------------------------------------ 10.2/136.4 kB ? eta -:--:--\n",
      "   --- ------------------------------------ 10.2/136.4 kB ? eta -:--:--\n",
      "   --- ------------------------------------ 10.2/136.4 kB ? eta -:--:--\n",
      "   --- ------------------------------------ 10.2/136.4 kB ? eta -:--:--\n",
      "   --- ------------------------------------ 10.2/136.4 kB ? eta -:--:--\n",
      "   --------- ------------------------------ 30.7/136.4 kB 19.6 kB/s eta 0:00:06\n",
      "   --------- ------------------------------ 30.7/136.4 kB 19.6 kB/s eta 0:00:06\n",
      "   --------- ------------------------------ 30.7/136.4 kB 19.6 kB/s eta 0:00:06\n",
      "   --------- ------------------------------ 30.7/136.4 kB 19.6 kB/s eta 0:00:06\n",
      "   --------- ------------------------------ 30.7/136.4 kB 19.6 kB/s eta 0:00:06\n",
      "   --------- ------------------------------ 30.7/136.4 kB 19.6 kB/s eta 0:00:06\n",
      "   --------- ------------------------------ 30.7/136.4 kB 19.6 kB/s eta 0:00:06\n",
      "   --------- ------------------------------ 30.7/136.4 kB 19.6 kB/s eta 0:00:06\n",
      "   --------- ------------------------------ 30.7/136.4 kB 19.6 kB/s eta 0:00:06\n",
      "   --------- ------------------------------ 30.7/136.4 kB 19.6 kB/s eta 0:00:06\n",
      "   --------- ------------------------------ 30.7/136.4 kB 19.6 kB/s eta 0:00:06\n",
      "   --------- ------------------------------ 30.7/136.4 kB 19.6 kB/s eta 0:00:06\n",
      "   ------------ --------------------------- 41.0/136.4 kB 18.7 kB/s eta 0:00:06\n",
      "   ------------ --------------------------- 41.0/136.4 kB 18.7 kB/s eta 0:00:06\n",
      "   ------------ --------------------------- 41.0/136.4 kB 18.7 kB/s eta 0:00:06\n",
      "   ------------ --------------------------- 41.0/136.4 kB 18.7 kB/s eta 0:00:06\n",
      "   ------------ --------------------------- 41.0/136.4 kB 18.7 kB/s eta 0:00:06\n",
      "   ------------ --------------------------- 41.0/136.4 kB 18.7 kB/s eta 0:00:06\n",
      "   ------------ --------------------------- 41.0/136.4 kB 18.7 kB/s eta 0:00:06\n",
      "   ------------ --------------------------- 41.0/136.4 kB 18.7 kB/s eta 0:00:06\n",
      "   ------------ --------------------------- 41.0/136.4 kB 18.7 kB/s eta 0:00:06\n",
      "   ------------ --------------------------- 41.0/136.4 kB 18.7 kB/s eta 0:00:06\n",
      "   ------------ --------------------------- 41.0/136.4 kB 18.7 kB/s eta 0:00:06\n",
      "   ------------ --------------------------- 41.0/136.4 kB 18.7 kB/s eta 0:00:06\n",
      "   ------------ --------------------------- 41.0/136.4 kB 18.7 kB/s eta 0:00:06\n",
      "   ------------ --------------------------- 41.0/136.4 kB 18.7 kB/s eta 0:00:06\n",
      "   ------------ --------------------------- 41.0/136.4 kB 18.7 kB/s eta 0:00:06\n",
      "   ------------ --------------------------- 41.0/136.4 kB 18.7 kB/s eta 0:00:06\n",
      "   ------------------ --------------------- 61.4/136.4 kB 21.8 kB/s eta 0:00:04\n",
      "   ------------------ --------------------- 61.4/136.4 kB 21.8 kB/s eta 0:00:04\n",
      "   ------------------ --------------------- 61.4/136.4 kB 21.8 kB/s eta 0:00:04\n",
      "   ------------------ --------------------- 61.4/136.4 kB 21.8 kB/s eta 0:00:04\n",
      "   ------------------ --------------------- 61.4/136.4 kB 21.8 kB/s eta 0:00:04\n",
      "   ------------------ --------------------- 61.4/136.4 kB 21.8 kB/s eta 0:00:04\n",
      "   ------------------ --------------------- 61.4/136.4 kB 21.8 kB/s eta 0:00:04\n",
      "   ------------------ --------------------- 61.4/136.4 kB 21.8 kB/s eta 0:00:04\n",
      "   ------------------ --------------------- 61.4/136.4 kB 21.8 kB/s eta 0:00:04\n",
      "   ------------------ --------------------- 61.4/136.4 kB 21.8 kB/s eta 0:00:04\n",
      "   ------------------ --------------------- 61.4/136.4 kB 21.8 kB/s eta 0:00:04\n",
      "   ------------------ --------------------- 61.4/136.4 kB 21.8 kB/s eta 0:00:04\n",
      "   ------------------ --------------------- 61.4/136.4 kB 21.8 kB/s eta 0:00:04\n",
      "   ------------------ --------------------- 61.4/136.4 kB 21.8 kB/s eta 0:00:04\n",
      "   --------------------- ------------------ 71.7/136.4 kB 20.5 kB/s eta 0:00:04\n",
      "   --------------------- ------------------ 71.7/136.4 kB 20.5 kB/s eta 0:00:04\n",
      "   --------------------- ------------------ 71.7/136.4 kB 20.5 kB/s eta 0:00:04\n",
      "   --------------------- ------------------ 71.7/136.4 kB 20.5 kB/s eta 0:00:04\n",
      "   --------------------- ------------------ 71.7/136.4 kB 20.5 kB/s eta 0:00:04\n",
      "   --------------------- ------------------ 71.7/136.4 kB 20.5 kB/s eta 0:00:04\n",
      "   --------------------- ------------------ 71.7/136.4 kB 20.5 kB/s eta 0:00:04\n",
      "   --------------------- ------------------ 71.7/136.4 kB 20.5 kB/s eta 0:00:04\n",
      "   --------------------- ------------------ 71.7/136.4 kB 20.5 kB/s eta 0:00:04\n",
      "   --------------------- ------------------ 71.7/136.4 kB 20.5 kB/s eta 0:00:04\n",
      "   --------------------------- ------------ 92.2/136.4 kB 23.3 kB/s eta 0:00:02\n",
      "   --------------------------- ------------ 92.2/136.4 kB 23.3 kB/s eta 0:00:02\n",
      "   --------------------------- ------------ 92.2/136.4 kB 23.3 kB/s eta 0:00:02\n",
      "   --------------------------- ------------ 92.2/136.4 kB 23.3 kB/s eta 0:00:02\n",
      "   --------------------------- ------------ 92.2/136.4 kB 23.3 kB/s eta 0:00:02\n",
      "   --------------------------- ------------ 92.2/136.4 kB 23.3 kB/s eta 0:00:02\n",
      "   --------------------------- ------------ 92.2/136.4 kB 23.3 kB/s eta 0:00:02\n",
      "   --------------------------- ------------ 92.2/136.4 kB 23.3 kB/s eta 0:00:02\n",
      "   --------------------------- ------------ 92.2/136.4 kB 23.3 kB/s eta 0:00:02\n",
      "   --------------------------- ------------ 92.2/136.4 kB 23.3 kB/s eta 0:00:02\n",
      "   --------------------------- ------------ 92.2/136.4 kB 23.3 kB/s eta 0:00:02\n",
      "   -------------------------------- ------ 112.6/136.4 kB 25.3 kB/s eta 0:00:01\n",
      "   -------------------------------- ------ 112.6/136.4 kB 25.3 kB/s eta 0:00:01\n",
      "   -------------------------------- ------ 112.6/136.4 kB 25.3 kB/s eta 0:00:01\n",
      "   -------------------------------- ------ 112.6/136.4 kB 25.3 kB/s eta 0:00:01\n",
      "   -------------------------------- ------ 112.6/136.4 kB 25.3 kB/s eta 0:00:01\n",
      "   -------------------------------- ------ 112.6/136.4 kB 25.3 kB/s eta 0:00:01\n",
      "   -------------------------------- ------ 112.6/136.4 kB 25.3 kB/s eta 0:00:01\n",
      "   -------------------------------- ------ 112.6/136.4 kB 25.3 kB/s eta 0:00:01\n",
      "   -------------------------------- ------ 112.6/136.4 kB 25.3 kB/s eta 0:00:01\n",
      "   ----------------------------------- --- 122.9/136.4 kB 25.2 kB/s eta 0:00:01\n",
      "   ----------------------------------- --- 122.9/136.4 kB 25.2 kB/s eta 0:00:01\n",
      "   --------------------------------------  133.1/136.4 kB 26.7 kB/s eta 0:00:01\n",
      "   --------------------------------------- 136.4/136.4 kB 27.4 kB/s eta 0:00:00\n",
      "Downloading jsonpointer-3.0.0-py2.py3-none-any.whl (7.6 kB)\n",
      "Installing collected packages: orjson, jsonpointer, langsmith, jsonpatch, langchain-core, langchain-text-splitters, langchain\n",
      "Successfully installed jsonpatch-1.33 jsonpointer-3.0.0 langchain-0.2.6 langchain-core-0.2.11 langchain-text-splitters-0.2.2 langsmith-0.1.83 orjson-3.10.6\n",
      "Note: you may need to restart the kernel to use updated packages.\n"
     ]
    }
   ],
   "source": [
    "%pip install langchain --upgrade --user"
   ]
  },
  {
   "cell_type": "code",
   "execution_count": 6,
   "metadata": {},
   "outputs": [
    {
     "name": "stdout",
     "output_type": "stream",
     "text": [
      "Collecting langchain-community\n",
      "  Downloading langchain_community-0.2.6-py3-none-any.whl.metadata (2.5 kB)\n",
      "Requirement already satisfied: langchain-core in c:\\users\\dell\\appdata\\roaming\\python\\python312\\site-packages (0.2.11)\n",
      "Requirement already satisfied: PyYAML>=5.3 in c:\\users\\dell\\appdata\\local\\programs\\python\\python312\\lib\\site-packages (from langchain-community) (6.0.1)\n",
      "Requirement already satisfied: SQLAlchemy<3,>=1.4 in c:\\users\\dell\\appdata\\local\\programs\\python\\python312\\lib\\site-packages (from langchain-community) (2.0.25)\n",
      "Requirement already satisfied: aiohttp<4.0.0,>=3.8.3 in c:\\users\\dell\\appdata\\local\\programs\\python\\python312\\lib\\site-packages (from langchain-community) (3.9.5)\n",
      "Requirement already satisfied: dataclasses-json<0.7,>=0.5.7 in c:\\users\\dell\\appdata\\local\\programs\\python\\python312\\lib\\site-packages (from langchain-community) (0.5.14)\n",
      "Requirement already satisfied: langchain<0.3.0,>=0.2.6 in c:\\users\\dell\\appdata\\roaming\\python\\python312\\site-packages (from langchain-community) (0.2.6)\n",
      "Requirement already satisfied: langsmith<0.2.0,>=0.1.0 in c:\\users\\dell\\appdata\\roaming\\python\\python312\\site-packages (from langchain-community) (0.1.83)\n",
      "Requirement already satisfied: numpy<2.0.0,>=1.26.0 in c:\\users\\dell\\appdata\\local\\programs\\python\\python312\\lib\\site-packages (from langchain-community) (1.26.4)\n",
      "Requirement already satisfied: requests<3,>=2 in c:\\users\\dell\\appdata\\local\\programs\\python\\python312\\lib\\site-packages (from langchain-community) (2.31.0)\n",
      "Requirement already satisfied: tenacity!=8.4.0,<9.0.0,>=8.1.0 in c:\\users\\dell\\appdata\\local\\programs\\python\\python312\\lib\\site-packages (from langchain-community) (8.4.2)\n",
      "Requirement already satisfied: jsonpatch<2.0,>=1.33 in c:\\users\\dell\\appdata\\roaming\\python\\python312\\site-packages (from langchain-core) (1.33)\n",
      "Requirement already satisfied: packaging<25,>=23.2 in c:\\users\\dell\\appdata\\roaming\\python\\python312\\site-packages (from langchain-core) (23.2)\n",
      "Requirement already satisfied: pydantic<3,>=1 in c:\\users\\dell\\appdata\\local\\programs\\python\\python312\\lib\\site-packages (from langchain-core) (1.10.17)\n",
      "Requirement already satisfied: aiosignal>=1.1.2 in c:\\users\\dell\\appdata\\local\\programs\\python\\python312\\lib\\site-packages (from aiohttp<4.0.0,>=3.8.3->langchain-community) (1.3.1)\n",
      "Requirement already satisfied: attrs>=17.3.0 in c:\\users\\dell\\appdata\\local\\programs\\python\\python312\\lib\\site-packages (from aiohttp<4.0.0,>=3.8.3->langchain-community) (23.2.0)\n",
      "Requirement already satisfied: frozenlist>=1.1.1 in c:\\users\\dell\\appdata\\local\\programs\\python\\python312\\lib\\site-packages (from aiohttp<4.0.0,>=3.8.3->langchain-community) (1.4.1)\n",
      "Requirement already satisfied: multidict<7.0,>=4.5 in c:\\users\\dell\\appdata\\local\\programs\\python\\python312\\lib\\site-packages (from aiohttp<4.0.0,>=3.8.3->langchain-community) (6.0.5)\n",
      "Requirement already satisfied: yarl<2.0,>=1.0 in c:\\users\\dell\\appdata\\local\\programs\\python\\python312\\lib\\site-packages (from aiohttp<4.0.0,>=3.8.3->langchain-community) (1.9.4)\n",
      "Requirement already satisfied: marshmallow<4.0.0,>=3.18.0 in c:\\users\\dell\\appdata\\local\\programs\\python\\python312\\lib\\site-packages (from dataclasses-json<0.7,>=0.5.7->langchain-community) (3.21.3)\n",
      "Requirement already satisfied: typing-inspect<1,>=0.4.0 in c:\\users\\dell\\appdata\\local\\programs\\python\\python312\\lib\\site-packages (from dataclasses-json<0.7,>=0.5.7->langchain-community) (0.9.0)\n",
      "Requirement already satisfied: jsonpointer>=1.9 in c:\\users\\dell\\appdata\\roaming\\python\\python312\\site-packages (from jsonpatch<2.0,>=1.33->langchain-core) (3.0.0)\n",
      "Requirement already satisfied: langchain-text-splitters<0.3.0,>=0.2.0 in c:\\users\\dell\\appdata\\roaming\\python\\python312\\site-packages (from langchain<0.3.0,>=0.2.6->langchain-community) (0.2.2)\n",
      "Requirement already satisfied: orjson<4.0.0,>=3.9.14 in c:\\users\\dell\\appdata\\roaming\\python\\python312\\site-packages (from langsmith<0.2.0,>=0.1.0->langchain-community) (3.10.6)\n",
      "Requirement already satisfied: typing-extensions>=4.2.0 in c:\\users\\dell\\appdata\\local\\programs\\python\\python312\\lib\\site-packages (from pydantic<3,>=1->langchain-core) (4.9.0)\n",
      "Requirement already satisfied: charset-normalizer<4,>=2 in c:\\users\\dell\\appdata\\local\\programs\\python\\python312\\lib\\site-packages (from requests<3,>=2->langchain-community) (3.3.2)\n",
      "Requirement already satisfied: idna<4,>=2.5 in c:\\users\\dell\\appdata\\local\\programs\\python\\python312\\lib\\site-packages (from requests<3,>=2->langchain-community) (3.6)\n",
      "Requirement already satisfied: urllib3<3,>=1.21.1 in c:\\users\\dell\\appdata\\local\\programs\\python\\python312\\lib\\site-packages (from requests<3,>=2->langchain-community) (2.1.0)\n",
      "Requirement already satisfied: certifi>=2017.4.17 in c:\\users\\dell\\appdata\\local\\programs\\python\\python312\\lib\\site-packages (from requests<3,>=2->langchain-community) (2023.11.17)\n",
      "Requirement already satisfied: greenlet!=0.4.17 in c:\\users\\dell\\appdata\\local\\programs\\python\\python312\\lib\\site-packages (from SQLAlchemy<3,>=1.4->langchain-community) (3.0.3)\n",
      "Requirement already satisfied: mypy-extensions>=0.3.0 in c:\\users\\dell\\appdata\\local\\programs\\python\\python312\\lib\\site-packages (from typing-inspect<1,>=0.4.0->dataclasses-json<0.7,>=0.5.7->langchain-community) (1.0.0)\n",
      "Downloading langchain_community-0.2.6-py3-none-any.whl (2.2 MB)\n",
      "   ---------------------------------------- 0.0/2.2 MB ? eta -:--:--\n",
      "    --------------------------------------- 0.0/2.2 MB 1.3 MB/s eta 0:00:02\n",
      "    --------------------------------------- 0.0/2.2 MB 1.3 MB/s eta 0:00:02\n",
      "    --------------------------------------- 0.0/2.2 MB 1.3 MB/s eta 0:00:02\n",
      "    --------------------------------------- 0.0/2.2 MB 178.6 kB/s eta 0:00:13\n",
      "   - -------------------------------------- 0.1/2.2 MB 273.8 kB/s eta 0:00:08\n",
      "   - -------------------------------------- 0.1/2.2 MB 393.8 kB/s eta 0:00:06\n",
      "   -- ------------------------------------- 0.1/2.2 MB 409.6 kB/s eta 0:00:06\n",
      "   -- ------------------------------------- 0.1/2.2 MB 409.6 kB/s eta 0:00:06\n",
      "   -- ------------------------------------- 0.1/2.2 MB 370.8 kB/s eta 0:00:06\n",
      "   ---- ----------------------------------- 0.2/2.2 MB 509.6 kB/s eta 0:00:04\n",
      "   ---- ----------------------------------- 0.2/2.2 MB 509.6 kB/s eta 0:00:04\n",
      "   ---- ----------------------------------- 0.2/2.2 MB 486.6 kB/s eta 0:00:05\n",
      "   ---- ----------------------------------- 0.3/2.2 MB 486.7 kB/s eta 0:00:05\n",
      "   ------ --------------------------------- 0.4/2.2 MB 586.1 kB/s eta 0:00:04\n",
      "   -------- ------------------------------- 0.5/2.2 MB 750.8 kB/s eta 0:00:03\n",
      "   -------- ------------------------------- 0.5/2.2 MB 750.8 kB/s eta 0:00:03\n",
      "   --------- ------------------------------ 0.6/2.2 MB 739.4 kB/s eta 0:00:03\n",
      "   ------------ --------------------------- 0.7/2.2 MB 891.6 kB/s eta 0:00:02\n",
      "   --------------- ------------------------ 0.9/2.2 MB 1.1 MB/s eta 0:00:02\n",
      "   ------------------ --------------------- 1.0/2.2 MB 1.2 MB/s eta 0:00:02\n",
      "   -------------------- ------------------- 1.1/2.2 MB 1.2 MB/s eta 0:00:01\n",
      "   ---------------------- ----------------- 1.3/2.2 MB 1.3 MB/s eta 0:00:01\n",
      "   ----------------------- ---------------- 1.3/2.2 MB 1.3 MB/s eta 0:00:01\n",
      "   ------------------------ --------------- 1.4/2.2 MB 1.3 MB/s eta 0:00:01\n",
      "   ------------------------- -------------- 1.4/2.2 MB 1.3 MB/s eta 0:00:01\n",
      "   --------------------------- ------------ 1.5/2.2 MB 1.3 MB/s eta 0:00:01\n",
      "   --------------------------- ------------ 1.6/2.2 MB 1.3 MB/s eta 0:00:01\n",
      "   --------------------------- ------------ 1.6/2.2 MB 1.3 MB/s eta 0:00:01\n",
      "   --------------------------- ------------ 1.6/2.2 MB 1.3 MB/s eta 0:00:01\n",
      "   --------------------------- ------------ 1.6/2.2 MB 1.3 MB/s eta 0:00:01\n",
      "   --------------------------- ------------ 1.6/2.2 MB 1.3 MB/s eta 0:00:01\n",
      "   --------------------------- ------------ 1.6/2.2 MB 1.3 MB/s eta 0:00:01\n",
      "   --------------------------------- ------ 1.9/2.2 MB 1.2 MB/s eta 0:00:01\n",
      "   --------------------------------- ------ 1.9/2.2 MB 1.2 MB/s eta 0:00:01\n",
      "   --------------------------------- ------ 1.9/2.2 MB 1.2 MB/s eta 0:00:01\n",
      "   --------------------------------- ------ 1.9/2.2 MB 1.2 MB/s eta 0:00:01\n",
      "   ----------------------------------- ---- 2.0/2.2 MB 1.2 MB/s eta 0:00:01\n",
      "   ------------------------------------- -- 2.1/2.2 MB 1.2 MB/s eta 0:00:01\n",
      "   ------------------------------------- -- 2.1/2.2 MB 1.2 MB/s eta 0:00:01\n",
      "   ------------------------------------- -- 2.1/2.2 MB 1.2 MB/s eta 0:00:01\n",
      "   -------------------------------------- - 2.1/2.2 MB 1.1 MB/s eta 0:00:01\n",
      "   ---------------------------------------  2.2/2.2 MB 1.1 MB/s eta 0:00:01\n",
      "   ---------------------------------------  2.2/2.2 MB 1.1 MB/s eta 0:00:01\n",
      "   ---------------------------------------- 2.2/2.2 MB 1.1 MB/s eta 0:00:00\n",
      "Installing collected packages: langchain-community\n",
      "Successfully installed langchain-community-0.2.6\n",
      "Note: you may need to restart the kernel to use updated packages.\n"
     ]
    }
   ],
   "source": [
    "%pip install langchain-community langchain-core"
   ]
  },
  {
   "cell_type": "code",
   "execution_count": 8,
   "metadata": {},
   "outputs": [
    {
     "data": {
      "text/plain": [
       "'d:\\\\Documents\\\\blockchain\\\\GenAi\\\\langchain\\\\.env'"
      ]
     },
     "execution_count": 8,
     "metadata": {},
     "output_type": "execute_result"
    }
   ],
   "source": [
    "from dotenv import load_dotenv, find_dotenv\n",
    "find_dotenv()"
   ]
  },
  {
   "cell_type": "code",
   "execution_count": 9,
   "metadata": {},
   "outputs": [
    {
     "data": {
      "text/plain": [
       "True"
      ]
     },
     "execution_count": 9,
     "metadata": {},
     "output_type": "execute_result"
    }
   ],
   "source": [
    "load_dotenv(find_dotenv())"
   ]
  },
  {
   "cell_type": "code",
   "execution_count": 10,
   "metadata": {},
   "outputs": [],
   "source": [
    "import langchain"
   ]
  },
  {
   "cell_type": "code",
   "execution_count": 11,
   "metadata": {},
   "outputs": [],
   "source": [
    "from langchain.llms import OpenAI"
   ]
  },
  {
   "cell_type": "code",
   "execution_count": 12,
   "metadata": {},
   "outputs": [],
   "source": [
    "from openai import OpenAI\n",
    "from dotenv import load_dotenv, find_dotenv\n",
    "import os\n",
    "\n",
    "_ : bool = load_dotenv(find_dotenv()) # read local .env file\n",
    "\n",
    "client : OpenAI = OpenAI()"
   ]
  },
  {
   "cell_type": "code",
   "execution_count": 13,
   "metadata": {},
   "outputs": [],
   "source": [
    "# zero shot prompting\n",
    "prompt=\"can you tell me total number of country in aisa? can you give me top 10 contry name?\""
   ]
  },
  {
   "cell_type": "code",
   "execution_count": 14,
   "metadata": {},
   "outputs": [
    {
     "ename": "AttributeError",
     "evalue": "'OpenAI' object has no attribute 'predict'",
     "output_type": "error",
     "traceback": [
      "\u001b[1;31m---------------------------------------------------------------------------\u001b[0m",
      "\u001b[1;31mAttributeError\u001b[0m                            Traceback (most recent call last)",
      "Cell \u001b[1;32mIn[14], line 1\u001b[0m\n\u001b[1;32m----> 1\u001b[0m \u001b[38;5;28mprint\u001b[39m(\u001b[43mclient\u001b[49m\u001b[38;5;241;43m.\u001b[39;49m\u001b[43mpredict\u001b[49m(prompt)\u001b[38;5;241m.\u001b[39mstrip())\n",
      "\u001b[1;31mAttributeError\u001b[0m: 'OpenAI' object has no attribute 'predict'"
     ]
    }
   ],
   "source": [
    "print(client.predict(prompt).strip())"
   ]
  },
  {
   "cell_type": "code",
   "execution_count": 25,
   "metadata": {},
   "outputs": [],
   "source": [
    "# zero shot prompting\n",
    "prompt2=\"can you tell me a capital of pakistan?\""
   ]
  },
  {
   "cell_type": "code",
   "execution_count": 24,
   "metadata": {},
   "outputs": [
    {
     "ename": "AttributeError",
     "evalue": "'OpenAI' object has no attribute 'predict'",
     "output_type": "error",
     "traceback": [
      "\u001b[1;31m---------------------------------------------------------------------------\u001b[0m",
      "\u001b[1;31mAttributeError\u001b[0m                            Traceback (most recent call last)",
      "Cell \u001b[1;32mIn[24], line 1\u001b[0m\n\u001b[1;32m----> 1\u001b[0m \u001b[43mclient\u001b[49m\u001b[38;5;241;43m.\u001b[39;49m\u001b[43mpredict\u001b[49m(prompt2)\u001b[38;5;241m.\u001b[39mstrip()\n",
      "\u001b[1;31mAttributeError\u001b[0m: 'OpenAI' object has no attribute 'predict'"
     ]
    }
   ],
   "source": [
    "client.predict(prompt2).strip()"
   ]
  },
  {
   "cell_type": "code",
   "execution_count": null,
   "metadata": {},
   "outputs": [],
   "source": [
    "prompt3=\"​what exactly tokens , vector ?\""
   ]
  },
  {
   "cell_type": "code",
   "execution_count": null,
   "metadata": {},
   "outputs": [],
   "source": [
    "client.predict(prompt3).strip()"
   ]
  },
  {
   "cell_type": "markdown",
   "metadata": {},
   "source": [
    "# Prompt Templates:\n",
    "* Using Prompt Template,we can just take a single word from user and from that word we can generate response"
   ]
  },
  {
   "cell_type": "code",
   "execution_count": 15,
   "metadata": {},
   "outputs": [],
   "source": [
    "from langchain.prompts import PromptTemplate"
   ]
  },
  {
   "cell_type": "markdown",
   "metadata": {},
   "source": [
    "### Method 1:"
   ]
  },
  {
   "cell_type": "code",
   "execution_count": 16,
   "metadata": {},
   "outputs": [],
   "source": [
    "prompt_template_name=PromptTemplate(\n",
    "    input_variables=[\"country\"],\n",
    "    template=\"can you tell me the capital of {country}?\"\n",
    ")"
   ]
  },
  {
   "cell_type": "code",
   "execution_count": null,
   "metadata": {},
   "outputs": [],
   "source": [
    "propmt1=prompt_template_name.format(country=\"india\")"
   ]
  },
  {
   "cell_type": "code",
   "execution_count": null,
   "metadata": {},
   "outputs": [],
   "source": [
    "propmt2=prompt_template_name.format(country=\"china\")"
   ]
  },
  {
   "cell_type": "code",
   "execution_count": null,
   "metadata": {},
   "outputs": [],
   "source": [
    "client.predict(propmt1).strip()"
   ]
  },
  {
   "cell_type": "code",
   "execution_count": null,
   "metadata": {},
   "outputs": [],
   "source": [
    "client.predict(propmt2).strip()"
   ]
  },
  {
   "cell_type": "markdown",
   "metadata": {},
   "source": [
    "### Method2"
   ]
  },
  {
   "cell_type": "code",
   "execution_count": null,
   "metadata": {},
   "outputs": [],
   "source": [
    "prompt=PromptTemplate.from_template(\"what is a good name for a compnay that makes a {product}\")"
   ]
  },
  {
   "cell_type": "code",
   "execution_count": null,
   "metadata": {},
   "outputs": [],
   "source": [
    "prompt3=prompt.format(product=\"toys\")"
   ]
  },
  {
   "cell_type": "code",
   "execution_count": null,
   "metadata": {},
   "outputs": [],
   "source": [
    "client.predict(prompt3).strip()"
   ]
  },
  {
   "cell_type": "markdown",
   "metadata": {},
   "source": [
    "# agent\n",
    "* We use agent for calling any third party tool\n"
   ]
  },
  {
   "cell_type": "code",
   "execution_count": null,
   "metadata": {},
   "outputs": [],
   "source": [
    "prompt4=\"can you tell me who won the recent cricket world cup?\""
   ]
  },
  {
   "cell_type": "code",
   "execution_count": null,
   "metadata": {},
   "outputs": [],
   "source": [
    "client.predict(prompt4).strip()"
   ]
  },
  {
   "cell_type": "code",
   "execution_count": null,
   "metadata": {},
   "outputs": [],
   "source": [
    "prompt5=\"can you tell me current GDP of india?\""
   ]
  },
  {
   "cell_type": "markdown",
   "metadata": {},
   "source": [
    "## Real Time Information\n",
    "\n",
    "##### for extracting a real time info i am going to user serp api\n",
    "\n",
    "##### now by using this serp api i wll call google-search-engine \n",
    "\n",
    "##### and i will extract the information in a real time"
   ]
  },
  {
   "cell_type": "code",
   "execution_count": null,
   "metadata": {},
   "outputs": [],
   "source": [
    "from langchain.agents import AgentType\n",
    "from langchain.agents import load_tools \n",
    "from langchain.agents import initialize_agent\n",
    "from langchain.llms import OpenAI"
   ]
  },
  {
   "cell_type": "code",
   "execution_count": null,
   "metadata": {},
   "outputs": [],
   "source": [
    "client=OpenAI(openai_api_key=OPENAI_KEY)"
   ]
  },
  {
   "cell_type": "code",
   "execution_count": null,
   "metadata": {},
   "outputs": [],
   "source": [
    "tool=load_tools([\"serpapi\"],serpapi_api_key=serpapi_key,llm=client)"
   ]
  },
  {
   "cell_type": "code",
   "execution_count": null,
   "metadata": {},
   "outputs": [],
   "source": [
    "agent=initialize_agent(tool,client,agent=AgentType.ZERO_SHOT_REACT_DESCRIPTION,verbose=True)#Verbose means whatever info running on backend i will be able to see it on a display"
   ]
  },
  {
   "cell_type": "code",
   "execution_count": null,
   "metadata": {},
   "outputs": [],
   "source": [
    "agent.run(\"can you tell who won the cricket worldcup recently?\")"
   ]
  },
  {
   "cell_type": "code",
   "execution_count": null,
   "metadata": {},
   "outputs": [],
   "source": [
    "agent.run(\"can you tell me 5 top current affairs?\")"
   ]
  },
  {
   "cell_type": "code",
   "execution_count": null,
   "metadata": {},
   "outputs": [],
   "source": [
    "tool=load_tools([\"wikipedia\"],llm=client)"
   ]
  },
  {
   "cell_type": "code",
   "execution_count": null,
   "metadata": {},
   "outputs": [],
   "source": [
    "agent=initialize_agent(tool,client,agent=AgentType.ZERO_SHOT_REACT_DESCRIPTION,verbose=True)"
   ]
  },
  {
   "cell_type": "code",
   "execution_count": null,
   "metadata": {},
   "outputs": [],
   "source": [
    "agent.run(\"can you tell me about this recent cricket worldcup?\")"
   ]
  },
  {
   "cell_type": "code",
   "execution_count": null,
   "metadata": {},
   "outputs": [],
   "source": [
    "agent.run(\"can you tell me what is current GDP of usa?\")"
   ]
  },
  {
   "cell_type": "markdown",
   "metadata": {},
   "source": [
    "# Chain(Collection of components)\n",
    "\n",
    "* If you have a multiple prompts which are connected to each other"
   ]
  },
  {
   "cell_type": "markdown",
   "metadata": {},
   "source": [
    "Central to LangChain is a vital component known as LangChain Chains, forming the core connection among one or several large language models (LLMs). In certain sophisticated applications, it becomes necessary to chain LLMs together, either with each other or with other elements."
   ]
  },
  {
   "cell_type": "code",
   "execution_count": null,
   "metadata": {},
   "outputs": [],
   "source": [
    "client"
   ]
  },
  {
   "cell_type": "code",
   "execution_count": null,
   "metadata": {},
   "outputs": [],
   "source": [
    "from langchain.prompts import PromptTemplate\n",
    "\n",
    "prompt=PromptTemplate.from_template(\"what is a good name for a company that makes {product}\")"
   ]
  },
  {
   "cell_type": "code",
   "execution_count": null,
   "metadata": {},
   "outputs": [],
   "source": [
    "from langchain.chains import LLMChain"
   ]
  },
  {
   "cell_type": "code",
   "execution_count": null,
   "metadata": {},
   "outputs": [],
   "source": [
    "chain=LLMChain(llm=client,prompt=prompt)"
   ]
  },
  {
   "cell_type": "code",
   "execution_count": null,
   "metadata": {},
   "outputs": [],
   "source": [
    "chain.run(\"Wine\").strip()"
   ]
  },
  {
   "cell_type": "code",
   "execution_count": null,
   "metadata": {},
   "outputs": [],
   "source": [
    "# Example 2"
   ]
  },
  {
   "cell_type": "code",
   "execution_count": null,
   "metadata": {},
   "outputs": [],
   "source": [
    "prompt_template=PromptTemplate(\n",
    "    input_variables=['cuisine'],\n",
    "    template=\"i want to open a restaurent for {cuisine} food, suggest a fency name for this\"\n",
    ")"
   ]
  },
  {
   "cell_type": "code",
   "execution_count": null,
   "metadata": {},
   "outputs": [],
   "source": [
    "prompt_template"
   ]
  },
  {
   "cell_type": "code",
   "execution_count": null,
   "metadata": {},
   "outputs": [],
   "source": [
    "chain=LLMChain(llm=client, prompt=prompt_template)"
   ]
  },
  {
   "cell_type": "code",
   "execution_count": null,
   "metadata": {},
   "outputs": [],
   "source": [
    "chain.run(\"indian\").strip()"
   ]
  },
  {
   "cell_type": "code",
   "execution_count": null,
   "metadata": {},
   "outputs": [],
   "source": [
    "chain=LLMChain(llm=client,prompt=prompt_template,verbose=True)"
   ]
  },
  {
   "cell_type": "code",
   "execution_count": null,
   "metadata": {},
   "outputs": [],
   "source": [
    "chain.run(\"american\")"
   ]
  },
  {
   "cell_type": "markdown",
   "metadata": {},
   "source": [
    "## Simple Sequential Chain\n",
    "* if we want to combine multiple chain and set a seqence for that we use simplesequential chain"
   ]
  },
  {
   "cell_type": "code",
   "execution_count": null,
   "metadata": {},
   "outputs": [],
   "source": [
    "prompt_template_name=PromptTemplate(\n",
    "input_variables=[\"startup_name\"],\n",
    "    template=\"I want to start a startup for {startup-name} , suggest me a good name for this\"   \n",
    ")"
   ]
  },
  {
   "cell_type": "code",
   "execution_count": null,
   "metadata": {},
   "outputs": [],
   "source": [
    "name_chain=LLMChain(llm=client,prompt=prompt_template_name)"
   ]
  },
  {
   "cell_type": "code",
   "execution_count": null,
   "metadata": {},
   "outputs": [],
   "source": [
    "prompt_template_items=PromptTemplate(\n",
    "input_variables=[\"name\"],\n",
    "    template=\"suggest some strategies for {name}\"    \n",
    ")"
   ]
  },
  {
   "cell_type": "code",
   "execution_count": null,
   "metadata": {},
   "outputs": [],
   "source": [
    "strategies_chain=LLMChain(llm=client,prompt=prompt_template_items)"
   ]
  },
  {
   "cell_type": "code",
   "execution_count": null,
   "metadata": {},
   "outputs": [],
   "source": [
    "from langchain.chains import SimpleSequentialChain"
   ]
  },
  {
   "cell_type": "code",
   "execution_count": null,
   "metadata": {},
   "outputs": [],
   "source": [
    "chain=SimpleSequentialChain(chains=[name_chain,strategies_chain])"
   ]
  },
  {
   "cell_type": "code",
   "execution_count": null,
   "metadata": {},
   "outputs": [],
   "source": [
    "print(chain.run(\"artifical intelligence\"))"
   ]
  },
  {
   "cell_type": "markdown",
   "metadata": {},
   "source": [
    "# Now lets try to understand the sequential chain"
   ]
  },
  {
   "cell_type": "code",
   "execution_count": null,
   "metadata": {},
   "outputs": [],
   "source": [
    "prompt_template_name=PromptTemplate(\n",
    "    input_variables=[\"cuisine\"],\n",
    "    template=\"i want to open a restaurant for {cuisine}, suggest a fency name for it\"\n",
    ")\n",
    "\n",
    "name_chain=LLMChain(llm=client, prompt=prompt_template_name,output_key=\"restaurant_name\")\n"
   ]
  },
  {
   "cell_type": "code",
   "execution_count": null,
   "metadata": {},
   "outputs": [],
   "source": [
    "prompt_templates_items=PromptTemplate( \n",
    "    input_variables=[\"restaurant_name\"],\n",
    "    template=\"suggest some menu items for {restaurant_name}\"\n",
    "    \n",
    ")\n",
    "\n",
    "food_items_chain=LLMChain(llm=client, prompt=prompt_templates_items, output_key=\"menu_items\")\n"
   ]
  },
  {
   "cell_type": "code",
   "execution_count": null,
   "metadata": {},
   "outputs": [],
   "source": [
    "from langchain.chains import SequentialChain"
   ]
  },
  {
   "cell_type": "code",
   "execution_count": null,
   "metadata": {},
   "outputs": [],
   "source": [
    "chain=SequentialChain(chains=[name_chain, food_items_chain],\n",
    "    input_variables=[\"cuisine\"],\n",
    "    output_variables=[\"restaurant_name\",\"menu_items\"]\n",
    "    \n",
    ")"
   ]
  },
  {
   "cell_type": "code",
   "execution_count": null,
   "metadata": {},
   "outputs": [],
   "source": [
    "chain({\"cuisine\":\"indian\"})"
   ]
  },
  {
   "cell_type": "markdown",
   "metadata": {},
   "source": [
    "# document loders"
   ]
  },
  {
   "cell_type": "code",
   "execution_count": null,
   "metadata": {},
   "outputs": [],
   "source": [
    "from langchain.document_loaders import PyPDFLoader"
   ]
  },
  {
   "cell_type": "code",
   "execution_count": null,
   "metadata": {},
   "outputs": [],
   "source": [
    "loader = PyPDFLoader(r\"C:\\Users\\sunny\\Downloads\\MachineTranslationwithAttention.pdf\")"
   ]
  },
  {
   "cell_type": "code",
   "execution_count": null,
   "metadata": {},
   "outputs": [],
   "source": [
    "loader"
   ]
  },
  {
   "cell_type": "code",
   "execution_count": null,
   "metadata": {},
   "outputs": [],
   "source": [
    "pages = loader.load_and_split()"
   ]
  },
  {
   "cell_type": "code",
   "execution_count": null,
   "metadata": {},
   "outputs": [],
   "source": [
    "pages"
   ]
  },
  {
   "cell_type": "markdown",
   "metadata": {},
   "source": [
    "## Memory"
   ]
  },
  {
   "cell_type": "code",
   "execution_count": null,
   "metadata": {},
   "outputs": [],
   "source": [
    "from  langchain.prompts import PromptTemplate\n",
    "from langchain.chains import LLMChain\n",
    "from  langchain.llms import OpenAI"
   ]
  },
  {
   "cell_type": "code",
   "execution_count": null,
   "metadata": {},
   "outputs": [],
   "source": [
    "client=OpenAI(openai_api_key=OPENAI_KEY)"
   ]
  },
  {
   "cell_type": "code",
   "execution_count": null,
   "metadata": {},
   "outputs": [],
   "source": [
    "prompt_template = PromptTemplate(\n",
    "    input_variables=['product'],\n",
    "    template=\"What is the good name for company that makes {product}\"\n",
    ")"
   ]
  },
  {
   "cell_type": "code",
   "execution_count": null,
   "metadata": {},
   "outputs": [],
   "source": [
    "chain = LLMChain(llm=client,prompt=prompt_template)"
   ]
  },
  {
   "cell_type": "code",
   "execution_count": null,
   "metadata": {},
   "outputs": [],
   "source": [
    "print(chain.run(\"colorful cup\").strip())"
   ]
  },
  {
   "cell_type": "code",
   "execution_count": null,
   "metadata": {},
   "outputs": [],
   "source": [
    "prompt_template = PromptTemplate(\n",
    "    input_variables=['product'],\n",
    "    template=\"What is the good name for company that makes {product}\"\n",
    ")"
   ]
  },
  {
   "cell_type": "code",
   "execution_count": null,
   "metadata": {},
   "outputs": [],
   "source": [
    "chain = LLMChain(llm=client,prompt=prompt_template)"
   ]
  },
  {
   "cell_type": "code",
   "execution_count": null,
   "metadata": {},
   "outputs": [],
   "source": [
    "print(chain.run(\"drons\").strip())"
   ]
  },
  {
   "cell_type": "code",
   "execution_count": null,
   "metadata": {},
   "outputs": [],
   "source": [
    "chain.memory"
   ]
  },
  {
   "cell_type": "markdown",
   "metadata": {},
   "source": [
    "# **Coversational Buffer Memory**"
   ]
  },
  {
   "cell_type": "markdown",
   "metadata": {},
   "source": [
    "**We can attach memory(parameter) to remember all previous convsersations**"
   ]
  },
  {
   "cell_type": "code",
   "execution_count": null,
   "metadata": {},
   "outputs": [],
   "source": [
    "from langchain.memory import ConversationBufferMemory"
   ]
  },
  {
   "cell_type": "code",
   "execution_count": null,
   "metadata": {},
   "outputs": [],
   "source": [
    "memory = ConversationBufferMemory()"
   ]
  },
  {
   "cell_type": "code",
   "execution_count": null,
   "metadata": {},
   "outputs": [],
   "source": [
    "prompt_template = PromptTemplate(\n",
    "    input_variables=['product'],\n",
    "    template=\"What is the good name for company that makes {product}\"\n",
    ")"
   ]
  },
  {
   "cell_type": "code",
   "execution_count": null,
   "metadata": {},
   "outputs": [],
   "source": [
    "chain = LLMChain(llm=client,prompt=prompt_template,memory=memory)"
   ]
  },
  {
   "cell_type": "code",
   "execution_count": null,
   "metadata": {},
   "outputs": [],
   "source": [
    "chain.run(\"drons\")"
   ]
  },
  {
   "cell_type": "code",
   "execution_count": null,
   "metadata": {},
   "outputs": [],
   "source": [
    "chain.run(\"camera\")"
   ]
  },
  {
   "cell_type": "code",
   "execution_count": null,
   "metadata": {},
   "outputs": [],
   "source": [
    "chain.run(\"juice\")"
   ]
  },
  {
   "cell_type": "code",
   "execution_count": null,
   "metadata": {},
   "outputs": [],
   "source": [
    "chain.memory"
   ]
  },
  {
   "cell_type": "code",
   "execution_count": null,
   "metadata": {},
   "outputs": [],
   "source": [
    "print(chain.memory.buffer)"
   ]
  },
  {
   "cell_type": "markdown",
   "metadata": {},
   "source": [
    "## Conversation Chain\n",
    "\n",
    "* Just remember last 5 conversaton chain and if just remember last 10-20 conversaton chain"
   ]
  },
  {
   "cell_type": "code",
   "execution_count": null,
   "metadata": {},
   "outputs": [],
   "source": [
    "from langchain.chains import ConversationChain"
   ]
  },
  {
   "cell_type": "code",
   "execution_count": null,
   "metadata": {},
   "outputs": [],
   "source": [
    "convo = ConversationChain(llm=OpenAI(openai_api_key=OPENAI_KEY,temperature=0.7))"
   ]
  },
  {
   "cell_type": "code",
   "execution_count": null,
   "metadata": {},
   "outputs": [],
   "source": [
    "convo.prompt"
   ]
  },
  {
   "cell_type": "code",
   "execution_count": null,
   "metadata": {},
   "outputs": [],
   "source": [
    "print(convo.prompt.template)"
   ]
  },
  {
   "cell_type": "code",
   "execution_count": null,
   "metadata": {},
   "outputs": [],
   "source": [
    "convo.run(\"who won the first cricket world cup?\")"
   ]
  },
  {
   "cell_type": "code",
   "execution_count": null,
   "metadata": {},
   "outputs": [],
   "source": [
    "convo.run(\"can you tell me how much 5 + 5?\")"
   ]
  },
  {
   "cell_type": "code",
   "execution_count": null,
   "metadata": {},
   "outputs": [],
   "source": [
    "convo.run(\"can you tell me how much (5+5)*7 ?\")"
   ]
  },
  {
   "cell_type": "code",
   "execution_count": null,
   "metadata": {},
   "outputs": [],
   "source": [
    "convo.run(\"who was the captain of the  winning team?\")"
   ]
  },
  {
   "cell_type": "markdown",
   "metadata": {},
   "source": [
    "## Conversation Buffer Window Memory"
   ]
  },
  {
   "cell_type": "code",
   "execution_count": null,
   "metadata": {},
   "outputs": [],
   "source": [
    "from langchain.memory import ConversationBufferWindowMemory"
   ]
  },
  {
   "cell_type": "code",
   "execution_count": null,
   "metadata": {},
   "outputs": [],
   "source": [
    "memory =  ConversationBufferWindowMemory(k=1) #It will remember all the thing till the one prompt(try with k=2,3,4,5)"
   ]
  },
  {
   "cell_type": "code",
   "execution_count": null,
   "metadata": {},
   "outputs": [],
   "source": [
    "convo = ConversationChain(llm=OpenAI(openai_api_key=OPENAI_KEY,temperature=0.7),memory=memory)\n"
   ]
  },
  {
   "cell_type": "code",
   "execution_count": null,
   "metadata": {},
   "outputs": [],
   "source": [
    "convo.run(\"who won the first cricket world cup?\")"
   ]
  },
  {
   "cell_type": "code",
   "execution_count": null,
   "metadata": {},
   "outputs": [],
   "source": [
    "convo.run(\"can you tell me how much 5 + 5?\")"
   ]
  },
  {
   "cell_type": "code",
   "execution_count": null,
   "metadata": {},
   "outputs": [],
   "source": [
    "convo.run(\"who was the captain of the  winning team?\")"
   ]
  }
 ],
 "metadata": {
  "kernelspec": {
   "display_name": "python13",
   "language": "python",
   "name": "python3"
  },
  "language_info": {
   "codemirror_mode": {
    "name": "ipython",
    "version": 3
   },
   "file_extension": ".py",
   "mimetype": "text/x-python",
   "name": "python",
   "nbconvert_exporter": "python",
   "pygments_lexer": "ipython3",
   "version": "3.12.1"
  }
 },
 "nbformat": 4,
 "nbformat_minor": 2
}
