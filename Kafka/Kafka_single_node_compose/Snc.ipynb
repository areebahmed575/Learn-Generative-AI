{
 "cells": [
  {
   "cell_type": "markdown",
   "metadata": {},
   "source": [
    "## Single Node\n",
    "These examples are for understanding various ways inputs can be provided and kafka can be configured in docker container.\n",
    "\n",
    "Examples are present inside jvm/single-node directory.\n",
    "\n",
    "Plaintext:-\n",
    "\n",
    "This is the simplest compose file.\n",
    "\n",
    "We are using environment variables purely for providing configs.\n",
    "\n",
    "KAFKA_LISTENERS is getting supplied. But if it was not provided, defaulting would have kicked in and we would have used \n",
    "\n",
    "KAFKA_ADVERTISED_LISTENERS to generate KAFKA_LISTENERS, by replacing the host with 0.0.0.0.\n",
    "\n",
    "Note that we have provided a CLUSTER_ID, but it's not mandatory as there is a default cluster id present in container.\n",
    "\n",
    "We had to provide KAFKA_OFFSETS_TOPIC_REPLICATION_FACTOR and set it explicitly to 1, because if we don't provide it default \n",
    "value provided by kafka will be taken which is 3.\n",
    "\n",
    "We have also set hostname of the container. It can be kept same as the container name for clarity."
   ]
  },
  {
   "cell_type": "markdown",
   "metadata": {},
   "source": [
    "Target - > Kafka Docker Image use krtay way single node cluster banaye gai\n",
    "\n",
    "Single node cluster mean ek he machine mai aik he cluster chalana\n"
   ]
  },
  {
   "cell_type": "markdown",
   "metadata": {},
   "source": [
    "2 services define ki we h ek broker ki or aik kafka ui ki\n",
    "Broker mean kafka ka server\n",
    "\n",
    "\n",
    "container_name k saat DNS nhi create hojata h\n",
    "\n",
    "container k bahar container_name use hogha or container k ander hostname use hogha\n",
    "\n",
    "environment .env ki tarah h jisma key vakue pairs h"
   ]
  },
  {
   "cell_type": "markdown",
   "metadata": {},
   "source": [
    "For run:\n",
    "docker compose config\n",
    "docker compose up -d\n",
    "docker compose logs -f\n"
   ]
  },
  {
   "cell_type": "markdown",
   "metadata": {},
   "source": [
    "![alt text](<Screenshot (176).png>)"
   ]
  },
  {
   "cell_type": "markdown",
   "metadata": {},
   "source": []
  },
  {
   "cell_type": "code",
   "execution_count": null,
   "metadata": {},
   "outputs": [],
   "source": []
  }
 ],
 "metadata": {
  "language_info": {
   "name": "python"
  }
 },
 "nbformat": 4,
 "nbformat_minor": 2
}
