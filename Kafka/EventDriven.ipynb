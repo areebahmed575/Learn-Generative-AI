{
 "cells": [
  {
   "cell_type": "markdown",
   "metadata": {},
   "source": [
    "## What is event streaming?\n",
    "Event streaming is the digital equivalent of the human body's central nervous system. It is the technological foundation for the 'always-on' world where businesses are increasingly software-defined and automated, and where the user of software is more software.\n",
    "\n",
    "Technically speaking, event streaming is the practice of capturing data in real-time from event sources like databases, sensors, mobile devices, cloud services, and software applications in the form of streams of events; storing these event streams durably for later retrieval; manipulating, processing, and reacting to the event streams in real-time as well as retrospectively; and routing the event streams to different destination technologies as needed. Event streaming thus ensures a continuous flow and interpretation of data so that the right information is at the right place, at the right time."
   ]
  },
  {
   "cell_type": "markdown",
   "metadata": {},
   "source": [
    "Kohi bhi change ko hum event boltay h.For example mai guiter ko laikr order proceed kr krta ho tou yeh bhi ek event h.Phir uska data ja raha h database mai.Database k saat woh logs bana raha h.Logs mai jo cheezain arahe h usko hum events boley gai.Logs mai jo changing horahe h woh bhi logs h.Or phir guitor ki tarah logs ko kahe distribute kr rahay h tou woh streaming h.Streaming ek fixed chunk ka size hota h or woh data bar bar araha hota h.For example chat gpt ka response"
   ]
  },
  {
   "cell_type": "markdown",
   "metadata": {},
   "source": [
    "2 software h woh apas mai baat krna chatay h.Jo software baat krna chata h woh Producer h or jo message laina chata h usko consumer kehta ho.Producer  agar aik h tou consumer 50 500 kitnay bhi hosktay h.Tou mainay produce kya event or topic pr likh dya.Aab topic lo retreival samjhay.Agar table likhi tou samjhay row likh de or agar file likhi tou samjhay directory likh de.Then consumer ko pata chalay ga aik row ya file agaye tou woh.Phir consumer action ley ga.Producer Event generate kr k topic pr rakta h or topic pr rakh daita h then consumer data ko dhek kr action laita h.Kafka k ander yeh power h k millions of event per second handle kr skta h"
   ]
  },
  {
   "cell_type": "markdown",
   "metadata": {},
   "source": [
    "## Kafka 3.7 Docker Image\n",
    "\n",
    "Using Kafka from Console with KRaft Using Docker Image\n",
    "\n",
    "Get the docker image\n",
    "\n",
    "* docker pull apache/kafka:3.7.0"
   ]
  },
  {
   "cell_type": "markdown",
   "metadata": {},
   "source": [
    "Start the kafka docker container\n",
    "\n",
    "* docker run -p 9092:9092 apache/kafka:3.7.0"
   ]
  },
  {
   "cell_type": "markdown",
   "metadata": {},
   "source": [
    "Note:Please remember the port 9092"
   ]
  },
  {
   "cell_type": "markdown",
   "metadata": {},
   "source": [
    "Open another console and check to see if container running:\n",
    "\n",
    "* docker ps\n"
   ]
  },
  {
   "cell_type": "markdown",
   "metadata": {},
   "source": [
    "Copy the container name, and give the following command to attach:\n",
    "\n",
    "* docker exec -it <container-name> /bin/bash\n",
    "\n",
    "* container name can be first four letters e.g:docker exec -it 20ae  /bin/bash\n",
    "\n",
    "* ls"
   ]
  },
  {
   "cell_type": "markdown",
   "metadata": {},
   "source": [
    "Note: Kafka commands are in this directory in the container\n",
    "\n",
    "* /opt/kafka/bin\n",
    "* e.g: \n",
    "* ls\n",
    "\n",
    "After ls you will see kafka-topics.sh.This is very important file"
   ]
  },
  {
   "cell_type": "markdown",
   "metadata": {},
   "source": [
    "## CREATE A TOPIC TO STORE YOUR EVENTS\n",
    "\n",
    "Kafka is a distributed event streaming platform that lets you read, write, store, and process events (also called records or messages in the documentation) across many machines.\n",
    "\n",
    "Example events are payment transactions, geolocation updates from mobile phones, shipping orders, sensor measurements from IoT devices or medical equipment, and much more. These events are organized and stored in topics. Very simplified, a topic is similar to a folder in a filesystem, and the events are the files in that folder.\n",
    "\n",
    "So before you can write your first events, you must create a topic. Open another terminal session and run:\n",
    "\n",
    "* /opt/kafka/bin/kafka-topics.sh --create --topic quickstart-events --bootstrap-server localhost:9092\n",
    "All of Kafka's command line tools have additional options:\n",
    "\n",
    "Note: run the kafka-topics.sh command without any arguments to display usage information. For example, it can also show you details such as the partition count of the new topic:\n",
    "\n",
    "(For details of topic)\n",
    "* /opt/kafka/bin/kafka-topics.sh --describe --topic quickstart-events --bootstrap-server localhost:9092"
   ]
  },
  {
   "cell_type": "markdown",
   "metadata": {},
   "source": [
    "Topic: quickstart-events TopicId: NPmZHyhbR9y00wMglMH2sg PartitionCount: 1 ReplicationFactor: 1 Configs: Topic: quickstart-events Partition: 0 Leader: 0 Replicas: 0 Isr: 0\n",
    "\n",
    "### WRITE SOME EVENTS INTO THE TOPIC\n",
    "\n",
    "A Kafka client communicates with the Kafka brokers via the network for writing (or reading) events. Once received, the brokers will store the events in a durable and fault-tolerant manner for as long as you need—even forever.\n",
    "\n",
    "Run the console producer client to write a few events into your topic. By default, each line you enter will result in a separate event being written to the topic."
   ]
  },
  {
   "cell_type": "markdown",
   "metadata": {},
   "source": [
    "* /opt/kafka/bin/kafka-console-producer.sh --topic quickstart-events --bootstrap-server localhost:9092\n",
    "\n",
    "Then run the following lines\n",
    "\n",
    "* This is my first event\n",
    "\n",
    "* This is my second event\n",
    "\n",
    "You can stop the producer client with Ctrl-C at any time.\n",
    "\n",
    "### READ THE EVENTS\n",
    "\n",
    "Open another terminal session and run the console consumer client to read the events you just created:"
   ]
  },
  {
   "cell_type": "markdown",
   "metadata": {},
   "source": [
    "* docker exec -it 20ae  /bin/bash\n",
    "* /opt/kafka/bin/kafka-console-consumer.sh --topic quickstart-events --from-beginning --bootstrap-server localhost:9092\n",
    "\n",
    "This is my first event\n",
    "\n",
    "This is my second event\n",
    "\n",
    "You can stop the consumer client with Ctrl-C at any time.\n",
    "\n",
    "Feel free to experiment: for example, switch back to your producer terminal (previous step) to write additional events, and see how the events immediately show up in your consumer terminal.\n",
    "\n",
    "Because events are durably stored in Kafka, they can be read as many times and by as many consumers as you want. You can easily verify this by opening yet another terminal session and re-running the previous command again."
   ]
  },
  {
   "cell_type": "markdown",
   "metadata": {},
   "source": [
    "![alt text](<Screenshot (163).png>)"
   ]
  }
 ],
 "metadata": {
  "language_info": {
   "name": "python"
  }
 },
 "nbformat": 4,
 "nbformat_minor": 2
}
