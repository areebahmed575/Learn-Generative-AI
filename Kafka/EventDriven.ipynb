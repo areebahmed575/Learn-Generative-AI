{
 "cells": [
  {
   "cell_type": "markdown",
   "metadata": {},
   "source": [
    "## What is event streaming?\n",
    "Event streaming is the digital equivalent of the human body's central nervous system. It is the technological foundation for the 'always-on' world where businesses are increasingly software-defined and automated, and where the user of software is more software.\n",
    "\n",
    "Technically speaking, event streaming is the practice of capturing data in real-time from event sources like databases, sensors, mobile devices, cloud services, and software applications in the form of streams of events; storing these event streams durably for later retrieval; manipulating, processing, and reacting to the event streams in real-time as well as retrospectively; and routing the event streams to different destination technologies as needed. Event streaming thus ensures a continuous flow and interpretation of data so that the right information is at the right place, at the right time."
   ]
  },
  {
   "cell_type": "markdown",
   "metadata": {},
   "source": [
    "Kohi bhi change ko hum event boltay h.For example mai guiter ko laikr order proceed kr krta ho tou yeh bhi ek event h.Phir uska data ja raha h database mai.Database k saat woh logs bana raha h.Logs mai jo cheezain arahe h usko hum events boley gai.Logs mai jo changing horahe h woh bhi logs h.Or phir guitor ki tarah logs ko kahe distribute kr rahay h tou woh streaming h.Streaming ek fixed chunk ka size hota h or woh data bar bar araha hota h.For example chat gpt ka response"
   ]
  },
  {
   "cell_type": "markdown",
   "metadata": {},
   "source": [
    "2 software h woh apas mai baat krna chatay h.Jo software baat krna chata h woh Producer h or jo message laina chata h usko consumer kehta ho.Producer  agar aik h tou consumer 50 500 kitnay bhi hosktay h.Tou mainay produce kya event or topic pr likh dya.Aab topic lo retreival samjhay.Agar table likhi tou samjhay row likh de or agar file likhi tou samjhay directory likh de.Then consumer ko pata chalay ga aik row ya file agaye tou woh.Phir consumer action ley ga.Producer Event generate kr k topic pr rakta h or topic pr rakh daita h then consumer data ko dhek kr action laita h.Kafka k ander yeh power h k millions of event per second handle kr skta h"
   ]
  }
 ],
 "metadata": {
  "language_info": {
   "name": "python"
  }
 },
 "nbformat": 4,
 "nbformat_minor": 2
}
