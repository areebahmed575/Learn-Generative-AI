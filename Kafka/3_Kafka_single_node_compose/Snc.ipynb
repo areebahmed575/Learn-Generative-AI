{
 "cells": [
  {
   "cell_type": "markdown",
   "metadata": {},
   "source": [
    "## Single Node\n",
    "These examples are for understanding various ways inputs can be provided and kafka can be configured in docker container.\n",
    "\n",
    "Examples are present inside jvm/single-node directory.\n",
    "\n",
    "Plaintext:-\n",
    "\n",
    "This is the simplest compose file.\n",
    "\n",
    "We are using environment variables purely for providing configs.\n",
    "\n",
    "KAFKA_LISTENERS is getting supplied. But if it was not provided, defaulting would have kicked in and we would have used \n",
    "\n",
    "KAFKA_ADVERTISED_LISTENERS to generate KAFKA_LISTENERS, by replacing the host with 0.0.0.0.\n",
    "\n",
    "Note that we have provided a CLUSTER_ID, but it's not mandatory as there is a default cluster id present in container.\n",
    "\n",
    "We had to provide KAFKA_OFFSETS_TOPIC_REPLICATION_FACTOR and set it explicitly to 1, because if we don't provide it default \n",
    "value provided by kafka will be taken which is 3.\n",
    "\n",
    "We have also set hostname of the container. It can be kept same as the container name for clarity."
   ]
  },
  {
   "cell_type": "markdown",
   "metadata": {},
   "source": [
    "## A single-node Kafka cluster. Here's why:\n",
    "\n",
    "* Single Broker Configuration: The setup defines only one Kafka broker service (broker) with KAFKA_NODE_ID: 1.\n",
    "\n",
    "* Controller and Broker Roles: The single broker acts as both the broker and controller, indicated by the KAFKA_PROCESS_ROLES: 'broker,controller' setting.\n",
    "\n",
    "* Replication Factor and ISR Settings: The replication factor for the offsets topic and transaction state log is set to 1 (KAFKA_OFFSETS_TOPIC_REPLICATION_FACTOR: 1 and KAFKA_TRANSACTION_STATE_LOG_REPLICATION_FACTOR: 1), which means no redundancy is needed, appropriate for a single-node setup.\n",
    "\n",
    "* Quorum Voters: The KAFKA_CONTROLLER_QUORUM_VOTERS: '1@broker:29093' indicates that the controller quorum consists of just this single broker.\n",
    "\n",
    "* Listeners and Advertised Listeners: The listeners and advertised listeners settings are configured to handle connections for a single-node environment."
   ]
  },
  {
   "cell_type": "markdown",
   "metadata": {},
   "source": [
    "## Broker:\n",
    "In the context of Apache Kafka, a broker is a server that stores and serves the data. Kafka brokers are responsible for:\n",
    "\n",
    "Receiving Data: Brokers receive messages from producers and store them on disk as logs.\n",
    "\n",
    "Serving Data: Brokers serve data to consumers, ensuring that consumers receive messages in the order they were written to the log.\n",
    "\n",
    "Replication: Brokers handle data replication, ensuring that copies of the data are stored on multiple brokers to provide fault tolerance.\n",
    "\n",
    "Coordination: Brokers coordinate with each other to manage partitions and replicas within the Kafka cluster.\n",
    "Key Responsibilities of a Kafka Broker\n",
    "\n",
    "Message Storage: Brokers store messages in topics, which are divided into partitions. Each partition is an ordered, immutable sequence of records.\n",
    "\n",
    "Message Delivery: Brokers deliver messages to consumers. Each consumer keeps track of its offset in each partition, which determines which messages have been consumed.\n",
    "\n",
    "Partition Assignment: Brokers manage the assignment of partitions to brokers within the cluster. Partitions can be reassigned in case of broker failure.\n",
    "\n",
    "Replication and Leader Election: Brokers replicate partitions for fault tolerance. One broker acts as the leader for a partition, handling all read and write requests for that partition. The other brokers act as followers, replicating the leader's data.\n",
    "\n",
    "Coordination Services: Brokers coordinate with the ZooKeeper (or KRaft mode in newer Kafka versions) for various administrative tasks like leader election, configuration changes, and more."
   ]
  },
  {
   "cell_type": "markdown",
   "metadata": {},
   "source": [
    "## Target :\n",
    "Kafka Docker Image use krtay way single node cluster banaye gai\n",
    "\n",
    "Single node cluster mean ek he machine mai aik he cluster chalana\n"
   ]
  },
  {
   "cell_type": "markdown",
   "metadata": {},
   "source": [
    "2 services define ki we h ek broker ki or aik kafka ui ki\n",
    "Broker mean kafka ka server\n",
    "\n",
    "\n",
    "container_name k saat DNS nhi create hojata h\n",
    "\n",
    "container k bahar container_name use hogha or container k ander hostname use hogha\n",
    "\n",
    "environment .env ki tarah h jisma key vakue pairs h"
   ]
  },
  {
   "cell_type": "markdown",
   "metadata": {},
   "source": [
    "For run:\n",
    "docker compose config\n",
    "docker compose up -d\n",
    "docker compose logs -f\n"
   ]
  },
  {
   "cell_type": "markdown",
   "metadata": {},
   "source": [
    "![alt text](<Screenshot (176).png>)"
   ]
  },
  {
   "cell_type": "markdown",
   "metadata": {},
   "source": [
    "### Broker aik he tou replicates bhi 1 he bana sktay h.1 server h tou 1 he replicates baney ghi"
   ]
  },
  {
   "cell_type": "markdown",
   "metadata": {},
   "source": [
    "![alt text](<Screenshot (177).png>)"
   ]
  },
  {
   "cell_type": "markdown",
   "metadata": {},
   "source": [
    "![alt text](<Screenshot (178)-1.png>)"
   ]
  },
  {
   "cell_type": "markdown",
   "metadata": {},
   "source": [
    "![alt text](<Screenshot (179).png>)"
   ]
  },
  {
   "cell_type": "markdown",
   "metadata": {},
   "source": [
    "![alt text](<Screenshot (180).png>)"
   ]
  },
  {
   "cell_type": "markdown",
   "metadata": {},
   "source": [
    "![alt text](<Screenshot (181).png>)"
   ]
  },
  {
   "cell_type": "markdown",
   "metadata": {},
   "source": [
    "![alt text](<Screenshot (182).png>)"
   ]
  },
  {
   "cell_type": "markdown",
   "metadata": {},
   "source": [
    "![alt text](<Screenshot (183).png>)"
   ]
  },
  {
   "cell_type": "markdown",
   "metadata": {},
   "source": [
    "![alt text](<Screenshot (184).png>)"
   ]
  },
  {
   "cell_type": "markdown",
   "metadata": {},
   "source": [
    "![alt text](<Screenshot (185).png>)"
   ]
  }
 ],
 "metadata": {
  "language_info": {
   "name": "python"
  }
 },
 "nbformat": 4,
 "nbformat_minor": 2
}
