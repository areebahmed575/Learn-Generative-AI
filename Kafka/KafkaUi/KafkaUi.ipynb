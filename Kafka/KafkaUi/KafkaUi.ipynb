{
 "cells": [
  {
   "cell_type": "markdown",
   "metadata": {},
   "source": [
    "## Kafka UI\n",
    "This is a popular open-source web UI specifically designed for viewing Kafka topics, messages, brokers, consumer groups, and even lets you create new topics. It's known for being lightweight, easy to set up, and supports secure connections. You can find the project on Github here:"
   ]
  },
  {
   "cell_type": "markdown",
   "metadata": {},
   "source": [
    "docker network create -d bridge kafka-net\n",
    "\n",
    "docker network ls\n",
    "\n",
    "docker run -p 9092:9092 --network kafka-net --name mykafka apache/kafka:3.7.0\n",
    "\n",
    "docker run -it -p 8080:8080 --network kafka-net -e DYNAMIC_CONFIG_ENABLED=true provectuslabs/kafka-ui"
   ]
  },
  {
   "cell_type": "markdown",
   "metadata": {},
   "source": [
    "Note: We will learn docker compose later, how to use docker compose to configure kafka, right now after a minutes it will go offline.\n",
    "\n",
    "Then access the web UI at http://localhost:8080\n",
    "\n",
    "In order to integrate kafka broker with kafkaUI use container name in the host"
   ]
  }
 ],
 "metadata": {
  "language_info": {
   "name": "python"
  }
 },
 "nbformat": 4,
 "nbformat_minor": 2
}
