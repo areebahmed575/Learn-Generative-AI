{
 "cells": [
  {
   "cell_type": "markdown",
   "metadata": {},
   "source": [
    "## Kafka UI\n",
    "This is a popular open-source web UI specifically designed for viewing Kafka topics, messages, brokers, consumer groups, and even lets you create new topics. It's known for being lightweight, easy to set up, and supports secure connections. You can find the project on Github here:"
   ]
  },
  {
   "cell_type": "markdown",
   "metadata": {},
   "source": [
    "docker network create -d bridge kafka-net\n",
    "\n",
    "docker network ls\n",
    "\n",
    "docker run -p 9092:9092 --network kafka-net --name kafkac apache/kafka:3.7.0\n",
    "\n",
    "docker ps\n",
    "\n",
    "docker exec -it kafkac /bin/bash\n",
    "\n",
    "/opt/kafka/bin/kafka-topics.sh --create --topic quickstart-events --bootstrap-server localhost:9092\n",
    "\n",
    "/opt/kafka/bin/kafka-topics.sh --describe --topic quickstart-events --bootstrap-server localhost:9092\n",
    "\n",
    "/opt/kafka/bin/kafka-console-producer.sh --topic quickstart-events --bootstrap-server localhost:9092\n",
    "\n",
    "Message from Areeb\n",
    "\n",
    "Message from Ahmed\n",
    "\n",
    "On other terminal:\n",
    "\n",
    "docker exec -it kafkac /bin/bash\n",
    "\n",
    "/opt/kafka/bin/kafka-console-consumer.sh --topic quickstart-events --from-beginning --bootstrap-server localhost:9092\n",
    "\n",
    "Ctrl + C\n",
    "\n",
    "exit\n",
    "\n",
    "docker run -it -p 8080:8080 --network kafka-net -e DYNAMIC_CONFIG_ENABLED=true provectuslabs/kafka-ui\n",
    "\n",
    "#-e environment h\n",
    "\n",
    "#provectuslabs/kafka-ui yeh kafka ui ki aik ui h\n",
    "\n",
    "Then access the web UI at http://localhost:8080\n",
    "\n",
    "In order to integrate kafka broker with kafkaUI use container name in the host"
   ]
  },
  {
   "cell_type": "markdown",
   "metadata": {},
   "source": [
    "![alt text](<Screenshot (166).png>)"
   ]
  },
  {
   "cell_type": "markdown",
   "metadata": {},
   "source": [
    "Then validate it and save it"
   ]
  },
  {
   "cell_type": "markdown",
   "metadata": {},
   "source": [
    "![alt text](<Screenshot (168).png>)"
   ]
  },
  {
   "cell_type": "markdown",
   "metadata": {},
   "source": [
    "Note: We will learn docker compose later, how to use docker compose to configure kafka, right now after a minutes it will go offline.\n",
    "\n"
   ]
  },
  {
   "cell_type": "markdown",
   "metadata": {},
   "source": [
    "![alt text](<Screenshot (169).png>)"
   ]
  },
  {
   "cell_type": "markdown",
   "metadata": {},
   "source": []
  }
 ],
 "metadata": {
  "language_info": {
   "name": "python"
  }
 },
 "nbformat": 4,
 "nbformat_minor": 2
}
