{
 "cells": [
  {
   "cell_type": "markdown",
   "metadata": {},
   "source": [
    "# Serveless Contianers\n",
    "\n",
    "Kubernetes is today's go-to platform for managing large groups of containers thanks to benefits such as faster development and release timelines, greater team productivity, reduced downtime risk, and easier troubleshooting with the rollback option.\n",
    "\n",
    "However, because of its complexity, Kubernetes calls for in-house experts able to continuously manage and maintain the infrastructure, placing this solution out of reach for many smaller businesses.\n",
    "\n",
    "A container orchestration solution brings together the benefits of serverless architecture and the quick performance of the container orchestration system Kubernetes. For example, Azure serverless containers allow cloud customers to run containers without the need for servers or system infrastructure.\n",
    "\n",
    "That way, businesses can get containers up and running in minutes, with just enough flexibility to meet their needs. They also won’t have to worry about manual updates again.\n",
    "\n",
    "Engineers can concentrate on their code while a third-party cloud provider provisions, maintains, and secures the hardware. You just pay for the compute resources you use, and the solution is more scalable and often less expensive than Kubernetes or traditional deployments."
   ]
  },
  {
   "cell_type": "markdown",
   "metadata": {},
   "source": [
    "- AWS\n",
    "- Goole\n",
    "- Azure\n",
    "- Onprem(means mairay pass system rakha hwa ho)\n",
    "\n",
    "\n",
    "\n",
    "Virtualization - VM Virtual Machine ka concept yeh h k aap ki jitni need h utni space aap ko dey de jaye isolated like 2 core CPU,4GB Memory,20GB Storage\n",
    "But VM mai aik problem thi Boot time (system first time start honay mai time laity h)\n",
    "Virtualization/Conterization - Container\n",
    "Boot time ki problem nahi thi because of cutting edge\n",
    "Docker - Image Spec - Container Spec\n",
    "\n",
    "8 core CPU\n",
    "16 GB RAM\n",
    "128 GB Storage \n",
    "\n",
    "\n",
    "2 core CPU\n",
    "4GB Memory\n",
    "20GB Storage\n",
    "\n",
    "\n",
    "aws lambda functions humay functionality provide krta h k hum waha jakr code run kray.Sirf apna base enviroment yani python bata deyn.Laikin humaray case mai sahe nahi h q k humai python k elawa or cheezon ki need h like fastapi\n",
    "\n",
    "\n",
    "Severless Function - kohi vendor humai apna sever provide kray or jitna hum server use kray uss hisab sai cost charge ho.Yani humari website mai jab traffic na ho tou server sleep pr chala jaye.Or server ko manage bhi vender he kray ga\n",
    "Problem yeh h k first user jo aaye ga uss ko website delay sai milay because server sleep hota h.Java ka boot time zyada hota h.Is liyai zyada tar serverless function python and javascript k liyai log use krtay h.Or aik or limitation yeh h k hum zyada code nahi rakh sktay.300 mb ki limit milti h\n",
    "Chotay kaam k liyai sahe h but long term solution nahi h\n",
    "\n",
    "Severless Containers - is mai sara development freedom humaray pass h.Severless Function mai base environment mil raha tha yani sirf python.Yaha pr fast api or kuch bhi use krna h kro.Means k development ka acess humaray pass or server ko manage vender kray ga"
   ]
  },
  {
   "cell_type": "markdown",
   "metadata": {},
   "source": [
    "Humaray pass containers h.Har container ki scalibilty,security or troubleshooting etc h.Phir is containers ko manage,configuration or kaha deploy kr rahay hoghai is sab ki management kubernetes krta h\n",
    "\n",
    "\n",
    "Dapr sidecar conatainer aik proxy h.App service container dapr sidecar container k through dosray App service container sai baat krta h.Tou is wajah sai dapr sidecar container aik proxy h\n",
    "\n",
    "\n",
    "Dapr k through hum 2 service k between jaisay chaye communication krwa sktay h.Hum agar chaye tou consistency like database,message patern like kafka or multi threading k through communication krwa sktay h.\n",
    "\n"
   ]
  },
  {
   "cell_type": "markdown",
   "metadata": {},
   "source": [
    "![alt text](dapr.PNG)"
   ]
  },
  {
   "cell_type": "markdown",
   "metadata": {},
   "source": [
    "### Why we using Azure Container Apps\n",
    "Pricing,dapr,serverless or management bhi thori humaray haat pr h tou serverless azure container apps use krnay ka faida h "
   ]
  },
  {
   "cell_type": "markdown",
   "metadata": {},
   "source": [
    "![alt text](azure.PNG)"
   ]
  },
  {
   "cell_type": "markdown",
   "metadata": {},
   "source": [
    "#### Summary\n",
    "Choosing the right Kubernetes-powered platform depends on your needs for management and control. Fully managed services like Google Cloud Run, Azure Container Apps, and GKE Autopilot offer ease of use and scalability, ideal for teams focusing on application development without worrying about infrastructure. Semi-managed services like AWS Karpenter offer a balance, with some automation while allowing for more customization. Native Kubernetes provides maximum control and customization at the cost of increased management overhead."
   ]
  }
 ],
 "metadata": {
  "language_info": {
   "name": "python"
  }
 },
 "nbformat": 4,
 "nbformat_minor": 2
}
