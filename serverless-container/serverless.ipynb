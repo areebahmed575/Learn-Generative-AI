{
 "cells": [
  {
   "cell_type": "markdown",
   "metadata": {},
   "source": [
    "# Serveless Contianers"
   ]
  },
  {
   "cell_type": "markdown",
   "metadata": {},
   "source": [
    "AWS\n",
    "Goole\n",
    "Azure\n",
    "Onprem(means mairay pass system rakha hwa ho)\n",
    "\n",
    "\n",
    "\n",
    "Virtualization - VM Virtual Machine ka concept yeh h k aap ki jitni need h utni space aap ko dey de jaye isolated like 2 core CPU,4GB Memory,20GB Storage\n",
    "But VM mai aik problem thi Boot time (system first time start honay mai time laity h)\n",
    "Virtualization/Conterization - Container\n",
    "Boot time ki problem nahi thi because of cutting edge\n",
    "Docker - Image Spec - Container Spec\n",
    "\n",
    "8 core CPU\n",
    "16 GB RAM\n",
    "128 GB Storage \n",
    "\n",
    "\n",
    "2 core CPU\n",
    "4GB Memory\n",
    "20GB Storage\n",
    "\n",
    "\n",
    "aws lambda functions humay functionality provide krta h k hum waha jakr code run kray.Sirf apna base enviroment yani python bata deyn.Laikin humaray case mai sahe nahi h q k humai python k elawa or cheezon ki need h like fastapi\n",
    "\n",
    "\n",
    "Severless Function - kohi vendor humai apna sever provide kray or jitna hum server use kray uss hisab sai cost charge ho.Yani humari website mai jab traffic na ho tou server sleep pr chala jaye.Or server ko manage bhi vender he kray ga\n",
    "Problem yeh h k first user jo aaye ga uss ko website delay sai milay because server sleep hota h.Java ka boot time zyada hota h.Is liyai zyada tar serverless function python and javascript k liyai log use krtay h.Or aik or limitation yeh h k hum zyada code nahi rakh sktay.300 mb ki limit milti h\n",
    "Chotay kaam k liyai sahe h but long term solution nahi h\n",
    "\n",
    "Severless Containers - is mai sara development freedom humaray pass h.Severless Function mai base environment mil raha tha yani sirf python.Yaha pr fast api or kuch bhi use krna h kro.Means k development ka acess humaray pass or server ko manage vender kray ga"
   ]
  },
  {
   "cell_type": "markdown",
   "metadata": {},
   "source": [
    "Humaray pass containers h.Har container ki scalibilty,security or troubleshooting etc h.Phir is containers ko manage,configuration or kaha deploy kr rahay hoghai is sab ki management kubernetes krta h\n",
    "\n",
    "\n",
    "Dapr sidecar conatainer aik proxy h.App service container dapr sidecar container k through dosray App service container sai baat krta h.Tou is wajah sai dapr sidecar container aik proxy h\n",
    "\n",
    "\n",
    "Dapr k through hum 2 service k between jaisay chaye communication krwa sktay h.Hum agar chaye tou consistency like database,message patern like kafka or multi threading k through communication krwa sktay h.\n",
    "\n",
    "Pricing,dapr,serverless or management bhi thori humaray haat pr h tou serverless azure container apps use krnay ka faida h "
   ]
  }
 ],
 "metadata": {
  "language_info": {
   "name": "python"
  }
 },
 "nbformat": 4,
 "nbformat_minor": 2
}
