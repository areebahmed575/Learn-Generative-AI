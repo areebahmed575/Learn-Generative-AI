{
 "cells": [
  {
   "cell_type": "markdown",
   "metadata": {},
   "source": [
    "## Crew Ai\n",
    "In Langchain also you have an option to create agents but here in crew ai agent will communicate with each other in an efficient way\n",
    "\n",
    "\n",
    "\n",
    "Youtube channels  --> Big Platform\n",
    "\n",
    "Crew AI:\n",
    "Query --> Youtube channels --> Blog Page\n",
    "\n",
    "\n",
    "\n",
    "There are 3 kind of AI agent\n",
    "- Agents \n",
    "e.g:Domain expert(Data scientist),Content Writer\n",
    "\n",
    "- Tasks\n",
    "Each and every agent does some kind of task.What task a agent is specifically doing that also we need to define\n",
    "\n",
    "- Tools\n",
    "e.g Domain expert wants the transcript of the video so what may happen is that domain expert may use some kind of tool to do that it can be third party tool,it can be api etc\n",
    "\n",
    "\n",
    "So agent have some specific task and this task can be performed by a specific tool\n",
    "\n",
    "\n",
    "In sequential process,once the researcher completes the work it is going to give the entire output to the content writer and content writer further based on the task it is assigned it'll probably go ahead and create the block"
   ]
  },
  {
   "cell_type": "markdown",
   "metadata": {},
   "source": [
    "![alt text](crewai.PNG)"
   ]
  }
 ],
 "metadata": {
  "language_info": {
   "name": "python"
  }
 },
 "nbformat": 4,
 "nbformat_minor": 2
}
