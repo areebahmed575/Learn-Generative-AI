{
  "cells": [
    {
      "cell_type": "markdown",
      "metadata": {
        "id": "DRlskRL7pIg7"
      },
      "source": [
        "# Introduction to LangGraph\n",
        "\n",
        "LangGraph is a framework for creating applications using graph-based workflows. Each node represents a function or computational step, and edges define the flow between these nodes based on certain conditions.\n",
        "\n",
        "## Key Features:\n",
        "- State Management\n",
        "- Flexible Routing\n",
        "- Persistence\n",
        "- Visualization"
      ]
    },
    {
      "cell_type": "markdown",
      "metadata": {
        "id": "FFqsBZWqpIg-"
      },
      "source": [
        "## Tutorial Overview: Text Analysis Pipeline\n",
        "\n",
        "In this tutorial, we'll demonstrate the power of LangGraph by building a multi-step text analysis pipeline. Our use case will focus on processing a given text through three key stages:\n",
        "\n",
        "1. **Text Classification**: We'll categorize the input text into predefined categories (e.g., News, Blog, Research, or Other).\n",
        "2. **Entity Extraction**: We'll identify and extract key entities such as persons, organizations, and locations from the text.\n",
        "3. **Text Summarization**: Finally, we'll generate a concise summary of the input text.\n",
        "\n",
        "This pipeline showcases how LangGraph can be used to create a modular, extensible workflow for natural language processing tasks. By the end of this tutorial, you'll understand how to construct a graph-based application that can be easily modified or expanded for various text analysis needs."
      ]
    },
    {
      "cell_type": "code",
      "source": [
        "%%capture --no-stderr\n",
        "%pip install --quiet -U langgraph"
      ],
      "metadata": {
        "id": "ZbjKFOhWqOue"
      },
      "execution_count": 2,
      "outputs": []
    },
    {
      "cell_type": "code",
      "source": [
        "!pip install python-dotenv"
      ],
      "metadata": {
        "colab": {
          "base_uri": "https://localhost:8080/"
        },
        "id": "vO46blprqTQ4",
        "outputId": "94b3bde2-4783-4229-b822-fcf345197e7d"
      },
      "execution_count": 3,
      "outputs": [
        {
          "output_type": "stream",
          "name": "stdout",
          "text": [
            "Collecting python-dotenv\n",
            "  Downloading python_dotenv-1.0.1-py3-none-any.whl.metadata (23 kB)\n",
            "Downloading python_dotenv-1.0.1-py3-none-any.whl (19 kB)\n",
            "Installing collected packages: python-dotenv\n",
            "Successfully installed python-dotenv-1.0.1\n"
          ]
        }
      ]
    },
    {
      "cell_type": "code",
      "source": [
        "%pip install -q -U langchain-google-genai"
      ],
      "metadata": {
        "colab": {
          "base_uri": "https://localhost:8080/"
        },
        "id": "nwci0p9OrftQ",
        "outputId": "1746e84b-1b27-459a-cf8f-18d3d3a5f3a5"
      },
      "execution_count": 4,
      "outputs": [
        {
          "output_type": "stream",
          "name": "stdout",
          "text": [
            "\u001b[?25l   \u001b[90m━━━━━━━━━━━━━━━━━━━━━━━━━━━━━━━━━━━━━━━━\u001b[0m \u001b[32m0.0/41.8 kB\u001b[0m \u001b[31m?\u001b[0m eta \u001b[36m-:--:--\u001b[0m\r\u001b[2K   \u001b[90m━━━━━━━━━━━━━━━━━━━━━━━━━━━━━━━━━━━━━━━━\u001b[0m \u001b[32m41.8/41.8 kB\u001b[0m \u001b[31m2.9 MB/s\u001b[0m eta \u001b[36m0:00:00\u001b[0m\n",
            "\u001b[?25h"
          ]
        }
      ]
    },
    {
      "cell_type": "markdown",
      "metadata": {
        "id": "pG19rZOtpIhC"
      },
      "source": [
        "### Set Up API Key\n"
      ]
    },
    {
      "cell_type": "code",
      "source": [
        "from google.colab import userdata\n",
        "google_api_key = userdata.get('GEMINI_API_KEY')"
      ],
      "metadata": {
        "id": "voM-pXYoufXg"
      },
      "execution_count": 5,
      "outputs": []
    },
    {
      "cell_type": "markdown",
      "metadata": {
        "id": "kf7nU4UDpIhD"
      },
      "source": [
        "## Building the Text Processing Pipeline\n",
        "\n",
        "### Define State and Initialize LLM\n",
        "Here we define the State class to hold our workflow data and initialize the ChatOpenAI model."
      ]
    },
    {
      "cell_type": "code",
      "execution_count": 6,
      "metadata": {
        "id": "TbQ0rx1jpIhE"
      },
      "outputs": [],
      "source": [
        "from langchain_google_genai import ChatGoogleGenerativeAI\n",
        "from typing import TypedDict, List\n",
        "\n",
        "class State(TypedDict):\n",
        "    text: str\n",
        "    classification: str\n",
        "    entities: List[str]\n",
        "    summary: str\n",
        "\n",
        "\n",
        "# Initialize an instance of the ChatGoogleGenerativeAI with specific parameters\n",
        "llm: ChatGoogleGenerativeAI = ChatGoogleGenerativeAI(\n",
        "    model=\"gemini-1.5-flash\",  # Specify the model to use\n",
        "    api_key=google_api_key,     # Provide the Google API key for authentication\n",
        ")\n"
      ]
    },
    {
      "cell_type": "markdown",
      "metadata": {
        "id": "aF9eB13spIhE"
      },
      "source": [
        "### Define Node Functions\n",
        "These functions define the operations performed at each node of our graph: classification, entity extraction, and summarization."
      ]
    },
    {
      "cell_type": "markdown",
      "source": [
        "**PromptTemplate**: Helps in creating prompts with placeholders.\n",
        "\n",
        "**HumanMessage**: Formats the prompt as a message from a human user."
      ],
      "metadata": {
        "id": "AoyvVDbOLTrS"
      }
    },
    {
      "cell_type": "code",
      "execution_count": 7,
      "metadata": {
        "id": "i4VwlHtepIhE"
      },
      "outputs": [],
      "source": [
        "from langchain.prompts import PromptTemplate\n",
        "from langchain.schema import HumanMessage\n",
        "\n",
        "def classification_node(state: State):\n",
        "    prompt = PromptTemplate(\n",
        "        input_variables=[\"text\"], # input_variables is a list of variable names that appear as placeholders in the template.\n",
        "        template=\"Classify the following text into one of the categories: News, Blog, Research, or Other.\\n\\nText:{text}\\n\\nCategory:\"\n",
        "    )\n",
        "    message = HumanMessage(content=prompt.format(text=state[\"text\"])) #  Replace the {text} placeholder in the template with the actual text from the state.\n",
        "    classification = llm.invoke([message]).content.strip()\n",
        "    return {\"classification\": classification}\n",
        "\n",
        "\n",
        "def entity_extraction_node(state: State):\n",
        "    prompt = PromptTemplate(\n",
        "        input_variables=[\"text\"],\n",
        "        template=\"Extract all the entities (Person, Organization, Location) from the following text. Provide the result as a comma-separated list.\\n\\nText:{text}\\n\\nEntities:\"\n",
        "    )\n",
        "    message = HumanMessage(content=prompt.format(text=state[\"text\"]))\n",
        "    entities = llm.invoke([message]).content.strip().split(\", \")\n",
        "    return {\"entities\": entities}\n",
        "\n",
        "\n",
        "def summarization_node(state: State):\n",
        "    prompt = PromptTemplate(\n",
        "        input_variables=[\"text\"],\n",
        "        template=\"Summarize the following text in one short sentence.\\n\\nText:{text}\\n\\nSummary:\"\n",
        "    )\n",
        "    message = HumanMessage(content=prompt.format(text=state[\"text\"]))\n",
        "    summary = llm.invoke([message]).content.strip()\n",
        "    return {\"summary\": summary}"
      ]
    },
    {
      "cell_type": "markdown",
      "metadata": {
        "id": "uwJyAQAkpIhF"
      },
      "source": [
        "### Create Tools and Build Workflow\n",
        "This cell builds the StateGraph workflow."
      ]
    },
    {
      "cell_type": "code",
      "execution_count": 9,
      "metadata": {
        "id": "4UDd5n0tpIhG"
      },
      "outputs": [],
      "source": [
        "from langgraph.graph import StateGraph, END\n",
        "\n",
        "workflow = StateGraph(State)\n",
        "workflow.add_node(\"classification_node\", classification_node)\n",
        "workflow.add_node(\"entity_extraction\", entity_extraction_node)\n",
        "workflow.add_node(\"summarization\", summarization_node)\n",
        "\n",
        "# Add edges to the graph\n",
        "workflow.set_entry_point(\"classification_node\")\n",
        "workflow.add_edge(\"classification_node\", \"entity_extraction\")\n",
        "workflow.add_edge(\"entity_extraction\", \"summarization\")\n",
        "workflow.add_edge(\"summarization\", END)\n",
        "\n",
        "# Compile the graph\n",
        "app = workflow.compile()"
      ]
    },
    {
      "cell_type": "markdown",
      "metadata": {
        "id": "PS9eU-axpIhG"
      },
      "source": [
        "## Visualizing the Workflow\n",
        "This cell creates a visual representation of our workflow using Mermaid"
      ]
    },
    {
      "cell_type": "code",
      "execution_count": 10,
      "metadata": {
        "colab": {
          "base_uri": "https://localhost:8080/",
          "height": 449
        },
        "id": "cjw3XslLpIhH",
        "outputId": "b2c77424-c61b-4248-8ad6-9282ec69891a"
      },
      "outputs": [
        {
          "output_type": "display_data",
          "data": {
            "image/jpeg": "[encoded data removed]",
            "text/plain": [
              "<IPython.core.display.Image object>"
            ]
          },
          "metadata": {}
        }
      ],
      "source": [
        "from langchain_core.runnables.graph import MermaidDrawMethod\n",
        "from IPython.display import display, Image\n",
        "\n",
        "display(\n",
        "    Image(\n",
        "        app.get_graph().draw_mermaid_png(\n",
        "            draw_method=MermaidDrawMethod.API,\n",
        "        )\n",
        "    )\n",
        ")"
      ]
    },
    {
      "cell_type": "markdown",
      "metadata": {
        "id": "sQJ1K_PqpIhI"
      },
      "source": [
        "## Testing the Pipeline\n",
        "This cell runs a sample text through our pipeline and displays the results."
      ]
    },
    {
      "cell_type": "code",
      "execution_count": 12,
      "metadata": {
        "colab": {
          "base_uri": "https://localhost:8080/"
        },
        "id": "ziEJExJrpIhI",
        "outputId": "384b5966-79e4-4a78-95aa-235ef81449d9"
      },
      "outputs": [
        {
          "output_type": "stream",
          "name": "stdout",
          "text": [
            "Classification: The category is **News**. \n",
            "\n",
            "Here's why:\n",
            "\n",
            "* **Factual and objective:** The text presents factual information about the release of a new AI model, GPT-4, by OpenAI. \n",
            "* **Concise and informative:**  It provides key details about the model's capabilities, purpose, and release timeline.\n",
            "* **No personal opinions or interpretations:**  The text avoids subjective opinions or personal reflections, focusing solely on objective information. \n",
            "\n",
            "While the text could be part of a blog post or research paper, the focus on announcing a new development and its key features strongly points to it being a news article.\n",
            "\n",
            "Entities: ['OpenAI', 'GPT-4', 'GPT-3']\n",
            "\n",
            "Summary: OpenAI's new multimodal model, GPT-4, demonstrates human-level performance in various professional tasks and prioritizes safety and efficiency.\n"
          ]
        }
      ],
      "source": [
        "# Testing the pipeline\n",
        "sample_text = \"\"\"\n",
        "OpenAI has announced the GPT-4 model, which is a large multimodal model that exhibits human-level performance on various professional benchmarks. It is developed to improve the alignment and safety of AI systems.\n",
        "additionally, the model is designed to be more efficient and scalable than its predecessor, GPT-3. The GPT-4 model is expected to be released in the coming months and will be available to the public for research and development purposes.\n",
        "\"\"\"\n",
        "\n",
        "state_input = {\"text\": sample_text}\n",
        "result = app.invoke(state_input)\n",
        "\n",
        "print(\"Classification:\", result[\"classification\"])\n",
        "print(\"\\nEntities:\", result[\"entities\"])\n",
        "print(\"\\nSummary:\", result[\"summary\"])"
      ]
    },
    {
      "cell_type": "markdown",
      "metadata": {
        "id": "0yQOs9d_pIhJ"
      },
      "source": [
        "## Conclusion\n",
        "\n",
        "In this tutorial, we've:\n",
        "- Explored LangGraph concepts\n",
        "- Built a text processing pipeline\n",
        "- Demonstrated LangGraph's use in data processing workflows\n",
        "- Visualized the workflow using Mermaid\n",
        "\n",
        "This example showcases how LangGraph can be used for tasks beyond conversational agents, providing a flexible framework for creating complex, graph-based workflows."
      ]
    }
  ],
  "metadata": {
    "kernelspec": {
      "display_name": "Python 3",
      "language": "python",
      "name": "python3"
    },
    "language_info": {
      "codemirror_mode": {
        "name": "ipython",
        "version": 3
      },
      "file_extension": ".py",
      "mimetype": "text/x-python",
      "name": "python",
      "nbconvert_exporter": "python",
      "pygments_lexer": "ipython3",
      "version": "3.12.0"
    },
    "colab": {
      "provenance": []
    }
  },
  "nbformat": 4,
  "nbformat_minor": 0
}