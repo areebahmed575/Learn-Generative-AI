{
  "cells": [
    {
      "cell_type": "markdown",
      "metadata": {
        "id": "a3IFtFpIMjJR"
      },
      "source": [
        "# Building a Travel Planner with LangGraph: A Tutorial\n",
        "\n",
        "## Overview\n",
        "\n",
        "This tutorial guides you through the process of creating a simple Travel Planner using LangGraph, a library for building stateful, multi-step applications with language models. The Travel Planner demonstrates how to structure a conversational AI application that collects user input and generates personalized travel itineraries.\n",
        "\n",
        "## Motivation\n",
        "\n",
        "In the realm of AI applications, managing state and flow in multi-step processes can be challenging. LangGraph provides a solution by allowing developers to create graph-based workflows that can handle complex interactions while maintaining a clear and modular structure. This Travel Planner serves as a practical example of how to leverage LangGraph's capabilities to build a useful and interactive application.\n",
        "\n",
        "## Key Components\n",
        "\n",
        "1. **StateGraph**: The core of our application, defining the flow of our Travel Planner.\n",
        "2. **PlannerState**: A custom type representing the state of our planning process.\n",
        "3. **Node Functions**: Individual steps in our planning process (input_city, input_interests, create_itinerary).\n",
        "4. **LLM Integration**: Utilizing a language model to generate the final itinerary.\n",
        "\n",
        "## Method Details\n",
        "\n",
        "Our Travel Planner follows a straightforward, three-step process:\n",
        "\n",
        "1. **City Input**:\n",
        "   - The application prompts the user to enter the city they want to visit.\n",
        "   - This information is stored in the state.\n",
        "\n",
        "2. **Interests Input**:\n",
        "   - The user is asked to provide their interests for the trip.\n",
        "   - These interests are stored as a list in the state.\n",
        "\n",
        "3. **Itinerary Creation**:\n",
        "   - Using the collected city and interests, the application leverages a language model to generate a personalized day trip itinerary.\n",
        "   - The generated itinerary is presented to the user.\n",
        "\n",
        "The flow between these steps is managed by LangGraph, which handles the state transitions and ensures that each step is executed in the correct order.\n",
        "\n",
        "## Conclusion\n",
        "\n",
        "This tutorial demonstrates how LangGraph can be used to create a simple yet effective Travel Planner. By structuring our application as a graph of interconnected nodes, we achieve a clear separation of concerns and a easily modifiable workflow. This approach can be extended to more complex applications, showcasing the power and flexibility of graph-based designs in AI-driven conversational interfaces.\n",
        "\n",
        "The Travel Planner serves as a starting point for developers looking to build more sophisticated stateful applications using language models. It illustrates key concepts such as state management, user input handling, and integration with AI models, all within the framework provided by LangGraph."
      ]
    },
    {
      "cell_type": "markdown",
      "metadata": {
        "id": "bUtcrSngMjJZ"
      },
      "source": [
        "### Setup and Imports\n",
        "\n",
        "First, let's import the necessary modules and set up our environment."
      ]
    },
    {
      "cell_type": "code",
      "source": [
        "%%capture --no-stderr\n",
        "%pip install --quiet -U langchain_core langgraph langchain_google_genai"
      ],
      "metadata": {
        "id": "ln6frnARP8on"
      },
      "execution_count": 1,
      "outputs": []
    },
    {
      "cell_type": "code",
      "source": [
        "from google.colab import userdata\n",
        "google_api_key = userdata.get('GEMINI_API_KEY')\n"
      ],
      "metadata": {
        "id": "uOlRI2KmP_kn"
      },
      "execution_count": 2,
      "outputs": []
    },
    {
      "cell_type": "code",
      "source": [
        "import os\n",
        "os.environ[\"LANGCHAIN_TRACING_V2\"] = \"true\"\n",
        "os.environ[\"LANGCHAIN_PROJECT\"] = \"langchain-academy\""
      ],
      "metadata": {
        "id": "wPpo9_a8QBsB"
      },
      "execution_count": 3,
      "outputs": []
    },
    {
      "cell_type": "code",
      "source": [
        "from langchain_google_genai import ChatGoogleGenerativeAI\n",
        "llm: ChatGoogleGenerativeAI = ChatGoogleGenerativeAI(model=\"gemini-1.5-flash\", api_key=google_api_key)\n"
      ],
      "metadata": {
        "id": "rbb-5OwcQSSG"
      },
      "execution_count": 4,
      "outputs": []
    },
    {
      "cell_type": "code",
      "execution_count": 5,
      "metadata": {
        "id": "c0z9DfB7MjJb"
      },
      "outputs": [],
      "source": [
        "from typing import TypedDict, Annotated, List\n",
        "from langgraph.graph import StateGraph, END\n",
        "from langchain_core.messages import HumanMessage, AIMessage\n",
        "from IPython.display import display, Image\n",
        "\n",
        "from langgraph.graph import MessagesState\n",
        "from langchain_core.prompts import ChatPromptTemplate"
      ]
    },
    {
      "cell_type": "markdown",
      "metadata": {
        "id": "PdYPNEbVMjJd"
      },
      "source": [
        "### Define Agent State\n",
        "\n",
        "We'll define the state that our agent will maintain throughout its operation."
      ]
    },
    {
      "cell_type": "code",
      "execution_count": 6,
      "metadata": {
        "id": "drJEtmYXMjJe"
      },
      "outputs": [],
      "source": [
        "class PlannerState(MessagesState):\n",
        "    city: str\n",
        "    interests: List[str]\n",
        "    travel_date: str\n",
        "    days: str\n",
        "    budget: str\n",
        "    companions: str\n",
        "    itinerary: str"
      ]
    },
    {
      "cell_type": "markdown",
      "metadata": {
        "id": "ic7BIPTrMjJf"
      },
      "source": [
        "### Set Up Language Model and Prompts\n"
      ]
    },
    {
      "cell_type": "code",
      "execution_count": 7,
      "metadata": {
        "id": "dGvHcYkSMjJg"
      },
      "outputs": [],
      "source": [
        "# llm = ChatOpenAI(model=\"gpt-4o-mini\")\n",
        "\n",
        "\n",
        "itinerary_prompt = ChatPromptTemplate.from_messages([\n",
        "    (\n",
        "        \"system\",\n",
        "        \"You are a helpful travel assistant. Create an itinerary for {city} \"\n",
        "        \"based on the user's interests: {interests}, traveling on {travel_date} \"\n",
        "        \"for {days} days, with a budget of {budget}, \"\n",
        "        \"and traveling with {companions}. \"\n",
        "        \"Provide a brief, bulleted itinerary.\"\n",
        "    ),\n",
        "    (\"human\", \"Create an itinerary for my trip.\"),\n",
        "])"
      ]
    },
    {
      "cell_type": "markdown",
      "metadata": {
        "id": "NGKlcnvLMjJi"
      },
      "source": [
        "### Define Agent Functions\n",
        "\n",
        "Now we'll define the main functions that our agent will use: get city, get interests, create itinerary"
      ]
    },
    {
      "cell_type": "code",
      "execution_count": 8,
      "metadata": {
        "id": "aO8Phg6BMjJi"
      },
      "outputs": [],
      "source": [
        "# 3. NODE FUNCTIONS\n",
        "def input_city(state: PlannerState) -> PlannerState:\n",
        "    print(\"Please enter the city you want to visit:\")\n",
        "    user_message = input(\"Your input: \")\n",
        "    return {\n",
        "        **state,\n",
        "        \"city\": user_message,\n",
        "        \"messages\": state['messages'] + [HumanMessage(content=f\"City: {user_message}\")],\n",
        "    }\n",
        "\n",
        "def input_interests(state: PlannerState) -> PlannerState:\n",
        "    print(f\"Please enter your interests for the trip to {state['city']} (comma-separated):\")\n",
        "    user_message = input(\"Your input: \")\n",
        "    return {\n",
        "        **state,\n",
        "        \"interests\": [interest.strip() for interest in user_message.split(',')],\n",
        "        \"messages\": state['messages'] + [HumanMessage(content=f\"Interests: {user_message}\")],\n",
        "    }\n",
        "\n",
        "def input_travel_date(state: PlannerState) -> PlannerState:\n",
        "    print(\"When are you planning to travel?\")\n",
        "    user_message = input(\"Your input: \")\n",
        "    return {\n",
        "        **state,\n",
        "        \"travel_date\": user_message,\n",
        "        \"messages\": state['messages'] + [HumanMessage(content=f\"Travel date: {user_message}\")],\n",
        "    }\n",
        "\n",
        "def input_days(state: PlannerState) -> PlannerState:\n",
        "    print(\"How many days are you planning to travel?\")\n",
        "    user_message = input(\"Your input: \")\n",
        "    return {\n",
        "        **state,\n",
        "        \"days\": user_message,\n",
        "        \"messages\": state['messages'] + [HumanMessage(content=f\"Number of days: {user_message}\")],\n",
        "    }\n",
        "\n",
        "def input_budget(state: PlannerState) -> PlannerState:\n",
        "    print(\"What is your approximate budget for this trip?\")\n",
        "    user_message = input(\"Your input: \")\n",
        "    return {\n",
        "        **state,\n",
        "        \"budget\": user_message,\n",
        "        \"messages\": state['messages'] + [HumanMessage(content=f\"Budget: {user_message}\")],\n",
        "    }\n",
        "\n",
        "def input_companions(state: PlannerState) -> PlannerState:\n",
        "    print(\"Who do you plan on traveling with on your next adventure?\")\n",
        "    user_message = input(\"Your input: \")\n",
        "    return {\n",
        "        **state,\n",
        "        \"companions\": user_message,\n",
        "        \"messages\": state['messages'] + [HumanMessage(content=f\"Companions: {user_message}\")],\n",
        "    }\n",
        "\n",
        "def create_itinerary(state: PlannerState) -> PlannerState:\n",
        "    print(\"\\nGenerating your itinerary...\")\n",
        "    response = llm.invoke(\n",
        "        itinerary_prompt.format_messages(\n",
        "            city=state['city'],\n",
        "            interests=\", \".join(state['interests']),\n",
        "            travel_date=state['travel_date'],\n",
        "            days=state['days'],\n",
        "            budget=state['budget'],\n",
        "            companions=state['companions'],\n",
        "        )\n",
        "    )\n",
        "    print(\"\\nFinal Itinerary:\")\n",
        "    print(response.content)\n",
        "    return {\n",
        "        **state,\n",
        "        \"messages\": state['messages'] + [AIMessage(content=response.content)],\n",
        "        \"itinerary\": response.content,\n",
        "    }"
      ]
    },
    {
      "cell_type": "markdown",
      "metadata": {
        "id": "Zp7FR_5vMjJk"
      },
      "source": [
        "### Create and Compile the Graph\n",
        "\n",
        "Now we'll create our LangGraph workflow and compile it."
      ]
    },
    {
      "cell_type": "code",
      "execution_count": 9,
      "metadata": {
        "id": "3uJBqipdMjJk"
      },
      "outputs": [],
      "source": [
        "# 4. BUILD THE WORKFLOW GRAPH\n",
        "workflow = StateGraph(PlannerState)\n",
        "\n",
        "workflow.add_node(\"input_city\", input_city)\n",
        "workflow.add_node(\"input_interests\", input_interests)\n",
        "workflow.add_node(\"input_travel_date\", input_travel_date)\n",
        "workflow.add_node(\"input_days\", input_days)\n",
        "workflow.add_node(\"input_budget\", input_budget)\n",
        "workflow.add_node(\"input_companions\", input_companions)\n",
        "workflow.add_node(\"create_itinerary\", create_itinerary)\n",
        "\n",
        "# The order in which we want the user to be asked these questions\n",
        "workflow.set_entry_point(\"input_city\")\n",
        "\n",
        "workflow.add_edge(\"input_city\", \"input_interests\")\n",
        "workflow.add_edge(\"input_interests\", \"input_travel_date\")\n",
        "workflow.add_edge(\"input_travel_date\", \"input_days\")\n",
        "workflow.add_edge(\"input_days\", \"input_budget\")\n",
        "workflow.add_edge(\"input_budget\", \"input_companions\")\n",
        "workflow.add_edge(\"input_companions\", \"create_itinerary\")\n",
        "workflow.add_edge(\"create_itinerary\", END)\n",
        "\n",
        "app = workflow.compile()"
      ]
    },
    {
      "cell_type": "markdown",
      "metadata": {
        "id": "WfhEi5eEMjJp"
      },
      "source": [
        "### Display the graph structure"
      ]
    },
    {
      "cell_type": "code",
      "execution_count": 10,
      "metadata": {
        "id": "-kOIaYlhMjJq",
        "outputId": "0a65ba71-caac-4398-a70f-f9371a35114f",
        "colab": {
          "base_uri": "https://localhost:8080/",
          "height": 846
        }
      },
      "outputs": [
        {
          "output_type": "display_data",
          "data": {
            "image/png": "[encoded data removed]",
            "text/plain": [
              "<IPython.core.display.Image object>"
            ]
          },
          "metadata": {}
        }
      ],
      "source": [
        "# 5. VISUALIZE THE GRAPH\n",
        "display(Image(app.get_graph().draw_mermaid_png()))"
      ]
    },
    {
      "cell_type": "markdown",
      "metadata": {
        "id": "_AGifbv8MjJs"
      },
      "source": [
        "### Define the function that runs the graph"
      ]
    },
    {
      "cell_type": "code",
      "execution_count": 11,
      "metadata": {
        "id": "jIlg4QNNMjJs"
      },
      "outputs": [],
      "source": [
        "def run_travel_planner(user_request: str):\n",
        "    print(f\"Initial Request: {user_request}\\n\")\n",
        "    # Initialize an empty state\n",
        "    state = {\n",
        "        \"messages\": [HumanMessage(content=user_request)],\n",
        "        \"city\": \"\",\n",
        "        \"interests\": [],\n",
        "        \"travel_date\": \"\",\n",
        "        \"days\": \"\",\n",
        "        \"budget\": \"\",\n",
        "        \"companions\": \"\",\n",
        "        \"itinerary\": \"\",\n",
        "    }\n",
        "\n",
        "    for _state in app.stream(state):\n",
        "        # Each node function prints prompts/results\n",
        "        pass\n"
      ]
    },
    {
      "cell_type": "markdown",
      "metadata": {
        "id": "qXTocPiNMjJt"
      },
      "source": [
        "### Use case example"
      ]
    },
    {
      "cell_type": "code",
      "execution_count": 12,
      "metadata": {
        "id": "rbQyDp1xMjJt",
        "outputId": "c8cbdbc2-3255-430c-8f96-fc70231086b1",
        "colab": {
          "base_uri": "https://localhost:8080/"
        }
      },
      "outputs": [
        {
          "output_type": "stream",
          "name": "stderr",
          "text": [
            "/usr/local/lib/python3.11/dist-packages/langsmith/client.py:256: LangSmithMissingAPIKeyWarning: API key must be provided when using hosted LangSmith API\n",
            "  warnings.warn(\n"
          ]
        },
        {
          "output_type": "stream",
          "name": "stdout",
          "text": [
            "Initial Request: I want to plan a trip in Pakistan.\n",
            "\n",
            "Please enter the city you want to visit:\n"
          ]
        },
        {
          "output_type": "stream",
          "name": "stderr",
          "text": [
            "WARNING:langsmith.client:Failed to multipart ingest runs: langsmith.utils.LangSmithAuthError: Authentication failed for https://api.smith.langchain.com/runs/multipart. HTTPError('401 Client Error: Unauthorized for url: https://api.smith.langchain.com/runs/multipart', '{\"detail\":\"Invalid token\"}')trace=cd321bb1-ec6e-46ba-a854-827215655205,id=cd321bb1-ec6e-46ba-a854-827215655205; trace=cd321bb1-ec6e-46ba-a854-827215655205,id=b6a46220-d6b1-41cc-a82e-5330233d836e; trace=cd321bb1-ec6e-46ba-a854-827215655205,id=567e022a-301a-4c35-bce2-06ba76a1a872; trace=cd321bb1-ec6e-46ba-a854-827215655205,id=064166c2-97ec-426b-ad31-d041dcd9472d; trace=cd321bb1-ec6e-46ba-a854-827215655205,id=befb51bc-1bd9-4802-accb-284eb14cbe3b\n"
          ]
        },
        {
          "output_type": "stream",
          "name": "stdout",
          "text": [
            "Your input: Skardu\n",
            "Please enter your interests for the trip to Skardu (comma-separated):\n"
          ]
        },
        {
          "output_type": "stream",
          "name": "stderr",
          "text": [
            "WARNING:langsmith.client:Failed to multipart ingest runs: langsmith.utils.LangSmithAuthError: Authentication failed for https://api.smith.langchain.com/runs/multipart. HTTPError('401 Client Error: Unauthorized for url: https://api.smith.langchain.com/runs/multipart', '{\"detail\":\"Invalid token\"}')trace=cd321bb1-ec6e-46ba-a854-827215655205,id=a484610a-3598-4435-94b0-3109f3067e56; trace=cd321bb1-ec6e-46ba-a854-827215655205,id=db918b35-40ce-462b-8011-b72873a4a36f; trace=cd321bb1-ec6e-46ba-a854-827215655205,id=befb51bc-1bd9-4802-accb-284eb14cbe3b\n"
          ]
        },
        {
          "output_type": "stream",
          "name": "stdout",
          "text": [
            "Your input: Travelling,food exploration\n",
            "When are you planning to travel?\n"
          ]
        },
        {
          "output_type": "stream",
          "name": "stderr",
          "text": [
            "WARNING:langsmith.client:Failed to multipart ingest runs: langsmith.utils.LangSmithAuthError: Authentication failed for https://api.smith.langchain.com/runs/multipart. HTTPError('401 Client Error: Unauthorized for url: https://api.smith.langchain.com/runs/multipart', '{\"detail\":\"Invalid token\"}')trace=cd321bb1-ec6e-46ba-a854-827215655205,id=aafcece9-2552-4866-8a9a-498df7820b4c; trace=cd321bb1-ec6e-46ba-a854-827215655205,id=1e148842-eeb4-4d7e-bcb0-dbceb9a55a6f; trace=cd321bb1-ec6e-46ba-a854-827215655205,id=db918b35-40ce-462b-8011-b72873a4a36f\n"
          ]
        },
        {
          "output_type": "stream",
          "name": "stdout",
          "text": [
            "Your input: tommorrow\n",
            "How many days are you planning to travel?\n"
          ]
        },
        {
          "output_type": "stream",
          "name": "stderr",
          "text": [
            "WARNING:langsmith.client:Failed to multipart ingest runs: langsmith.utils.LangSmithAuthError: Authentication failed for https://api.smith.langchain.com/runs/multipart. HTTPError('401 Client Error: Unauthorized for url: https://api.smith.langchain.com/runs/multipart', '{\"detail\":\"Invalid token\"}')trace=cd321bb1-ec6e-46ba-a854-827215655205,id=fd53d970-39b3-44a8-8f0d-fd372172d5b0; trace=cd321bb1-ec6e-46ba-a854-827215655205,id=db81fa72-3a55-4b42-b0fb-7496b0de9d84; trace=cd321bb1-ec6e-46ba-a854-827215655205,id=1e148842-eeb4-4d7e-bcb0-dbceb9a55a6f\n"
          ]
        },
        {
          "output_type": "stream",
          "name": "stdout",
          "text": [
            "Your input: 5 days\n",
            "What is your approximate budget for this trip?\n"
          ]
        },
        {
          "output_type": "stream",
          "name": "stderr",
          "text": [
            "WARNING:langsmith.client:Failed to multipart ingest runs: langsmith.utils.LangSmithAuthError: Authentication failed for https://api.smith.langchain.com/runs/multipart. HTTPError('401 Client Error: Unauthorized for url: https://api.smith.langchain.com/runs/multipart', '{\"detail\":\"Invalid token\"}')trace=cd321bb1-ec6e-46ba-a854-827215655205,id=82176b02-d8f2-46be-bfe8-bd1dd4e83a33; trace=cd321bb1-ec6e-46ba-a854-827215655205,id=9c081f2d-e5ed-44db-b91b-cb105d817c7a; trace=cd321bb1-ec6e-46ba-a854-827215655205,id=db81fa72-3a55-4b42-b0fb-7496b0de9d84\n"
          ]
        },
        {
          "output_type": "stream",
          "name": "stdout",
          "text": [
            "Your input: 35000\n",
            "Who do you plan on traveling with on your next adventure?\n"
          ]
        },
        {
          "output_type": "stream",
          "name": "stderr",
          "text": [
            "WARNING:langsmith.client:Failed to multipart ingest runs: langsmith.utils.LangSmithAuthError: Authentication failed for https://api.smith.langchain.com/runs/multipart. HTTPError('401 Client Error: Unauthorized for url: https://api.smith.langchain.com/runs/multipart', '{\"detail\":\"Invalid token\"}')trace=cd321bb1-ec6e-46ba-a854-827215655205,id=49854a60-0814-49d9-b171-2dd7de3e41e3; trace=cd321bb1-ec6e-46ba-a854-827215655205,id=568ed90c-a585-487d-8307-8648fe8c1064; trace=cd321bb1-ec6e-46ba-a854-827215655205,id=9c081f2d-e5ed-44db-b91b-cb105d817c7a\n"
          ]
        },
        {
          "name": "stdout",
          "output_type": "stream",
          "text": [
            "Your input: freinds\n"
          ]
        },
        {
          "output_type": "stream",
          "name": "stderr",
          "text": [
            "WARNING:langsmith.client:Failed to multipart ingest runs: langsmith.utils.LangSmithAuthError: Authentication failed for https://api.smith.langchain.com/runs/multipart. HTTPError('401 Client Error: Unauthorized for url: https://api.smith.langchain.com/runs/multipart', '{\"detail\":\"Invalid token\"}')trace=cd321bb1-ec6e-46ba-a854-827215655205,id=2d1b795a-2c6b-4b0d-bc9e-62a530fc7c3b; trace=cd321bb1-ec6e-46ba-a854-827215655205,id=fe149ed3-aa00-4563-bd5f-0cfeb862771b; trace=cd321bb1-ec6e-46ba-a854-827215655205,id=e6a6b805-f3ba-4f69-8b83-4dce9052247d; trace=cd321bb1-ec6e-46ba-a854-827215655205,id=568ed90c-a585-487d-8307-8648fe8c1064\n"
          ]
        },
        {
          "output_type": "stream",
          "name": "stdout",
          "text": [
            "\n",
            "Generating your itinerary...\n",
            "\n",
            "Final Itinerary:\n",
            "## Skardu Adventure with Friends: 5-Day Itinerary (Budget: 35000 PKR)\n",
            "\n",
            "This itinerary balances sightseeing, food exploration, and adventure, keeping in mind a 35000 PKR budget for a group. Prices are estimates and can vary.  Remember to factor in transportation within Skardu (consider hiring a jeep for flexibility).\n",
            "\n",
            "**Assumptions:**\n",
            "\n",
            "* You are traveling tomorrow.  This itinerary prioritizes readily available options.\n",
            "* The budget is shared amongst your group; the per-person cost will depend on group size.\n",
            "* Accommodation is based on moderately priced guesthouses or homestays.\n",
            "\n",
            "**Day 1: Arrival & Shangrila Resort Exploration (Budget: 5000 PKR)**\n",
            "\n",
            "* Arrive at Skardu Airport (SKD).\n",
            "* Check into your pre-booked guesthouse/homestay near the city center.\n",
            "* **Afternoon:** Visit Shangrila Resort (entrance fee applies). Enjoy the scenic views and take photos. Explore the resort's grounds.\n",
            "* **Evening:**  Dinner at a local restaurant, trying traditional Balti cuisine (approx. 1000 PKR for the group).\n",
            "\n",
            "**Day 2: Katpana Desert & Deosai Plains (Budget: 7000 PKR)**\n",
            "\n",
            "* **Morning:**  Hire a jeep for a day trip to Katpana Desert (negotiate the price beforehand; expect around 5000-6000 PKR for the jeep). Explore the unique desert landscape and take memorable pictures.\n",
            "* **Afternoon:** Depending on time and jeep availability, consider a short drive towards Deosai Plains (if time allows, a full Deosai trip would require an overnight stay, which isn't feasible in this short timeframe).\n",
            "* **Evening:** Return to Skardu, enjoy dinner at a different local restaurant, trying different Balti dishes.\n",
            "\n",
            "**Day 3:  Shigar Fort & Cold Desert (Budget: 6000 PKR)**\n",
            "\n",
            "* **Morning:** Visit Shigar Fort (entrance fee applies). Explore the historical fort and enjoy the panoramic views.\n",
            "* **Afternoon:** Explore the Cold Desert area near Skardu. You can find local guides for short treks or simply enjoy the scenery.\n",
            "* **Evening:** Relax, enjoy dinner at your guesthouse or a local eatery.  Try street food for a budget-friendly option.\n",
            "\n",
            "\n",
            "**Day 4:  Upper Kachura Lake & Lower Kachura Lake (Budget: 6000 PKR)**\n",
            "\n",
            "* **Morning:** Visit Upper Kachura Lake (entrance fee applies).  Enjoy boating or simply relax by the lake and enjoy the breathtaking scenery.\n",
            "* **Afternoon:** Visit Lower Kachura Lake (entrance fee applies). It offers a different atmosphere and is often less crowded.\n",
            "* **Evening:**  Farewell dinner at a restaurant with a view, celebrating your Skardu adventure.\n",
            "\n",
            "\n",
            "**Day 5: Departure (Budget: 11000 PKR)**\n",
            "\n",
            "* **Morning:**  Enjoy a final Skardu breakfast.  Do some last-minute souvenir shopping.\n",
            "* Depart from Skardu Airport (SKD).  (Include airport transfer and potential extra expenses).\n",
            "\n",
            "\n",
            "**Food Exploration:**\n",
            "\n",
            "* Try local delicacies like Balti Pulao, Balti Stew, and Apricot-based desserts.\n",
            "* Explore street food stalls for a taste of authentic Skardu flavors.\n",
            "\n",
            "\n",
            "**Important Notes:**\n",
            "\n",
            "* **Transportation:**  Negotiate jeep prices beforehand.  Consider sharing a jeep with other travelers to reduce costs.\n",
            "* **Accommodation:** Book guesthouses/homestays in advance, especially if traveling during peak season.\n",
            "* **Permits/Fees:** Check for any required permits or entrance fees for tourist sites.\n",
            "* **Altitude:** Skardu is at a high altitude.  Take it easy on your first day and stay hydrated.\n",
            "* **Bargaining:**  Bargaining is common in local markets.\n",
            "\n",
            "\n",
            "This itinerary is a suggestion; feel free to adjust it based on your preferences and the actual costs you encounter.  Have an amazing trip!\n"
          ]
        }
      ],
      "source": [
        "user_request = \"I want to plan a trip in Pakistan.\"\n",
        "run_travel_planner(user_request)\n"
      ]
    },
    {
      "cell_type": "markdown",
      "metadata": {
        "id": "XFXtAj_uMjJu"
      },
      "source": [
        "## Run the Agent\n",
        "\n",
        "Now let's run our agent with a sample request!"
      ]
    }
  ],
  "metadata": {
    "kernelspec": {
      "display_name": "Python 3",
      "language": "python",
      "name": "python3"
    },
    "language_info": {
      "codemirror_mode": {
        "name": "ipython",
        "version": 3
      },
      "file_extension": ".py",
      "mimetype": "text/x-python",
      "name": "python",
      "nbconvert_exporter": "python",
      "pygments_lexer": "ipython3",
      "version": "3.12.0"
    },
    "colab": {
      "provenance": []
    }
  },
  "nbformat": 4,
  "nbformat_minor": 0
}