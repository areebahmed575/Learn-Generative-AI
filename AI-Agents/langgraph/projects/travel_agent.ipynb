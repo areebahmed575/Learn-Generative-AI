{
  "nbformat": 4,
  "nbformat_minor": 0,
  "metadata": {
    "colab": {
      "provenance": []
    },
    "kernelspec": {
      "name": "python3",
      "display_name": "Python 3"
    },
    "language_info": {
      "name": "python"
    }
  },
  "cells": [
    {
      "cell_type": "code",
      "execution_count": 16,
      "metadata": {
        "id": "0lMR00OjbQ8D"
      },
      "outputs": [],
      "source": [
        "%%capture --no-stderr\n",
        "%pip install --quiet -U langgraph langchain_google_genai langgraph_sdk serpapi"
      ]
    },
    {
      "cell_type": "code",
      "source": [
        "from google.colab import userdata\n",
        "google_api_key = userdata.get('GEMINI_API_KEY')\n"
      ],
      "metadata": {
        "id": "YZnMtV9bb3K3"
      },
      "execution_count": 17,
      "outputs": []
    },
    {
      "cell_type": "code",
      "source": [
        "import os\n",
        "os.environ[\"LANGCHAIN_TRACING_V2\"] = \"true\"\n",
        "os.environ[\"LANGCHAIN_PROJECT\"] = \"langchain-academy\""
      ],
      "metadata": {
        "id": "7ZjjkF1Mb-tt"
      },
      "execution_count": 7,
      "outputs": []
    },
    {
      "cell_type": "code",
      "source": [
        "from langchain_google_genai import ChatGoogleGenerativeAI\n",
        "llm: ChatGoogleGenerativeAI = ChatGoogleGenerativeAI(model=\"gemini-1.5-flash\", api_key=google_api_key)\n"
      ],
      "metadata": {
        "id": "HD2rK90edeWl"
      },
      "execution_count": 8,
      "outputs": []
    },
    {
      "cell_type": "code",
      "source": [
        "from typing import TypedDict, Annotated, List\n",
        "from langgraph.graph import MessagesState\n",
        "from langchain_core.prompts import ChatPromptTemplate"
      ],
      "metadata": {
        "id": "VShRBkcOds0A"
      },
      "execution_count": 10,
      "outputs": []
    },
    {
      "cell_type": "code",
      "source": [
        "from langgraph.graph import MessagesState\n",
        "class AgentState(MessagesState):\n",
        "    pass\n",
        "\n"
      ],
      "metadata": {
        "id": "icQ1o7d5coup"
      },
      "execution_count": 11,
      "outputs": []
    },
    {
      "cell_type": "code",
      "source": [
        "import datetime\n",
        "import operator\n",
        "\n",
        "CURRENT_YEAR = datetime.datetime.now().year\n",
        "\n",
        "TOOLS_SYSTEM_PROMPT = f\"\"\"You are a smart travel agency. Use the tools to look up information.\n",
        "    You are allowed to make multiple calls (either together or in sequence).\n",
        "    Only look up information when you are sure of what you want.\n",
        "    The current year is {CURRENT_YEAR}.\n",
        "    If you need to look up some information before asking a follow up question, you are allowed to do that!\n",
        "    I want to have in your output links to hotels websites and flights websites (if possible).\n",
        "    I want to have as well the logo of the hotel and the logo of the airline company (if possible).\n",
        "    In your output always include the price of the flight and the price of the hotel and the currency as well (if possible).\n",
        "    for example for hotels-\n",
        "    Rate: $581 per night\n",
        "    Total: $3,488\n",
        "    \"\"\"\n",
        "\n",
        "EMAILS_SYSTEM_PROMPT = \"\"\"Your task is to convert structured markdown-like text into a valid HTML email body.\n",
        "\n",
        "- Do not include a ```html preamble in your response.\n",
        "- The output should be in proper HTML format, ready to be used as the body of an email.\n",
        "Here is an example:\n",
        "<example>\n",
        "Input:\n",
        "\n",
        "I want to travel to New York from Madrid from October 1-7. Find me flights and 4-star hotels.\n",
        "\n",
        "Expected Output:\n",
        "\n",
        "<!DOCTYPE html>\n",
        "<html>\n",
        "<head>\n",
        "    <title>Flight and Hotel Options</title>\n",
        "</head>\n",
        "<body>\n",
        "    <h2>Flights from Madrid to New York</h2>\n",
        "    <ol>\n",
        "        <li>\n",
        "            <strong>American Airlines</strong><br>\n",
        "            <strong>Departure:</strong> Adolfo Suárez Madrid–Barajas Airport (MAD) at 10:25 AM<br>\n",
        "            <strong>Arrival:</strong> John F. Kennedy International Airport (JFK) at 12:25 PM<br>\n",
        "            <strong>Duration:</strong> 8 hours<br>\n",
        "            <strong>Aircraft:</strong> Boeing 777<br>\n",
        "            <strong>Class:</strong> Economy<br>\n",
        "            <strong>Price:</strong> $702<br>\n",
        "            <img src=\"https://www.gstatic.com/flights/airline_logos/70px/AA.png\" alt=\"American Airlines\"><br>\n",
        "            <a href=\"https://www.google.com/flights\">Book on Google Flights</a>\n",
        "        </li>\n",
        "        <li>\n",
        "            <strong>Iberia</strong><br>\n",
        "            <strong>Departure:</strong> Adolfo Suárez Madrid–Barajas Airport (MAD) at 12:25 PM<br>\n",
        "            <strong>Arrival:</strong> John F. Kennedy International Airport (JFK) at 2:40 PM<br>\n",
        "            <strong>Duration:</strong> 8 hours 15 minutes<br>\n",
        "            <strong>Aircraft:</strong> Airbus A330<br>\n",
        "            <strong>Class:</strong> Economy<br>\n",
        "            <strong>Price:</strong> $702<br>\n",
        "            <img src=\"https://www.gstatic.com/flights/airline_logos/70px/IB.png\" alt=\"Iberia\"><br>\n",
        "            <a href=\"https://www.google.com/flights\">Book on Google Flights</a>\n",
        "        </li>\n",
        "        <li>\n",
        "            <strong>Delta Airlines</strong><br>\n",
        "            <strong>Departure:</strong> Adolfo Suárez Madrid–Barajas Airport (MAD) at 10:00 AM<br>\n",
        "            <strong>Arrival:</strong> John F. Kennedy International Airport (JFK) at 12:30 PM<br>\n",
        "            <strong>Duration:</strong> 8 hours 30 minutes<br>\n",
        "            <strong>Aircraft:</strong> Boeing 767<br>\n",
        "            <strong>Class:</strong> Economy<br>\n",
        "            <strong>Price:</strong> $738<br>\n",
        "            <img src=\"https://www.gstatic.com/flights/airline_logos/70px/DL.png\" alt=\"Delta Airlines\"><br>\n",
        "            <a href=\"https://www.google.com/flights\">Book on Google Flights</a>\n",
        "        </li>\n",
        "    </ol>\n",
        "\n",
        "    <h2>4-Star Hotels in New York</h2>\n",
        "    <ol>\n",
        "        <li>\n",
        "            <strong>NobleDen Hotel</strong><br>\n",
        "            <strong>Description:</strong> Modern, polished hotel offering sleek rooms, some with city-view balconies, plus free Wi-Fi.<br>\n",
        "            <strong>Location:</strong> Near Washington Square Park, Grand St, and JFK Airport.<br>\n",
        "            <strong>Rate per Night:</strong> $537<br>\n",
        "            <strong>Total Rate:</strong> $3,223<br>\n",
        "            <strong>Rating:</strong> 4.8/5 (656 reviews)<br>\n",
        "            <strong>Amenities:</strong> Free Wi-Fi, Parking, Air conditioning, Restaurant, Accessible, Business centre, Child-friendly, Smoke-free property<br>\n",
        "            <img src=\"https://lh5.googleusercontent.com/p/AF1QipNDUrPJwBhc9ysDhc8LA822H1ZzapAVa-WDJ2d6=s287-w287-h192-n-k-no-v1\" alt=\"NobleDen Hotel\"><br>\n",
        "            <a href=\"http://www.nobleden.com/\">Visit Website</a>\n",
        "        </li>\n",
        "        <!-- More hotel entries here -->\n",
        "    </ol>\n",
        "</body>\n",
        "</html>\n",
        "\n",
        "</example>\n",
        "\n",
        "\n",
        "\"\"\""
      ],
      "metadata": {
        "id": "-kjaCeFpcwEe"
      },
      "execution_count": 21,
      "outputs": []
    },
    {
      "cell_type": "code",
      "source": [
        "from langchain_core.tools import tool\n",
        "\n",
        "from typing import Optional\n",
        "\n",
        "# from pydantic import BaseModel, Field\n",
        "import serpapi\n",
        "from langchain.pydantic_v1 import BaseModel, Field\n",
        "from langchain_core.tools import tool\n",
        "\n",
        "\n",
        "class FlightsInput(BaseModel):\n",
        "    departure_airport: Optional[str] = Field(description='Departure airport code (IATA)')\n",
        "    arrival_airport: Optional[str] = Field(description='Arrival airport code (IATA)')\n",
        "    outbound_date: Optional[str] = Field(description='Parameter defines the outbound date. The format is YYYY-MM-DD. e.g. 2024-06-22')\n",
        "    return_date: Optional[str] = Field(description='Parameter defines the return date. The format is YYYY-MM-DD. e.g. 2024-06-28')\n",
        "    adults: Optional[int] = Field(1, description='Parameter defines the number of adults. Default to 1.')\n",
        "    children: Optional[int] = Field(0, description='Parameter defines the number of children. Default to 0.')\n",
        "    infants_in_seat: Optional[int] = Field(0, description='Parameter defines the number of infants in seat. Default to 0.')\n",
        "    infants_on_lap: Optional[int] = Field(0, description='Parameter defines the number of infants on lap. Default to 0.')\n",
        "\n",
        "\n",
        "class FlightsInputSchema(BaseModel):\n",
        "    params: FlightsInput\n",
        "\n",
        "\n",
        "@tool(args_schema=FlightsInputSchema)\n",
        "def flights_finder(params: FlightsInput):\n",
        "    '''\n",
        "    Find flights using the Google Flights engine.\n",
        "\n",
        "    Returns:\n",
        "        dict: Flight search results.\n",
        "    '''\n",
        "\n",
        "    params = {\n",
        "        'api_key': os.environ.get('SERPAPI_API_KEY'),\n",
        "        'engine': 'google_flights',\n",
        "        'hl': 'en',\n",
        "        'gl': 'us',\n",
        "        'departure_id': params.departure_airport,\n",
        "        'arrival_id': params.arrival_airport,\n",
        "        'outbound_date': params.outbound_date,\n",
        "        'return_date': params.return_date,\n",
        "        'currency': 'USD',\n",
        "        'adults': params.adults,\n",
        "        'infants_in_seat': params.infants_in_seat,\n",
        "        'stops': '1',\n",
        "        'infants_on_lap': params.infants_on_lap,\n",
        "        'children': params.children\n",
        "    }\n",
        "\n"
      ],
      "metadata": {
        "id": "qef-Eu5Gesx8"
      },
      "execution_count": null,
      "outputs": []
    },
    {
      "cell_type": "code",
      "source": [
        "import os\n",
        "from typing import Optional\n",
        "\n",
        "import serpapi\n",
        "from langchain.pydantic_v1 import BaseModel, Field\n",
        "from langchain_core.tools import tool\n",
        "\n",
        "# from pydantic import BaseModel, Field\n",
        "\n",
        "\n",
        "class HotelsInput(BaseModel):\n",
        "    q: str = Field(description='Location of the hotel')\n",
        "    check_in_date: str = Field(description='Check-in date. The format is YYYY-MM-DD. e.g. 2024-06-22')\n",
        "    check_out_date: str = Field(description='Check-out date. The format is YYYY-MM-DD. e.g. 2024-06-28')\n",
        "    sort_by: Optional[str] = Field(8, description='Parameter is used for sorting the results. Default is sort by highest rating')\n",
        "    adults: Optional[int] = Field(1, description='Number of adults. Default to 1.')\n",
        "    children: Optional[int] = Field(0, description='Number of children. Default to 0.')\n",
        "    rooms: Optional[int] = Field(1, description='Number of rooms. Default to 1.')\n",
        "    hotel_class: Optional[str] = Field(\n",
        "        None, description='Parameter defines to include only certain hotel class in the results. for example- 2,3,4')\n",
        "\n",
        "\n",
        "class HotelsInputSchema(BaseModel):\n",
        "    params: HotelsInput\n",
        "\n",
        "\n",
        "@tool(args_schema=HotelsInputSchema)\n",
        "def hotels_finder(params: HotelsInput):\n",
        "    '''\n",
        "    Find hotels using the Google Hotels engine.\n",
        "\n",
        "    Returns:\n",
        "        dict: Hotel search results.\n",
        "    '''\n",
        "\n",
        "    params = {\n",
        "        'api_key': os.environ.get('SERPAPI_API_KEY'),\n",
        "        'engine': 'google_hotels',\n",
        "        'hl': 'en',\n",
        "        'gl': 'us',\n",
        "        'q': params.q,\n",
        "        'check_in_date': params.check_in_date,\n",
        "        'check_out_date': params.check_out_date,\n",
        "        'currency': 'USD',\n",
        "        'adults': params.adults,\n",
        "        'children': params.children,\n",
        "        'rooms': params.rooms,\n",
        "        'sort_by': params.sort_by,\n",
        "        'hotel_class': params.hotel_class\n",
        "    }\n",
        "\n",
        "    search = serpapi.search(params)\n",
        "    results = search.data\n",
        "    return results['properties'][:5]"
      ],
      "metadata": {
        "id": "tiZzTRxpif9v"
      },
      "execution_count": 19,
      "outputs": []
    },
    {
      "cell_type": "code",
      "source": [
        "tools: list[tool] = [flights_finder, hotels_finder]\n",
        "llm: ChatGoogleGenerativeAI = ChatGoogleGenerativeAI(model = \"gemini-1.5-flash\")\n",
        "llm_with_tools = llm.bind_tools(tools)"
      ],
      "metadata": {
        "id": "DODkzovbirXp"
      },
      "execution_count": 20,
      "outputs": []
    },
    {
      "cell_type": "code",
      "source": [
        "from langchain_core.messages import AIMessage, HumanMessage, SystemMessage\n",
        "from langgraph.prebuilt import tools_condition, ToolNode\n",
        "from langgraph.graph import StateGraph, END\n",
        "from IPython.display import display, Image\n",
        "from sendgrid import SendGridAPIClient\n",
        "from sendgrid.helpers.mail import Mail\n",
        "\n",
        "\n",
        "def assistant(state: AgentState):\n",
        "        messages = state['messages']\n",
        "        messages = [SystemMessage(content=TOOLS_SYSTEM_PROMPT)] + messages\n",
        "        message = llm_with_tools.invoke(messages)\n",
        "        return {'messages': [message]}\n",
        "\n",
        "# def invoke_tools(self, state: AgentState):\n",
        "#         tool_calls = state['messages'][-1].tool_calls\n",
        "#         results = []\n",
        "#         for t in tool_calls:\n",
        "#             print(f'Calling: {t}')\n",
        "#             if not t['name'] in self._tools:  # check for bad tool name from LLM\n",
        "#                 print('\\n ....bad tool name....')\n",
        "#                 result = 'bad tool name, retry'  # instruct LLM to retry if bad\n",
        "#             else:\n",
        "#                 result = self._tools[t['name']].invoke(t['args'])\n",
        "#             results.append(ToolMessage(tool_call_id=t['id'], name=t['name'], content=str(result)))\n",
        "#         print('Back to the model!')\n",
        "#         return {'messages': results}\n",
        "\n",
        "def email_sender(state: AgentState):\n",
        "        print('Sending email')\n",
        "        # email_llm = ChatOpenAI(model='gpt-4o', temperature=0.1)  # Instantiate another LLM\n",
        "        email_message = [SystemMessage(content=EMAILS_SYSTEM_PROMPT), HumanMessage(content=state['messages'][-1].content)]\n",
        "        email_response = llm.invoke(email_message)\n",
        "        print('Email content:', email_response.content)\n",
        "\n",
        "        message = Mail(from_email=os.environ['FROM_EMAIL'], to_emails=os.environ['TO_EMAIL'], subject=os.environ['EMAIL_SUBJECT'],\n",
        "                       html_content=email_response.content)\n",
        "        try:\n",
        "            sg = SendGridAPIClient(os.environ.get('SENDGRID_API_KEY'))\n",
        "            response = sg.send(message)\n",
        "            print(response.status_code)\n",
        "            print(response.body)\n",
        "            print(response.headers)\n",
        "        except Exception as e:\n",
        "            print(str(e))\n",
        "\n",
        "\n",
        "\n",
        "\n",
        "\n",
        "# Graph\n",
        "builder: StateGraph = StateGraph(MessagesState)\n"
      ],
      "metadata": {
        "id": "0VTZwfpVjiGC"
      },
      "execution_count": null,
      "outputs": []
    }
  ]
}