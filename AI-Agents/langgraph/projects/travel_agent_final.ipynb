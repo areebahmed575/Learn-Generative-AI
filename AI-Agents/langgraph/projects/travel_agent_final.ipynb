{
  "nbformat": 4,
  "nbformat_minor": 0,
  "metadata": {
    "colab": {
      "provenance": []
    },
    "kernelspec": {
      "name": "python3",
      "display_name": "Python 3"
    },
    "language_info": {
      "name": "python"
    }
  },
  "cells": [
    {
      "cell_type": "code",
      "execution_count": 1,
      "metadata": {
        "id": "0lMR00OjbQ8D"
      },
      "outputs": [],
      "source": [
        "%%capture --no-stderr\n",
        "%pip install --quiet -U langgraph langchain_google_genai langgraph_sdk serpapi sendgrid langchain_openai\n",
        ""
      ]
    },
    {
      "cell_type": "code",
      "source": [
        "from google.colab import userdata\n",
        "groq_api_key = userdata.get('GROQ_API_KET')\n",
        "SERPAPI_API_KEY = userdata.get('SERPAPI_API_KEY')\n",
        "SENDGRID_API_KEY = userdata.get('SENDGRID_API_KEY')\n",
        "open_api_key = userdata.get('OPENAI_API_KEY')"
      ],
      "metadata": {
        "id": "YZnMtV9bb3K3"
      },
      "execution_count": 2,
      "outputs": []
    },
    {
      "cell_type": "code",
      "source": [
        "import os\n",
        "os.environ[\"LANGCHAIN_TRACING_V2\"] = \"true\"\n",
        "os.environ[\"LANGCHAIN_PROJECT\"] = \"langchain-academy\""
      ],
      "metadata": {
        "id": "7ZjjkF1Mb-tt"
      },
      "execution_count": 3,
      "outputs": []
    },
    {
      "cell_type": "code",
      "source": [
        "from langchain_openai import ChatOpenAI\n",
        "llm = ChatOpenAI(model=\"gpt-4o-mini\", api_key=open_api_key)\n",
        "llm.invoke(\"greet me\")\n",
        "\n"
      ],
      "metadata": {
        "id": "HD2rK90edeWl",
        "outputId": "e4f757a7-35aa-44ed-c552-000622c7fe6f",
        "colab": {
          "base_uri": "https://localhost:8080/"
        }
      },
      "execution_count": 4,
      "outputs": [
        {
          "output_type": "stream",
          "name": "stderr",
          "text": [
            "/usr/local/lib/python3.11/dist-packages/langsmith/client.py:253: LangSmithMissingAPIKeyWarning: API key must be provided when using hosted LangSmith API\n",
            "  warnings.warn(\n",
            "WARNING:langsmith.client:Failed to multipart ingest runs: langsmith.utils.LangSmithAuthError: Authentication failed for https://api.smith.langchain.com/runs/multipart. HTTPError('401 Client Error: Unauthorized for url: https://api.smith.langchain.com/runs/multipart', '{\"error\":\"Unauthorized\"}\\n')trace=d28b4b54-03f4-4e09-8d26-12fdd8e36760,id=d28b4b54-03f4-4e09-8d26-12fdd8e36760\n"
          ]
        },
        {
          "output_type": "execute_result",
          "data": {
            "text/plain": [
              "AIMessage(content='Hello! How are you today? 😊', additional_kwargs={'refusal': None}, response_metadata={'token_usage': {'completion_tokens': 9, 'prompt_tokens': 10, 'total_tokens': 19, 'completion_tokens_details': {'accepted_prediction_tokens': 0, 'audio_tokens': 0, 'reasoning_tokens': 0, 'rejected_prediction_tokens': 0}, 'prompt_tokens_details': {'audio_tokens': 0, 'cached_tokens': 0}}, 'model_name': 'gpt-4o-mini-2024-07-18', 'system_fingerprint': 'fp_72ed7ab54c', 'finish_reason': 'stop', 'logprobs': None}, id='run-d28b4b54-03f4-4e09-8d26-12fdd8e36760-0', usage_metadata={'input_tokens': 10, 'output_tokens': 9, 'total_tokens': 19, 'input_token_details': {'audio': 0, 'cache_read': 0}, 'output_token_details': {'audio': 0, 'reasoning': 0}})"
            ]
          },
          "metadata": {},
          "execution_count": 4
        }
      ]
    },
    {
      "cell_type": "code",
      "source": [
        "from typing import TypedDict, Annotated, List\n",
        "from langgraph.graph import MessagesState\n",
        "from langchain_core.prompts import ChatPromptTemplate"
      ],
      "metadata": {
        "id": "VShRBkcOds0A"
      },
      "execution_count": 5,
      "outputs": []
    },
    {
      "cell_type": "code",
      "source": [
        "from langgraph.graph import MessagesState\n",
        "class AgentState(MessagesState):\n",
        "    pass\n",
        "\n"
      ],
      "metadata": {
        "id": "icQ1o7d5coup"
      },
      "execution_count": 6,
      "outputs": []
    },
    {
      "cell_type": "code",
      "source": [
        "import datetime\n",
        "import operator\n",
        "\n",
        "CURRENT_YEAR = datetime.datetime.now().year\n",
        "\n",
        "TOOLS_SYSTEM_PROMPT = f\"\"\"You are a smart travel agency. Use the tools to look up information.\n",
        "    You are allowed to make multiple calls (either together or in sequence).\n",
        "    Only look up information when you are sure of what you want.\n",
        "    The current year is {CURRENT_YEAR}.\n",
        "    If you need to look up some information before asking a follow up question, you are allowed to do that!\n",
        "    I want to have in your output links to hotels websites and flights websites (if possible).\n",
        "    I want to have as well the logo of the hotel and the logo of the airline company (if possible).\n",
        "    In your output always include the price of the flight and the price of the hotel and the currency as well (if possible).\n",
        "    for example for hotels-\n",
        "    Rate: $581 per night\n",
        "    Total: $3,488\n",
        "    \"\"\"\n",
        "\n",
        "EMAILS_SYSTEM_PROMPT = \"\"\"Your task is to convert structured markdown-like text into a valid HTML email body.\n",
        "\n",
        "- Do not include a ```html preamble in your response.\n",
        "- The output should be in proper HTML format, ready to be used as the body of an email.\n",
        "Here is an example:\n",
        "<example>\n",
        "Input:\n",
        "\n",
        "I want to travel to New York from Madrid from October 1-7. Find me flights and 4-star hotels.\n",
        "\n",
        "Expected Output:\n",
        "\n",
        "<!DOCTYPE html>\n",
        "<html>\n",
        "<head>\n",
        "    <title>Flight and Hotel Options</title>\n",
        "</head>\n",
        "<body>\n",
        "    <h2>Flights from Madrid to New York</h2>\n",
        "    <ol>\n",
        "        <li>\n",
        "            <strong>American Airlines</strong><br>\n",
        "            <strong>Departure:</strong> Adolfo Suárez Madrid–Barajas Airport (MAD) at 10:25 AM<br>\n",
        "            <strong>Arrival:</strong> John F. Kennedy International Airport (JFK) at 12:25 PM<br>\n",
        "            <strong>Duration:</strong> 8 hours<br>\n",
        "            <strong>Aircraft:</strong> Boeing 777<br>\n",
        "            <strong>Class:</strong> Economy<br>\n",
        "            <strong>Price:</strong> $702<br>\n",
        "            <img src=\"https://www.gstatic.com/flights/airline_logos/70px/AA.png\" alt=\"American Airlines\"><br>\n",
        "            <a href=\"https://www.google.com/flights\">Book on Google Flights</a>\n",
        "        </li>\n",
        "        <li>\n",
        "            <strong>Iberia</strong><br>\n",
        "            <strong>Departure:</strong> Adolfo Suárez Madrid–Barajas Airport (MAD) at 12:25 PM<br>\n",
        "            <strong>Arrival:</strong> John F. Kennedy International Airport (JFK) at 2:40 PM<br>\n",
        "            <strong>Duration:</strong> 8 hours 15 minutes<br>\n",
        "            <strong>Aircraft:</strong> Airbus A330<br>\n",
        "            <strong>Class:</strong> Economy<br>\n",
        "            <strong>Price:</strong> $702<br>\n",
        "            <img src=\"https://www.gstatic.com/flights/airline_logos/70px/IB.png\" alt=\"Iberia\"><br>\n",
        "            <a href=\"https://www.google.com/flights\">Book on Google Flights</a>\n",
        "        </li>\n",
        "        <li>\n",
        "            <strong>Delta Airlines</strong><br>\n",
        "            <strong>Departure:</strong> Adolfo Suárez Madrid–Barajas Airport (MAD) at 10:00 AM<br>\n",
        "            <strong>Arrival:</strong> John F. Kennedy International Airport (JFK) at 12:30 PM<br>\n",
        "            <strong>Duration:</strong> 8 hours 30 minutes<br>\n",
        "            <strong>Aircraft:</strong> Boeing 767<br>\n",
        "            <strong>Class:</strong> Economy<br>\n",
        "            <strong>Price:</strong> $738<br>\n",
        "            <img src=\"https://www.gstatic.com/flights/airline_logos/70px/DL.png\" alt=\"Delta Airlines\"><br>\n",
        "            <a href=\"https://www.google.com/flights\">Book on Google Flights</a>\n",
        "        </li>\n",
        "    </ol>\n",
        "\n",
        "    <h2>4-Star Hotels in New York</h2>\n",
        "    <ol>\n",
        "        <li>\n",
        "            <strong>NobleDen Hotel</strong><br>\n",
        "            <strong>Description:</strong> Modern, polished hotel offering sleek rooms, some with city-view balconies, plus free Wi-Fi.<br>\n",
        "            <strong>Location:</strong> Near Washington Square Park, Grand St, and JFK Airport.<br>\n",
        "            <strong>Rate per Night:</strong> $537<br>\n",
        "            <strong>Total Rate:</strong> $3,223<br>\n",
        "            <strong>Rating:</strong> 4.8/5 (656 reviews)<br>\n",
        "            <strong>Amenities:</strong> Free Wi-Fi, Parking, Air conditioning, Restaurant, Accessible, Business centre, Child-friendly, Smoke-free property<br>\n",
        "            <img src=\"https://lh5.googleusercontent.com/p/AF1QipNDUrPJwBhc9ysDhc8LA822H1ZzapAVa-WDJ2d6=s287-w287-h192-n-k-no-v1\" alt=\"NobleDen Hotel\"><br>\n",
        "            <a href=\"http://www.nobleden.com/\">Visit Website</a>\n",
        "        </li>\n",
        "        <!-- More hotel entries here -->\n",
        "    </ol>\n",
        "</body>\n",
        "</html>\n",
        "\n",
        "</example>\n",
        "\n",
        "\n",
        "\"\"\""
      ],
      "metadata": {
        "id": "-kjaCeFpcwEe"
      },
      "execution_count": 7,
      "outputs": []
    },
    {
      "cell_type": "code",
      "source": [
        "from langchain_core.tools import tool\n",
        "\n",
        "from typing import Optional\n",
        "\n",
        "from pydantic import BaseModel, Field\n",
        "import serpapi\n",
        "# from langchain.pydantic_v1 import BaseModel, Field\n",
        "from langchain_core.tools import tool\n",
        "\n",
        "\n",
        "class FlightsInput(BaseModel):\n",
        "    departure_airport: Optional[str] = Field(description='Departure airport code (IATA)')\n",
        "    arrival_airport: Optional[str] = Field(description='Arrival airport code (IATA)')\n",
        "    outbound_date: Optional[str] = Field(description='Parameter defines the outbound date. The format is YYYY-MM-DD. e.g. 2024-06-22')\n",
        "    return_date: Optional[str] = Field(description='Parameter defines the return date. The format is YYYY-MM-DD. e.g. 2024-06-28')\n",
        "    adults: Optional[int] = Field(1, description='Parameter defines the number of adults. Default to 1.')\n",
        "    children: Optional[int] = Field(0, description='Parameter defines the number of children. Default to 0.')\n",
        "    infants_in_seat: Optional[int] = Field(0, description='Parameter defines the number of infants in seat. Default to 0.')\n",
        "    infants_on_lap: Optional[int] = Field(0, description='Parameter defines the number of infants on lap. Default to 0.')\n",
        "\n",
        "\n",
        "class FlightsInputSchema(BaseModel):\n",
        "    params: FlightsInput\n",
        "\n",
        "\n",
        "@tool(args_schema=FlightsInputSchema)\n",
        "def flights_finder(params: FlightsInput):\n",
        "    '''\n",
        "    Find flights using the Google Flights engine.\n",
        "\n",
        "    Returns:\n",
        "        dict: Flight search results.\n",
        "    '''\n",
        "\n",
        "    params = {\n",
        "        'api_key': SERPAPI_API_KEY,\n",
        "        'engine': 'google_flights',\n",
        "        'hl': 'en',\n",
        "        'gl': 'us',\n",
        "        'departure_id': params.departure_airport,\n",
        "        'arrival_id': params.arrival_airport,\n",
        "        'outbound_date': params.outbound_date,\n",
        "        'return_date': params.return_date,\n",
        "        'currency': 'USD',\n",
        "        'adults': params.adults,\n",
        "        'infants_in_seat': params.infants_in_seat,\n",
        "        'stops': '1',\n",
        "        'infants_on_lap': params.infants_on_lap,\n",
        "        'children': params.children\n",
        "    }\n",
        "\n",
        "    try:\n",
        "        search = serpapi.search(params)\n",
        "        results = search.data['best_flights']\n",
        "    except Exception as e:\n",
        "        results = str(e)\n",
        "    return results"
      ],
      "metadata": {
        "id": "qef-Eu5Gesx8"
      },
      "execution_count": 8,
      "outputs": []
    },
    {
      "cell_type": "code",
      "source": [
        "import os\n",
        "from typing import Optional\n",
        "\n",
        "import serpapi\n",
        "from langchain.pydantic_v1 import BaseModel, Field\n",
        "from langchain_core.tools import tool\n",
        "\n",
        "# from pydantic import BaseModel, Field\n",
        "\n",
        "\n",
        "class HotelsInput(BaseModel):\n",
        "    q: str = Field(description='Location of the hotel')\n",
        "    check_in_date: str = Field(description='Check-in date. The format is YYYY-MM-DD. e.g. 2024-06-22')\n",
        "    check_out_date: str = Field(description='Check-out date. The format is YYYY-MM-DD. e.g. 2024-06-28')\n",
        "    sort_by: Optional[str] = Field(8, description='Parameter is used for sorting the results. Default is sort by highest rating')\n",
        "    adults: Optional[int] = Field(1, description='Number of adults. Default to 1.')\n",
        "    children: Optional[int] = Field(0, description='Number of children. Default to 0.')\n",
        "    rooms: Optional[int] = Field(1, description='Number of rooms. Default to 1.')\n",
        "    hotel_class: Optional[str] = Field(\n",
        "        None, description='Parameter defines to include only certain hotel class in the results. for example- 2,3,4')\n",
        "\n",
        "\n",
        "class HotelsInputSchema(BaseModel):\n",
        "    params: HotelsInput\n",
        "\n",
        "\n",
        "@tool(args_schema=HotelsInputSchema)\n",
        "def hotels_finder(params: HotelsInput):\n",
        "    '''\n",
        "    Find hotels using the Google Hotels engine.\n",
        "\n",
        "    Returns:\n",
        "        dict: Hotel search results.\n",
        "    '''\n",
        "\n",
        "    params = {\n",
        "        'api_key': SERPAPI_API_KEY,\n",
        "        'engine': 'google_hotels',\n",
        "        'hl': 'en',\n",
        "        'gl': 'us',\n",
        "        'q': params.q,\n",
        "        'check_in_date': params.check_in_date,\n",
        "        'check_out_date': params.check_out_date,\n",
        "        'currency': 'USD',\n",
        "        'adults': params.adults,\n",
        "        'children': params.children,\n",
        "        'rooms': params.rooms,\n",
        "        'sort_by': params.sort_by,\n",
        "        'hotel_class': params.hotel_class\n",
        "    }\n",
        "\n",
        "    search = serpapi.search(params)\n",
        "    results = search.data\n",
        "    return results['properties'][:5]"
      ],
      "metadata": {
        "id": "tiZzTRxpif9v"
      },
      "execution_count": 11,
      "outputs": []
    },
    {
      "cell_type": "code",
      "source": [
        "tools: list[tool] = [flights_finder, hotels_finder]\n",
        "\n",
        "llm_with_tools = llm.bind_tools(tools)"
      ],
      "metadata": {
        "id": "DODkzovbirXp"
      },
      "execution_count": 12,
      "outputs": []
    },
    {
      "cell_type": "code",
      "source": [
        "from langchain_core.messages import AIMessage, HumanMessage, SystemMessage\n",
        "from langgraph.prebuilt import tools_condition, ToolNode\n",
        "from langgraph.graph import StateGraph, END ,START\n",
        "from IPython.display import display, Image\n",
        "from langgraph.checkpoint.memory import MemorySaver\n",
        "from langgraph.graph.state import CompiledStateGraph\n",
        "from sendgrid import SendGridAPIClient\n",
        "from sendgrid.helpers.mail import Mail\n",
        "\n",
        "\n",
        "def assistant(state: AgentState):\n",
        "        messages = state['messages']\n",
        "        messages = [SystemMessage(content=TOOLS_SYSTEM_PROMPT)] + messages\n",
        "        message = llm_with_tools.invoke(messages)\n",
        "        return {'messages': [message]}\n",
        "\n",
        "# def invoke_tools(self, state: AgentState):\n",
        "#         tool_calls = state['messages'][-1].tool_calls\n",
        "#         results = []\n",
        "#         for t in tool_calls:\n",
        "#             print(f'Calling: {t}')\n",
        "#             if not t['name'] in self._tools:  # check for bad tool name from LLM\n",
        "#                 print('\\n ....bad tool name....')\n",
        "#                 result = 'bad tool name, retry'  # instruct LLM to retry if bad\n",
        "#             else:\n",
        "#                 result = self._tools[t['name']].invoke(t['args'])\n",
        "#             results.append(ToolMessage(tool_call_id=t['id'], name=t['name'], content=str(result)))\n",
        "#         print('Back to the model!')\n",
        "#         return {'messages': results}\n",
        "\n",
        "def exists_action(state: AgentState):\n",
        "        result = state['messages'][-1]\n",
        "        if len(result.tool_calls) == 0:\n",
        "            return 'email_sender'\n",
        "        return 'more_tools'\n",
        "\n",
        "\n",
        "def email_sender(state: AgentState):\n",
        "        print('Sending email')\n",
        "        # email_llm = ChatOpenAI(model='gpt-4o', temperature=0.1)  # Instantiate another LLM\n",
        "        email_message = [SystemMessage(content=EMAILS_SYSTEM_PROMPT), HumanMessage(content=state['messages'][-1].content)]\n",
        "        email_response = llm.invoke(email_message)\n",
        "        print('Email content:', email_response.content)\n",
        "\n",
        "        # message = Mail(from_email=os.environ['FROM_EMAIL'], to_emails=os.environ['TO_EMAIL'], subject=os.environ['EMAIL_SUBJECT'],\n",
        "        #                html_content=email_response.content)\n",
        "\n",
        "        message = Mail(from_email=\"areeb.ahmed.langgraph@gmail.com\", to_emails=\"areebahmed575@gmail.com\", subject=\"Static Email Subject\",\n",
        "                       html_content=email_response.content)\n",
        "\n",
        "\n",
        "        try:\n",
        "            sg = SendGridAPIClient(SENDGRID_API_KEY)\n",
        "            response = sg.send(message)\n",
        "            print(response.status_code)\n",
        "            print(response.body)\n",
        "            print(response.headers)\n",
        "        except Exception as e:\n",
        "            print(str(e))\n",
        "\n",
        "\n",
        "\n",
        "\n",
        "\n",
        "# Graph\n",
        "builder: StateGraph = StateGraph(MessagesState)\n",
        "\n",
        "\n",
        "# Define nodes: these do the work\n",
        "builder.add_node(\"assistant\", assistant)\n",
        "builder.add_node(\"tools\", ToolNode(tools))\n",
        "builder.add_node('email_sender', email_sender)\n",
        "\n",
        "# Define edges: these determine the control flow\n",
        "builder.add_edge(START, \"assistant\")\n",
        "# builder.add_conditional_edges(\n",
        "#     \"assistant\",\n",
        "#     # If the latest message (result) from assistant is a tool call -> tools_condition routes to tools\n",
        "#     # If the latest message (result) from assistant is a not a tool call -> tools_condition routes to END\n",
        "#     tools_condition,\n",
        "# )\n",
        "builder.add_conditional_edges('assistant', exists_action, {'more_tools': 'tools', 'email_sender': 'email_sender'})\n",
        "builder.add_edge(\"tools\", \"assistant\")\n",
        "builder.add_edge('email_sender', END)\n",
        "\n",
        "memory: MemorySaver = MemorySaver()\n",
        "graph: CompiledStateGraph = builder.compile(interrupt_before=[\"email_sender\"], checkpointer=memory)\n",
        "\n",
        "# Show\n",
        "display(Image(graph.get_graph(xray=True).draw_mermaid_png()))\n"
      ],
      "metadata": {
        "id": "0VTZwfpVjiGC",
        "outputId": "5ad2d08a-3974-4327-feb4-92662f68fc52",
        "colab": {
          "base_uri": "https://localhost:8080/",
          "height": 416
        }
      },
      "execution_count": 15,
      "outputs": [
        {
          "output_type": "display_data",
          "data": {
            "image/png": "[encoded data removed]",
            "text/plain": [
              "<IPython.core.display.Image object>"
            ]
          },
          "metadata": {}
        }
      ]
    },
    {
      "cell_type": "code",
      "source": [
        "# Input\n",
        "initial_input = {\"messages\": HumanMessage(content=\"I want to travel to Dubai from Karachi from 20 - 27 Febuary.Find me flights and 4 star hotels\")}\n",
        "\n",
        "# Thread\n",
        "thread = {\"configurable\": {\"thread_id\": \"1\"}}\n",
        "\n",
        "# Run the graph until the first interruption\n",
        "for event in graph.stream(initial_input, thread, stream_mode=\"values\"):\n",
        "    event['messages'][-1].pretty_print()"
      ],
      "metadata": {
        "id": "PVnKoEhSnf9v",
        "outputId": "37df3025-f163-4b52-a346-22e164923f69",
        "colab": {
          "base_uri": "https://localhost:8080/"
        }
      },
      "execution_count": 16,
      "outputs": [
        {
          "output_type": "stream",
          "name": "stdout",
          "text": [
            "================================\u001b[1m Human Message \u001b[0m=================================\n",
            "\n",
            "I want to travel to Dubai from Karachi from 20 - 27 Febuary.Find me flights and 4 star hotels\n"
          ]
        },
        {
          "output_type": "stream",
          "name": "stderr",
          "text": [
            "WARNING:langsmith.client:Failed to send compressed multipart ingest: langsmith.utils.LangSmithAuthError: Authentication failed for https://api.smith.langchain.com/runs/multipart. HTTPError('401 Client Error: Unauthorized for url: https://api.smith.langchain.com/runs/multipart', '{\"error\":\"Unauthorized\"}\\n')\n"
          ]
        },
        {
          "output_type": "stream",
          "name": "stdout",
          "text": [
            "==================================\u001b[1m Ai Message \u001b[0m==================================\n",
            "Tool Calls:\n",
            "  flights_finder (call_6mcslCG1YSa9CAdtoHuuauo9)\n",
            " Call ID: call_6mcslCG1YSa9CAdtoHuuauo9\n",
            "  Args:\n",
            "    params: {'departure_airport': 'KHI', 'arrival_airport': 'DXB', 'outbound_date': '2025-02-20', 'return_date': '2025-02-27'}\n",
            "  hotels_finder (call_TQtEJA8UnMvUpiC3rbdsZuYF)\n",
            " Call ID: call_TQtEJA8UnMvUpiC3rbdsZuYF\n",
            "  Args:\n",
            "    params: {'q': 'Dubai', 'check_in_date': '2025-02-20', 'check_out_date': '2025-02-27', 'hotel_class': '4', 'sort_by': '8'}\n",
            "=================================\u001b[1m Tool Message \u001b[0m=================================\n",
            "Name: hotels_finder\n",
            "\n",
            "[{\"type\": \"hotel\", \"name\": \"Holiday Inn & Suites Dubai Festival City, an IHG Hotel\", \"description\": \"Airy quarters in a contemporary hotel with a restaurant & a cafe, plus a rooftop pool with a bar.\", \"link\": \"https://www.ihg.com/holidayinn/hotels/gb/en/dubai/dxbfc/hoteldetail?cm_mmc=GoogleMaps-_-HI-_-AE-_-DXBFC\", \"property_token\": \"ChkI8-b44eSkmdwbGg0vZy8xMWY1Mm1uNjl6EAE\", \"serpapi_property_details_link\": \"https://serpapi.com/search.json?adults=1&check_in_date=2025-02-20&check_out_date=2025-02-27&children=0&currency=USD&engine=google_hotels&gl=us&hl=en&hotel_class=4&property_token=ChkI8-b44eSkmdwbGg0vZy8xMWY1Mm1uNjl6EAE&q=Dubai&sort_by=8\", \"gps_coordinates\": {\"latitude\": 25.221861, \"longitude\": 55.358200999999994}, \"check_in_time\": \"3:00 PM\", \"check_out_time\": \"12:00 PM\", \"rate_per_night\": {\"lowest\": \"$302\", \"extracted_lowest\": 302, \"before_taxes_fees\": \"$243\", \"extracted_before_taxes_fees\": 243}, \"total_rate\": {\"lowest\": \"$2,114\", \"extracted_lowest\": 2114, \"before_taxes_fees\": \"$1,703\", \"extracted_before_taxes_fees\": 1703}, \"nearby_places\": [{\"name\": \"Dubai Dolphinarium\", \"transportations\": [{\"type\": \"Taxi\", \"duration\": \"9 min\"}]}, {\"name\": \"Dubai Festival City, IKEA1\", \"transportations\": [{\"type\": \"Walking\", \"duration\": \"4 min\"}]}, {\"name\": \"Dubai International Airport\", \"transportations\": [{\"type\": \"Taxi\", \"duration\": \"15 min\"}, {\"type\": \"Public transport\", \"duration\": \"18 min\"}]}, {\"name\": \"Sirocco Restaurant\", \"transportations\": [{\"type\": \"Walking\", \"duration\": \"1 min\"}]}], \"hotel_class\": \"4-star hotel\", \"extracted_hotel_class\": 4, \"images\": [{\"thumbnail\": \"https://lh5.googleusercontent.com/p/AF1QipMRdwVo_bBam7oQF862bkz8BhF2TZ_9hYIkNOD2=s287-w287-h192-n-k-no-v1\", \"original_image\": \"https://lh5.googleusercontent.com/p/AF1QipMRdwVo_bBam7oQF862bkz8BhF2TZ_9hYIkNOD2=s10000\"}, {\"thumbnail\": \"https://lh5.googleusercontent.com/p/AF1QipN-8u0z0BP-nUdmm0mCafMuEjOvKdqFo8M0E2u4=s287-w287-h192-n-k-no-v1\", \"original_image\": \"https://lh5.googleusercontent.com/p/AF1QipN-8u0z0BP-nUdmm0mCafMuEjOvKdqFo8M0E2u4=s10000\"}, {\"thumbnail\": \"https://lh5.googleusercontent.com/p/AF1QipNa8BW7M-HfsuymdKvNTMOALZi71AMcNxM6CFX7=s287-w287-h192-n-k-no-v1\", \"original_image\": \"https://lh5.googleusercontent.com/p/AF1QipNa8BW7M-HfsuymdKvNTMOALZi71AMcNxM6CFX7=s10000\"}, {\"thumbnail\": \"https://lh5.googleusercontent.com/p/AF1QipOZQ4-gmbhubvrQWc1WvJrd1ahZ_hLIf9-il2DS=s287-w287-h192-n-k-no-v1\", \"original_image\": \"https://lh5.googleusercontent.com/p/AF1QipOZQ4-gmbhubvrQWc1WvJrd1ahZ_hLIf9-il2DS=s10000\"}, {\"thumbnail\": \"https://lh5.googleusercontent.com/p/AF1QipMW5PnOgm87gok4dA1Asif-VKSRIm5lgav5PHBK=s287-w287-h192-n-k-no-v1\", \"original_image\": \"https://lh5.googleusercontent.com/p/AF1QipMW5PnOgm87gok4dA1Asif-VKSRIm5lgav5PHBK=s10000\"}, {\"thumbnail\": \"https://lh5.googleusercontent.com/p/AF1QipNG7v44J5bYsN4sTXgIb4lUebRsiCymFta0O39_=s287-w287-h192-n-k-no-v1\", \"original_image\": \"https://lh5.googleusercontent.com/p/AF1QipNG7v44J5bYsN4sTXgIb4lUebRsiCymFta0O39_=s10000\"}, {\"thumbnail\": \"https://lh5.googleusercontent.com/p/AF1QipMEOKNfRNcYzlNu_OgA7kD5aLGMu_dbjqtS1SAQ=s287-w287-h192-n-k-no-v1\", \"original_image\": \"https://lh5.googleusercontent.com/p/AF1QipMEOKNfRNcYzlNu_OgA7kD5aLGMu_dbjqtS1SAQ=s10000\"}, {\"thumbnail\": \"https://lh5.googleusercontent.com/p/AF1QipONw3AOBH2DzKIqxQwBoumYTJy5dH-D1SzyfnWM=s287-w287-h192-n-k-no-v1\", \"original_image\": \"https://lh5.googleusercontent.com/p/AF1QipONw3AOBH2DzKIqxQwBoumYTJy5dH-D1SzyfnWM=s10000\"}, {\"thumbnail\": \"https://lh5.googleusercontent.com/p/AF1QipPV4bx6x-E69LvgHLYTCfAg34ian98_YDdq_B5o=s287-w287-h192-n-k-no-v1\", \"original_image\": \"https://lh5.googleusercontent.com/p/AF1QipPV4bx6x-E69LvgHLYTCfAg34ian98_YDdq_B5o=s10000\"}], \"overall_rating\": 4.9, \"reviews\": 15851, \"ratings\": [{\"stars\": 5, \"count\": 14239}, {\"stars\": 4, \"count\": 1216}, {\"stars\": 3, \"count\": 219}, {\"stars\": 2, \"count\": 57}, {\"stars\": 1, \"count\": 120}], \"location_rating\": 3.2, \"reviews_breakdown\": [{\"name\": \"Service\", \"description\": \"Service\", \"total_mentioned\": 8630, \"positive\": 8486, \"negative\": 85, \"neutral\": 59}, {\"name\": \"Safety\", \"description\": \"Safety\", \"total_mentioned\": 2018, \"positive\": 1985, \"negative\": 13, \"neutral\": 20}, {\"name\": \"Property\", \"description\": \"Property\", \"total_mentioned\": 4430, \"positive\": 4320, \"negative\": 54, \"neutral\": 56}, {\"name\": \"Breakfast\", \"description\": \"Breakfast\", \"total_mentioned\": 1474, \"positive\": 1428, \"negative\": 21, \"neutral\": 25}, {\"name\": \"Location\", \"description\": \"Location\", \"total_mentioned\": 2276, \"positive\": 2150, \"negative\": 20, \"neutral\": 106}, {\"name\": \"Cleanliness\", \"description\": \"Cleanliness\", \"total_mentioned\": 1924, \"positive\": 1853, \"negative\": 49, \"neutral\": 22}], \"amenities\": [\"Breakfast ($)\", \"Free Wi-Fi\", \"Free parking\", \"Outdoor pool\", \"Air conditioning\", \"Fitness centre\", \"Spa\", \"Bar\", \"Restaurant\", \"Room service\", \"Kitchen in rooms\", \"Full-service laundry\", \"Accessible\", \"Business centre\", \"Child-friendly\", \"Smoke-free property\"]}, {\"type\": \"hotel\", \"name\": \"Vida Dubai Marina & Yacht Club\", \"description\": \"Airy quarters with balconies, some with marina views, in an upmarket hotel with a pool & a 24/7 gym.\", \"link\": \"https://www.vidahotels.com/en/hotels/vida-dubai-marina-yacht-club/\", \"property_token\": \"ChoIr6uUlNealZuuARoNL2cvMTFnNl8yMG1nMBAB\", \"serpapi_property_details_link\": \"https://serpapi.com/search.json?adults=1&check_in_date=2025-02-20&check_out_date=2025-02-27&children=0&currency=USD&engine=google_hotels&gl=us&hl=en&hotel_class=4&property_token=ChoIr6uUlNealZuuARoNL2cvMTFnNl8yMG1nMBAB&q=Dubai&sort_by=8\", \"gps_coordinates\": {\"latitude\": 25.0722834, \"longitude\": 55.1362915}, \"check_in_time\": \"3:00 PM\", \"check_out_time\": \"12:00 AM\", \"rate_per_night\": {\"lowest\": \"$392\", \"extracted_lowest\": 392, \"before_taxes_fees\": \"$317\", \"extracted_before_taxes_fees\": 317}, \"total_rate\": {\"lowest\": \"$2,744\", \"extracted_lowest\": 2744, \"before_taxes_fees\": \"$2,217\", \"extracted_before_taxes_fees\": 2217}, \"nearby_places\": [{\"name\": \"Ain Dubai\", \"transportations\": [{\"type\": \"Taxi\", \"duration\": \"8 min\"}]}, {\"name\": \"DMCC Metro Station\", \"transportations\": [{\"type\": \"Walking\", \"duration\": \"8 min\"}]}, {\"name\": \"Dubai International Airport\", \"transportations\": [{\"type\": \"Taxi\", \"duration\": \"35 min\"}, {\"type\": \"Public transport\", \"duration\": \"55 min\"}]}, {\"name\": \"Marina dine restaurant\", \"transportations\": [{\"type\": \"Walking\", \"duration\": \"2 min\"}]}], \"hotel_class\": \"4-star hotel\", \"extracted_hotel_class\": 4, \"images\": [{\"thumbnail\": \"https://lh5.googleusercontent.com/proxy/eU6O46AVKbYv2fMAcBG_mnbdch3xkFB2gmN1wcrkL1QFlXNbQmxjmZgp0MmPr9Ja-WCAQg7tteIQW_MCw05MsZd31BqXcR38Ls3S6rhLXkhmFdVP_d26y2nZgR1MWC804TsMIMSTAGj6O6RzbDtlHXhziHQ7dAc=s287-w287-h192-n-k-no-v1\", \"original_image\": \"https://i.giatamedia.com/m.php?m=AQABAAAAla4KAOW00QUFALl2qAeEJwSNNbEfOr-a7SE\"}, {\"thumbnail\": \"https://lh5.googleusercontent.com/p/AF1QipPEus0PuWG-GA2FzVa2Ln-RBji8g4_tu4nq4s4D=s287-w287-h192-n-k-no-v1\", \"original_image\": \"https://lh5.googleusercontent.com/p/AF1QipPEus0PuWG-GA2FzVa2Ln-RBji8g4_tu4nq4s4D=s10000\"}, {\"thumbnail\": \"https://lh5.googleusercontent.com/p/AF1QipMB3KuzDqpafvUS6RxSpyhqKliiuEXoOZDhXJmv=s287-w287-h192-n-k-no-v1\", \"original_image\": \"https://lh5.googleusercontent.com/p/AF1QipMB3KuzDqpafvUS6RxSpyhqKliiuEXoOZDhXJmv=s10000\"}, {\"thumbnail\": \"https://lh3.googleusercontent.com/proxy/s662M5T6OiGsBqfuLTDlEc9Sken3VjyCuVuZFxUtwItNLizPaxj548tGNTw9w_gFJqctG4OY_xckSys4a630WeQcjrEaobsnsuknSn8cdLsQj61IrwaPZe_9hMsnXiga5nm_Nq_lI25lIE8F-gt1O3-_Gtn2qQ=s287-w287-h192-n-k-no-v1\", \"original_image\": \"https://i.giatamedia.com/m.php?m=AQABAAAAla4KAITg0AYFAOD_8T9U4mJICl-LPbMqR-4\"}, {\"thumbnail\": \"https://lh5.googleusercontent.com/p/AF1QipPvJAL7esNaYhtpkSpW0tGzd_5N8nX9L_8y_EIc=s287-w287-h192-n-k-no-v1\", \"original_image\": \"https://lh5.googleusercontent.com/p/AF1QipPvJAL7esNaYhtpkSpW0tGzd_5N8nX9L_8y_EIc=s10000\"}, {\"thumbnail\": \"https://lh5.googleusercontent.com/p/AF1QipPwwOj1fUjYoGsV_fbgeB-tQormHOATXiRsSy_C=s287-w287-h192-n-k-no-v1\", \"original_image\": \"https://lh5.googleusercontent.com/p/AF1QipPwwOj1fUjYoGsV_fbgeB-tQormHOATXiRsSy_C=s10000\"}, {\"thumbnail\": \"https://lh5.googleusercontent.com/p/AF1QipOQI3zOkDr-y0eGDYiW-TGY023phE1-32peaRem=s287-w287-h192-n-k-no-v1\", \"original_image\": \"https://lh5.googleusercontent.com/p/AF1QipOQI3zOkDr-y0eGDYiW-TGY023phE1-32peaRem=s10000\"}, {\"thumbnail\": \"https://lh6.googleusercontent.com/proxy/-RTqK7IvVm3dexPDi-_ZkQ6aMCxgTTL5MmNY9-9wKZEzSeugb9FMO7P00VWLKQcdTOL-vDCIK2pA20VPxnaIKTJ7N7KolcwIJzjneiRbi4mknOBXIMx0ElAktxbYjcB-fRefoBMWHrM-pTqcEXjTHS5FkTCxzl4=s287-w287-h192-n-k-no-v1\", \"original_image\": \"https://images.trvl-media.com/lodging/84000000/83570000/83560100/83560061/481fe91b_z.jpg\"}, {\"thumbnail\": \"https://lh3.googleusercontent.com/proxy/htv4jg3Rh5xmKIBW3CUqGV48AtXtw2lWAvyUmsM38GaA5RHtR_viWIJRZqiI2Lag8fOGdpTFMBOBARxlXOuyca8YPEXtHM2MATfQVvDAOMzuCeNYSgzwbR_CJ2GieWqe-prDLLmwqr26jfbPV-RKh3hWN2pOHUw=s287-w287-h192-n-k-no-v1\", \"original_image\": \"https://images.trvl-media.com/lodging/84000000/83570000/83560100/83560061/w4724h3145x0y5-b11e3009_z.jpg\"}], \"overall_rating\": 4.9, \"reviews\": 6078, \"ratings\": [{\"stars\": 5, \"count\": 5861}, {\"stars\": 4, \"count\": 154}, {\"stars\": 3, \"count\": 21}, {\"stars\": 2, \"count\": 9}, {\"stars\": 1, \"count\": 33}], \"location_rating\": 4.0, \"reviews_breakdown\": [{\"name\": \"Service\", \"description\": \"Service\", \"total_mentioned\": 2903, \"positive\": 2865, \"negative\": 24, \"neutral\": 14}, {\"name\": \"Breakfast\", \"description\": \"Breakfast\", \"total_mentioned\": 580, \"positive\": 569, \"negative\": 5, \"neutral\": 6}, {\"name\": \"Dining\", \"description\": \"Food and Beverage\", \"total_mentioned\": 560, \"positive\": 546, \"negative\": 7, \"neutral\": 7}, {\"name\": \"Property\", \"description\": \"Property\", \"total_mentioned\": 896, \"positive\": 869, \"negative\": 14, \"neutral\": 13}, {\"name\": \"Bar\", \"description\": \"Bar or lounge\", \"total_mentioned\": 229, \"positive\": 219, \"negative\": 5, \"neutral\": 5}, {\"name\": \"Restaurant\", \"description\": \"Restaurant\", \"total_mentioned\": 220, \"positive\": 209, \"negative\": 3, \"neutral\": 8}], \"amenities\": [\"Breakfast ($)\", \"Free Wi-Fi\", \"Free parking\", \"Pool\", \"Air conditioning\", \"Pet-friendly\", \"Fitness centre\", \"Spa\", \"Restaurant\", \"Room service\", \"Airport shuttle\", \"Full-service laundry\", \"Accessible\"]}, {\"type\": \"hotel\", \"name\": \"Vida Emirates Hills\", \"description\": \"Chic rooms & suites in a high-end hotel with a gin bar, terrace dining & an outdoor pool.\", \"link\": \"https://www.vidahotels.com/en/vida-emirates-hills/\", \"property_token\": \"ChkIoMruhM62mLo9Gg0vZy8xMWRmc3Z3bnk5EAE\", \"serpapi_property_details_link\": \"https://serpapi.com/search.json?adults=1&check_in_date=2025-02-20&check_out_date=2025-02-27&children=0&currency=USD&engine=google_hotels&gl=us&hl=en&hotel_class=4&property_token=ChkIoMruhM62mLo9Gg0vZy8xMWRmc3Z3bnk5EAE&q=Dubai&sort_by=8\", \"gps_coordinates\": {\"latitude\": 25.0785283, \"longitude\": 55.1579261}, \"check_in_time\": \"3:00 PM\", \"check_out_time\": \"12:00 PM\", \"rate_per_night\": {\"lowest\": \"$600\", \"extracted_lowest\": 600, \"before_taxes_fees\": \"$490\", \"extracted_before_taxes_fees\": 490}, \"total_rate\": {\"lowest\": \"$4,203\", \"extracted_lowest\": 4203, \"before_taxes_fees\": \"$3,432\", \"extracted_before_taxes_fees\": 3432}, \"nearby_places\": [{\"name\": \"Ski Dubai\", \"transportations\": [{\"type\": \"Taxi\", \"duration\": \"10 min\"}]}, {\"name\": \"Dubai International Airport\", \"transportations\": [{\"type\": \"Taxi\", \"duration\": \"33 min\"}, {\"type\": \"Public transport\", \"duration\": \"1 hr 7 min\"}]}, {\"name\": \"Origins At Vida Emirates Hills\", \"transportations\": [{\"type\": \"Walking\", \"duration\": \"1 min\"}]}], \"hotel_class\": \"4-star hotel\", \"extracted_hotel_class\": 4, \"images\": [{\"thumbnail\": \"https://lh5.googleusercontent.com/p/AF1QipNkcgh74rCv7nkFZ9EN29EW2hbphuN3Yrog4bWl=s287-w287-h192-n-k-no-v1\", \"original_image\": \"https://lh5.googleusercontent.com/p/AF1QipNkcgh74rCv7nkFZ9EN29EW2hbphuN3Yrog4bWl=s10000\"}, {\"thumbnail\": \"https://lh6.googleusercontent.com/proxy/f0k6wSMQJz4ker0pzbchJ-0iLS3HMQaq8PVkpaRp6dWA9bU_JjfUefZFWg8GnSxMyeH7VeMcowGsOI01YiG8o9GDhzDRbBNnEZZztm0IE0j6LHsNB1SjajafmDoPRXK459edx3nS7Pa6IUpVd9ngzts2oEKu8Mg=s287-w287-h192-n-k-no-v1\", \"original_image\": \"https://photos.hotelbeds.com/giata/original/66/668783/668783a_hb_p_002.jpg\"}, {\"thumbnail\": \"https://lh5.googleusercontent.com/p/AF1QipM7p4vC-PeEpyx06On-Biy43DL1EMIWXvQz8XKw=s287-w287-h192-n-k-no-v1\", \"original_image\": \"https://lh5.googleusercontent.com/p/AF1QipM7p4vC-PeEpyx06On-Biy43DL1EMIWXvQz8XKw=s10000\"}, {\"thumbnail\": \"https://lh6.googleusercontent.com/proxy/OmzfGpuC6rZ1Tw9-7IKHnkLmKv72IzHvyizpSV74LrMoFCp7pspClFQGcI2Y-8myOalqA8_v3TguoIxTVcFDEsISpwALgvldtZZxa17mUvH2tMQSd3W8rTi0uLS6DeD_646fB9s0ByQhv6tALa_toJlH8Yp6QQ=s287-w287-h192-n-k-no-v1\", \"original_image\": \"https://cdn.worldota.net/t/1024x768/content/2a/f9/2af912e944a0fa5b46ee2ca0dabc5c57df706c8a.jpeg\"}, {\"thumbnail\": \"https://lh4.googleusercontent.com/proxy/KnV9oL2N8UeQaXaSHAbddMrV1WtNUORZdsNMTqYz8mFNrF4ji4qKWXF_WStSgKeggXGa1KPG5eaMdPWI-ICbAHu4EwuN6Dl2hqha4a4fmPwLwrmYHj_EaNvAijCEXf-PBe6Osgc54MuBYXz8HNiwQegz9fPuOg=s287-w287-h192-n-k-no-v1\", \"original_image\": \"https://images.trvl-media.com/lodging/43000000/42580000/42571700/42571677/831d2edd_z.jpg\"}, {\"thumbnail\": \"https://lh5.googleusercontent.com/p/AF1QipOGWkR4OECxbpKzcaYolDAu2e0kGwHo5fK64NUN=s287-w287-h192-n-k-no-v1\", \"original_image\": \"https://lh5.googleusercontent.com/p/AF1QipOGWkR4OECxbpKzcaYolDAu2e0kGwHo5fK64NUN=s10000\"}, {\"thumbnail\": \"https://lh5.googleusercontent.com/p/AF1QipOOLw-zEMjZ-tuNGkzNOv-JnyeuE_-ZKf4pFX4r=s287-w287-h192-n-k-no-v1\", \"original_image\": \"https://lh5.googleusercontent.com/p/AF1QipOOLw-zEMjZ-tuNGkzNOv-JnyeuE_-ZKf4pFX4r=s10000\"}, {\"thumbnail\": \"https://lh4.googleusercontent.com/proxy/EtvYVtkg6AKlDAB7Ti1-dXTMU5x08Ai_ZwNUyBQKJWpjTC0dmZ-5ax1ATumbapVEdpoqKyFDv98kUod2HqleJn6mYWpe5lf7aPF9cFfuYe6SnBi2_MBKjMsyE1tRvzaRO0d1LHyS1mVqmsL7NsKajFGJyHl2xA=s287-w287-h192-n-k-no-v1\", \"original_image\": \"https://images.trvl-media.com/lodging/43000000/42580000/42571700/42571677/ac804f2d_z.jpg\"}, {\"thumbnail\": \"https://lh5.googleusercontent.com/p/AF1QipO36rnhQKQGAQK8qy7_ihk7ILHW8S6KOh67u6yX=s287-w287-h192-n-k-no-v1\", \"original_image\": \"https://lh5.googleusercontent.com/p/AF1QipO36rnhQKQGAQK8qy7_ihk7ILHW8S6KOh67u6yX=s10000\"}], \"overall_rating\": 4.9, \"reviews\": 5949, \"ratings\": [{\"stars\": 5, \"count\": 5435}, {\"stars\": 4, \"count\": 365}, {\"stars\": 3, \"count\": 72}, {\"stars\": 2, \"count\": 24}, {\"stars\": 1, \"count\": 53}], \"location_rating\": 3.2, \"reviews_breakdown\": [{\"name\": \"Service\", \"description\": \"Service\", \"total_mentioned\": 2904, \"positive\": 2849, \"negative\": 40, \"neutral\": 15}, {\"name\": \"Dining\", \"description\": \"Food and Beverage\", \"total_mentioned\": 638, \"positive\": 611, \"negative\": 13, \"neutral\": 14}, {\"name\": \"Fitness\", \"description\": \"Fitness\", \"total_mentioned\": 402, \"positive\": 370, \"negative\": 12, \"neutral\": 20}, {\"name\": \"Breakfast\", \"description\": \"Breakfast\", \"total_mentioned\": 376, \"positive\": 353, \"negative\": 13, \"neutral\": 10}, {\"name\": \"Property\", \"description\": \"Property\", \"total_mentioned\": 938, \"positive\": 917, \"negative\": 9, \"neutral\": 12}, {\"name\": \"Atmosphere\", \"description\": \"Atmosphere\", \"total_mentioned\": 376, \"positive\": 371, \"negative\": 1, \"neutral\": 4}], \"amenities\": [\"Breakfast ($)\", \"Free Wi-Fi\", \"Free parking\", \"Outdoor pool\", \"Air conditioning\", \"Fitness centre\", \"Bar\", \"Restaurant\", \"Room service\", \"Airport shuttle\", \"Full-service laundry\", \"Accessible\", \"Business centre\", \"Child-friendly\"]}, {\"type\": \"hotel\", \"name\": \"voco Dubai The Palm\", \"description\": \"Stylish rooms, some with beach views, in a refined hotel featuring a rooftop bar & a restaurant.\", \"link\": \"https://www.vocohotels.com/dubaithepalm\", \"property_token\": \"ChoIrOWEvq2A5dWdARoNL2cvMTFzXzVkamdsdhAB\", \"serpapi_property_details_link\": \"https://serpapi.com/search.json?adults=1&check_in_date=2025-02-20&check_out_date=2025-02-27&children=0&currency=USD&engine=google_hotels&gl=us&hl=en&hotel_class=4&property_token=ChoIrOWEvq2A5dWdARoNL2cvMTFzXzVkamdsdhAB&q=Dubai&sort_by=8\", \"gps_coordinates\": {\"latitude\": 25.107576299999998, \"longitude\": 55.142996999999994}, \"check_in_time\": \"3:00 PM\", \"check_out_time\": \"12:00 PM\", \"rate_per_night\": {\"lowest\": \"$417\", \"extracted_lowest\": 417, \"before_taxes_fees\": \"$337\", \"extracted_before_taxes_fees\": 337}, \"total_rate\": {\"lowest\": \"$2,921\", \"extracted_lowest\": 2921, \"before_taxes_fees\": \"$2,361\", \"extracted_before_taxes_fees\": 2361}, \"nearby_places\": [{\"name\": \"Aquaventure Waterpark\", \"transportations\": [{\"type\": \"Public transport\", \"duration\": \"10 min\"}]}, {\"name\": \"Al Ittihad Park\", \"transportations\": [{\"type\": \"Walking\", \"duration\": \"6 min\"}]}, {\"name\": \"Dubai International Airport\", \"transportations\": [{\"type\": \"Taxi\", \"duration\": \"33 min\"}, {\"type\": \"Public transport\", \"duration\": \"1 hr 37 min\"}]}, {\"name\": \"Levantera Restaurant\", \"transportations\": [{\"type\": \"Walking\", \"duration\": \"6 min\"}]}], \"hotel_class\": \"4-star hotel\", \"extracted_hotel_class\": 4, \"images\": [{\"thumbnail\": \"https://lh5.googleusercontent.com/p/AF1QipNGihrPwHlKAAzQfcoQ4edQGK-UEgtfAU7rE0-V=s287-w287-h192-n-k-no-v1\", \"original_image\": \"https://lh5.googleusercontent.com/p/AF1QipNGihrPwHlKAAzQfcoQ4edQGK-UEgtfAU7rE0-V=s10000\"}, {\"thumbnail\": \"https://lh5.googleusercontent.com/p/AF1QipOwClW4YwIcFNRF3Kq5nUMzq-vNDxiEaUOlNojS=s287-w287-h192-n-k-no-v1\", \"original_image\": \"https://lh5.googleusercontent.com/p/AF1QipOwClW4YwIcFNRF3Kq5nUMzq-vNDxiEaUOlNojS=s10000\"}, {\"thumbnail\": \"https://lh5.googleusercontent.com/p/AF1QipMhMv3Jc3WBz-IjZGazRXNWul4t_ZyB-lgAs14q=s287-w287-h192-n-k-no-v1\", \"original_image\": \"https://lh5.googleusercontent.com/p/AF1QipMhMv3Jc3WBz-IjZGazRXNWul4t_ZyB-lgAs14q=s10000\"}, {\"thumbnail\": \"https://lh5.googleusercontent.com/p/AF1QipMF4sYBzVnqD9kJI6Qc0stO7-oro0LxkNbSlUDS=s287-w287-h192-n-k-no-v1\", \"original_image\": \"https://lh5.googleusercontent.com/p/AF1QipMF4sYBzVnqD9kJI6Qc0stO7-oro0LxkNbSlUDS=s10000\"}, {\"thumbnail\": \"https://lh5.googleusercontent.com/p/AF1QipNaUuVqFZZqrYLIPQIPwaQi-g35KK3Yd1JxtWN-=s287-w287-h192-n-k-no-v1\", \"original_image\": \"https://lh5.googleusercontent.com/p/AF1QipNaUuVqFZZqrYLIPQIPwaQi-g35KK3Yd1JxtWN-=s10000\"}, {\"thumbnail\": \"https://lh5.googleusercontent.com/p/AF1QipOCSspQRSEPMHeJtubJJJfkRzw-lh0uCLrzh4Ie=s287-w287-h192-n-k-no-v1\", \"original_image\": \"https://lh5.googleusercontent.com/p/AF1QipOCSspQRSEPMHeJtubJJJfkRzw-lh0uCLrzh4Ie=s10000\"}, {\"thumbnail\": \"https://lh5.googleusercontent.com/proxy/aGlLj3RPu5f8d1O9J7zOZa82DKtq-NmVpb3zam15DRA-1-i3h1ByHoCwcTmhKzO-_F7jLEXHbRxxBBh1KwslagZw5HytgD9E3Ap2faiWepXPI8l405ZhOWFcsqmqn9ak-ImVgqgmacnbzQMBMgkaPvPTxcFCBg=s287-w287-h192-n-k-no-v1\", \"original_image\": \"https://d2hyz2bfif3cr8.cloudfront.net/imageRepo/3/0/181/438/687/DXBPJ_9797142638_O.jpg\"}, {\"thumbnail\": \"https://lh5.googleusercontent.com/p/AF1QipOmkbADiLmU-fBgdorFlJJ7YcrjSiAOB4xtqmil=s287-w287-h192-n-k-no-v1\", \"original_image\": \"https://lh5.googleusercontent.com/p/AF1QipOmkbADiLmU-fBgdorFlJJ7YcrjSiAOB4xtqmil=s10000\"}, {\"thumbnail\": \"https://lh5.googleusercontent.com/p/AF1QipPffpZeFsKGBvvhNPJUd1ZrhrtnsgfVJROPfjLu=s287-w287-h192-n-k-no-v1\", \"original_image\": \"https://lh5.googleusercontent.com/p/AF1QipPffpZeFsKGBvvhNPJUd1ZrhrtnsgfVJROPfjLu=s10000\"}], \"overall_rating\": 4.9, \"reviews\": 1805, \"ratings\": [{\"stars\": 5, \"count\": 1638}, {\"stars\": 4, \"count\": 120}, {\"stars\": 3, \"count\": 22}, {\"stars\": 2, \"count\": 4}, {\"stars\": 1, \"count\": 21}], \"location_rating\": 3.7, \"reviews_breakdown\": [{\"name\": \"Nature\", \"description\": \"Nature and outdoor activities\", \"total_mentioned\": 332, \"positive\": 297, \"negative\": 11, \"neutral\": 24}, {\"name\": \"Service\", \"description\": \"Service\", \"total_mentioned\": 951, \"positive\": 926, \"negative\": 14, \"neutral\": 11}, {\"name\": \"Fitness\", \"description\": \"Fitness\", \"total_mentioned\": 280, \"positive\": 265, \"negative\": 5, \"neutral\": 10}, {\"name\": \"Breakfast\", \"description\": \"Breakfast\", \"total_mentioned\": 261, \"positive\": 245, \"negative\": 6, \"neutral\": 10}, {\"name\": \"Property\", \"description\": \"Property\", \"total_mentioned\": 519, \"positive\": 494, \"negative\": 13, \"neutral\": 12}, {\"name\": \"Pool\", \"description\": \"Pool\", \"total_mentioned\": 179, \"positive\": 171, \"negative\": 1, \"neutral\": 7}], \"amenities\": [\"Breakfast ($)\", \"Free Wi-Fi\", \"Free parking\", \"Outdoor pool\", \"Air conditioning\", \"Pet-friendly\", \"Fitness centre\", \"Spa\", \"Beach access\", \"Bar\", \"Restaurant\", \"Room service\", \"Golf\", \"Full-service laundry\", \"Accessible\"]}, {\"type\": \"hotel\", \"name\": \"Millennium Place Barsha Heights Apartments\", \"link\": \"https://www.millenniumhotels.com/en/dubai/millennium-place-barsha-heights-apartments/?cid=gplaces-millennium-place-barsha-heights-apartments\", \"property_token\": \"ChoI4Ir7hsPVtei6ARoNL2cvMTF0bXNkZmtsbRAB\", \"serpapi_property_details_link\": \"https://serpapi.com/search.json?adults=1&check_in_date=2025-02-20&check_out_date=2025-02-27&children=0&currency=USD&engine=google_hotels&gl=us&hl=en&hotel_class=4&property_token=ChoI4Ir7hsPVtei6ARoNL2cvMTF0bXNkZmtsbRAB&q=Dubai&sort_by=8\", \"gps_coordinates\": {\"latitude\": 25.092099599999997, \"longitude\": 55.176396999999994}, \"check_in_time\": \"2:00 PM\", \"check_out_time\": \"12:00 PM\", \"rate_per_night\": {\"lowest\": \"$133\", \"extracted_lowest\": 133, \"before_taxes_fees\": \"$105\", \"extracted_before_taxes_fees\": 105}, \"total_rate\": {\"lowest\": \"$931\", \"extracted_lowest\": 931, \"before_taxes_fees\": \"$736\", \"extracted_before_taxes_fees\": 736}, \"nearby_places\": [{\"name\": \"Ski Dubai\", \"transportations\": [{\"type\": \"Taxi\", \"duration\": \"8 min\"}]}, {\"name\": \"Jebel Ali Horse Racecourse 1\", \"transportations\": [{\"type\": \"Walking\", \"duration\": \"2 min\"}]}, {\"name\": \"Dubai International Airport\", \"transportations\": [{\"type\": \"Taxi\", \"duration\": \"31 min\"}, {\"type\": \"Public transport\", \"duration\": \"1 hr 1 min\"}]}, {\"name\": \"M One restaurant\", \"transportations\": [{\"type\": \"Walking\", \"duration\": \"1 min\"}]}], \"hotel_class\": \"4-star hotel\", \"extracted_hotel_class\": 4, \"images\": [{\"thumbnail\": \"https://lh6.googleusercontent.com/proxy/Qzwq8K3cjCcOLLpAvxgIiS29ZaT0x6a8mRSSIUrxj36ACEaapStwnvKRdXAz_bEzYwmvcaFWOf2J18ksjDl6GXIHe1utb8JZkcAY-Y857DgLJzMDotB6wAs3GMjXlATYBh9RdsWV3RGIwhOJ3ygZfrfIHFeACeQ=s287-w287-h192-n-k-no-v1\", \"original_image\": \"https://dynamic-media-cdn.tripadvisor.com/media/photo-o/19/c3/3f/47/getlstd-property-photo.jpg?w=1900&h=1300&s=1\"}, {\"thumbnail\": \"https://lh5.googleusercontent.com/p/AF1QipN9JjPg9tcIKlokjSGTKR5_jCeO4U0QgzE9uWuQ=s287-w287-h192-n-k-no-v1\", \"original_image\": \"https://lh5.googleusercontent.com/p/AF1QipN9JjPg9tcIKlokjSGTKR5_jCeO4U0QgzE9uWuQ=s10000\"}, {\"thumbnail\": \"https://lh5.googleusercontent.com/p/AF1QipO92sJWUM2xyI6vnA22i_oiXKf6d6gxI-IprNLH=s287-w287-h192-n-k-no-v1\", \"original_image\": \"https://lh5.googleusercontent.com/p/AF1QipO92sJWUM2xyI6vnA22i_oiXKf6d6gxI-IprNLH=s10000\"}, {\"thumbnail\": \"https://lh5.googleusercontent.com/p/AF1QipP3F_8Y2bg9JTnfAwPGL-g882FSAXh6_3FEzpaJ=s287-w287-h192-n-k-no-v1\", \"original_image\": \"https://lh5.googleusercontent.com/p/AF1QipP3F_8Y2bg9JTnfAwPGL-g882FSAXh6_3FEzpaJ=s10000\"}, {\"thumbnail\": \"https://lh5.googleusercontent.com/p/AF1QipNdZmkbKYmun-Pfy9oHY-g0wc8PimuXaYc2fVGK=s287-w287-h192-n-k-no-v1\", \"original_image\": \"https://lh5.googleusercontent.com/p/AF1QipNdZmkbKYmun-Pfy9oHY-g0wc8PimuXaYc2fVGK=s10000\"}, {\"thumbnail\": \"https://lh5.googleusercontent.com/p/AF1QipMtSHAImUTGDy-gUzM_-RflZq_ZfPE34a6UwnlI=s287-w287-h192-n-k-no-v1\", \"original_image\": \"https://lh5.googleusercontent.com/p/AF1QipMtSHAImUTGDy-gUzM_-RflZq_ZfPE34a6UwnlI=s10000\"}, {\"thumbnail\": \"https://lh5.googleusercontent.com/p/AF1QipNCE8H0xKSefsSBBSTGLGHUut4fM9WPBNISykUM=s287-w287-h192-n-k-no-v1\", \"original_image\": \"https://lh5.googleusercontent.com/p/AF1QipNCE8H0xKSefsSBBSTGLGHUut4fM9WPBNISykUM=s10000\"}, {\"thumbnail\": \"https://lh5.googleusercontent.com/p/AF1QipPVMmVS7WsMr3hqn4Szqo36YNnITB89hsPSzosQ=s287-w287-h192-n-k-no-v1\", \"original_image\": \"https://lh5.googleusercontent.com/p/AF1QipPVMmVS7WsMr3hqn4Szqo36YNnITB89hsPSzosQ=s10000\"}, {\"thumbnail\": \"https://lh5.googleusercontent.com/p/AF1QipO8NI-N_OMGldEMx_zsJJ1JqNZ-HHZ1HQEhIBT5=s287-w287-h192-n-k-no-v1\", \"original_image\": \"https://lh5.googleusercontent.com/p/AF1QipO8NI-N_OMGldEMx_zsJJ1JqNZ-HHZ1HQEhIBT5=s10000\"}], \"overall_rating\": 4.9, \"reviews\": 557, \"ratings\": [{\"stars\": 5, \"count\": 520}, {\"stars\": 4, \"count\": 21}, {\"stars\": 3, \"count\": 6}, {\"stars\": 2, \"count\": 3}, {\"stars\": 1, \"count\": 7}], \"location_rating\": 3.3, \"reviews_breakdown\": [{\"name\": \"Service\", \"description\": \"Service\", \"total_mentioned\": 259, \"positive\": 255, \"negative\": 3, \"neutral\": 1}, {\"name\": \"Breakfast\", \"description\": \"Breakfast\", \"total_mentioned\": 60, \"positive\": 57, \"negative\": 3, \"neutral\": 0}, {\"name\": \"Cleanliness\", \"description\": \"Cleanliness\", \"total_mentioned\": 109, \"positive\": 102, \"negative\": 4, \"neutral\": 3}, {\"name\": \"Restaurant\", \"description\": \"Restaurant\", \"total_mentioned\": 42, \"positive\": 41, \"negative\": 1, \"neutral\": 0}, {\"name\": \"Property\", \"description\": \"Property\", \"total_mentioned\": 130, \"positive\": 125, \"negative\": 5, \"neutral\": 0}, {\"name\": \"Dining\", \"description\": \"Food and Beverage\", \"total_mentioned\": 41, \"positive\": 38, \"negative\": 1, \"neutral\": 2}], \"amenities\": [\"Breakfast ($)\", \"Free Wi-Fi\", \"Free parking\", \"Outdoor pool\", \"Air conditioning\", \"Fitness centre\", \"Spa\", \"Restaurant\", \"Room service\", \"Kitchen in some rooms\", \"Airport shuttle\", \"Full-service laundry\", \"Accessible\", \"Business centre\", \"Child-friendly\"]}]\n"
          ]
        },
        {
          "output_type": "stream",
          "name": "stderr",
          "text": [
            "WARNING:langsmith.client:Failed to send compressed multipart ingest: langsmith.utils.LangSmithAuthError: Authentication failed for https://api.smith.langchain.com/runs/multipart. HTTPError('401 Client Error: Unauthorized for url: https://api.smith.langchain.com/runs/multipart', '{\"error\":\"Unauthorized\"}\\n')\n"
          ]
        },
        {
          "output_type": "stream",
          "name": "stdout",
          "text": [
            "==================================\u001b[1m Ai Message \u001b[0m==================================\n",
            "\n",
            "### Flights from Karachi to Dubai\n",
            "\n",
            "#### Option 1: Pakistan International Airlines\n",
            "- **Flight Number**: PK 213\n",
            "- **Departure**: February 20, 2025, at 01:10 KHI\n",
            "- **Arrival**: February 20, 2025, at 02:45 DXB\n",
            "- **Duration**: 155 minutes\n",
            "- **Price**: **$356**\n",
            "- [Airline Logo](https://www.gstatic.com/flights/airline_logos/70px/PK.png)\n",
            "\n",
            "---\n",
            "\n",
            "#### Option 2: Airblue\n",
            "- **Flight Number**: PA 110\n",
            "- **Departure**: February 20, 2025, at 18:10 KHI\n",
            "- **Arrival**: February 20, 2025, at 19:40 DXB\n",
            "- **Duration**: 150 minutes\n",
            "- **Price**: **$401**\n",
            "- [Airline Logo](https://www.gstatic.com/flights/airline_logos/70px/PA.png)\n",
            "\n",
            "---\n",
            "\n",
            "#### Option 3: flydubai\n",
            "- **Flight Number**: FZ 330\n",
            "- **Departure**: February 20, 2025, at 23:45 KHI\n",
            "- **Arrival**: February 21, 2025, at 01:20 DXB\n",
            "- **Duration**: 155 minutes\n",
            "- **Price**: **$421**\n",
            "- [Airline Logo](https://www.gstatic.com/flights/airline_logos/70px/FZ.png)\n",
            "\n",
            "### Four-Star Hotels in Dubai\n",
            "\n",
            "#### Option 1: [Holiday Inn & Suites Dubai Festival City](https://www.ihg.com/holidayinn/hotels/gb/en/dubai/dxbfc/hoteldetail?cm_mmc=GoogleMaps-_-HI-_-AE-_-DXBFC)\n",
            "- **Rating**: 4.9/5\n",
            "- **Total Price for 7 Nights**: **$2,114**\n",
            "- **Rate per Night**: **$302**\n",
            "- ![Holiday Inn Logo](https://lh5.googleusercontent.com/p/AF1QipMRdwVo_bBam7oQF862bkz8BhF2TZ_9hYIkNOD2=s10000)\n",
            "\n",
            "---\n",
            "\n",
            "#### Option 2: [Vida Dubai Marina & Yacht Club](https://www.vidahotels.com/en/hotels/vida-dubai-marina-yacht-club/)\n",
            "- **Rating**: 4.9/5\n",
            "- **Total Price for 7 Nights**: **$2,744**\n",
            "- **Rate per Night**: **$392**\n",
            "- ![Vida Hotel Logo](https://lh5.googleusercontent.com/p/AF1QipPEus0PuWG-GA2FzVa2Ln-RBji8g4_tu4nq4s4D=s10000)\n",
            "\n",
            "---\n",
            "\n",
            "#### Option 3: [Millennium Place Barsha Heights Apartments](https://www.millenniumhotels.com/en/dubai/millennium-place-barsha-heights-apartments/?cid=gplaces-millennium-place-barsha-heights-apartments)\n",
            "- **Rating**: 4.9/5\n",
            "- **Total Price for 7 Nights**: **$931**\n",
            "- **Rate per Night**: **$133**\n",
            "- ![Millennium Place Logo](https://dynamic-media-cdn.tripadvisor.com/media/photo-o/19/c3/3f/47/getlstd-property-photo.jpg?w=1900&h=1300&s=1)\n",
            "\n",
            "### Summary\n",
            "- **Cheapest Flight**: Pakistan International Airlines for **$356**.\n",
            "- **Cheapest Four-Star Hotel**: Millennium Place Barsha Heights Apartments for **$931** for 7 nights. \n",
            "\n",
            "Feel free to ask if you need more options or details!\n"
          ]
        }
      ]
    },
    {
      "cell_type": "code",
      "source": [
        "state = graph.get_state(thread)\n",
        "state"
      ],
      "metadata": {
        "id": "no7uKguzoG9b",
        "outputId": "19fe5189-84cc-4028-b813-3141c4fd58f0",
        "colab": {
          "base_uri": "https://localhost:8080/"
        }
      },
      "execution_count": 17,
      "outputs": [
        {
          "output_type": "execute_result",
          "data": {
            "text/plain": [
              "StateSnapshot(values={'messages': [HumanMessage(content='I want to travel to Dubai from Karachi from 20 - 27 Febuary.Find me flights and 4 star hotels', additional_kwargs={}, response_metadata={}, id='c40ab10f-6464-4d0b-9883-b0f9c2ec29ee'), AIMessage(content='', additional_kwargs={'tool_calls': [{'id': 'call_6mcslCG1YSa9CAdtoHuuauo9', 'function': {'arguments': '{\"params\": {\"departure_airport\": \"KHI\", \"arrival_airport\": \"DXB\", \"outbound_date\": \"2025-02-20\", \"return_date\": \"2025-02-27\"}}', 'name': 'flights_finder'}, 'type': 'function'}, {'id': 'call_TQtEJA8UnMvUpiC3rbdsZuYF', 'function': {'arguments': '{\"params\": {\"q\": \"Dubai\", \"check_in_date\": \"2025-02-20\", \"check_out_date\": \"2025-02-27\", \"hotel_class\": \"4\", \"sort_by\": \"8\"}}', 'name': 'hotels_finder'}, 'type': 'function'}], 'refusal': None}, response_metadata={'token_usage': {'completion_tokens': 117, 'prompt_tokens': 662, 'total_tokens': 779, 'completion_tokens_details': {'accepted_prediction_tokens': 0, 'audio_tokens': 0, 'reasoning_tokens': 0, 'rejected_prediction_tokens': 0}, 'prompt_tokens_details': {'audio_tokens': 0, 'cached_tokens': 0}}, 'model_name': 'gpt-4o-mini-2024-07-18', 'system_fingerprint': 'fp_bd83329f63', 'finish_reason': 'tool_calls', 'logprobs': None}, id='run-e8ec9b59-3382-41bc-8bd5-a03a41f5ebd5-0', tool_calls=[{'name': 'flights_finder', 'args': {'params': {'departure_airport': 'KHI', 'arrival_airport': 'DXB', 'outbound_date': '2025-02-20', 'return_date': '2025-02-27'}}, 'id': 'call_6mcslCG1YSa9CAdtoHuuauo9', 'type': 'tool_call'}, {'name': 'hotels_finder', 'args': {'params': {'q': 'Dubai', 'check_in_date': '2025-02-20', 'check_out_date': '2025-02-27', 'hotel_class': '4', 'sort_by': '8'}}, 'id': 'call_TQtEJA8UnMvUpiC3rbdsZuYF', 'type': 'tool_call'}], usage_metadata={'input_tokens': 662, 'output_tokens': 117, 'total_tokens': 779, 'input_token_details': {'audio': 0, 'cache_read': 0}, 'output_token_details': {'audio': 0, 'reasoning': 0}}), ToolMessage(content='[{\"flights\": [{\"departure_airport\": {\"name\": \"Jinnah International Airport\", \"id\": \"KHI\", \"time\": \"2025-02-20 01:10\"}, \"arrival_airport\": {\"name\": \"Dubai International Airport\", \"id\": \"DXB\", \"time\": \"2025-02-20 02:45\"}, \"duration\": 155, \"airplane\": \"Airbus A320\", \"airline\": \"Pakistan International Airlines\", \"airline_logo\": \"https://www.gstatic.com/flights/airline_logos/70px/PK.png\", \"travel_class\": \"Economy\", \"flight_number\": \"PK 213\", \"legroom\": \"30 in\", \"extensions\": [\"Average legroom (30 in)\", \"Carbon emissions estimate: 115 kg\"], \"overnight\": true}], \"total_duration\": 155, \"carbon_emissions\": {\"this_flight\": 115000, \"typical_for_this_route\": 112000, \"difference_percent\": 3}, \"price\": 356, \"type\": \"Round trip\", \"airline_logo\": \"https://www.gstatic.com/flights/airline_logos/70px/PK.png\", \"departure_token\": \"WyJDalJJWkhkdE1uVlVSMlpPWDNOQlFqUmtWVUZDUnkwdExTMHRMUzB0TFhscGRIa3hPVUZCUVVGQlIyVjJVWGhuVG5KSWExbEJFZ1ZRU3pJeE14b0xDTU9WQWhBQ0dnTlZVMFE0SEhERGxRST0iLFtbIktISSIsIjIwMjUtMDItMjAiLCJEWEIiLG51bGwsIlBLIiwiMjEzIl1dXQ==\"}, {\"flights\": [{\"departure_airport\": {\"name\": \"Jinnah International Airport\", \"id\": \"KHI\", \"time\": \"2025-02-20 18:10\"}, \"arrival_airport\": {\"name\": \"Dubai International Airport\", \"id\": \"DXB\", \"time\": \"2025-02-20 19:40\"}, \"duration\": 150, \"airplane\": \"Airbus A321\", \"airline\": \"Airblue\", \"airline_logo\": \"https://www.gstatic.com/flights/airline_logos/70px/PA.png\", \"travel_class\": \"Economy\", \"flight_number\": \"PA 110\", \"extensions\": [\"Carbon emissions estimate: 118 kg\"]}], \"total_duration\": 150, \"carbon_emissions\": {\"this_flight\": 119000, \"typical_for_this_route\": 112000, \"difference_percent\": 6}, \"price\": 401, \"type\": \"Round trip\", \"airline_logo\": \"https://www.gstatic.com/flights/airline_logos/70px/PA.png\", \"departure_token\": \"WyJDalJJWkhkdE1uVlVSMlpPWDNOQlFqUmtWVUZDUnkwdExTMHRMUzB0TFhscGRIa3hPVUZCUVVGQlIyVjJVWGhuVG5KSWExbEJFZ1ZRUVRFeE1Cb0xDTmU0QWhBQ0dnTlZVMFE0SEhEWHVBST0iLFtbIktISSIsIjIwMjUtMDItMjAiLCJEWEIiLG51bGwsIlBBIiwiMTEwIl1dXQ==\"}, {\"flights\": [{\"departure_airport\": {\"name\": \"Jinnah International Airport\", \"id\": \"KHI\", \"time\": \"2025-02-20 23:45\"}, \"arrival_airport\": {\"name\": \"Dubai International Airport\", \"id\": \"DXB\", \"time\": \"2025-02-21 01:20\"}, \"duration\": 155, \"airplane\": \"Boeing 737MAX 8 Passenger\", \"airline\": \"flydubai\", \"airline_logo\": \"https://www.gstatic.com/flights/airline_logos/70px/FZ.png\", \"travel_class\": \"Economy\", \"flight_number\": \"FZ 330\", \"ticket_also_sold_by\": [\"Emirates\"], \"legroom\": \"30 in\", \"extensions\": [\"Average legroom (30 in)\", \"In-seat USB outlet\", \"On-demand video\", \"Carbon emissions estimate: 95 kg\"]}], \"total_duration\": 155, \"carbon_emissions\": {\"this_flight\": 95000, \"typical_for_this_route\": 112000, \"difference_percent\": -15}, \"price\": 421, \"type\": \"Round trip\", \"airline_logo\": \"https://www.gstatic.com/flights/airline_logos/70px/FZ.png\", \"departure_token\": \"WyJDalJJWkhkdE1uVlVSMlpPWDNOQlFqUmtWVUZDUnkwdExTMHRMUzB0TFhscGRIa3hPVUZCUVVGQlIyVjJVWGhuVG5KSWExbEJFZ1ZHV2pNek1Cb0xDTGZJQWhBQ0dnTlZVMFE0SEhDM3lBST0iLFtbIktISSIsIjIwMjUtMDItMjAiLCJEWEIiLG51bGwsIkZaIiwiMzMwIl1dXQ==\"}]', name='flights_finder', id='adf6ece0-179f-4813-bafa-f22966f1dd0a', tool_call_id='call_6mcslCG1YSa9CAdtoHuuauo9'), ToolMessage(content='[{\"type\": \"hotel\", \"name\": \"Holiday Inn & Suites Dubai Festival City, an IHG Hotel\", \"description\": \"Airy quarters in a contemporary hotel with a restaurant & a cafe, plus a rooftop pool with a bar.\", \"link\": \"https://www.ihg.com/holidayinn/hotels/gb/en/dubai/dxbfc/hoteldetail?cm_mmc=GoogleMaps-_-HI-_-AE-_-DXBFC\", \"property_token\": \"ChkI8-b44eSkmdwbGg0vZy8xMWY1Mm1uNjl6EAE\", \"serpapi_property_details_link\": \"https://serpapi.com/search.json?adults=1&check_in_date=2025-02-20&check_out_date=2025-02-27&children=0&currency=USD&engine=google_hotels&gl=us&hl=en&hotel_class=4&property_token=ChkI8-b44eSkmdwbGg0vZy8xMWY1Mm1uNjl6EAE&q=Dubai&sort_by=8\", \"gps_coordinates\": {\"latitude\": 25.221861, \"longitude\": 55.358200999999994}, \"check_in_time\": \"3:00\\u202fPM\", \"check_out_time\": \"12:00\\u202fPM\", \"rate_per_night\": {\"lowest\": \"$302\", \"extracted_lowest\": 302, \"before_taxes_fees\": \"$243\", \"extracted_before_taxes_fees\": 243}, \"total_rate\": {\"lowest\": \"$2,114\", \"extracted_lowest\": 2114, \"before_taxes_fees\": \"$1,703\", \"extracted_before_taxes_fees\": 1703}, \"nearby_places\": [{\"name\": \"Dubai Dolphinarium\", \"transportations\": [{\"type\": \"Taxi\", \"duration\": \"9 min\"}]}, {\"name\": \"Dubai Festival City, IKEA1\", \"transportations\": [{\"type\": \"Walking\", \"duration\": \"4 min\"}]}, {\"name\": \"Dubai International Airport\", \"transportations\": [{\"type\": \"Taxi\", \"duration\": \"15 min\"}, {\"type\": \"Public transport\", \"duration\": \"18 min\"}]}, {\"name\": \"Sirocco Restaurant\", \"transportations\": [{\"type\": \"Walking\", \"duration\": \"1 min\"}]}], \"hotel_class\": \"4-star hotel\", \"extracted_hotel_class\": 4, \"images\": [{\"thumbnail\": \"https://lh5.googleusercontent.com/p/AF1QipMRdwVo_bBam7oQF862bkz8BhF2TZ_9hYIkNOD2=s287-w287-h192-n-k-no-v1\", \"original_image\": \"https://lh5.googleusercontent.com/p/AF1QipMRdwVo_bBam7oQF862bkz8BhF2TZ_9hYIkNOD2=s10000\"}, {\"thumbnail\": \"https://lh5.googleusercontent.com/p/AF1QipN-8u0z0BP-nUdmm0mCafMuEjOvKdqFo8M0E2u4=s287-w287-h192-n-k-no-v1\", \"original_image\": \"https://lh5.googleusercontent.com/p/AF1QipN-8u0z0BP-nUdmm0mCafMuEjOvKdqFo8M0E2u4=s10000\"}, {\"thumbnail\": \"https://lh5.googleusercontent.com/p/AF1QipNa8BW7M-HfsuymdKvNTMOALZi71AMcNxM6CFX7=s287-w287-h192-n-k-no-v1\", \"original_image\": \"https://lh5.googleusercontent.com/p/AF1QipNa8BW7M-HfsuymdKvNTMOALZi71AMcNxM6CFX7=s10000\"}, {\"thumbnail\": \"https://lh5.googleusercontent.com/p/AF1QipOZQ4-gmbhubvrQWc1WvJrd1ahZ_hLIf9-il2DS=s287-w287-h192-n-k-no-v1\", \"original_image\": \"https://lh5.googleusercontent.com/p/AF1QipOZQ4-gmbhubvrQWc1WvJrd1ahZ_hLIf9-il2DS=s10000\"}, {\"thumbnail\": \"https://lh5.googleusercontent.com/p/AF1QipMW5PnOgm87gok4dA1Asif-VKSRIm5lgav5PHBK=s287-w287-h192-n-k-no-v1\", \"original_image\": \"https://lh5.googleusercontent.com/p/AF1QipMW5PnOgm87gok4dA1Asif-VKSRIm5lgav5PHBK=s10000\"}, {\"thumbnail\": \"https://lh5.googleusercontent.com/p/AF1QipNG7v44J5bYsN4sTXgIb4lUebRsiCymFta0O39_=s287-w287-h192-n-k-no-v1\", \"original_image\": \"https://lh5.googleusercontent.com/p/AF1QipNG7v44J5bYsN4sTXgIb4lUebRsiCymFta0O39_=s10000\"}, {\"thumbnail\": \"https://lh5.googleusercontent.com/p/AF1QipMEOKNfRNcYzlNu_OgA7kD5aLGMu_dbjqtS1SAQ=s287-w287-h192-n-k-no-v1\", \"original_image\": \"https://lh5.googleusercontent.com/p/AF1QipMEOKNfRNcYzlNu_OgA7kD5aLGMu_dbjqtS1SAQ=s10000\"}, {\"thumbnail\": \"https://lh5.googleusercontent.com/p/AF1QipONw3AOBH2DzKIqxQwBoumYTJy5dH-D1SzyfnWM=s287-w287-h192-n-k-no-v1\", \"original_image\": \"https://lh5.googleusercontent.com/p/AF1QipONw3AOBH2DzKIqxQwBoumYTJy5dH-D1SzyfnWM=s10000\"}, {\"thumbnail\": \"https://lh5.googleusercontent.com/p/AF1QipPV4bx6x-E69LvgHLYTCfAg34ian98_YDdq_B5o=s287-w287-h192-n-k-no-v1\", \"original_image\": \"https://lh5.googleusercontent.com/p/AF1QipPV4bx6x-E69LvgHLYTCfAg34ian98_YDdq_B5o=s10000\"}], \"overall_rating\": 4.9, \"reviews\": 15851, \"ratings\": [{\"stars\": 5, \"count\": 14239}, {\"stars\": 4, \"count\": 1216}, {\"stars\": 3, \"count\": 219}, {\"stars\": 2, \"count\": 57}, {\"stars\": 1, \"count\": 120}], \"location_rating\": 3.2, \"reviews_breakdown\": [{\"name\": \"Service\", \"description\": \"Service\", \"total_mentioned\": 8630, \"positive\": 8486, \"negative\": 85, \"neutral\": 59}, {\"name\": \"Safety\", \"description\": \"Safety\", \"total_mentioned\": 2018, \"positive\": 1985, \"negative\": 13, \"neutral\": 20}, {\"name\": \"Property\", \"description\": \"Property\", \"total_mentioned\": 4430, \"positive\": 4320, \"negative\": 54, \"neutral\": 56}, {\"name\": \"Breakfast\", \"description\": \"Breakfast\", \"total_mentioned\": 1474, \"positive\": 1428, \"negative\": 21, \"neutral\": 25}, {\"name\": \"Location\", \"description\": \"Location\", \"total_mentioned\": 2276, \"positive\": 2150, \"negative\": 20, \"neutral\": 106}, {\"name\": \"Cleanliness\", \"description\": \"Cleanliness\", \"total_mentioned\": 1924, \"positive\": 1853, \"negative\": 49, \"neutral\": 22}], \"amenities\": [\"Breakfast ($)\", \"Free Wi-Fi\", \"Free parking\", \"Outdoor pool\", \"Air conditioning\", \"Fitness centre\", \"Spa\", \"Bar\", \"Restaurant\", \"Room service\", \"Kitchen in rooms\", \"Full-service laundry\", \"Accessible\", \"Business centre\", \"Child-friendly\", \"Smoke-free property\"]}, {\"type\": \"hotel\", \"name\": \"Vida Dubai Marina & Yacht Club\", \"description\": \"Airy quarters with balconies, some with marina views, in an upmarket hotel with a pool & a 24/7 gym.\", \"link\": \"https://www.vidahotels.com/en/hotels/vida-dubai-marina-yacht-club/\", \"property_token\": \"ChoIr6uUlNealZuuARoNL2cvMTFnNl8yMG1nMBAB\", \"serpapi_property_details_link\": \"https://serpapi.com/search.json?adults=1&check_in_date=2025-02-20&check_out_date=2025-02-27&children=0&currency=USD&engine=google_hotels&gl=us&hl=en&hotel_class=4&property_token=ChoIr6uUlNealZuuARoNL2cvMTFnNl8yMG1nMBAB&q=Dubai&sort_by=8\", \"gps_coordinates\": {\"latitude\": 25.0722834, \"longitude\": 55.1362915}, \"check_in_time\": \"3:00\\u202fPM\", \"check_out_time\": \"12:00\\u202fAM\", \"rate_per_night\": {\"lowest\": \"$392\", \"extracted_lowest\": 392, \"before_taxes_fees\": \"$317\", \"extracted_before_taxes_fees\": 317}, \"total_rate\": {\"lowest\": \"$2,744\", \"extracted_lowest\": 2744, \"before_taxes_fees\": \"$2,217\", \"extracted_before_taxes_fees\": 2217}, \"nearby_places\": [{\"name\": \"Ain Dubai\", \"transportations\": [{\"type\": \"Taxi\", \"duration\": \"8 min\"}]}, {\"name\": \"DMCC Metro Station\", \"transportations\": [{\"type\": \"Walking\", \"duration\": \"8 min\"}]}, {\"name\": \"Dubai International Airport\", \"transportations\": [{\"type\": \"Taxi\", \"duration\": \"35 min\"}, {\"type\": \"Public transport\", \"duration\": \"55 min\"}]}, {\"name\": \"Marina dine restaurant\", \"transportations\": [{\"type\": \"Walking\", \"duration\": \"2 min\"}]}], \"hotel_class\": \"4-star hotel\", \"extracted_hotel_class\": 4, \"images\": [{\"thumbnail\": \"https://lh5.googleusercontent.com/proxy/eU6O46AVKbYv2fMAcBG_mnbdch3xkFB2gmN1wcrkL1QFlXNbQmxjmZgp0MmPr9Ja-WCAQg7tteIQW_MCw05MsZd31BqXcR38Ls3S6rhLXkhmFdVP_d26y2nZgR1MWC804TsMIMSTAGj6O6RzbDtlHXhziHQ7dAc=s287-w287-h192-n-k-no-v1\", \"original_image\": \"https://i.giatamedia.com/m.php?m=AQABAAAAla4KAOW00QUFALl2qAeEJwSNNbEfOr-a7SE\"}, {\"thumbnail\": \"https://lh5.googleusercontent.com/p/AF1QipPEus0PuWG-GA2FzVa2Ln-RBji8g4_tu4nq4s4D=s287-w287-h192-n-k-no-v1\", \"original_image\": \"https://lh5.googleusercontent.com/p/AF1QipPEus0PuWG-GA2FzVa2Ln-RBji8g4_tu4nq4s4D=s10000\"}, {\"thumbnail\": \"https://lh5.googleusercontent.com/p/AF1QipMB3KuzDqpafvUS6RxSpyhqKliiuEXoOZDhXJmv=s287-w287-h192-n-k-no-v1\", \"original_image\": \"https://lh5.googleusercontent.com/p/AF1QipMB3KuzDqpafvUS6RxSpyhqKliiuEXoOZDhXJmv=s10000\"}, {\"thumbnail\": \"https://lh3.googleusercontent.com/proxy/s662M5T6OiGsBqfuLTDlEc9Sken3VjyCuVuZFxUtwItNLizPaxj548tGNTw9w_gFJqctG4OY_xckSys4a630WeQcjrEaobsnsuknSn8cdLsQj61IrwaPZe_9hMsnXiga5nm_Nq_lI25lIE8F-gt1O3-_Gtn2qQ=s287-w287-h192-n-k-no-v1\", \"original_image\": \"https://i.giatamedia.com/m.php?m=AQABAAAAla4KAITg0AYFAOD_8T9U4mJICl-LPbMqR-4\"}, {\"thumbnail\": \"https://lh5.googleusercontent.com/p/AF1QipPvJAL7esNaYhtpkSpW0tGzd_5N8nX9L_8y_EIc=s287-w287-h192-n-k-no-v1\", \"original_image\": \"https://lh5.googleusercontent.com/p/AF1QipPvJAL7esNaYhtpkSpW0tGzd_5N8nX9L_8y_EIc=s10000\"}, {\"thumbnail\": \"https://lh5.googleusercontent.com/p/AF1QipPwwOj1fUjYoGsV_fbgeB-tQormHOATXiRsSy_C=s287-w287-h192-n-k-no-v1\", \"original_image\": \"https://lh5.googleusercontent.com/p/AF1QipPwwOj1fUjYoGsV_fbgeB-tQormHOATXiRsSy_C=s10000\"}, {\"thumbnail\": \"https://lh5.googleusercontent.com/p/AF1QipOQI3zOkDr-y0eGDYiW-TGY023phE1-32peaRem=s287-w287-h192-n-k-no-v1\", \"original_image\": \"https://lh5.googleusercontent.com/p/AF1QipOQI3zOkDr-y0eGDYiW-TGY023phE1-32peaRem=s10000\"}, {\"thumbnail\": \"https://lh6.googleusercontent.com/proxy/-RTqK7IvVm3dexPDi-_ZkQ6aMCxgTTL5MmNY9-9wKZEzSeugb9FMO7P00VWLKQcdTOL-vDCIK2pA20VPxnaIKTJ7N7KolcwIJzjneiRbi4mknOBXIMx0ElAktxbYjcB-fRefoBMWHrM-pTqcEXjTHS5FkTCxzl4=s287-w287-h192-n-k-no-v1\", \"original_image\": \"https://images.trvl-media.com/lodging/84000000/83570000/83560100/83560061/481fe91b_z.jpg\"}, {\"thumbnail\": \"https://lh3.googleusercontent.com/proxy/htv4jg3Rh5xmKIBW3CUqGV48AtXtw2lWAvyUmsM38GaA5RHtR_viWIJRZqiI2Lag8fOGdpTFMBOBARxlXOuyca8YPEXtHM2MATfQVvDAOMzuCeNYSgzwbR_CJ2GieWqe-prDLLmwqr26jfbPV-RKh3hWN2pOHUw=s287-w287-h192-n-k-no-v1\", \"original_image\": \"https://images.trvl-media.com/lodging/84000000/83570000/83560100/83560061/w4724h3145x0y5-b11e3009_z.jpg\"}], \"overall_rating\": 4.9, \"reviews\": 6078, \"ratings\": [{\"stars\": 5, \"count\": 5861}, {\"stars\": 4, \"count\": 154}, {\"stars\": 3, \"count\": 21}, {\"stars\": 2, \"count\": 9}, {\"stars\": 1, \"count\": 33}], \"location_rating\": 4.0, \"reviews_breakdown\": [{\"name\": \"Service\", \"description\": \"Service\", \"total_mentioned\": 2903, \"positive\": 2865, \"negative\": 24, \"neutral\": 14}, {\"name\": \"Breakfast\", \"description\": \"Breakfast\", \"total_mentioned\": 580, \"positive\": 569, \"negative\": 5, \"neutral\": 6}, {\"name\": \"Dining\", \"description\": \"Food and Beverage\", \"total_mentioned\": 560, \"positive\": 546, \"negative\": 7, \"neutral\": 7}, {\"name\": \"Property\", \"description\": \"Property\", \"total_mentioned\": 896, \"positive\": 869, \"negative\": 14, \"neutral\": 13}, {\"name\": \"Bar\", \"description\": \"Bar or lounge\", \"total_mentioned\": 229, \"positive\": 219, \"negative\": 5, \"neutral\": 5}, {\"name\": \"Restaurant\", \"description\": \"Restaurant\", \"total_mentioned\": 220, \"positive\": 209, \"negative\": 3, \"neutral\": 8}], \"amenities\": [\"Breakfast ($)\", \"Free Wi-Fi\", \"Free parking\", \"Pool\", \"Air conditioning\", \"Pet-friendly\", \"Fitness centre\", \"Spa\", \"Restaurant\", \"Room service\", \"Airport shuttle\", \"Full-service laundry\", \"Accessible\"]}, {\"type\": \"hotel\", \"name\": \"Vida Emirates Hills\", \"description\": \"Chic rooms & suites in a high-end hotel with a gin bar, terrace dining & an outdoor pool.\", \"link\": \"https://www.vidahotels.com/en/vida-emirates-hills/\", \"property_token\": \"ChkIoMruhM62mLo9Gg0vZy8xMWRmc3Z3bnk5EAE\", \"serpapi_property_details_link\": \"https://serpapi.com/search.json?adults=1&check_in_date=2025-02-20&check_out_date=2025-02-27&children=0&currency=USD&engine=google_hotels&gl=us&hl=en&hotel_class=4&property_token=ChkIoMruhM62mLo9Gg0vZy8xMWRmc3Z3bnk5EAE&q=Dubai&sort_by=8\", \"gps_coordinates\": {\"latitude\": 25.0785283, \"longitude\": 55.1579261}, \"check_in_time\": \"3:00\\u202fPM\", \"check_out_time\": \"12:00\\u202fPM\", \"rate_per_night\": {\"lowest\": \"$600\", \"extracted_lowest\": 600, \"before_taxes_fees\": \"$490\", \"extracted_before_taxes_fees\": 490}, \"total_rate\": {\"lowest\": \"$4,203\", \"extracted_lowest\": 4203, \"before_taxes_fees\": \"$3,432\", \"extracted_before_taxes_fees\": 3432}, \"nearby_places\": [{\"name\": \"Ski Dubai\", \"transportations\": [{\"type\": \"Taxi\", \"duration\": \"10 min\"}]}, {\"name\": \"Dubai International Airport\", \"transportations\": [{\"type\": \"Taxi\", \"duration\": \"33 min\"}, {\"type\": \"Public transport\", \"duration\": \"1 hr 7 min\"}]}, {\"name\": \"Origins At Vida Emirates Hills\", \"transportations\": [{\"type\": \"Walking\", \"duration\": \"1 min\"}]}], \"hotel_class\": \"4-star hotel\", \"extracted_hotel_class\": 4, \"images\": [{\"thumbnail\": \"https://lh5.googleusercontent.com/p/AF1QipNkcgh74rCv7nkFZ9EN29EW2hbphuN3Yrog4bWl=s287-w287-h192-n-k-no-v1\", \"original_image\": \"https://lh5.googleusercontent.com/p/AF1QipNkcgh74rCv7nkFZ9EN29EW2hbphuN3Yrog4bWl=s10000\"}, {\"thumbnail\": \"https://lh6.googleusercontent.com/proxy/f0k6wSMQJz4ker0pzbchJ-0iLS3HMQaq8PVkpaRp6dWA9bU_JjfUefZFWg8GnSxMyeH7VeMcowGsOI01YiG8o9GDhzDRbBNnEZZztm0IE0j6LHsNB1SjajafmDoPRXK459edx3nS7Pa6IUpVd9ngzts2oEKu8Mg=s287-w287-h192-n-k-no-v1\", \"original_image\": \"https://photos.hotelbeds.com/giata/original/66/668783/668783a_hb_p_002.jpg\"}, {\"thumbnail\": \"https://lh5.googleusercontent.com/p/AF1QipM7p4vC-PeEpyx06On-Biy43DL1EMIWXvQz8XKw=s287-w287-h192-n-k-no-v1\", \"original_image\": \"https://lh5.googleusercontent.com/p/AF1QipM7p4vC-PeEpyx06On-Biy43DL1EMIWXvQz8XKw=s10000\"}, {\"thumbnail\": \"https://lh6.googleusercontent.com/proxy/OmzfGpuC6rZ1Tw9-7IKHnkLmKv72IzHvyizpSV74LrMoFCp7pspClFQGcI2Y-8myOalqA8_v3TguoIxTVcFDEsISpwALgvldtZZxa17mUvH2tMQSd3W8rTi0uLS6DeD_646fB9s0ByQhv6tALa_toJlH8Yp6QQ=s287-w287-h192-n-k-no-v1\", \"original_image\": \"https://cdn.worldota.net/t/1024x768/content/2a/f9/2af912e944a0fa5b46ee2ca0dabc5c57df706c8a.jpeg\"}, {\"thumbnail\": \"https://lh4.googleusercontent.com/proxy/KnV9oL2N8UeQaXaSHAbddMrV1WtNUORZdsNMTqYz8mFNrF4ji4qKWXF_WStSgKeggXGa1KPG5eaMdPWI-ICbAHu4EwuN6Dl2hqha4a4fmPwLwrmYHj_EaNvAijCEXf-PBe6Osgc54MuBYXz8HNiwQegz9fPuOg=s287-w287-h192-n-k-no-v1\", \"original_image\": \"https://images.trvl-media.com/lodging/43000000/42580000/42571700/42571677/831d2edd_z.jpg\"}, {\"thumbnail\": \"https://lh5.googleusercontent.com/p/AF1QipOGWkR4OECxbpKzcaYolDAu2e0kGwHo5fK64NUN=s287-w287-h192-n-k-no-v1\", \"original_image\": \"https://lh5.googleusercontent.com/p/AF1QipOGWkR4OECxbpKzcaYolDAu2e0kGwHo5fK64NUN=s10000\"}, {\"thumbnail\": \"https://lh5.googleusercontent.com/p/AF1QipOOLw-zEMjZ-tuNGkzNOv-JnyeuE_-ZKf4pFX4r=s287-w287-h192-n-k-no-v1\", \"original_image\": \"https://lh5.googleusercontent.com/p/AF1QipOOLw-zEMjZ-tuNGkzNOv-JnyeuE_-ZKf4pFX4r=s10000\"}, {\"thumbnail\": \"https://lh4.googleusercontent.com/proxy/EtvYVtkg6AKlDAB7Ti1-dXTMU5x08Ai_ZwNUyBQKJWpjTC0dmZ-5ax1ATumbapVEdpoqKyFDv98kUod2HqleJn6mYWpe5lf7aPF9cFfuYe6SnBi2_MBKjMsyE1tRvzaRO0d1LHyS1mVqmsL7NsKajFGJyHl2xA=s287-w287-h192-n-k-no-v1\", \"original_image\": \"https://images.trvl-media.com/lodging/43000000/42580000/42571700/42571677/ac804f2d_z.jpg\"}, {\"thumbnail\": \"https://lh5.googleusercontent.com/p/AF1QipO36rnhQKQGAQK8qy7_ihk7ILHW8S6KOh67u6yX=s287-w287-h192-n-k-no-v1\", \"original_image\": \"https://lh5.googleusercontent.com/p/AF1QipO36rnhQKQGAQK8qy7_ihk7ILHW8S6KOh67u6yX=s10000\"}], \"overall_rating\": 4.9, \"reviews\": 5949, \"ratings\": [{\"stars\": 5, \"count\": 5435}, {\"stars\": 4, \"count\": 365}, {\"stars\": 3, \"count\": 72}, {\"stars\": 2, \"count\": 24}, {\"stars\": 1, \"count\": 53}], \"location_rating\": 3.2, \"reviews_breakdown\": [{\"name\": \"Service\", \"description\": \"Service\", \"total_mentioned\": 2904, \"positive\": 2849, \"negative\": 40, \"neutral\": 15}, {\"name\": \"Dining\", \"description\": \"Food and Beverage\", \"total_mentioned\": 638, \"positive\": 611, \"negative\": 13, \"neutral\": 14}, {\"name\": \"Fitness\", \"description\": \"Fitness\", \"total_mentioned\": 402, \"positive\": 370, \"negative\": 12, \"neutral\": 20}, {\"name\": \"Breakfast\", \"description\": \"Breakfast\", \"total_mentioned\": 376, \"positive\": 353, \"negative\": 13, \"neutral\": 10}, {\"name\": \"Property\", \"description\": \"Property\", \"total_mentioned\": 938, \"positive\": 917, \"negative\": 9, \"neutral\": 12}, {\"name\": \"Atmosphere\", \"description\": \"Atmosphere\", \"total_mentioned\": 376, \"positive\": 371, \"negative\": 1, \"neutral\": 4}], \"amenities\": [\"Breakfast ($)\", \"Free Wi-Fi\", \"Free parking\", \"Outdoor pool\", \"Air conditioning\", \"Fitness centre\", \"Bar\", \"Restaurant\", \"Room service\", \"Airport shuttle\", \"Full-service laundry\", \"Accessible\", \"Business centre\", \"Child-friendly\"]}, {\"type\": \"hotel\", \"name\": \"voco Dubai The Palm\", \"description\": \"Stylish rooms, some with beach views, in a refined hotel featuring a rooftop bar & a restaurant.\", \"link\": \"https://www.vocohotels.com/dubaithepalm\", \"property_token\": \"ChoIrOWEvq2A5dWdARoNL2cvMTFzXzVkamdsdhAB\", \"serpapi_property_details_link\": \"https://serpapi.com/search.json?adults=1&check_in_date=2025-02-20&check_out_date=2025-02-27&children=0&currency=USD&engine=google_hotels&gl=us&hl=en&hotel_class=4&property_token=ChoIrOWEvq2A5dWdARoNL2cvMTFzXzVkamdsdhAB&q=Dubai&sort_by=8\", \"gps_coordinates\": {\"latitude\": 25.107576299999998, \"longitude\": 55.142996999999994}, \"check_in_time\": \"3:00\\u202fPM\", \"check_out_time\": \"12:00\\u202fPM\", \"rate_per_night\": {\"lowest\": \"$417\", \"extracted_lowest\": 417, \"before_taxes_fees\": \"$337\", \"extracted_before_taxes_fees\": 337}, \"total_rate\": {\"lowest\": \"$2,921\", \"extracted_lowest\": 2921, \"before_taxes_fees\": \"$2,361\", \"extracted_before_taxes_fees\": 2361}, \"nearby_places\": [{\"name\": \"Aquaventure Waterpark\", \"transportations\": [{\"type\": \"Public transport\", \"duration\": \"10 min\"}]}, {\"name\": \"Al Ittihad Park\", \"transportations\": [{\"type\": \"Walking\", \"duration\": \"6 min\"}]}, {\"name\": \"Dubai International Airport\", \"transportations\": [{\"type\": \"Taxi\", \"duration\": \"33 min\"}, {\"type\": \"Public transport\", \"duration\": \"1 hr 37 min\"}]}, {\"name\": \"Levantera Restaurant\", \"transportations\": [{\"type\": \"Walking\", \"duration\": \"6 min\"}]}], \"hotel_class\": \"4-star hotel\", \"extracted_hotel_class\": 4, \"images\": [{\"thumbnail\": \"https://lh5.googleusercontent.com/p/AF1QipNGihrPwHlKAAzQfcoQ4edQGK-UEgtfAU7rE0-V=s287-w287-h192-n-k-no-v1\", \"original_image\": \"https://lh5.googleusercontent.com/p/AF1QipNGihrPwHlKAAzQfcoQ4edQGK-UEgtfAU7rE0-V=s10000\"}, {\"thumbnail\": \"https://lh5.googleusercontent.com/p/AF1QipOwClW4YwIcFNRF3Kq5nUMzq-vNDxiEaUOlNojS=s287-w287-h192-n-k-no-v1\", \"original_image\": \"https://lh5.googleusercontent.com/p/AF1QipOwClW4YwIcFNRF3Kq5nUMzq-vNDxiEaUOlNojS=s10000\"}, {\"thumbnail\": \"https://lh5.googleusercontent.com/p/AF1QipMhMv3Jc3WBz-IjZGazRXNWul4t_ZyB-lgAs14q=s287-w287-h192-n-k-no-v1\", \"original_image\": \"https://lh5.googleusercontent.com/p/AF1QipMhMv3Jc3WBz-IjZGazRXNWul4t_ZyB-lgAs14q=s10000\"}, {\"thumbnail\": \"https://lh5.googleusercontent.com/p/AF1QipMF4sYBzVnqD9kJI6Qc0stO7-oro0LxkNbSlUDS=s287-w287-h192-n-k-no-v1\", \"original_image\": \"https://lh5.googleusercontent.com/p/AF1QipMF4sYBzVnqD9kJI6Qc0stO7-oro0LxkNbSlUDS=s10000\"}, {\"thumbnail\": \"https://lh5.googleusercontent.com/p/AF1QipNaUuVqFZZqrYLIPQIPwaQi-g35KK3Yd1JxtWN-=s287-w287-h192-n-k-no-v1\", \"original_image\": \"https://lh5.googleusercontent.com/p/AF1QipNaUuVqFZZqrYLIPQIPwaQi-g35KK3Yd1JxtWN-=s10000\"}, {\"thumbnail\": \"https://lh5.googleusercontent.com/p/AF1QipOCSspQRSEPMHeJtubJJJfkRzw-lh0uCLrzh4Ie=s287-w287-h192-n-k-no-v1\", \"original_image\": \"https://lh5.googleusercontent.com/p/AF1QipOCSspQRSEPMHeJtubJJJfkRzw-lh0uCLrzh4Ie=s10000\"}, {\"thumbnail\": \"https://lh5.googleusercontent.com/proxy/aGlLj3RPu5f8d1O9J7zOZa82DKtq-NmVpb3zam15DRA-1-i3h1ByHoCwcTmhKzO-_F7jLEXHbRxxBBh1KwslagZw5HytgD9E3Ap2faiWepXPI8l405ZhOWFcsqmqn9ak-ImVgqgmacnbzQMBMgkaPvPTxcFCBg=s287-w287-h192-n-k-no-v1\", \"original_image\": \"https://d2hyz2bfif3cr8.cloudfront.net/imageRepo/3/0/181/438/687/DXBPJ_9797142638_O.jpg\"}, {\"thumbnail\": \"https://lh5.googleusercontent.com/p/AF1QipOmkbADiLmU-fBgdorFlJJ7YcrjSiAOB4xtqmil=s287-w287-h192-n-k-no-v1\", \"original_image\": \"https://lh5.googleusercontent.com/p/AF1QipOmkbADiLmU-fBgdorFlJJ7YcrjSiAOB4xtqmil=s10000\"}, {\"thumbnail\": \"https://lh5.googleusercontent.com/p/AF1QipPffpZeFsKGBvvhNPJUd1ZrhrtnsgfVJROPfjLu=s287-w287-h192-n-k-no-v1\", \"original_image\": \"https://lh5.googleusercontent.com/p/AF1QipPffpZeFsKGBvvhNPJUd1ZrhrtnsgfVJROPfjLu=s10000\"}], \"overall_rating\": 4.9, \"reviews\": 1805, \"ratings\": [{\"stars\": 5, \"count\": 1638}, {\"stars\": 4, \"count\": 120}, {\"stars\": 3, \"count\": 22}, {\"stars\": 2, \"count\": 4}, {\"stars\": 1, \"count\": 21}], \"location_rating\": 3.7, \"reviews_breakdown\": [{\"name\": \"Nature\", \"description\": \"Nature and outdoor activities\", \"total_mentioned\": 332, \"positive\": 297, \"negative\": 11, \"neutral\": 24}, {\"name\": \"Service\", \"description\": \"Service\", \"total_mentioned\": 951, \"positive\": 926, \"negative\": 14, \"neutral\": 11}, {\"name\": \"Fitness\", \"description\": \"Fitness\", \"total_mentioned\": 280, \"positive\": 265, \"negative\": 5, \"neutral\": 10}, {\"name\": \"Breakfast\", \"description\": \"Breakfast\", \"total_mentioned\": 261, \"positive\": 245, \"negative\": 6, \"neutral\": 10}, {\"name\": \"Property\", \"description\": \"Property\", \"total_mentioned\": 519, \"positive\": 494, \"negative\": 13, \"neutral\": 12}, {\"name\": \"Pool\", \"description\": \"Pool\", \"total_mentioned\": 179, \"positive\": 171, \"negative\": 1, \"neutral\": 7}], \"amenities\": [\"Breakfast ($)\", \"Free Wi-Fi\", \"Free parking\", \"Outdoor pool\", \"Air conditioning\", \"Pet-friendly\", \"Fitness centre\", \"Spa\", \"Beach access\", \"Bar\", \"Restaurant\", \"Room service\", \"Golf\", \"Full-service laundry\", \"Accessible\"]}, {\"type\": \"hotel\", \"name\": \"Millennium Place Barsha Heights Apartments\", \"link\": \"https://www.millenniumhotels.com/en/dubai/millennium-place-barsha-heights-apartments/?cid=gplaces-millennium-place-barsha-heights-apartments\", \"property_token\": \"ChoI4Ir7hsPVtei6ARoNL2cvMTF0bXNkZmtsbRAB\", \"serpapi_property_details_link\": \"https://serpapi.com/search.json?adults=1&check_in_date=2025-02-20&check_out_date=2025-02-27&children=0&currency=USD&engine=google_hotels&gl=us&hl=en&hotel_class=4&property_token=ChoI4Ir7hsPVtei6ARoNL2cvMTF0bXNkZmtsbRAB&q=Dubai&sort_by=8\", \"gps_coordinates\": {\"latitude\": 25.092099599999997, \"longitude\": 55.176396999999994}, \"check_in_time\": \"2:00\\u202fPM\", \"check_out_time\": \"12:00\\u202fPM\", \"rate_per_night\": {\"lowest\": \"$133\", \"extracted_lowest\": 133, \"before_taxes_fees\": \"$105\", \"extracted_before_taxes_fees\": 105}, \"total_rate\": {\"lowest\": \"$931\", \"extracted_lowest\": 931, \"before_taxes_fees\": \"$736\", \"extracted_before_taxes_fees\": 736}, \"nearby_places\": [{\"name\": \"Ski Dubai\", \"transportations\": [{\"type\": \"Taxi\", \"duration\": \"8 min\"}]}, {\"name\": \"Jebel Ali Horse Racecourse 1\", \"transportations\": [{\"type\": \"Walking\", \"duration\": \"2 min\"}]}, {\"name\": \"Dubai International Airport\", \"transportations\": [{\"type\": \"Taxi\", \"duration\": \"31 min\"}, {\"type\": \"Public transport\", \"duration\": \"1 hr 1 min\"}]}, {\"name\": \"M One restaurant\", \"transportations\": [{\"type\": \"Walking\", \"duration\": \"1 min\"}]}], \"hotel_class\": \"4-star hotel\", \"extracted_hotel_class\": 4, \"images\": [{\"thumbnail\": \"https://lh6.googleusercontent.com/proxy/Qzwq8K3cjCcOLLpAvxgIiS29ZaT0x6a8mRSSIUrxj36ACEaapStwnvKRdXAz_bEzYwmvcaFWOf2J18ksjDl6GXIHe1utb8JZkcAY-Y857DgLJzMDotB6wAs3GMjXlATYBh9RdsWV3RGIwhOJ3ygZfrfIHFeACeQ=s287-w287-h192-n-k-no-v1\", \"original_image\": \"https://dynamic-media-cdn.tripadvisor.com/media/photo-o/19/c3/3f/47/getlstd-property-photo.jpg?w=1900&h=1300&s=1\"}, {\"thumbnail\": \"https://lh5.googleusercontent.com/p/AF1QipN9JjPg9tcIKlokjSGTKR5_jCeO4U0QgzE9uWuQ=s287-w287-h192-n-k-no-v1\", \"original_image\": \"https://lh5.googleusercontent.com/p/AF1QipN9JjPg9tcIKlokjSGTKR5_jCeO4U0QgzE9uWuQ=s10000\"}, {\"thumbnail\": \"https://lh5.googleusercontent.com/p/AF1QipO92sJWUM2xyI6vnA22i_oiXKf6d6gxI-IprNLH=s287-w287-h192-n-k-no-v1\", \"original_image\": \"https://lh5.googleusercontent.com/p/AF1QipO92sJWUM2xyI6vnA22i_oiXKf6d6gxI-IprNLH=s10000\"}, {\"thumbnail\": \"https://lh5.googleusercontent.com/p/AF1QipP3F_8Y2bg9JTnfAwPGL-g882FSAXh6_3FEzpaJ=s287-w287-h192-n-k-no-v1\", \"original_image\": \"https://lh5.googleusercontent.com/p/AF1QipP3F_8Y2bg9JTnfAwPGL-g882FSAXh6_3FEzpaJ=s10000\"}, {\"thumbnail\": \"https://lh5.googleusercontent.com/p/AF1QipNdZmkbKYmun-Pfy9oHY-g0wc8PimuXaYc2fVGK=s287-w287-h192-n-k-no-v1\", \"original_image\": \"https://lh5.googleusercontent.com/p/AF1QipNdZmkbKYmun-Pfy9oHY-g0wc8PimuXaYc2fVGK=s10000\"}, {\"thumbnail\": \"https://lh5.googleusercontent.com/p/AF1QipMtSHAImUTGDy-gUzM_-RflZq_ZfPE34a6UwnlI=s287-w287-h192-n-k-no-v1\", \"original_image\": \"https://lh5.googleusercontent.com/p/AF1QipMtSHAImUTGDy-gUzM_-RflZq_ZfPE34a6UwnlI=s10000\"}, {\"thumbnail\": \"https://lh5.googleusercontent.com/p/AF1QipNCE8H0xKSefsSBBSTGLGHUut4fM9WPBNISykUM=s287-w287-h192-n-k-no-v1\", \"original_image\": \"https://lh5.googleusercontent.com/p/AF1QipNCE8H0xKSefsSBBSTGLGHUut4fM9WPBNISykUM=s10000\"}, {\"thumbnail\": \"https://lh5.googleusercontent.com/p/AF1QipPVMmVS7WsMr3hqn4Szqo36YNnITB89hsPSzosQ=s287-w287-h192-n-k-no-v1\", \"original_image\": \"https://lh5.googleusercontent.com/p/AF1QipPVMmVS7WsMr3hqn4Szqo36YNnITB89hsPSzosQ=s10000\"}, {\"thumbnail\": \"https://lh5.googleusercontent.com/p/AF1QipO8NI-N_OMGldEMx_zsJJ1JqNZ-HHZ1HQEhIBT5=s287-w287-h192-n-k-no-v1\", \"original_image\": \"https://lh5.googleusercontent.com/p/AF1QipO8NI-N_OMGldEMx_zsJJ1JqNZ-HHZ1HQEhIBT5=s10000\"}], \"overall_rating\": 4.9, \"reviews\": 557, \"ratings\": [{\"stars\": 5, \"count\": 520}, {\"stars\": 4, \"count\": 21}, {\"stars\": 3, \"count\": 6}, {\"stars\": 2, \"count\": 3}, {\"stars\": 1, \"count\": 7}], \"location_rating\": 3.3, \"reviews_breakdown\": [{\"name\": \"Service\", \"description\": \"Service\", \"total_mentioned\": 259, \"positive\": 255, \"negative\": 3, \"neutral\": 1}, {\"name\": \"Breakfast\", \"description\": \"Breakfast\", \"total_mentioned\": 60, \"positive\": 57, \"negative\": 3, \"neutral\": 0}, {\"name\": \"Cleanliness\", \"description\": \"Cleanliness\", \"total_mentioned\": 109, \"positive\": 102, \"negative\": 4, \"neutral\": 3}, {\"name\": \"Restaurant\", \"description\": \"Restaurant\", \"total_mentioned\": 42, \"positive\": 41, \"negative\": 1, \"neutral\": 0}, {\"name\": \"Property\", \"description\": \"Property\", \"total_mentioned\": 130, \"positive\": 125, \"negative\": 5, \"neutral\": 0}, {\"name\": \"Dining\", \"description\": \"Food and Beverage\", \"total_mentioned\": 41, \"positive\": 38, \"negative\": 1, \"neutral\": 2}], \"amenities\": [\"Breakfast ($)\", \"Free Wi-Fi\", \"Free parking\", \"Outdoor pool\", \"Air conditioning\", \"Fitness centre\", \"Spa\", \"Restaurant\", \"Room service\", \"Kitchen in some rooms\", \"Airport shuttle\", \"Full-service laundry\", \"Accessible\", \"Business centre\", \"Child-friendly\"]}]', name='hotels_finder', id='2f9f0580-20b9-43db-853c-03a1a87a7c3c', tool_call_id='call_TQtEJA8UnMvUpiC3rbdsZuYF'), AIMessage(content='### Flights from Karachi to Dubai\\n\\n#### Option 1: Pakistan International Airlines\\n- **Flight Number**: PK 213\\n- **Departure**: February 20, 2025, at 01:10 KHI\\n- **Arrival**: February 20, 2025, at 02:45 DXB\\n- **Duration**: 155 minutes\\n- **Price**: **$356**\\n- [Airline Logo](https://www.gstatic.com/flights/airline_logos/70px/PK.png)\\n\\n---\\n\\n#### Option 2: Airblue\\n- **Flight Number**: PA 110\\n- **Departure**: February 20, 2025, at 18:10 KHI\\n- **Arrival**: February 20, 2025, at 19:40 DXB\\n- **Duration**: 150 minutes\\n- **Price**: **$401**\\n- [Airline Logo](https://www.gstatic.com/flights/airline_logos/70px/PA.png)\\n\\n---\\n\\n#### Option 3: flydubai\\n- **Flight Number**: FZ 330\\n- **Departure**: February 20, 2025, at 23:45 KHI\\n- **Arrival**: February 21, 2025, at 01:20 DXB\\n- **Duration**: 155 minutes\\n- **Price**: **$421**\\n- [Airline Logo](https://www.gstatic.com/flights/airline_logos/70px/FZ.png)\\n\\n### Four-Star Hotels in Dubai\\n\\n#### Option 1: [Holiday Inn & Suites Dubai Festival City](https://www.ihg.com/holidayinn/hotels/gb/en/dubai/dxbfc/hoteldetail?cm_mmc=GoogleMaps-_-HI-_-AE-_-DXBFC)\\n- **Rating**: 4.9/5\\n- **Total Price for 7 Nights**: **$2,114**\\n- **Rate per Night**: **$302**\\n- ![Holiday Inn Logo](https://lh5.googleusercontent.com/p/AF1QipMRdwVo_bBam7oQF862bkz8BhF2TZ_9hYIkNOD2=s10000)\\n\\n---\\n\\n#### Option 2: [Vida Dubai Marina & Yacht Club](https://www.vidahotels.com/en/hotels/vida-dubai-marina-yacht-club/)\\n- **Rating**: 4.9/5\\n- **Total Price for 7 Nights**: **$2,744**\\n- **Rate per Night**: **$392**\\n- ![Vida Hotel Logo](https://lh5.googleusercontent.com/p/AF1QipPEus0PuWG-GA2FzVa2Ln-RBji8g4_tu4nq4s4D=s10000)\\n\\n---\\n\\n#### Option 3: [Millennium Place Barsha Heights Apartments](https://www.millenniumhotels.com/en/dubai/millennium-place-barsha-heights-apartments/?cid=gplaces-millennium-place-barsha-heights-apartments)\\n- **Rating**: 4.9/5\\n- **Total Price for 7 Nights**: **$931**\\n- **Rate per Night**: **$133**\\n- ![Millennium Place Logo](https://dynamic-media-cdn.tripadvisor.com/media/photo-o/19/c3/3f/47/getlstd-property-photo.jpg?w=1900&h=1300&s=1)\\n\\n### Summary\\n- **Cheapest Flight**: Pakistan International Airlines for **$356**.\\n- **Cheapest Four-Star Hotel**: Millennium Place Barsha Heights Apartments for **$931** for 7 nights. \\n\\nFeel free to ask if you need more options or details!', additional_kwargs={'refusal': None}, response_metadata={'token_usage': {'completion_tokens': 805, 'prompt_tokens': 11724, 'total_tokens': 12529, 'completion_tokens_details': {'accepted_prediction_tokens': 0, 'audio_tokens': 0, 'reasoning_tokens': 0, 'rejected_prediction_tokens': 0}, 'prompt_tokens_details': {'audio_tokens': 0, 'cached_tokens': 11648}}, 'model_name': 'gpt-4o-mini-2024-07-18', 'system_fingerprint': 'fp_bd83329f63', 'finish_reason': 'stop', 'logprobs': None}, id='run-db6b212c-9e55-4c63-9bbe-49a1d1887324-0', usage_metadata={'input_tokens': 11724, 'output_tokens': 805, 'total_tokens': 12529, 'input_token_details': {'audio': 0, 'cache_read': 11648}, 'output_token_details': {'audio': 0, 'reasoning': 0}})]}, next=('email_sender',), config={'configurable': {'thread_id': '1', 'checkpoint_ns': '', 'checkpoint_id': '1efead6c-3fa6-648d-8003-1f3c53df099b'}}, metadata={'checkpoint_ns': '', 'thread_id': '1', 'checkpoint_id': '1efead6a-140c-609d-8002-b845170e3200', 'source': 'loop', 'writes': {'assistant': {'messages': [AIMessage(content='### Flights from Karachi to Dubai\\n\\n#### Option 1: Pakistan International Airlines\\n- **Flight Number**: PK 213\\n- **Departure**: February 20, 2025, at 01:10 KHI\\n- **Arrival**: February 20, 2025, at 02:45 DXB\\n- **Duration**: 155 minutes\\n- **Price**: **$356**\\n- [Airline Logo](https://www.gstatic.com/flights/airline_logos/70px/PK.png)\\n\\n---\\n\\n#### Option 2: Airblue\\n- **Flight Number**: PA 110\\n- **Departure**: February 20, 2025, at 18:10 KHI\\n- **Arrival**: February 20, 2025, at 19:40 DXB\\n- **Duration**: 150 minutes\\n- **Price**: **$401**\\n- [Airline Logo](https://www.gstatic.com/flights/airline_logos/70px/PA.png)\\n\\n---\\n\\n#### Option 3: flydubai\\n- **Flight Number**: FZ 330\\n- **Departure**: February 20, 2025, at 23:45 KHI\\n- **Arrival**: February 21, 2025, at 01:20 DXB\\n- **Duration**: 155 minutes\\n- **Price**: **$421**\\n- [Airline Logo](https://www.gstatic.com/flights/airline_logos/70px/FZ.png)\\n\\n### Four-Star Hotels in Dubai\\n\\n#### Option 1: [Holiday Inn & Suites Dubai Festival City](https://www.ihg.com/holidayinn/hotels/gb/en/dubai/dxbfc/hoteldetail?cm_mmc=GoogleMaps-_-HI-_-AE-_-DXBFC)\\n- **Rating**: 4.9/5\\n- **Total Price for 7 Nights**: **$2,114**\\n- **Rate per Night**: **$302**\\n- ![Holiday Inn Logo](https://lh5.googleusercontent.com/p/AF1QipMRdwVo_bBam7oQF862bkz8BhF2TZ_9hYIkNOD2=s10000)\\n\\n---\\n\\n#### Option 2: [Vida Dubai Marina & Yacht Club](https://www.vidahotels.com/en/hotels/vida-dubai-marina-yacht-club/)\\n- **Rating**: 4.9/5\\n- **Total Price for 7 Nights**: **$2,744**\\n- **Rate per Night**: **$392**\\n- ![Vida Hotel Logo](https://lh5.googleusercontent.com/p/AF1QipPEus0PuWG-GA2FzVa2Ln-RBji8g4_tu4nq4s4D=s10000)\\n\\n---\\n\\n#### Option 3: [Millennium Place Barsha Heights Apartments](https://www.millenniumhotels.com/en/dubai/millennium-place-barsha-heights-apartments/?cid=gplaces-millennium-place-barsha-heights-apartments)\\n- **Rating**: 4.9/5\\n- **Total Price for 7 Nights**: **$931**\\n- **Rate per Night**: **$133**\\n- ![Millennium Place Logo](https://dynamic-media-cdn.tripadvisor.com/media/photo-o/19/c3/3f/47/getlstd-property-photo.jpg?w=1900&h=1300&s=1)\\n\\n### Summary\\n- **Cheapest Flight**: Pakistan International Airlines for **$356**.\\n- **Cheapest Four-Star Hotel**: Millennium Place Barsha Heights Apartments for **$931** for 7 nights. \\n\\nFeel free to ask if you need more options or details!', additional_kwargs={'refusal': None}, response_metadata={'token_usage': {'completion_tokens': 805, 'prompt_tokens': 11724, 'total_tokens': 12529, 'completion_tokens_details': {'accepted_prediction_tokens': 0, 'audio_tokens': 0, 'reasoning_tokens': 0, 'rejected_prediction_tokens': 0}, 'prompt_tokens_details': {'audio_tokens': 0, 'cached_tokens': 11648}}, 'model_name': 'gpt-4o-mini-2024-07-18', 'system_fingerprint': 'fp_bd83329f63', 'finish_reason': 'stop', 'logprobs': None}, id='run-db6b212c-9e55-4c63-9bbe-49a1d1887324-0', usage_metadata={'input_tokens': 11724, 'output_tokens': 805, 'total_tokens': 12529, 'input_token_details': {'audio': 0, 'cache_read': 11648}, 'output_token_details': {'audio': 0, 'reasoning': 0}})]}}, 'step': 3, 'parents': {}}, created_at='2025-02-14T13:22:40.364224+00:00', parent_config={'configurable': {'thread_id': '1', 'checkpoint_ns': '', 'checkpoint_id': '1efead6a-140c-609d-8002-b845170e3200'}}, tasks=(PregelTask(id='7341382e-0201-089d-b925-c06af625dbca', name='email_sender', path=('__pregel_pull', 'email_sender'), error=None, interrupts=(), state=None, result=None),))"
            ]
          },
          "metadata": {},
          "execution_count": 17
        }
      ]
    },
    {
      "cell_type": "code",
      "source": [
        "state.next"
      ],
      "metadata": {
        "id": "nvC50I4hoJy1",
        "outputId": "d9045832-829e-47be-8f41-c96b2aa1110f",
        "colab": {
          "base_uri": "https://localhost:8080/"
        }
      },
      "execution_count": 18,
      "outputs": [
        {
          "output_type": "execute_result",
          "data": {
            "text/plain": [
              "('email_sender',)"
            ]
          },
          "metadata": {},
          "execution_count": 18
        }
      ]
    },
    {
      "cell_type": "code",
      "source": [
        "for event in graph.stream(None, thread, stream_mode=\"values\"):\n",
        "    event['messages'][-1].pretty_print()"
      ],
      "metadata": {
        "id": "n6KAvfPYoMNe",
        "outputId": "5350c0fc-a73a-4dee-cc38-e48830638713",
        "colab": {
          "base_uri": "https://localhost:8080/"
        }
      },
      "execution_count": 19,
      "outputs": [
        {
          "output_type": "stream",
          "name": "stdout",
          "text": [
            "==================================\u001b[1m Ai Message \u001b[0m==================================\n",
            "\n",
            "### Flights from Karachi to Dubai\n",
            "\n",
            "#### Option 1: Pakistan International Airlines\n",
            "- **Flight Number**: PK 213\n",
            "- **Departure**: February 20, 2025, at 01:10 KHI\n",
            "- **Arrival**: February 20, 2025, at 02:45 DXB\n",
            "- **Duration**: 155 minutes\n",
            "- **Price**: **$356**\n",
            "- [Airline Logo](https://www.gstatic.com/flights/airline_logos/70px/PK.png)\n",
            "\n",
            "---\n",
            "\n",
            "#### Option 2: Airblue\n",
            "- **Flight Number**: PA 110\n",
            "- **Departure**: February 20, 2025, at 18:10 KHI\n",
            "- **Arrival**: February 20, 2025, at 19:40 DXB\n",
            "- **Duration**: 150 minutes\n",
            "- **Price**: **$401**\n",
            "- [Airline Logo](https://www.gstatic.com/flights/airline_logos/70px/PA.png)\n",
            "\n",
            "---\n",
            "\n",
            "#### Option 3: flydubai\n",
            "- **Flight Number**: FZ 330\n",
            "- **Departure**: February 20, 2025, at 23:45 KHI\n",
            "- **Arrival**: February 21, 2025, at 01:20 DXB\n",
            "- **Duration**: 155 minutes\n",
            "- **Price**: **$421**\n",
            "- [Airline Logo](https://www.gstatic.com/flights/airline_logos/70px/FZ.png)\n",
            "\n",
            "### Four-Star Hotels in Dubai\n",
            "\n",
            "#### Option 1: [Holiday Inn & Suites Dubai Festival City](https://www.ihg.com/holidayinn/hotels/gb/en/dubai/dxbfc/hoteldetail?cm_mmc=GoogleMaps-_-HI-_-AE-_-DXBFC)\n",
            "- **Rating**: 4.9/5\n",
            "- **Total Price for 7 Nights**: **$2,114**\n",
            "- **Rate per Night**: **$302**\n",
            "- ![Holiday Inn Logo](https://lh5.googleusercontent.com/p/AF1QipMRdwVo_bBam7oQF862bkz8BhF2TZ_9hYIkNOD2=s10000)\n",
            "\n",
            "---\n",
            "\n",
            "#### Option 2: [Vida Dubai Marina & Yacht Club](https://www.vidahotels.com/en/hotels/vida-dubai-marina-yacht-club/)\n",
            "- **Rating**: 4.9/5\n",
            "- **Total Price for 7 Nights**: **$2,744**\n",
            "- **Rate per Night**: **$392**\n",
            "- ![Vida Hotel Logo](https://lh5.googleusercontent.com/p/AF1QipPEus0PuWG-GA2FzVa2Ln-RBji8g4_tu4nq4s4D=s10000)\n",
            "\n",
            "---\n",
            "\n",
            "#### Option 3: [Millennium Place Barsha Heights Apartments](https://www.millenniumhotels.com/en/dubai/millennium-place-barsha-heights-apartments/?cid=gplaces-millennium-place-barsha-heights-apartments)\n",
            "- **Rating**: 4.9/5\n",
            "- **Total Price for 7 Nights**: **$931**\n",
            "- **Rate per Night**: **$133**\n",
            "- ![Millennium Place Logo](https://dynamic-media-cdn.tripadvisor.com/media/photo-o/19/c3/3f/47/getlstd-property-photo.jpg?w=1900&h=1300&s=1)\n",
            "\n",
            "### Summary\n",
            "- **Cheapest Flight**: Pakistan International Airlines for **$356**.\n",
            "- **Cheapest Four-Star Hotel**: Millennium Place Barsha Heights Apartments for **$931** for 7 nights. \n",
            "\n",
            "Feel free to ask if you need more options or details!\n",
            "Sending email\n"
          ]
        },
        {
          "output_type": "stream",
          "name": "stderr",
          "text": [
            "WARNING:langsmith.client:Failed to send compressed multipart ingest: langsmith.utils.LangSmithAuthError: Authentication failed for https://api.smith.langchain.com/runs/multipart. HTTPError('401 Client Error: Unauthorized for url: https://api.smith.langchain.com/runs/multipart', '{\"error\":\"Unauthorized\"}\\n')\n"
          ]
        },
        {
          "output_type": "stream",
          "name": "stdout",
          "text": [
            "Email content: <body>\n",
            "    <h2>Flights from Karachi to Dubai</h2>\n",
            "    <ol>\n",
            "        <li>\n",
            "            <strong>Pakistan International Airlines</strong><br>\n",
            "            <strong>Flight Number:</strong> PK 213<br>\n",
            "            <strong>Departure:</strong> February 20, 2025, at 01:10 KHI<br>\n",
            "            <strong>Arrival:</strong> February 20, 2025, at 02:45 DXB<br>\n",
            "            <strong>Duration:</strong> 155 minutes<br>\n",
            "            <strong>Price:</strong> <strong>$356</strong><br>\n",
            "            <img src=\"https://www.gstatic.com/flights/airline_logos/70px/PK.png\" alt=\"Pakistan International Airlines\"><br>\n",
            "        </li>\n",
            "        <li>\n",
            "            <strong>Airblue</strong><br>\n",
            "            <strong>Flight Number:</strong> PA 110<br>\n",
            "            <strong>Departure:</strong> February 20, 2025, at 18:10 KHI<br>\n",
            "            <strong>Arrival:</strong> February 20, 2025, at 19:40 DXB<br>\n",
            "            <strong>Duration:</strong> 150 minutes<br>\n",
            "            <strong>Price:</strong> <strong>$401</strong><br>\n",
            "            <img src=\"https://www.gstatic.com/flights/airline_logos/70px/PA.png\" alt=\"Airblue\"><br>\n",
            "        </li>\n",
            "        <li>\n",
            "            <strong>flydubai</strong><br>\n",
            "            <strong>Flight Number:</strong> FZ 330<br>\n",
            "            <strong>Departure:</strong> February 20, 2025, at 23:45 KHI<br>\n",
            "            <strong>Arrival:</strong> February 21, 2025, at 01:20 DXB<br>\n",
            "            <strong>Duration:</strong> 155 minutes<br>\n",
            "            <strong>Price:</strong> <strong>$421</strong><br>\n",
            "            <img src=\"https://www.gstatic.com/flights/airline_logos/70px/FZ.png\" alt=\"flydubai\"><br>\n",
            "        </li>\n",
            "    </ol>\n",
            "\n",
            "    <h2>Four-Star Hotels in Dubai</h2>\n",
            "    <ol>\n",
            "        <li>\n",
            "            <a href=\"https://www.ihg.com/holidayinn/hotels/gb/en/dubai/dxbfc/hoteldetail?cm_mmc=GoogleMaps-_-HI-_-AE-_-DXBFC\"><strong>Holiday Inn & Suites Dubai Festival City</strong></a><br>\n",
            "            <strong>Rating:</strong> 4.9/5<br>\n",
            "            <strong>Total Price for 7 Nights:</strong> <strong>$2,114</strong><br>\n",
            "            <strong>Rate per Night:</strong> <strong>$302</strong><br>\n",
            "            <img src=\"https://lh5.googleusercontent.com/p/AF1QipMRdwVo_bBam7oQF862bkz8BhF2TZ_9hYIkNOD2=s10000\" alt=\"Holiday Inn Logo\"><br>\n",
            "        </li>\n",
            "        <li>\n",
            "            <a href=\"https://www.vidahotels.com/en/hotels/vida-dubai-marina-yacht-club/\"><strong>Vida Dubai Marina & Yacht Club</strong></a><br>\n",
            "            <strong>Rating:</strong> 4.9/5<br>\n",
            "            <strong>Total Price for 7 Nights:</strong> <strong>$2,744</strong><br>\n",
            "            <strong>Rate per Night:</strong> <strong>$392</strong><br>\n",
            "            <img src=\"https://lh5.googleusercontent.com/p/AF1QipPEus0PuWG-GA2FzVa2Ln-RBji8g4_tu4nq4s4D=s10000\" alt=\"Vida Hotel Logo\"><br>\n",
            "        </li>\n",
            "        <li>\n",
            "            <a href=\"https://www.millenniumhotels.com/en/dubai/millennium-place-barsha-heights-apartments/?cid=gplaces-millennium-place-barsha-heights-apartments\"><strong>Millennium Place Barsha Heights Apartments</strong></a><br>\n",
            "            <strong>Rating:</strong> 4.9/5<br>\n",
            "            <strong>Total Price for 7 Nights:</strong> <strong>$931</strong><br>\n",
            "            <strong>Rate per Night:</strong> <strong>$133</strong><br>\n",
            "            <img src=\"https://dynamic-media-cdn.tripadvisor.com/media/photo-o/19/c3/3f/47/getlstd-property-photo.jpg?w=1900&h=1300&s=1\" alt=\"Millennium Place Logo\"><br>\n",
            "        </li>\n",
            "    </ol>\n",
            "\n",
            "    <h2>Summary</h2>\n",
            "    <ul>\n",
            "        <li><strong>Cheapest Flight:</strong> Pakistan International Airlines for <strong>$356</strong>.</li>\n",
            "        <li><strong>Cheapest Four-Star Hotel:</strong> Millennium Place Barsha Heights Apartments for <strong>$931</strong> for 7 nights.</li>\n",
            "    </ul>\n",
            "\n",
            "    <p>Feel free to ask if you need more options or details!</p>\n",
            "</body>\n",
            "202\n",
            "b''\n",
            "Server: nginx\n",
            "Date: Fri, 14 Feb 2025 13:23:40 GMT\n",
            "Content-Length: 0\n",
            "Connection: close\n",
            "X-Message-Id: vVzlDpQLS9SRK1v0Yn2ykA\n",
            "Access-Control-Allow-Origin: https://sendgrid.api-docs.io\n",
            "Access-Control-Allow-Methods: POST\n",
            "Access-Control-Allow-Headers: Authorization, Content-Type, On-behalf-of, x-sg-elas-acl\n",
            "Access-Control-Max-Age: 600\n",
            "X-No-CORS-Reason: https://sendgrid.com/docs/Classroom/Basics/API/cors.html\n",
            "Strict-Transport-Security: max-age=31536000; includeSubDomains\n",
            "Content-Security-Policy: frame-ancestors 'none'\n",
            "Cache-Control: no-cache\n",
            "X-Content-Type-Options: no-sniff\n",
            "Referrer-Policy: strict-origin-when-cross-origin\n",
            "\n",
            "\n"
          ]
        },
        {
          "output_type": "stream",
          "name": "stderr",
          "text": [
            "WARNING:langsmith.client:Failed to send compressed multipart ingest: langsmith.utils.LangSmithAuthError: Authentication failed for https://api.smith.langchain.com/runs/multipart. HTTPError('401 Client Error: Unauthorized for url: https://api.smith.langchain.com/runs/multipart', '{\"error\":\"Unauthorized\"}\\n')\n"
          ]
        }
      ]
    }
  ]
}