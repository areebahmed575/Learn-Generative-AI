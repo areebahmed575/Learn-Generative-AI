{
  "nbformat": 4,
  "nbformat_minor": 0,
  "metadata": {
    "colab": {
      "provenance": []
    },
    "kernelspec": {
      "name": "python3",
      "display_name": "Python 3"
    },
    "language_info": {
      "name": "python"
    }
  },
  "cells": [
    {
      "cell_type": "code",
      "execution_count": 22,
      "metadata": {
        "id": "DdQH6w2yYw17"
      },
      "outputs": [],
      "source": [
        "%%capture --no-stderr\n",
        "%pip install --quiet -U langchain_core langgraph langchain_google_genai serpapi tavily-python langchain_community"
      ]
    },
    {
      "cell_type": "code",
      "source": [
        "from google.colab import userdata\n",
        "google_api_key = userdata.get('GEMINI_API_KEY')\n"
      ],
      "metadata": {
        "id": "HGR-v25wY4QL"
      },
      "execution_count": 23,
      "outputs": []
    },
    {
      "cell_type": "code",
      "source": [
        "import os\n",
        "os.environ[\"LANGCHAIN_TRACING_V2\"] = \"true\"\n",
        "os.environ[\"LANGCHAIN_PROJECT\"] = \"langchain-academy\"\n",
        "os.environ[\"TAVILY_API_KEY\"] = userdata.get(\"TAVILY_API_KEY\")"
      ],
      "metadata": {
        "id": "UsvN_mPiY8a9"
      },
      "execution_count": 24,
      "outputs": []
    },
    {
      "cell_type": "code",
      "source": [
        "from langchain_google_genai import ChatGoogleGenerativeAI\n",
        "llm: ChatGoogleGenerativeAI = ChatGoogleGenerativeAI(model=\"gemini-1.5-flash\", api_key=google_api_key)\n"
      ],
      "metadata": {
        "id": "YLiJIWiBY-x0"
      },
      "execution_count": 25,
      "outputs": []
    },
    {
      "cell_type": "code",
      "source": [
        "from langgraph.graph import MessagesState\n",
        "from typing import TypedDict, List, Annotated, Union\n",
        "class AgentState(MessagesState):\n",
        "    # messages: Annotated[List[Union[HumanMessage, AIMessage, SystemMessage]], operator.add]\n",
        "    budget: float\n",
        "    interests: List[str]\n",
        "    companions: int\n",
        "    city: str\n",
        "    days: int\n",
        "    travel_date: str\n",
        "    itinerary: List[dict]  # To store the final itinerary\n"
      ],
      "metadata": {
        "id": "Qrf048huZCXH"
      },
      "execution_count": 26,
      "outputs": []
    },
    {
      "cell_type": "code",
      "source": [
        "def get_system_prompt(state: AgentState):\n",
        "    return f\"\"\"You are a smart travel assistant. Create a detailed itinerary considering:\n",
        "    - Budget: ${state['budget']}\n",
        "    - Travel Interests: {', '.join(state['interests'])}\n",
        "    - Companions: {state['companions']} people\n",
        "    - Destination: {state['city']}\n",
        "    - Duration: {state['days']} days\n",
        "    - Travel Date: {state['travel_date']}\n",
        "\n",
        "    Include daily:\n",
        "    - Hotels with prices and links\n",
        "    - Transportation options\n",
        "    - Food recommendations\n",
        "    - Activities with costs\n",
        "    - Total estimated daily cost\n",
        "    Provide hotel logos when possible.\"\"\"\n"
      ],
      "metadata": {
        "id": "v2DdSErqZPkm"
      },
      "execution_count": 27,
      "outputs": []
    },
    {
      "cell_type": "code",
      "source": [
        "# from langchain_core.tools import tool\n",
        "\n",
        "# from typing import Optional\n",
        "\n",
        "# from pydantic import BaseModel, Field\n",
        "# import serpapi\n",
        "# # from langchain.pydantic_v1 import BaseModel, Field\n",
        "# from langchain_core.tools import tool\n",
        "\n",
        "# class HotelsInput(BaseModel):\n",
        "#     q: str = Field(description='Location of the hotel')\n",
        "#     check_in_date: str = Field(description='Check-in date. The format is YYYY-MM-DD. e.g. 2024-06-22')\n",
        "#     check_out_date: str = Field(description='Check-out date. The format is YYYY-MM-DD. e.g. 2024-06-28')\n",
        "#     sort_by: Optional[str] = Field(8, description='Parameter is used for sorting the results. Default is sort by highest rating')\n",
        "#     adults: Optional[int] = Field(1, description='Number of adults. Default to 1.')\n",
        "#     children: Optional[int] = Field(0, description='Number of children. Default to 0.')\n",
        "#     rooms: Optional[int] = Field(1, description='Number of rooms. Default to 1.')\n",
        "#     hotel_class: Optional[str] = Field(\n",
        "#         None, description='Parameter defines to include only certain hotel class in the results. for example- 2,3,4')\n",
        "\n",
        "\n",
        "# class HotelsInputSchema(BaseModel):\n",
        "#     params: HotelsInput\n",
        "\n",
        "\n",
        "# @tool(args_schema=HotelsInputSchema)\n",
        "# def hotels_finder(params: HotelsInput):\n",
        "#     '''\n",
        "#     Find hotels using the Google Hotels engine.\n",
        "\n",
        "#     Returns:\n",
        "#         dict: Hotel search results.\n",
        "#     '''\n",
        "\n",
        "#     params = {\n",
        "#         'api_key': os.environ.get('SERPAPI_API_KEY'),\n",
        "#         'engine': 'google_hotels',\n",
        "#         'hl': 'en',\n",
        "#         'gl': 'us',\n",
        "#         'q': params.q,\n",
        "#         'check_in_date': params.check_in_date,\n",
        "#         'check_out_date': params.check_out_date,\n",
        "#         'currency': 'USD',\n",
        "#         'adults': params.adults,\n",
        "#         'children': params.children,\n",
        "#         'rooms': params.rooms,\n",
        "#         'sort_by': params.sort_by,\n",
        "#         'hotel_class': params.hotel_class\n",
        "#     }\n",
        "\n",
        "#     search = serpapi.search(params)\n",
        "#     results = search.data\n",
        "#     return results['properties'][:5]\n",
        "from langchain_community.tools.tavily_search import TavilySearchResults\n",
        "from pydantic import BaseModel\n",
        "\n",
        "\n",
        "\n",
        "tool = TavilySearchResults(max_results=2)\n",
        "tools = [tool]\n"
      ],
      "metadata": {
        "id": "3mZ0IPNYZ2TE"
      },
      "execution_count": 28,
      "outputs": []
    },
    {
      "cell_type": "code",
      "source": [
        "# tools: list[tool] = [hotels_finder]\n",
        "llm: ChatGoogleGenerativeAI = ChatGoogleGenerativeAI(model = \"gemini-1.5-flash\")\n",
        "# llm_with_tools = llm.bind_tools(tools)\n",
        "llm_with_tools = llm.bind_tools(tools)"
      ],
      "metadata": {
        "id": "CVQH9BNWZuMP"
      },
      "execution_count": 29,
      "outputs": []
    },
    {
      "cell_type": "code",
      "source": [
        "from langchain_core.messages import AIMessage, HumanMessage, SystemMessage,ToolMessage\n",
        "from langgraph.prebuilt import tools_condition, ToolNode\n",
        "from langgraph.graph import StateGraph, END ,START\n",
        "from IPython.display import display, Image\n",
        "from langgraph.checkpoint.memory import MemorySaver\n",
        "from langgraph.graph.state import CompiledStateGraph\n",
        "\n",
        "def assistant(state: AgentState):\n",
        "    system_prompt = SystemMessage(content=get_system_prompt(state))\n",
        "    messages = [system_prompt] + state['messages']\n",
        "    response = llm_with_tools.invoke(messages)\n",
        "    return {\"messages\": [response]}\n",
        "\n",
        "# New itinerary creation node\n",
        "def create_itinerary(state: AgentState):\n",
        "    # Parse tool responses and format itinerary\n",
        "    itinerary = []\n",
        "    tool_results = [msg.content for msg in state['messages'] if isinstance(msg, ToolMessage)]\n",
        "\n",
        "    # Create structured itinerary (simplified example)\n",
        "    itinerary_entry = {\n",
        "        \"city\": state['city'],\n",
        "        \"days\": state['days'],\n",
        "        \"daily_plan\": [],\n",
        "        \"total_estimated_cost\": state['budget']\n",
        "    }\n",
        "\n",
        "    # Add parsed tool data to itinerary\n",
        "    for result in tool_results:\n",
        "        if 'hotels' in result:\n",
        "            itinerary_entry['hotels'] = result['hotels'][:3]  # Top 3 hotels\n",
        "\n",
        "    return {\"itinerary\": [itinerary_entry], \"messages\": [AIMessage(content=\"Itinerary created!\")]}\n",
        "\n",
        "# Modified graph construction\n",
        "builder = StateGraph(AgentState)\n",
        "builder.add_node(\"assistant\", assistant)\n",
        "builder.add_node(\"tools\", ToolNode([tool]))  # Add other tools as needed\n",
        "builder.add_node(\"create_itinerary\", create_itinerary)\n",
        "\n",
        "# Edge connections\n",
        "builder.add_edge(START, \"assistant\")\n",
        "builder.add_conditional_edges(\n",
        "    \"assistant\",\n",
        "    tools_condition,\n",
        "    {\n",
        "        \"call_tools\": \"tools\",\n",
        "        \"continue\": \"create_itinerary\"\n",
        "    }\n",
        ")\n",
        "builder.add_edge(\"tools\", \"assistant\")\n",
        "builder.add_edge(\"create_itinerary\", END)\n",
        "\n",
        "\n",
        "\n",
        "memory: MemorySaver = MemorySaver()\n",
        "graph: CompiledStateGraph = builder.compile( checkpointer=memory)\n",
        "\n",
        "# Show\n",
        "display(Image(graph.get_graph(xray=True).draw_mermaid_png()))\n"
      ],
      "metadata": {
        "colab": {
          "base_uri": "https://localhost:8080/",
          "height": 374
        },
        "id": "9y37xvntZaY1",
        "outputId": "677827de-44d0-4b53-a2e2-3ecb97f62c8c"
      },
      "execution_count": 30,
      "outputs": [
        {
          "output_type": "display_data",
          "data": {
            "image/png": "[encoded data removed]",
            "text/plain": [
              "<IPython.core.display.Image object>"
            ]
          },
          "metadata": {}
        }
      ]
    },
    {
      "cell_type": "code",
      "source": [
        "initial_state = {\n",
        "    \"messages\": [HumanMessage(content=\"Plan my trip\")],\n",
        "    \"budget\": 5000.0,\n",
        "    \"interests\": [\"sightseeing\", \"local cuisine\"],\n",
        "    \"companions\": 2,\n",
        "    \"city\": \"Paris\",\n",
        "    \"days\": 7,\n",
        "    \"travel_date\": \"2024-09-01\",\n",
        "    \"itinerary\": []\n",
        "}\n"
      ],
      "metadata": {
        "id": "iwvwqWazcT0p"
      },
      "execution_count": 31,
      "outputs": []
    },
    {
      "cell_type": "code",
      "source": [
        "result = graph.invoke(\n",
        "    initial_state,\n",
        "    {\"configurable\": {\"thread_id\": \"123\"}}\n",
        ")"
      ],
      "metadata": {
        "id": "e7BL5Ub3hnGr"
      },
      "execution_count": 34,
      "outputs": []
    }
  ]
}