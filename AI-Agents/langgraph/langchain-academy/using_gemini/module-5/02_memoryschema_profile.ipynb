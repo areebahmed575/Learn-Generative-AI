{
  "cells": [
    {
      "cell_type": "markdown",
      "metadata": {
        "id": "YOpxjm0GgdWP"
      },
      "source": [
        "# Chatbot with Profile Schema\n",
        "\n",
        "## Review\n",
        "\n",
        "We introduced the [LangGraph Memory Store](https://langchain-ai.github.io/langgraph/reference/store/#langgraph.store.base.BaseStore) as a way to save and retrieve long-term memories.\n",
        "\n",
        "We built a simple chatbot that uses both `short-term (within-thread)` and `long-term (across-thread)` memory.\n",
        "\n",
        "It saved long-term [semantic memory](https://langchain-ai.github.io/langgraph/concepts/memory/#semantic-memory) (facts about the user) [\"in the hot path\"](https://langchain-ai.github.io/langgraph/concepts/memory/#writing-memories), as the user is chatting with it.\n",
        "\n",
        "## Goals\n",
        "\n",
        "Our chatbot saved memories as a string. In practice, we often want memories to have a structure.\n",
        "\n",
        "For example, memories can be a [single, continuously updated schema]((https://langchain-ai.github.io/langgraph/concepts/memory/#profile)).\n",
        "\n",
        "In our case, we want this to be a single user profile.\n",
        "\n",
        "We'll extend our chatbot to save semantic memories to a single [user profile](https://langchain-ai.github.io/langgraph/concepts/memory/#profile).\n",
        "\n",
        "We'll also introduce a library, [Trustcall](https://github.com/hinthornw/trustcall), to update this schema with new information."
      ]
    },
    {
      "cell_type": "code",
      "execution_count": 19,
      "metadata": {
        "id": "zbYPWVM3gdWW"
      },
      "outputs": [],
      "source": [
        "%%capture --no-stderr\n",
        "%pip install -U langchain_openai langgraph trustcall langchain_core"
      ]
    },
    {
      "cell_type": "code",
      "execution_count": 2,
      "metadata": {
        "id": "6lS8fTrJgdWb"
      },
      "outputs": [],
      "source": [
        "import os\n",
        "from google.colab import userdata\n",
        "\n",
        "os.environ[\"LANGCHAIN_API_KEY\"] = userdata.get('LANGCHAIN_API_KEY')\n",
        "\n",
        "os.environ[\"LANGCHAIN_TRACING_V2\"] = \"true\"\n",
        "os.environ[\"LANGCHAIN_PROJECT\"] = \"langchain-academy\""
      ]
    },
    {
      "cell_type": "markdown",
      "metadata": {
        "id": "vaw0pRgXgdWd"
      },
      "source": [
        "## Defining a user profile schema\n",
        "\n",
        "Python has many different types for [structured data](https://python.langchain.com/docs/concepts/structured_outputs/#schema-definition), such as TypedDict, Dictionaries, JSON, and [Pydantic](https://docs.pydantic.dev/latest/).\n",
        "\n",
        "Let's start by using TypedDict to define a user profile schema."
      ]
    },
    {
      "cell_type": "code",
      "execution_count": 3,
      "metadata": {
        "id": "sCnwQVPvgdWd"
      },
      "outputs": [],
      "source": [
        "from typing import TypedDict, List\n",
        "\n",
        "class UserProfile(TypedDict):\n",
        "    \"\"\"User profile schema with typed fields\"\"\"\n",
        "    user_name: str  # The user's preferred name\n",
        "    interests: List[str]  # A list of the user's interests"
      ]
    },
    {
      "cell_type": "markdown",
      "metadata": {
        "id": "9wxBNt2OgdWe"
      },
      "source": [
        "## Saving a schema to the store\n",
        "\n",
        "The [LangGraph Store](https://langchain-ai.github.io/langgraph/reference/store/#langgraph.store.base.BaseStore) accepts any Python dictionary as the `value`."
      ]
    },
    {
      "cell_type": "code",
      "execution_count": 4,
      "metadata": {
        "id": "vVaH8nPVgdWf",
        "outputId": "e41b8841-8d5a-42f6-8116-21fd43373e41",
        "colab": {
          "base_uri": "https://localhost:8080/"
        }
      },
      "outputs": [
        {
          "output_type": "execute_result",
          "data": {
            "text/plain": [
              "{'user_name': 'Lance', 'interests': ['biking', 'technology', 'coffee']}"
            ]
          },
          "metadata": {},
          "execution_count": 4
        }
      ],
      "source": [
        "# TypedDict instance\n",
        "user_profile: UserProfile = {\n",
        "    \"user_name\": \"Lance\",\n",
        "    \"interests\": [\"biking\", \"technology\", \"coffee\"]\n",
        "}\n",
        "user_profile"
      ]
    },
    {
      "cell_type": "markdown",
      "metadata": {
        "id": "rBfZTWkIgdWh"
      },
      "source": [
        "We use the [put](https://langchain-ai.github.io/langgraph/reference/store/#langgraph.store.base.BaseStore.put) method to save the TypedDict to the store."
      ]
    },
    {
      "cell_type": "code",
      "execution_count": 5,
      "metadata": {
        "id": "mGbdAkutgdWi"
      },
      "outputs": [],
      "source": [
        "import uuid\n",
        "from langgraph.store.memory import InMemoryStore\n",
        "\n",
        "# Initialize the in-memory store\n",
        "in_memory_store = InMemoryStore()\n",
        "\n",
        "# Namespace for the memory to save\n",
        "user_id = \"1\"\n",
        "namespace_for_memory = (user_id, \"memory\")\n",
        "\n",
        "# Save a memory to namespace as key and value\n",
        "key = \"user_profile\"\n",
        "value = user_profile\n",
        "in_memory_store.put(namespace_for_memory, key, value)"
      ]
    },
    {
      "cell_type": "markdown",
      "metadata": {
        "id": "jmcv8Hk1gdWi"
      },
      "source": [
        "We use [search](https://langchain-ai.github.io/langgraph/reference/store/#langgraph.store.base.BaseStore.search) to retrieve objects from the store by namespace."
      ]
    },
    {
      "cell_type": "code",
      "execution_count": 6,
      "metadata": {
        "id": "Wxo_ZVdxgdWj",
        "outputId": "4dec75d8-de88-4ffd-c1c3-4b27a313548d",
        "colab": {
          "base_uri": "https://localhost:8080/"
        }
      },
      "outputs": [
        {
          "output_type": "stream",
          "name": "stdout",
          "text": [
            "{'namespace': ['1', 'memory'], 'key': 'user_profile', 'value': {'user_name': 'Lance', 'interests': ['biking', 'technology', 'coffee']}, 'created_at': '2025-10-18T18:51:08.890350+00:00', 'updated_at': '2025-10-18T18:51:08.890354+00:00', 'score': None}\n"
          ]
        }
      ],
      "source": [
        "# Search\n",
        "for m in in_memory_store.search(namespace_for_memory):\n",
        "    print(m.dict())"
      ]
    },
    {
      "cell_type": "markdown",
      "metadata": {
        "id": "Ab4WgjG0gdWk"
      },
      "source": [
        "We can also use [get](https://langchain-ai.github.io/langgraph/reference/store/#langgraph.store.base.BaseStore.get) to retrieve a specific object by namespace and key."
      ]
    },
    {
      "cell_type": "code",
      "execution_count": 7,
      "metadata": {
        "id": "7IFvUrSMgdWl",
        "outputId": "370104d1-620f-4e08-ac1d-9878b69bc80d",
        "colab": {
          "base_uri": "https://localhost:8080/"
        }
      },
      "outputs": [
        {
          "output_type": "execute_result",
          "data": {
            "text/plain": [
              "{'user_name': 'Lance', 'interests': ['biking', 'technology', 'coffee']}"
            ]
          },
          "metadata": {},
          "execution_count": 7
        }
      ],
      "source": [
        "# Get the memory by namespace and key\n",
        "profile = in_memory_store.get(namespace_for_memory, \"user_profile\")\n",
        "profile.value"
      ]
    },
    {
      "cell_type": "markdown",
      "metadata": {
        "id": "8-XoZOSlgdWm"
      },
      "source": [
        "## Chatbot with profile schema\n",
        "\n",
        "Now we know how to specify a schema for the memories and save it to the store.\n",
        "\n",
        "Now, how do we actually *create* memories with this particular schema?\n",
        "\n",
        "In our chatbot, we [want to create memories from a user chat](https://langchain-ai.github.io/langgraph/concepts/memory/#profile).\n",
        "\n",
        "This is where the concept of [structured outputs](https://python.langchain.com/docs/concepts/structured_outputs/#recommended-usage) is useful.\n",
        "\n",
        "LangChain's [chat model](https://python.langchain.com/docs/concepts/chat_models/) interface has a [`with_structured_output`](https://python.langchain.com/docs/concepts/structured_outputs/#recommended-usage) method to enforce structured output.\n",
        "\n",
        "This is useful when we want to enforce that the output conforms to a schema, and it parses the output for us."
      ]
    },
    {
      "cell_type": "code",
      "execution_count": 12,
      "metadata": {
        "id": "zfEG4BHngdWn"
      },
      "outputs": [],
      "source": [
        "os.environ[\"OPENAI_API_KEY\"] = userdata.get('OPENAI_API_KEY')"
      ]
    },
    {
      "cell_type": "markdown",
      "metadata": {
        "id": "IX0Wyql1gdWo"
      },
      "source": [
        "Let's pass the `UserProfile` schema we created to the `with_structured_output` method.\n",
        "\n",
        "We can then invoke the chat model with a list of [messages](https://python.langchain.com/docs/concepts/messages/) and get a structured output that conforms to our schema."
      ]
    },
    {
      "cell_type": "code",
      "execution_count": 13,
      "metadata": {
        "id": "I2Ey-hh6gdWp",
        "outputId": "aabdd75a-0321-4843-b8e5-d43adf632867",
        "colab": {
          "base_uri": "https://localhost:8080/"
        }
      },
      "outputs": [
        {
          "output_type": "execute_result",
          "data": {
            "text/plain": [
              "{'user_name': 'Lance', 'interests': ['biking']}"
            ]
          },
          "metadata": {},
          "execution_count": 13
        }
      ],
      "source": [
        "from pydantic import BaseModel, Field\n",
        "\n",
        "from langchain_core.messages import HumanMessage\n",
        "from langchain_openai import ChatOpenAI\n",
        "\n",
        "# Initialize the model\n",
        "model = ChatOpenAI(model=\"gpt-4o\", temperature=0)\n",
        "\n",
        "# Bind schema to model\n",
        "model_with_structure = model.with_structured_output(UserProfile)\n",
        "\n",
        "# Invoke the model to produce structured output that matches the schema\n",
        "structured_output = model_with_structure.invoke([HumanMessage(\"My name is Lance, I like to bike.\")])\n",
        "structured_output"
      ]
    },
    {
      "cell_type": "markdown",
      "metadata": {
        "id": "IQLNrKz3gdWt"
      },
      "source": [
        "Now, let's use this with our chatbot.\n",
        "\n",
        "This only requires minor changes to the `write_memory` function.\n",
        "\n",
        "We use `model_with_structure`, as defined above, to produce a profile that matches our schema."
      ]
    },
    {
      "cell_type": "code",
      "execution_count": 14,
      "metadata": {
        "id": "eKT6P1dQgdWu",
        "outputId": "ecdd48ab-9ece-48d2-ca52-5f91d241f7b0",
        "colab": {
          "base_uri": "https://localhost:8080/",
          "height": 350
        }
      },
      "outputs": [
        {
          "output_type": "display_data",
          "data": {
            "image/png": "[encoded data removed]",
            "text/plain": [
              "<IPython.core.display.Image object>"
            ]
          },
          "metadata": {}
        }
      ],
      "source": [
        "from IPython.display import Image, display\n",
        "\n",
        "from langgraph.checkpoint.memory import MemorySaver\n",
        "from langgraph.graph import StateGraph, MessagesState, START, END\n",
        "from langgraph.store.base import BaseStore\n",
        "\n",
        "from langchain_core.messages import HumanMessage, SystemMessage, AIMessage\n",
        "from langchain_core.runnables.config import RunnableConfig\n",
        "\n",
        "# Chatbot instruction\n",
        "MODEL_SYSTEM_MESSAGE = \"\"\"You are a helpful assistant with memory that provides information about the user.\n",
        "If you have memory for this user, use it to personalize your responses.\n",
        "Here is the memory (it may be empty): {memory}\"\"\"\n",
        "\n",
        "# Create new memory from the chat history and any existing memory\n",
        "CREATE_MEMORY_INSTRUCTION = \"\"\"Create or update a user profile memory based on the user's chat history.\n",
        "This will be saved for long-term memory. If there is an existing memory, simply update it.\n",
        "Here is the existing memory (it may be empty): {memory}\"\"\"\n",
        "\n",
        "def call_model(state: MessagesState, config: RunnableConfig, store: BaseStore):\n",
        "\n",
        "    \"\"\"Load memory from the store and use it to personalize the chatbot's response.\"\"\"\n",
        "\n",
        "    # Get the user ID from the config\n",
        "    user_id = config[\"configurable\"][\"user_id\"]\n",
        "\n",
        "    # Retrieve memory from the store\n",
        "    namespace = (\"memory\", user_id)\n",
        "    existing_memory = store.get(namespace, \"user_memory\")\n",
        "\n",
        "    # Format the memories for the system prompt\n",
        "    if existing_memory and existing_memory.value:\n",
        "        memory_dict = existing_memory.value\n",
        "        formatted_memory = (\n",
        "            f\"Name: {memory_dict.get('user_name', 'Unknown')}\\n\"\n",
        "            f\"Interests: {', '.join(memory_dict.get('interests', []))}\"\n",
        "        )\n",
        "    else:\n",
        "        formatted_memory = None\n",
        "\n",
        "    # Format the memory in the system prompt\n",
        "    system_msg = MODEL_SYSTEM_MESSAGE.format(memory=formatted_memory)\n",
        "\n",
        "    # Respond using memory as well as the chat history\n",
        "    response = model.invoke([SystemMessage(content=system_msg)]+state[\"messages\"])\n",
        "\n",
        "    return {\"messages\": response}\n",
        "\n",
        "def write_memory(state: MessagesState, config: RunnableConfig, store: BaseStore):\n",
        "\n",
        "    \"\"\"Reflect on the chat history and save a memory to the store.\"\"\"\n",
        "\n",
        "    # Get the user ID from the config\n",
        "    user_id = config[\"configurable\"][\"user_id\"]\n",
        "\n",
        "    # Retrieve existing memory from the store\n",
        "    namespace = (\"memory\", user_id)\n",
        "    existing_memory = store.get(namespace, \"user_memory\")\n",
        "\n",
        "    # Format the memories for the system prompt\n",
        "    if existing_memory and existing_memory.value:\n",
        "        memory_dict = existing_memory.value\n",
        "        formatted_memory = (\n",
        "            f\"Name: {memory_dict.get('user_name', 'Unknown')}\\n\"\n",
        "            f\"Interests: {', '.join(memory_dict.get('interests', []))}\"\n",
        "        )\n",
        "    else:\n",
        "        formatted_memory = None\n",
        "\n",
        "    # Format the existing memory in the instruction\n",
        "    system_msg = CREATE_MEMORY_INSTRUCTION.format(memory=formatted_memory)\n",
        "\n",
        "    # Invoke the model to produce structured output that matches the schema\n",
        "    new_memory = model_with_structure.invoke([SystemMessage(content=system_msg)]+state['messages'])\n",
        "\n",
        "    # Overwrite the existing use profile memory\n",
        "    key = \"user_memory\"\n",
        "    store.put(namespace, key, new_memory)\n",
        "\n",
        "# Define the graph\n",
        "builder = StateGraph(MessagesState)\n",
        "builder.add_node(\"call_model\", call_model)\n",
        "builder.add_node(\"write_memory\", write_memory)\n",
        "builder.add_edge(START, \"call_model\")\n",
        "builder.add_edge(\"call_model\", \"write_memory\")\n",
        "builder.add_edge(\"write_memory\", END)\n",
        "\n",
        "# Store for long-term (across-thread) memory\n",
        "across_thread_memory = InMemoryStore()\n",
        "\n",
        "# Checkpointer for short-term (within-thread) memory\n",
        "within_thread_memory = MemorySaver()\n",
        "\n",
        "# Compile the graph with the checkpointer fir and store\n",
        "graph = builder.compile(checkpointer=within_thread_memory, store=across_thread_memory)\n",
        "\n",
        "# View\n",
        "display(Image(graph.get_graph(xray=1).draw_mermaid_png()))"
      ]
    },
    {
      "cell_type": "code",
      "execution_count": 15,
      "metadata": {
        "id": "qNsKVWqQgdWv",
        "outputId": "af7d2477-c0ad-4857-9309-bf00f1b9f795",
        "colab": {
          "base_uri": "https://localhost:8080/"
        }
      },
      "outputs": [
        {
          "output_type": "stream",
          "name": "stdout",
          "text": [
            "================================\u001b[1m Human Message \u001b[0m=================================\n",
            "\n",
            "Hi, my name is Lance and I like to bike around San Francisco and eat at bakeries.\n",
            "==================================\u001b[1m Ai Message \u001b[0m==================================\n",
            "\n",
            "Hi Lance! It's great to meet you. Biking around San Francisco sounds like a fantastic way to explore the city, and enjoying treats from bakeries is always a delight. Do you have any favorite bakeries in the area, or are you looking for new ones to try?\n"
          ]
        }
      ],
      "source": [
        "# We supply a thread ID for short-term (within-thread) memory\n",
        "# We supply a user ID for long-term (across-thread) memory\n",
        "config = {\"configurable\": {\"thread_id\": \"1\", \"user_id\": \"1\"}}\n",
        "\n",
        "# User input\n",
        "input_messages = [HumanMessage(content=\"Hi, my name is Lance and I like to bike around San Francisco and eat at bakeries.\")]\n",
        "\n",
        "# Run the graph\n",
        "for chunk in graph.stream({\"messages\": input_messages}, config, stream_mode=\"values\"):\n",
        "    chunk[\"messages\"][-1].pretty_print()"
      ]
    },
    {
      "cell_type": "code",
      "source": [
        "# We supply a thread ID for short-term (within-thread) memory\n",
        "# We supply a user ID for long-term (across-thread) memory\n",
        "config = {\"configurable\": {\"thread_id\": \"1\", \"user_id\": \"1\"}}\n",
        "\n",
        "# User input\n",
        "input_messages = [HumanMessage(content=\"Please suggest any good restaurant\")]\n",
        "\n",
        "# Run the graph\n",
        "for chunk in graph.stream({\"messages\": input_messages}, config, stream_mode=\"values\"):\n",
        "    chunk[\"messages\"][-1].pretty_print()"
      ],
      "metadata": {
        "id": "mTUQd5TfsmAC",
        "outputId": "14cfbbbb-04dd-46e3-abd1-497b69f30c82",
        "colab": {
          "base_uri": "https://localhost:8080/"
        }
      },
      "execution_count": 16,
      "outputs": [
        {
          "output_type": "stream",
          "name": "stdout",
          "text": [
            "================================\u001b[1m Human Message \u001b[0m=================================\n",
            "\n",
            "Please suggest any good restaurant\n",
            "==================================\u001b[1m Ai Message \u001b[0m==================================\n",
            "\n",
            "San Francisco has a vibrant food scene with plenty of great restaurants to choose from. Here are a few recommendations that you might enjoy:\n",
            "\n",
            "1. **Zuni Café** - Known for its classic roast chicken and cozy atmosphere, it's a staple in the San Francisco dining scene.\n",
            "\n",
            "2. **Tartine Manufactory** - Since you love bakeries, you might enjoy this spot, which offers both delicious baked goods and a full menu.\n",
            "\n",
            "3. **Nopa** - A popular spot for its organic wood-fired cuisine, it's a great place for a hearty meal after a day of biking.\n",
            "\n",
            "4. **Foreign Cinema** - Offers a unique dining experience with a mix of Californian-Mediterranean cuisine and classic films projected on the wall.\n",
            "\n",
            "5. **State Bird Provisions** - Known for its innovative approach to American cuisine, it's a must-try if you're looking for something different.\n",
            "\n",
            "Let me know if you want more information about any of these places!\n"
          ]
        }
      ]
    },
    {
      "cell_type": "code",
      "source": [
        "# We supply a thread ID for short-term (within-thread) memory\n",
        "# We supply a user ID for long-term (across-thread) memory\n",
        "config = {\"configurable\": {\"thread_id\": \"1\", \"user_id\": \"1\"}}\n",
        "\n",
        "# User input\n",
        "input_messages = [HumanMessage(content=\"What do you about me?\")]\n",
        "\n",
        "# Run the graph\n",
        "for chunk in graph.stream({\"messages\": input_messages}, config, stream_mode=\"values\"):\n",
        "    chunk[\"messages\"][-1].pretty_print()"
      ],
      "metadata": {
        "id": "-ETX0Z0gszho",
        "outputId": "ff230690-cdf4-4829-88e0-3de179e187aa",
        "colab": {
          "base_uri": "https://localhost:8080/"
        }
      },
      "execution_count": 17,
      "outputs": [
        {
          "output_type": "stream",
          "name": "stdout",
          "text": [
            "================================\u001b[1m Human Message \u001b[0m=================================\n",
            "\n",
            "What do you about me?\n",
            "==================================\u001b[1m Ai Message \u001b[0m==================================\n",
            "\n",
            "You mentioned that your name is Lance and you enjoy biking around San Francisco and visiting bakeries. If there's anything else you'd like to share or update, feel free to let me know!\n"
          ]
        }
      ]
    },
    {
      "cell_type": "markdown",
      "metadata": {
        "id": "eRctH5njgdWw"
      },
      "source": [
        "Let's check the memory in the store.\n",
        "\n",
        "We can see that the memory is a dictionary that matches our schema."
      ]
    },
    {
      "cell_type": "code",
      "execution_count": 18,
      "metadata": {
        "id": "5JfKbdCDgdWy",
        "outputId": "6e295687-5b61-4075-df37-fae896b9b636",
        "colab": {
          "base_uri": "https://localhost:8080/"
        }
      },
      "outputs": [
        {
          "output_type": "execute_result",
          "data": {
            "text/plain": [
              "{'user_name': 'Lance', 'interests': ['biking', 'bakeries', 'San Francisco']}"
            ]
          },
          "metadata": {},
          "execution_count": 18
        }
      ],
      "source": [
        "# Namespace for the memory to save\n",
        "user_id = \"1\"\n",
        "namespace = (\"memory\", user_id)\n",
        "existing_memory = across_thread_memory.get(namespace, \"user_memory\")\n",
        "existing_memory.value"
      ]
    },
    {
      "cell_type": "markdown",
      "metadata": {
        "id": "R9NPDq0YgdWz"
      },
      "source": [
        "## When can this fail?\n",
        "\n",
        "[`with_structured_output`](https://python.langchain.com/docs/concepts/structured_outputs/#recommended-usage) is very useful, but what happens if we're working with a more complex schema?\n",
        "\n",
        "[Here's](https://github.com/hinthornw/trustcall?tab=readme-ov-file#complex-schema) an example of a more complex schema, which we'll test below.\n",
        "\n",
        "This is a [Pydantic](https://docs.pydantic.dev/latest/) model that describes a user's preferences for communication and trust fall."
      ]
    },
    {
      "cell_type": "code",
      "execution_count": 20,
      "metadata": {
        "id": "ww3ebfLUgdW0"
      },
      "outputs": [],
      "source": [
        "from typing import List, Optional\n",
        "\n",
        "class OutputFormat(BaseModel):\n",
        "    preference: str\n",
        "    sentence_preference_revealed: str\n",
        "\n",
        "class TelegramPreferences(BaseModel):\n",
        "    preferred_encoding: Optional[List[OutputFormat]] = None\n",
        "    favorite_telegram_operators: Optional[List[OutputFormat]] = None\n",
        "    preferred_telegram_paper: Optional[List[OutputFormat]] = None\n",
        "\n",
        "class MorseCode(BaseModel):\n",
        "    preferred_key_type: Optional[List[OutputFormat]] = None\n",
        "    favorite_morse_abbreviations: Optional[List[OutputFormat]] = None\n",
        "\n",
        "class Semaphore(BaseModel):\n",
        "    preferred_flag_color: Optional[List[OutputFormat]] = None\n",
        "    semaphore_skill_level: Optional[List[OutputFormat]] = None\n",
        "\n",
        "class TrustFallPreferences(BaseModel):\n",
        "    preferred_fall_height: Optional[List[OutputFormat]] = None\n",
        "    trust_level: Optional[List[OutputFormat]] = None\n",
        "    preferred_catching_technique: Optional[List[OutputFormat]] = None\n",
        "\n",
        "class CommunicationPreferences(BaseModel):\n",
        "    telegram: TelegramPreferences\n",
        "    morse_code: MorseCode\n",
        "    semaphore: Semaphore\n",
        "\n",
        "class UserPreferences(BaseModel):\n",
        "    communication_preferences: CommunicationPreferences\n",
        "    trust_fall_preferences: TrustFallPreferences\n",
        "\n",
        "class TelegramAndTrustFallPreferences(BaseModel):\n",
        "    pertinent_user_preferences: UserPreferences"
      ]
    },
    {
      "cell_type": "markdown",
      "metadata": {
        "id": "mN1HM4pSgdW3"
      },
      "source": [
        "Now, let's try extraction of this schema using the `with_structured_output` method."
      ]
    },
    {
      "cell_type": "code",
      "execution_count": 21,
      "metadata": {
        "id": "PWTL1Hj_gdW4"
      },
      "outputs": [],
      "source": [
        "from pydantic import ValidationError\n",
        "\n",
        "# Bind schema to model\n",
        "model_with_structure = model.with_structured_output(TelegramAndTrustFallPreferences)\n",
        "\n",
        "# Conversation\n",
        "conversation = \"\"\"Operator: How may I assist with your telegram, sir?\n",
        "Customer: I need to send a message about our trust fall exercise.\n",
        "Operator: Certainly. Morse code or standard encoding?\n",
        "Customer: Morse, please. I love using a straight key.\n",
        "Operator: Excellent. What's your message?\n",
        "Customer: Tell him I'm ready for a higher fall, and I prefer the diamond formation for catching.\n",
        "Operator: Done. Shall I use our \"Daredevil\" paper for this daring message?\n",
        "Customer: Perfect! Send it by your fastest carrier pigeon.\n",
        "Operator: It'll be there within the hour, sir.\"\"\"\n",
        "\n",
        "# Invoke the model\n",
        "try:\n",
        "    model_with_structure.invoke(f\"\"\"Extract the preferences from the following conversation:\n",
        "    <convo>\n",
        "    {conversation}\n",
        "    </convo>\"\"\")\n",
        "except ValidationError as e:\n",
        "    print(e)"
      ]
    },
    {
      "cell_type": "markdown",
      "metadata": {
        "id": "VLGjVJkfgdW_"
      },
      "source": [
        "If we naively extract more complex schemas, even using high capacity model like `gpt-4o`, it is prone to failure.\n"
      ]
    },
    {
      "cell_type": "markdown",
      "metadata": {
        "id": "dIp1Ll1egdXA"
      },
      "source": [
        "## Trustcall for creating and updating profile schemas\n",
        "\n",
        "As we can see, working with schemas can be tricky.\n",
        "\n",
        "Complex schemas can be difficult to extract.\n",
        "\n",
        "In addition, updating even simple schemas can pose challenges.\n",
        "\n",
        "Consider our above chatbot.\n",
        "\n",
        "We regenerated the profile schema *from scratch* each time we chose to save a new memory.\n",
        "\n",
        "This is inefficient, potentially wasting model tokens if the schema contains a lot of information to re-generate each time.\n",
        "\n",
        "Worse, we may loose information when regenerating the profile from scratch.\n",
        "\n",
        "Addressing these problems is the motivation for [TrustCall](https://github.com/hinthornw/trustcall)!\n",
        "\n",
        "This is an open-source library for updating JSON schemas developed by one [Will Fu-Hinthorn](https://github.com/hinthornw) on the LangChain team.\n",
        "\n",
        "It's motivated by exactly these challenges while working on memory.\n",
        "\n",
        "Let's first show simple usage of extraction with TrustCall on this list of [messages](https://python.langchain.com/docs/concepts/messages/).\n"
      ]
    },
    {
      "cell_type": "code",
      "execution_count": 22,
      "metadata": {
        "id": "-KnNt_-EgdXA"
      },
      "outputs": [],
      "source": [
        "# Conversation\n",
        "conversation = [HumanMessage(content=\"Hi, I'm Lance.\"),\n",
        "                AIMessage(content=\"Nice to meet you, Lance.\"),\n",
        "                HumanMessage(content=\"I really like biking around San Francisco.\")]"
      ]
    },
    {
      "cell_type": "markdown",
      "metadata": {
        "id": "u6UHDUIUgdXB"
      },
      "source": [
        "We use `create_extractor`, passing in the model as well as our schema as a [tool](https://python.langchain.com/docs/concepts/tools/).\n",
        "\n",
        "With TrustCall, can supply supply the schema in various ways.\n",
        "\n",
        "For example, we can pass a JSON object / Python dictionary or Pydantic model.\n",
        "\n",
        "Under the hood, TrustCall uses [tool calling](https://python.langchain.com/docs/concepts/tool_calling/) to produce [structured output](https://python.langchain.com/docs/concepts/structured_outputs/) from an input list of [messages](https://python.langchain.com/docs/concepts/messages/).\n",
        "\n",
        "To force Trustcall to produce [structured output](https://python.langchain.com/docs/concepts/structured_outputs/), we can include the schema name in the `tool_choice` argument.\n",
        "\n",
        "We can invoke the extractor with  the above conversation."
      ]
    },
    {
      "cell_type": "code",
      "execution_count": 23,
      "metadata": {
        "id": "c-DHTRQCgdXB"
      },
      "outputs": [],
      "source": [
        "from trustcall import create_extractor\n",
        "\n",
        "# Schema\n",
        "class UserProfile(BaseModel):\n",
        "    \"\"\"User profile schema with typed fields\"\"\"\n",
        "    user_name: str = Field(description=\"The user's preferred name\")\n",
        "    interests: List[str] = Field(description=\"A list of the user's interests\")\n",
        "\n",
        "# Initialize the model\n",
        "model = ChatOpenAI(model=\"gpt-4o\", temperature=0)\n",
        "\n",
        "# Create the extractor\n",
        "trustcall_extractor = create_extractor(\n",
        "    model,\n",
        "    tools=[UserProfile],\n",
        "    tool_choice=\"UserProfile\"\n",
        ")\n",
        "\n",
        "# Instruction\n",
        "system_msg = \"Extract the user profile from the following conversation\"\n",
        "\n",
        "# Invoke the extractor\n",
        "result = trustcall_extractor.invoke({\"messages\": [SystemMessage(content=system_msg)]+conversation})"
      ]
    },
    {
      "cell_type": "markdown",
      "metadata": {
        "id": "xY33glNGgdXC"
      },
      "source": [
        "When we invoke the extractor, we get a few things:\n",
        "\n",
        "* `messages`: The list of `AIMessages` that contain the tool calls.\n",
        "* `responses`: The resulting parsed tool calls that match our schema.\n",
        "* `response_metadata`: Applicable if updating existing tool calls. It says which of the responses correspond to which of the existing objects.\n"
      ]
    },
    {
      "cell_type": "code",
      "source": [
        "result"
      ],
      "metadata": {
        "id": "JckvOQMr7Lie",
        "outputId": "a06c53df-5019-4e49-8ca9-05a3a80f3b54",
        "colab": {
          "base_uri": "https://localhost:8080/"
        }
      },
      "execution_count": 24,
      "outputs": [
        {
          "output_type": "execute_result",
          "data": {
            "text/plain": [
              "{'messages': [AIMessage(content='', additional_kwargs={'refusal': None}, response_metadata={'token_usage': {'completion_tokens': 17, 'prompt_tokens': 128, 'total_tokens': 145, 'completion_tokens_details': {'accepted_prediction_tokens': 0, 'audio_tokens': 0, 'reasoning_tokens': 0, 'rejected_prediction_tokens': 0}, 'prompt_tokens_details': {'audio_tokens': 0, 'cached_tokens': 0}}, 'model_provider': 'openai', 'model_name': 'gpt-4o-2024-08-06', 'system_fingerprint': 'fp_cbf1785567', 'id': 'chatcmpl-CS82uYckzCc6IZJxde222chJv0F2x', 'service_tier': 'default', 'finish_reason': 'stop', 'logprobs': None}, id='lc_run--2e6cb5d7-7fdc-405c-940a-6cbeee26e3bf-0', tool_calls=[{'name': 'UserProfile', 'args': {'user_name': 'Lance', 'interests': ['biking', 'San Francisco']}, 'id': 'call_fPIrm8ddsZh0Njvv4hAKEQ9F', 'type': 'tool_call'}], usage_metadata={'input_tokens': 128, 'output_tokens': 17, 'total_tokens': 145, 'input_token_details': {'audio': 0, 'cache_read': 0}, 'output_token_details': {'audio': 0, 'reasoning': 0}})],\n",
              " 'responses': [UserProfile(user_name='Lance', interests=['biking', 'San Francisco'])],\n",
              " 'response_metadata': [{'id': 'call_fPIrm8ddsZh0Njvv4hAKEQ9F'}],\n",
              " 'attempts': 1}"
            ]
          },
          "metadata": {},
          "execution_count": 24
        }
      ]
    },
    {
      "cell_type": "code",
      "execution_count": 25,
      "metadata": {
        "id": "tPy--cjggdXF",
        "outputId": "66bf9e54-9b2e-4a3f-815a-4d78e50c9154",
        "colab": {
          "base_uri": "https://localhost:8080/"
        }
      },
      "outputs": [
        {
          "output_type": "stream",
          "name": "stdout",
          "text": [
            "==================================\u001b[1m Ai Message \u001b[0m==================================\n",
            "Tool Calls:\n",
            "  UserProfile (call_fPIrm8ddsZh0Njvv4hAKEQ9F)\n",
            " Call ID: call_fPIrm8ddsZh0Njvv4hAKEQ9F\n",
            "  Args:\n",
            "    user_name: Lance\n",
            "    interests: ['biking', 'San Francisco']\n"
          ]
        }
      ],
      "source": [
        "for m in result[\"messages\"]:\n",
        "    m.pretty_print()"
      ]
    },
    {
      "cell_type": "code",
      "execution_count": 26,
      "metadata": {
        "id": "ClLP1gq7gdXG",
        "outputId": "6a828a3c-127b-4e34-aca9-0cd35efd9d8b",
        "colab": {
          "base_uri": "https://localhost:8080/"
        }
      },
      "outputs": [
        {
          "output_type": "execute_result",
          "data": {
            "text/plain": [
              "[UserProfile(user_name='Lance', interests=['biking', 'San Francisco'])]"
            ]
          },
          "metadata": {},
          "execution_count": 26
        }
      ],
      "source": [
        "schema = result[\"responses\"]\n",
        "schema"
      ]
    },
    {
      "cell_type": "code",
      "execution_count": 27,
      "metadata": {
        "id": "qWLjt7DogdXG",
        "outputId": "de05f409-1f32-427f-cecf-7d225a51b6e6",
        "colab": {
          "base_uri": "https://localhost:8080/"
        }
      },
      "outputs": [
        {
          "output_type": "execute_result",
          "data": {
            "text/plain": [
              "{'user_name': 'Lance', 'interests': ['biking', 'San Francisco']}"
            ]
          },
          "metadata": {},
          "execution_count": 27
        }
      ],
      "source": [
        "schema[0].model_dump()"
      ]
    },
    {
      "cell_type": "code",
      "execution_count": 28,
      "metadata": {
        "id": "72A1XhWugdXH",
        "outputId": "32a37445-562f-47da-cb99-02bc8f5684a2",
        "colab": {
          "base_uri": "https://localhost:8080/"
        }
      },
      "outputs": [
        {
          "output_type": "execute_result",
          "data": {
            "text/plain": [
              "[{'id': 'call_fPIrm8ddsZh0Njvv4hAKEQ9F'}]"
            ]
          },
          "metadata": {},
          "execution_count": 28
        }
      ],
      "source": [
        "result[\"response_metadata\"]"
      ]
    },
    {
      "cell_type": "markdown",
      "metadata": {
        "id": "ibCuraLMgdXJ"
      },
      "source": [
        "Let's see how we can use it to *update* the profile.\n",
        "\n",
        "For updating, TrustCall takes a set of messages as well as the existing schema.\n",
        "\n",
        "The central idea is that it prompts the model to produce a [JSON Patch](https://jsonpatch.com/) to update only the relevant parts of the schema.\n",
        "\n",
        "This is less error-prone than naively overwriting the entire schema.\n",
        "\n",
        "It's also more efficient since the model only needs to generate the parts of the schema that have changed.\n",
        "\n",
        "We can save the existing schema as a dict.\n",
        "\n",
        "We can use `model_dump()` to serialize a Pydantic model instance into a dict.\n",
        "\n",
        "We pass it to the `\"existing\"` argument along with the schema name, `UserProfile`."
      ]
    },
    {
      "cell_type": "code",
      "execution_count": 29,
      "metadata": {
        "id": "AdR-1GORgdXJ"
      },
      "outputs": [],
      "source": [
        "# Update the conversation\n",
        "updated_conversation = [HumanMessage(content=\"Hi, I'm Lance.\"),\n",
        "                        AIMessage(content=\"Nice to meet you, Lance.\"),\n",
        "                        HumanMessage(content=\"I really like biking around San Francisco.\"),\n",
        "                        AIMessage(content=\"San Francisco is a great city! Where do you go after biking?\"),\n",
        "                        HumanMessage(content=\"I really like to go to a bakery after biking.\"),]\n",
        "\n",
        "# Update the instruction\n",
        "system_msg = f\"\"\"Update the memory (JSON doc) to incorporate new information from the following conversation\"\"\"\n",
        "\n",
        "# Invoke the extractor with the updated instruction and existing profile with the corresponding tool name (UserProfile)\n",
        "result = trustcall_extractor.invoke({\"messages\": [SystemMessage(content=system_msg)]+updated_conversation},\n",
        "                                    {\"existing\": {\"UserProfile\": schema[0].model_dump()}})"
      ]
    },
    {
      "cell_type": "code",
      "execution_count": 30,
      "metadata": {
        "id": "BEnBy1V6gdXQ",
        "outputId": "ff67dce7-837a-4ddf-9c09-ac18996362e8",
        "colab": {
          "base_uri": "https://localhost:8080/"
        }
      },
      "outputs": [
        {
          "output_type": "stream",
          "name": "stdout",
          "text": [
            "==================================\u001b[1m Ai Message \u001b[0m==================================\n",
            "Tool Calls:\n",
            "  UserProfile (call_HEW4QHGxReLXeBWlWS27EKvM)\n",
            " Call ID: call_HEW4QHGxReLXeBWlWS27EKvM\n",
            "  Args:\n",
            "    user_name: Lance\n",
            "    interests: ['biking', 'visiting bakeries']\n"
          ]
        }
      ],
      "source": [
        "for m in result[\"messages\"]:\n",
        "    m.pretty_print()"
      ]
    },
    {
      "cell_type": "code",
      "execution_count": 31,
      "metadata": {
        "id": "w1uDN-zEgdXf",
        "outputId": "e5b9e585-52af-4fae-f689-d9abee9d1ab8",
        "colab": {
          "base_uri": "https://localhost:8080/"
        }
      },
      "outputs": [
        {
          "output_type": "execute_result",
          "data": {
            "text/plain": [
              "[{'id': 'call_HEW4QHGxReLXeBWlWS27EKvM'}]"
            ]
          },
          "metadata": {},
          "execution_count": 31
        }
      ],
      "source": [
        "result[\"response_metadata\"]"
      ]
    },
    {
      "cell_type": "code",
      "execution_count": 32,
      "metadata": {
        "id": "Ibay7MkYgdXg",
        "outputId": "1e43d058-7123-4db7-c236-76b92b3a01ee",
        "colab": {
          "base_uri": "https://localhost:8080/"
        }
      },
      "outputs": [
        {
          "output_type": "execute_result",
          "data": {
            "text/plain": [
              "{'user_name': 'Lance', 'interests': ['biking', 'visiting bakeries']}"
            ]
          },
          "metadata": {},
          "execution_count": 32
        }
      ],
      "source": [
        "updated_schema = result[\"responses\"][0]\n",
        "updated_schema.model_dump()"
      ]
    },
    {
      "cell_type": "markdown",
      "metadata": {
        "id": "ddXqODoIgdXh"
      },
      "source": [
        "LangSmith trace:\n",
        "\n",
        "https://smith.langchain.com/public/229eae22-1edb-44c6-93e6-489124a43968/r\n",
        "\n",
        "Now, let's also test Trustcall on the [challenging schema](https://github.com/hinthornw/trustcall?tab=readme-ov-file#complex-schema) that we saw earlier."
      ]
    },
    {
      "cell_type": "code",
      "execution_count": 33,
      "metadata": {
        "id": "FDE4D2epgdXi",
        "outputId": "e422fbae-e272-40a9-dbee-5a1a1b2465c5",
        "colab": {
          "base_uri": "https://localhost:8080/"
        }
      },
      "outputs": [
        {
          "output_type": "execute_result",
          "data": {
            "text/plain": [
              "TelegramAndTrustFallPreferences(pertinent_user_preferences=UserPreferences(communication_preferences=CommunicationPreferences(telegram=TelegramPreferences(preferred_encoding=[OutputFormat(preference='standard encoding', sentence_preference_revealed='standard encoding')], favorite_telegram_operators=None, preferred_telegram_paper=None), morse_code=MorseCode(preferred_key_type=[OutputFormat(preference='straight key', sentence_preference_revealed='straight key')], favorite_morse_abbreviations=None), semaphore=Semaphore(preferred_flag_color=None, semaphore_skill_level=None)), trust_fall_preferences=TrustFallPreferences(preferred_fall_height=[OutputFormat(preference='higher', sentence_preference_revealed='higher')], trust_level=None, preferred_catching_technique=[OutputFormat(preference='diamond formation', sentence_preference_revealed='diamond formation')])))"
            ]
          },
          "metadata": {},
          "execution_count": 33
        }
      ],
      "source": [
        "bound = create_extractor(\n",
        "    model,\n",
        "    tools=[TelegramAndTrustFallPreferences],\n",
        "    tool_choice=\"TelegramAndTrustFallPreferences\",\n",
        ")\n",
        "\n",
        "# Conversation\n",
        "conversation = \"\"\"Operator: How may I assist with your telegram, sir?\n",
        "Customer: I need to send a message about our trust fall exercise.\n",
        "Operator: Certainly. Morse code or standard encoding?\n",
        "Customer: Morse, please. I love using a straight key.\n",
        "Operator: Excellent. What's your message?\n",
        "Customer: Tell him I'm ready for a higher fall, and I prefer the diamond formation for catching.\n",
        "Operator: Done. Shall I use our \"Daredevil\" paper for this daring message?\n",
        "Customer: Perfect! Send it by your fastest carrier pigeon.\n",
        "Operator: It'll be there within the hour, sir.\"\"\"\n",
        "\n",
        "result = bound.invoke(\n",
        "    f\"\"\"Extract the preferences from the following conversation:\n",
        "<convo>\n",
        "{conversation}\n",
        "</convo>\"\"\"\n",
        ")\n",
        "\n",
        "# Extract the preferences\n",
        "result[\"responses\"][0]"
      ]
    },
    {
      "cell_type": "markdown",
      "metadata": {
        "id": "7cH3evtcgdXj"
      },
      "source": [
        "Trace:\n",
        "\n",
        "https://smith.langchain.com/public/5cd23009-3e05-4b00-99f0-c66ee3edd06e/r\n",
        "\n",
        "For more examples, you can see an overview video [here](https://www.youtube.com/watch?v=-H4s0jQi-QY)."
      ]
    },
    {
      "cell_type": "markdown",
      "metadata": {
        "id": "wpzPqCS-gdXj"
      },
      "source": [
        "## Chatbot with profile schema updating\n",
        "\n",
        "Now, let's bring Trustcall into our chatbot to create *and update* a memory profile."
      ]
    },
    {
      "cell_type": "code",
      "execution_count": 34,
      "metadata": {
        "id": "_VKAy_HogdXk",
        "outputId": "84ab02d5-6a23-4621-929a-f88dc88dad34",
        "colab": {
          "base_uri": "https://localhost:8080/",
          "height": 350
        }
      },
      "outputs": [
        {
          "output_type": "display_data",
          "data": {
            "image/png": "[encoded data removed]",
            "text/plain": [
              "<IPython.core.display.Image object>"
            ]
          },
          "metadata": {}
        }
      ],
      "source": [
        "from IPython.display import Image, display\n",
        "\n",
        "from langchain_core.messages import HumanMessage, SystemMessage\n",
        "from langgraph.graph import StateGraph, MessagesState, START, END\n",
        "from langchain_core.runnables.config import RunnableConfig\n",
        "from langgraph.checkpoint.memory import MemorySaver\n",
        "from langgraph.store.base import BaseStore\n",
        "\n",
        "# Initialize the model\n",
        "model = ChatOpenAI(model=\"gpt-4o\", temperature=0)\n",
        "\n",
        "# Schema\n",
        "class UserProfile(BaseModel):\n",
        "    \"\"\" Profile of a user \"\"\"\n",
        "    user_name: str = Field(description=\"The user's preferred name\")\n",
        "    user_location: str = Field(description=\"The user's location\")\n",
        "    interests: list = Field(description=\"A list of the user's interests\")\n",
        "\n",
        "# Create the extractor\n",
        "trustcall_extractor = create_extractor(\n",
        "    model,\n",
        "    tools=[UserProfile],\n",
        "    tool_choice=\"UserProfile\", # Enforces use of the UserProfile tool\n",
        ")\n",
        "\n",
        "# Chatbot instruction\n",
        "MODEL_SYSTEM_MESSAGE = \"\"\"You are a helpful assistant with memory that provides information about the user.\n",
        "If you have memory for this user, use it to personalize your responses.\n",
        "Here is the memory (it may be empty): {memory}\"\"\"\n",
        "\n",
        "# Extraction instruction\n",
        "TRUSTCALL_INSTRUCTION = \"\"\"Create or update the memory (JSON doc) to incorporate information from the following conversation:\"\"\"\n",
        "\n",
        "def call_model(state: MessagesState, config: RunnableConfig, store: BaseStore):\n",
        "\n",
        "    \"\"\"Load memory from the store and use it to personalize the chatbot's response.\"\"\"\n",
        "\n",
        "    # Get the user ID from the config\n",
        "    user_id = config[\"configurable\"][\"user_id\"]\n",
        "\n",
        "    # Retrieve memory from the store\n",
        "    namespace = (\"memory\", user_id)\n",
        "    existing_memory = store.get(namespace, \"user_memory\")\n",
        "\n",
        "    # Format the memories for the system prompt\n",
        "    if existing_memory and existing_memory.value:\n",
        "        memory_dict = existing_memory.value\n",
        "        formatted_memory = (\n",
        "            f\"Name: {memory_dict.get('user_name', 'Unknown')}\\n\"\n",
        "            f\"Location: {memory_dict.get('user_location', 'Unknown')}\\n\"\n",
        "            f\"Interests: {', '.join(memory_dict.get('interests', []))}\"\n",
        "        )\n",
        "    else:\n",
        "        formatted_memory = None\n",
        "\n",
        "    # Format the memory in the system prompt\n",
        "    system_msg = MODEL_SYSTEM_MESSAGE.format(memory=formatted_memory)\n",
        "\n",
        "    # Respond using memory as well as the chat history\n",
        "    response = model.invoke([SystemMessage(content=system_msg)]+state[\"messages\"])\n",
        "\n",
        "    return {\"messages\": response}\n",
        "\n",
        "def write_memory(state: MessagesState, config: RunnableConfig, store: BaseStore):\n",
        "\n",
        "    \"\"\"Reflect on the chat history and save a memory to the store.\"\"\"\n",
        "\n",
        "    # Get the user ID from the config\n",
        "    user_id = config[\"configurable\"][\"user_id\"]\n",
        "\n",
        "    # Retrieve existing memory from the store\n",
        "    namespace = (\"memory\", user_id)\n",
        "    existing_memory = store.get(namespace, \"user_memory\")\n",
        "\n",
        "    # Get the profile as the value from the list, and convert it to a JSON doc\n",
        "    existing_profile = {\"UserProfile\": existing_memory.value} if existing_memory else None\n",
        "\n",
        "    # Invoke the extractor\n",
        "    result = trustcall_extractor.invoke({\"messages\": [SystemMessage(content=TRUSTCALL_INSTRUCTION)]+state[\"messages\"], \"existing\": existing_profile})\n",
        "\n",
        "    # Get the updated profile as a JSON object\n",
        "    updated_profile = result[\"responses\"][0].model_dump()\n",
        "\n",
        "    # Save the updated profile\n",
        "    key = \"user_memory\"\n",
        "    store.put(namespace, key, updated_profile)\n",
        "\n",
        "# Define the graph\n",
        "builder = StateGraph(MessagesState)\n",
        "builder.add_node(\"call_model\", call_model)\n",
        "builder.add_node(\"write_memory\", write_memory)\n",
        "builder.add_edge(START, \"call_model\")\n",
        "builder.add_edge(\"call_model\", \"write_memory\")\n",
        "builder.add_edge(\"write_memory\", END)\n",
        "\n",
        "# Store for long-term (across-thread) memory\n",
        "across_thread_memory = InMemoryStore()\n",
        "\n",
        "# Checkpointer for short-term (within-thread) memory\n",
        "within_thread_memory = MemorySaver()\n",
        "\n",
        "# Compile the graph with the checkpointer fir and store\n",
        "graph = builder.compile(checkpointer=within_thread_memory, store=across_thread_memory)\n",
        "\n",
        "# View\n",
        "display(Image(graph.get_graph(xray=1).draw_mermaid_png()))"
      ]
    },
    {
      "cell_type": "code",
      "execution_count": 35,
      "metadata": {
        "id": "RXptIyHxgdXn",
        "outputId": "30db1bee-f92f-4713-884b-e44ffb316a11",
        "colab": {
          "base_uri": "https://localhost:8080/"
        }
      },
      "outputs": [
        {
          "output_type": "stream",
          "name": "stdout",
          "text": [
            "================================\u001b[1m Human Message \u001b[0m=================================\n",
            "\n",
            "Hi, my name is Lance\n",
            "==================================\u001b[1m Ai Message \u001b[0m==================================\n",
            "\n",
            "Hello, Lance! It's nice to meet you. How can I assist you today?\n"
          ]
        }
      ],
      "source": [
        "# We supply a thread ID for short-term (within-thread) memory\n",
        "# We supply a user ID for long-term (across-thread) memory\n",
        "config = {\"configurable\": {\"thread_id\": \"1\", \"user_id\": \"1\"}}\n",
        "\n",
        "# User input\n",
        "input_messages = [HumanMessage(content=\"Hi, my name is Lance\")]\n",
        "\n",
        "# Run the graph\n",
        "for chunk in graph.stream({\"messages\": input_messages}, config, stream_mode=\"values\"):\n",
        "    chunk[\"messages\"][-1].pretty_print()"
      ]
    },
    {
      "cell_type": "code",
      "execution_count": 36,
      "metadata": {
        "id": "0-yaKMJsgdXp",
        "outputId": "41b6eb8f-bf77-41c5-c7c2-8d0e4f743a68",
        "colab": {
          "base_uri": "https://localhost:8080/"
        }
      },
      "outputs": [
        {
          "output_type": "stream",
          "name": "stdout",
          "text": [
            "================================\u001b[1m Human Message \u001b[0m=================================\n",
            "\n",
            "I like to bike around San Francisco\n",
            "==================================\u001b[1m Ai Message \u001b[0m==================================\n",
            "\n",
            "That sounds like a fantastic way to explore the city! San Francisco has some great biking routes. Do you have a favorite trail or area you like to ride in?\n"
          ]
        }
      ],
      "source": [
        "# User input\n",
        "input_messages = [HumanMessage(content=\"I like to bike around San Francisco\")]\n",
        "\n",
        "# Run the graph\n",
        "for chunk in graph.stream({\"messages\": input_messages}, config, stream_mode=\"values\"):\n",
        "    chunk[\"messages\"][-1].pretty_print()"
      ]
    },
    {
      "cell_type": "code",
      "execution_count": 37,
      "metadata": {
        "id": "KT3QFMcjgdXq",
        "outputId": "bf8680f1-8ae5-4116-b5ad-b2fdc4efcd25",
        "colab": {
          "base_uri": "https://localhost:8080/"
        }
      },
      "outputs": [
        {
          "output_type": "execute_result",
          "data": {
            "text/plain": [
              "{'namespace': ['memory', '1'],\n",
              " 'key': 'user_memory',\n",
              " 'value': {'user_name': 'Lance',\n",
              "  'user_location': 'San Francisco',\n",
              "  'interests': ['biking']},\n",
              " 'created_at': '2025-10-18T20:43:47.714984+00:00',\n",
              " 'updated_at': '2025-10-18T20:43:47.714985+00:00'}"
            ]
          },
          "metadata": {},
          "execution_count": 37
        }
      ],
      "source": [
        "# Namespace for the memory to save\n",
        "user_id = \"1\"\n",
        "namespace = (\"memory\", user_id)\n",
        "existing_memory = across_thread_memory.get(namespace, \"user_memory\")\n",
        "existing_memory.dict()"
      ]
    },
    {
      "cell_type": "code",
      "execution_count": 38,
      "metadata": {
        "id": "LnzhK6wpgdXr",
        "outputId": "239be701-c055-4846-a8eb-5ea4f2d85940",
        "colab": {
          "base_uri": "https://localhost:8080/"
        }
      },
      "outputs": [
        {
          "output_type": "execute_result",
          "data": {
            "text/plain": [
              "{'user_name': 'Lance',\n",
              " 'user_location': 'San Francisco',\n",
              " 'interests': ['biking']}"
            ]
          },
          "metadata": {},
          "execution_count": 38
        }
      ],
      "source": [
        "# The user profile saved as a JSON object\n",
        "existing_memory.value"
      ]
    },
    {
      "cell_type": "code",
      "execution_count": 39,
      "metadata": {
        "id": "fKoFGy4wgdXu",
        "outputId": "d0f35227-c4c2-4bfc-f426-048c7aa38339",
        "colab": {
          "base_uri": "https://localhost:8080/"
        }
      },
      "outputs": [
        {
          "output_type": "stream",
          "name": "stdout",
          "text": [
            "================================\u001b[1m Human Message \u001b[0m=================================\n",
            "\n",
            "I also enjoy going to bakeries\n",
            "==================================\u001b[1m Ai Message \u001b[0m==================================\n",
            "\n",
            "Biking to a bakery sounds like a perfect combination! San Francisco has some amazing bakeries. Do you have a favorite bakery you like to visit after a ride, or are you looking for new recommendations?\n"
          ]
        }
      ],
      "source": [
        "# User input\n",
        "input_messages = [HumanMessage(content=\"I also enjoy going to bakeries\")]\n",
        "\n",
        "# Run the graph\n",
        "for chunk in graph.stream({\"messages\": input_messages}, config, stream_mode=\"values\"):\n",
        "    chunk[\"messages\"][-1].pretty_print()"
      ]
    },
    {
      "cell_type": "markdown",
      "metadata": {
        "id": "c5yoQcb-gdXw"
      },
      "source": [
        "Continue the conversation in a new thread."
      ]
    },
    {
      "cell_type": "code",
      "execution_count": 40,
      "metadata": {
        "id": "ZWchqxezgdXz",
        "outputId": "7ba864b2-6622-4cbb-ed23-ffc072acb04c",
        "colab": {
          "base_uri": "https://localhost:8080/"
        }
      },
      "outputs": [
        {
          "output_type": "stream",
          "name": "stdout",
          "text": [
            "================================\u001b[1m Human Message \u001b[0m=================================\n",
            "\n",
            "What bakeries do you recommend for me?\n",
            "==================================\u001b[1m Ai Message \u001b[0m==================================\n",
            "\n",
            "Since you're in San Francisco and enjoy going to bakeries, here are a few recommendations you might like:\n",
            "\n",
            "1. **Tartine Bakery** - Known for its delicious bread and pastries, it's a must-visit for any bakery enthusiast.\n",
            "\n",
            "2. **B. Patisserie** - Offers a delightful selection of French pastries, including their famous kouign-amann.\n",
            "\n",
            "3. **Arsicault Bakery** - Renowned for its croissants, this place was named the best new bakery in America by Bon Appétit in 2016.\n",
            "\n",
            "4. **Craftsman and Wolves** - A contemporary patisserie with inventive pastries and a unique twist on traditional flavors.\n",
            "\n",
            "5. **Mr. Holmes Bakehouse** - Famous for their cruffins, a hybrid of a croissant and muffin, and other creative pastries.\n",
            "\n",
            "These spots should offer a great variety of treats for your bakery adventures in the city!\n"
          ]
        }
      ],
      "source": [
        "# We supply a thread ID for short-term (within-thread) memory\n",
        "# We supply a user ID for long-term (across-thread) memory\n",
        "config = {\"configurable\": {\"thread_id\": \"2\", \"user_id\": \"1\"}}\n",
        "\n",
        "# User input\n",
        "input_messages = [HumanMessage(content=\"What bakeries do you recommend for me?\")]\n",
        "\n",
        "# Run the graph\n",
        "for chunk in graph.stream({\"messages\": input_messages}, config, stream_mode=\"values\"):\n",
        "    chunk[\"messages\"][-1].pretty_print()"
      ]
    },
    {
      "cell_type": "markdown",
      "metadata": {
        "id": "CChSV9fLgdX0"
      },
      "source": [
        "Trace:\n",
        "\n",
        "https://smith.langchain.com/public/f45bdaf0-6963-4c19-8ec9-f4b7fe0f68ad/r\n",
        "\n",
        "## Studio\n",
        "\n",
        "![Screenshot 2024-10-30 at 11.26.31 AM.png](https://cdn.prod.website-files.com/65b8cd72835ceeacd4449a53/6732d0437060f1754ea79908_Screenshot%202024-11-11%20at%207.48.53%E2%80%AFPM.png)"
      ]
    },
    {
      "cell_type": "code",
      "execution_count": null,
      "metadata": {
        "id": "jSHSTOZmgdX0"
      },
      "outputs": [],
      "source": []
    }
  ],
  "metadata": {
    "kernelspec": {
      "display_name": "Python 3 (ipykernel)",
      "language": "python",
      "name": "python3"
    },
    "language_info": {
      "codemirror_mode": {
        "name": "ipython",
        "version": 3
      },
      "file_extension": ".py",
      "mimetype": "text/x-python",
      "name": "python",
      "nbconvert_exporter": "python",
      "pygments_lexer": "ipython3",
      "version": "3.11.8"
    },
    "colab": {
      "provenance": []
    }
  },
  "nbformat": 4,
  "nbformat_minor": 0
}