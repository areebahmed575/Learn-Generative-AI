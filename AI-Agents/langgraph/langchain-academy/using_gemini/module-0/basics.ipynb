{
  "cells": [
    {
      "cell_type": "markdown",
      "id": "ef597741-3211-4ecc-92f7-f58023ee237e",
      "metadata": {
        "id": "ef597741-3211-4ecc-92f7-f58023ee237e"
      },
      "source": [
        "# LangChain Academy\n",
        "\n",
        "Welcome to LangChain Academy!\n",
        "\n",
        "## Context\n",
        "\n",
        "At LangChain, we aim to make it easy to build LLM applications. One type of LLM application you can build is an agent. There’s a lot of excitement around building agents because they can automate a wide range of tasks that were previously impossible.\n",
        "\n",
        "In practice though, it is incredibly difficult to build systems that reliably execute on these tasks. As we’ve worked with our users to put agents into production, we’ve learned that more control is often necessary. You might need an agent to always call a specific tool first or use different prompts based on its state.\n",
        "\n",
        "To tackle this problem, we’ve built [LangGraph](https://langchain-ai.github.io/langgraph/) — a framework for building agent and multi-agent applications. Separate from the LangChain package, LangGraph’s core design philosophy is to help developers add better precision and control into agent workflows, suitable for the complexity of real-world systems.\n",
        "\n",
        "## Course Structure\n",
        "\n",
        "The course is structured as a set of modules, with each module focused on a particular theme related to LangGraph. You will see a folder for each module, which contains a series of notebooks. A video will accompany each notebook to help walk through the concepts, but the notebooks are also stand-alone, meaning that they contain explanations and can be viewed independent of the videos. Each module folder also contains a `studio` folder, which contains a set of graphs that can be loaded into [LangGraph Studio](https://github.com/langchain-ai/langgraph-studio), our IDE for building LangGraph applications.\n",
        "\n",
        "## Setup\n",
        "\n",
        "Before you begin, please follow the instructions in the `README` to create an environment and install dependencies.\n",
        "\n",
        "## Chat models\n",
        "\n",
        "In this course, we'll be using [Chat Models](https://python.langchain.com/v0.2/docs/concepts/#chat-models), which do a few things take a sequence of messages as inputs and return chat messages as outputs. LangChain does not host any Chat Models, rather we rely on third party integrations. [Here](https://python.langchain.com/v0.2/docs/integrations/chat/) is a list of 3rd party chat model integrations within LangChain! By default, the course with use [GEMINI_API_KEY](https://ai.google.dev/gemini-api/docs/api-key/) because it is both popular and performant. As noted, please ensure that you have an `GEMINI_API_KEY`.\n",
        "\n",
        "Let's check that your `GEMINI_API_KEY` is set and, if not, you will be asked to enter it."
      ]
    },
    {
      "cell_type": "code",
      "execution_count": 1,
      "id": "0f9a52c8",
      "metadata": {
        "id": "0f9a52c8"
      },
      "outputs": [],
      "source": [
        "%%capture --no-stderr\n",
        "!pip install -q langchain_google_genai langchain_core langchain_community tavily-python"
      ]
    },
    {
      "cell_type": "code",
      "source": [
        "from langchain_google_genai import ChatGoogleGenerativeAI\n",
        "\n",
        "from google.colab import userdata\n",
        "GEMINI_API_KEY = userdata.get('GEMINI_API_KEY')\n",
        "llm = ChatGoogleGenerativeAI(\n",
        "    model=\"gemini-1.5-flash\",\n",
        "    api_key=GEMINI_API_KEY,\n",
        "    temperature=0\n",
        ")\n"
      ],
      "metadata": {
        "id": "Ch7HciDZXh3F"
      },
      "id": "Ch7HciDZXh3F",
      "execution_count": 2,
      "outputs": []
    },
    {
      "cell_type": "code",
      "source": [
        "result  = llm.invoke(\"Who won 2024 US presidential ellection?\")\n",
        "result"
      ],
      "metadata": {
        "colab": {
          "base_uri": "https://localhost:8080/"
        },
        "id": "KKnOnfj3YZYT",
        "outputId": "21331020-4aa5-4db1-eaac-8fa598a84591"
      },
      "id": "KKnOnfj3YZYT",
      "execution_count": 3,
      "outputs": [
        {
          "output_type": "execute_result",
          "data": {
            "text/plain": [
              "AIMessage(content='The 2024 US presidential election has not yet happened.  The election will be held in November 2024.\\n', additional_kwargs={}, response_metadata={'prompt_feedback': {'block_reason': 0, 'safety_ratings': []}, 'finish_reason': 'STOP', 'safety_ratings': []}, id='run-d4804a2b-2036-4c91-8a40-01fa38d8dd0a-0', usage_metadata={'input_tokens': 13, 'output_tokens': 29, 'total_tokens': 42, 'input_token_details': {'cache_read': 0}})"
            ]
          },
          "metadata": {},
          "execution_count": 3
        }
      ]
    },
    {
      "cell_type": "markdown",
      "id": "28450d1b",
      "metadata": {
        "id": "28450d1b"
      },
      "source": [
        "Chat models in LangChain have a number of [default methods](https://python.langchain.com/v0.2/docs/concepts/#runnable-interface). For the most part, we'll be using:\n",
        "\n",
        "* `stream`: stream back chunks of the response\n",
        "* `invoke`: call the chain on an input\n",
        "\n",
        "And, as mentioned, chat models take [messages](https://python.langchain.com/v0.2/docs/concepts/#messages) as input. Messages have a role (that describes who is saying the message) and a content property. We'll be talking a lot more about this later, but here let's just show the basics."
      ]
    },
    {
      "cell_type": "code",
      "execution_count": 4,
      "id": "b1280e1b",
      "metadata": {
        "colab": {
          "base_uri": "https://localhost:8080/"
        },
        "id": "b1280e1b",
        "outputId": "03440a1e-dec7-4b82-a5b3-5d88e29e652e"
      },
      "outputs": [
        {
          "output_type": "execute_result",
          "data": {
            "text/plain": [
              "AIMessage(content='There are several ways to learn LangChain, depending on your learning style and prior experience:\\n\\n**1. Official Documentation:** The best place to start is the official LangChain documentation.  It\\'s well-structured and provides comprehensive tutorials and examples.  Look for their \"Getting Started\" guides and work your way through the examples.\\n\\n**2. Tutorials and Blog Posts:** Many tutorials and blog posts are available online that cover various aspects of LangChain. Search for \"LangChain tutorial\" or \"LangChain example\" on Google, YouTube, and Medium.  Look for tutorials that focus on specific use cases that interest you, such as building a chatbot or a question-answering system.\\n\\n**3. GitHub Repository:** Explore the LangChain GitHub repository.  You can find the source code, contribute to the project, and see how different components are implemented.  Reading the code can be a great way to deepen your understanding.\\n\\n**4. Example Projects:**  The LangChain documentation and GitHub repository contain many example projects.  Start by running and modifying these examples to understand how different parts of the framework work together.  Try to break them, see what happens, and learn from the errors.\\n\\n**5. Community and Forums:** Engage with the LangChain community.  Ask questions on forums like Stack Overflow or join the LangChain Discord server (if one exists).  Learning from others\\' experiences and getting help when you\\'re stuck is invaluable.\\n\\n**6. Courses (Future Possibility):** While there aren\\'t many dedicated LangChain courses yet, as the framework is relatively new, you might find relevant courses on broader topics like large language models (LLMs) or building AI applications.  These courses might include sections on LangChain or provide a foundation that makes learning LangChain easier.\\n\\n\\n**To effectively learn LangChain, consider these steps:**\\n\\n* **Start with the basics:**  Understand the core concepts like chains, indexes, agents, and memory.\\n* **Focus on a specific project:**  Don\\'t try to learn everything at once.  Choose a project that interests you and focus on learning the relevant parts of LangChain.\\n* **Practice regularly:**  The best way to learn is by doing.  Build small projects and gradually increase their complexity.\\n* **Debug and troubleshoot:**  Don\\'t be afraid to make mistakes.  Debugging is a crucial part of the learning process.\\n\\n\\nBy combining these resources and approaches, you can effectively learn LangChain and build powerful applications using language models. Remember to start small, build incrementally, and leverage the community for support.\\n', additional_kwargs={}, response_metadata={'prompt_feedback': {'block_reason': 0, 'safety_ratings': []}, 'finish_reason': 'STOP', 'safety_ratings': []}, id='run-a614daa4-a487-40a0-bd6f-2432fbf02742-0', usage_metadata={'input_tokens': 39, 'output_tokens': 533, 'total_tokens': 572, 'input_token_details': {'cache_read': 0}})"
            ]
          },
          "metadata": {},
          "execution_count": 4
        }
      ],
      "source": [
        "from langchain_core.messages import HumanMessage, AIMessage\n",
        "\n",
        "# Create a message\n",
        "# Message list\n",
        "messages = [\n",
        "    HumanMessage(content=\"Hi\", name=\"Human Student\"),\n",
        "    AIMessage(content='Hi! How can I help you today? \\n', name=\"AI Assistant\"),\n",
        "    HumanMessage(content=\"What is LangChain?\", name=\"Human Student\"),\n",
        "    AIMessage(content='LangChain is a framework for developing applications powered by language models.', name=\"AI Assistant\"),\n",
        "    HumanMessage(content=\"How can I learn\", name=\"Human Student\"),\n",
        "    ]\n",
        "\n",
        "# Invoke the model with a list of messages\n",
        "llm.invoke(messages)"
      ]
    },
    {
      "cell_type": "markdown",
      "id": "cac73e4c",
      "metadata": {
        "id": "cac73e4c"
      },
      "source": [
        "We get an `AIMessage` response. Also, note that we can just invoke a chat model with a string. When a string is passed in as input, it is converted to a `HumanMessage` and then passed to the underlying model.\n"
      ]
    },
    {
      "cell_type": "markdown",
      "id": "582c0e5a",
      "metadata": {
        "id": "582c0e5a"
      },
      "source": [
        "The interface is consistent across all chat models and models are typically initialized once at the start up each notebooks.\n",
        "\n",
        "So, you can easily switch between models without changing the downstream code if you have strong preference for another provider.\n"
      ]
    },
    {
      "cell_type": "markdown",
      "id": "3ad0069a",
      "metadata": {
        "id": "3ad0069a"
      },
      "source": [
        "## Search Tools\n",
        "\n",
        "You'll also see [Tavily](https://tavily.com/) in the README, which is a search engine optimized for LLMs and RAG, aimed at efficient, quick, and persistent search results. As mentioned, it's easy to sign up and offers a generous free tier. Some lessons (in Module 4) will use Tavily by default but, of course, other search tools can be used if you want to modify the code for yourself."
      ]
    },
    {
      "cell_type": "code",
      "execution_count": 5,
      "id": "52d69da9",
      "metadata": {
        "id": "52d69da9"
      },
      "outputs": [],
      "source": [
        "import os\n",
        "from google.colab import userdata\n",
        "TAVILY_API_KEY = userdata.get('TAVILY_API_KEY')\n",
        "os.environ[\"TAVILY_API_KEY\"] = userdata.get('TAVILY_API_KEY')\n",
        "\n",
        "from langchain_community.tools.tavily_search import TavilySearchResults\n",
        "tavily_search = TavilySearchResults(max_results=3)\n",
        "search_docs = tavily_search.invoke(\"Who won 2024 US presidential ellection?\")"
      ]
    },
    {
      "cell_type": "code",
      "source": [
        "search_docs"
      ],
      "metadata": {
        "colab": {
          "base_uri": "https://localhost:8080/"
        },
        "id": "JWzZ6zAvb2Fv",
        "outputId": "5a0a654e-beb4-41c5-ef50-8349d7028e1f"
      },
      "id": "JWzZ6zAvb2Fv",
      "execution_count": 6,
      "outputs": [
        {
          "output_type": "execute_result",
          "data": {
            "text/plain": [
              "[{'url': 'https://edition.cnn.com/election/2024/results/president?election-data-id=2024-PG&election-painting-mode=projection-with-lead&filter-key-races=false&filter-flipped=false&filter-remaining=false',\n",
              "  'content': 'Presidential election results 2024 | CNN Politics CNN values your feedback SCOTUS Congress Facts First 2024 Elections Your CNN account Sign in to your CNN account Your CNN account Sign in to your CNN account Follow CNN Politics CNN Fast CNN10 CNN Max CNN TV Schedules CNN 5 Things CNN Political Briefing CNN Heroes About CNN CNN Profiles CNN Leadership CNN Newsletters Work for CNN CNN CNN en Español Election 2024: Presidential results Explore 2024 election results Your CNN account Sign in to your CNN account CNN Headlines CNN Shorts CNN10 CNN Max CNN TV Schedules CNN 5 Things CNN Political Briefing CNN Underscored Health & Fitness CNN Store About CNN CNN Profiles CNN Leadership CNN Newsletters Work for CNN Follow CNN Politics'},\n",
              " {'url': 'https://www.bbc.com/news/live/czxrnw5qrprt',\n",
              "  'content': \"US election 2024 live updates: Voting begins in key states with Trump and Harris neck and neck in polls - BBC News Voting begins in key states with Trump and Harris neck and neck in polls Election day voting has begun in the United States, with Donald Trump and Kamala Harris vying to become the next president Polls open in swing state North Carolinapublished at 11:49 Greenwich Mean Time More polls have opened, this time in Ohio, West Virginia and North Carolina, meaning 11 US states in total are now welcoming voters. 'Make your voices heard' and 'Make America great again' - Harris and Trump share voter postspublished at 11:21 Greenwich Mean Time Polls open in more states, including New York and Indianapublished at 11:01 Greenwich Mean Time\"},\n",
              " {'url': 'https://www.wsj.com/election/2024/general/president',\n",
              "  'content': 'Published Nov. 5, 2024. Note: Vote share percentages exclude write-in candidates. Source: Associated Press (results); Cook Political Report, Inside Elections with Nathan L. Gonzales and Larry'}]"
            ]
          },
          "metadata": {},
          "execution_count": 6
        }
      ]
    },
    {
      "cell_type": "code",
      "source": [
        "for item in search_docs:\n",
        "   print(item['content'])"
      ],
      "metadata": {
        "id": "UlXtD4TsGg2G",
        "outputId": "67d29b51-4841-49b6-c0cd-69fbb4779508",
        "colab": {
          "base_uri": "https://localhost:8080/"
        }
      },
      "id": "UlXtD4TsGg2G",
      "execution_count": 23,
      "outputs": [
        {
          "output_type": "stream",
          "name": "stdout",
          "text": [
            "Presidential election results 2024 | CNN Politics CNN values your feedback SCOTUS Congress Facts First 2024 Elections Your CNN account Sign in to your CNN account Your CNN account Sign in to your CNN account Follow CNN Politics CNN Fast CNN10 CNN Max CNN TV Schedules CNN 5 Things CNN Political Briefing CNN Heroes About CNN CNN Profiles CNN Leadership CNN Newsletters Work for CNN CNN CNN en Español Election 2024: Presidential results Explore 2024 election results Your CNN account Sign in to your CNN account CNN Headlines CNN Shorts CNN10 CNN Max CNN TV Schedules CNN 5 Things CNN Political Briefing CNN Underscored Health & Fitness CNN Store About CNN CNN Profiles CNN Leadership CNN Newsletters Work for CNN Follow CNN Politics\n",
            "US election 2024 live updates: Voting begins in key states with Trump and Harris neck and neck in polls - BBC News Voting begins in key states with Trump and Harris neck and neck in polls Election day voting has begun in the United States, with Donald Trump and Kamala Harris vying to become the next president Polls open in swing state North Carolinapublished at 11:49 Greenwich Mean Time More polls have opened, this time in Ohio, West Virginia and North Carolina, meaning 11 US states in total are now welcoming voters. 'Make your voices heard' and 'Make America great again' - Harris and Trump share voter postspublished at 11:21 Greenwich Mean Time Polls open in more states, including New York and Indianapublished at 11:01 Greenwich Mean Time\n",
            "Published Nov. 5, 2024. Note: Vote share percentages exclude write-in candidates. Source: Associated Press (results); Cook Political Report, Inside Elections with Nathan L. Gonzales and Larry\n"
          ]
        }
      ]
    },
    {
      "cell_type": "code",
      "source": [],
      "metadata": {
        "id": "8Z2nnPM7IGRo"
      },
      "id": "8Z2nnPM7IGRo",
      "execution_count": null,
      "outputs": []
    }
  ],
  "metadata": {
    "kernelspec": {
      "display_name": "Python 3 (ipykernel)",
      "language": "python",
      "name": "python3"
    },
    "language_info": {
      "codemirror_mode": {
        "name": "ipython",
        "version": 3
      },
      "file_extension": ".py",
      "mimetype": "text/x-python",
      "name": "python",
      "nbconvert_exporter": "python",
      "pygments_lexer": "ipython3",
      "version": "3.12.3"
    },
    "colab": {
      "provenance": []
    }
  },
  "nbformat": 4,
  "nbformat_minor": 5
}