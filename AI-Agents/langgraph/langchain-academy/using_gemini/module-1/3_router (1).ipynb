{
  "cells": [
    {
      "cell_type": "markdown",
      "id": "cb354baf",
      "metadata": {
        "id": "cb354baf"
      },
      "source": [
        "[![Open in Colab](https://colab.research.google.com/assets/colab-badge.svg)](https://colab.research.google.com/github/langchain-ai/langchain-academy/blob/main/module-1/router.ipynb) [![Open in LangChain Academy](https://cdn.prod.website-files.com/65b8cd72835ceeacd4449a53/66e9eba12c7b7688aa3dbb5e_LCA-badge-green.svg)](https://academy.langchain.com/courses/take/intro-to-langgraph/lessons/58239412-lesson-5-router)"
      ]
    },
    {
      "cell_type": "markdown",
      "id": "ce6fff79-25b5-4884-8aaa-e3ebb7ddd549",
      "metadata": {
        "id": "ce6fff79-25b5-4884-8aaa-e3ebb7ddd549"
      },
      "source": [
        "# Router\n",
        "\n",
        "## Review\n",
        "\n",
        "We built a graph that uses `messages` as state and a chat model with bound tools.\n",
        "\n",
        "We saw that the graph can:\n",
        "\n",
        "* Return a tool call\n",
        "* Return a natural language response\n",
        "\n",
        "## Goals\n",
        "\n",
        "We can think of this as a router, where the chat model routes between a direct response or a tool call based upon the user input.\n",
        "\n",
        "This is an simple example of an agent, where the LLM is directing the control flow either by calling a tool or just responding directly.\n",
        "\n",
        "![Screenshot 2024-08-21 at 9.24.09 AM.png](https://cdn.prod.website-files.com/65b8cd72835ceeacd4449a53/66dbac6543c3d4df239a4ed1_router1.png)\n",
        "\n",
        "Let's extend our graph to work with either output!\n",
        "\n",
        "For this, we can use two ideas:\n",
        "\n",
        "(1) Add a node that will call our tool.\n",
        "\n",
        "(2) Add a conditional edge that will look at the chat model model output, and route to our tool calling node or simply end if no tool call is performed.\n",
        "\n"
      ]
    },
    {
      "cell_type": "code",
      "execution_count": 1,
      "id": "ebb4fc6e-7c85-4fc8-a4a9-0c7a527c4e5b",
      "metadata": {
        "id": "ebb4fc6e-7c85-4fc8-a4a9-0c7a527c4e5b"
      },
      "outputs": [],
      "source": [
        "%%capture --no-stderr\n",
        "%pip install --quiet -U langchain_google_genai langchain_core langgraph"
      ]
    },
    {
      "cell_type": "code",
      "execution_count": 2,
      "id": "885e92d9",
      "metadata": {
        "id": "885e92d9"
      },
      "outputs": [],
      "source": [
        "from google.colab import userdata\n",
        "GEMINI_API_KEY = userdata.get('GEMINI_API_KEY')"
      ]
    },
    {
      "cell_type": "markdown",
      "id": "9c564a67",
      "metadata": {
        "id": "9c564a67"
      },
      "source": [
        "**Note:** Obtain the necessary json key from the Google Cloud Console by following the instructions outlined in step 21_langchain_ecosystem/langchain/-01_gemini_standalone/Gemini_API_python.ipynb file. Once acquired, load the json key in Google Colab to proceed with the project."
      ]
    },
    {
      "cell_type": "code",
      "execution_count": 3,
      "id": "e3ba4df4-3045-49b1-9299-ced1fce14d24",
      "metadata": {
        "id": "e3ba4df4-3045-49b1-9299-ced1fce14d24"
      },
      "outputs": [],
      "source": [
        "from langchain_google_genai import ChatGoogleGenerativeAI\n",
        "\n",
        "def multiply(a: int, b: int) -> int:\n",
        "    \"\"\"Multiply a and b.\n",
        "\n",
        "    Args:\n",
        "        a: first int\n",
        "        b: second int\n",
        "    \"\"\"\n",
        "    return a * b\n",
        "\n",
        "llm = ChatGoogleGenerativeAI(model=\"gemini-1.5-flash\", api_key=GEMINI_API_KEY)\n",
        "llm_with_tools = llm.bind_tools([multiply])"
      ]
    },
    {
      "cell_type": "markdown",
      "source": [
        "## AI agent architectures\n",
        "\n",
        "\n",
        "The introduction of `ToolNode` and `tool_condition` in LangGraph represents a significant advancement in AI agent architectures. These components enhance the framework's flexibility and capability in several ways:\n",
        "\n",
        "**1. Simplified Tool Integration**\n",
        "\n",
        "With `ToolNode`, developers can seamlessly incorporate a variety of tools into their AI agents by passing a list of tools during initialization. This streamlined process reduces complexity and accelerates development.\n",
        "\n",
        "**2. Conditional Execution with `tool_condition`**\n",
        "\n",
        "The `tool_condition` feature allows for dynamic decision-making within the agent's workflow. Agents can evaluate conditions at runtime and choose appropriate actions, enabling more responsive and intelligent behavior.\n",
        "\n",
        "**3. Enhanced Support for Diverse Architectures**\n",
        "\n",
        "These features facilitate the implementation of various AI agent architectures, including:\n",
        "\n",
        "- **ReAct Architecture**: Integrates reasoning and action by allowing agents to decide when to invoke tools based on current context.\n",
        "- **DEPS (Describe, Explain, Plan, Select)**: Supports structured decision-making processes by enabling conditional tool usage.\n",
        "- **Reflexion Architecture**: Allows agents to reflect on actions and outcomes, adjusting behavior dynamically.\n",
        "- **Talker-Reasoner Architecture**: Separates communication and reasoning processes, with conditional tool invocation enhancing reasoning capabilities.\n",
        "- **Cognitive Architectures (e.g., Soar)**: Supports complex, human-like reasoning and decision-making processes through dynamic tool integration.\n",
        "\n",
        "By providing these capabilities, LangGraph's `ToolNode` and `tool_condition` contribute to the evolution of agentic AI, moving beyond static models to more adaptive and intelligent systems. This progression aligns with the broader trend of enhancing AI agents' reasoning and decision-making abilities, marking a pivotal step in the development of advanced AI architectures.\n",
        "\n",
        "**AI Agent architecture**:\n",
        "https://chatgpt.com/share/67362fc6-aed8-8004-9bcd-40a1f92b184e"
      ],
      "metadata": {
        "id": "H1YxmXnZtU9W"
      },
      "id": "H1YxmXnZtU9W"
    },
    {
      "cell_type": "markdown",
      "id": "ECazzuXBOEvt",
      "metadata": {
        "id": "ECazzuXBOEvt"
      },
      "source": [
        "**Note:** Warning indicates that the title key is being generated internally, likely within LangGraph or the Gemini integration when the tool is being bound, rather than being passed explicitly. So ignore the warning.\n"
      ]
    },
    {
      "cell_type": "markdown",
      "id": "c77555a2",
      "metadata": {
        "id": "c77555a2"
      },
      "source": [
        " We use the [built-in `ToolNode`](https://langchain-ai.github.io/langgraph/reference/prebuilt/?h=tools+condition#toolnode) and simply pass a list of our tools to initialize it.\n",
        "\n",
        " We use the [built-in `tools_condition`](https://langchain-ai.github.io/langgraph/reference/prebuilt/?h=tools+condition#tools_condition) as our conditional edge."
      ]
    },
    {
      "cell_type": "code",
      "execution_count": 4,
      "id": "9a6fde4e-cceb-4426-b770-97ee4b41e9da",
      "metadata": {
        "colab": {
          "base_uri": "https://localhost:8080/",
          "height": 350
        },
        "id": "9a6fde4e-cceb-4426-b770-97ee4b41e9da",
        "outputId": "9649895f-1076-4fed-aa3e-860f2e12cdd5"
      },
      "outputs": [
        {
          "output_type": "display_data",
          "data": {
            "image/png": "[encoded data removed]",
            "text/plain": [
              "<IPython.core.display.Image object>"
            ]
          },
          "metadata": {}
        }
      ],
      "source": [
        "from IPython.display import Image, display\n",
        "from langgraph.graph import StateGraph, START, END\n",
        "from langgraph.graph import MessagesState\n",
        "from langgraph.prebuilt import ToolNode\n",
        "from langgraph.prebuilt import tools_condition\n",
        "from langgraph.graph.state import CompiledStateGraph\n",
        "\n",
        "# Node\n",
        "def tool_calling_llm(state: MessagesState) -> MessagesState:\n",
        "    return {\"messages\": [llm_with_tools.invoke(state[\"messages\"])]}\n",
        "\n",
        "# Build graph\n",
        "builder: StateGraph = StateGraph(MessagesState)\n",
        "builder.add_node(\"tool_calling_llm\", tool_calling_llm)\n",
        "builder.add_node(\"tools\", ToolNode([multiply]))\n",
        "builder.add_edge(START, \"tool_calling_llm\")\n",
        "builder.add_conditional_edges(\n",
        "    \"tool_calling_llm\",\n",
        "    # If the latest message (result) from assistant is a tool call -> tools_condition routes to tools\n",
        "    # If the latest message (result) from assistant is a not a tool call -> tools_condition routes to END\n",
        "    tools_condition,\n",
        ")\n",
        "builder.add_edge(\"tools\", END)\n",
        "graph: CompiledStateGraph = builder.compile()\n",
        "\n",
        "# View\n",
        "display(Image(graph.get_graph().draw_mermaid_png()))"
      ]
    },
    {
      "cell_type": "code",
      "execution_count": 8,
      "id": "11b608c5-0c15-4fb7-aa24-80ce5774fb85",
      "metadata": {
        "colab": {
          "base_uri": "https://localhost:8080/"
        },
        "id": "11b608c5-0c15-4fb7-aa24-80ce5774fb85",
        "outputId": "904dd0e0-24b3-4777-ed60-c2edbe2b1fa8"
      },
      "outputs": [
        {
          "output_type": "stream",
          "name": "stdout",
          "text": [
            "================================\u001b[1m Human Message \u001b[0m=================================\n",
            "\n",
            "Hello\n",
            "==================================\u001b[1m Ai Message \u001b[0m==================================\n",
            "\n",
            "Hello! How can I help you today?\n"
          ]
        }
      ],
      "source": [
        "from langchain_core.messages import HumanMessage, SystemMessage\n",
        "messages = [HumanMessage(content=\"Hello\")]\n",
        "messages = graph.invoke({\"messages\": messages})\n",
        "for m in messages['messages']:\n",
        "    m.pretty_print()"
      ]
    },
    {
      "cell_type": "code",
      "execution_count": 9,
      "id": "KZsCLCr1NVEC",
      "metadata": {
        "colab": {
          "base_uri": "https://localhost:8080/"
        },
        "id": "KZsCLCr1NVEC",
        "outputId": "f067808a-ad2b-400a-bfea-229a66e41ab5"
      },
      "outputs": [
        {
          "output_type": "stream",
          "name": "stdout",
          "text": [
            "================================\u001b[1m Human Message \u001b[0m=================================\n",
            "\n",
            "Multiply 6 and 5.\n",
            "==================================\u001b[1m Ai Message \u001b[0m==================================\n",
            "Tool Calls:\n",
            "  multiply (2f64ec9d-a562-4e34-84b3-b50bbd63c184)\n",
            " Call ID: 2f64ec9d-a562-4e34-84b3-b50bbd63c184\n",
            "  Args:\n",
            "    a: 6.0\n",
            "    b: 5.0\n",
            "=================================\u001b[1m Tool Message \u001b[0m=================================\n",
            "Name: multiply\n",
            "\n",
            "30\n"
          ]
        }
      ],
      "source": [
        "from langchain_core.messages import HumanMessage\n",
        "messages = [HumanMessage(content=\"Multiply 6 and 5.\")]\n",
        "messages = graph.invoke({\"messages\": messages})\n",
        "for m in messages['messages']:\n",
        "    m.pretty_print()"
      ]
    },
    {
      "cell_type": "markdown",
      "id": "34708377-16b6-4474-9e23-71890c1fb36e",
      "metadata": {
        "id": "34708377-16b6-4474-9e23-71890c1fb36e"
      },
      "source": [
        "Now, we can see that the graph runs the tool!\n",
        "\n",
        "It responds with a `ToolMessage`.\n",
        "\n",
        "## LangGraph Studio\n",
        "\n",
        "--\n",
        "\n",
        "**⚠️ DISCLAIMER**\n",
        "\n",
        "*Running Studio currently requires a Mac. If you are not using a Mac, then skip this step.*\n",
        "\n",
        "--\n",
        "\n",
        "Load the `router` in Studio, which uses `module-1/studio/router.py` set in `module-1/studio/langgraph.json`."
      ]
    },
    {
      "cell_type": "code",
      "execution_count": null,
      "id": "43782c33-0f41-47f2-ae38-ddb2cd4ba6f8",
      "metadata": {
        "id": "43782c33-0f41-47f2-ae38-ddb2cd4ba6f8"
      },
      "outputs": [],
      "source": []
    }
  ],
  "metadata": {
    "colab": {
      "provenance": []
    },
    "kernelspec": {
      "display_name": "Python 3 (ipykernel)",
      "language": "python",
      "name": "python3"
    },
    "language_info": {
      "codemirror_mode": {
        "name": "ipython",
        "version": 3
      },
      "file_extension": ".py",
      "mimetype": "text/x-python",
      "name": "python",
      "nbconvert_exporter": "python",
      "pygments_lexer": "ipython3",
      "version": "3.12.6"
    }
  },
  "nbformat": 4,
  "nbformat_minor": 5
}