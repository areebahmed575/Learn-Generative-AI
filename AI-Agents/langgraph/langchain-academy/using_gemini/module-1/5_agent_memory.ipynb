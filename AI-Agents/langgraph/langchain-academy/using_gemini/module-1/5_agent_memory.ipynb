{
  "cells": [
    {
      "cell_type": "markdown",
      "id": "13cd1c3e",
      "metadata": {
        "id": "13cd1c3e"
      },
      "source": [
        "[![Open in Colab](https://colab.research.google.com/assets/colab-badge.svg)](https://colab.research.google.com/github/langchain-ai/langchain-academy/blob/main/module-1/agent-memory.ipynb) [![Open in LangChain Academy](https://cdn.prod.website-files.com/65b8cd72835ceeacd4449a53/66e9eba12c7b7688aa3dbb5e_LCA-badge-green.svg)](https://academy.langchain.com/courses/take/intro-to-langgraph/lessons/58239417-lesson-7-agent-with-memory)"
      ]
    },
    {
      "cell_type": "markdown",
      "id": "8c451ffd-a18b-4412-85fa-85186824dd03",
      "metadata": {
        "id": "8c451ffd-a18b-4412-85fa-85186824dd03"
      },
      "source": [
        "# Agent memory\n",
        "\n",
        "## Review\n",
        "\n",
        "Previously, we built an agent that can:\n",
        "\n",
        "* `act` - let the model call specific tools\n",
        "* `observe` - pass the tool output back to the model\n",
        "* `reason` - let the model reason about the tool output to decide what to do next (e.g., call another tool or just respond directly)\n",
        "\n",
        "![Screenshot 2024-08-21 at 12.45.32 PM.png](https://cdn.prod.website-files.com/65b8cd72835ceeacd4449a53/66dbab7453080e6802cd1703_agent-memory1.png)\n",
        "\n",
        "## Goals\n",
        "\n",
        "Now, we're going extend our agent by introducing memory."
      ]
    },
    {
      "cell_type": "code",
      "execution_count": 1,
      "id": "d2b4b45b-cbaa-41b1-b3ed-f6b0645be3f9",
      "metadata": {
        "id": "d2b4b45b-cbaa-41b1-b3ed-f6b0645be3f9"
      },
      "outputs": [],
      "source": [
        "%%capture --no-stderr\n",
        "%pip install --quiet -U langchain_google_genai langchain_core langgraph"
      ]
    },
    {
      "cell_type": "code",
      "execution_count": 2,
      "id": "2b0cfa99",
      "metadata": {
        "id": "2b0cfa99"
      },
      "outputs": [],
      "source": [
        "from google.colab import userdata\n",
        "GEMINI_API_KEY = userdata.get('GEMINI_API_KEY')"
      ]
    },
    {
      "cell_type": "markdown",
      "id": "02eff247-a2aa-4f7a-8be1-73dfebfecc63",
      "metadata": {
        "id": "02eff247-a2aa-4f7a-8be1-73dfebfecc63"
      },
      "source": [
        "We'll use [LangSmith](https://docs.smith.langchain.com/) for [tracing](https://docs.smith.langchain.com/concepts/tracing)."
      ]
    },
    {
      "cell_type": "code",
      "execution_count": 3,
      "id": "74ef2ff0",
      "metadata": {
        "id": "74ef2ff0"
      },
      "outputs": [],
      "source": [
        "from google.colab import userdata\n",
        "LANGCHAIN_API_KEY = userdata.get('LANGCHAIN_API_KEY')"
      ]
    },
    {
      "cell_type": "markdown",
      "id": "9c5f123b-db5d-4816-a6a3-2e4247611512",
      "metadata": {
        "id": "9c5f123b-db5d-4816-a6a3-2e4247611512"
      },
      "source": [
        "This follows what we did previously."
      ]
    },
    {
      "cell_type": "code",
      "execution_count": 4,
      "id": "46647bbe-def5-4ea7-a315-1de8d97c8288",
      "metadata": {
        "collapsed": true,
        "id": "46647bbe-def5-4ea7-a315-1de8d97c8288"
      },
      "outputs": [],
      "source": [
        "from langchain_google_genai import ChatGoogleGenerativeAI\n",
        "\n",
        "def multiply(a: int, b: int) -> int:\n",
        "    \"\"\"Multiply a and b.\n",
        "\n",
        "    Args:\n",
        "        a: first int\n",
        "        b: second int\n",
        "    \"\"\"\n",
        "    return a * b\n",
        "\n",
        "# This will be a tool\n",
        "def add(a: int, b: int) -> int:\n",
        "    \"\"\"Adds a and b.\n",
        "\n",
        "    Args:\n",
        "        a: first int\n",
        "        b: second int\n",
        "    \"\"\"\n",
        "    return a + b\n",
        "\n",
        "def divide(a: int, b: int) -> float:\n",
        "    \"\"\"Divide a and b.\n",
        "\n",
        "    Args:\n",
        "        a: first int\n",
        "        b: second int\n",
        "    \"\"\"\n",
        "    return a / b\n",
        "\n",
        "tools = [add, multiply, divide]\n",
        "llm = ChatGoogleGenerativeAI(model=\"gemini-1.5-flash\", api_key = GEMINI_API_KEY)\n",
        "llm_with_tools = llm.bind_tools(tools)"
      ]
    },
    {
      "cell_type": "code",
      "execution_count": 5,
      "id": "a9092b40-20c4-4872-b0ed-be1b53a15ef3",
      "metadata": {
        "id": "a9092b40-20c4-4872-b0ed-be1b53a15ef3"
      },
      "outputs": [],
      "source": [
        "from langgraph.graph import MessagesState\n",
        "from langchain_core.messages import AIMessage, HumanMessage, SystemMessage\n",
        "\n",
        "# System message\n",
        "sys_msg = SystemMessage(content=\"You are a helpful assistant tasked with performing arithmetic on a set of inputs.\")\n",
        "\n",
        "# Node\n",
        "def assistant(state: MessagesState) -> MessagesState:\n",
        "   return {\"messages\": [llm_with_tools.invoke([sys_msg] + state[\"messages\"])]}"
      ]
    },
    {
      "cell_type": "code",
      "execution_count": 6,
      "id": "771123a3-91ac-4076-92c0-93bcd69cf048",
      "metadata": {
        "colab": {
          "base_uri": "https://localhost:8080/",
          "height": 266
        },
        "id": "771123a3-91ac-4076-92c0-93bcd69cf048",
        "outputId": "96e02dd1-5eb1-40db-fb4f-f2774df31090"
      },
      "outputs": [
        {
          "output_type": "display_data",
          "data": {
            "image/png": "[encoded data removed]",
            "text/plain": [
              "<IPython.core.display.Image object>"
            ]
          },
          "metadata": {}
        }
      ],
      "source": [
        "from langgraph.graph import START, StateGraph\n",
        "from langgraph.prebuilt import tools_condition, ToolNode\n",
        "from IPython.display import Image, display\n",
        "from langgraph.graph.state import CompiledStateGraph\n",
        "\n",
        "# Graph\n",
        "builder: StateGraph = StateGraph(MessagesState)\n",
        "\n",
        "# Define nodes: these do the work\n",
        "builder.add_node(\"assistant\", assistant)\n",
        "builder.add_node(\"tools\", ToolNode(tools))\n",
        "\n",
        "# Define edges: these determine how the control flow moves\n",
        "builder.add_edge(START, \"assistant\")\n",
        "builder.add_conditional_edges(\n",
        "    \"assistant\",\n",
        "    # If the latest message (result) from assistant is a tool call -> tools_condition routes to tools\n",
        "    # If the latest message (result) from assistant is a not a tool call -> tools_condition routes to END\n",
        "    tools_condition,\n",
        ")\n",
        "builder.add_edge(\"tools\", \"assistant\")\n",
        "react_graph: CompiledStateGraph = builder.compile()\n",
        "\n",
        "# Show\n",
        "display(Image(react_graph.get_graph(xray=True).draw_mermaid_png()))"
      ]
    },
    {
      "cell_type": "markdown",
      "id": "e830b7ae-3673-4cc6-8627-4740b7b8b217",
      "metadata": {
        "id": "e830b7ae-3673-4cc6-8627-4740b7b8b217"
      },
      "source": [
        "## Memory\n",
        "\n",
        "Let's run our agent, as before."
      ]
    },
    {
      "cell_type": "code",
      "execution_count": 7,
      "id": "596a71a0-1337-44d4-971d-f80c367bd868",
      "metadata": {
        "colab": {
          "base_uri": "https://localhost:8080/"
        },
        "id": "596a71a0-1337-44d4-971d-f80c367bd868",
        "outputId": "f45dd663-35b6-48cf-8c90-db3ff8e48a26"
      },
      "outputs": [
        {
          "output_type": "stream",
          "name": "stdout",
          "text": [
            "================================\u001b[1m Human Message \u001b[0m=================================\n",
            "\n",
            "Add 3 and 4.\n",
            "==================================\u001b[1m Ai Message \u001b[0m==================================\n",
            "Tool Calls:\n",
            "  add (5f52918b-f128-46c4-a5a3-1ac54f609640)\n",
            " Call ID: 5f52918b-f128-46c4-a5a3-1ac54f609640\n",
            "  Args:\n",
            "    a: 3.0\n",
            "    b: 4.0\n",
            "=================================\u001b[1m Tool Message \u001b[0m=================================\n",
            "Name: add\n",
            "\n",
            "7\n",
            "==================================\u001b[1m Ai Message \u001b[0m==================================\n",
            "\n",
            "The sum of 3 and 4 is 7.\n"
          ]
        }
      ],
      "source": [
        "messages = [HumanMessage(content=\"Add 3 and 4.\")]\n",
        "messages = react_graph.invoke({\"messages\": messages})\n",
        "for m in messages['messages']:\n",
        "    m.pretty_print()"
      ]
    },
    {
      "cell_type": "markdown",
      "id": "92f8128c-f4a5-4dee-b20b-3245bd33f6b3",
      "metadata": {
        "id": "92f8128c-f4a5-4dee-b20b-3245bd33f6b3"
      },
      "source": [
        "Now, let's multiply by 2!"
      ]
    },
    {
      "cell_type": "code",
      "execution_count": 8,
      "id": "b41cc1d7-e6de-4d86-8958-8cf7446f4c22",
      "metadata": {
        "colab": {
          "base_uri": "https://localhost:8080/"
        },
        "id": "b41cc1d7-e6de-4d86-8958-8cf7446f4c22",
        "outputId": "6ceb2d1c-88cf-4389-889f-1f1705aebdea"
      },
      "outputs": [
        {
          "output_type": "stream",
          "name": "stdout",
          "text": [
            "================================\u001b[1m Human Message \u001b[0m=================================\n",
            "\n",
            "Multiply that by 2.\n",
            "==================================\u001b[1m Ai Message \u001b[0m==================================\n",
            "\n",
            "I need some inputs to perform the multiplication.  Please provide the numbers you would like me to multiply by 2.\n"
          ]
        }
      ],
      "source": [
        "messages = [HumanMessage(content=\"Multiply that by 2.\")]\n",
        "messages = react_graph.invoke({\"messages\": messages})\n",
        "for m in messages['messages']:\n",
        "    m.pretty_print()"
      ]
    },
    {
      "cell_type": "markdown",
      "id": "26e65f3c-e1dc-4a62-b8ab-02b33a6ff268",
      "metadata": {
        "id": "26e65f3c-e1dc-4a62-b8ab-02b33a6ff268"
      },
      "source": [
        "We don't retain memory of 7 from our initial chat!\n",
        "\n",
        "This is because [state is transient](https://github.com/langchain-ai/langgraph/discussions/352#discussioncomment-9291220) to a single graph execution.\n",
        "\n",
        "Of course, this limits our ability to have multi-turn conversations with interruptions.\n",
        "\n",
        "We can use [persistence](https://langchain-ai.github.io/langgraph/how-tos/persistence/) to address this!\n",
        "\n",
        "LangGraph can use a checkpointer to automatically save the graph state after each step.\n",
        "\n",
        "This built-in persistence layer gives us memory, allowing LangGraph to pick up from the last state update.\n",
        "\n",
        "One of the easiest checkpointers to use is the `MemorySaver`, an in-memory key-value store for Graph state.\n",
        "\n",
        "All we need to do is simply compile the graph with a checkpointer, and our graph has memory!"
      ]
    },
    {
      "cell_type": "markdown",
      "id": "qQ2pp4kld7_Q",
      "metadata": {
        "id": "qQ2pp4kld7_Q"
      },
      "source": [
        "# Transient State vs. Steady State\n",
        "\n",
        "In computing and system behavior, we often encounter two states: transient and steady.\n",
        "\n",
        "1. **Transient State**:\n",
        "   - **Definition**: Transient state refers to the moments right after a change occurs. It's a temporary, dynamic condition.\n",
        "   - **Example**: When you start a new chat session, your memory is transient—you're catching up, refreshing your context, and getting back into the conversation groove.\n",
        "\n",
        "2. **Steady State**:\n",
        "   - **Definition**: Steady state represents a stable, predictable condition. It's when a system settles into an equilibrium.\n",
        "   - **Example**: As our chat progresses and we remember details from earlier conversations, we move toward a steady state.\n",
        "\n",
        "Remember, in a single chat session (or graph execution), we experience both transient and steady states. Each interaction contributes to our overall understanding.\n",
        "\n"
      ]
    },
    {
      "cell_type": "code",
      "execution_count": 9,
      "id": "637fcd79-3896-42e4-9131-e03b123a0a90",
      "metadata": {
        "id": "637fcd79-3896-42e4-9131-e03b123a0a90"
      },
      "outputs": [],
      "source": [
        "from langgraph.checkpoint.memory import MemorySaver\n",
        "memory: MemorySaver = MemorySaver()\n",
        "react_graph_memory: CompiledStateGraph = builder.compile(checkpointer=memory)"
      ]
    },
    {
      "cell_type": "markdown",
      "id": "ff8fc3bf-3999-47cb-af34-06b2b94d7192",
      "metadata": {
        "id": "ff8fc3bf-3999-47cb-af34-06b2b94d7192"
      },
      "source": [
        "When we use memory, we need to specify a `thread_id`.\n",
        "\n",
        "This `thread_id` will store our memory location of graph states collection.\n",
        "\n",
        "Here is a cartoon:\n",
        "\n",
        "* The checkpointer write the state at every step of the graph\n",
        "* These checkpoints are saved in a thread\n",
        "* We can access that thread in the future using the `thread_id`\n",
        "\n",
        "![state.jpg](https://cdn.prod.website-files.com/65b8cd72835ceeacd4449a53/66e0e9f526b41a4ed9e2d28b_agent-memory2.png)\n",
        "\n",
        "![state.png](https://github.com/panaversity/learn-agentic-ai-fundamentals/blob/main/03_langchain_ecosystem/langgraph/course-notebooks/module-1/image.png)\n"
      ]
    },
    {
      "cell_type": "code",
      "source": [
        "# Specify a thread\n",
        "config1 = {\"configurable\": {\"thread_id\": \"1\"}}\n"
      ],
      "metadata": {
        "id": "ajK8ORW_s1f7"
      },
      "id": "ajK8ORW_s1f7",
      "execution_count": 10,
      "outputs": []
    },
    {
      "cell_type": "code",
      "execution_count": 11,
      "id": "f722a1d6-e73c-4023-86ed-8b07d392278d",
      "metadata": {
        "colab": {
          "base_uri": "https://localhost:8080/"
        },
        "id": "f722a1d6-e73c-4023-86ed-8b07d392278d",
        "outputId": "ecc766c2-e848-44b5-f30b-5da563399dca"
      },
      "outputs": [
        {
          "output_type": "stream",
          "name": "stdout",
          "text": [
            "================================\u001b[1m Human Message \u001b[0m=================================\n",
            "\n",
            "Add 3 and 4.\n",
            "==================================\u001b[1m Ai Message \u001b[0m==================================\n",
            "Tool Calls:\n",
            "  add (0bb4a9ff-bbe8-4c49-8e23-e37203c2b0b3)\n",
            " Call ID: 0bb4a9ff-bbe8-4c49-8e23-e37203c2b0b3\n",
            "  Args:\n",
            "    a: 3.0\n",
            "    b: 4.0\n",
            "=================================\u001b[1m Tool Message \u001b[0m=================================\n",
            "Name: add\n",
            "\n",
            "7\n",
            "==================================\u001b[1m Ai Message \u001b[0m==================================\n",
            "\n",
            "The sum of 3 and 4 is 7.\n"
          ]
        }
      ],
      "source": [
        "\n",
        "\n",
        "# Specify an input\n",
        "messages = [HumanMessage(content=\"Add 3 and 4.\")]\n",
        "\n",
        "# Run\n",
        "messages = react_graph_memory.invoke({\"messages\": messages},config1)\n",
        "for m in messages['messages']:\n",
        "    m.pretty_print()"
      ]
    },
    {
      "cell_type": "markdown",
      "id": "c91a8a16-6bf1-48e2-a889-ae04a37c7a2b",
      "metadata": {
        "id": "c91a8a16-6bf1-48e2-a889-ae04a37c7a2b"
      },
      "source": [
        "If we pass the same `thread_id`, then we can proceed from the previously logged state checkpoint!\n",
        "\n",
        "In this case, the above conversation is captured in the thread.\n",
        "\n",
        "The `HumanMessage` we pass (`\"Multiply that by 2.\"`) is appended to the above conversation.\n",
        "\n",
        "So, the model now know that `that` refers to the `The sum of 3 and 4 is 7.`."
      ]
    },
    {
      "cell_type": "code",
      "execution_count": 12,
      "id": "ee38c6ef-8bfb-4c66-9214-6f474c9b8451",
      "metadata": {
        "colab": {
          "base_uri": "https://localhost:8080/"
        },
        "id": "ee38c6ef-8bfb-4c66-9214-6f474c9b8451",
        "outputId": "7f40e484-c600-4919-f859-9e60d0b744a6"
      },
      "outputs": [
        {
          "output_type": "stream",
          "name": "stdout",
          "text": [
            "================================\u001b[1m Human Message \u001b[0m=================================\n",
            "\n",
            "Add 3 and 4.\n",
            "==================================\u001b[1m Ai Message \u001b[0m==================================\n",
            "Tool Calls:\n",
            "  add (0bb4a9ff-bbe8-4c49-8e23-e37203c2b0b3)\n",
            " Call ID: 0bb4a9ff-bbe8-4c49-8e23-e37203c2b0b3\n",
            "  Args:\n",
            "    a: 3.0\n",
            "    b: 4.0\n",
            "=================================\u001b[1m Tool Message \u001b[0m=================================\n",
            "Name: add\n",
            "\n",
            "7\n",
            "==================================\u001b[1m Ai Message \u001b[0m==================================\n",
            "\n",
            "The sum of 3 and 4 is 7.\n",
            "================================\u001b[1m Human Message \u001b[0m=================================\n",
            "\n",
            "Multiply that by 2.\n",
            "==================================\u001b[1m Ai Message \u001b[0m==================================\n",
            "Tool Calls:\n",
            "  multiply (8401d5de-aaea-4ce2-bcf5-27e2ca19ddb3)\n",
            " Call ID: 8401d5de-aaea-4ce2-bcf5-27e2ca19ddb3\n",
            "  Args:\n",
            "    a: 7.0\n",
            "    b: 2.0\n",
            "=================================\u001b[1m Tool Message \u001b[0m=================================\n",
            "Name: multiply\n",
            "\n",
            "14\n",
            "==================================\u001b[1m Ai Message \u001b[0m==================================\n",
            "\n",
            "The result is 14.\n"
          ]
        }
      ],
      "source": [
        "messages = [HumanMessage(content=\"Multiply that by 2.\")]\n",
        "messages = react_graph_memory.invoke({\"messages\": messages}, config1)\n",
        "for m in messages['messages']:\n",
        "    m.pretty_print()"
      ]
    },
    {
      "cell_type": "markdown",
      "id": "c4b7774e-566f-4c92-9429-ed953bcacaa5",
      "metadata": {
        "id": "c4b7774e-566f-4c92-9429-ed953bcacaa5"
      },
      "source": [
        "## LangGraph Studio\n",
        "\n",
        "--\n",
        "\n",
        "**⚠️ DISCLAIMER**\n",
        "\n",
        "*Running Studio currently requires a Mac. If you are not using a Mac, then skip this step.*\n",
        "\n",
        "--\n",
        "\n",
        "Load the `agent` in the UI, which uses `module-1/studio/agent.py` set in `module-1/studio/langgraph.json`."
      ]
    },
    {
      "cell_type": "code",
      "execution_count": null,
      "id": "6d72986c-ff6f-4f81-b585-d268e2710e53",
      "metadata": {
        "id": "6d72986c-ff6f-4f81-b585-d268e2710e53"
      },
      "outputs": [],
      "source": []
    }
  ],
  "metadata": {
    "colab": {
      "provenance": []
    },
    "kernelspec": {
      "display_name": "Python 3 (ipykernel)",
      "language": "python",
      "name": "python3"
    },
    "language_info": {
      "codemirror_mode": {
        "name": "ipython",
        "version": 3
      },
      "file_extension": ".py",
      "mimetype": "text/x-python",
      "name": "python",
      "nbconvert_exporter": "python",
      "pygments_lexer": "ipython3",
      "version": "3.12.1"
    }
  },
  "nbformat": 4,
  "nbformat_minor": 5
}