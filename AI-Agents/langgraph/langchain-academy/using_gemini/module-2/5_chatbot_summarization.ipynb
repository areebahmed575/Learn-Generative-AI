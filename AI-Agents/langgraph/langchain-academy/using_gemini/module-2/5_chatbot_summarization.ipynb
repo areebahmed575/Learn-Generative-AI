{
  "cells": [
    {
      "cell_type": "markdown",
      "id": "b651ead9-5504-45ee-938d-f91ac78dddd1",
      "metadata": {
        "id": "b651ead9-5504-45ee-938d-f91ac78dddd1"
      },
      "source": [
        "# Chatbot with message summarization\n",
        "\n",
        "## Review\n",
        "\n",
        "We've covered how to customize graph state schema and reducer.\n",
        "\n",
        "We've also shown a number of ways to trim or filter messages in graph state.\n",
        "\n",
        "## Goals\n",
        "\n",
        "Now, let's take it one step further!\n",
        "\n",
        "Rather than just trimming or filtering messages, we'll show how to use LLMs to produce a running summary of the conversation.\n",
        "\n",
        "This allows us to retain a compressed representation of the full conversation, rather than just removing it with trimming or filtering.\n",
        "\n",
        "We'll incorporate this summarization into a simple Chatbot.  \n",
        "\n",
        "And we'll equip that Chatbot with memory, supporting long-running conversations without incurring high token cost / latency."
      ]
    },
    {
      "cell_type": "code",
      "execution_count": 1,
      "id": "000a6daa-92ad-4e57-a060-d1c81176eb0d",
      "metadata": {
        "id": "000a6daa-92ad-4e57-a060-d1c81176eb0d"
      },
      "outputs": [],
      "source": [
        "%%capture --no-stderr\n",
        "%pip install --quiet -U langchain_core langgraph langchain_google_genai"
      ]
    },
    {
      "cell_type": "code",
      "execution_count": 2,
      "id": "e39c0535",
      "metadata": {
        "id": "e39c0535"
      },
      "outputs": [],
      "source": [
        "from google.colab import userdata\n",
        "google_api_key = userdata.get('GEMINI_API_KEY')"
      ]
    },
    {
      "cell_type": "markdown",
      "id": "dfddfce9-3a9b-4b35-a76d-28265515aabd",
      "metadata": {
        "id": "dfddfce9-3a9b-4b35-a76d-28265515aabd"
      },
      "source": [
        "We'll use [LangSmith](https://docs.smith.langchain.com/) for [tracing](https://docs.smith.langchain.com/concepts/tracing)."
      ]
    },
    {
      "cell_type": "code",
      "execution_count": 3,
      "id": "464856d4",
      "metadata": {
        "id": "464856d4"
      },
      "outputs": [],
      "source": [
        "import os\n",
        "os.environ[\"LANGCHAIN_TRACING_V2\"] = \"true\"\n",
        "os.environ[\"LANGCHAIN_PROJECT\"] = \"langchain-academy\""
      ]
    },
    {
      "cell_type": "code",
      "execution_count": 4,
      "id": "6544ba0f",
      "metadata": {
        "colab": {
          "base_uri": "https://localhost:8080/"
        },
        "id": "6544ba0f",
        "outputId": "52fa0444-9a36-420b-d549-a3d71fd97e56"
      },
      "outputs": [
        {
          "output_type": "stream",
          "name": "stderr",
          "text": [
            "/usr/local/lib/python3.12/dist-packages/langsmith/client.py:272: LangSmithMissingAPIKeyWarning: API key must be provided when using hosted LangSmith API\n",
            "  warnings.warn(\n",
            "WARNING:langsmith.client:Failed to multipart ingest runs: langsmith.utils.LangSmithAuthError: Authentication failed for https://api.smith.langchain.com/runs/multipart. HTTPError('401 Client Error: Unauthorized for url: https://api.smith.langchain.com/runs/multipart', '{\"error\":\"Unauthorized\"}\\n')trace=61c3a72b-8b71-4389-825c-32dd1303bae3,id=61c3a72b-8b71-4389-825c-32dd1303bae3\n"
          ]
        },
        {
          "output_type": "execute_result",
          "data": {
            "text/plain": [
              "AIMessage(content='Hi there! How can I help you today?', additional_kwargs={}, response_metadata={'prompt_feedback': {'block_reason': 0, 'safety_ratings': []}, 'finish_reason': 'STOP', 'model_name': 'gemini-1.5-flash', 'safety_ratings': []}, id='run--61c3a72b-8b71-4389-825c-32dd1303bae3-0', usage_metadata={'input_tokens': 1, 'output_tokens': 11, 'total_tokens': 12, 'input_token_details': {'cache_read': 0}})"
            ]
          },
          "metadata": {},
          "execution_count": 4
        }
      ],
      "source": [
        "from langchain_google_genai import ChatGoogleGenerativeAI\n",
        "model: ChatGoogleGenerativeAI = ChatGoogleGenerativeAI(model = \"gemini-1.5-flash\",api_key = google_api_key)\n",
        "model.invoke(\"hi\")"
      ]
    },
    {
      "cell_type": "markdown",
      "id": "db3afac3-8b7a-45db-a3c1-7e4125c1bc8b",
      "metadata": {
        "id": "db3afac3-8b7a-45db-a3c1-7e4125c1bc8b"
      },
      "source": [
        "We'll use `MessagesState`, as before.\n",
        "\n",
        "In addition to the built-in `messages` key, we'll now include a custom key (`summary`)."
      ]
    },
    {
      "cell_type": "code",
      "execution_count": 5,
      "id": "948e60f0-5c76-4235-b40e-cf523205d40e",
      "metadata": {
        "id": "948e60f0-5c76-4235-b40e-cf523205d40e"
      },
      "outputs": [],
      "source": [
        "from langgraph.graph import MessagesState\n",
        "\n",
        "\n",
        "class State(MessagesState):\n",
        "    summary: str"
      ]
    },
    {
      "cell_type": "markdown",
      "id": "6855ea31-5cc1-4277-a189-0b72459f67ec",
      "metadata": {
        "id": "6855ea31-5cc1-4277-a189-0b72459f67ec"
      },
      "source": [
        "We'll define a node to call our LLM that incorporates a summary, if it exists, into the prompt."
      ]
    },
    {
      "cell_type": "code",
      "execution_count": 6,
      "id": "c3f7d19b-afe0-4381-9b1a-0a832b162e7b",
      "metadata": {
        "id": "c3f7d19b-afe0-4381-9b1a-0a832b162e7b"
      },
      "outputs": [],
      "source": [
        "from langchain_core.messages import SystemMessage, HumanMessage, RemoveMessage\n",
        "\n",
        "# Define the logic to call the model\n",
        "def call_model(state: State) -> State:\n",
        "\n",
        "    # Get summary if it exists and if it not exists then it return empty string\n",
        "    summary = state.get(\"summary\", \"\")\n",
        "\n",
        "    # If there is summary, then we add it\n",
        "    if summary:\n",
        "\n",
        "        # Add summary to system message\n",
        "        system_message = f\"Summary of conversation earlier: {summary}\"\n",
        "\n",
        "        # Append summary to any newer messages\n",
        "        messages = [SystemMessage(content=system_message)] + state[\"messages\"]\n",
        "\n",
        "    else:\n",
        "        messages = state[\"messages\"]\n",
        "\n",
        "    response = model.invoke(messages)\n",
        "    return {\"messages\": response}"
      ]
    },
    {
      "cell_type": "markdown",
      "id": "6882042c-b42d-4d52-a6a7-6ec8efa72450",
      "metadata": {
        "id": "6882042c-b42d-4d52-a6a7-6ec8efa72450"
      },
      "source": [
        "We'll define a node to produce a summary.\n",
        "\n",
        "Note, here we'll use `RemoveMessage` to filter our state after we've produced the summary."
      ]
    },
    {
      "cell_type": "code",
      "execution_count": 7,
      "id": "78c7aa59-3760-4e76-93f1-bc713e3ec39e",
      "metadata": {
        "id": "78c7aa59-3760-4e76-93f1-bc713e3ec39e"
      },
      "outputs": [],
      "source": [
        "def summarize_conversation(state: State):\n",
        "\n",
        "    # First, we get any existing summary\n",
        "    summary = state.get(\"summary\", \"\")\n",
        "    # If \"summary\" is present in state, it returns the stored summary string.\n",
        "    # If \"summary\" is missing, it returns \"\" (an empty string) instead of throwing a KeyError.\n",
        "\n",
        "    # Create our summarization prompt\n",
        "    if summary:\n",
        "\n",
        "        # A summary already exists\n",
        "        summary_message = (\n",
        "            f\"This is summary of the conversation to date: {summary}\\n\\n\"\n",
        "            \"Extend the summary by taking into account the new messages above:\"\n",
        "        )\n",
        "\n",
        "    else:\n",
        "        summary_message = \"Create a summary of the conversation above:\"\n",
        "\n",
        "    # Add prompt to our history\n",
        "    messages = state[\"messages\"] + [HumanMessage(content=summary_message)]\n",
        "    response = model.invoke(messages)\n",
        "\n",
        "    # Delete all but the 2 most recent messages\n",
        "    delete_messages = [RemoveMessage(id=m.id) for m in state[\"messages\"][:-2]]\n",
        "    return {\"summary\": response.content, \"messages\": delete_messages}"
      ]
    },
    {
      "cell_type": "markdown",
      "id": "f982993e-f4be-4ff7-9a38-886f75398b3d",
      "metadata": {
        "id": "f982993e-f4be-4ff7-9a38-886f75398b3d"
      },
      "source": [
        "We'll add a conditional edge to determine whether to produce a summary based on the conversation length."
      ]
    },
    {
      "cell_type": "code",
      "execution_count": 8,
      "id": "b507665d-7f5d-442a-b498-218c94c5dd8b",
      "metadata": {
        "id": "b507665d-7f5d-442a-b498-218c94c5dd8b"
      },
      "outputs": [],
      "source": [
        "from langgraph.graph import END\n",
        "# Determine whether to end or summarize the conversation\n",
        "def should_continue(state: State):\n",
        "\n",
        "    \"\"\"Return the next node to execute.\"\"\"\n",
        "\n",
        "    messages = state[\"messages\"]\n",
        "\n",
        "    # If there are more than six messages, then we summarize the conversation\n",
        "    if len(messages) > 6:\n",
        "        return \"summarize_conversation\"\n",
        "\n",
        "    # Otherwise we can just end\n",
        "    return END"
      ]
    },
    {
      "cell_type": "markdown",
      "id": "5a838f4c-7067-4f7f-a4c4-6654e11214cd",
      "metadata": {
        "id": "5a838f4c-7067-4f7f-a4c4-6654e11214cd"
      },
      "source": [
        "## Adding memory\n",
        "\n",
        "Recall that [state is transient](https://github.com/langchain-ai/langgraph/discussions/352#discussioncomment-9291220) to a single graph execution.\n",
        "\n",
        "This limits our ability to have multi-turn conversations with interruptions.\n",
        "\n",
        "As introduced at the end of Module 1, we can use [persistence](https://langchain-ai.github.io/langgraph/how-tos/persistence/) to address this!\n",
        "\n",
        "LangGraph can use a checkpointer to automatically save the graph state after each step.\n",
        "\n",
        "This built-in persistence layer gives us memory, allowing LangGraph to pick up from the last state update.\n",
        "\n",
        "As we previously showed, one of the easiest to work with is `MemorySaver`, an in-memory key-value store for Graph state.\n",
        "\n",
        "All we need to do is compile the graph with a checkpointer, and our graph has memory!"
      ]
    },
    {
      "cell_type": "code",
      "execution_count": 9,
      "id": "1d57516d-f9f1-4d3c-a84a-7277b5ce6df6",
      "metadata": {
        "colab": {
          "base_uri": "https://localhost:8080/",
          "height": 281
        },
        "id": "1d57516d-f9f1-4d3c-a84a-7277b5ce6df6",
        "outputId": "bdd54dc4-939a-433e-a9a6-109fbb000bc3"
      },
      "outputs": [
        {
          "output_type": "display_data",
          "data": {
            "image/png": "[encoded data removed]",
            "text/plain": [
              "<IPython.core.display.Image object>"
            ]
          },
          "metadata": {}
        }
      ],
      "source": [
        "from IPython.display import Image, display\n",
        "from langgraph.checkpoint.memory import MemorySaver\n",
        "from langgraph.graph import StateGraph, START\n",
        "from langgraph.graph.state import CompiledStateGraph\n",
        "\n",
        "# Define a new graph\n",
        "workflow: StateGraph = StateGraph(State)\n",
        "workflow.add_node(\"conversation\", call_model)\n",
        "workflow.add_node(summarize_conversation)\n",
        "\n",
        "# Set the entrypoint as conversation\n",
        "workflow.add_edge(START, \"conversation\")\n",
        "workflow.add_conditional_edges(\"conversation\", should_continue)\n",
        "workflow.add_edge(\"summarize_conversation\", END)\n",
        "\n",
        "# Compile\n",
        "memory: MemorySaver = MemorySaver()\n",
        "graph: CompiledStateGraph = workflow.compile(checkpointer=memory)\n",
        "display(Image(graph.get_graph().draw_mermaid_png()))"
      ]
    },
    {
      "cell_type": "markdown",
      "id": "d0bd5d23-ac3b-4496-a049-9a9f97d2feb9",
      "metadata": {
        "id": "d0bd5d23-ac3b-4496-a049-9a9f97d2feb9"
      },
      "source": [
        "## Threads\n",
        "\n",
        "The checkpointer saves the state at each step as a checkpoint.\n",
        "\n",
        "These saved checkpoints can be grouped into a `thread` of conversation.\n",
        "\n",
        "Think about Slack as an analog: different channels carry different conversations.\n",
        "\n",
        "Threads are like Slack channels, capturing grouped collections of state (e.g., conversation).\n",
        "\n",
        "Below, we use `configurable` to set a thread ID.\n",
        "\n",
        "![state.jpg](https://cdn.prod.website-files.com/65b8cd72835ceeacd4449a53/66dbadf3b379c2ee621adfd1_chatbot-summarization1.png)"
      ]
    },
    {
      "cell_type": "code",
      "execution_count": 10,
      "id": "2566c93b-13e6-4a53-bc0f-b00fff691d30",
      "metadata": {
        "colab": {
          "base_uri": "https://localhost:8080/"
        },
        "id": "2566c93b-13e6-4a53-bc0f-b00fff691d30",
        "outputId": "b07f4de1-cd8c-4dec-e780-d8e22b17f53a"
      },
      "outputs": [
        {
          "output_type": "stream",
          "name": "stdout",
          "text": [
            "==================================\u001b[1m Ai Message \u001b[0m==================================\n",
            "\n",
            "Hi Lance! Nice to meet you.  How can I help you today?\n",
            "==================================\u001b[1m Ai Message \u001b[0m==================================\n",
            "\n",
            "Your name is Lance.\n",
            "==================================\u001b[1m Ai Message \u001b[0m==================================\n",
            "\n",
            "That's great!  Go Niners!  Are you looking forward to the upcoming season?\n"
          ]
        }
      ],
      "source": [
        "# Create a thread\n",
        "config = {\"configurable\": {\"thread_id\": \"1\"}}\n",
        "\n",
        "# Start conversation\n",
        "input_message = HumanMessage(content=\"hi! I'm Lance\")\n",
        "output = graph.invoke({\"messages\": [input_message]}, config)\n",
        "for m in output['messages'][-1:]:\n",
        "    m.pretty_print()\n",
        "\n",
        "input_message = HumanMessage(content=\"what's my name?\")\n",
        "output = graph.invoke({\"messages\": [input_message]}, config)\n",
        "for m in output['messages'][-1:]:\n",
        "    m.pretty_print()\n",
        "\n",
        "input_message = HumanMessage(content=\"i like the 49ers!\")\n",
        "output = graph.invoke({\"messages\": [input_message]}, config)\n",
        "for m in output['messages'][-1:]:\n",
        "    m.pretty_print()"
      ]
    },
    {
      "cell_type": "markdown",
      "id": "531e5b63-5e8b-486e-baa0-a45521e2fbc2",
      "metadata": {
        "id": "531e5b63-5e8b-486e-baa0-a45521e2fbc2"
      },
      "source": [
        "Now, we don't yet have a summary of the state because we still have < = 6 messages.\n",
        "\n",
        "This was set in `should_continue`.\n",
        "\n",
        "```\n",
        "    # If there are more than six messages, then we summarize the conversation\n",
        "    if len(messages) > 6:\n",
        "        return \"summarize_conversation\"\n",
        "```\n",
        "\n",
        "We can pick up the conversation because we have the thread."
      ]
    },
    {
      "cell_type": "code",
      "execution_count": 11,
      "id": "91b82aaa-17f9-49e2-9528-f4b22e23ebcb",
      "metadata": {
        "colab": {
          "base_uri": "https://localhost:8080/",
          "height": 35
        },
        "id": "91b82aaa-17f9-49e2-9528-f4b22e23ebcb",
        "outputId": "eaac6f43-eb2a-4eba-8feb-fb46699e48cf"
      },
      "outputs": [
        {
          "output_type": "execute_result",
          "data": {
            "text/plain": [
              "''"
            ],
            "application/vnd.google.colaboratory.intrinsic+json": {
              "type": "string"
            }
          },
          "metadata": {},
          "execution_count": 11
        }
      ],
      "source": [
        "graph.get_state(config).values.get(\"summary\",\"\")"
      ]
    },
    {
      "cell_type": "markdown",
      "id": "068a93e9-f716-4980-8edf-94115017d865",
      "metadata": {
        "id": "068a93e9-f716-4980-8edf-94115017d865"
      },
      "source": [
        "The `config` with thread ID allows us to proceed from the previously logged state!"
      ]
    },
    {
      "cell_type": "code",
      "execution_count": 12,
      "id": "24b34f0f-62ef-4008-8e96-480cbe92ea3e",
      "metadata": {
        "colab": {
          "base_uri": "https://localhost:8080/"
        },
        "id": "24b34f0f-62ef-4008-8e96-480cbe92ea3e",
        "outputId": "c85a75df-1ebf-4a45-defb-e6e47554005b"
      },
      "outputs": [
        {
          "output_type": "stream",
          "name": "stderr",
          "text": [
            "WARNING:langsmith.client:Failed to send compressed multipart ingest: langsmith.utils.LangSmithAuthError: Authentication failed for https://api.smith.langchain.com/runs/multipart. HTTPError('401 Client Error: Unauthorized for url: https://api.smith.langchain.com/runs/multipart', '{\"error\":\"Unauthorized\"}\\n')trace=15d43dfd-a17d-41f7-ae17-93640c02fcbf,id=15d43dfd-a17d-41f7-ae17-93640c02fcbf; trace=15d43dfd-a17d-41f7-ae17-93640c02fcbf,id=ed242690-9b5c-41c6-a3ab-94c094d3bbe5; trace=15d43dfd-a17d-41f7-ae17-93640c02fcbf,id=27273ba1-f335-4210-ab34-9ebcedbea50e\n",
            "WARNING:langsmith.client:Failed to send compressed multipart ingest: langsmith.utils.LangSmithAuthError: Authentication failed for https://api.smith.langchain.com/runs/multipart. HTTPError('401 Client Error: Unauthorized for url: https://api.smith.langchain.com/runs/multipart', '{\"error\":\"Unauthorized\"}\\n')trace=15d43dfd-a17d-41f7-ae17-93640c02fcbf,id=27273ba1-f335-4210-ab34-9ebcedbea50e; trace=15d43dfd-a17d-41f7-ae17-93640c02fcbf,id=b2103312-38be-4396-b922-e9f626ed4399; trace=15d43dfd-a17d-41f7-ae17-93640c02fcbf,id=b2103312-38be-4396-b922-e9f626ed4399; trace=15d43dfd-a17d-41f7-ae17-93640c02fcbf,id=ed242690-9b5c-41c6-a3ab-94c094d3bbe5; trace=15d43dfd-a17d-41f7-ae17-93640c02fcbf,id=a64d3b45-57a6-46d2-ba1c-e025770e6f9c; trace=15d43dfd-a17d-41f7-ae17-93640c02fcbf,id=8cc0b6b3-9390-4799-a6ba-13ec781bc596\n"
          ]
        },
        {
          "output_type": "stream",
          "name": "stdout",
          "text": [
            "==================================\u001b[1m Ai Message \u001b[0m==================================\n",
            "\n",
            "Nick Bosa is incredibly talented, and he *was* the highest-paid defensive player in the NFL for a while after signing his massive contract extension.  However,  depending on the exact timing of when you ask,  that might have changed with other players signing new deals.  The highest-paid player title in the NFL shifts frequently with new contracts.\n"
          ]
        }
      ],
      "source": [
        "input_message = HumanMessage(content=\"i like Nick Bosa, isn't he the highest paid defensive player?\")\n",
        "output = graph.invoke({\"messages\": [input_message]}, config)\n",
        "for m in output['messages'][-1:]:\n",
        "    m.pretty_print()"
      ]
    },
    {
      "cell_type": "code",
      "source": [
        "output"
      ],
      "metadata": {
        "id": "2PDdzspUfbRH",
        "outputId": "60665dae-be89-4db4-8d6f-1b6b2b9ffda4",
        "colab": {
          "base_uri": "https://localhost:8080/"
        }
      },
      "id": "2PDdzspUfbRH",
      "execution_count": 21,
      "outputs": [
        {
          "output_type": "execute_result",
          "data": {
            "text/plain": [
              "{'messages': [HumanMessage(content=\"i like Nick Bosa, isn't he the highest paid defensive player?\", additional_kwargs={}, response_metadata={}, id='a88ea0e8-2950-413d-a987-a3ebf899cab7'),\n",
              "  AIMessage(content='Nick Bosa is incredibly talented, and he *was* the highest-paid defensive player in the NFL for a while after signing his massive contract extension.  However,  depending on the exact timing of when you ask,  that might have changed with other players signing new deals.  The highest-paid player title in the NFL shifts frequently with new contracts.', additional_kwargs={}, response_metadata={'prompt_feedback': {'block_reason': 0, 'safety_ratings': []}, 'finish_reason': 'STOP', 'model_name': 'gemini-1.5-flash', 'safety_ratings': []}, id='run--27273ba1-f335-4210-ab34-9ebcedbea50e-0', usage_metadata={'input_tokens': 77, 'output_tokens': 74, 'total_tokens': 151, 'input_token_details': {'cache_read': 0}})],\n",
              " 'summary': 'The conversation began with introductions, where I identified the user as Lance.  Lance then expressed his fandom of the San Francisco 49ers and specifically mentioned his appreciation for Nick Bosa, questioning whether Bosa holds the title of highest-paid defensive player. I responded affirmatively, but with the caveat that this is a fluid situation subject to change with new NFL contracts.'}"
            ]
          },
          "metadata": {},
          "execution_count": 21
        }
      ]
    },
    {
      "cell_type": "code",
      "source": [
        "output['messages']"
      ],
      "metadata": {
        "id": "vxuPB3EijfiP",
        "outputId": "540a46e8-4cb6-4198-a836-fd08481282ae",
        "colab": {
          "base_uri": "https://localhost:8080/"
        }
      },
      "id": "vxuPB3EijfiP",
      "execution_count": 35,
      "outputs": [
        {
          "output_type": "execute_result",
          "data": {
            "text/plain": [
              "[HumanMessage(content=\"i like Nick Bosa, isn't he the highest paid defensive player?\", additional_kwargs={}, response_metadata={}, id='a88ea0e8-2950-413d-a987-a3ebf899cab7'),\n",
              " AIMessage(content='Nick Bosa is incredibly talented, and he *was* the highest-paid defensive player in the NFL for a while after signing his massive contract extension.  However,  depending on the exact timing of when you ask,  that might have changed with other players signing new deals.  The highest-paid player title in the NFL shifts frequently with new contracts.', additional_kwargs={}, response_metadata={'prompt_feedback': {'block_reason': 0, 'safety_ratings': []}, 'finish_reason': 'STOP', 'model_name': 'gemini-1.5-flash', 'safety_ratings': []}, id='run--27273ba1-f335-4210-ab34-9ebcedbea50e-0', usage_metadata={'input_tokens': 77, 'output_tokens': 74, 'total_tokens': 151, 'input_token_details': {'cache_read': 0}})]"
            ]
          },
          "metadata": {},
          "execution_count": 35
        }
      ]
    },
    {
      "cell_type": "code",
      "source": [
        "output['summary']"
      ],
      "metadata": {
        "id": "H43ElWwseizr",
        "outputId": "bfc8c80b-a475-4239-abbd-fe0e79a6299c",
        "colab": {
          "base_uri": "https://localhost:8080/",
          "height": 70
        }
      },
      "id": "H43ElWwseizr",
      "execution_count": 20,
      "outputs": [
        {
          "output_type": "execute_result",
          "data": {
            "text/plain": [
              "'The conversation began with introductions, where I identified the user as Lance.  Lance then expressed his fandom of the San Francisco 49ers and specifically mentioned his appreciation for Nick Bosa, questioning whether Bosa holds the title of highest-paid defensive player. I responded affirmatively, but with the caveat that this is a fluid situation subject to change with new NFL contracts.'"
            ],
            "application/vnd.google.colaboratory.intrinsic+json": {
              "type": "string"
            }
          },
          "metadata": {},
          "execution_count": 20
        }
      ]
    },
    {
      "cell_type": "code",
      "source": [
        "graph.get_state(config)"
      ],
      "metadata": {
        "id": "A6roYu5Ef88K",
        "outputId": "8556bae3-15c9-49cc-c871-41374d7ba477",
        "colab": {
          "base_uri": "https://localhost:8080/"
        }
      },
      "id": "A6roYu5Ef88K",
      "execution_count": 23,
      "outputs": [
        {
          "output_type": "execute_result",
          "data": {
            "text/plain": [
              "StateSnapshot(values={'messages': [HumanMessage(content=\"i like Nick Bosa, isn't he the highest paid defensive player?\", additional_kwargs={}, response_metadata={}, id='a88ea0e8-2950-413d-a987-a3ebf899cab7'), AIMessage(content='Nick Bosa is incredibly talented, and he *was* the highest-paid defensive player in the NFL for a while after signing his massive contract extension.  However,  depending on the exact timing of when you ask,  that might have changed with other players signing new deals.  The highest-paid player title in the NFL shifts frequently with new contracts.', additional_kwargs={}, response_metadata={'prompt_feedback': {'block_reason': 0, 'safety_ratings': []}, 'finish_reason': 'STOP', 'model_name': 'gemini-1.5-flash', 'safety_ratings': []}, id='run--27273ba1-f335-4210-ab34-9ebcedbea50e-0', usage_metadata={'input_tokens': 77, 'output_tokens': 74, 'total_tokens': 151, 'input_token_details': {'cache_read': 0}})], 'summary': 'The conversation began with introductions, where I identified the user as Lance.  Lance then expressed his fandom of the San Francisco 49ers and specifically mentioned his appreciation for Nick Bosa, questioning whether Bosa holds the title of highest-paid defensive player. I responded affirmatively, but with the caveat that this is a fluid situation subject to change with new NFL contracts.'}, next=(), config={'configurable': {'thread_id': '1', 'checkpoint_ns': '', 'checkpoint_id': '1f0875ed-8b0d-6653-800b-455d4b79b145'}}, metadata={'source': 'loop', 'step': 11, 'parents': {}}, created_at='2025-09-01T18:09:48.062863+00:00', parent_config={'configurable': {'thread_id': '1', 'checkpoint_ns': '', 'checkpoint_id': '1f0875ed-82e9-6f3a-800a-35b2d7731b05'}}, tasks=(), interrupts=())"
            ]
          },
          "metadata": {},
          "execution_count": 23
        }
      ]
    },
    {
      "cell_type": "code",
      "source": [
        "graph.get_state(config).values[\"messages\"]"
      ],
      "metadata": {
        "id": "LA4oKblNl_YJ",
        "outputId": "be593b89-3b67-45ac-c81c-81b6bc61b05e",
        "colab": {
          "base_uri": "https://localhost:8080/"
        }
      },
      "id": "LA4oKblNl_YJ",
      "execution_count": 38,
      "outputs": [
        {
          "output_type": "execute_result",
          "data": {
            "text/plain": [
              "[HumanMessage(content=\"i like Nick Bosa, isn't he the highest paid defensive player?\", additional_kwargs={}, response_metadata={}, id='a88ea0e8-2950-413d-a987-a3ebf899cab7'),\n",
              " AIMessage(content='Nick Bosa is incredibly talented, and he *was* the highest-paid defensive player in the NFL for a while after signing his massive contract extension.  However,  depending on the exact timing of when you ask,  that might have changed with other players signing new deals.  The highest-paid player title in the NFL shifts frequently with new contracts.', additional_kwargs={}, response_metadata={'prompt_feedback': {'block_reason': 0, 'safety_ratings': []}, 'finish_reason': 'STOP', 'model_name': 'gemini-1.5-flash', 'safety_ratings': []}, id='run--27273ba1-f335-4210-ab34-9ebcedbea50e-0', usage_metadata={'input_tokens': 77, 'output_tokens': 74, 'total_tokens': 151, 'input_token_details': {'cache_read': 0}})]"
            ]
          },
          "metadata": {},
          "execution_count": 38
        }
      ]
    },
    {
      "cell_type": "code",
      "source": [
        "graph.get_state(config).values[\"summary\"]"
      ],
      "metadata": {
        "id": "HmSGfRIRlqJb",
        "outputId": "e075d93a-cdd9-4dd7-a07b-cc8dce0b90ef",
        "colab": {
          "base_uri": "https://localhost:8080/",
          "height": 70
        }
      },
      "id": "HmSGfRIRlqJb",
      "execution_count": 37,
      "outputs": [
        {
          "output_type": "execute_result",
          "data": {
            "text/plain": [
              "'The conversation began with introductions, where I identified the user as Lance.  Lance then expressed his fandom of the San Francisco 49ers and specifically mentioned his appreciation for Nick Bosa, questioning whether Bosa holds the title of highest-paid defensive player. I responded affirmatively, but with the caveat that this is a fluid situation subject to change with new NFL contracts.'"
            ],
            "application/vnd.google.colaboratory.intrinsic+json": {
              "type": "string"
            }
          },
          "metadata": {},
          "execution_count": 37
        }
      ]
    },
    {
      "cell_type": "code",
      "execution_count": 13,
      "id": "22f1b35f-e4bb-47f6-87b1-d84d8aed9aa9",
      "metadata": {
        "colab": {
          "base_uri": "https://localhost:8080/",
          "height": 70
        },
        "id": "22f1b35f-e4bb-47f6-87b1-d84d8aed9aa9",
        "outputId": "17f61714-b08d-41b9-ff54-6da4cb6ad3d8"
      },
      "outputs": [
        {
          "output_type": "execute_result",
          "data": {
            "text/plain": [
              "'The conversation began with introductions, where I identified the user as Lance.  Lance then expressed his fandom of the San Francisco 49ers and specifically mentioned his appreciation for Nick Bosa, questioning whether Bosa holds the title of highest-paid defensive player. I responded affirmatively, but with the caveat that this is a fluid situation subject to change with new NFL contracts.'"
            ],
            "application/vnd.google.colaboratory.intrinsic+json": {
              "type": "string"
            }
          },
          "metadata": {},
          "execution_count": 13
        }
      ],
      "source": [
        "graph.get_state(config).values.get(\"summary\",\"\")"
      ]
    },
    {
      "cell_type": "markdown",
      "id": "ad7cc0ab-905a-4037-b7cb-69db5b89591e",
      "metadata": {
        "id": "ad7cc0ab-905a-4037-b7cb-69db5b89591e"
      },
      "source": [
        "## LangSmith\n",
        "\n",
        "Let's review the trace!"
      ]
    }
  ],
  "metadata": {
    "kernelspec": {
      "display_name": "Python 3 (ipykernel)",
      "language": "python",
      "name": "python3"
    },
    "language_info": {
      "codemirror_mode": {
        "name": "ipython",
        "version": 3
      },
      "file_extension": ".py",
      "mimetype": "text/x-python",
      "name": "python",
      "nbconvert_exporter": "python",
      "pygments_lexer": "ipython3",
      "version": "3.12.3"
    },
    "colab": {
      "provenance": []
    }
  },
  "nbformat": 4,
  "nbformat_minor": 5
}