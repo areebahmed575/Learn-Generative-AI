{
  "cells": [
    {
      "cell_type": "markdown",
      "id": "693d9912-8d56-46a2-a445-3ee5651fe433",
      "metadata": {
        "id": "693d9912-8d56-46a2-a445-3ee5651fe433"
      },
      "source": [
        "# Multiple Schemas\n",
        "\n",
        "## Review\n",
        "\n",
        "We just covered state schema and reducers.\n",
        "\n",
        "Typically, all graph nodes communicate with a single schema.\n",
        "\n",
        "Also, this single schema contains the graph's input and output keys / channels.\n",
        "\n",
        "## Goals\n",
        "\n",
        "But, there are cases where we may want a bit more control over this:\n",
        "\n",
        "* Internal nodes may pass information that is *not required* in the graph's input / output.\n",
        "\n",
        "* We may also want to use different input / output schemas for the graph. The output might, for example, only contain a single relevant output key.\n",
        "\n",
        "We'll discuss a few ways to customize graphs with multiple schemas."
      ]
    },
    {
      "cell_type": "code",
      "execution_count": 1,
      "id": "4d727cc2-5a43-4eb5-9d69-82bbbcc35bd9",
      "metadata": {
        "id": "4d727cc2-5a43-4eb5-9d69-82bbbcc35bd9"
      },
      "outputs": [],
      "source": [
        "%%capture --no-stderr\n",
        "%pip install --quiet -U langgraph"
      ]
    },
    {
      "cell_type": "markdown",
      "source": [
        "## Simple State"
      ],
      "metadata": {
        "id": "mWc6ZLHYtqf_"
      },
      "id": "mWc6ZLHYtqf_"
    },
    {
      "cell_type": "code",
      "source": [
        "from typing_extensions import TypedDict\n",
        "from IPython.display import Image, display\n",
        "from langgraph.graph import StateGraph, START, END\n",
        "from langgraph.graph.state import CompiledStateGraph\n",
        "\n",
        "class OverallState(TypedDict):\n",
        "    foo: int\n",
        "    baz: int\n",
        "\n",
        "def node_1(state: OverallState) -> OverallState:\n",
        "    print(\"---Node 1---\")\n",
        "    return {\"baz\": state['foo'] + 1}\n",
        "\n",
        "def node_2(state: OverallState) -> OverallState:\n",
        "    print(\"---Node 2---\")\n",
        "    return {\"foo\": state['baz'] + 1}\n",
        "\n",
        "# Build graph\n",
        "builder: StateGraph = StateGraph(OverallState)\n",
        "builder.add_node(\"node_1\", node_1)\n",
        "builder.add_node(\"node_2\", node_2)\n",
        "\n",
        "# Logic\n",
        "builder.add_edge(START, \"node_1\")\n",
        "builder.add_edge(\"node_1\", \"node_2\")\n",
        "builder.add_edge(\"node_2\", END)\n",
        "\n",
        "# Add\n",
        "graph: CompiledStateGraph = builder.compile()\n",
        "\n",
        "# View\n",
        "display(Image(graph.get_graph().draw_mermaid_png()))"
      ],
      "metadata": {
        "colab": {
          "base_uri": "https://localhost:8080/",
          "height": 350
        },
        "id": "ZLSyz5tftqSL",
        "outputId": "0ba8da79-f736-4bcd-d0de-632814054200"
      },
      "id": "ZLSyz5tftqSL",
      "execution_count": 2,
      "outputs": [
        {
          "output_type": "display_data",
          "data": {
            "image/png": "[encoded data removed]",
            "text/plain": [
              "<IPython.core.display.Image object>"
            ]
          },
          "metadata": {}
        }
      ]
    },
    {
      "cell_type": "code",
      "source": [
        "graph.invoke({\"foo\" : 1})"
      ],
      "metadata": {
        "colab": {
          "base_uri": "https://localhost:8080/"
        },
        "id": "nFpIuXVStwyo",
        "outputId": "2e671bce-9824-4b71-a56e-b0ec3bd3c011"
      },
      "id": "nFpIuXVStwyo",
      "execution_count": 4,
      "outputs": [
        {
          "output_type": "stream",
          "name": "stdout",
          "text": [
            "---Node 1---\n",
            "---Node 2---\n"
          ]
        },
        {
          "output_type": "execute_result",
          "data": {
            "text/plain": [
              "{'foo': 3, 'baz': 2}"
            ]
          },
          "metadata": {},
          "execution_count": 4
        }
      ]
    },
    {
      "cell_type": "markdown",
      "id": "29b3d109-6bf2-4271-9775-556ee4bd900d",
      "metadata": {
        "id": "29b3d109-6bf2-4271-9775-556ee4bd900d"
      },
      "source": [
        "## Private State\n",
        "\n",
        "First, let's cover the case of passing [private state](https://langchain-ai.github.io/langgraph/how-tos/pass_private_state/) between nodes.\n",
        "\n",
        "This is useful for anything needed as part of the intermediate working logic of the graph, but not relevant for the overall graph input or output.\n",
        "\n",
        "We'll define an `OverallState` and a `PrivateState`.\n",
        "\n",
        "`node_2` uses `PrivateState` as input, but writes out to `OverallState`."
      ]
    },
    {
      "cell_type": "markdown",
      "source": [
        "Here we can see that nodes allow us to use Private Schema"
      ],
      "metadata": {
        "id": "MYLZqmMFHTeI"
      },
      "id": "MYLZqmMFHTeI"
    },
    {
      "cell_type": "code",
      "execution_count": 11,
      "id": "038ca2e4-7d6d-49d5-b213-b38469cde434",
      "metadata": {
        "colab": {
          "base_uri": "https://localhost:8080/",
          "height": 350
        },
        "id": "038ca2e4-7d6d-49d5-b213-b38469cde434",
        "outputId": "fcbd6d28-32f8-421c-dc01-986e24605b19"
      },
      "outputs": [
        {
          "output_type": "display_data",
          "data": {
            "image/png": "[encoded data removed]",
            "text/plain": [
              "<IPython.core.display.Image object>"
            ]
          },
          "metadata": {}
        }
      ],
      "source": [
        "from typing_extensions import TypedDict\n",
        "from IPython.display import Image, display\n",
        "from langgraph.graph import StateGraph, START, END\n",
        "from langgraph.graph.state import CompiledStateGraph\n",
        "\n",
        "class OverallState(TypedDict):\n",
        "    foo: int\n",
        "\n",
        "class PrivateState(TypedDict):\n",
        "    baz: int\n",
        "\n",
        "def node_1(state: OverallState) -> PrivateState:\n",
        "    print(\"---Node 1---\")\n",
        "    return {\"baz\": state['foo'] + 1}\n",
        "\n",
        "def node_2(state: PrivateState) -> OverallState:\n",
        "    print(\"---Node 2---\")\n",
        "    return {\"foo\": state['baz'] + 1}\n",
        "\n",
        "# Build graph\n",
        "builder: StateGraph = StateGraph(OverallState)\n",
        "builder.add_node(\"node_1\", node_1)\n",
        "builder.add_node(\"node_2\", node_2)\n",
        "\n",
        "# Logic\n",
        "builder.add_edge(START, \"node_1\")\n",
        "builder.add_edge(\"node_1\", \"node_2\")\n",
        "builder.add_edge(\"node_2\", END)\n",
        "\n",
        "# Add\n",
        "graph: CompiledStateGraph = builder.compile()\n",
        "\n",
        "# View\n",
        "display(Image(graph.get_graph().draw_mermaid_png()))"
      ]
    },
    {
      "cell_type": "code",
      "execution_count": 12,
      "id": "3dc9cd64-4bd3-4c0a-8f8f-d58c551428e3",
      "metadata": {
        "colab": {
          "base_uri": "https://localhost:8080/"
        },
        "id": "3dc9cd64-4bd3-4c0a-8f8f-d58c551428e3",
        "outputId": "deb7f203-6e99-4486-a66f-da2148ed7e4e"
      },
      "outputs": [
        {
          "output_type": "stream",
          "name": "stdout",
          "text": [
            "---Node 1---\n",
            "---Node 2---\n"
          ]
        },
        {
          "output_type": "execute_result",
          "data": {
            "text/plain": [
              "{'foo': 3}"
            ]
          },
          "metadata": {},
          "execution_count": 12
        }
      ],
      "source": [
        "graph.invoke({\"foo\" : 1})"
      ]
    },
    {
      "cell_type": "markdown",
      "id": "50a29f37-f653-4a56-ad0a-345d7f632ea0",
      "metadata": {
        "id": "50a29f37-f653-4a56-ad0a-345d7f632ea0"
      },
      "source": [
        "`baz` is only included in `PrivateState`.\n",
        "\n",
        "`node_2` uses `PrivateState` as input, but writes out to `OverallState`.\n",
        "\n",
        "So, we can see that `baz` is excluded from the graph output because it is not in `OverallState`."
      ]
    },
    {
      "cell_type": "markdown",
      "id": "75a8362f-009b-4ec2-abe5-8fb318e39966",
      "metadata": {
        "id": "75a8362f-009b-4ec2-abe5-8fb318e39966"
      },
      "source": [
        "## Input / Output Schema\n",
        "\n",
        "By default, `StateGraph` takes in a single schema and all nodes are expected to communicate with that schema.\n",
        "\n",
        "However, it is also possible to [define explicit input and output schemas for a graph](https://langchain-ai.github.io/langgraph/how-tos/input_output_schema/?h=input+outp).\n",
        "\n",
        "Often, in these cases, we define an \"internal\" schema that contains *all* keys relevant to graph operations.\n",
        "\n",
        "But, we use specific `input` and `output` schemas to constrain the input and output.\n",
        "\n",
        "First, let's just run the graph with a single schema."
      ]
    },
    {
      "cell_type": "code",
      "execution_count": 17,
      "id": "5323068a-907a-438c-8db5-46e5d452ad72",
      "metadata": {
        "colab": {
          "base_uri": "https://localhost:8080/",
          "height": 350
        },
        "id": "5323068a-907a-438c-8db5-46e5d452ad72",
        "outputId": "3589e0a7-bc7a-4fa2-8c18-e4deccb6cf0c"
      },
      "outputs": [
        {
          "output_type": "display_data",
          "data": {
            "image/png": "[encoded data removed]",
            "text/plain": [
              "<IPython.core.display.Image object>"
            ]
          },
          "metadata": {}
        }
      ],
      "source": [
        "class OverallState(TypedDict):\n",
        "    question: str\n",
        "    answer: str\n",
        "    notes: str\n",
        "\n",
        "def thinking_node(state: OverallState) -> OverallState:\n",
        "    return {\"answer\": \"bye\", \"notes\": \"... his is name is Lance\"}\n",
        "\n",
        "def answer_node(state: OverallState) -> OverallState:\n",
        "    return {\"answer\": \"bye Lance\"}\n",
        "\n",
        "graph: StateGraph = StateGraph(OverallState)\n",
        "graph.add_node(\"answer_node\", answer_node)\n",
        "graph.add_node(\"thinking_node\", thinking_node)\n",
        "graph.add_edge(START, \"thinking_node\")\n",
        "graph.add_edge(\"thinking_node\", \"answer_node\")\n",
        "graph.add_edge(\"answer_node\", END)\n",
        "\n",
        "graph: CompiledStateGraph = graph.compile()\n",
        "\n",
        "# View\n",
        "display(Image(graph.get_graph().draw_mermaid_png()))"
      ]
    },
    {
      "cell_type": "markdown",
      "id": "853fc90c-bf82-4d51-b3a5-ceb0b0ae5233",
      "metadata": {
        "id": "853fc90c-bf82-4d51-b3a5-ceb0b0ae5233"
      },
      "source": [
        "Notice that the output of invoke contains all keys in `OverallState`."
      ]
    },
    {
      "cell_type": "code",
      "execution_count": 18,
      "id": "507d35e6-f65c-4e89-b26e-a0ef7b90be83",
      "metadata": {
        "colab": {
          "base_uri": "https://localhost:8080/"
        },
        "id": "507d35e6-f65c-4e89-b26e-a0ef7b90be83",
        "outputId": "c9c1dd4b-f181-491a-daa4-ef11d331d230"
      },
      "outputs": [
        {
          "output_type": "execute_result",
          "data": {
            "text/plain": [
              "{'question': 'hi', 'answer': 'bye Lance', 'notes': '... his is name is Lance'}"
            ]
          },
          "metadata": {},
          "execution_count": 18
        }
      ],
      "source": [
        "graph.invoke({\"question\":\"hi\"})"
      ]
    },
    {
      "cell_type": "code",
      "source": [
        "class OverallState(TypedDict):\n",
        "    question: str\n",
        "    answer: str\n",
        "    notes: str\n",
        "\n",
        "def thinking_node(state: OverallState) -> OverallState:\n",
        "    return {\"answer\": \"bye\", \"notes\": \"... his is name is Lance\"}\n",
        "\n",
        "# def answer_node(state: OverallState) -> OverallState:\n",
        "#     return {\"answer\": \"bye Lance\"}\n",
        "\n",
        "graph: StateGraph = StateGraph(OverallState)\n",
        "# graph.add_node(\"answer_node\", answer_node)\n",
        "graph.add_node(\"thinking_node\", thinking_node)\n",
        "graph.add_edge(START, \"thinking_node\")\n",
        "graph.add_edge(\"thinking_node\", END)\n",
        "# graph.add_edge(\"answer_node\", END)\n",
        "\n",
        "graph: CompiledStateGraph = graph.compile()\n",
        "\n",
        "# View\n",
        "display(Image(graph.get_graph().draw_mermaid_png()))"
      ],
      "metadata": {
        "id": "W7MsjxnXJqk1",
        "outputId": "40600309-6182-4a57-e1ef-2ba94197a1a7",
        "colab": {
          "base_uri": "https://localhost:8080/",
          "height": 251
        }
      },
      "id": "W7MsjxnXJqk1",
      "execution_count": 19,
      "outputs": [
        {
          "output_type": "display_data",
          "data": {
            "image/png": "[encoded data removed]",
            "text/plain": [
              "<IPython.core.display.Image object>"
            ]
          },
          "metadata": {}
        }
      ]
    },
    {
      "cell_type": "code",
      "source": [
        "graph.invoke({\"question\":\"hi\"})"
      ],
      "metadata": {
        "id": "yPDihdyLJsUt",
        "outputId": "ff17ea73-cd00-45d9-ce4b-dd2f242141d8",
        "colab": {
          "base_uri": "https://localhost:8080/"
        }
      },
      "id": "yPDihdyLJsUt",
      "execution_count": 20,
      "outputs": [
        {
          "output_type": "execute_result",
          "data": {
            "text/plain": [
              "{'question': 'hi', 'answer': 'bye', 'notes': '... his is name is Lance'}"
            ]
          },
          "metadata": {},
          "execution_count": 20
        }
      ]
    },
    {
      "cell_type": "markdown",
      "id": "e5a899c3-e1b0-48eb-9a36-8c787e378ef0",
      "metadata": {
        "id": "e5a899c3-e1b0-48eb-9a36-8c787e378ef0"
      },
      "source": [
        "Now, let's use a specific `input` and `output` schema with our graph.\n",
        "\n",
        "Here, `input` / `output` schemas perform *filtering* on what keys are permitted on the input and output of the graph.\n",
        "\n",
        "In addition, we can use a type hint `state: InputState` to specify the input schema of each of our nodes.\n",
        "\n",
        "This is important when the graph is using multiple schemas.\n",
        "\n",
        "We use type hints below to, for example, show that the output of `answer_node` will be filtered to `OutputState`."
      ]
    },
    {
      "cell_type": "code",
      "execution_count": 21,
      "id": "682b3d10-c78a-41c2-a5ff-842e1688c95f",
      "metadata": {
        "colab": {
          "base_uri": "https://localhost:8080/",
          "height": 367
        },
        "id": "682b3d10-c78a-41c2-a5ff-842e1688c95f",
        "outputId": "6a6265bd-6fc7-4cab-9909-ef50c9156780"
      },
      "outputs": [
        {
          "output_type": "display_data",
          "data": {
            "image/png": "[encoded data removed]",
            "text/plain": [
              "<IPython.core.display.Image object>"
            ]
          },
          "metadata": {}
        },
        {
          "output_type": "execute_result",
          "data": {
            "text/plain": [
              "{'answer': 'bye Lance'}"
            ]
          },
          "metadata": {},
          "execution_count": 21
        }
      ],
      "source": [
        "class InputState(TypedDict):\n",
        "    question: str\n",
        "\n",
        "class OutputState(TypedDict):\n",
        "    answer: str\n",
        "\n",
        "class OverallState(TypedDict):\n",
        "    question: str\n",
        "    answer: str\n",
        "    notes: str\n",
        "\n",
        "def thinking_node(state: InputState):\n",
        "    return {\"answer\": \"bye\", \"notes\": \"... his is name is Lance\"}\n",
        "\n",
        "def answer_node(state: OverallState):\n",
        "    return {\"answer\": \"bye Lance\"}\n",
        "\n",
        "graph: StateGraph = StateGraph(OverallState, input=InputState, output=OutputState)\n",
        "graph.add_node(\"answer_node\", answer_node)\n",
        "graph.add_node(\"thinking_node\", thinking_node)\n",
        "graph.add_edge(START, \"thinking_node\")\n",
        "graph.add_edge(\"thinking_node\", \"answer_node\")\n",
        "graph.add_edge(\"answer_node\", END)\n",
        "\n",
        "graph: CompiledStateGraph = graph.compile()\n",
        "\n",
        "# View\n",
        "display(Image(graph.get_graph().draw_mermaid_png()))\n",
        "\n",
        "graph.invoke({\"question\":\"hi\"})"
      ]
    },
    {
      "cell_type": "markdown",
      "id": "f1e5ff21",
      "metadata": {
        "id": "f1e5ff21"
      },
      "source": [
        "We can see the `output` schema constrains the output to only the `answer` key."
      ]
    },
    {
      "cell_type": "markdown",
      "source": [
        "**So,what we learn that we can change the schema and if you want to change schema then you can tell input and output schema **"
      ],
      "metadata": {
        "id": "sjgp1nn2LGC8"
      },
      "id": "sjgp1nn2LGC8"
    }
  ],
  "metadata": {
    "kernelspec": {
      "display_name": "Python 3 (ipykernel)",
      "language": "python",
      "name": "python3"
    },
    "language_info": {
      "codemirror_mode": {
        "name": "ipython",
        "version": 3
      },
      "file_extension": ".py",
      "mimetype": "text/x-python",
      "name": "python",
      "nbconvert_exporter": "python",
      "pygments_lexer": "ipython3",
      "version": "3.12.3"
    },
    "colab": {
      "provenance": []
    }
  },
  "nbformat": 4,
  "nbformat_minor": 5
}