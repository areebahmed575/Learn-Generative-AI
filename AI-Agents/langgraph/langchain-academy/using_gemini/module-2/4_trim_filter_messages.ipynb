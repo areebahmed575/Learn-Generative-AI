{
  "cells": [
    {
      "cell_type": "markdown",
      "id": "c52ea2f9-03ff-4647-b782-46867ebed04e",
      "metadata": {
        "id": "c52ea2f9-03ff-4647-b782-46867ebed04e"
      },
      "source": [
        "# Filtering and trimming messages\n",
        "\n",
        "## Review\n",
        "\n",
        "Now, we have a deeper understanding of a few things:\n",
        "\n",
        "* How to customize the graph state schema\n",
        "* How to define custom state reducers\n",
        "* How to use multiple graph state schemas\n",
        "\n",
        "## Goals\n",
        "\n",
        "Now, we can start using these concepts with models in LangGraph!\n",
        "\n",
        "In the next few sessions, we'll build towards a chatbot that has long-term memory.\n",
        "\n",
        "Because our chatbot will use messages, let's first talk a bit more about advanced ways to work with messages in graph state."
      ]
    },
    {
      "cell_type": "code",
      "execution_count": 1,
      "id": "d5197aba-5d46-421b-ae3b-4e3034edcfda",
      "metadata": {
        "id": "d5197aba-5d46-421b-ae3b-4e3034edcfda"
      },
      "outputs": [],
      "source": [
        "%%capture --no-stderr\n",
        "%pip install --quiet -U langchain_core langgraph langchain_google_genai"
      ]
    },
    {
      "cell_type": "code",
      "execution_count": 8,
      "id": "768dc606-d5f2-468d-96ea-910b264e0f8a",
      "metadata": {
        "id": "768dc606-d5f2-468d-96ea-910b264e0f8a"
      },
      "outputs": [],
      "source": [
        "from google.colab import userdata\n",
        "google_api_key = userdata.get('GEMINI_API_KEY')"
      ]
    },
    {
      "cell_type": "markdown",
      "id": "8b64d8d3-e4ac-4961-bdc0-688825eb5864",
      "metadata": {
        "id": "8b64d8d3-e4ac-4961-bdc0-688825eb5864"
      },
      "source": [
        "We'll use [LangSmith](https://docs.smith.langchain.com/) for [tracing](https://docs.smith.langchain.com/concepts/tracing).\n",
        "\n",
        "We'll log to a project, `langchain-academy`."
      ]
    },
    {
      "cell_type": "code",
      "execution_count": 9,
      "id": "dd020c79",
      "metadata": {
        "id": "dd020c79"
      },
      "outputs": [],
      "source": [
        "os.environ[\"LANGCHAIN_TRACING_V2\"] = \"true\"\n",
        "os.environ[\"LANGCHAIN_PROJECT\"] = \"langchain-academy\""
      ]
    },
    {
      "cell_type": "markdown",
      "id": "72f3fc90-58b6-4f7f-897e-dddf6ae532c7",
      "metadata": {
        "id": "72f3fc90-58b6-4f7f-897e-dddf6ae532c7"
      },
      "source": [
        "## Messages as state\n",
        "\n",
        "First, let's define some messages."
      ]
    },
    {
      "cell_type": "code",
      "execution_count": 10,
      "id": "cf11a463-e27a-4a05-b41d-64882e38edca",
      "metadata": {
        "colab": {
          "base_uri": "https://localhost:8080/"
        },
        "id": "cf11a463-e27a-4a05-b41d-64882e38edca",
        "outputId": "c9c2de76-04a4-4c9f-c4ed-179f8b9ab062"
      },
      "outputs": [
        {
          "output_type": "stream",
          "name": "stdout",
          "text": [
            "==================================\u001b[1m Ai Message \u001b[0m==================================\n",
            "Name: Bot\n",
            "\n",
            "So you said you were researching ocean mammals?\n",
            "================================\u001b[1m Human Message \u001b[0m=================================\n",
            "Name: Lance\n",
            "\n",
            "Yes, I know about whales. But what others should I learn about?\n"
          ]
        }
      ],
      "source": [
        "from pprint import pprint\n",
        "from langchain_core.messages import AIMessage, HumanMessage\n",
        "messages = [AIMessage(f\"So you said you were researching ocean mammals?\", name=\"Bot\")]\n",
        "messages.append(HumanMessage(f\"Yes, I know about whales. But what others should I learn about?\", name=\"Lance\"))\n",
        "\n",
        "for m in messages:\n",
        "    m.pretty_print()"
      ]
    },
    {
      "cell_type": "markdown",
      "id": "b814adcb-6bf9-4b75-be11-e59f933fbd0c",
      "metadata": {
        "id": "b814adcb-6bf9-4b75-be11-e59f933fbd0c"
      },
      "source": [
        "Recall we can pass them to a chat model."
      ]
    },
    {
      "cell_type": "code",
      "execution_count": 11,
      "id": "4712e288-e622-48a2-ad3f-a52f65f3ab08",
      "metadata": {
        "colab": {
          "base_uri": "https://localhost:8080/"
        },
        "id": "4712e288-e622-48a2-ad3f-a52f65f3ab08",
        "outputId": "6c73e95c-5601-419c-dd5c-6138b51a6115"
      },
      "outputs": [
        {
          "output_type": "execute_result",
          "data": {
            "text/plain": [
              "AIMessage(content=\"That's great you're interested in ocean mammals!  Whales are a fascinating group, but there's a whole underwater world beyond them.  To broaden your research, consider these other groups:\\n\\n**1. Dolphins & Porpoises:** These are closely related to whales, but smaller and often more coastal.  There's a huge diversity within this group, with different species exhibiting unique behaviors, social structures, and physical adaptations.\\n\\n**2. Seals:**  These pinnipeds (fin-footed mammals) are divided into three main families:\\n    * **True seals (Phocidae):** Lack external ear flaps, have streamlined bodies for swimming, and typically haul out on ice floes or beaches.  Examples include harbor seals, harp seals, and elephant seals.\\n    * **Eared seals (Otariidae):** Possess external ear flaps, are more agile on land, and often form large colonies. Examples include sea lions and fur seals.\\n    * **Walruses (Odobenidae):**  Easily recognizable by their tusks, walruses are adapted to cold, Arctic waters.\\n\\n**3. Sea Lions & Fur Seals:**  These fall under the eared seal category but are worth mentioning separately due to their distinct characteristics and widespread interest.  Learn about their different species, social behaviors, and the threats they face.\\n\\n**4. Sea Otters:** These are the smallest marine mammals in North America.  They're known for their remarkable use of tools, dense fur, and important role in kelp forest ecosystems.\\n\\n**5. Manatees & Dugongs (Sirenia):**  These gentle giants are herbivores that inhabit coastal waters and rivers.  They are slow-moving and vulnerable to human activities.\\n\\n**6. Polar Bears:** While technically living on land and ice, their lives are inextricably linked to the ocean.  They are apex predators in the Arctic and rely on sea ice for hunting seals.\\n\\n\\nWhen researching, consider focusing on these aspects:\\n\\n* **Physical adaptations:** How have their bodies evolved to thrive in the ocean?\\n* **Behavior:**  Social structures, communication, hunting strategies, migration patterns.\\n* **Conservation status:** What threats do they face (pollution, climate change, entanglement, habitat loss)?\\n* **Distribution:** Where do they live, and what are the characteristics of their habitats?\\n\\nBy exploring these different groups and focusing on these aspects, you'll build a comprehensive understanding of ocean mammals beyond whales.  Happy researching!\\n\", additional_kwargs={}, response_metadata={'prompt_feedback': {'block_reason': 0, 'safety_ratings': []}, 'finish_reason': 'STOP', 'safety_ratings': []}, id='run-63b0ab34-e6ec-4b4d-b3d7-cf5029de7760-0', usage_metadata={'input_tokens': 26, 'output_tokens': 521, 'total_tokens': 547, 'input_token_details': {'cache_read': 0}})"
            ]
          },
          "metadata": {},
          "execution_count": 11
        }
      ],
      "source": [
        "from langchain_google_genai import ChatGoogleGenerativeAI\n",
        "llm: ChatGoogleGenerativeAI = ChatGoogleGenerativeAI(model = \"gemini-1.5-flash\",api_key = google_api_key )\n",
        "llm.invoke(messages)"
      ]
    },
    {
      "cell_type": "markdown",
      "id": "fbd1dab8-0af8-4621-8264-ce65065f76ec",
      "metadata": {
        "id": "fbd1dab8-0af8-4621-8264-ce65065f76ec"
      },
      "source": [
        "We can run our chat model in a simple graph with `MessagesState`."
      ]
    },
    {
      "cell_type": "code",
      "execution_count": 12,
      "id": "bbd8c39c-633b-4176-9cc6-8318e42bb5dd",
      "metadata": {
        "colab": {
          "base_uri": "https://localhost:8080/",
          "height": 251
        },
        "id": "bbd8c39c-633b-4176-9cc6-8318e42bb5dd",
        "outputId": "7a83c440-f069-4526-bece-0cb7a9c53d53"
      },
      "outputs": [
        {
          "output_type": "display_data",
          "data": {
            "image/png": "[encoded data removed]",
            "text/plain": [
              "<IPython.core.display.Image object>"
            ]
          },
          "metadata": {}
        }
      ],
      "source": [
        "from IPython.display import Image, display\n",
        "from langgraph.graph import MessagesState\n",
        "from langgraph.graph import StateGraph, START, END\n",
        "from langgraph.graph.state import CompiledStateGraph\n",
        "\n",
        "# Node\n",
        "def chat_model_node(state: MessagesState) -> MessagesState:\n",
        "    return {\"messages\": llm.invoke(state[\"messages\"])}\n",
        "\n",
        "# Build graph\n",
        "builder: StateGraph = StateGraph(MessagesState)\n",
        "builder.add_node(\"chat_model\", chat_model_node)\n",
        "builder.add_edge(START, \"chat_model\")\n",
        "builder.add_edge(\"chat_model\", END)\n",
        "graph: CompiledStateGraph = builder.compile()\n",
        "\n",
        "# View\n",
        "display(Image(graph.get_graph().draw_mermaid_png()))"
      ]
    },
    {
      "cell_type": "code",
      "execution_count": 17,
      "id": "3a5a3e4a-ccfd-4d14-81f1-f0de6e11a1e4",
      "metadata": {
        "colab": {
          "base_uri": "https://localhost:8080/"
        },
        "id": "3a5a3e4a-ccfd-4d14-81f1-f0de6e11a1e4",
        "outputId": "7de7acc2-6601-492d-bb41-d9d29678d16c"
      },
      "outputs": [
        {
          "output_type": "stream",
          "name": "stdout",
          "text": [
            "{'messages': [AIMessage(content='So you said you were researching ocean mammals?', additional_kwargs={}, response_metadata={}, name='Bot', id='fd0b59ae-2191-4328-af06-5aa16e70b4fc'), HumanMessage(content='Yes, I know about whales. But what others should I learn about?', additional_kwargs={}, response_metadata={}, name='Lance', id='a8b6651f-6cec-42a2-9af2-4a8595e69cc8'), AIMessage(content=\"That's great you're interested in ocean mammals! Whales are a fascinating group, but there's a whole underwater world beyond them.  Here are some other ocean mammal groups you should learn about:\\n\\n**1. Seals, Sea Lions, and Walruses (Pinnipeds):**\\n\\n* **Seals:** These are generally characterized by their lack of external ear flaps (pinnae), shorter flippers, and a more streamlined body for underwater movement.  There are several types, including harbor seals, elephant seals, leopard seals, etc., each with unique adaptations and behaviors.\\n* **Sea Lions:**  Distinguished by their external ear flaps, longer flippers, and ability to rotate their hind flippers forward for better land locomotion.  Examples include California sea lions and Steller sea lions.\\n* **Walruses:**  Easily recognizable by their massive tusks and blubbery bodies. They are adapted for life in Arctic regions.\\n\\n\\n**2. Sea Otters (Mustelids):**\\n\\n* These are the smallest marine mammals and are known for their incredible dexterity, using tools to open shellfish. They are also incredibly important to their ecosystem.\\n\\n\\n**3. Polar Bears (Ursids):**\\n\\n* While technically not exclusively marine, polar bears are highly dependent on the sea ice for hunting seals, their primary food source.  They're a crucial part of the Arctic ecosystem and are significantly impacted by climate change.\\n\\n\\n**4. Sirenians (Manatees and Dugongs):**\\n\\n* These gentle giants are herbivores that graze on seagrass.  Manatees are found in warmer, coastal waters of the Americas and the Caribbean, while dugongs inhabit warmer waters of the Indo-Pacific region.  They are vulnerable to habitat loss and boat strikes.\\n\\n\\nWhen researching these groups, consider focusing on:\\n\\n* **Their physical adaptations:** How are their bodies suited to their environment (e.g., blubber for insulation, streamlined bodies for swimming)?\\n* **Their behavior:**  How do they hunt, communicate, reproduce, and socialize?\\n* **Their conservation status:** What threats do they face, and what efforts are being made to protect them?\\n* **Their role in the ecosystem:** How do they interact with other species and their environment?\\n\\n\\nBy exploring these different groups of ocean mammals, you'll gain a much broader understanding of the diversity and importance of marine life.  Happy researching!\\n\", additional_kwargs={}, response_metadata={'prompt_feedback': {'block_reason': 0, 'safety_ratings': []}, 'finish_reason': 'STOP', 'safety_ratings': []}, id='run-e5ec8c0d-1975-4b31-8e32-b3b6dabc3ba1-0', usage_metadata={'input_tokens': 26, 'output_tokens': 499, 'total_tokens': 525, 'input_token_details': {'cache_read': 0}})]}\n",
            "[AIMessage(content='So you said you were researching ocean mammals?', additional_kwargs={}, response_metadata={}, name='Bot', id='fd0b59ae-2191-4328-af06-5aa16e70b4fc'), HumanMessage(content='Yes, I know about whales. But what others should I learn about?', additional_kwargs={}, response_metadata={}, name='Lance', id='a8b6651f-6cec-42a2-9af2-4a8595e69cc8'), AIMessage(content=\"That's great you're interested in ocean mammals! Whales are a fascinating group, but there's a whole underwater world beyond them.  Here are some other ocean mammal groups you should learn about:\\n\\n**1. Seals, Sea Lions, and Walruses (Pinnipeds):**\\n\\n* **Seals:** These are generally characterized by their lack of external ear flaps (pinnae), shorter flippers, and a more streamlined body for underwater movement.  There are several types, including harbor seals, elephant seals, leopard seals, etc., each with unique adaptations and behaviors.\\n* **Sea Lions:**  Distinguished by their external ear flaps, longer flippers, and ability to rotate their hind flippers forward for better land locomotion.  Examples include California sea lions and Steller sea lions.\\n* **Walruses:**  Easily recognizable by their massive tusks and blubbery bodies. They are adapted for life in Arctic regions.\\n\\n\\n**2. Sea Otters (Mustelids):**\\n\\n* These are the smallest marine mammals and are known for their incredible dexterity, using tools to open shellfish. They are also incredibly important to their ecosystem.\\n\\n\\n**3. Polar Bears (Ursids):**\\n\\n* While technically not exclusively marine, polar bears are highly dependent on the sea ice for hunting seals, their primary food source.  They're a crucial part of the Arctic ecosystem and are significantly impacted by climate change.\\n\\n\\n**4. Sirenians (Manatees and Dugongs):**\\n\\n* These gentle giants are herbivores that graze on seagrass.  Manatees are found in warmer, coastal waters of the Americas and the Caribbean, while dugongs inhabit warmer waters of the Indo-Pacific region.  They are vulnerable to habitat loss and boat strikes.\\n\\n\\nWhen researching these groups, consider focusing on:\\n\\n* **Their physical adaptations:** How are their bodies suited to their environment (e.g., blubber for insulation, streamlined bodies for swimming)?\\n* **Their behavior:**  How do they hunt, communicate, reproduce, and socialize?\\n* **Their conservation status:** What threats do they face, and what efforts are being made to protect them?\\n* **Their role in the ecosystem:** How do they interact with other species and their environment?\\n\\n\\nBy exploring these different groups of ocean mammals, you'll gain a much broader understanding of the diversity and importance of marine life.  Happy researching!\\n\", additional_kwargs={}, response_metadata={'prompt_feedback': {'block_reason': 0, 'safety_ratings': []}, 'finish_reason': 'STOP', 'safety_ratings': []}, id='run-e5ec8c0d-1975-4b31-8e32-b3b6dabc3ba1-0', usage_metadata={'input_tokens': 26, 'output_tokens': 499, 'total_tokens': 525, 'input_token_details': {'cache_read': 0}})]\n"
          ]
        }
      ],
      "source": [
        "output = graph.invoke({'messages': messages})\n",
        "print(output)\n",
        "print(output['messages'])"
      ]
    },
    {
      "cell_type": "code",
      "source": [
        "for m in output['messages']:\n",
        "    m.pretty_print()"
      ],
      "metadata": {
        "id": "JgY-po_gsmxF",
        "outputId": "683f7dc7-22d0-4100-c193-ca613fce252d",
        "colab": {
          "base_uri": "https://localhost:8080/"
        }
      },
      "id": "JgY-po_gsmxF",
      "execution_count": 16,
      "outputs": [
        {
          "output_type": "stream",
          "name": "stdout",
          "text": [
            "==================================\u001b[1m Ai Message \u001b[0m==================================\n",
            "Name: Bot\n",
            "\n",
            "So you said you were researching ocean mammals?\n",
            "================================\u001b[1m Human Message \u001b[0m=================================\n",
            "Name: Lance\n",
            "\n",
            "Yes, I know about whales. But what others should I learn about?\n",
            "==================================\u001b[1m Ai Message \u001b[0m==================================\n",
            "\n",
            "That's great you're familiar with whales!  There's a whole underwater world of fascinating mammals beyond them. To suggest further research, let's break it down by group:\n",
            "\n",
            "**1.  Carnivora (Meat-Eaters):**\n",
            "\n",
            "* **Seals:**  This is a large group with diverse species.  Learn about the differences between:\n",
            "    * **Harp seals:** Known for their white coats as pups.\n",
            "    * **Elephant seals:**  Massive size and distinctive proboscis.\n",
            "    * **Harbor seals:** Common and often found near coasts.\n",
            "    * **Leopard seals:**  Powerful predators.\n",
            "    * **Weddell seals:**  Masters of surviving in Antarctic ice.\n",
            "* **Sea Lions:**  Distinguished from seals by their external ear flaps (pinnae) and ability to rotate their hind flippers forward.  California sea lions are a well-known example.\n",
            "* **Fur Seals:**  Similar to sea lions, but with a thicker fur coat.\n",
            "* **Walruses:**  Unique tusks and impressive size.  They're also closely related to seals.\n",
            "* **Sea Otters:**  The smallest marine mammal, known for their use of tools and dense fur.\n",
            "\n",
            "\n",
            "**2. Sirenia (Herbivores):**\n",
            "\n",
            "* **Manatees:**  Gentle giants found in warmer waters.  They're also called sea cows.\n",
            "* **Dugongs:**  Close relatives of manatees, but with a more streamlined body and a forked tail.\n",
            "\n",
            "\n",
            "**3. Cetacea (Whales, Dolphins, and Porpoises):**  Since you're already familiar with whales, focus on:\n",
            "\n",
            "* **Dolphins:**  Highly intelligent and social animals with diverse species.  Research the differences between river dolphins (e.g., Ganges River dolphin) and oceanic dolphins (e.g., bottlenose dolphin).\n",
            "* **Porpoises:**  Smaller and more streamlined than dolphins, with a less prominent beak.\n",
            "\n",
            "\n",
            "**To deepen your research, consider these aspects for each mammal:**\n",
            "\n",
            "* **Habitat and Distribution:** Where do they live?  What are the environmental challenges they face?\n",
            "* **Diet and Feeding Strategies:** What do they eat? How do they hunt?\n",
            "* **Social Behavior:**  Do they live in groups? How do they communicate?\n",
            "* **Reproduction and Life Cycle:** How do they reproduce? What are their developmental stages?\n",
            "* **Conservation Status:** Are they endangered or threatened? What are the threats they face?\n",
            "\n",
            "\n",
            "By focusing on these categories and aspects, you'll gain a much more comprehensive understanding of the diverse world of ocean mammals.  Remember to use reputable sources like scientific journals, conservation organizations (like WWF or Oceana), and academic databases.\n"
          ]
        }
      ]
    },
    {
      "cell_type": "code",
      "source": [
        "async for m in graph.astream_events({'messages': messages}, version=\"v2\"): # The version argument is now correctly passed as a keyword argument.\n",
        "      print(m)\n",
        "      print(\"\\n--------------\\n\")\n",
        "\n",
        "      # on_chain_start = start of node's execution\n",
        "      # on_chain_end = indicates completion of node's execution\n",
        "      # on_chain_stream = Represent intermediate data or progress updates during a node's execution"
      ],
      "metadata": {
        "colab": {
          "base_uri": "https://localhost:8080/"
        },
        "id": "4Kl4lGlZyxej",
        "outputId": "c4939aa3-3c83-4d8f-8d07-594bc6b819f6"
      },
      "id": "4Kl4lGlZyxej",
      "execution_count": 18,
      "outputs": [
        {
          "output_type": "stream",
          "name": "stdout",
          "text": [
            "{'event': 'on_chain_start', 'data': {'input': {'messages': [AIMessage(content='So you said you were researching ocean mammals?', additional_kwargs={}, response_metadata={}, name='Bot', id='fd0b59ae-2191-4328-af06-5aa16e70b4fc'), HumanMessage(content='Yes, I know about whales. But what others should I learn about?', additional_kwargs={}, response_metadata={}, name='Lance', id='a8b6651f-6cec-42a2-9af2-4a8595e69cc8')]}}, 'name': 'LangGraph', 'tags': [], 'run_id': 'd9546fc3-b3ea-4997-9457-6d031697d567', 'metadata': {}, 'parent_ids': []}\n",
            "\n",
            "--------------\n",
            "\n",
            "{'event': 'on_chain_start', 'data': {'input': {'messages': [AIMessage(content='So you said you were researching ocean mammals?', additional_kwargs={}, response_metadata={}, name='Bot', id='fd0b59ae-2191-4328-af06-5aa16e70b4fc'), HumanMessage(content='Yes, I know about whales. But what others should I learn about?', additional_kwargs={}, response_metadata={}, name='Lance', id='a8b6651f-6cec-42a2-9af2-4a8595e69cc8')]}}, 'name': '__start__', 'tags': ['graph:step:0', 'langsmith:hidden'], 'run_id': 'a7a47974-170d-41a9-8f29-e54c54c23b49', 'metadata': {'langgraph_step': 0, 'langgraph_node': '__start__', 'langgraph_triggers': ['__start__'], 'langgraph_path': ('__pregel_pull', '__start__'), 'langgraph_checkpoint_ns': '__start__:d2827408-40b5-a09f-d038-7283c4e56018'}, 'parent_ids': ['d9546fc3-b3ea-4997-9457-6d031697d567']}\n",
            "\n",
            "--------------\n",
            "\n",
            "{'event': 'on_chain_start', 'data': {'input': {'messages': [AIMessage(content='So you said you were researching ocean mammals?', additional_kwargs={}, response_metadata={}, name='Bot', id='fd0b59ae-2191-4328-af06-5aa16e70b4fc'), HumanMessage(content='Yes, I know about whales. But what others should I learn about?', additional_kwargs={}, response_metadata={}, name='Lance', id='a8b6651f-6cec-42a2-9af2-4a8595e69cc8')]}}, 'name': '_write', 'tags': ['seq:step:1', 'langsmith:hidden', 'langsmith:hidden'], 'run_id': 'afa1887a-cc0a-4dbe-89b6-2f622a34dc99', 'metadata': {'langgraph_step': 0, 'langgraph_node': '__start__', 'langgraph_triggers': ['__start__'], 'langgraph_path': ('__pregel_pull', '__start__'), 'langgraph_checkpoint_ns': '__start__:d2827408-40b5-a09f-d038-7283c4e56018'}, 'parent_ids': ['d9546fc3-b3ea-4997-9457-6d031697d567', 'a7a47974-170d-41a9-8f29-e54c54c23b49']}\n",
            "\n",
            "--------------\n",
            "\n",
            "{'event': 'on_chain_end', 'data': {'output': {'messages': [AIMessage(content='So you said you were researching ocean mammals?', additional_kwargs={}, response_metadata={}, name='Bot', id='fd0b59ae-2191-4328-af06-5aa16e70b4fc'), HumanMessage(content='Yes, I know about whales. But what others should I learn about?', additional_kwargs={}, response_metadata={}, name='Lance', id='a8b6651f-6cec-42a2-9af2-4a8595e69cc8')]}, 'input': {'messages': [AIMessage(content='So you said you were researching ocean mammals?', additional_kwargs={}, response_metadata={}, name='Bot', id='fd0b59ae-2191-4328-af06-5aa16e70b4fc'), HumanMessage(content='Yes, I know about whales. But what others should I learn about?', additional_kwargs={}, response_metadata={}, name='Lance', id='a8b6651f-6cec-42a2-9af2-4a8595e69cc8')]}}, 'run_id': 'afa1887a-cc0a-4dbe-89b6-2f622a34dc99', 'name': '_write', 'tags': ['seq:step:1', 'langsmith:hidden', 'langsmith:hidden'], 'metadata': {'langgraph_step': 0, 'langgraph_node': '__start__', 'langgraph_triggers': ['__start__'], 'langgraph_path': ('__pregel_pull', '__start__'), 'langgraph_checkpoint_ns': '__start__:d2827408-40b5-a09f-d038-7283c4e56018'}, 'parent_ids': ['d9546fc3-b3ea-4997-9457-6d031697d567', 'a7a47974-170d-41a9-8f29-e54c54c23b49']}\n",
            "\n",
            "--------------\n",
            "\n",
            "{'event': 'on_chain_start', 'data': {'input': {'messages': [AIMessage(content='So you said you were researching ocean mammals?', additional_kwargs={}, response_metadata={}, name='Bot', id='fd0b59ae-2191-4328-af06-5aa16e70b4fc'), HumanMessage(content='Yes, I know about whales. But what others should I learn about?', additional_kwargs={}, response_metadata={}, name='Lance', id='a8b6651f-6cec-42a2-9af2-4a8595e69cc8')]}}, 'name': '_write', 'tags': ['seq:step:3', 'langsmith:hidden', 'langsmith:hidden'], 'run_id': '0eea09f8-01c6-43fd-b4ae-fcff5fd90f99', 'metadata': {'langgraph_step': 0, 'langgraph_node': '__start__', 'langgraph_triggers': ['__start__'], 'langgraph_path': ('__pregel_pull', '__start__'), 'langgraph_checkpoint_ns': '__start__:d2827408-40b5-a09f-d038-7283c4e56018'}, 'parent_ids': ['d9546fc3-b3ea-4997-9457-6d031697d567', 'a7a47974-170d-41a9-8f29-e54c54c23b49']}\n",
            "\n",
            "--------------\n",
            "\n",
            "{'event': 'on_chain_end', 'data': {'output': {'messages': [AIMessage(content='So you said you were researching ocean mammals?', additional_kwargs={}, response_metadata={}, name='Bot', id='fd0b59ae-2191-4328-af06-5aa16e70b4fc'), HumanMessage(content='Yes, I know about whales. But what others should I learn about?', additional_kwargs={}, response_metadata={}, name='Lance', id='a8b6651f-6cec-42a2-9af2-4a8595e69cc8')]}, 'input': {'messages': [AIMessage(content='So you said you were researching ocean mammals?', additional_kwargs={}, response_metadata={}, name='Bot', id='fd0b59ae-2191-4328-af06-5aa16e70b4fc'), HumanMessage(content='Yes, I know about whales. But what others should I learn about?', additional_kwargs={}, response_metadata={}, name='Lance', id='a8b6651f-6cec-42a2-9af2-4a8595e69cc8')]}}, 'run_id': '0eea09f8-01c6-43fd-b4ae-fcff5fd90f99', 'name': '_write', 'tags': ['seq:step:3', 'langsmith:hidden', 'langsmith:hidden'], 'metadata': {'langgraph_step': 0, 'langgraph_node': '__start__', 'langgraph_triggers': ['__start__'], 'langgraph_path': ('__pregel_pull', '__start__'), 'langgraph_checkpoint_ns': '__start__:d2827408-40b5-a09f-d038-7283c4e56018'}, 'parent_ids': ['d9546fc3-b3ea-4997-9457-6d031697d567', 'a7a47974-170d-41a9-8f29-e54c54c23b49']}\n",
            "\n",
            "--------------\n",
            "\n",
            "{'event': 'on_chain_stream', 'run_id': 'a7a47974-170d-41a9-8f29-e54c54c23b49', 'name': '__start__', 'tags': ['graph:step:0', 'langsmith:hidden'], 'metadata': {'langgraph_step': 0, 'langgraph_node': '__start__', 'langgraph_triggers': ['__start__'], 'langgraph_path': ('__pregel_pull', '__start__'), 'langgraph_checkpoint_ns': '__start__:d2827408-40b5-a09f-d038-7283c4e56018'}, 'data': {'chunk': {'messages': [AIMessage(content='So you said you were researching ocean mammals?', additional_kwargs={}, response_metadata={}, name='Bot', id='fd0b59ae-2191-4328-af06-5aa16e70b4fc'), HumanMessage(content='Yes, I know about whales. But what others should I learn about?', additional_kwargs={}, response_metadata={}, name='Lance', id='a8b6651f-6cec-42a2-9af2-4a8595e69cc8')]}}, 'parent_ids': ['d9546fc3-b3ea-4997-9457-6d031697d567']}\n",
            "\n",
            "--------------\n",
            "\n",
            "{'event': 'on_chain_end', 'data': {'output': {'messages': [AIMessage(content='So you said you were researching ocean mammals?', additional_kwargs={}, response_metadata={}, name='Bot', id='fd0b59ae-2191-4328-af06-5aa16e70b4fc'), HumanMessage(content='Yes, I know about whales. But what others should I learn about?', additional_kwargs={}, response_metadata={}, name='Lance', id='a8b6651f-6cec-42a2-9af2-4a8595e69cc8')]}, 'input': {'messages': [AIMessage(content='So you said you were researching ocean mammals?', additional_kwargs={}, response_metadata={}, name='Bot', id='fd0b59ae-2191-4328-af06-5aa16e70b4fc'), HumanMessage(content='Yes, I know about whales. But what others should I learn about?', additional_kwargs={}, response_metadata={}, name='Lance', id='a8b6651f-6cec-42a2-9af2-4a8595e69cc8')]}}, 'run_id': 'a7a47974-170d-41a9-8f29-e54c54c23b49', 'name': '__start__', 'tags': ['graph:step:0', 'langsmith:hidden'], 'metadata': {'langgraph_step': 0, 'langgraph_node': '__start__', 'langgraph_triggers': ['__start__'], 'langgraph_path': ('__pregel_pull', '__start__'), 'langgraph_checkpoint_ns': '__start__:d2827408-40b5-a09f-d038-7283c4e56018'}, 'parent_ids': ['d9546fc3-b3ea-4997-9457-6d031697d567']}\n",
            "\n",
            "--------------\n",
            "\n",
            "{'event': 'on_chain_start', 'data': {'input': {'messages': [AIMessage(content='So you said you were researching ocean mammals?', additional_kwargs={}, response_metadata={}, name='Bot', id='fd0b59ae-2191-4328-af06-5aa16e70b4fc'), HumanMessage(content='Yes, I know about whales. But what others should I learn about?', additional_kwargs={}, response_metadata={}, name='Lance', id='a8b6651f-6cec-42a2-9af2-4a8595e69cc8')]}}, 'name': 'chat_model', 'tags': ['graph:step:1'], 'run_id': 'e827108a-2c50-474d-a140-99ee91772f52', 'metadata': {'langgraph_step': 1, 'langgraph_node': 'chat_model', 'langgraph_triggers': ['start:chat_model'], 'langgraph_path': ('__pregel_pull', 'chat_model'), 'langgraph_checkpoint_ns': 'chat_model:36a6446f-c052-8ae0-f635-cd8d305a6669'}, 'parent_ids': ['d9546fc3-b3ea-4997-9457-6d031697d567']}\n",
            "\n",
            "--------------\n",
            "\n",
            "{'event': 'on_chain_start', 'data': {'input': {'messages': AIMessage(content='That\\'s great you\\'re interested in ocean mammals!  Whales are a huge group, but there\\'s a whole fascinating world beyond them.  To suggest further research, it would be helpful to know what aspects of whales interest you.  Are you interested in:\\n\\n* **Specific behaviours?** (e.g., communication, migration, hunting strategies)\\n* **Evolutionary relationships?** (e.g., the differences between toothed and baleen whales)\\n* **Conservation status?** (e.g., threats to different species)\\n* **Geographical distribution?** (e.g., where certain species are found)\\n* **Physical adaptations?** (e.g., how they\\'ve adapted to life in the water)\\n\\n\\nOnce I know your interests, I can give you more targeted suggestions.  But in the meantime, here are some other groups of ocean mammals you should definitely learn about:\\n\\n* **Dolphins and Porpoises:**  These highly intelligent creatures exhibit complex social structures and communication.  There\\'s a huge diversity within this group.\\n* **Seals:**  These pinnipeds (fin-footed mammals) include harbor seals, elephant seals, and fur seals, each with unique adaptations.  Learn about their different ways of hunting and their breeding behaviors.\\n* **Sea Lions:**  Close relatives of seals, but with external ear flaps (pinnae) and generally more agile on land.\\n* **Walruses:**  Unique for their tusks and large size, walruses are adapted to cold arctic waters.\\n* **Sea Otters:**  The smallest marine mammal, known for their use of tools and dense fur.\\n* **Manatees and Dugongs:**  These gentle giants are herbivorous and found in warmer waters.  They are also known as \"sea cows.\"\\n* **Polar Bears:** While technically living on land and ice, they heavily rely on the ocean for hunting and are significantly impacted by ocean health.\\n\\n\\nLearning about these groups will give you a much broader understanding of ocean mammal diversity and the challenges they face.  Tell me more about your specific interests, and I can provide even more focused suggestions!\\n', additional_kwargs={}, response_metadata={'prompt_feedback': {'block_reason': 0, 'safety_ratings': []}, 'finish_reason': 'STOP', 'safety_ratings': []}, id='run-00ea76e1-0787-444f-bd70-c5195cdd3bc3-0', usage_metadata={'input_tokens': 26, 'output_tokens': 452, 'total_tokens': 478, 'input_token_details': {'cache_read': 0}})}}, 'name': '_write', 'tags': ['seq:step:2', 'langsmith:hidden'], 'run_id': 'ae3cc827-9e9c-4f55-8891-9fa036e728ab', 'metadata': {'langgraph_step': 1, 'langgraph_node': 'chat_model', 'langgraph_triggers': ['start:chat_model'], 'langgraph_path': ('__pregel_pull', 'chat_model'), 'langgraph_checkpoint_ns': 'chat_model:36a6446f-c052-8ae0-f635-cd8d305a6669'}, 'parent_ids': ['d9546fc3-b3ea-4997-9457-6d031697d567', 'e827108a-2c50-474d-a140-99ee91772f52']}\n",
            "\n",
            "--------------\n",
            "\n",
            "{'event': 'on_chain_end', 'data': {'output': {'messages': AIMessage(content='That\\'s great you\\'re interested in ocean mammals!  Whales are a huge group, but there\\'s a whole fascinating world beyond them.  To suggest further research, it would be helpful to know what aspects of whales interest you.  Are you interested in:\\n\\n* **Specific behaviours?** (e.g., communication, migration, hunting strategies)\\n* **Evolutionary relationships?** (e.g., the differences between toothed and baleen whales)\\n* **Conservation status?** (e.g., threats to different species)\\n* **Geographical distribution?** (e.g., where certain species are found)\\n* **Physical adaptations?** (e.g., how they\\'ve adapted to life in the water)\\n\\n\\nOnce I know your interests, I can give you more targeted suggestions.  But in the meantime, here are some other groups of ocean mammals you should definitely learn about:\\n\\n* **Dolphins and Porpoises:**  These highly intelligent creatures exhibit complex social structures and communication.  There\\'s a huge diversity within this group.\\n* **Seals:**  These pinnipeds (fin-footed mammals) include harbor seals, elephant seals, and fur seals, each with unique adaptations.  Learn about their different ways of hunting and their breeding behaviors.\\n* **Sea Lions:**  Close relatives of seals, but with external ear flaps (pinnae) and generally more agile on land.\\n* **Walruses:**  Unique for their tusks and large size, walruses are adapted to cold arctic waters.\\n* **Sea Otters:**  The smallest marine mammal, known for their use of tools and dense fur.\\n* **Manatees and Dugongs:**  These gentle giants are herbivorous and found in warmer waters.  They are also known as \"sea cows.\"\\n* **Polar Bears:** While technically living on land and ice, they heavily rely on the ocean for hunting and are significantly impacted by ocean health.\\n\\n\\nLearning about these groups will give you a much broader understanding of ocean mammal diversity and the challenges they face.  Tell me more about your specific interests, and I can provide even more focused suggestions!\\n', additional_kwargs={}, response_metadata={'prompt_feedback': {'block_reason': 0, 'safety_ratings': []}, 'finish_reason': 'STOP', 'safety_ratings': []}, id='run-00ea76e1-0787-444f-bd70-c5195cdd3bc3-0', usage_metadata={'input_tokens': 26, 'output_tokens': 452, 'total_tokens': 478, 'input_token_details': {'cache_read': 0}})}, 'input': {'messages': AIMessage(content='That\\'s great you\\'re interested in ocean mammals!  Whales are a huge group, but there\\'s a whole fascinating world beyond them.  To suggest further research, it would be helpful to know what aspects of whales interest you.  Are you interested in:\\n\\n* **Specific behaviours?** (e.g., communication, migration, hunting strategies)\\n* **Evolutionary relationships?** (e.g., the differences between toothed and baleen whales)\\n* **Conservation status?** (e.g., threats to different species)\\n* **Geographical distribution?** (e.g., where certain species are found)\\n* **Physical adaptations?** (e.g., how they\\'ve adapted to life in the water)\\n\\n\\nOnce I know your interests, I can give you more targeted suggestions.  But in the meantime, here are some other groups of ocean mammals you should definitely learn about:\\n\\n* **Dolphins and Porpoises:**  These highly intelligent creatures exhibit complex social structures and communication.  There\\'s a huge diversity within this group.\\n* **Seals:**  These pinnipeds (fin-footed mammals) include harbor seals, elephant seals, and fur seals, each with unique adaptations.  Learn about their different ways of hunting and their breeding behaviors.\\n* **Sea Lions:**  Close relatives of seals, but with external ear flaps (pinnae) and generally more agile on land.\\n* **Walruses:**  Unique for their tusks and large size, walruses are adapted to cold arctic waters.\\n* **Sea Otters:**  The smallest marine mammal, known for their use of tools and dense fur.\\n* **Manatees and Dugongs:**  These gentle giants are herbivorous and found in warmer waters.  They are also known as \"sea cows.\"\\n* **Polar Bears:** While technically living on land and ice, they heavily rely on the ocean for hunting and are significantly impacted by ocean health.\\n\\n\\nLearning about these groups will give you a much broader understanding of ocean mammal diversity and the challenges they face.  Tell me more about your specific interests, and I can provide even more focused suggestions!\\n', additional_kwargs={}, response_metadata={'prompt_feedback': {'block_reason': 0, 'safety_ratings': []}, 'finish_reason': 'STOP', 'safety_ratings': []}, id='run-00ea76e1-0787-444f-bd70-c5195cdd3bc3-0', usage_metadata={'input_tokens': 26, 'output_tokens': 452, 'total_tokens': 478, 'input_token_details': {'cache_read': 0}})}}, 'run_id': 'ae3cc827-9e9c-4f55-8891-9fa036e728ab', 'name': '_write', 'tags': ['seq:step:2', 'langsmith:hidden'], 'metadata': {'langgraph_step': 1, 'langgraph_node': 'chat_model', 'langgraph_triggers': ['start:chat_model'], 'langgraph_path': ('__pregel_pull', 'chat_model'), 'langgraph_checkpoint_ns': 'chat_model:36a6446f-c052-8ae0-f635-cd8d305a6669'}, 'parent_ids': ['d9546fc3-b3ea-4997-9457-6d031697d567', 'e827108a-2c50-474d-a140-99ee91772f52']}\n",
            "\n",
            "--------------\n",
            "\n",
            "{'event': 'on_chain_stream', 'run_id': 'e827108a-2c50-474d-a140-99ee91772f52', 'name': 'chat_model', 'tags': ['graph:step:1'], 'metadata': {'langgraph_step': 1, 'langgraph_node': 'chat_model', 'langgraph_triggers': ['start:chat_model'], 'langgraph_path': ('__pregel_pull', 'chat_model'), 'langgraph_checkpoint_ns': 'chat_model:36a6446f-c052-8ae0-f635-cd8d305a6669'}, 'data': {'chunk': {'messages': AIMessage(content='That\\'s great you\\'re interested in ocean mammals!  Whales are a huge group, but there\\'s a whole fascinating world beyond them.  To suggest further research, it would be helpful to know what aspects of whales interest you.  Are you interested in:\\n\\n* **Specific behaviours?** (e.g., communication, migration, hunting strategies)\\n* **Evolutionary relationships?** (e.g., the differences between toothed and baleen whales)\\n* **Conservation status?** (e.g., threats to different species)\\n* **Geographical distribution?** (e.g., where certain species are found)\\n* **Physical adaptations?** (e.g., how they\\'ve adapted to life in the water)\\n\\n\\nOnce I know your interests, I can give you more targeted suggestions.  But in the meantime, here are some other groups of ocean mammals you should definitely learn about:\\n\\n* **Dolphins and Porpoises:**  These highly intelligent creatures exhibit complex social structures and communication.  There\\'s a huge diversity within this group.\\n* **Seals:**  These pinnipeds (fin-footed mammals) include harbor seals, elephant seals, and fur seals, each with unique adaptations.  Learn about their different ways of hunting and their breeding behaviors.\\n* **Sea Lions:**  Close relatives of seals, but with external ear flaps (pinnae) and generally more agile on land.\\n* **Walruses:**  Unique for their tusks and large size, walruses are adapted to cold arctic waters.\\n* **Sea Otters:**  The smallest marine mammal, known for their use of tools and dense fur.\\n* **Manatees and Dugongs:**  These gentle giants are herbivorous and found in warmer waters.  They are also known as \"sea cows.\"\\n* **Polar Bears:** While technically living on land and ice, they heavily rely on the ocean for hunting and are significantly impacted by ocean health.\\n\\n\\nLearning about these groups will give you a much broader understanding of ocean mammal diversity and the challenges they face.  Tell me more about your specific interests, and I can provide even more focused suggestions!\\n', additional_kwargs={}, response_metadata={'prompt_feedback': {'block_reason': 0, 'safety_ratings': []}, 'finish_reason': 'STOP', 'safety_ratings': []}, id='run-00ea76e1-0787-444f-bd70-c5195cdd3bc3-0', usage_metadata={'input_tokens': 26, 'output_tokens': 452, 'total_tokens': 478, 'input_token_details': {'cache_read': 0}})}}, 'parent_ids': ['d9546fc3-b3ea-4997-9457-6d031697d567']}\n",
            "\n",
            "--------------\n",
            "\n",
            "{'event': 'on_chain_end', 'data': {'output': {'messages': AIMessage(content='That\\'s great you\\'re interested in ocean mammals!  Whales are a huge group, but there\\'s a whole fascinating world beyond them.  To suggest further research, it would be helpful to know what aspects of whales interest you.  Are you interested in:\\n\\n* **Specific behaviours?** (e.g., communication, migration, hunting strategies)\\n* **Evolutionary relationships?** (e.g., the differences between toothed and baleen whales)\\n* **Conservation status?** (e.g., threats to different species)\\n* **Geographical distribution?** (e.g., where certain species are found)\\n* **Physical adaptations?** (e.g., how they\\'ve adapted to life in the water)\\n\\n\\nOnce I know your interests, I can give you more targeted suggestions.  But in the meantime, here are some other groups of ocean mammals you should definitely learn about:\\n\\n* **Dolphins and Porpoises:**  These highly intelligent creatures exhibit complex social structures and communication.  There\\'s a huge diversity within this group.\\n* **Seals:**  These pinnipeds (fin-footed mammals) include harbor seals, elephant seals, and fur seals, each with unique adaptations.  Learn about their different ways of hunting and their breeding behaviors.\\n* **Sea Lions:**  Close relatives of seals, but with external ear flaps (pinnae) and generally more agile on land.\\n* **Walruses:**  Unique for their tusks and large size, walruses are adapted to cold arctic waters.\\n* **Sea Otters:**  The smallest marine mammal, known for their use of tools and dense fur.\\n* **Manatees and Dugongs:**  These gentle giants are herbivorous and found in warmer waters.  They are also known as \"sea cows.\"\\n* **Polar Bears:** While technically living on land and ice, they heavily rely on the ocean for hunting and are significantly impacted by ocean health.\\n\\n\\nLearning about these groups will give you a much broader understanding of ocean mammal diversity and the challenges they face.  Tell me more about your specific interests, and I can provide even more focused suggestions!\\n', additional_kwargs={}, response_metadata={'prompt_feedback': {'block_reason': 0, 'safety_ratings': []}, 'finish_reason': 'STOP', 'safety_ratings': []}, id='run-00ea76e1-0787-444f-bd70-c5195cdd3bc3-0', usage_metadata={'input_tokens': 26, 'output_tokens': 452, 'total_tokens': 478, 'input_token_details': {'cache_read': 0}})}, 'input': {'messages': [AIMessage(content='So you said you were researching ocean mammals?', additional_kwargs={}, response_metadata={}, name='Bot', id='fd0b59ae-2191-4328-af06-5aa16e70b4fc'), HumanMessage(content='Yes, I know about whales. But what others should I learn about?', additional_kwargs={}, response_metadata={}, name='Lance', id='a8b6651f-6cec-42a2-9af2-4a8595e69cc8')]}}, 'run_id': 'e827108a-2c50-474d-a140-99ee91772f52', 'name': 'chat_model', 'tags': ['graph:step:1'], 'metadata': {'langgraph_step': 1, 'langgraph_node': 'chat_model', 'langgraph_triggers': ['start:chat_model'], 'langgraph_path': ('__pregel_pull', 'chat_model'), 'langgraph_checkpoint_ns': 'chat_model:36a6446f-c052-8ae0-f635-cd8d305a6669'}, 'parent_ids': ['d9546fc3-b3ea-4997-9457-6d031697d567']}\n",
            "\n",
            "--------------\n",
            "\n",
            "{'event': 'on_chain_stream', 'run_id': 'd9546fc3-b3ea-4997-9457-6d031697d567', 'name': 'LangGraph', 'tags': [], 'metadata': {}, 'data': {'chunk': {'chat_model': {'messages': AIMessage(content='That\\'s great you\\'re interested in ocean mammals!  Whales are a huge group, but there\\'s a whole fascinating world beyond them.  To suggest further research, it would be helpful to know what aspects of whales interest you.  Are you interested in:\\n\\n* **Specific behaviours?** (e.g., communication, migration, hunting strategies)\\n* **Evolutionary relationships?** (e.g., the differences between toothed and baleen whales)\\n* **Conservation status?** (e.g., threats to different species)\\n* **Geographical distribution?** (e.g., where certain species are found)\\n* **Physical adaptations?** (e.g., how they\\'ve adapted to life in the water)\\n\\n\\nOnce I know your interests, I can give you more targeted suggestions.  But in the meantime, here are some other groups of ocean mammals you should definitely learn about:\\n\\n* **Dolphins and Porpoises:**  These highly intelligent creatures exhibit complex social structures and communication.  There\\'s a huge diversity within this group.\\n* **Seals:**  These pinnipeds (fin-footed mammals) include harbor seals, elephant seals, and fur seals, each with unique adaptations.  Learn about their different ways of hunting and their breeding behaviors.\\n* **Sea Lions:**  Close relatives of seals, but with external ear flaps (pinnae) and generally more agile on land.\\n* **Walruses:**  Unique for their tusks and large size, walruses are adapted to cold arctic waters.\\n* **Sea Otters:**  The smallest marine mammal, known for their use of tools and dense fur.\\n* **Manatees and Dugongs:**  These gentle giants are herbivorous and found in warmer waters.  They are also known as \"sea cows.\"\\n* **Polar Bears:** While technically living on land and ice, they heavily rely on the ocean for hunting and are significantly impacted by ocean health.\\n\\n\\nLearning about these groups will give you a much broader understanding of ocean mammal diversity and the challenges they face.  Tell me more about your specific interests, and I can provide even more focused suggestions!\\n', additional_kwargs={}, response_metadata={'prompt_feedback': {'block_reason': 0, 'safety_ratings': []}, 'finish_reason': 'STOP', 'safety_ratings': []}, id='run-00ea76e1-0787-444f-bd70-c5195cdd3bc3-0', usage_metadata={'input_tokens': 26, 'output_tokens': 452, 'total_tokens': 478, 'input_token_details': {'cache_read': 0}})}}}, 'parent_ids': []}\n",
            "\n",
            "--------------\n",
            "\n",
            "{'event': 'on_chain_end', 'data': {'output': {'messages': [AIMessage(content='So you said you were researching ocean mammals?', additional_kwargs={}, response_metadata={}, name='Bot', id='fd0b59ae-2191-4328-af06-5aa16e70b4fc'), HumanMessage(content='Yes, I know about whales. But what others should I learn about?', additional_kwargs={}, response_metadata={}, name='Lance', id='a8b6651f-6cec-42a2-9af2-4a8595e69cc8'), AIMessage(content='That\\'s great you\\'re interested in ocean mammals!  Whales are a huge group, but there\\'s a whole fascinating world beyond them.  To suggest further research, it would be helpful to know what aspects of whales interest you.  Are you interested in:\\n\\n* **Specific behaviours?** (e.g., communication, migration, hunting strategies)\\n* **Evolutionary relationships?** (e.g., the differences between toothed and baleen whales)\\n* **Conservation status?** (e.g., threats to different species)\\n* **Geographical distribution?** (e.g., where certain species are found)\\n* **Physical adaptations?** (e.g., how they\\'ve adapted to life in the water)\\n\\n\\nOnce I know your interests, I can give you more targeted suggestions.  But in the meantime, here are some other groups of ocean mammals you should definitely learn about:\\n\\n* **Dolphins and Porpoises:**  These highly intelligent creatures exhibit complex social structures and communication.  There\\'s a huge diversity within this group.\\n* **Seals:**  These pinnipeds (fin-footed mammals) include harbor seals, elephant seals, and fur seals, each with unique adaptations.  Learn about their different ways of hunting and their breeding behaviors.\\n* **Sea Lions:**  Close relatives of seals, but with external ear flaps (pinnae) and generally more agile on land.\\n* **Walruses:**  Unique for their tusks and large size, walruses are adapted to cold arctic waters.\\n* **Sea Otters:**  The smallest marine mammal, known for their use of tools and dense fur.\\n* **Manatees and Dugongs:**  These gentle giants are herbivorous and found in warmer waters.  They are also known as \"sea cows.\"\\n* **Polar Bears:** While technically living on land and ice, they heavily rely on the ocean for hunting and are significantly impacted by ocean health.\\n\\n\\nLearning about these groups will give you a much broader understanding of ocean mammal diversity and the challenges they face.  Tell me more about your specific interests, and I can provide even more focused suggestions!\\n', additional_kwargs={}, response_metadata={'prompt_feedback': {'block_reason': 0, 'safety_ratings': []}, 'finish_reason': 'STOP', 'safety_ratings': []}, id='run-00ea76e1-0787-444f-bd70-c5195cdd3bc3-0', usage_metadata={'input_tokens': 26, 'output_tokens': 452, 'total_tokens': 478, 'input_token_details': {'cache_read': 0}})]}}, 'run_id': 'd9546fc3-b3ea-4997-9457-6d031697d567', 'name': 'LangGraph', 'tags': [], 'metadata': {}, 'parent_ids': []}\n",
            "\n",
            "--------------\n",
            "\n"
          ]
        }
      ]
    },
    {
      "cell_type": "markdown",
      "id": "34c33e63-1ef4-412d-bb10-6a1b9e5b35a7",
      "metadata": {
        "id": "34c33e63-1ef4-412d-bb10-6a1b9e5b35a7"
      },
      "source": [
        "## Reducer\n",
        "\n",
        "A practical challenge when working with messages is managing long-running conversations.\n",
        "\n",
        "Long-running conversations result in high token usage and latency if we are not careful, because we pass a growing list of messages to the model.\n",
        "\n",
        "We have a few ways to address this.\n",
        "\n",
        "First, recall the trick we saw using `RemoveMessage` and the `add_messages` reducer."
      ]
    },
    {
      "cell_type": "code",
      "execution_count": 19,
      "id": "222c6bc5-bb0e-4a43-80f5-c8ec38d99f3a",
      "metadata": {
        "colab": {
          "base_uri": "https://localhost:8080/",
          "height": 350
        },
        "id": "222c6bc5-bb0e-4a43-80f5-c8ec38d99f3a",
        "outputId": "bbb60d06-c82c-4aad-ec47-50fe3862929a"
      },
      "outputs": [
        {
          "output_type": "display_data",
          "data": {
            "image/png": "[encoded data removed]",
            "text/plain": [
              "<IPython.core.display.Image object>"
            ]
          },
          "metadata": {}
        }
      ],
      "source": [
        "from langchain_core.messages import RemoveMessage\n",
        "\n",
        "# Nodes\n",
        "def filter_messages(state: MessagesState) -> MessagesState:\n",
        "    # Delete all but the 2 most recent messages\n",
        "    delete_messages = [RemoveMessage(id=m.id) for m in state[\"messages\"][:-2]]\n",
        "    return {\"messages\": delete_messages}\n",
        "\n",
        "def chat_model_node(state: MessagesState) -> MessagesState:\n",
        "    return {\"messages\": [llm.invoke(state[\"messages\"])]}\n",
        "\n",
        "# Build graph\n",
        "builder: StateGraph = StateGraph(MessagesState)\n",
        "builder.add_node(\"filter\", filter_messages)\n",
        "builder.add_node(\"chat_model\", chat_model_node)\n",
        "builder.add_edge(START, \"filter\")\n",
        "builder.add_edge(\"filter\", \"chat_model\")\n",
        "builder.add_edge(\"chat_model\", END)\n",
        "graph: CompiledStateGraph = builder.compile()\n",
        "\n",
        "# View\n",
        "display(Image(graph.get_graph().draw_mermaid_png()))"
      ]
    },
    {
      "cell_type": "code",
      "execution_count": 20,
      "id": "95a7c2cc-54ce-43e7-9a90-abf37827d709",
      "metadata": {
        "colab": {
          "base_uri": "https://localhost:8080/"
        },
        "id": "95a7c2cc-54ce-43e7-9a90-abf37827d709",
        "outputId": "b3f68c60-f952-4e34-80c3-17e6956bd986"
      },
      "outputs": [
        {
          "output_type": "stream",
          "name": "stdout",
          "text": [
            "==================================\u001b[1m Ai Message \u001b[0m==================================\n",
            "Name: Bot\n",
            "\n",
            "So you said you were researching ocean mammals?\n",
            "================================\u001b[1m Human Message \u001b[0m=================================\n",
            "Name: Lance\n",
            "\n",
            "Yes, I know about whales. But what others should I learn about?\n",
            "==================================\u001b[1m Ai Message \u001b[0m==================================\n",
            "\n",
            "That's great you're interested in ocean mammals! Whales are a fantastic starting point, but there's a whole world beyond them.  To suggest further research, I need a little more direction. What aspects of ocean mammals interest you most?  For example, are you interested in:\n",
            "\n",
            "* **Specific habitats?** (e.g., Arctic mammals, deep-sea mammals, coastal mammals)  This will greatly influence which animals you'll find.\n",
            "* **Specific behaviors?** (e.g., migration patterns, social structures, hunting techniques)  Focusing on a behavior will lead you to animals known for that behavior.\n",
            "* **Specific evolutionary aspects?** (e.g., adaptations to different environments, evolutionary relationships between species)  This would guide you towards phylogenetic studies and comparative anatomy.\n",
            "* **Conservation status?** (e.g., endangered species, threats to their populations)  This will focus your research on species facing significant challenges.\n",
            "\n",
            "Once I know what aspects interest you, I can give you a more tailored list of ocean mammals to research.\n",
            "\n",
            "But here are some examples to get you started, categorized for easier browsing:\n",
            "\n",
            "**Beyond Whales (Cetaceans):**\n",
            "\n",
            "* **Pinnipeds (Seals, Sea Lions, Walruses):**  These are incredibly diverse, with different species adapted to various environments and hunting strategies.  Learn about their blubber, diving abilities, and social structures.\n",
            "* **Sirenians (Manatees and Dugongs):**  These gentle giants are herbivores and are facing significant threats from habitat loss and human interaction.\n",
            "* **Sea Otters:**  These incredibly cute and intelligent animals are keystone species in their ecosystems.  Learn about their tool use and social behaviors.\n",
            "* **Polar Bears:** While technically living on land and ice, they are inextricably linked to the ocean for hunting and survival.\n",
            "\n",
            "\n",
            "Tell me more about what sparks your curiosity, and I can help you narrow down your research!\n"
          ]
        }
      ],
      "source": [
        "# Message list with a preamble\n",
        "messages = [AIMessage(\"Hi.\", name=\"Bot\", id=\"1\")]\n",
        "messages.append(HumanMessage(\"Hi.\", name=\"Lance\", id=\"2\"))\n",
        "messages.append(AIMessage(\"So you said you were researching ocean mammals?\", name=\"Bot\", id=\"3\"))\n",
        "messages.append(HumanMessage(\"Yes, I know about whales. But what others should I learn about?\", name=\"Lance\", id=\"4\"))\n",
        "\n",
        "# Invoke\n",
        "output = graph.invoke({'messages': messages})\n",
        "for m in output['messages']:\n",
        "    m.pretty_print()"
      ]
    },
    {
      "cell_type": "markdown",
      "id": "f506457d-014b-4fee-a684-e5edfb4b8f0d",
      "metadata": {
        "id": "f506457d-014b-4fee-a684-e5edfb4b8f0d"
      },
      "source": [
        "## Filtering messages\n",
        "\n",
        "If you don't need or want to modify the graph state, you can just filter the messages you pass to the chat model.\n",
        "\n",
        "For example, just pass in a filtered list: `llm.invoke(messages[-1:])` to the model."
      ]
    },
    {
      "cell_type": "code",
      "execution_count": 21,
      "id": "22d0b904-7cd6-486b-8948-105bee3d4683",
      "metadata": {
        "colab": {
          "base_uri": "https://localhost:8080/",
          "height": 251
        },
        "id": "22d0b904-7cd6-486b-8948-105bee3d4683",
        "outputId": "9c68efe6-71ab-4217-b5f2-8caf3b022fe1"
      },
      "outputs": [
        {
          "output_type": "display_data",
          "data": {
            "image/png": "[encoded data removed]",
            "text/plain": [
              "<IPython.core.display.Image object>"
            ]
          },
          "metadata": {}
        }
      ],
      "source": [
        "# Node\n",
        "def chat_model_node(state: MessagesState):\n",
        "    return {\"messages\": [llm.invoke(state[\"messages\"][-1:])]}\n",
        "\n",
        "# Build graph\n",
        "builder: StateGraph = StateGraph(MessagesState)\n",
        "builder.add_node(\"chat_model\", chat_model_node)\n",
        "builder.add_edge(START, \"chat_model\")\n",
        "builder.add_edge(\"chat_model\", END)\n",
        "graph: CompiledStateGraph = builder.compile()\n",
        "\n",
        "# View\n",
        "display(Image(graph.get_graph().draw_mermaid_png()))"
      ]
    },
    {
      "cell_type": "markdown",
      "id": "6f58c6fc-532f-418d-b70a-cfcb3307daf5",
      "metadata": {
        "id": "6f58c6fc-532f-418d-b70a-cfcb3307daf5"
      },
      "source": [
        "Let's take our existing list of messages, append the above LLM response, and append a follow-up question."
      ]
    },
    {
      "cell_type": "code",
      "source": [
        "print(output['messages'][-1])"
      ],
      "metadata": {
        "id": "bDmJmFTDzjxx",
        "outputId": "58388988-1d3a-44c0-fca9-82c1f0740251",
        "colab": {
          "base_uri": "https://localhost:8080/"
        }
      },
      "id": "bDmJmFTDzjxx",
      "execution_count": 22,
      "outputs": [
        {
          "output_type": "stream",
          "name": "stdout",
          "text": [
            "content=\"That's great you're interested in ocean mammals! Whales are a fantastic starting point, but there's a whole world beyond them.  To suggest further research, I need a little more direction. What aspects of ocean mammals interest you most?  For example, are you interested in:\\n\\n* **Specific habitats?** (e.g., Arctic mammals, deep-sea mammals, coastal mammals)  This will greatly influence which animals you'll find.\\n* **Specific behaviors?** (e.g., migration patterns, social structures, hunting techniques)  Focusing on a behavior will lead you to animals known for that behavior.\\n* **Specific evolutionary aspects?** (e.g., adaptations to different environments, evolutionary relationships between species)  This would guide you towards phylogenetic studies and comparative anatomy.\\n* **Conservation status?** (e.g., endangered species, threats to their populations)  This will focus your research on species facing significant challenges.\\n\\nOnce I know what aspects interest you, I can give you a more tailored list of ocean mammals to research.\\n\\nBut here are some examples to get you started, categorized for easier browsing:\\n\\n**Beyond Whales (Cetaceans):**\\n\\n* **Pinnipeds (Seals, Sea Lions, Walruses):**  These are incredibly diverse, with different species adapted to various environments and hunting strategies.  Learn about their blubber, diving abilities, and social structures.\\n* **Sirenians (Manatees and Dugongs):**  These gentle giants are herbivores and are facing significant threats from habitat loss and human interaction.\\n* **Sea Otters:**  These incredibly cute and intelligent animals are keystone species in their ecosystems.  Learn about their tool use and social behaviors.\\n* **Polar Bears:** While technically living on land and ice, they are inextricably linked to the ocean for hunting and survival.\\n\\n\\nTell me more about what sparks your curiosity, and I can help you narrow down your research!\\n\" additional_kwargs={} response_metadata={'prompt_feedback': {'block_reason': 0, 'safety_ratings': []}, 'finish_reason': 'STOP', 'safety_ratings': []} id='run-f268c15b-ca0f-42c8-966a-4cfe137f12f7-0' usage_metadata={'input_tokens': 26, 'output_tokens': 408, 'total_tokens': 434, 'input_token_details': {'cache_read': 0}}\n"
          ]
        }
      ]
    },
    {
      "cell_type": "code",
      "execution_count": 23,
      "id": "16956015-1dbe-4108-89b5-4209b68b51ca",
      "metadata": {
        "id": "16956015-1dbe-4108-89b5-4209b68b51ca"
      },
      "outputs": [],
      "source": [
        "messages.append(output['messages'][-1])\n",
        "messages.append(HumanMessage(f\"Tell me more about Narwhals!\", name=\"Lance\"))"
      ]
    },
    {
      "cell_type": "code",
      "execution_count": 24,
      "id": "85563415-c085-46a8-a4ac-155df798c54e",
      "metadata": {
        "colab": {
          "base_uri": "https://localhost:8080/"
        },
        "id": "85563415-c085-46a8-a4ac-155df798c54e",
        "outputId": "3d0ca02d-e740-4465-941e-46fd387ac8c7"
      },
      "outputs": [
        {
          "output_type": "stream",
          "name": "stdout",
          "text": [
            "==================================\u001b[1m Ai Message \u001b[0m==================================\n",
            "Name: Bot\n",
            "\n",
            "Hi.\n",
            "================================\u001b[1m Human Message \u001b[0m=================================\n",
            "Name: Lance\n",
            "\n",
            "Hi.\n",
            "==================================\u001b[1m Ai Message \u001b[0m==================================\n",
            "Name: Bot\n",
            "\n",
            "So you said you were researching ocean mammals?\n",
            "================================\u001b[1m Human Message \u001b[0m=================================\n",
            "Name: Lance\n",
            "\n",
            "Yes, I know about whales. But what others should I learn about?\n",
            "==================================\u001b[1m Ai Message \u001b[0m==================================\n",
            "\n",
            "That's great you're interested in ocean mammals! Whales are a fantastic starting point, but there's a whole world beyond them.  To suggest further research, I need a little more direction. What aspects of ocean mammals interest you most?  For example, are you interested in:\n",
            "\n",
            "* **Specific habitats?** (e.g., Arctic mammals, deep-sea mammals, coastal mammals)  This will greatly influence which animals you'll find.\n",
            "* **Specific behaviors?** (e.g., migration patterns, social structures, hunting techniques)  Focusing on a behavior will lead you to animals known for that behavior.\n",
            "* **Specific evolutionary aspects?** (e.g., adaptations to different environments, evolutionary relationships between species)  This would guide you towards phylogenetic studies and comparative anatomy.\n",
            "* **Conservation status?** (e.g., endangered species, threats to their populations)  This will focus your research on species facing significant challenges.\n",
            "\n",
            "Once I know what aspects interest you, I can give you a more tailored list of ocean mammals to research.\n",
            "\n",
            "But here are some examples to get you started, categorized for easier browsing:\n",
            "\n",
            "**Beyond Whales (Cetaceans):**\n",
            "\n",
            "* **Pinnipeds (Seals, Sea Lions, Walruses):**  These are incredibly diverse, with different species adapted to various environments and hunting strategies.  Learn about their blubber, diving abilities, and social structures.\n",
            "* **Sirenians (Manatees and Dugongs):**  These gentle giants are herbivores and are facing significant threats from habitat loss and human interaction.\n",
            "* **Sea Otters:**  These incredibly cute and intelligent animals are keystone species in their ecosystems.  Learn about their tool use and social behaviors.\n",
            "* **Polar Bears:** While technically living on land and ice, they are inextricably linked to the ocean for hunting and survival.\n",
            "\n",
            "\n",
            "Tell me more about what sparks your curiosity, and I can help you narrow down your research!\n",
            "================================\u001b[1m Human Message \u001b[0m=================================\n",
            "Name: Lance\n",
            "\n",
            "Tell me more about Narwhals!\n"
          ]
        }
      ],
      "source": [
        "for m in messages:\n",
        "    m.pretty_print()"
      ]
    },
    {
      "cell_type": "code",
      "execution_count": 25,
      "id": "23349705-a059-47b5-9760-d8f64e687393",
      "metadata": {
        "colab": {
          "base_uri": "https://localhost:8080/"
        },
        "id": "23349705-a059-47b5-9760-d8f64e687393",
        "outputId": "65ed4b55-59d9-43b7-ed2f-689abb82e3a2"
      },
      "outputs": [
        {
          "output_type": "stream",
          "name": "stdout",
          "text": [
            "==================================\u001b[1m Ai Message \u001b[0m==================================\n",
            "Name: Bot\n",
            "\n",
            "Hi.\n",
            "================================\u001b[1m Human Message \u001b[0m=================================\n",
            "Name: Lance\n",
            "\n",
            "Hi.\n",
            "==================================\u001b[1m Ai Message \u001b[0m==================================\n",
            "Name: Bot\n",
            "\n",
            "So you said you were researching ocean mammals?\n",
            "================================\u001b[1m Human Message \u001b[0m=================================\n",
            "Name: Lance\n",
            "\n",
            "Yes, I know about whales. But what others should I learn about?\n",
            "==================================\u001b[1m Ai Message \u001b[0m==================================\n",
            "\n",
            "That's great you're interested in ocean mammals! Whales are a fantastic starting point, but there's a whole world beyond them.  To suggest further research, I need a little more direction. What aspects of ocean mammals interest you most?  For example, are you interested in:\n",
            "\n",
            "* **Specific habitats?** (e.g., Arctic mammals, deep-sea mammals, coastal mammals)  This will greatly influence which animals you'll find.\n",
            "* **Specific behaviors?** (e.g., migration patterns, social structures, hunting techniques)  Focusing on a behavior will lead you to animals known for that behavior.\n",
            "* **Specific evolutionary aspects?** (e.g., adaptations to different environments, evolutionary relationships between species)  This would guide you towards phylogenetic studies and comparative anatomy.\n",
            "* **Conservation status?** (e.g., endangered species, threats to their populations)  This will focus your research on species facing significant challenges.\n",
            "\n",
            "Once I know what aspects interest you, I can give you a more tailored list of ocean mammals to research.\n",
            "\n",
            "But here are some examples to get you started, categorized for easier browsing:\n",
            "\n",
            "**Beyond Whales (Cetaceans):**\n",
            "\n",
            "* **Pinnipeds (Seals, Sea Lions, Walruses):**  These are incredibly diverse, with different species adapted to various environments and hunting strategies.  Learn about their blubber, diving abilities, and social structures.\n",
            "* **Sirenians (Manatees and Dugongs):**  These gentle giants are herbivores and are facing significant threats from habitat loss and human interaction.\n",
            "* **Sea Otters:**  These incredibly cute and intelligent animals are keystone species in their ecosystems.  Learn about their tool use and social behaviors.\n",
            "* **Polar Bears:** While technically living on land and ice, they are inextricably linked to the ocean for hunting and survival.\n",
            "\n",
            "\n",
            "Tell me more about what sparks your curiosity, and I can help you narrow down your research!\n",
            "================================\u001b[1m Human Message \u001b[0m=================================\n",
            "Name: Lance\n",
            "\n",
            "Tell me more about Narwhals!\n",
            "==================================\u001b[1m Ai Message \u001b[0m==================================\n",
            "\n",
            "Narwhals ( *Monodon monoceros*) are truly unique and fascinating creatures.  Here's a breakdown of what makes them special:\n",
            "\n",
            "**The Defining Feature: The Tusk**\n",
            "\n",
            "* **Only males typically have a tusk:** This spiraled \"tusk\" is actually an elongated left incisor tooth that can grow up to 8-10 feet long.  Females rarely develop a tusk, and if they do, it's much smaller and remains embedded in the upper jaw.\n",
            "* **Sensory organ:**  Scientists believe the tusk is highly sensitive, containing millions of nerve endings.  It's theorized to be used for sensing changes in water pressure, temperature, and salinity, helping the narwhal navigate and find prey in the murky Arctic waters. It may also play a role in social interactions, such as fighting or courtship displays.\n",
            "* **Not just for show:** While the tusk's role in sensing is increasingly accepted, the idea that it's solely for show or fighting is now less emphasized.  The combination of sensory and social functions is likely more accurate.\n",
            "\n",
            "**Physical Characteristics:**\n",
            "\n",
            "* **White-and-gray mottled skin:**  Their skin is a unique mottled pattern of white and gray, making each narwhal easily identifiable. The coloration can vary based on age and sex.\n",
            "* **Small dorsal fin:** Unlike many other whales, narwhals lack a dorsal fin. They have a small, ridge-like dorsal hump instead.\n",
            "* **Streamlined body:**  Their bodies are streamlined and adapted for maneuvering through ice-covered waters.\n",
            "* **Size:** They reach lengths of 13-16 feet and can weigh up to 3,500 pounds.\n",
            "\n",
            "**Habitat and Behavior:**\n",
            "\n",
            "* **Arctic Ocean dwellers:**  Narwhals are found in the Arctic Ocean and surrounding waters, including Canada, Greenland, Russia, and Norway. They prefer cold, deep waters.\n",
            "* **Social animals:**  They live in pods, sometimes in large groups called herds, which can number in the hundreds or even thousands. These groups often consist of females and calves, with males forming separate groups during certain times of the year.\n",
            "* **Diving masters:**  Narwhals are capable of incredible dives, reaching depths of up to 1,500 meters (almost 5,000 feet) and holding their breath for up to 25 minutes.\n",
            "* **Diet:** Their diet primarily consists of fish, squid, and crustaceans.\n",
            "\n",
            "**Conservation Status:**\n",
            "\n",
            "* **Vulnerable:**  While not currently endangered, narwhals are classified as vulnerable due to climate change, hunting (though regulated in many areas), and pollution.  The melting of Arctic sea ice is significantly impacting their habitat and prey availability.\n",
            "\n",
            "**Cultural Significance:**\n",
            "\n",
            "* **Important to Inuit culture:**  For many Inuit communities, narwhals hold significant cultural and spiritual importance.  The tusks are often used in carvings and ceremonies.\n",
            "\n",
            "In short, the narwhal is a remarkable creature, a testament to the wonders of the Arctic and a compelling example of how unique adaptations allow animals to thrive in challenging environments.  Ongoing research continues to reveal more about these enigmatic animals and the threats they face.\n"
          ]
        }
      ],
      "source": [
        "# Invoke, using message filtering\n",
        "output = graph.invoke({'messages': messages})\n",
        "for m in output['messages']:\n",
        "    m.pretty_print()"
      ]
    },
    {
      "cell_type": "markdown",
      "id": "42e1d8d2-e297-4d78-b54c-d12b3c866745",
      "metadata": {
        "id": "42e1d8d2-e297-4d78-b54c-d12b3c866745"
      },
      "source": [
        "The state has all of the mesages.\n",
        "\n",
        "But, let's look at the LangSmith trace to see that the model invocation only uses the last message:\n",
        "\n",
        "https://smith.langchain.com/public/75aca3ce-ef19-4b92-94be-0178c7a660d9/r"
      ]
    },
    {
      "cell_type": "markdown",
      "id": "fc40d930-3c1f-47fe-8d2a-ce174873353c",
      "metadata": {
        "id": "fc40d930-3c1f-47fe-8d2a-ce174873353c"
      },
      "source": [
        "## Trim messages\n",
        "\n",
        "Another approach is to [trim messages](https://python.langchain.com/v0.2/docs/how_to/trim_messages/#getting-the-last-max_tokens-tokens), based upon a set number of tokens.\n",
        "\n",
        "This restricts the message history to a specified number of tokens.\n",
        "\n",
        "While filtering only returns a post-hoc subset of the messages between agents, trimming restricts the number of tokens that a chat model can use to respond.\n",
        "\n",
        "See the `trim_messages` below."
      ]
    },
    {
      "cell_type": "code",
      "execution_count": 35,
      "id": "2ff99b81-cf03-4cc2-b44f-44829a73e1fd",
      "metadata": {
        "colab": {
          "base_uri": "https://localhost:8080/",
          "height": 251
        },
        "id": "2ff99b81-cf03-4cc2-b44f-44829a73e1fd",
        "outputId": "37ed17cc-1689-4d96-8c0f-c6e2ff8e1b7f"
      },
      "outputs": [
        {
          "output_type": "display_data",
          "data": {
            "image/png": "[encoded data removed]",
            "text/plain": [
              "<IPython.core.display.Image object>"
            ]
          },
          "metadata": {}
        }
      ],
      "source": [
        "from langchain_core.messages import trim_messages\n",
        "\n",
        "# Node\n",
        "def chat_model_node(state: MessagesState):\n",
        "    messages = trim_messages(\n",
        "            state[\"messages\"],\n",
        "            max_tokens=100,\n",
        "            strategy=\"last\", #Retain the last messages upto the token limit\n",
        "            token_counter=ChatGoogleGenerativeAI(model=\"gemini-1.5-flash\",api_key = google_api_key),\n",
        "            allow_partial=False, #Prevent partial from being included\n",
        "        )\n",
        "    return {\"messages\": [llm.invoke(messages)]}\n",
        "\n",
        "# Build graph\n",
        "builder = StateGraph(MessagesState)\n",
        "builder.add_node(\"chat_model\", chat_model_node)\n",
        "builder.add_edge(START, \"chat_model\")\n",
        "builder.add_edge(\"chat_model\", END)\n",
        "graph = builder.compile()\n",
        "\n",
        "# View\n",
        "display(Image(graph.get_graph().draw_mermaid_png()))"
      ]
    },
    {
      "cell_type": "code",
      "source": [
        "print(output['messages'][-1])"
      ],
      "metadata": {
        "id": "pg2mX21a4Uxu",
        "outputId": "e481ef96-8474-4779-db7e-45eb14d12cc8",
        "colab": {
          "base_uri": "https://localhost:8080/"
        }
      },
      "id": "pg2mX21a4Uxu",
      "execution_count": 36,
      "outputs": [
        {
          "output_type": "stream",
          "name": "stdout",
          "text": [
            "content='Narwhals ( *Monodon monoceros*) are truly unique and fascinating creatures.  Here\\'s a breakdown of what makes them special:\\n\\n**The Defining Feature: The Tusk**\\n\\n* **Only males typically have a tusk:** This spiraled \"tusk\" is actually an elongated left incisor tooth that can grow up to 8-10 feet long.  Females rarely develop a tusk, and if they do, it\\'s much smaller and remains embedded in the upper jaw.\\n* **Sensory organ:**  Scientists believe the tusk is highly sensitive, containing millions of nerve endings.  It\\'s theorized to be used for sensing changes in water pressure, temperature, and salinity, helping the narwhal navigate and find prey in the murky Arctic waters. It may also play a role in social interactions, such as fighting or courtship displays.\\n* **Not just for show:** While the tusk\\'s role in sensing is increasingly accepted, the idea that it\\'s solely for show or fighting is now less emphasized.  The combination of sensory and social functions is likely more accurate.\\n\\n**Physical Characteristics:**\\n\\n* **White-and-gray mottled skin:**  Their skin is a unique mottled pattern of white and gray, making each narwhal easily identifiable. The coloration can vary based on age and sex.\\n* **Small dorsal fin:** Unlike many other whales, narwhals lack a dorsal fin. They have a small, ridge-like dorsal hump instead.\\n* **Streamlined body:**  Their bodies are streamlined and adapted for maneuvering through ice-covered waters.\\n* **Size:** They reach lengths of 13-16 feet and can weigh up to 3,500 pounds.\\n\\n**Habitat and Behavior:**\\n\\n* **Arctic Ocean dwellers:**  Narwhals are found in the Arctic Ocean and surrounding waters, including Canada, Greenland, Russia, and Norway. They prefer cold, deep waters.\\n* **Social animals:**  They live in pods, sometimes in large groups called herds, which can number in the hundreds or even thousands. These groups often consist of females and calves, with males forming separate groups during certain times of the year.\\n* **Diving masters:**  Narwhals are capable of incredible dives, reaching depths of up to 1,500 meters (almost 5,000 feet) and holding their breath for up to 25 minutes.\\n* **Diet:** Their diet primarily consists of fish, squid, and crustaceans.\\n\\n**Conservation Status:**\\n\\n* **Vulnerable:**  While not currently endangered, narwhals are classified as vulnerable due to climate change, hunting (though regulated in many areas), and pollution.  The melting of Arctic sea ice is significantly impacting their habitat and prey availability.\\n\\n**Cultural Significance:**\\n\\n* **Important to Inuit culture:**  For many Inuit communities, narwhals hold significant cultural and spiritual importance.  The tusks are often used in carvings and ceremonies.\\n\\nIn short, the narwhal is a remarkable creature, a testament to the wonders of the Arctic and a compelling example of how unique adaptations allow animals to thrive in challenging environments.  Ongoing research continues to reveal more about these enigmatic animals and the threats they face.\\n' additional_kwargs={} response_metadata={'prompt_feedback': {'block_reason': 0, 'safety_ratings': []}, 'finish_reason': 'STOP', 'safety_ratings': []} id='run-2d4abf21-f0c4-43dc-9d04-d668147e994f-0' usage_metadata={'input_tokens': 9, 'output_tokens': 670, 'total_tokens': 679, 'input_token_details': {'cache_read': 0}}\n"
          ]
        }
      ]
    },
    {
      "cell_type": "code",
      "execution_count": 37,
      "id": "24df63ac-da29-4874-b3df-7e390e97cc8a",
      "metadata": {
        "id": "24df63ac-da29-4874-b3df-7e390e97cc8a"
      },
      "outputs": [],
      "source": [
        "messages.append(output['messages'][-1])\n",
        "messages.append(HumanMessage(f\"Tell me where Orcas live!\", name=\"Lance\"))"
      ]
    },
    {
      "cell_type": "code",
      "execution_count": 38,
      "id": "6d9d8971-c75c-43ca-a209-eb1d07b2ead0",
      "metadata": {
        "colab": {
          "base_uri": "https://localhost:8080/"
        },
        "id": "6d9d8971-c75c-43ca-a209-eb1d07b2ead0",
        "outputId": "c3c7f426-0c34-4757-f644-8910308bf777"
      },
      "outputs": [
        {
          "output_type": "execute_result",
          "data": {
            "text/plain": [
              "[HumanMessage(content='Tell me where Orcas live!', additional_kwargs={}, response_metadata={}, name='Lance')]"
            ]
          },
          "metadata": {},
          "execution_count": 38
        }
      ],
      "source": [
        "# Example of trimming messages\n",
        "trim_messages(\n",
        "            messages,\n",
        "            max_tokens=100,\n",
        "            strategy=\"last\",\n",
        "            token_counter=ChatGoogleGenerativeAI(model=\"gemini-1.5-flash\",api_key = google_api_key ),\n",
        "            allow_partial=False\n",
        "        )"
      ]
    },
    {
      "cell_type": "code",
      "execution_count": 39,
      "id": "ed70a269-a869-4fa0-a1df-29736a432c51",
      "metadata": {
        "id": "ed70a269-a869-4fa0-a1df-29736a432c51"
      },
      "outputs": [],
      "source": [
        "# Invoke, using message trimming in the chat_model_node\n",
        "messages_out_trim = graph.invoke({'messages': messages})"
      ]
    },
    {
      "cell_type": "markdown",
      "id": "38b3db67-380e-46b5-9a6a-20100ba52008",
      "metadata": {
        "id": "38b3db67-380e-46b5-9a6a-20100ba52008"
      },
      "source": [
        "Let's look at the LangSmith trace to see the model invocation:\n",
        "\n",
        "https://smith.langchain.com/public/b153f7e9-f1a5-4d60-8074-f0d7ab5b42ef/r"
      ]
    }
  ],
  "metadata": {
    "kernelspec": {
      "display_name": "Python 3 (ipykernel)",
      "language": "python",
      "name": "python3"
    },
    "language_info": {
      "codemirror_mode": {
        "name": "ipython",
        "version": 3
      },
      "file_extension": ".py",
      "mimetype": "text/x-python",
      "name": "python",
      "nbconvert_exporter": "python",
      "pygments_lexer": "ipython3",
      "version": "3.12.1"
    },
    "colab": {
      "provenance": []
    }
  },
  "nbformat": 4,
  "nbformat_minor": 5
}