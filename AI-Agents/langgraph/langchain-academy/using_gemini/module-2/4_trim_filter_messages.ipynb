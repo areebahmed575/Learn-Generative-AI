{
  "cells": [
    {
      "cell_type": "markdown",
      "id": "c52ea2f9-03ff-4647-b782-46867ebed04e",
      "metadata": {
        "id": "c52ea2f9-03ff-4647-b782-46867ebed04e"
      },
      "source": [
        "# Filtering and trimming messages\n",
        "\n",
        "## Review\n",
        "\n",
        "Now, we have a deeper understanding of a few things:\n",
        "\n",
        "* How to customize the graph state schema\n",
        "* How to define custom state reducers\n",
        "* How to use multiple graph state schemas\n",
        "\n",
        "## Goals\n",
        "\n",
        "Now, we can start using these concepts with models in LangGraph!\n",
        "\n",
        "In the next few sessions, we'll build towards a chatbot that has long-term memory.\n",
        "\n",
        "Because our chatbot will use messages, let's first talk a bit more about advanced ways to work with messages in graph state."
      ]
    },
    {
      "cell_type": "code",
      "execution_count": 1,
      "id": "d5197aba-5d46-421b-ae3b-4e3034edcfda",
      "metadata": {
        "id": "d5197aba-5d46-421b-ae3b-4e3034edcfda"
      },
      "outputs": [],
      "source": [
        "%%capture --no-stderr\n",
        "%pip install --quiet -U langchain_core langgraph langchain_google_genai"
      ]
    },
    {
      "cell_type": "code",
      "execution_count": 2,
      "id": "768dc606-d5f2-468d-96ea-910b264e0f8a",
      "metadata": {
        "id": "768dc606-d5f2-468d-96ea-910b264e0f8a"
      },
      "outputs": [],
      "source": [
        "from google.colab import userdata\n",
        "google_api_key = userdata.get('GEMINI_API_KEY')"
      ]
    },
    {
      "cell_type": "markdown",
      "id": "8b64d8d3-e4ac-4961-bdc0-688825eb5864",
      "metadata": {
        "id": "8b64d8d3-e4ac-4961-bdc0-688825eb5864"
      },
      "source": [
        "We'll use [LangSmith](https://docs.smith.langchain.com/) for [tracing](https://docs.smith.langchain.com/concepts/tracing).\n",
        "\n",
        "We'll log to a project, `langchain-academy`."
      ]
    },
    {
      "cell_type": "markdown",
      "id": "72f3fc90-58b6-4f7f-897e-dddf6ae532c7",
      "metadata": {
        "id": "72f3fc90-58b6-4f7f-897e-dddf6ae532c7"
      },
      "source": [
        "## Messages as state\n",
        "\n",
        "First, let's define some messages."
      ]
    },
    {
      "cell_type": "code",
      "execution_count": 3,
      "id": "cf11a463-e27a-4a05-b41d-64882e38edca",
      "metadata": {
        "colab": {
          "base_uri": "https://localhost:8080/"
        },
        "id": "cf11a463-e27a-4a05-b41d-64882e38edca",
        "outputId": "2e82bd09-5880-47cc-ee18-755fffed7ae0"
      },
      "outputs": [
        {
          "name": "stdout",
          "output_type": "stream",
          "text": [
            "==================================\u001b[1m Ai Message \u001b[0m==================================\n",
            "Name: Bot\n",
            "\n",
            "So you said you were researching ocean mammals?\n",
            "================================\u001b[1m Human Message \u001b[0m=================================\n",
            "Name: Lance\n",
            "\n",
            "Yes, I know about whales. But what others should I learn about?\n"
          ]
        }
      ],
      "source": [
        "from pprint import pprint\n",
        "from langchain_core.messages import AIMessage, HumanMessage\n",
        "messages = [AIMessage(f\"So you said you were researching ocean mammals?\", name=\"Bot\")]\n",
        "messages.append(HumanMessage(f\"Yes, I know about whales. But what others should I learn about?\", name=\"Lance\"))\n",
        "\n",
        "for m in messages:\n",
        "    m.pretty_print()"
      ]
    },
    {
      "cell_type": "markdown",
      "id": "b814adcb-6bf9-4b75-be11-e59f933fbd0c",
      "metadata": {
        "id": "b814adcb-6bf9-4b75-be11-e59f933fbd0c"
      },
      "source": [
        "Recall we can pass them to a chat model."
      ]
    },
    {
      "cell_type": "code",
      "execution_count": 4,
      "id": "4712e288-e622-48a2-ad3f-a52f65f3ab08",
      "metadata": {
        "colab": {
          "base_uri": "https://localhost:8080/"
        },
        "id": "4712e288-e622-48a2-ad3f-a52f65f3ab08",
        "outputId": "293f1024-0530-413f-f235-d8b2c3d35771"
      },
      "outputs": [
        {
          "data": {
            "text/plain": [
              "AIMessage(content='That\\'s great you\\'re interested in ocean mammals! Whales are a huge group to start with, but there\\'s a whole fascinating world beyond them.  To suggest others, let\\'s break it down by group:\\n\\n**1. Marine Mammals closely related to land mammals:**\\n\\n* **Seals (Pinnipeds):**  These are a diverse group including:\\n    * **True Seals (Phocidae):**  Lack external ear flaps, move on land by wriggling.  Examples: Harbor seals, Harp seals, Leopard seals.\\n    * **Eared Seals (Otariidae):** Have external ear flaps, use their front flippers to \"walk\" on land. Examples: Sea lions, Fur seals.\\n    * **Walruses (Odobenidae):**  Unique tusks, specialized for feeding on clams and other benthic invertebrates.\\n\\n* **Sea Otters (Mustelidae):**  The smallest marine mammal, incredibly intelligent and known for using tools.\\n\\n* **Polar Bears (Ursidae):**  While technically not entirely marine, they are highly adapted to Arctic sea ice and spend a significant portion of their lives in and around the water.\\n\\n\\n**2. Other Aquatic Mammals:**\\n\\n* **Sirenians (Manatees and Dugongs):**  Gentle herbivores, often called \"sea cows.\"  Manatees are found in warmer, coastal waters of the Americas, while dugongs are found in warmer waters of the Indo-Pacific region.\\n\\n**To help me give you more specific suggestions, tell me what aspects of ocean mammals interest you most? For example:**\\n\\n* **Their biology:**  (diet, reproduction, social structures, adaptations)\\n* **Their conservation status:** (threats they face, conservation efforts)\\n* **Their behavior:** (hunting strategies, communication, migration patterns)\\n* **Specific geographic regions:** (Arctic, Antarctic, tropical oceans)\\n\\n\\nOnce I know your interests, I can provide more tailored recommendations for your research.', additional_kwargs={}, response_metadata={'prompt_feedback': {'block_reason': 0, 'safety_ratings': []}, 'finish_reason': 'STOP', 'model_name': 'gemini-1.5-flash', 'safety_ratings': []}, id='run--f91c120d-140e-4462-af8d-c94536b6f368-0', usage_metadata={'input_tokens': 24, 'output_tokens': 414, 'total_tokens': 438, 'input_token_details': {'cache_read': 0}})"
            ]
          },
          "execution_count": 4,
          "metadata": {},
          "output_type": "execute_result"
        }
      ],
      "source": [
        "from langchain_google_genai import ChatGoogleGenerativeAI\n",
        "llm: ChatGoogleGenerativeAI = ChatGoogleGenerativeAI(model = \"gemini-1.5-flash\",api_key = google_api_key )\n",
        "llm.invoke(messages)"
      ]
    },
    {
      "cell_type": "markdown",
      "id": "fbd1dab8-0af8-4621-8264-ce65065f76ec",
      "metadata": {
        "id": "fbd1dab8-0af8-4621-8264-ce65065f76ec"
      },
      "source": [
        "We can run our chat model in a simple graph with `MessagesState`."
      ]
    },
    {
      "cell_type": "code",
      "execution_count": 5,
      "id": "bbd8c39c-633b-4176-9cc6-8318e42bb5dd",
      "metadata": {
        "colab": {
          "base_uri": "https://localhost:8080/",
          "height": 251
        },
        "id": "bbd8c39c-633b-4176-9cc6-8318e42bb5dd",
        "outputId": "dc83c328-dc43-46a9-9b91-b166f35e4e0f"
      },
      "outputs": [
        {
          "data": {
            "image/png": "[encoded data removed]",
            "text/plain": [
              "<IPython.core.display.Image object>"
            ]
          },
          "metadata": {},
          "output_type": "display_data"
        }
      ],
      "source": [
        "from IPython.display import Image, display\n",
        "from langgraph.graph import MessagesState\n",
        "from langgraph.graph import StateGraph, START, END\n",
        "from langgraph.graph.state import CompiledStateGraph\n",
        "\n",
        "# Node\n",
        "def chat_model_node(state: MessagesState) -> MessagesState:\n",
        "    return {\"messages\": llm.invoke(state[\"messages\"])}\n",
        "\n",
        "# Build graph\n",
        "builder: StateGraph = StateGraph(MessagesState)\n",
        "builder.add_node(\"chat_model\", chat_model_node)\n",
        "builder.add_edge(START, \"chat_model\")\n",
        "builder.add_edge(\"chat_model\", END)\n",
        "graph: CompiledStateGraph = builder.compile()\n",
        "\n",
        "# View\n",
        "display(Image(graph.get_graph().draw_mermaid_png()))"
      ]
    },
    {
      "cell_type": "code",
      "execution_count": 6,
      "id": "3a5a3e4a-ccfd-4d14-81f1-f0de6e11a1e4",
      "metadata": {
        "colab": {
          "base_uri": "https://localhost:8080/"
        },
        "id": "3a5a3e4a-ccfd-4d14-81f1-f0de6e11a1e4",
        "outputId": "f508ab5b-863a-4ba1-e0a4-ea740cc930e2"
      },
      "outputs": [
        {
          "name": "stdout",
          "output_type": "stream",
          "text": [
            "{'messages': [AIMessage(content='So you said you were researching ocean mammals?', additional_kwargs={}, response_metadata={}, name='Bot', id='9056d0ca-f4ba-44be-bd8b-3e38a9fddfca'), HumanMessage(content='Yes, I know about whales. But what others should I learn about?', additional_kwargs={}, response_metadata={}, name='Lance', id='639512ed-8cff-466b-914d-206be3cc40e2'), AIMessage(content=\"That's great you're interested in ocean mammals! Whales are a fascinating group, but the ocean holds a diverse array of other amazing creatures.  To broaden your research, consider these groups:\\n\\n**1. Seals, Sea Lions, and Walruses (Pinnipeds):**\\n\\n* **Seals:**  These are generally characterized by their lack of external ear flaps, shorter flippers, and a more streamlined body for underwater agility.  There are many different species with varied habitats and behaviors.  Learn about harbor seals, elephant seals, leopard seals, etc.\\n* **Sea Lions:**  Distinguished by their external ear flaps (pinnae), longer flippers, and a more dog-like appearance.  They are often more agile on land than seals.  California sea lions and Steller sea lions are good examples.\\n* **Walruses:**  These massive pinnipeds are easily identifiable by their tusks and thick blubber.  They are adapted to arctic environments.\\n\\n**2. Sea Otters (Mustelids):**\\n\\n* These small, playful mammals are the smallest marine mammals in North America.  They are known for their dense fur, use of tools (rocks to crack open shellfish), and high metabolism.\\n\\n**3. Polar Bears (Ursids):**\\n\\n* While technically not entirely marine mammals (they spend time on land), polar bears are heavily reliant on the marine environment for hunting seals and other prey.  Their adaptations to arctic conditions are remarkable.\\n\\n**4. Manatees and Dugongs (Sirenians):**\\n\\n* These gentle giants are herbivores that inhabit warmer coastal waters and rivers.  Manatees are found in the Americas, while dugongs are found in the Indo-Pacific region.  They are slow-moving and vulnerable to human activity.\\n\\n**5. Dolphins and Porpoises (Odontocetes - toothed whales):**\\n\\n* While you mentioned whales, you might want to focus specifically on the *toothed* whales, which are distinct from baleen whales.  This group includes a vast array of species, from the common bottlenose dolphin to the smaller, less well-known porpoises.\\n\\nTo make your research more focused, you could consider these aspects:\\n\\n* **Specific geographic regions:**  Focus on the ocean mammals found in a particular area (e.g., the Arctic, the Antarctic, the Pacific Northwest).\\n* **Specific behaviors:**  Research a particular behavior, such as echolocation, migration patterns, social structures, or hunting techniques.\\n* **Conservation status:**  Focus on endangered or threatened species and the challenges they face.\\n\\n\\nRemember to use reputable sources for your research, such as scientific journals, conservation organizations' websites, and academic databases.  Happy researching!\", additional_kwargs={}, response_metadata={'prompt_feedback': {'block_reason': 0, 'safety_ratings': []}, 'finish_reason': 'STOP', 'model_name': 'gemini-1.5-flash', 'safety_ratings': []}, id='run--6ef5bd2b-8eb0-4c67-b64b-27f0f96722a3-0', usage_metadata={'input_tokens': 24, 'output_tokens': 568, 'total_tokens': 592, 'input_token_details': {'cache_read': 0}})]}\n",
            "[AIMessage(content='So you said you were researching ocean mammals?', additional_kwargs={}, response_metadata={}, name='Bot', id='9056d0ca-f4ba-44be-bd8b-3e38a9fddfca'), HumanMessage(content='Yes, I know about whales. But what others should I learn about?', additional_kwargs={}, response_metadata={}, name='Lance', id='639512ed-8cff-466b-914d-206be3cc40e2'), AIMessage(content=\"That's great you're interested in ocean mammals! Whales are a fascinating group, but the ocean holds a diverse array of other amazing creatures.  To broaden your research, consider these groups:\\n\\n**1. Seals, Sea Lions, and Walruses (Pinnipeds):**\\n\\n* **Seals:**  These are generally characterized by their lack of external ear flaps, shorter flippers, and a more streamlined body for underwater agility.  There are many different species with varied habitats and behaviors.  Learn about harbor seals, elephant seals, leopard seals, etc.\\n* **Sea Lions:**  Distinguished by their external ear flaps (pinnae), longer flippers, and a more dog-like appearance.  They are often more agile on land than seals.  California sea lions and Steller sea lions are good examples.\\n* **Walruses:**  These massive pinnipeds are easily identifiable by their tusks and thick blubber.  They are adapted to arctic environments.\\n\\n**2. Sea Otters (Mustelids):**\\n\\n* These small, playful mammals are the smallest marine mammals in North America.  They are known for their dense fur, use of tools (rocks to crack open shellfish), and high metabolism.\\n\\n**3. Polar Bears (Ursids):**\\n\\n* While technically not entirely marine mammals (they spend time on land), polar bears are heavily reliant on the marine environment for hunting seals and other prey.  Their adaptations to arctic conditions are remarkable.\\n\\n**4. Manatees and Dugongs (Sirenians):**\\n\\n* These gentle giants are herbivores that inhabit warmer coastal waters and rivers.  Manatees are found in the Americas, while dugongs are found in the Indo-Pacific region.  They are slow-moving and vulnerable to human activity.\\n\\n**5. Dolphins and Porpoises (Odontocetes - toothed whales):**\\n\\n* While you mentioned whales, you might want to focus specifically on the *toothed* whales, which are distinct from baleen whales.  This group includes a vast array of species, from the common bottlenose dolphin to the smaller, less well-known porpoises.\\n\\nTo make your research more focused, you could consider these aspects:\\n\\n* **Specific geographic regions:**  Focus on the ocean mammals found in a particular area (e.g., the Arctic, the Antarctic, the Pacific Northwest).\\n* **Specific behaviors:**  Research a particular behavior, such as echolocation, migration patterns, social structures, or hunting techniques.\\n* **Conservation status:**  Focus on endangered or threatened species and the challenges they face.\\n\\n\\nRemember to use reputable sources for your research, such as scientific journals, conservation organizations' websites, and academic databases.  Happy researching!\", additional_kwargs={}, response_metadata={'prompt_feedback': {'block_reason': 0, 'safety_ratings': []}, 'finish_reason': 'STOP', 'model_name': 'gemini-1.5-flash', 'safety_ratings': []}, id='run--6ef5bd2b-8eb0-4c67-b64b-27f0f96722a3-0', usage_metadata={'input_tokens': 24, 'output_tokens': 568, 'total_tokens': 592, 'input_token_details': {'cache_read': 0}})]\n"
          ]
        }
      ],
      "source": [
        "output = graph.invoke({'messages': messages})\n",
        "print(output)\n",
        "print(output['messages'])"
      ]
    },
    {
      "cell_type": "code",
      "execution_count": 7,
      "id": "JgY-po_gsmxF",
      "metadata": {
        "colab": {
          "base_uri": "https://localhost:8080/"
        },
        "id": "JgY-po_gsmxF",
        "outputId": "51251fe4-efaa-43a3-b76a-8894c45ef74c"
      },
      "outputs": [
        {
          "name": "stdout",
          "output_type": "stream",
          "text": [
            "==================================\u001b[1m Ai Message \u001b[0m==================================\n",
            "Name: Bot\n",
            "\n",
            "So you said you were researching ocean mammals?\n",
            "================================\u001b[1m Human Message \u001b[0m=================================\n",
            "Name: Lance\n",
            "\n",
            "Yes, I know about whales. But what others should I learn about?\n",
            "==================================\u001b[1m Ai Message \u001b[0m==================================\n",
            "\n",
            "That's great you're interested in ocean mammals! Whales are a fascinating group, but the ocean holds a diverse array of other amazing creatures.  To broaden your research, consider these groups:\n",
            "\n",
            "**1. Seals, Sea Lions, and Walruses (Pinnipeds):**\n",
            "\n",
            "* **Seals:**  These are generally characterized by their lack of external ear flaps, shorter flippers, and a more streamlined body for underwater agility.  There are many different species with varied habitats and behaviors.  Learn about harbor seals, elephant seals, leopard seals, etc.\n",
            "* **Sea Lions:**  Distinguished by their external ear flaps (pinnae), longer flippers, and a more dog-like appearance.  They are often more agile on land than seals.  California sea lions and Steller sea lions are good examples.\n",
            "* **Walruses:**  These massive pinnipeds are easily identifiable by their tusks and thick blubber.  They are adapted to arctic environments.\n",
            "\n",
            "**2. Sea Otters (Mustelids):**\n",
            "\n",
            "* These small, playful mammals are the smallest marine mammals in North America.  They are known for their dense fur, use of tools (rocks to crack open shellfish), and high metabolism.\n",
            "\n",
            "**3. Polar Bears (Ursids):**\n",
            "\n",
            "* While technically not entirely marine mammals (they spend time on land), polar bears are heavily reliant on the marine environment for hunting seals and other prey.  Their adaptations to arctic conditions are remarkable.\n",
            "\n",
            "**4. Manatees and Dugongs (Sirenians):**\n",
            "\n",
            "* These gentle giants are herbivores that inhabit warmer coastal waters and rivers.  Manatees are found in the Americas, while dugongs are found in the Indo-Pacific region.  They are slow-moving and vulnerable to human activity.\n",
            "\n",
            "**5. Dolphins and Porpoises (Odontocetes - toothed whales):**\n",
            "\n",
            "* While you mentioned whales, you might want to focus specifically on the *toothed* whales, which are distinct from baleen whales.  This group includes a vast array of species, from the common bottlenose dolphin to the smaller, less well-known porpoises.\n",
            "\n",
            "To make your research more focused, you could consider these aspects:\n",
            "\n",
            "* **Specific geographic regions:**  Focus on the ocean mammals found in a particular area (e.g., the Arctic, the Antarctic, the Pacific Northwest).\n",
            "* **Specific behaviors:**  Research a particular behavior, such as echolocation, migration patterns, social structures, or hunting techniques.\n",
            "* **Conservation status:**  Focus on endangered or threatened species and the challenges they face.\n",
            "\n",
            "\n",
            "Remember to use reputable sources for your research, such as scientific journals, conservation organizations' websites, and academic databases.  Happy researching!\n"
          ]
        }
      ],
      "source": [
        "for m in output['messages']:\n",
        "    m.pretty_print()"
      ]
    },
    {
      "cell_type": "code",
      "execution_count": 8,
      "id": "4Kl4lGlZyxej",
      "metadata": {
        "colab": {
          "base_uri": "https://localhost:8080/"
        },
        "id": "4Kl4lGlZyxej",
        "outputId": "4ac4cfc6-6ce0-467b-d8ba-8fe03e5072ec"
      },
      "outputs": [
        {
          "name": "stdout",
          "output_type": "stream",
          "text": [
            "{'event': 'on_chain_start', 'data': {'input': {'messages': [AIMessage(content='So you said you were researching ocean mammals?', additional_kwargs={}, response_metadata={}, name='Bot', id='9056d0ca-f4ba-44be-bd8b-3e38a9fddfca'), HumanMessage(content='Yes, I know about whales. But what others should I learn about?', additional_kwargs={}, response_metadata={}, name='Lance', id='639512ed-8cff-466b-914d-206be3cc40e2')]}}, 'name': 'LangGraph', 'tags': [], 'run_id': '2aedc54b-35d8-4464-8999-4308979c242e', 'metadata': {}, 'parent_ids': []}\n",
            "\n",
            "--------------\n",
            "\n",
            "{'event': 'on_chain_start', 'data': {'input': {'messages': [AIMessage(content='So you said you were researching ocean mammals?', additional_kwargs={}, response_metadata={}, name='Bot', id='9056d0ca-f4ba-44be-bd8b-3e38a9fddfca'), HumanMessage(content='Yes, I know about whales. But what others should I learn about?', additional_kwargs={}, response_metadata={}, name='Lance', id='639512ed-8cff-466b-914d-206be3cc40e2')]}}, 'name': 'chat_model', 'tags': ['graph:step:1'], 'run_id': '6833bb71-ea3d-4419-80e2-4970051de7b8', 'metadata': {'langgraph_step': 1, 'langgraph_node': 'chat_model', 'langgraph_triggers': ('branch:to:chat_model',), 'langgraph_path': ('__pregel_pull', 'chat_model'), 'langgraph_checkpoint_ns': 'chat_model:3476f924-049a-58c6-3149-9a5b553c6f64'}, 'parent_ids': ['2aedc54b-35d8-4464-8999-4308979c242e']}\n",
            "\n",
            "--------------\n",
            "\n",
            "{'event': 'on_chat_model_start', 'data': {'input': {'messages': [[AIMessage(content='So you said you were researching ocean mammals?', additional_kwargs={}, response_metadata={}, name='Bot', id='9056d0ca-f4ba-44be-bd8b-3e38a9fddfca'), HumanMessage(content='Yes, I know about whales. But what others should I learn about?', additional_kwargs={}, response_metadata={}, name='Lance', id='639512ed-8cff-466b-914d-206be3cc40e2')]]}}, 'name': 'ChatGoogleGenerativeAI', 'tags': ['seq:step:1'], 'run_id': '77f82680-8ad3-4258-87ef-6adcfe23a80b', 'metadata': {'langgraph_step': 1, 'langgraph_node': 'chat_model', 'langgraph_triggers': ('branch:to:chat_model',), 'langgraph_path': ('__pregel_pull', 'chat_model'), 'langgraph_checkpoint_ns': 'chat_model:3476f924-049a-58c6-3149-9a5b553c6f64', 'checkpoint_ns': 'chat_model:3476f924-049a-58c6-3149-9a5b553c6f64', 'ls_provider': 'google_genai', 'ls_model_name': 'gemini-1.5-flash', 'ls_model_type': 'chat', 'ls_temperature': 0.7}, 'parent_ids': ['2aedc54b-35d8-4464-8999-4308979c242e', '6833bb71-ea3d-4419-80e2-4970051de7b8']}\n",
            "\n",
            "--------------\n",
            "\n",
            "{'event': 'on_chat_model_stream', 'data': {'chunk': AIMessageChunk(content='That', additional_kwargs={}, response_metadata={'safety_ratings': []}, id='run--77f82680-8ad3-4258-87ef-6adcfe23a80b', usage_metadata={'input_tokens': 26, 'output_tokens': 0, 'total_tokens': 26, 'input_token_details': {'cache_read': 0}})}, 'run_id': '77f82680-8ad3-4258-87ef-6adcfe23a80b', 'name': 'ChatGoogleGenerativeAI', 'tags': ['seq:step:1'], 'metadata': {'langgraph_step': 1, 'langgraph_node': 'chat_model', 'langgraph_triggers': ('branch:to:chat_model',), 'langgraph_path': ('__pregel_pull', 'chat_model'), 'langgraph_checkpoint_ns': 'chat_model:3476f924-049a-58c6-3149-9a5b553c6f64', 'checkpoint_ns': 'chat_model:3476f924-049a-58c6-3149-9a5b553c6f64', 'ls_provider': 'google_genai', 'ls_model_name': 'gemini-1.5-flash', 'ls_model_type': 'chat', 'ls_temperature': 0.7}, 'parent_ids': ['2aedc54b-35d8-4464-8999-4308979c242e', '6833bb71-ea3d-4419-80e2-4970051de7b8']}\n",
            "\n",
            "--------------\n",
            "\n",
            "{'event': 'on_chat_model_stream', 'data': {'chunk': AIMessageChunk(content=\"'s great you're interested in ocean mammals! Whales are a fantastic group\", additional_kwargs={}, response_metadata={'safety_ratings': []}, id='run--77f82680-8ad3-4258-87ef-6adcfe23a80b', usage_metadata={'input_token_details': {'cache_read': 0}, 'total_tokens': 0, 'output_tokens': 0, 'input_tokens': 0})}, 'run_id': '77f82680-8ad3-4258-87ef-6adcfe23a80b', 'name': 'ChatGoogleGenerativeAI', 'tags': ['seq:step:1'], 'metadata': {'langgraph_step': 1, 'langgraph_node': 'chat_model', 'langgraph_triggers': ('branch:to:chat_model',), 'langgraph_path': ('__pregel_pull', 'chat_model'), 'langgraph_checkpoint_ns': 'chat_model:3476f924-049a-58c6-3149-9a5b553c6f64', 'checkpoint_ns': 'chat_model:3476f924-049a-58c6-3149-9a5b553c6f64', 'ls_provider': 'google_genai', 'ls_model_name': 'gemini-1.5-flash', 'ls_model_type': 'chat', 'ls_temperature': 0.7}, 'parent_ids': ['2aedc54b-35d8-4464-8999-4308979c242e', '6833bb71-ea3d-4419-80e2-4970051de7b8']}\n",
            "\n",
            "--------------\n",
            "\n",
            "{'event': 'on_chat_model_stream', 'data': {'chunk': AIMessageChunk(content=\", but there's a whole underwater world to explore beyond them.  To\", additional_kwargs={}, response_metadata={'safety_ratings': []}, id='run--77f82680-8ad3-4258-87ef-6adcfe23a80b', usage_metadata={'input_token_details': {'cache_read': 0}, 'total_tokens': 0, 'output_tokens': 0, 'input_tokens': 0})}, 'run_id': '77f82680-8ad3-4258-87ef-6adcfe23a80b', 'name': 'ChatGoogleGenerativeAI', 'tags': ['seq:step:1'], 'metadata': {'langgraph_step': 1, 'langgraph_node': 'chat_model', 'langgraph_triggers': ('branch:to:chat_model',), 'langgraph_path': ('__pregel_pull', 'chat_model'), 'langgraph_checkpoint_ns': 'chat_model:3476f924-049a-58c6-3149-9a5b553c6f64', 'checkpoint_ns': 'chat_model:3476f924-049a-58c6-3149-9a5b553c6f64', 'ls_provider': 'google_genai', 'ls_model_name': 'gemini-1.5-flash', 'ls_model_type': 'chat', 'ls_temperature': 0.7}, 'parent_ids': ['2aedc54b-35d8-4464-8999-4308979c242e', '6833bb71-ea3d-4419-80e2-4970051de7b8']}\n",
            "\n",
            "--------------\n",
            "\n",
            "{'event': 'on_chat_model_stream', 'data': {'chunk': AIMessageChunk(content=' suggest other groups you should learn about, it helps to know what aspects of whales interest you.  But regardless, here are some other fascinating ocean mammal groups:', additional_kwargs={}, response_metadata={'safety_ratings': []}, id='run--77f82680-8ad3-4258-87ef-6adcfe23a80b', usage_metadata={'input_token_details': {'cache_read': 0}, 'total_tokens': 0, 'output_tokens': 0, 'input_tokens': 0})}, 'run_id': '77f82680-8ad3-4258-87ef-6adcfe23a80b', 'name': 'ChatGoogleGenerativeAI', 'tags': ['seq:step:1'], 'metadata': {'langgraph_step': 1, 'langgraph_node': 'chat_model', 'langgraph_triggers': ('branch:to:chat_model',), 'langgraph_path': ('__pregel_pull', 'chat_model'), 'langgraph_checkpoint_ns': 'chat_model:3476f924-049a-58c6-3149-9a5b553c6f64', 'checkpoint_ns': 'chat_model:3476f924-049a-58c6-3149-9a5b553c6f64', 'ls_provider': 'google_genai', 'ls_model_name': 'gemini-1.5-flash', 'ls_model_type': 'chat', 'ls_temperature': 0.7}, 'parent_ids': ['2aedc54b-35d8-4464-8999-4308979c242e', '6833bb71-ea3d-4419-80e2-4970051de7b8']}\n",
            "\n",
            "--------------\n",
            "\n",
            "{'event': 'on_chat_model_stream', 'data': {'chunk': AIMessageChunk(content='\\n\\n**Based on general interest:**\\n\\n* **Dolphins and Porpoises:** These are incredibly diverse and intelligent animals with fascinating social structures and communication methods.', additional_kwargs={}, response_metadata={'safety_ratings': []}, id='run--77f82680-8ad3-4258-87ef-6adcfe23a80b', usage_metadata={'input_token_details': {'cache_read': 0}, 'total_tokens': 0, 'output_tokens': 0, 'input_tokens': 0})}, 'run_id': '77f82680-8ad3-4258-87ef-6adcfe23a80b', 'name': 'ChatGoogleGenerativeAI', 'tags': ['seq:step:1'], 'metadata': {'langgraph_step': 1, 'langgraph_node': 'chat_model', 'langgraph_triggers': ('branch:to:chat_model',), 'langgraph_path': ('__pregel_pull', 'chat_model'), 'langgraph_checkpoint_ns': 'chat_model:3476f924-049a-58c6-3149-9a5b553c6f64', 'checkpoint_ns': 'chat_model:3476f924-049a-58c6-3149-9a5b553c6f64', 'ls_provider': 'google_genai', 'ls_model_name': 'gemini-1.5-flash', 'ls_model_type': 'chat', 'ls_temperature': 0.7}, 'parent_ids': ['2aedc54b-35d8-4464-8999-4308979c242e', '6833bb71-ea3d-4419-80e2-4970051de7b8']}\n",
            "\n",
            "--------------\n",
            "\n",
            "{'event': 'on_chat_model_stream', 'data': {'chunk': AIMessageChunk(content='  They range from the playful bottlenose dolphin to the smaller, less sociable harbor porpoise.  Learning about their echolocation is particularly interesting.\\n\\n* **Seals:**  These pinnipeds (fin-footed mammals) include harbor', additional_kwargs={}, response_metadata={'safety_ratings': []}, id='run--77f82680-8ad3-4258-87ef-6adcfe23a80b', usage_metadata={'input_token_details': {'cache_read': 0}, 'total_tokens': 0, 'output_tokens': 0, 'input_tokens': 0})}, 'run_id': '77f82680-8ad3-4258-87ef-6adcfe23a80b', 'name': 'ChatGoogleGenerativeAI', 'tags': ['seq:step:1'], 'metadata': {'langgraph_step': 1, 'langgraph_node': 'chat_model', 'langgraph_triggers': ('branch:to:chat_model',), 'langgraph_path': ('__pregel_pull', 'chat_model'), 'langgraph_checkpoint_ns': 'chat_model:3476f924-049a-58c6-3149-9a5b553c6f64', 'checkpoint_ns': 'chat_model:3476f924-049a-58c6-3149-9a5b553c6f64', 'ls_provider': 'google_genai', 'ls_model_name': 'gemini-1.5-flash', 'ls_model_type': 'chat', 'ls_temperature': 0.7}, 'parent_ids': ['2aedc54b-35d8-4464-8999-4308979c242e', '6833bb71-ea3d-4419-80e2-4970051de7b8']}\n",
            "\n",
            "--------------\n",
            "\n",
            "{'event': 'on_chat_model_stream', 'data': {'chunk': AIMessageChunk(content=' seals, elephant seals, and leopard seals, each with unique adaptations for their environment and hunting strategies.  Learn about their adaptations for both land and water.\\n\\n* **Sea Lions and Fur Seals:**  Another pinniped group, these', additional_kwargs={}, response_metadata={'safety_ratings': []}, id='run--77f82680-8ad3-4258-87ef-6adcfe23a80b', usage_metadata={'input_token_details': {'cache_read': 0}, 'total_tokens': 0, 'output_tokens': 0, 'input_tokens': 0})}, 'run_id': '77f82680-8ad3-4258-87ef-6adcfe23a80b', 'name': 'ChatGoogleGenerativeAI', 'tags': ['seq:step:1'], 'metadata': {'langgraph_step': 1, 'langgraph_node': 'chat_model', 'langgraph_triggers': ('branch:to:chat_model',), 'langgraph_path': ('__pregel_pull', 'chat_model'), 'langgraph_checkpoint_ns': 'chat_model:3476f924-049a-58c6-3149-9a5b553c6f64', 'checkpoint_ns': 'chat_model:3476f924-049a-58c6-3149-9a5b553c6f64', 'ls_provider': 'google_genai', 'ls_model_name': 'gemini-1.5-flash', 'ls_model_type': 'chat', 'ls_temperature': 0.7}, 'parent_ids': ['2aedc54b-35d8-4464-8999-4308979c242e', '6833bb71-ea3d-4419-80e2-4970051de7b8']}\n",
            "\n",
            "--------------\n",
            "\n",
            "{'event': 'on_chat_model_stream', 'data': {'chunk': AIMessageChunk(content=' are often more agile on land than seals due to their external ear flaps (pinnae) and more flexible flippers.  They also have diverse behaviors and social structures.\\n\\n* **Walruses:**  These massive tusked pinnipeds are unique and fascinating, with intriguing feeding habits and social dynamics.\\n\\n*', additional_kwargs={}, response_metadata={'safety_ratings': []}, id='run--77f82680-8ad3-4258-87ef-6adcfe23a80b', usage_metadata={'input_token_details': {'cache_read': 0}, 'total_tokens': 0, 'output_tokens': 0, 'input_tokens': 0})}, 'run_id': '77f82680-8ad3-4258-87ef-6adcfe23a80b', 'name': 'ChatGoogleGenerativeAI', 'tags': ['seq:step:1'], 'metadata': {'langgraph_step': 1, 'langgraph_node': 'chat_model', 'langgraph_triggers': ('branch:to:chat_model',), 'langgraph_path': ('__pregel_pull', 'chat_model'), 'langgraph_checkpoint_ns': 'chat_model:3476f924-049a-58c6-3149-9a5b553c6f64', 'checkpoint_ns': 'chat_model:3476f924-049a-58c6-3149-9a5b553c6f64', 'ls_provider': 'google_genai', 'ls_model_name': 'gemini-1.5-flash', 'ls_model_type': 'chat', 'ls_temperature': 0.7}, 'parent_ids': ['2aedc54b-35d8-4464-8999-4308979c242e', '6833bb71-ea3d-4419-80e2-4970051de7b8']}\n",
            "\n",
            "--------------\n",
            "\n",
            "{'event': 'on_chat_model_stream', 'data': {'chunk': AIMessageChunk(content=' **Sea Otters:** These are the smallest marine mammals in North America, known for their incredible dexterity and use of tools (like rocks to crack open shellfish).\\n\\n* **Manatees and Dugongs (Sirenians):** These gentle giants are herbivorous marine mammals, often called \"sea cows.\" They are', additional_kwargs={}, response_metadata={'safety_ratings': []}, id='run--77f82680-8ad3-4258-87ef-6adcfe23a80b', usage_metadata={'input_token_details': {'cache_read': 0}, 'total_tokens': 0, 'output_tokens': 0, 'input_tokens': 0})}, 'run_id': '77f82680-8ad3-4258-87ef-6adcfe23a80b', 'name': 'ChatGoogleGenerativeAI', 'tags': ['seq:step:1'], 'metadata': {'langgraph_step': 1, 'langgraph_node': 'chat_model', 'langgraph_triggers': ('branch:to:chat_model',), 'langgraph_path': ('__pregel_pull', 'chat_model'), 'langgraph_checkpoint_ns': 'chat_model:3476f924-049a-58c6-3149-9a5b553c6f64', 'checkpoint_ns': 'chat_model:3476f924-049a-58c6-3149-9a5b553c6f64', 'ls_provider': 'google_genai', 'ls_model_name': 'gemini-1.5-flash', 'ls_model_type': 'chat', 'ls_temperature': 0.7}, 'parent_ids': ['2aedc54b-35d8-4464-8999-4308979c242e', '6833bb71-ea3d-4419-80e2-4970051de7b8']}\n",
            "\n",
            "--------------\n",
            "\n",
            "{'event': 'on_chat_model_stream', 'data': {'chunk': AIMessageChunk(content=' facing significant threats from human activities.\\n\\n\\n**To further refine your research, consider these aspects:**\\n\\n* **Geographic Location:** Are you interested in the mammals of a specific ocean or region?  The Arctic has different mammals than the tropics.\\n\\n* **Specific Behaviors:** Are you interested in communication, social structures, hunting', additional_kwargs={}, response_metadata={'safety_ratings': []}, id='run--77f82680-8ad3-4258-87ef-6adcfe23a80b', usage_metadata={'input_token_details': {'cache_read': 0}, 'total_tokens': 0, 'output_tokens': 0, 'input_tokens': 0})}, 'run_id': '77f82680-8ad3-4258-87ef-6adcfe23a80b', 'name': 'ChatGoogleGenerativeAI', 'tags': ['seq:step:1'], 'metadata': {'langgraph_step': 1, 'langgraph_node': 'chat_model', 'langgraph_triggers': ('branch:to:chat_model',), 'langgraph_path': ('__pregel_pull', 'chat_model'), 'langgraph_checkpoint_ns': 'chat_model:3476f924-049a-58c6-3149-9a5b553c6f64', 'checkpoint_ns': 'chat_model:3476f924-049a-58c6-3149-9a5b553c6f64', 'ls_provider': 'google_genai', 'ls_model_name': 'gemini-1.5-flash', 'ls_model_type': 'chat', 'ls_temperature': 0.7}, 'parent_ids': ['2aedc54b-35d8-4464-8999-4308979c242e', '6833bb71-ea3d-4419-80e2-4970051de7b8']}\n",
            "\n",
            "--------------\n",
            "\n",
            "{'event': 'on_chat_model_stream', 'data': {'chunk': AIMessageChunk(content=' techniques, migration patterns, or reproduction?\\n\\n* **Conservation Status:** Are you interested in endangered or threatened species?  Many ocean mammals are facing challenges from habitat loss, pollution, and climate change.\\n\\n\\nOnce you tell me a bit more about what specifically interests you within the realm of ocean mammals, I can give you', additional_kwargs={}, response_metadata={'safety_ratings': []}, id='run--77f82680-8ad3-4258-87ef-6adcfe23a80b', usage_metadata={'input_token_details': {'cache_read': 0}, 'total_tokens': 0, 'output_tokens': 0, 'input_tokens': 0})}, 'run_id': '77f82680-8ad3-4258-87ef-6adcfe23a80b', 'name': 'ChatGoogleGenerativeAI', 'tags': ['seq:step:1'], 'metadata': {'langgraph_step': 1, 'langgraph_node': 'chat_model', 'langgraph_triggers': ('branch:to:chat_model',), 'langgraph_path': ('__pregel_pull', 'chat_model'), 'langgraph_checkpoint_ns': 'chat_model:3476f924-049a-58c6-3149-9a5b553c6f64', 'checkpoint_ns': 'chat_model:3476f924-049a-58c6-3149-9a5b553c6f64', 'ls_provider': 'google_genai', 'ls_model_name': 'gemini-1.5-flash', 'ls_model_type': 'chat', 'ls_temperature': 0.7}, 'parent_ids': ['2aedc54b-35d8-4464-8999-4308979c242e', '6833bb71-ea3d-4419-80e2-4970051de7b8']}\n",
            "\n",
            "--------------\n",
            "\n",
            "{'event': 'on_chat_model_stream', 'data': {'chunk': AIMessageChunk(content=' more tailored suggestions.  For example, are you interested in their evolution, their physiology, their conservation, or their behavior?\\n', additional_kwargs={}, response_metadata={'finish_reason': 'STOP', 'model_name': 'gemini-1.5-flash', 'safety_ratings': []}, id='run--77f82680-8ad3-4258-87ef-6adcfe23a80b', usage_metadata={'input_token_details': {'cache_read': 0}, 'total_tokens': 473, 'output_tokens': 475, 'input_tokens': -2})}, 'run_id': '77f82680-8ad3-4258-87ef-6adcfe23a80b', 'name': 'ChatGoogleGenerativeAI', 'tags': ['seq:step:1'], 'metadata': {'langgraph_step': 1, 'langgraph_node': 'chat_model', 'langgraph_triggers': ('branch:to:chat_model',), 'langgraph_path': ('__pregel_pull', 'chat_model'), 'langgraph_checkpoint_ns': 'chat_model:3476f924-049a-58c6-3149-9a5b553c6f64', 'checkpoint_ns': 'chat_model:3476f924-049a-58c6-3149-9a5b553c6f64', 'ls_provider': 'google_genai', 'ls_model_name': 'gemini-1.5-flash', 'ls_model_type': 'chat', 'ls_temperature': 0.7}, 'parent_ids': ['2aedc54b-35d8-4464-8999-4308979c242e', '6833bb71-ea3d-4419-80e2-4970051de7b8']}\n",
            "\n",
            "--------------\n",
            "\n",
            "{'event': 'on_chat_model_end', 'data': {'output': AIMessage(content='That\\'s great you\\'re interested in ocean mammals! Whales are a fantastic group, but there\\'s a whole underwater world to explore beyond them.  To suggest other groups you should learn about, it helps to know what aspects of whales interest you.  But regardless, here are some other fascinating ocean mammal groups:\\n\\n**Based on general interest:**\\n\\n* **Dolphins and Porpoises:** These are incredibly diverse and intelligent animals with fascinating social structures and communication methods.  They range from the playful bottlenose dolphin to the smaller, less sociable harbor porpoise.  Learning about their echolocation is particularly interesting.\\n\\n* **Seals:**  These pinnipeds (fin-footed mammals) include harbor seals, elephant seals, and leopard seals, each with unique adaptations for their environment and hunting strategies.  Learn about their adaptations for both land and water.\\n\\n* **Sea Lions and Fur Seals:**  Another pinniped group, these are often more agile on land than seals due to their external ear flaps (pinnae) and more flexible flippers.  They also have diverse behaviors and social structures.\\n\\n* **Walruses:**  These massive tusked pinnipeds are unique and fascinating, with intriguing feeding habits and social dynamics.\\n\\n* **Sea Otters:** These are the smallest marine mammals in North America, known for their incredible dexterity and use of tools (like rocks to crack open shellfish).\\n\\n* **Manatees and Dugongs (Sirenians):** These gentle giants are herbivorous marine mammals, often called \"sea cows.\" They are facing significant threats from human activities.\\n\\n\\n**To further refine your research, consider these aspects:**\\n\\n* **Geographic Location:** Are you interested in the mammals of a specific ocean or region?  The Arctic has different mammals than the tropics.\\n\\n* **Specific Behaviors:** Are you interested in communication, social structures, hunting techniques, migration patterns, or reproduction?\\n\\n* **Conservation Status:** Are you interested in endangered or threatened species?  Many ocean mammals are facing challenges from habitat loss, pollution, and climate change.\\n\\n\\nOnce you tell me a bit more about what specifically interests you within the realm of ocean mammals, I can give you more tailored suggestions.  For example, are you interested in their evolution, their physiology, their conservation, or their behavior?\\n', additional_kwargs={}, response_metadata={'safety_ratings': [], 'finish_reason': 'STOP', 'model_name': 'gemini-1.5-flash'}, id='run--77f82680-8ad3-4258-87ef-6adcfe23a80b', usage_metadata={'input_tokens': 24, 'output_tokens': 475, 'total_tokens': 499, 'input_token_details': {'cache_read': 0}}), 'input': {'messages': [[AIMessage(content='So you said you were researching ocean mammals?', additional_kwargs={}, response_metadata={}, name='Bot', id='9056d0ca-f4ba-44be-bd8b-3e38a9fddfca'), HumanMessage(content='Yes, I know about whales. But what others should I learn about?', additional_kwargs={}, response_metadata={}, name='Lance', id='639512ed-8cff-466b-914d-206be3cc40e2')]]}}, 'run_id': '77f82680-8ad3-4258-87ef-6adcfe23a80b', 'name': 'ChatGoogleGenerativeAI', 'tags': ['seq:step:1'], 'metadata': {'langgraph_step': 1, 'langgraph_node': 'chat_model', 'langgraph_triggers': ('branch:to:chat_model',), 'langgraph_path': ('__pregel_pull', 'chat_model'), 'langgraph_checkpoint_ns': 'chat_model:3476f924-049a-58c6-3149-9a5b553c6f64', 'checkpoint_ns': 'chat_model:3476f924-049a-58c6-3149-9a5b553c6f64', 'ls_provider': 'google_genai', 'ls_model_name': 'gemini-1.5-flash', 'ls_model_type': 'chat', 'ls_temperature': 0.7}, 'parent_ids': ['2aedc54b-35d8-4464-8999-4308979c242e', '6833bb71-ea3d-4419-80e2-4970051de7b8']}\n",
            "\n",
            "--------------\n",
            "\n",
            "{'event': 'on_chain_stream', 'run_id': '6833bb71-ea3d-4419-80e2-4970051de7b8', 'name': 'chat_model', 'tags': ['graph:step:1'], 'metadata': {'langgraph_step': 1, 'langgraph_node': 'chat_model', 'langgraph_triggers': ('branch:to:chat_model',), 'langgraph_path': ('__pregel_pull', 'chat_model'), 'langgraph_checkpoint_ns': 'chat_model:3476f924-049a-58c6-3149-9a5b553c6f64'}, 'data': {'chunk': {'messages': AIMessage(content='That\\'s great you\\'re interested in ocean mammals! Whales are a fantastic group, but there\\'s a whole underwater world to explore beyond them.  To suggest other groups you should learn about, it helps to know what aspects of whales interest you.  But regardless, here are some other fascinating ocean mammal groups:\\n\\n**Based on general interest:**\\n\\n* **Dolphins and Porpoises:** These are incredibly diverse and intelligent animals with fascinating social structures and communication methods.  They range from the playful bottlenose dolphin to the smaller, less sociable harbor porpoise.  Learning about their echolocation is particularly interesting.\\n\\n* **Seals:**  These pinnipeds (fin-footed mammals) include harbor seals, elephant seals, and leopard seals, each with unique adaptations for their environment and hunting strategies.  Learn about their adaptations for both land and water.\\n\\n* **Sea Lions and Fur Seals:**  Another pinniped group, these are often more agile on land than seals due to their external ear flaps (pinnae) and more flexible flippers.  They also have diverse behaviors and social structures.\\n\\n* **Walruses:**  These massive tusked pinnipeds are unique and fascinating, with intriguing feeding habits and social dynamics.\\n\\n* **Sea Otters:** These are the smallest marine mammals in North America, known for their incredible dexterity and use of tools (like rocks to crack open shellfish).\\n\\n* **Manatees and Dugongs (Sirenians):** These gentle giants are herbivorous marine mammals, often called \"sea cows.\" They are facing significant threats from human activities.\\n\\n\\n**To further refine your research, consider these aspects:**\\n\\n* **Geographic Location:** Are you interested in the mammals of a specific ocean or region?  The Arctic has different mammals than the tropics.\\n\\n* **Specific Behaviors:** Are you interested in communication, social structures, hunting techniques, migration patterns, or reproduction?\\n\\n* **Conservation Status:** Are you interested in endangered or threatened species?  Many ocean mammals are facing challenges from habitat loss, pollution, and climate change.\\n\\n\\nOnce you tell me a bit more about what specifically interests you within the realm of ocean mammals, I can give you more tailored suggestions.  For example, are you interested in their evolution, their physiology, their conservation, or their behavior?\\n', additional_kwargs={}, response_metadata={'safety_ratings': [], 'finish_reason': 'STOP', 'model_name': 'gemini-1.5-flash'}, id='run--77f82680-8ad3-4258-87ef-6adcfe23a80b', usage_metadata={'input_tokens': 24, 'output_tokens': 475, 'total_tokens': 499, 'input_token_details': {'cache_read': 0}})}}, 'parent_ids': ['2aedc54b-35d8-4464-8999-4308979c242e']}\n",
            "\n",
            "--------------\n",
            "\n",
            "{'event': 'on_chain_end', 'data': {'output': {'messages': AIMessage(content='That\\'s great you\\'re interested in ocean mammals! Whales are a fantastic group, but there\\'s a whole underwater world to explore beyond them.  To suggest other groups you should learn about, it helps to know what aspects of whales interest you.  But regardless, here are some other fascinating ocean mammal groups:\\n\\n**Based on general interest:**\\n\\n* **Dolphins and Porpoises:** These are incredibly diverse and intelligent animals with fascinating social structures and communication methods.  They range from the playful bottlenose dolphin to the smaller, less sociable harbor porpoise.  Learning about their echolocation is particularly interesting.\\n\\n* **Seals:**  These pinnipeds (fin-footed mammals) include harbor seals, elephant seals, and leopard seals, each with unique adaptations for their environment and hunting strategies.  Learn about their adaptations for both land and water.\\n\\n* **Sea Lions and Fur Seals:**  Another pinniped group, these are often more agile on land than seals due to their external ear flaps (pinnae) and more flexible flippers.  They also have diverse behaviors and social structures.\\n\\n* **Walruses:**  These massive tusked pinnipeds are unique and fascinating, with intriguing feeding habits and social dynamics.\\n\\n* **Sea Otters:** These are the smallest marine mammals in North America, known for their incredible dexterity and use of tools (like rocks to crack open shellfish).\\n\\n* **Manatees and Dugongs (Sirenians):** These gentle giants are herbivorous marine mammals, often called \"sea cows.\" They are facing significant threats from human activities.\\n\\n\\n**To further refine your research, consider these aspects:**\\n\\n* **Geographic Location:** Are you interested in the mammals of a specific ocean or region?  The Arctic has different mammals than the tropics.\\n\\n* **Specific Behaviors:** Are you interested in communication, social structures, hunting techniques, migration patterns, or reproduction?\\n\\n* **Conservation Status:** Are you interested in endangered or threatened species?  Many ocean mammals are facing challenges from habitat loss, pollution, and climate change.\\n\\n\\nOnce you tell me a bit more about what specifically interests you within the realm of ocean mammals, I can give you more tailored suggestions.  For example, are you interested in their evolution, their physiology, their conservation, or their behavior?\\n', additional_kwargs={}, response_metadata={'safety_ratings': [], 'finish_reason': 'STOP', 'model_name': 'gemini-1.5-flash'}, id='run--77f82680-8ad3-4258-87ef-6adcfe23a80b', usage_metadata={'input_tokens': 24, 'output_tokens': 475, 'total_tokens': 499, 'input_token_details': {'cache_read': 0}})}, 'input': {'messages': [AIMessage(content='So you said you were researching ocean mammals?', additional_kwargs={}, response_metadata={}, name='Bot', id='9056d0ca-f4ba-44be-bd8b-3e38a9fddfca'), HumanMessage(content='Yes, I know about whales. But what others should I learn about?', additional_kwargs={}, response_metadata={}, name='Lance', id='639512ed-8cff-466b-914d-206be3cc40e2')]}}, 'run_id': '6833bb71-ea3d-4419-80e2-4970051de7b8', 'name': 'chat_model', 'tags': ['graph:step:1'], 'metadata': {'langgraph_step': 1, 'langgraph_node': 'chat_model', 'langgraph_triggers': ('branch:to:chat_model',), 'langgraph_path': ('__pregel_pull', 'chat_model'), 'langgraph_checkpoint_ns': 'chat_model:3476f924-049a-58c6-3149-9a5b553c6f64'}, 'parent_ids': ['2aedc54b-35d8-4464-8999-4308979c242e']}\n",
            "\n",
            "--------------\n",
            "\n",
            "{'event': 'on_chain_stream', 'run_id': '2aedc54b-35d8-4464-8999-4308979c242e', 'name': 'LangGraph', 'tags': [], 'metadata': {}, 'data': {'chunk': {'chat_model': {'messages': AIMessage(content='That\\'s great you\\'re interested in ocean mammals! Whales are a fantastic group, but there\\'s a whole underwater world to explore beyond them.  To suggest other groups you should learn about, it helps to know what aspects of whales interest you.  But regardless, here are some other fascinating ocean mammal groups:\\n\\n**Based on general interest:**\\n\\n* **Dolphins and Porpoises:** These are incredibly diverse and intelligent animals with fascinating social structures and communication methods.  They range from the playful bottlenose dolphin to the smaller, less sociable harbor porpoise.  Learning about their echolocation is particularly interesting.\\n\\n* **Seals:**  These pinnipeds (fin-footed mammals) include harbor seals, elephant seals, and leopard seals, each with unique adaptations for their environment and hunting strategies.  Learn about their adaptations for both land and water.\\n\\n* **Sea Lions and Fur Seals:**  Another pinniped group, these are often more agile on land than seals due to their external ear flaps (pinnae) and more flexible flippers.  They also have diverse behaviors and social structures.\\n\\n* **Walruses:**  These massive tusked pinnipeds are unique and fascinating, with intriguing feeding habits and social dynamics.\\n\\n* **Sea Otters:** These are the smallest marine mammals in North America, known for their incredible dexterity and use of tools (like rocks to crack open shellfish).\\n\\n* **Manatees and Dugongs (Sirenians):** These gentle giants are herbivorous marine mammals, often called \"sea cows.\" They are facing significant threats from human activities.\\n\\n\\n**To further refine your research, consider these aspects:**\\n\\n* **Geographic Location:** Are you interested in the mammals of a specific ocean or region?  The Arctic has different mammals than the tropics.\\n\\n* **Specific Behaviors:** Are you interested in communication, social structures, hunting techniques, migration patterns, or reproduction?\\n\\n* **Conservation Status:** Are you interested in endangered or threatened species?  Many ocean mammals are facing challenges from habitat loss, pollution, and climate change.\\n\\n\\nOnce you tell me a bit more about what specifically interests you within the realm of ocean mammals, I can give you more tailored suggestions.  For example, are you interested in their evolution, their physiology, their conservation, or their behavior?\\n', additional_kwargs={}, response_metadata={'safety_ratings': [], 'finish_reason': 'STOP', 'model_name': 'gemini-1.5-flash'}, id='run--77f82680-8ad3-4258-87ef-6adcfe23a80b', usage_metadata={'input_tokens': 24, 'output_tokens': 475, 'total_tokens': 499, 'input_token_details': {'cache_read': 0}})}}}, 'parent_ids': []}\n",
            "\n",
            "--------------\n",
            "\n",
            "{'event': 'on_chain_end', 'data': {'output': {'messages': [AIMessage(content='So you said you were researching ocean mammals?', additional_kwargs={}, response_metadata={}, name='Bot', id='9056d0ca-f4ba-44be-bd8b-3e38a9fddfca'), HumanMessage(content='Yes, I know about whales. But what others should I learn about?', additional_kwargs={}, response_metadata={}, name='Lance', id='639512ed-8cff-466b-914d-206be3cc40e2'), AIMessage(content='That\\'s great you\\'re interested in ocean mammals! Whales are a fantastic group, but there\\'s a whole underwater world to explore beyond them.  To suggest other groups you should learn about, it helps to know what aspects of whales interest you.  But regardless, here are some other fascinating ocean mammal groups:\\n\\n**Based on general interest:**\\n\\n* **Dolphins and Porpoises:** These are incredibly diverse and intelligent animals with fascinating social structures and communication methods.  They range from the playful bottlenose dolphin to the smaller, less sociable harbor porpoise.  Learning about their echolocation is particularly interesting.\\n\\n* **Seals:**  These pinnipeds (fin-footed mammals) include harbor seals, elephant seals, and leopard seals, each with unique adaptations for their environment and hunting strategies.  Learn about their adaptations for both land and water.\\n\\n* **Sea Lions and Fur Seals:**  Another pinniped group, these are often more agile on land than seals due to their external ear flaps (pinnae) and more flexible flippers.  They also have diverse behaviors and social structures.\\n\\n* **Walruses:**  These massive tusked pinnipeds are unique and fascinating, with intriguing feeding habits and social dynamics.\\n\\n* **Sea Otters:** These are the smallest marine mammals in North America, known for their incredible dexterity and use of tools (like rocks to crack open shellfish).\\n\\n* **Manatees and Dugongs (Sirenians):** These gentle giants are herbivorous marine mammals, often called \"sea cows.\" They are facing significant threats from human activities.\\n\\n\\n**To further refine your research, consider these aspects:**\\n\\n* **Geographic Location:** Are you interested in the mammals of a specific ocean or region?  The Arctic has different mammals than the tropics.\\n\\n* **Specific Behaviors:** Are you interested in communication, social structures, hunting techniques, migration patterns, or reproduction?\\n\\n* **Conservation Status:** Are you interested in endangered or threatened species?  Many ocean mammals are facing challenges from habitat loss, pollution, and climate change.\\n\\n\\nOnce you tell me a bit more about what specifically interests you within the realm of ocean mammals, I can give you more tailored suggestions.  For example, are you interested in their evolution, their physiology, their conservation, or their behavior?\\n', additional_kwargs={}, response_metadata={'safety_ratings': [], 'finish_reason': 'STOP', 'model_name': 'gemini-1.5-flash'}, id='run--77f82680-8ad3-4258-87ef-6adcfe23a80b', usage_metadata={'input_tokens': 24, 'output_tokens': 475, 'total_tokens': 499, 'input_token_details': {'cache_read': 0}})]}}, 'run_id': '2aedc54b-35d8-4464-8999-4308979c242e', 'name': 'LangGraph', 'tags': [], 'metadata': {}, 'parent_ids': []}\n",
            "\n",
            "--------------\n",
            "\n"
          ]
        }
      ],
      "source": [
        "async for m in graph.astream_events({'messages': messages}, version=\"v2\"): # The version argument is now correctly passed as a keyword argument.\n",
        "      print(m)\n",
        "      print(\"\\n--------------\\n\")\n",
        "\n",
        "      # on_chain_start = start of node's execution\n",
        "      # on_chain_end = indicates completion of node's execution\n",
        "      # on_chain_stream = Represent intermediate data or progress updates during a node's execution"
      ]
    },
    {
      "cell_type": "markdown",
      "id": "34c33e63-1ef4-412d-bb10-6a1b9e5b35a7",
      "metadata": {
        "id": "34c33e63-1ef4-412d-bb10-6a1b9e5b35a7"
      },
      "source": [
        "## Reducer\n",
        "\n",
        "A practical challenge when working with messages is managing long-running conversations.\n",
        "\n",
        "Long-running conversations result in high token usage and latency if we are not careful, because we pass a growing list of messages to the model.\n",
        "\n",
        "We have a few ways to address this.\n",
        "\n",
        "First, recall the trick we saw using `RemoveMessage` and the `add_messages` reducer."
      ]
    },
    {
      "cell_type": "code",
      "execution_count": 9,
      "id": "222c6bc5-bb0e-4a43-80f5-c8ec38d99f3a",
      "metadata": {
        "colab": {
          "base_uri": "https://localhost:8080/",
          "height": 350
        },
        "id": "222c6bc5-bb0e-4a43-80f5-c8ec38d99f3a",
        "outputId": "1504f4c6-6e95-4e90-95ae-4cb4de9d876b"
      },
      "outputs": [
        {
          "data": {
            "image/png": "[encoded data removed]",
            "text/plain": [
              "<IPython.core.display.Image object>"
            ]
          },
          "metadata": {},
          "output_type": "display_data"
        }
      ],
      "source": [
        "from langchain_core.messages import RemoveMessage\n",
        "\n",
        "# Nodes\n",
        "def filter_messages(state: MessagesState) -> MessagesState:\n",
        "    # Delete all but the 2 most recent messages\n",
        "    delete_messages = [RemoveMessage(id=m.id) for m in state[\"messages\"][:-2]]\n",
        "    print(\"delete_messages\",delete_messages)\n",
        "    return {\"messages\": delete_messages}\n",
        "\n",
        "\n",
        "def chat_model_node(state: MessagesState) -> MessagesState:\n",
        "    return {\"messages\": [llm.invoke(state[\"messages\"])]}\n",
        "\n",
        "# Build graph\n",
        "builder: StateGraph = StateGraph(MessagesState)\n",
        "builder.add_node(\"filter\", filter_messages)\n",
        "builder.add_node(\"chat_model\", chat_model_node)\n",
        "builder.add_edge(START, \"filter\")\n",
        "builder.add_edge(\"filter\", \"chat_model\")\n",
        "builder.add_edge(\"chat_model\", END)\n",
        "graph: CompiledStateGraph = builder.compile()\n",
        "\n",
        "# View\n",
        "display(Image(graph.get_graph().draw_mermaid_png()))"
      ]
    },
    {
      "cell_type": "code",
      "execution_count": 10,
      "id": "95a7c2cc-54ce-43e7-9a90-abf37827d709",
      "metadata": {
        "colab": {
          "base_uri": "https://localhost:8080/"
        },
        "id": "95a7c2cc-54ce-43e7-9a90-abf37827d709",
        "outputId": "c32f0774-66c0-4606-aa05-c9356976468c"
      },
      "outputs": [
        {
          "name": "stdout",
          "output_type": "stream",
          "text": [
            "delete_messages [RemoveMessage(content='', additional_kwargs={}, response_metadata={}, id='1'), RemoveMessage(content='', additional_kwargs={}, response_metadata={}, id='2')]\n",
            "==================================\u001b[1m Ai Message \u001b[0m==================================\n",
            "Name: Bot\n",
            "\n",
            "So you said you were researching ocean mammals?\n",
            "================================\u001b[1m Human Message \u001b[0m=================================\n",
            "Name: Lance\n",
            "\n",
            "Yes, I know about whales. But what others should I learn about?\n",
            "==================================\u001b[1m Ai Message \u001b[0m==================================\n",
            "\n",
            "That's great you're interested in ocean mammals!  Whales are a huge group, but there's a whole fascinating world beyond them.  To suggest further research, let's break it down by group:\n",
            "\n",
            "**1. Marine Mammals Closely Related to Whales (Order Cetartiodactyla):**\n",
            "\n",
            "* **Dolphins and Porpoises (Family Delphinidae & Phocoenidae):**  These are incredibly diverse, with many species exhibiting different behaviours, social structures, and adaptations.  Learn about their echolocation, social intelligence, and the threats they face.  Consider focusing on specific genera like *Orcinus* (killer whales), *Tursiops* (bottlenose dolphins), or *Stenella* (spotted dolphins).\n",
            "\n",
            "* **Porpoises (Family Phocoenidae):** These are often smaller and less flashy than dolphins, but equally fascinating.  They tend to have more robust bodies and different echolocation clicks.\n",
            "\n",
            "**2. Carnivorous Marine Mammals (Order Carnivora):**\n",
            "\n",
            "* **Seals (Family Phocidae):** These are the \"true seals,\" lacking external ear flaps.  Research their different species (e.g., harbor seals, harp seals, elephant seals), their adaptations for diving and swimming, and their breeding strategies.\n",
            "\n",
            "* **Sea Lions and Fur Seals (Family Otariidae):**  These have external ear flaps and are generally more agile on land than true seals.  Explore the differences between sea lions and fur seals, their unique adaptations, and their distribution.\n",
            "\n",
            "* **Walruses (Family Odobenidae):**  These impressive animals are known for their tusks and blubber.  Learn about their feeding strategies, social behaviour, and the challenges they face in a changing Arctic environment.\n",
            "\n",
            "* **Sea Otters (Family Mustelidae):** These are the smallest marine mammals and are incredibly cute!  They are known for their use of tools, their dense fur, and their crucial role in kelp forest ecosystems.\n",
            "\n",
            "\n",
            "**3. Sirenians (Order Sirenia):**\n",
            "\n",
            "* **Manatees and Dugongs:** These gentle giants are herbivores and are closely related to elephants.  Learn about their slow-moving lifestyle, their diet, and the threats they face from habitat loss and human interaction.\n",
            "\n",
            "\n",
            "To make your research more focused, consider these approaches:\n",
            "\n",
            "* **Geographic Region:** Focus on the marine mammals found in a specific ocean or region (e.g., Arctic marine mammals, Mediterranean marine mammals).\n",
            "* **Specific Behaviour:**  Research a particular behaviour, such as echolocation, migration patterns, or social structures.\n",
            "* **Conservation Status:**  Focus on endangered or threatened species and the conservation efforts underway to protect them.\n",
            "\n",
            "\n",
            "Remember to use reputable sources like scientific journals, conservation organizations (e.g., WWF, Oceana), and academic databases for your research.  Have fun exploring the amazing world of ocean mammals!\n"
          ]
        }
      ],
      "source": [
        "# Message list with a preamble\n",
        "messages = [AIMessage(\"Hi.\", name=\"Bot\", id=\"1\")]\n",
        "messages.append(HumanMessage(\"Hi.\", name=\"Lance\", id=\"2\"))\n",
        "messages.append(AIMessage(\"So you said you were researching ocean mammals?\", name=\"Bot\", id=\"3\"))\n",
        "messages.append(HumanMessage(\"Yes, I know about whales. But what others should I learn about?\", name=\"Lance\", id=\"4\"))\n",
        "\n",
        "# Invoke\n",
        "output = graph.invoke({'messages': messages})\n",
        "for m in output['messages']:\n",
        "    m.pretty_print()"
      ]
    },
    {
      "cell_type": "code",
      "execution_count": 11,
      "id": "Ei7lfoG22DbW",
      "metadata": {
        "colab": {
          "base_uri": "https://localhost:8080/"
        },
        "id": "Ei7lfoG22DbW",
        "outputId": "1a4929f4-eac7-4dc7-f712-0db6457a188d"
      },
      "outputs": [
        {
          "name": "stdout",
          "output_type": "stream",
          "text": [
            "content='So you said you were researching ocean mammals?' additional_kwargs={} response_metadata={} name='Bot' id='3'\n",
            "content='Yes, I know about whales. But what others should I learn about?' additional_kwargs={} response_metadata={} name='Lance' id='4'\n",
            "content='That\\'s great you\\'re interested in ocean mammals!  Whales are a huge group, but there\\'s a whole fascinating world beyond them.  To suggest further research, let\\'s break it down by group:\\n\\n**1. Marine Mammals Closely Related to Whales (Order Cetartiodactyla):**\\n\\n* **Dolphins and Porpoises (Family Delphinidae & Phocoenidae):**  These are incredibly diverse, with many species exhibiting different behaviours, social structures, and adaptations.  Learn about their echolocation, social intelligence, and the threats they face.  Consider focusing on specific genera like *Orcinus* (killer whales), *Tursiops* (bottlenose dolphins), or *Stenella* (spotted dolphins).\\n\\n* **Porpoises (Family Phocoenidae):** These are often smaller and less flashy than dolphins, but equally fascinating.  They tend to have more robust bodies and different echolocation clicks.\\n\\n**2. Carnivorous Marine Mammals (Order Carnivora):**\\n\\n* **Seals (Family Phocidae):** These are the \"true seals,\" lacking external ear flaps.  Research their different species (e.g., harbor seals, harp seals, elephant seals), their adaptations for diving and swimming, and their breeding strategies.\\n\\n* **Sea Lions and Fur Seals (Family Otariidae):**  These have external ear flaps and are generally more agile on land than true seals.  Explore the differences between sea lions and fur seals, their unique adaptations, and their distribution.\\n\\n* **Walruses (Family Odobenidae):**  These impressive animals are known for their tusks and blubber.  Learn about their feeding strategies, social behaviour, and the challenges they face in a changing Arctic environment.\\n\\n* **Sea Otters (Family Mustelidae):** These are the smallest marine mammals and are incredibly cute!  They are known for their use of tools, their dense fur, and their crucial role in kelp forest ecosystems.\\n\\n\\n**3. Sirenians (Order Sirenia):**\\n\\n* **Manatees and Dugongs:** These gentle giants are herbivores and are closely related to elephants.  Learn about their slow-moving lifestyle, their diet, and the threats they face from habitat loss and human interaction.\\n\\n\\nTo make your research more focused, consider these approaches:\\n\\n* **Geographic Region:** Focus on the marine mammals found in a specific ocean or region (e.g., Arctic marine mammals, Mediterranean marine mammals).\\n* **Specific Behaviour:**  Research a particular behaviour, such as echolocation, migration patterns, or social structures.\\n* **Conservation Status:**  Focus on endangered or threatened species and the conservation efforts underway to protect them.\\n\\n\\nRemember to use reputable sources like scientific journals, conservation organizations (e.g., WWF, Oceana), and academic databases for your research.  Have fun exploring the amazing world of ocean mammals!' additional_kwargs={} response_metadata={'prompt_feedback': {'block_reason': 0, 'safety_ratings': []}, 'finish_reason': 'STOP', 'model_name': 'gemini-1.5-flash', 'safety_ratings': []} id='run--1d8ab141-efaf-4849-8aae-2de3cc84156d-0' usage_metadata={'input_tokens': 24, 'output_tokens': 603, 'total_tokens': 627, 'input_token_details': {'cache_read': 0}}\n"
          ]
        }
      ],
      "source": [
        "for m in output['messages']:\n",
        "    print(m)"
      ]
    },
    {
      "cell_type": "markdown",
      "id": "f506457d-014b-4fee-a684-e5edfb4b8f0d",
      "metadata": {
        "id": "f506457d-014b-4fee-a684-e5edfb4b8f0d"
      },
      "source": [
        "## Filtering messages\n",
        "\n",
        "If you don't need or want to modify the graph state, you can just filter the messages you pass to the chat model.\n",
        "\n",
        "For example, just pass in a filtered list: `llm.invoke(messages[-1:])` to the model."
      ]
    },
    {
      "cell_type": "code",
      "execution_count": 12,
      "id": "22d0b904-7cd6-486b-8948-105bee3d4683",
      "metadata": {
        "colab": {
          "base_uri": "https://localhost:8080/",
          "height": 251
        },
        "id": "22d0b904-7cd6-486b-8948-105bee3d4683",
        "outputId": "271094e4-ae27-4a7f-dda0-1b557f875826"
      },
      "outputs": [
        {
          "data": {
            "image/png": "[encoded data removed]",
            "text/plain": [
              "<IPython.core.display.Image object>"
            ]
          },
          "metadata": {},
          "output_type": "display_data"
        }
      ],
      "source": [
        "# Node\n",
        "def chat_model_node(state: MessagesState):\n",
        "    return {\"messages\": [llm.invoke(state[\"messages\"][-1:])]}\n",
        "\n",
        "# Build graph\n",
        "builder: StateGraph = StateGraph(MessagesState)\n",
        "builder.add_node(\"chat_model\", chat_model_node)\n",
        "builder.add_edge(START, \"chat_model\")\n",
        "builder.add_edge(\"chat_model\", END)\n",
        "graph: CompiledStateGraph = builder.compile()\n",
        "\n",
        "# View\n",
        "display(Image(graph.get_graph().draw_mermaid_png()))"
      ]
    },
    {
      "cell_type": "markdown",
      "id": "6f58c6fc-532f-418d-b70a-cfcb3307daf5",
      "metadata": {
        "id": "6f58c6fc-532f-418d-b70a-cfcb3307daf5"
      },
      "source": [
        "Let's take our existing list of messages, append the above LLM response, and append a follow-up question."
      ]
    },
    {
      "cell_type": "code",
      "execution_count": 13,
      "id": "bDmJmFTDzjxx",
      "metadata": {
        "colab": {
          "base_uri": "https://localhost:8080/"
        },
        "id": "bDmJmFTDzjxx",
        "outputId": "c9103231-f142-48e5-f392-cd06384e74a6"
      },
      "outputs": [
        {
          "name": "stdout",
          "output_type": "stream",
          "text": [
            "content='That\\'s great you\\'re interested in ocean mammals!  Whales are a huge group, but there\\'s a whole fascinating world beyond them.  To suggest further research, let\\'s break it down by group:\\n\\n**1. Marine Mammals Closely Related to Whales (Order Cetartiodactyla):**\\n\\n* **Dolphins and Porpoises (Family Delphinidae & Phocoenidae):**  These are incredibly diverse, with many species exhibiting different behaviours, social structures, and adaptations.  Learn about their echolocation, social intelligence, and the threats they face.  Consider focusing on specific genera like *Orcinus* (killer whales), *Tursiops* (bottlenose dolphins), or *Stenella* (spotted dolphins).\\n\\n* **Porpoises (Family Phocoenidae):** These are often smaller and less flashy than dolphins, but equally fascinating.  They tend to have more robust bodies and different echolocation clicks.\\n\\n**2. Carnivorous Marine Mammals (Order Carnivora):**\\n\\n* **Seals (Family Phocidae):** These are the \"true seals,\" lacking external ear flaps.  Research their different species (e.g., harbor seals, harp seals, elephant seals), their adaptations for diving and swimming, and their breeding strategies.\\n\\n* **Sea Lions and Fur Seals (Family Otariidae):**  These have external ear flaps and are generally more agile on land than true seals.  Explore the differences between sea lions and fur seals, their unique adaptations, and their distribution.\\n\\n* **Walruses (Family Odobenidae):**  These impressive animals are known for their tusks and blubber.  Learn about their feeding strategies, social behaviour, and the challenges they face in a changing Arctic environment.\\n\\n* **Sea Otters (Family Mustelidae):** These are the smallest marine mammals and are incredibly cute!  They are known for their use of tools, their dense fur, and their crucial role in kelp forest ecosystems.\\n\\n\\n**3. Sirenians (Order Sirenia):**\\n\\n* **Manatees and Dugongs:** These gentle giants are herbivores and are closely related to elephants.  Learn about their slow-moving lifestyle, their diet, and the threats they face from habitat loss and human interaction.\\n\\n\\nTo make your research more focused, consider these approaches:\\n\\n* **Geographic Region:** Focus on the marine mammals found in a specific ocean or region (e.g., Arctic marine mammals, Mediterranean marine mammals).\\n* **Specific Behaviour:**  Research a particular behaviour, such as echolocation, migration patterns, or social structures.\\n* **Conservation Status:**  Focus on endangered or threatened species and the conservation efforts underway to protect them.\\n\\n\\nRemember to use reputable sources like scientific journals, conservation organizations (e.g., WWF, Oceana), and academic databases for your research.  Have fun exploring the amazing world of ocean mammals!' additional_kwargs={} response_metadata={'prompt_feedback': {'block_reason': 0, 'safety_ratings': []}, 'finish_reason': 'STOP', 'model_name': 'gemini-1.5-flash', 'safety_ratings': []} id='run--1d8ab141-efaf-4849-8aae-2de3cc84156d-0' usage_metadata={'input_tokens': 24, 'output_tokens': 603, 'total_tokens': 627, 'input_token_details': {'cache_read': 0}}\n"
          ]
        }
      ],
      "source": [
        "print(output['messages'][-1])"
      ]
    },
    {
      "cell_type": "code",
      "execution_count": 14,
      "id": "V4rATXP24jD4",
      "metadata": {
        "colab": {
          "base_uri": "https://localhost:8080/"
        },
        "id": "V4rATXP24jD4",
        "outputId": "3e215576-03c3-4fb9-8173-fffa3bca4303"
      },
      "outputs": [
        {
          "name": "stdout",
          "output_type": "stream",
          "text": [
            "==================================\u001b[1m Ai Message \u001b[0m==================================\n",
            "Name: Bot\n",
            "\n",
            "Hi.\n",
            "================================\u001b[1m Human Message \u001b[0m=================================\n",
            "Name: Lance\n",
            "\n",
            "Hi.\n",
            "==================================\u001b[1m Ai Message \u001b[0m==================================\n",
            "Name: Bot\n",
            "\n",
            "So you said you were researching ocean mammals?\n",
            "================================\u001b[1m Human Message \u001b[0m=================================\n",
            "Name: Lance\n",
            "\n",
            "Yes, I know about whales. But what others should I learn about?\n"
          ]
        }
      ],
      "source": [
        "for m in messages:\n",
        "    m.pretty_print()"
      ]
    },
    {
      "cell_type": "code",
      "execution_count": 17,
      "id": "16956015-1dbe-4108-89b5-4209b68b51ca",
      "metadata": {
        "id": "16956015-1dbe-4108-89b5-4209b68b51ca"
      },
      "outputs": [],
      "source": [
        "messages.append(output['messages'][-1])\n",
        "messages.append(HumanMessage(f\"Tell me more about Narwhals!\", name=\"Lance\"))"
      ]
    },
    {
      "cell_type": "code",
      "execution_count": 18,
      "id": "85563415-c085-46a8-a4ac-155df798c54e",
      "metadata": {
        "colab": {
          "base_uri": "https://localhost:8080/"
        },
        "id": "85563415-c085-46a8-a4ac-155df798c54e",
        "outputId": "12a2bbdb-cfbd-45f9-cc97-eb0b8de46bf8"
      },
      "outputs": [
        {
          "name": "stdout",
          "output_type": "stream",
          "text": [
            "==================================\u001b[1m Ai Message \u001b[0m==================================\n",
            "Name: Bot\n",
            "\n",
            "Hi.\n",
            "================================\u001b[1m Human Message \u001b[0m=================================\n",
            "Name: Lance\n",
            "\n",
            "Hi.\n",
            "==================================\u001b[1m Ai Message \u001b[0m==================================\n",
            "Name: Bot\n",
            "\n",
            "So you said you were researching ocean mammals?\n",
            "================================\u001b[1m Human Message \u001b[0m=================================\n",
            "Name: Lance\n",
            "\n",
            "Yes, I know about whales. But what others should I learn about?\n",
            "==================================\u001b[1m Ai Message \u001b[0m==================================\n",
            "\n",
            "That's great you're interested in ocean mammals!  Whales are a huge group, but there's a whole fascinating world beyond them.  To suggest further research, let's break it down by group:\n",
            "\n",
            "**1. Marine Mammals Closely Related to Whales (Order Cetartiodactyla):**\n",
            "\n",
            "* **Dolphins and Porpoises (Family Delphinidae & Phocoenidae):**  These are incredibly diverse, with many species exhibiting different behaviours, social structures, and adaptations.  Learn about their echolocation, social intelligence, and the threats they face.  Consider focusing on specific genera like *Orcinus* (killer whales), *Tursiops* (bottlenose dolphins), or *Stenella* (spotted dolphins).\n",
            "\n",
            "* **Porpoises (Family Phocoenidae):** These are often smaller and less flashy than dolphins, but equally fascinating.  They tend to have more robust bodies and different echolocation clicks.\n",
            "\n",
            "**2. Carnivorous Marine Mammals (Order Carnivora):**\n",
            "\n",
            "* **Seals (Family Phocidae):** These are the \"true seals,\" lacking external ear flaps.  Research their different species (e.g., harbor seals, harp seals, elephant seals), their adaptations for diving and swimming, and their breeding strategies.\n",
            "\n",
            "* **Sea Lions and Fur Seals (Family Otariidae):**  These have external ear flaps and are generally more agile on land than true seals.  Explore the differences between sea lions and fur seals, their unique adaptations, and their distribution.\n",
            "\n",
            "* **Walruses (Family Odobenidae):**  These impressive animals are known for their tusks and blubber.  Learn about their feeding strategies, social behaviour, and the challenges they face in a changing Arctic environment.\n",
            "\n",
            "* **Sea Otters (Family Mustelidae):** These are the smallest marine mammals and are incredibly cute!  They are known for their use of tools, their dense fur, and their crucial role in kelp forest ecosystems.\n",
            "\n",
            "\n",
            "**3. Sirenians (Order Sirenia):**\n",
            "\n",
            "* **Manatees and Dugongs:** These gentle giants are herbivores and are closely related to elephants.  Learn about their slow-moving lifestyle, their diet, and the threats they face from habitat loss and human interaction.\n",
            "\n",
            "\n",
            "To make your research more focused, consider these approaches:\n",
            "\n",
            "* **Geographic Region:** Focus on the marine mammals found in a specific ocean or region (e.g., Arctic marine mammals, Mediterranean marine mammals).\n",
            "* **Specific Behaviour:**  Research a particular behaviour, such as echolocation, migration patterns, or social structures.\n",
            "* **Conservation Status:**  Focus on endangered or threatened species and the conservation efforts underway to protect them.\n",
            "\n",
            "\n",
            "Remember to use reputable sources like scientific journals, conservation organizations (e.g., WWF, Oceana), and academic databases for your research.  Have fun exploring the amazing world of ocean mammals!\n",
            "================================\u001b[1m Human Message \u001b[0m=================================\n",
            "Name: Lance\n",
            "\n",
            "Tell me more about Narwhals!\n"
          ]
        }
      ],
      "source": [
        "for m in messages:\n",
        "    m.pretty_print()"
      ]
    },
    {
      "cell_type": "code",
      "execution_count": 19,
      "id": "23349705-a059-47b5-9760-d8f64e687393",
      "metadata": {
        "colab": {
          "base_uri": "https://localhost:8080/"
        },
        "id": "23349705-a059-47b5-9760-d8f64e687393",
        "outputId": "8d699815-21c1-4c22-84b5-ccf09f275bb1"
      },
      "outputs": [
        {
          "name": "stdout",
          "output_type": "stream",
          "text": [
            "==================================\u001b[1m Ai Message \u001b[0m==================================\n",
            "Name: Bot\n",
            "\n",
            "Hi.\n",
            "================================\u001b[1m Human Message \u001b[0m=================================\n",
            "Name: Lance\n",
            "\n",
            "Hi.\n",
            "==================================\u001b[1m Ai Message \u001b[0m==================================\n",
            "Name: Bot\n",
            "\n",
            "So you said you were researching ocean mammals?\n",
            "================================\u001b[1m Human Message \u001b[0m=================================\n",
            "Name: Lance\n",
            "\n",
            "Yes, I know about whales. But what others should I learn about?\n",
            "==================================\u001b[1m Ai Message \u001b[0m==================================\n",
            "\n",
            "That's great you're interested in ocean mammals!  Whales are a huge group, but there's a whole fascinating world beyond them.  To suggest further research, let's break it down by group:\n",
            "\n",
            "**1. Marine Mammals Closely Related to Whales (Order Cetartiodactyla):**\n",
            "\n",
            "* **Dolphins and Porpoises (Family Delphinidae & Phocoenidae):**  These are incredibly diverse, with many species exhibiting different behaviours, social structures, and adaptations.  Learn about their echolocation, social intelligence, and the threats they face.  Consider focusing on specific genera like *Orcinus* (killer whales), *Tursiops* (bottlenose dolphins), or *Stenella* (spotted dolphins).\n",
            "\n",
            "* **Porpoises (Family Phocoenidae):** These are often smaller and less flashy than dolphins, but equally fascinating.  They tend to have more robust bodies and different echolocation clicks.\n",
            "\n",
            "**2. Carnivorous Marine Mammals (Order Carnivora):**\n",
            "\n",
            "* **Seals (Family Phocidae):** These are the \"true seals,\" lacking external ear flaps.  Research their different species (e.g., harbor seals, harp seals, elephant seals), their adaptations for diving and swimming, and their breeding strategies.\n",
            "\n",
            "* **Sea Lions and Fur Seals (Family Otariidae):**  These have external ear flaps and are generally more agile on land than true seals.  Explore the differences between sea lions and fur seals, their unique adaptations, and their distribution.\n",
            "\n",
            "* **Walruses (Family Odobenidae):**  These impressive animals are known for their tusks and blubber.  Learn about their feeding strategies, social behaviour, and the challenges they face in a changing Arctic environment.\n",
            "\n",
            "* **Sea Otters (Family Mustelidae):** These are the smallest marine mammals and are incredibly cute!  They are known for their use of tools, their dense fur, and their crucial role in kelp forest ecosystems.\n",
            "\n",
            "\n",
            "**3. Sirenians (Order Sirenia):**\n",
            "\n",
            "* **Manatees and Dugongs:** These gentle giants are herbivores and are closely related to elephants.  Learn about their slow-moving lifestyle, their diet, and the threats they face from habitat loss and human interaction.\n",
            "\n",
            "\n",
            "To make your research more focused, consider these approaches:\n",
            "\n",
            "* **Geographic Region:** Focus on the marine mammals found in a specific ocean or region (e.g., Arctic marine mammals, Mediterranean marine mammals).\n",
            "* **Specific Behaviour:**  Research a particular behaviour, such as echolocation, migration patterns, or social structures.\n",
            "* **Conservation Status:**  Focus on endangered or threatened species and the conservation efforts underway to protect them.\n",
            "\n",
            "\n",
            "Remember to use reputable sources like scientific journals, conservation organizations (e.g., WWF, Oceana), and academic databases for your research.  Have fun exploring the amazing world of ocean mammals!\n",
            "================================\u001b[1m Human Message \u001b[0m=================================\n",
            "Name: Lance\n",
            "\n",
            "Tell me more about Narwhals!\n",
            "==================================\u001b[1m Ai Message \u001b[0m==================================\n",
            "\n",
            "Narwhals ( *Monodon monoceros*) are truly fascinating creatures, often called \"unicorns of the sea\" due to their prominent tusk.  Here's a breakdown of what makes them unique:\n",
            "\n",
            "**The Tusk:**\n",
            "\n",
            "* **Not just a tooth:**  The tusk is actually an elongated left incisor tooth that grows through the upper lip of the male narwhal.  Females sometimes develop a small tusk, but it rarely protrudes.\n",
            "* **Sensory organ:**  Scientists believe the tusk is highly sensitive, containing millions of nerve endings.  It's theorized to be used for sensing changes in water pressure, temperature, and salinity, helping the narwhal navigate and find prey in icy waters.  It may also play a role in social interactions.\n",
            "* **Show of strength:**  The size and shape of the tusk can be an indicator of the narwhal's age and social status, potentially influencing mating success.\n",
            "\n",
            "**Physical Characteristics:**\n",
            "\n",
            "* **Appearance:**  They have a streamlined, torpedo-shaped body, perfectly adapted for navigating icy waters.  Their skin is mottled gray, white, and brown, often with irregular patterns.\n",
            "* **Size:**  They reach lengths of 13-16 feet (4-5 meters) and can weigh up to 3,500 pounds (1,600 kg).\n",
            "* **Echolocation:**  Like other toothed whales, they use echolocation to navigate and hunt in the murky Arctic waters. They emit clicks and whistles that bounce off objects, allowing them to \"see\" their surroundings.\n",
            "\n",
            "**Habitat and Behavior:**\n",
            "\n",
            "* **Arctic waters:**  Narwhals are found in the Arctic Ocean and surrounding waters, preferring areas with sea ice.  They are highly adapted to cold temperatures.\n",
            "* **Social animals:**  They live in pods, sometimes grouping into larger herds of hundreds of individuals.  These pods are often composed of females and calves, with males joining during the breeding season.\n",
            "* **Diving behavior:**  They are capable of deep dives, reaching depths of over 1,500 meters (4,900 feet) in search of food.\n",
            "* **Diet:**  Their diet primarily consists of Arctic cod, shrimp, squid, and other bottom-dwelling creatures.\n",
            "\n",
            "\n",
            "**Conservation Status:**\n",
            "\n",
            "* **Vulnerable:**  While not critically endangered, narwhals are considered vulnerable due to climate change, pollution, and hunting (though regulated in most areas).  The melting of Arctic sea ice is a major threat to their habitat and food sources.\n",
            "\n",
            "**Ongoing Research:**\n",
            "\n",
            "Scientists are continually studying narwhals to better understand their behavior, social structures, and the role of the tusk.  Research focuses on the impacts of climate change and the development of effective conservation strategies.\n",
            "\n",
            "\n",
            "In short, narwhals are magnificent creatures with unique adaptations that allow them to thrive in the harsh Arctic environment.  Their mysterious tusk and intriguing social behavior continue to fascinate scientists and the public alike.\n"
          ]
        }
      ],
      "source": [
        "# Invoke, using message filtering\n",
        "output = graph.invoke({'messages': messages})\n",
        "for m in output['messages']:\n",
        "    m.pretty_print()"
      ]
    },
    {
      "cell_type": "markdown",
      "id": "42e1d8d2-e297-4d78-b54c-d12b3c866745",
      "metadata": {
        "id": "42e1d8d2-e297-4d78-b54c-d12b3c866745"
      },
      "source": [
        "The state has all of the mesages.\n",
        "\n",
        "But, let's look at the LangSmith trace to see that the model invocation only uses the last message:\n",
        "\n",
        "https://smith.langchain.com/public/75aca3ce-ef19-4b92-94be-0178c7a660d9/r"
      ]
    },
    {
      "cell_type": "markdown",
      "id": "fc40d930-3c1f-47fe-8d2a-ce174873353c",
      "metadata": {
        "id": "fc40d930-3c1f-47fe-8d2a-ce174873353c"
      },
      "source": [
        "## Trim messages\n",
        "\n",
        "Another approach is to [trim messages](https://python.langchain.com/v0.2/docs/how_to/trim_messages/#getting-the-last-max_tokens-tokens), based upon a set number of tokens.\n",
        "\n",
        "This restricts the message history to a specified number of tokens.\n",
        "\n",
        "While filtering only returns a post-hoc subset of the messages between agents, trimming restricts the number of tokens that a chat model can use to respond.\n",
        "\n",
        "See the `trim_messages` below."
      ]
    },
    {
      "cell_type": "code",
      "execution_count": 20,
      "id": "2ff99b81-cf03-4cc2-b44f-44829a73e1fd",
      "metadata": {
        "colab": {
          "base_uri": "https://localhost:8080/",
          "height": 251
        },
        "id": "2ff99b81-cf03-4cc2-b44f-44829a73e1fd",
        "outputId": "09c0d5b3-ba39-4161-cdaf-238ba793d4c4"
      },
      "outputs": [
        {
          "data": {
            "image/png": "[encoded data removed]",
            "text/plain": [
              "<IPython.core.display.Image object>"
            ]
          },
          "metadata": {},
          "output_type": "display_data"
        }
      ],
      "source": [
        "from langchain_core.messages import trim_messages\n",
        "\n",
        "# Node\n",
        "def chat_model_node(state: MessagesState):\n",
        "    messages = trim_messages(\n",
        "            state[\"messages\"],\n",
        "            max_tokens=100,\n",
        "            strategy=\"last\", #Retain the last messages upto the token limit\n",
        "            token_counter=ChatGoogleGenerativeAI(model=\"gemini-1.5-flash\",api_key = google_api_key),\n",
        "            allow_partial=False, #If adding one full message would exceed the token limit, it skips that message entirely rather than including just part of it.\n",
        "        )\n",
        "    return {\"messages\": [llm.invoke(messages)]}\n",
        "\n",
        "# Build graph\n",
        "builder = StateGraph(MessagesState)\n",
        "builder.add_node(\"chat_model\", chat_model_node)\n",
        "builder.add_edge(START, \"chat_model\")\n",
        "builder.add_edge(\"chat_model\", END)\n",
        "graph = builder.compile()\n",
        "\n",
        "# View\n",
        "display(Image(graph.get_graph().draw_mermaid_png()))"
      ]
    },
    {
      "cell_type": "code",
      "execution_count": 21,
      "id": "pg2mX21a4Uxu",
      "metadata": {
        "colab": {
          "base_uri": "https://localhost:8080/"
        },
        "id": "pg2mX21a4Uxu",
        "outputId": "c908020e-d320-4aae-f454-024ed006a430"
      },
      "outputs": [
        {
          "name": "stdout",
          "output_type": "stream",
          "text": [
            "content='Narwhals ( *Monodon monoceros*) are truly fascinating creatures, often called \"unicorns of the sea\" due to their prominent tusk.  Here\\'s a breakdown of what makes them unique:\\n\\n**The Tusk:**\\n\\n* **Not just a tooth:**  The tusk is actually an elongated left incisor tooth that grows through the upper lip of the male narwhal.  Females sometimes develop a small tusk, but it rarely protrudes.\\n* **Sensory organ:**  Scientists believe the tusk is highly sensitive, containing millions of nerve endings.  It\\'s theorized to be used for sensing changes in water pressure, temperature, and salinity, helping the narwhal navigate and find prey in icy waters.  It may also play a role in social interactions.\\n* **Show of strength:**  The size and shape of the tusk can be an indicator of the narwhal\\'s age and social status, potentially influencing mating success.\\n\\n**Physical Characteristics:**\\n\\n* **Appearance:**  They have a streamlined, torpedo-shaped body, perfectly adapted for navigating icy waters.  Their skin is mottled gray, white, and brown, often with irregular patterns.\\n* **Size:**  They reach lengths of 13-16 feet (4-5 meters) and can weigh up to 3,500 pounds (1,600 kg).\\n* **Echolocation:**  Like other toothed whales, they use echolocation to navigate and hunt in the murky Arctic waters. They emit clicks and whistles that bounce off objects, allowing them to \"see\" their surroundings.\\n\\n**Habitat and Behavior:**\\n\\n* **Arctic waters:**  Narwhals are found in the Arctic Ocean and surrounding waters, preferring areas with sea ice.  They are highly adapted to cold temperatures.\\n* **Social animals:**  They live in pods, sometimes grouping into larger herds of hundreds of individuals.  These pods are often composed of females and calves, with males joining during the breeding season.\\n* **Diving behavior:**  They are capable of deep dives, reaching depths of over 1,500 meters (4,900 feet) in search of food.\\n* **Diet:**  Their diet primarily consists of Arctic cod, shrimp, squid, and other bottom-dwelling creatures.\\n\\n\\n**Conservation Status:**\\n\\n* **Vulnerable:**  While not critically endangered, narwhals are considered vulnerable due to climate change, pollution, and hunting (though regulated in most areas).  The melting of Arctic sea ice is a major threat to their habitat and food sources.\\n\\n**Ongoing Research:**\\n\\nScientists are continually studying narwhals to better understand their behavior, social structures, and the role of the tusk.  Research focuses on the impacts of climate change and the development of effective conservation strategies.\\n\\n\\nIn short, narwhals are magnificent creatures with unique adaptations that allow them to thrive in the harsh Arctic environment.  Their mysterious tusk and intriguing social behavior continue to fascinate scientists and the public alike.' additional_kwargs={} response_metadata={'prompt_feedback': {'block_reason': 0, 'safety_ratings': []}, 'finish_reason': 'STOP', 'model_name': 'gemini-1.5-flash', 'safety_ratings': []} id='run--49e5a06c-eb65-4f2d-bbda-d7180e32040a-0' usage_metadata={'input_tokens': 8, 'output_tokens': 624, 'total_tokens': 632, 'input_token_details': {'cache_read': 0}}\n"
          ]
        }
      ],
      "source": [
        "print(output['messages'][-1])"
      ]
    },
    {
      "cell_type": "code",
      "execution_count": 23,
      "id": "24df63ac-da29-4874-b3df-7e390e97cc8a",
      "metadata": {
        "id": "24df63ac-da29-4874-b3df-7e390e97cc8a"
      },
      "outputs": [],
      "source": [
        "messages.append(output['messages'][-1])\n",
        "messages.append(HumanMessage(f\"Tell me where Orcas live!\", name=\"Lance\"))"
      ]
    },
    {
      "cell_type": "code",
      "execution_count": 25,
      "id": "6d9d8971-c75c-43ca-a209-eb1d07b2ead0",
      "metadata": {
        "colab": {
          "base_uri": "https://localhost:8080/"
        },
        "id": "6d9d8971-c75c-43ca-a209-eb1d07b2ead0",
        "outputId": "3b697075-0362-4648-855c-ff4c00c90bdb"
      },
      "outputs": [
        {
          "data": {
            "text/plain": [
              "[HumanMessage(content='Tell me where Orcas live!', additional_kwargs={}, response_metadata={}, name='Lance')]"
            ]
          },
          "execution_count": 25,
          "metadata": {},
          "output_type": "execute_result"
        }
      ],
      "source": [
        "# Example of trimming messages\n",
        "trim_messages(\n",
        "            messages,\n",
        "            max_tokens=100,\n",
        "            strategy=\"last\",\n",
        "            token_counter=ChatGoogleGenerativeAI(model=\"gemini-1.5-flash\",api_key = google_api_key ),\n",
        "            allow_partial=False\n",
        "        )"
      ]
    },
    {
      "cell_type": "code",
      "execution_count": 29,
      "id": "ed70a269-a869-4fa0-a1df-29736a432c51",
      "metadata": {
        "colab": {
          "base_uri": "https://localhost:8080/"
        },
        "id": "ed70a269-a869-4fa0-a1df-29736a432c51",
        "outputId": "2f0d7b7e-b3de-4a0f-8915-51789bb0e0ca"
      },
      "outputs": [
        {
          "name": "stdout",
          "output_type": "stream",
          "text": [
            "==================================\u001b[1m Ai Message \u001b[0m==================================\n",
            "Name: Bot\n",
            "\n",
            "Hi.\n",
            "================================\u001b[1m Human Message \u001b[0m=================================\n",
            "Name: Lance\n",
            "\n",
            "Hi.\n",
            "==================================\u001b[1m Ai Message \u001b[0m==================================\n",
            "Name: Bot\n",
            "\n",
            "So you said you were researching ocean mammals?\n",
            "================================\u001b[1m Human Message \u001b[0m=================================\n",
            "Name: Lance\n",
            "\n",
            "Yes, I know about whales. But what others should I learn about?\n",
            "==================================\u001b[1m Ai Message \u001b[0m==================================\n",
            "\n",
            "That's great you're interested in ocean mammals!  Whales are a huge group, but there's a whole fascinating world beyond them.  To suggest further research, let's break it down by group:\n",
            "\n",
            "**1. Marine Mammals Closely Related to Whales (Order Cetartiodactyla):**\n",
            "\n",
            "* **Dolphins and Porpoises (Family Delphinidae & Phocoenidae):**  These are incredibly diverse, with many species exhibiting different behaviours, social structures, and adaptations.  Learn about their echolocation, social intelligence, and the threats they face.  Consider focusing on specific genera like *Orcinus* (killer whales), *Tursiops* (bottlenose dolphins), or *Stenella* (spotted dolphins).\n",
            "\n",
            "* **Porpoises (Family Phocoenidae):** These are often smaller and less flashy than dolphins, but equally fascinating.  They tend to have more robust bodies and different echolocation clicks.\n",
            "\n",
            "**2. Carnivorous Marine Mammals (Order Carnivora):**\n",
            "\n",
            "* **Seals (Family Phocidae):** These are the \"true seals,\" lacking external ear flaps.  Research their different species (e.g., harbor seals, harp seals, elephant seals), their adaptations for diving and swimming, and their breeding strategies.\n",
            "\n",
            "* **Sea Lions and Fur Seals (Family Otariidae):**  These have external ear flaps and are generally more agile on land than true seals.  Explore the differences between sea lions and fur seals, their unique adaptations, and their distribution.\n",
            "\n",
            "* **Walruses (Family Odobenidae):**  These impressive animals are known for their tusks and blubber.  Learn about their feeding strategies, social behaviour, and the challenges they face in a changing Arctic environment.\n",
            "\n",
            "* **Sea Otters (Family Mustelidae):** These are the smallest marine mammals and are incredibly cute!  They are known for their use of tools, their dense fur, and their crucial role in kelp forest ecosystems.\n",
            "\n",
            "\n",
            "**3. Sirenians (Order Sirenia):**\n",
            "\n",
            "* **Manatees and Dugongs:** These gentle giants are herbivores and are closely related to elephants.  Learn about their slow-moving lifestyle, their diet, and the threats they face from habitat loss and human interaction.\n",
            "\n",
            "\n",
            "To make your research more focused, consider these approaches:\n",
            "\n",
            "* **Geographic Region:** Focus on the marine mammals found in a specific ocean or region (e.g., Arctic marine mammals, Mediterranean marine mammals).\n",
            "* **Specific Behaviour:**  Research a particular behaviour, such as echolocation, migration patterns, or social structures.\n",
            "* **Conservation Status:**  Focus on endangered or threatened species and the conservation efforts underway to protect them.\n",
            "\n",
            "\n",
            "Remember to use reputable sources like scientific journals, conservation organizations (e.g., WWF, Oceana), and academic databases for your research.  Have fun exploring the amazing world of ocean mammals!\n",
            "================================\u001b[1m Human Message \u001b[0m=================================\n",
            "Name: Lance\n",
            "\n",
            "Tell me more about Narwhals!\n",
            "==================================\u001b[1m Ai Message \u001b[0m==================================\n",
            "\n",
            "Narwhals ( *Monodon monoceros*) are truly fascinating creatures, often called \"unicorns of the sea\" due to their prominent tusk.  Here's a breakdown of what makes them unique:\n",
            "\n",
            "**The Tusk:**\n",
            "\n",
            "* **Not just a tooth:**  The tusk is actually an elongated left incisor tooth that grows through the upper lip of the male narwhal.  Females sometimes develop a small tusk, but it rarely protrudes.\n",
            "* **Sensory organ:**  Scientists believe the tusk is highly sensitive, containing millions of nerve endings.  It's theorized to be used for sensing changes in water pressure, temperature, and salinity, helping the narwhal navigate and find prey in icy waters.  It may also play a role in social interactions.\n",
            "* **Show of strength:**  The size and shape of the tusk can be an indicator of the narwhal's age and social status, potentially influencing mating success.\n",
            "\n",
            "**Physical Characteristics:**\n",
            "\n",
            "* **Appearance:**  They have a streamlined, torpedo-shaped body, perfectly adapted for navigating icy waters.  Their skin is mottled gray, white, and brown, often with irregular patterns.\n",
            "* **Size:**  They reach lengths of 13-16 feet (4-5 meters) and can weigh up to 3,500 pounds (1,600 kg).\n",
            "* **Echolocation:**  Like other toothed whales, they use echolocation to navigate and hunt in the murky Arctic waters. They emit clicks and whistles that bounce off objects, allowing them to \"see\" their surroundings.\n",
            "\n",
            "**Habitat and Behavior:**\n",
            "\n",
            "* **Arctic waters:**  Narwhals are found in the Arctic Ocean and surrounding waters, preferring areas with sea ice.  They are highly adapted to cold temperatures.\n",
            "* **Social animals:**  They live in pods, sometimes grouping into larger herds of hundreds of individuals.  These pods are often composed of females and calves, with males joining during the breeding season.\n",
            "* **Diving behavior:**  They are capable of deep dives, reaching depths of over 1,500 meters (4,900 feet) in search of food.\n",
            "* **Diet:**  Their diet primarily consists of Arctic cod, shrimp, squid, and other bottom-dwelling creatures.\n",
            "\n",
            "\n",
            "**Conservation Status:**\n",
            "\n",
            "* **Vulnerable:**  While not critically endangered, narwhals are considered vulnerable due to climate change, pollution, and hunting (though regulated in most areas).  The melting of Arctic sea ice is a major threat to their habitat and food sources.\n",
            "\n",
            "**Ongoing Research:**\n",
            "\n",
            "Scientists are continually studying narwhals to better understand their behavior, social structures, and the role of the tusk.  Research focuses on the impacts of climate change and the development of effective conservation strategies.\n",
            "\n",
            "\n",
            "In short, narwhals are magnificent creatures with unique adaptations that allow them to thrive in the harsh Arctic environment.  Their mysterious tusk and intriguing social behavior continue to fascinate scientists and the public alike.\n",
            "================================\u001b[1m Human Message \u001b[0m=================================\n",
            "Name: Lance\n",
            "\n",
            "Tell me where Orcas live!\n",
            "==================================\u001b[1m Ai Message \u001b[0m==================================\n",
            "\n",
            "Orcas, also known as killer whales, are found in all oceans of the world.  However, their distribution is not uniform.  They are found in a variety of habitats, from coastal waters to open ocean, and their specific location depends on the particular population (or ecotype) and their prey availability.  Some populations are resident in specific areas, while others are transient.\n"
          ]
        }
      ],
      "source": [
        "# Invoke, using message trimming in the chat_model_node\n",
        "messages_out_trim = graph.invoke({'messages': messages})\n",
        "for m in messages_out_trim['messages']:\n",
        "    m.pretty_print()"
      ]
    },
    {
      "cell_type": "markdown",
      "id": "38b3db67-380e-46b5-9a6a-20100ba52008",
      "metadata": {
        "id": "38b3db67-380e-46b5-9a6a-20100ba52008"
      },
      "source": [
        "Let's look at the LangSmith trace to see the model invocation:\n",
        "\n",
        "https://smith.langchain.com/public/b153f7e9-f1a5-4d60-8074-f0d7ab5b42ef/r"
      ]
    },
    {
      "cell_type": "markdown",
      "id": "b2802839",
      "metadata": {},
      "source": [
        "Let’s make this very concrete with an example. Trimming is about **counting tokens**, not just counting messages — so it’s smarter than just slicing the last N messages.\n",
        "\n",
        "---\n",
        "\n",
        "## Imagine this conversation history:\n",
        "\n",
        "```\n",
        "1. User: Hi, can you explain quantum computing in simple terms?\n",
        "2. AI: Sure! Quantum computing uses qubits that can be 0 and 1 at the same time...\n",
        "3. User: That’s cool. Can you also compare it to classical computing?\n",
        "4. AI: Classical computers use bits that are either 0 or 1...\n",
        "5. User: Great! Now give me a 500-word essay about quantum entanglement.\n",
        "6. AI: [long 400-token essay...]\n",
        "7. User: Now explain quantum teleportation in 200 words.\n",
        "```\n",
        "\n",
        "---\n",
        "\n",
        "## If you just slice messages with `[-3:]`\n",
        "\n",
        "* You’d get **messages 5, 6, and 7** — but message 6 alone might already be 400 tokens.\n",
        "* So you could **accidentally exceed your 100-token limit** (if your LLM only accepts 100 tokens).\n",
        "\n",
        "---\n",
        "\n",
        "## If you use `trim_messages(max_tokens=100, strategy=\"last\")`\n",
        "\n",
        "* It **measures the token size of every message**.\n",
        "* Then it **starts adding messages from the end** (most recent first) until it hits 100 tokens.\n",
        "* In this example:\n",
        "\n",
        "  * Message 7 might be \\~30 tokens → **included**\n",
        "  * Message 6 is 400 tokens → **too big, skipped entirely** (because `allow_partial=False`)\n",
        "  * Message 5 might be 20 tokens → **included**\n",
        "  * Message 4 might be 25 tokens → **included**\n",
        "  * Total now = 30+20+25 = 75 tokens → still under 100\n",
        "  * Next would be message 3 (\\~15 tokens) → **included**\n",
        "  * Total = \\~90 tokens → stop before hitting 100\n",
        "\n",
        "### **Result after trimming:**\n",
        "\n",
        "```\n",
        "3. User: That’s cool. Can you also compare it to classical computing?\n",
        "4. AI: Classical computers use bits that are either 0 or 1...\n",
        "5. User: Great! Now give me a 500-word essay about quantum entanglement.\n",
        "7. User: Now explain quantum teleportation in 200 words.\n",
        "```\n",
        "\n",
        "Notice:\n",
        "\n",
        "* **Message 6 was dropped entirely** because it was too large.\n",
        "* **Older messages were removed first** (1 and 2 are gone).\n",
        "* The **conversation stays within 100 tokens**, guaranteed.\n",
        "\n",
        "---\n",
        "\n",
        "## Why is this powerful?\n",
        "\n",
        "* You **never blow past the LLM context limit**, even if a single message is huge.\n",
        "* The model **still sees the latest context**, but big out-of-budget messages get skipped cleanly.\n",
        "* This is much safer than just picking the last N messages blindly.\n",
        "\n",
        "---\n"
      ]
    }
  ],
  "metadata": {
    "colab": {
      "provenance": []
    },
    "kernelspec": {
      "display_name": "Python 3 (ipykernel)",
      "language": "python",
      "name": "python3"
    },
    "language_info": {
      "codemirror_mode": {
        "name": "ipython",
        "version": 3
      },
      "file_extension": ".py",
      "mimetype": "text/x-python",
      "name": "python",
      "nbconvert_exporter": "python",
      "pygments_lexer": "ipython3",
      "version": "3.12.1"
    }
  },
  "nbformat": 4,
  "nbformat_minor": 5
}
