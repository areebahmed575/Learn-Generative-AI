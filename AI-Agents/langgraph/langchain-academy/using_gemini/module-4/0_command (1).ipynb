{
  "cells": [
    {
      "cell_type": "markdown",
      "metadata": {
        "id": "9prMxR0UQQsH"
      },
      "source": [
        "# Command: A new tool for building multi-agent architectures in LangGraph\n",
        "\n",
        "\n",
        "Building agentic and multi-agent systems is all about communication.\n",
        "\n",
        "Now, nodes can dynamically decide which node to execute next, improving flexibility and simplifying complex workflows.\n",
        "\n",
        "#### **What's New:**\n",
        "- **Edgeless graphs:** Nodes no longer need edges to connect. Instead, they can directly specify which node to go to next, making your agent flows more intuitive and adaptable.\n",
        "\n",
        "- **Enhanced control:** Control the flow after the state update by returning a Command that points to the next node, enabling dynamic, real-time decision-making."
      ]
    },
    {
      "cell_type": "code",
      "execution_count": 1,
      "metadata": {
        "id": "WreMXY-QQQdY"
      },
      "outputs": [],
      "source": [
        "%%capture --no-stderr\n",
        "%pip install -U langgraph"
      ]
    },
    {
      "cell_type": "markdown",
      "metadata": {
        "id": "I0VX1uLTVYxr"
      },
      "source": [
        "Let's learn it with a simple example - An\n",
        "AI-powered home search engine like: https://flyhomes.com/.\n"
      ]
    },
    {
      "cell_type": "code",
      "execution_count": 2,
      "metadata": {
        "id": "iGlUpK3eTQ1Y"
      },
      "outputs": [],
      "source": [
        "import random\n",
        "from typing import Annotated, TypedDict, Literal, Optional\n",
        "\n",
        "from langgraph.graph import StateGraph, START\n",
        "from langgraph.graph.message import add_messages\n",
        "from langchain_core.messages import HumanMessage, AIMessage\n",
        "\n",
        "# This is new\n",
        "from langgraph.types import Command"
      ]
    },
    {
      "cell_type": "markdown",
      "metadata": {
        "id": "cpXGrqZrVu5O"
      },
      "source": [
        "## S1: Understand Command Basic Usage"
      ]
    },
    {
      "cell_type": "code",
      "execution_count": 3,
      "metadata": {
        "id": "aQh6dGpHXGTy"
      },
      "outputs": [],
      "source": [
        "# Define graph state\n",
        "class State(TypedDict):\n",
        "    address: str # address where user wants to search homes for.\n",
        "    nearby_homes: Optional[list[dict]] # list of nearby homes\n",
        "    messages: Annotated[list, add_messages]"
      ]
    },
    {
      "cell_type": "code",
      "execution_count": 4,
      "metadata": {
        "id": "Sn7rSdQ_SU7A"
      },
      "outputs": [],
      "source": [
        "# Define the nodes (agents)\n",
        "\n",
        "def node_a(state: State) -> Command[Literal[\"search_nearby_homes\", \"answer_question\"]]: #Here telling about which node it will go\n",
        "    print(\"Called A\")\n",
        "\n",
        "    # THis is where llm decides which node shall I go next\n",
        "    value = random.choice([\"search_nearby_homes\", \"answer_question\"])\n",
        "\n",
        "    # This is a replacement for a conditional edge function\n",
        "    if value == \"search_nearby_homes\":\n",
        "        goto = \"search_nearby_homes\"\n",
        "    else:\n",
        "        goto = \"answer_question\"\n",
        "\n",
        "    # note how Command allows you to BOTH update the graph state AND route to the next node\n",
        "\n",
        "    return Command( # previous we return state.Now,we are returning Command\n",
        "        # this is a replacement for an edge\n",
        "        goto=goto,\n",
        "    )\n",
        "\n",
        "\n",
        "# Nodes search_nearby_homes and answer_question are unchanged (just like before)\n",
        "def search_nearby_homes(state: State):\n",
        "    print(\"Called search_nearby_homes!\")\n",
        "    return {\"nearby_homes\": [{\"home_1\": \"Zia House\"}, {\"home_2\": \"Qasim House\"}]}\n",
        "\n",
        "\n",
        "def answer_question(state: State):\n",
        "    print(\"Called answer_question\")\n",
        "    return {\"messages\": [AIMessage(content=\"System is down - please try later\")]}"
      ]
    },
    {
      "cell_type": "code",
      "execution_count": 9,
      "metadata": {
        "id": "RcmNMkI-VIOI"
      },
      "outputs": [],
      "source": [
        "builder = StateGraph(State)\n",
        "builder.add_edge(START, \"node_a\")\n",
        "builder.add_node(node_a)\n",
        "builder.add_node(search_nearby_homes)\n",
        "builder.add_node(answer_question)\n",
        "# NOTE: there are no edges between nodes A, B and C!\n",
        "\n",
        "graph = builder.compile()"
      ]
    },
    {
      "cell_type": "code",
      "execution_count": 10,
      "metadata": {
        "colab": {
          "base_uri": "https://localhost:8080/",
          "height": 266
        },
        "id": "jsyM2Z6dVMgi",
        "outputId": "bf9c21b6-ce3b-44e6-9782-eb3b4a02c80c"
      },
      "outputs": [
        {
          "output_type": "display_data",
          "data": {
            "image/png": "[encoded data removed]",
            "text/plain": [
              "<IPython.core.display.Image object>"
            ]
          },
          "metadata": {}
        }
      ],
      "source": [
        "from IPython.display import display, Image\n",
        "\n",
        "display(Image(graph.get_graph().draw_mermaid_png()))"
      ]
    },
    {
      "cell_type": "code",
      "execution_count": 11,
      "metadata": {
        "colab": {
          "base_uri": "https://localhost:8080/"
        },
        "id": "y13nIFUmVO0O",
        "outputId": "ba4a7edb-3a3e-49e5-8a8f-3a02a9ad096d"
      },
      "outputs": [
        {
          "output_type": "stream",
          "name": "stdout",
          "text": [
            "Called A\n",
            "Called search_nearby_homes!\n",
            "\n",
            "[FINAL RESPONSE]\n",
            " {'address': 'Karachi', 'nearby_homes': [{'home_1': 'Zia House'}, {'home_2': 'Qasim House'}], 'messages': []}\n"
          ]
        }
      ],
      "source": [
        "agent_response = graph.invoke({\"address\": \"Karachi\"})\n",
        "\n",
        "print(\"\\n[FINAL RESPONSE]\\n\", agent_response)"
      ]
    },
    {
      "cell_type": "markdown",
      "metadata": {
        "id": "1NE-PRe2WwAz"
      },
      "source": [
        "## S2: Update State using Command\n",
        "\n",
        "After node_1 we can update our state as well. So if user is already in our system we can add it's user data in the stage to personalize user experience."
      ]
    },
    {
      "cell_type": "code",
      "execution_count": 12,
      "metadata": {
        "id": "KgMwEzaTXL0O"
      },
      "outputs": [],
      "source": [
        "# Define graph state\n",
        "class State(TypedDict):\n",
        "    address: str # address where user wants to search homes for.\n",
        "    nearby_homes: Optional[list[dict]] # list of nearby homes\n",
        "    messages: Annotated[list, add_messages]\n",
        "    user_data: Optional[dict] # user data - for registered users we already have this"
      ]
    },
    {
      "cell_type": "code",
      "execution_count": 25,
      "metadata": {
        "id": "WlV_2nMqXA88"
      },
      "outputs": [],
      "source": [
        "# Define the nodes (agents)\n",
        "\n",
        "def node_a(state: State) -> Command[Literal[\"search_nearby_homes\", \"answer_question\"]]:\n",
        "    print(\"Called A\",state)\n",
        "\n",
        "    # Get User Data From Memory or Data Store\n",
        "    fetched_user_data = {\"name\": \"Ammen Alam\"}\n",
        "\n",
        "    # THis is where llm decides which node shall I go next\n",
        "    value = random.choice([\"search_nearby_homes\", \"answer_question\"])\n",
        "\n",
        "    # This is a replacement for a conditional edge function\n",
        "    if value == \"search_nearby_homes\":\n",
        "        goto = \"search_nearby_homes\"\n",
        "    else:\n",
        "        goto = \"answer_question\"\n",
        "\n",
        "    # note how Command allows you to BOTH update the graph state AND route to the next node\n",
        "    return Command(\n",
        "        update={\"user_data\": fetched_user_data},\n",
        "        # this is a replacement for an edge\n",
        "        goto=goto,\n",
        "    )\n",
        "\n",
        "\n",
        "# Nodes search_nearby_homes and answer_question are unchanged (just like before)\n",
        "def search_nearby_homes(state: State):\n",
        "    print(\"Called search_nearby_homes!\")\n",
        "    print(\"UserInfo\", state[\"user_data\"])\n",
        "    return {\"nearby_homes\": [{\"home_1\": \"Zia House\"}, {\"home_2\": \"Qasim House\"}]}\n",
        "\n",
        "\n",
        "def answer_question(state: State):\n",
        "    print(\"Called answer_question\")\n",
        "    print(\"UserInfo\", state[\"user_data\"])\n",
        "    user_name = state[\"user_data\"].get(\"name\", \"Guest\")\n",
        "    return {\"messages\": [AIMessage(content=f\"Hi, {user_name} Welcome to Homes AI Search Engine\")]}"
      ]
    },
    {
      "cell_type": "code",
      "execution_count": 26,
      "metadata": {
        "id": "0Zu-DQrCYH-x"
      },
      "outputs": [],
      "source": [
        "builder = StateGraph(State)\n",
        "builder.add_edge(START, \"node_a\")\n",
        "builder.add_node(node_a)\n",
        "builder.add_node(search_nearby_homes)\n",
        "builder.add_node(answer_question)\n",
        "# NOTE: there are no edges between nodes A, B and C!\n",
        "\n",
        "graph = builder.compile()"
      ]
    },
    {
      "cell_type": "code",
      "execution_count": 27,
      "metadata": {
        "colab": {
          "base_uri": "https://localhost:8080/",
          "height": 266
        },
        "id": "tmWKK6wvYKMC",
        "outputId": "c5985879-e42d-4c1d-9fe1-fed1861ae05d"
      },
      "outputs": [
        {
          "output_type": "display_data",
          "data": {
            "image/png": "[encoded data removed]",
            "text/plain": [
              "<IPython.core.display.Image object>"
            ]
          },
          "metadata": {}
        }
      ],
      "source": [
        "from IPython.display import display, Image\n",
        "\n",
        "display(Image(graph.get_graph().draw_mermaid_png()))"
      ]
    },
    {
      "cell_type": "code",
      "source": [
        "agent_response = graph.invoke({\"address\": \"Karachi\"})\n",
        "\n",
        "print(\"\\n[FINAL RESPONSE]\\n\", agent_response)"
      ],
      "metadata": {
        "colab": {
          "base_uri": "https://localhost:8080/"
        },
        "id": "hEGiF4DxQrRY",
        "outputId": "ba9044d9-d7c3-4664-9bda-44ab43f18c2a"
      },
      "execution_count": 24,
      "outputs": [
        {
          "output_type": "stream",
          "name": "stdout",
          "text": [
            "Called A {'address': 'Karachi', 'messages': []}\n",
            "Called search_nearby_homes!\n",
            "UserInfo {'name': 'Ammen Alam'}\n",
            "\n",
            "[FINAL RESPONSE]\n",
            " {'address': 'Karachi', 'nearby_homes': [{'home_1': 'Zia House'}, {'home_2': 'Qasim House'}], 'messages': [], 'user_data': {'name': 'Ammen Alam'}}\n"
          ]
        }
      ]
    },
    {
      "cell_type": "code",
      "execution_count": 22,
      "metadata": {
        "colab": {
          "base_uri": "https://localhost:8080/"
        },
        "id": "VnvpB566YEy2",
        "outputId": "86c19dc7-da43-4422-97c9-083e612a6daf"
      },
      "outputs": [
        {
          "output_type": "stream",
          "name": "stdout",
          "text": [
            "Called A {'address': 'Karachi', 'messages': []}\n",
            "Called answer_question\n",
            "UserInfo {'name': 'Ammen Alam'}\n",
            "\n",
            "[FINAL RESPONSE]\n",
            " {'address': 'Karachi', 'messages': [AIMessage(content='Hi, Ammen Alam Welcome to Homes AI Search Engine', additional_kwargs={}, response_metadata={}, id='d970a54e-d4ec-4509-b537-ff6d4e8e2068')], 'user_data': {'name': 'Ammen Alam'}}\n"
          ]
        }
      ],
      "source": [
        "agent_response = graph.invoke({\"address\": \"Karachi\"})\n",
        "\n",
        "print(\"\\n[FINAL RESPONSE]\\n\", agent_response)"
      ]
    },
    {
      "cell_type": "markdown",
      "metadata": {
        "id": "7iuYLfWZV4E-"
      },
      "source": [
        "# S3: Run Nodes(Agents) in Parallel\n"
      ]
    },
    {
      "cell_type": "markdown",
      "metadata": {
        "id": "XD5NPfzzWYDP"
      },
      "source": [
        "Now our user requirement is to both find homes and have conversation with user.\n",
        "For this:\n",
        "\n",
        "- We shall call Both Nodes in Parrallel"
      ]
    },
    {
      "cell_type": "code",
      "execution_count": 29,
      "metadata": {
        "id": "-yLGnl9XYY7g"
      },
      "outputs": [],
      "source": [
        "# Define graph state\n",
        "class State(TypedDict):\n",
        "    address: str # address where user wants to search homes for.\n",
        "    nearby_homes: Optional[list[dict]] # list of nearby homes\n",
        "    messages: Annotated[list, add_messages]\n",
        "    user_data: Optional[dict] # user data - for registered users we already have this"
      ]
    },
    {
      "cell_type": "code",
      "execution_count": 30,
      "metadata": {
        "id": "YhzGbxG8WVFZ"
      },
      "outputs": [],
      "source": [
        "# Define the nodes (agents)\n",
        "\n",
        "def node_a(state: State) -> Command[Literal[\"search_nearby_homes\", \"answer_question\"]]:\n",
        "    print(\"Called A\")\n",
        "\n",
        "    # Get User Data From Memory or Data Store\n",
        "    fetched_user_data = {\"name\": \"Ammen Alam\"}\n",
        "\n",
        "    # note how Command allows you to BOTH update the graph state AND route to the next node\n",
        "    return Command(\n",
        "        update={\"user_data\": fetched_user_data},\n",
        "        # this is a replacement for an edge\n",
        "        goto=[\"search_nearby_homes\", \"answer_question\"], # Now,it will run nodes in parallel\n",
        "    )\n",
        "\n",
        "\n",
        "# Nodes search_nearby_homes and answer_question are unchanged (just like before)\n",
        "def search_nearby_homes(state: State):\n",
        "    print(\"Called search_nearby_homes!\")\n",
        "    print(\"UserInfo\", state[\"user_data\"])\n",
        "    return {\"nearby_homes\": [{\"home_1\": \"Zia House\"}, {\"home_2\": \"Qasim House\"}]}\n",
        "\n",
        "\n",
        "def answer_question(state: State):\n",
        "    print(\"Called answer_question\")\n",
        "    print(\"UserInfo\", state[\"user_data\"])\n",
        "    user_name = state[\"user_data\"].get(\"name\", \"Guest\")\n",
        "    return {\"messages\": [AIMessage(content=f\"Hi, {user_name} Welcome to Homes AI Search Engine\")]}"
      ]
    },
    {
      "cell_type": "code",
      "execution_count": 31,
      "metadata": {
        "id": "qj3qPdcfYdj0"
      },
      "outputs": [],
      "source": [
        "builder = StateGraph(State)\n",
        "builder.add_edge(START, \"node_a\")\n",
        "builder.add_node(node_a)\n",
        "builder.add_node(search_nearby_homes)\n",
        "builder.add_node(answer_question)\n",
        "# NOTE: there are no edges between nodes A, B and C!\n",
        "\n",
        "graph = builder.compile()"
      ]
    },
    {
      "cell_type": "code",
      "execution_count": 32,
      "metadata": {
        "colab": {
          "base_uri": "https://localhost:8080/"
        },
        "id": "KST9z3eMYkwH",
        "outputId": "c76d02be-a479-4765-ae8d-6379931bff8c"
      },
      "outputs": [
        {
          "output_type": "stream",
          "name": "stdout",
          "text": [
            "Called A\n",
            "Called search_nearby_homes!\n",
            "UserInfo {'name': 'Ammen Alam'}\n",
            "Called answer_question\n",
            "UserInfo {'name': 'Ammen Alam'}\n",
            "\n",
            "[FINAL RESPONSE]\n",
            " {'address': 'Karachi', 'nearby_homes': [{'home_1': 'Zia House'}, {'home_2': 'Qasim House'}], 'messages': [AIMessage(content='Hi, Ammen Alam Welcome to Homes AI Search Engine', additional_kwargs={}, response_metadata={}, id='95733ce1-b3df-4c5e-9cdf-5b43989301d6')], 'user_data': {'name': 'Ammen Alam'}}\n"
          ]
        }
      ],
      "source": [
        "agent_response = graph.invoke({\"address\": \"Karachi\"})\n",
        "\n",
        "print(\"\\n[FINAL RESPONSE]\\n\", agent_response)"
      ]
    },
    {
      "cell_type": "markdown",
      "metadata": {
        "id": "e2BHrLUbYpXZ"
      },
      "source": [
        "##"
      ]
    },
    {
      "cell_type": "markdown",
      "metadata": {
        "id": "BnyPOlOaY5zz"
      },
      "source": [
        "## Final Notes"
      ]
    },
    {
      "cell_type": "markdown",
      "metadata": {
        "id": "uDbJ-HMdZBri"
      },
      "source": [
        "\n",
        "- **Task**: In `node_a` replace that random with an llm and it will decide in which node to go next.\n",
        "\n",
        "- **Question:** What will happen if two nodes running in parallel try update same key in state (Think about reducers and find your answer in Module 4)\n",
        "\n",
        "References:\n",
        "- https://langchain-ai.github.io/langgraph/how-tos/command/#define-graph\n",
        "- https://blog.langchain.dev/command-a-new-tool-for-multi-agent-architectures-in-langgraph/"
      ]
    },
    {
      "cell_type": "code",
      "execution_count": null,
      "metadata": {
        "id": "j26dblOFY9fo"
      },
      "outputs": [],
      "source": []
    }
  ],
  "metadata": {
    "colab": {
      "collapsed_sections": [
        "cpXGrqZrVu5O"
      ],
      "provenance": []
    },
    "kernelspec": {
      "display_name": "Python 3",
      "name": "python3"
    },
    "language_info": {
      "name": "python"
    }
  },
  "nbformat": 4,
  "nbformat_minor": 0
}