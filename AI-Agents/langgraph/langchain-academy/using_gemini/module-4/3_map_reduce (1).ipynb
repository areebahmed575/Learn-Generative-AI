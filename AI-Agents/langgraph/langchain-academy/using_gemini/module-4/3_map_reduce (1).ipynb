{
  "cells": [
    {
      "cell_type": "markdown",
      "id": "36737349-c949-4d64-9aa3-3767cbd02ad1",
      "metadata": {
        "id": "36737349-c949-4d64-9aa3-3767cbd02ad1"
      },
      "source": [
        "# Map-reduce\n",
        "\n",
        "## Review\n",
        "\n",
        "We're building up to a multi-agent research assistant that ties together all of the modules from this course.\n",
        "\n",
        "To build this multi-agent assistant, we've been introducing a few LangGraph controllability topics.\n",
        "\n",
        "We just covered parallelization and sub-graphs.\n",
        "\n",
        "## Goals\n",
        "\n",
        "Now, we're going to cover [map reduce](https://langchain-ai.github.io/langgraph/how-tos/map-reduce/)."
      ]
    },
    {
      "cell_type": "code",
      "execution_count": 1,
      "id": "f24e95c8",
      "metadata": {
        "id": "f24e95c8"
      },
      "outputs": [],
      "source": [
        "%%capture --no-stderr\n",
        "%pip install -U langchain_google_genai langgraph langchain"
      ]
    },
    {
      "cell_type": "code",
      "execution_count": null,
      "id": "193c71af",
      "metadata": {},
      "outputs": [],
      "source": [
        "import os\n",
        "from google.colab import userdata\n",
        "\n",
        "%env GOOGLE_API_KEY = {userdata.get('GEMINI_API_KEY')}\n",
        "\n",
        "%env LANGCHAIN_API_KEY = {userdata.get('LANGCHAIN_API_KEY')}\n",
        "os.environ[\"LANGCHAIN_TRACING_V2\"] = \"true\"\n",
        "os.environ[\"LANGCHAIN_PROJECT\"] = \"langchain-academy\""
      ]
    },
    {
      "cell_type": "markdown",
      "id": "cbcd868a",
      "metadata": {
        "id": "cbcd868a"
      },
      "source": [
        "We'll use [LangSmith](https://docs.smith.langchain.com/) for [tracing](https://docs.smith.langchain.com/concepts/tracing)."
      ]
    },
    {
      "cell_type": "markdown",
      "id": "2bbe9b9f-4375-4bca-8e32-7d57cb861469",
      "metadata": {
        "id": "2bbe9b9f-4375-4bca-8e32-7d57cb861469"
      },
      "source": [
        "## Problem\n",
        "\n",
        "Map-reduce operations are essential for efficient task decomposition and parallel processing.\n",
        "\n",
        "It has two phases:\n",
        "\n",
        "(1) `Map` - Break a task into smaller sub-tasks, processing each sub-task in parallel.\n",
        "\n",
        "(2) `Reduce` - Aggregate the results across all of the completed, parallelized sub-tasks.\n",
        "\n",
        "Let's design a system that will do two things:\n",
        "\n",
        "(1) `Map` - Create a set of jokes about a topic.\n",
        "\n",
        "(2) `Reduce` - Pick the best joke from the list.\n",
        "\n",
        "We'll use an LLM to do the job generation and selection."
      ]
    },
    {
      "cell_type": "code",
      "execution_count": 3,
      "id": "994cf903-1ed6-4ae2-b32a-7891a2808f81",
      "metadata": {
        "id": "994cf903-1ed6-4ae2-b32a-7891a2808f81"
      },
      "outputs": [],
      "source": [
        "# Prompts we will use\n",
        "subjects_prompt: str = \"\"\"\n",
        "You are a smart assistant that generates sub-topics for a given topic. You must return the sub-topics in valid JSON format, with a key `\"subjects\"` and the value as a list of three related sub-topics.\n",
        "\n",
        "Each sub-topic should be a short, clear, and related concept or idea. The output should be formatted like this:\n",
        "{{\n",
        "  \"subjects\": [\"sub-topic1\", \"sub-topic2\", \"sub-topic3\"]\n",
        "}}\n",
        "\n",
        "Here are some examples:\n",
        "\n",
        "Example 1:\n",
        "Topic: \"Technology\"\n",
        "Response: {{\n",
        "  \"subjects\": [\"Artificial Intelligence\", \"Blockchain\", \"Quantum Computing\"]\n",
        "}}\n",
        "\n",
        "Example 2:\n",
        "Topic: \"Sports\"\n",
        "Response: {{\n",
        "  \"subjects\": [\"Soccer\", \"Basketball\", \"Tennis\"]\n",
        "}}\n",
        "\n",
        "Example 3:\n",
        "Topic: \"Music\"\n",
        "Response: {{\n",
        "  \"subjects\": [\"Jazz\", \"Classical\", \"Pop\"]\n",
        "}}\n",
        "\n",
        "Now, generate a list of 3 sub-topics that are related to this overall topic:\n",
        "Topic: \"{topic}\"\n",
        "\n",
        "Return the output as valid JSON, exactly like the examples above, with the key `\"subjects\"` and the value as a list of strings.\n",
        "\"\"\"\n",
        "\n",
        "\n",
        "\n",
        "joke_prompt: str = \"\"\"Generate a joke about {subject}. Make it crunchy and enjoyable\"\"\"\n",
        "\n",
        "best_joke_prompt: str = \"\"\"Below are a bunch of jokes about {topic}. Select the best one! Return the ID of the best one, starting 0 as the ID for the first joke. Jokes: \\n\\n  {jokes}\n",
        "\n",
        "Return in JSON format. The output should be formatted like this:\n",
        "{{\n",
        "  \"id\": 0\n",
        "}}\n",
        "\"\"\""
      ]
    },
    {
      "cell_type": "code",
      "execution_count": 4,
      "id": "wzskjuFN99GR",
      "metadata": {
        "colab": {
          "base_uri": "https://localhost:8080/",
          "height": 140
        },
        "id": "wzskjuFN99GR",
        "outputId": "74207ee6-bf82-4fcb-9710-a0512cdc2d32"
      },
      "outputs": [
        {
          "data": {
            "application/vnd.google.colaboratory.intrinsic+json": {
              "type": "string"
            },
            "text/plain": [
              "'\\nYou are a smart assistant that generates sub-topics for a given topic. You must return the sub-topics in valid JSON format, with a key `\"subjects\"` and the value as a list of three related sub-topics.\\n\\nEach sub-topic should be a short, clear, and related concept or idea. The output should be formatted like this:\\n{\\n  \"subjects\": [\"sub-topic1\", \"sub-topic2\", \"sub-topic3\"]\\n}\\n\\nHere are some examples:\\n\\nExample 1:\\nTopic: \"Technology\"\\nResponse: {\\n  \"subjects\": [\"Artificial Intelligence\", \"Blockchain\", \"Quantum Computing\"]\\n}\\n\\nExample 2:\\nTopic: \"Sports\"\\nResponse: {\\n  \"subjects\": [\"Soccer\", \"Basketball\", \"Tennis\"]\\n}\\n\\nExample 3:\\nTopic: \"Music\"\\nResponse: {\\n  \"subjects\": [\"Jazz\", \"Classical\", \"Pop\"]\\n}\\n\\nNow, generate a list of 3 sub-topics that are related to this overall topic:\\nTopic: \"animals\"\\n\\nReturn the output as valid JSON, exactly like the examples above, with the key `\"subjects\"` and the value as a list of strings.\\n'"
            ]
          },
          "execution_count": 4,
          "metadata": {},
          "output_type": "execute_result"
        }
      ],
      "source": [
        "# .format() is a string method in Python. It allows you to insert values into a string by using placeholders (curly braces {}) and specifying the values you want\n",
        "# to substitute for those placeholders. i.e:\n",
        "\n",
        "subjects_prompt.format(topic=\"animals\")"
      ]
    },
    {
      "cell_type": "code",
      "execution_count": 5,
      "id": "0LgocmSx6rmo",
      "metadata": {
        "id": "0LgocmSx6rmo"
      },
      "outputs": [],
      "source": [
        "from langchain_google_genai import ChatGoogleGenerativeAI\n",
        "\n",
        "# LLM\n",
        "model: ChatGoogleGenerativeAI = ChatGoogleGenerativeAI(model = \"gemini-2.0-flash\")"
      ]
    },
    {
      "cell_type": "markdown",
      "id": "f3b883cc-3469-4e96-b1a4-deadf7bf3ce5",
      "metadata": {
        "id": "f3b883cc-3469-4e96-b1a4-deadf7bf3ce5"
      },
      "source": [
        "## State\n",
        "\n",
        "### Parallelizing joke generation\n",
        "\n",
        "First, let's define the entry point of the graph that will:\n",
        "\n",
        "* Take a user input topic\n",
        "* Produce a list of joke topics from it\n",
        "* Send each joke topic to our above joke generation node\n",
        "\n",
        "Our state has a `jokes` key, which will accumulate jokes from parallelized joke generation"
      ]
    },
    {
      "cell_type": "code",
      "execution_count": 6,
      "id": "099218ca-ee78-4291-95a1-87ee61382e3b",
      "metadata": {
        "id": "099218ca-ee78-4291-95a1-87ee61382e3b"
      },
      "outputs": [],
      "source": [
        "import operator\n",
        "from typing import Annotated\n",
        "from typing_extensions import TypedDict\n",
        "from pydantic import BaseModel\n",
        "\n",
        "class Subjects(BaseModel):\n",
        "    subjects: list\n",
        "\n",
        "class BestJoke(BaseModel):\n",
        "    id: int\n",
        "\n",
        "class OverallState(TypedDict):\n",
        "    topic: str\n",
        "    subjects: list\n",
        "    jokes: Annotated[list, operator.add]\n",
        "    best_selected_joke: str"
      ]
    },
    {
      "cell_type": "code",
      "execution_count": 7,
      "id": "Ka3niFAPc7MC",
      "metadata": {
        "colab": {
          "base_uri": "https://localhost:8080/"
        },
        "id": "Ka3niFAPc7MC",
        "outputId": "fafb4b69-3299-472c-f082-387ec09197ee"
      },
      "outputs": [
        {
          "name": "stdout",
          "output_type": "stream",
          "text": [
            "\n",
            "response.content\n",
            " ```json\n",
            "{\n",
            "  \"subjects\": [\"Mammals\", \"Reptiles\", \"Birds\"]\n",
            "}\n",
            "```\n",
            "parser pydantic_object=<class '__main__.Subjects'>\n",
            "parsed_response subjects=['Mammals', 'Reptiles', 'Birds']\n",
            "['Mammals', 'Reptiles', 'Birds']\n",
            "<class '__main__.Subjects'>\n",
            "<class 'list'>\n"
          ]
        }
      ],
      "source": [
        "response = model.invoke(subjects_prompt.format(topic=\"animals\"))\n",
        "\n",
        "print(\"\\nresponse.content\\n\", response.content)\n",
        "# Use a Parser to parse LLM response and get subjects\n",
        "from langchain.output_parsers import PydanticOutputParser #it can convert LLM text output into a structured Pydantic model.\n",
        "\n",
        "# Initialize PydanticOutputParser\n",
        "parser = PydanticOutputParser(pydantic_object=Subjects)\n",
        "print(\"parser\",parser)\n",
        "\n",
        "# Parse the response generated above\n",
        "parsed_response = parser.parse(response.content)\n",
        "\n",
        "print(\"parsed_response\",parsed_response)\n",
        "\n",
        "# Print the parsed structured data\n",
        "print(parsed_response.subjects)\n",
        "print(type(parsed_response))\n",
        "print(type(parsed_response.subjects))"
      ]
    },
    {
      "cell_type": "markdown",
      "id": "c7176d1c-4a88-4b0f-a960-ee04a45279bd",
      "metadata": {
        "id": "c7176d1c-4a88-4b0f-a960-ee04a45279bd"
      },
      "source": [
        "Generate subjects for jokes."
      ]
    },
    {
      "cell_type": "code",
      "execution_count": 8,
      "id": "45010efd-ad31-4daa-b77e-aaec79ef0309",
      "metadata": {
        "id": "45010efd-ad31-4daa-b77e-aaec79ef0309"
      },
      "outputs": [],
      "source": [
        "def generate_topics(state: OverallState) -> Subjects:\n",
        "    print(\"generate_topics_state\", state)\n",
        "    prompt = subjects_prompt.format(topic=state[\"topic\"])\n",
        "\n",
        "    response = model.invoke(prompt)\n",
        "    # Parse the response\n",
        "    parsed_response = PydanticOutputParser(pydantic_object=Subjects).parse(response.content)\n",
        "\n",
        "    return {\"subjects\": parsed_response.subjects}"
      ]
    },
    {
      "cell_type": "markdown",
      "id": "e5296bb0-c163-4e5c-8181-1e305b37442a",
      "metadata": {
        "id": "e5296bb0-c163-4e5c-8181-1e305b37442a"
      },
      "source": [
        "Here is the magic: we use the [Send](https://langchain-ai.github.io/langgraph/concepts/low_level/#send) to create a joke for each subject.\n",
        "\n",
        "This is very useful! It can automatically parallelize joke generation for any number of subjects.\n",
        "\n",
        "* `generate_joke`: the name of the node in the graph\n",
        "* `{\"subject\": s`}: the state to send\n",
        "\n",
        "`Send` allow you to pass any state that you want to `generate_joke`! It does not have to align with `OverallState`.\n",
        "\n",
        "In this case, `generate_joke` is using its own internal state, and we can popular this via `Send`."
      ]
    },
    {
      "cell_type": "code",
      "execution_count": 9,
      "id": "bc83e575-11f6-41a9-990a-adb571bcda06",
      "metadata": {
        "id": "bc83e575-11f6-41a9-990a-adb571bcda06"
      },
      "outputs": [],
      "source": [
        "from langgraph.types import Send\n",
        "def continue_to_jokes(state: OverallState):\n",
        "    return [Send(\"generate_joke\", {\"subject\": s}) for s in state[\"subjects\"]]"
      ]
    },
    {
      "cell_type": "markdown",
      "id": "9847192d-d358-411e-90c0-f06be0738717",
      "metadata": {
        "id": "9847192d-d358-411e-90c0-f06be0738717"
      },
      "source": [
        "### Joke generation (map)\n",
        "\n",
        "Now, we just define a node that will create our jokes, `generate_joke`!\n",
        "\n",
        "We write them back out to `jokes` in `OverallState`!\n",
        "\n",
        "This key has a reducer that will combine lists."
      ]
    },
    {
      "cell_type": "code",
      "execution_count": 10,
      "id": "bcddc567-73d3-4fb3-bfc5-1bea538f2aab",
      "metadata": {
        "id": "bcddc567-73d3-4fb3-bfc5-1bea538f2aab"
      },
      "outputs": [],
      "source": [
        "class JokeState(TypedDict):\n",
        "    subject: str\n",
        "\n",
        "class Joke(BaseModel):\n",
        "    joke: str\n",
        "\n",
        "def generate_joke(state: JokeState) -> list[Joke]:\n",
        "    prompt = joke_prompt.format(subject=state[\"subject\"])\n",
        "    response = model.with_structured_output(Joke).invoke(prompt) # model.with_structured_output(Joke) → tells the LLM: “When you respond, format your answer according to this schema (the Joke model).”\n",
        "    print(response)\n",
        "    return {\"jokes\": [response.joke]}"
      ]
    },
    {
      "cell_type": "code",
      "execution_count": 11,
      "id": "e_sF7qM8_DZu",
      "metadata": {
        "colab": {
          "base_uri": "https://localhost:8080/"
        },
        "id": "e_sF7qM8_DZu",
        "outputId": "a31d7200-e72a-4846-e87c-5870422b8d8a"
      },
      "outputs": [
        {
          "name": "stdout",
          "output_type": "stream",
          "text": [
            "joke='Why did the GAN get a job as a bartender? Because it could generate realistic-looking drinks, but they always tasted a little bit fake!'\n",
            "{'jokes': ['Why did the GAN get a job as a bartender? Because it could generate realistic-looking drinks, but they always tasted a little bit fake!']}\n"
          ]
        }
      ],
      "source": [
        "res = generate_joke(state={\"subject\": \"GANs\"})\n",
        "print(res)"
      ]
    },
    {
      "cell_type": "markdown",
      "id": "02960657-d174-4076-99a8-b3f9eea015f4",
      "metadata": {
        "id": "02960657-d174-4076-99a8-b3f9eea015f4"
      },
      "source": [
        "### Best joke selection (reduce)\n",
        "\n",
        "Now, we add logic to pick the best joke."
      ]
    },
    {
      "cell_type": "code",
      "execution_count": 12,
      "id": "8d672870-75e3-4307-bda0-c41a86cbbaff",
      "metadata": {
        "id": "8d672870-75e3-4307-bda0-c41a86cbbaff"
      },
      "outputs": [],
      "source": [
        "def best_joke(state: OverallState):\n",
        "    print(\"best_joke_OverallState\", state)\n",
        "    jokes = \"\\n\\n\".join(state[\"jokes\"]) # Take all the jokes in the list and combine them into one single string, separating each joke with two newlines.\n",
        "    print(\"jokes\", jokes)\n",
        "    prompt = best_joke_prompt.format(topic=state[\"topic\"], jokes=jokes)\n",
        "    # response = model.with_structured_output(BestJoke).invoke(prompt)\n",
        "    response = model.invoke(prompt)\n",
        "    print(\"response.content\",response.content)\n",
        "    parsed_response = PydanticOutputParser(pydantic_object=BestJoke).parse(response.content)\n",
        "    print(\"parsed_response\",parsed_response)\n",
        "    return {\"best_selected_joke\": state[\"jokes\"][parsed_response.id]}"
      ]
    },
    {
      "cell_type": "code",
      "execution_count": 13,
      "id": "eLBvilZWnLJc",
      "metadata": {
        "colab": {
          "base_uri": "https://localhost:8080/"
        },
        "id": "eLBvilZWnLJc",
        "outputId": "017a8e4f-da6d-42fe-c2c7-db52bf76c942"
      },
      "outputs": [
        {
          "name": "stdout",
          "output_type": "stream",
          "text": [
            "best_joke_OverallState {'topic': 'playing', 'subjects': ['Generative Adversarial Networks (GANs)', 'Diffusion Models', 'Prompt Engineering'], 'jokes': ['Why did the prompt engineer get lost in the woods? Because he kept asking for directions to the \"nearest forest.\"', 'Why did the prompt engineer get in the woods? Because he kept asking for directions to the \" forest.\"', 'Why did the prompt engineer get lost? Because he kept asking for directions\"']}\n",
            "jokes Why did the prompt engineer get lost in the woods? Because he kept asking for directions to the \"nearest forest.\"\n",
            "\n",
            "Why did the prompt engineer get in the woods? Because he kept asking for directions to the \" forest.\"\n",
            "\n",
            "Why did the prompt engineer get lost? Because he kept asking for directions\"\n",
            "response.content Considering the provided jokes, the first one is the most complete and makes the most sense as a joke. The other two are incomplete and don't have a punchline.\n",
            "\n",
            "```json\n",
            "{\n",
            "  \"id\": 0\n",
            "}\n",
            "```\n",
            "parsed_response id=0\n",
            "\n",
            "res\n",
            " {'best_selected_joke': 'Why did the prompt engineer get lost in the woods? Because he kept asking for directions to the \"nearest forest.\"'}\n"
          ]
        }
      ],
      "source": [
        "overallState = {'topic': 'playing', 'subjects': ['Generative Adversarial Networks (GANs)', 'Diffusion Models', 'Prompt Engineering'], 'jokes': ['Why did the prompt engineer get lost in the woods? Because he kept asking for directions to the \"nearest forest.\"', 'Why did the prompt engineer get in the woods? Because he kept asking for directions to the \" forest.\"', 'Why did the prompt engineer get lost? Because he kept asking for directions\"']}\n",
        "res =  best_joke(state=overallState)\n",
        "print(\"\\nres\\n\", res)"
      ]
    },
    {
      "cell_type": "markdown",
      "id": "837cd12e-5bff-426e-97f4-c774df998cfb",
      "metadata": {
        "id": "837cd12e-5bff-426e-97f4-c774df998cfb"
      },
      "source": [
        "## Compile"
      ]
    },
    {
      "cell_type": "code",
      "execution_count": 14,
      "id": "2ae6be4b-144e-483c-88ad-ce86d6477a0d",
      "metadata": {
        "colab": {
          "base_uri": "https://localhost:8080/",
          "height": 449
        },
        "id": "2ae6be4b-144e-483c-88ad-ce86d6477a0d",
        "outputId": "6f24e115-165c-445e-8902-c07284857311"
      },
      "outputs": [
        {
          "data": {
            "image/png": "[encoded data removed]",
            "text/plain": [
              "<IPython.core.display.Image object>"
            ]
          },
          "execution_count": 14,
          "metadata": {},
          "output_type": "execute_result"
        }
      ],
      "source": [
        "from IPython.display import Image\n",
        "from langgraph.graph import END, StateGraph, START\n",
        "from langgraph.graph.state import CompiledStateGraph\n",
        "\n",
        "# Construct the graph: here we put everything together to construct our graph\n",
        "graph: StateGraph = StateGraph(OverallState)\n",
        "graph.add_node(\"generate_topics\", generate_topics)\n",
        "graph.add_node(\"generate_joke\", generate_joke)\n",
        "graph.add_node(\"best_joke\", best_joke)\n",
        "graph.add_edge(START, \"generate_topics\")\n",
        "graph.add_conditional_edges(\"generate_topics\", continue_to_jokes, [\"generate_joke\"])\n",
        "graph.add_edge(\"generate_joke\", \"best_joke\")\n",
        "graph.add_edge(\"best_joke\", END)\n",
        "\n",
        "# Compile the graph\n",
        "app: CompiledStateGraph = graph.compile()\n",
        "Image(app.get_graph().draw_mermaid_png())"
      ]
    },
    {
      "cell_type": "code",
      "execution_count": 15,
      "id": "e21dc7c9-0add-4125-be76-af701adb874a",
      "metadata": {
        "colab": {
          "base_uri": "https://localhost:8080/"
        },
        "id": "e21dc7c9-0add-4125-be76-af701adb874a",
        "outputId": "2779e846-c1b4-4bf3-da4e-f6029e51c7d0"
      },
      "outputs": [
        {
          "name": "stdout",
          "output_type": "stream",
          "text": [
            "generate_topics_state {'topic': 'online classes', 'jokes': []}\n",
            "{'generate_topics': {'subjects': ['Online Course Platforms', 'Virtual Classroom Tools', 'E-Learning Pedagogy']}}\n",
            "joke='Why did the online course platform break up with the student? Because they lacked commitment! They only logged in once a week.'\n",
            "{'generate_joke': {'jokes': ['Why did the online course platform break up with the student? Because they lacked commitment! They only logged in once a week.']}}\n",
            "joke='Why did the virtual classroom tool get glasses? Because it needed to improve its Zoom.'\n",
            "{'generate_joke': {'jokes': ['Why did the virtual classroom tool get glasses? Because it needed to improve its Zoom.']}}\n",
            "joke='Why did the e-learning module break up with the traditional pedagogy? Because it said, \"Our learning styles are just too different. You\\'re all about lectures, and I\\'m all about interactive simulations!\"'\n",
            "{'generate_joke': {'jokes': ['Why did the e-learning module break up with the traditional pedagogy? Because it said, \"Our learning styles are just too different. You\\'re all about lectures, and I\\'m all about interactive simulations!\"']}}\n",
            "best_joke_OverallState {'topic': 'online classes', 'subjects': ['Online Course Platforms', 'Virtual Classroom Tools', 'E-Learning Pedagogy'], 'jokes': ['Why did the online course platform break up with the student? Because they lacked commitment! They only logged in once a week.', 'Why did the virtual classroom tool get glasses? Because it needed to improve its Zoom.', 'Why did the e-learning module break up with the traditional pedagogy? Because it said, \"Our learning styles are just too different. You\\'re all about lectures, and I\\'m all about interactive simulations!\"']}\n",
            "jokes Why did the online course platform break up with the student? Because they lacked commitment! They only logged in once a week.\n",
            "\n",
            "Why did the virtual classroom tool get glasses? Because it needed to improve its Zoom.\n",
            "\n",
            "Why did the e-learning module break up with the traditional pedagogy? Because it said, \"Our learning styles are just too different. You're all about lectures, and I'm all about interactive simulations!\"\n",
            "response.content Here's my analysis of the jokes and why I chose the best one:\n",
            "\n",
            "*   **Joke 0:** \"Why did the online course platform break up with the student? Because they lacked commitment! They only logged in once a week.\" This joke is decent. The punchline is relevant to online learning and uses a common relationship trope.\n",
            "\n",
            "*   **Joke 1:** \"Why did the virtual classroom tool get glasses? Because it needed to improve its Zoom.\" This joke is pretty weak. The pun is too obvious and doesn't relate strongly to the challenges or ironies of online learning.\n",
            "\n",
            "*   **Joke 2:** \"Why did the e-learning module break up with the traditional pedagogy? Because it said, \"Our learning styles are just too different. You're all about lectures, and I'm all about interactive simulations!\"\" This joke is the strongest. It highlights the difference between traditional teaching methods and modern e-learning approaches in a humorous way. The mock dialogue makes it more engaging.\n",
            "\n",
            "Therefore, Joke 2 is the best.\n",
            "\n",
            "```json\n",
            "{\n",
            "  \"id\": 2\n",
            "}\n",
            "```\n",
            "parsed_response id=2\n",
            "{'best_joke': {'best_selected_joke': 'Why did the e-learning module break up with the traditional pedagogy? Because it said, \"Our learning styles are just too different. You\\'re all about lectures, and I\\'m all about interactive simulations!\"'}}\n"
          ]
        }
      ],
      "source": [
        "# Call the graph: here we call it to generate a list of jokes\n",
        "for s in app.stream({\"topic\": \"online classes\"}):\n",
        "    print(s)"
      ]
    },
    {
      "cell_type": "markdown",
      "id": "5A4GBUBhDqr5",
      "metadata": {
        "id": "5A4GBUBhDqr5"
      },
      "source": []
    },
    {
      "cell_type": "markdown",
      "id": "2a96517e-77ab-46e2-95e2-79168c044e9c",
      "metadata": {
        "id": "2a96517e-77ab-46e2-95e2-79168c044e9c"
      },
      "source": [
        "## Studio\n",
        "\n",
        "--\n",
        "\n",
        "**⚠️ DISCLAIMER**\n",
        "\n",
        "*Running Studio currently requires a Mac. If you are not using a Mac, then skip this step.*\n",
        "\n",
        "*Also, if you are running this notebook in CoLab, then skip this step.*\n",
        "\n",
        "--\n",
        "\n",
        "Let's load our the above graph in the Studio UI, which uses `module-4/studio/map_reduce.py` set in `module-4/studio/langgraph.json`.\n",
        "\n",
        "![Screenshot 2024-08-28 at 3.17.53 PM.png](https://cdn.prod.website-files.com/65b8cd72835ceeacd4449a53/66dbb0c0ed88a12e822811e2_map-reduce1.png)"
      ]
    }
  ],
  "metadata": {
    "colab": {
      "provenance": []
    },
    "kernelspec": {
      "display_name": "Python 3 (ipykernel)",
      "language": "python",
      "name": "python3"
    },
    "language_info": {
      "codemirror_mode": {
        "name": "ipython",
        "version": 3
      },
      "file_extension": ".py",
      "mimetype": "text/x-python",
      "name": "python",
      "nbconvert_exporter": "python",
      "pygments_lexer": "ipython3",
      "version": "3.12.5"
    }
  },
  "nbformat": 4,
  "nbformat_minor": 5
}
