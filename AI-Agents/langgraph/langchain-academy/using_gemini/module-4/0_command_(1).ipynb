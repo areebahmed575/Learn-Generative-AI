{
  "cells": [
    {
      "cell_type": "markdown",
      "metadata": {
        "id": "9prMxR0UQQsH"
      },
      "source": [
        "# Command: A new tool for building multi-agent architectures in LangGraph\n",
        "\n",
        "\n",
        "Building agentic and multi-agent systems is all about communication.\n",
        "\n",
        "Now, nodes can dynamically decide which node to execute next, improving flexibility and simplifying complex workflows.\n",
        "\n",
        "#### **What's New:**\n",
        "- **Edgeless graphs:** Nodes no longer need edges to connect. Instead, they can directly specify which node to go to next, making your agent flows more intuitive and adaptable.\n",
        "\n",
        "- **Enhanced control:** Control the flow after the state update by returning a Command that points to the next node, enabling dynamic, real-time decision-making."
      ]
    },
    {
      "cell_type": "code",
      "execution_count": 1,
      "metadata": {
        "id": "WreMXY-QQQdY"
      },
      "outputs": [],
      "source": [
        "%%capture --no-stderr\n",
        "%pip install -U langgraph"
      ]
    },
    {
      "cell_type": "markdown",
      "metadata": {
        "id": "I0VX1uLTVYxr"
      },
      "source": [
        "Let's learn it with a simple example - An\n",
        "AI-powered home search engine like: https://flyhomes.com/.\n"
      ]
    },
    {
      "cell_type": "code",
      "execution_count": 2,
      "metadata": {
        "id": "iGlUpK3eTQ1Y"
      },
      "outputs": [],
      "source": [
        "import random\n",
        "from typing import Annotated, TypedDict, Literal, Optional\n",
        "\n",
        "from langgraph.graph import StateGraph, START\n",
        "from langgraph.graph.message import add_messages\n",
        "from langchain_core.messages import HumanMessage, AIMessage\n",
        "\n",
        "# This is new\n",
        "from langgraph.types import Command"
      ]
    },
    {
      "cell_type": "markdown",
      "metadata": {
        "id": "cpXGrqZrVu5O"
      },
      "source": [
        "## S1: Understand Command Basic Usage"
      ]
    },
    {
      "cell_type": "code",
      "execution_count": 3,
      "metadata": {
        "id": "aQh6dGpHXGTy"
      },
      "outputs": [],
      "source": [
        "# Define graph state\n",
        "class State(TypedDict):\n",
        "    address: str # address where user wants to search homes for.\n",
        "    nearby_homes: Optional[list[dict]] # list of nearby homes\n",
        "    messages: Annotated[list, add_messages]"
      ]
    },
    {
      "cell_type": "code",
      "execution_count": 4,
      "metadata": {
        "id": "Sn7rSdQ_SU7A"
      },
      "outputs": [],
      "source": [
        "# Define the nodes (agents)\n",
        "\n",
        "def node_a(state: State) -> Command[Literal[\"search_nearby_homes\", \"answer_question\"]]: #Here telling about which node it will go\n",
        "    print(\"Called A\")\n",
        "\n",
        "    # THis is where llm decides which node shall I go next\n",
        "    value = random.choice([\"search_nearby_homes\", \"answer_question\"])\n",
        "\n",
        "    # This is a replacement for a conditional edge function\n",
        "    if value == \"search_nearby_homes\":\n",
        "        goto = \"search_nearby_homes\"\n",
        "    else:\n",
        "        goto = \"answer_question\"\n",
        "\n",
        "    # note how Command allows you to BOTH update the graph state AND route to the next node\n",
        "\n",
        "    return Command( # previous we return state.Now,we are returning Command\n",
        "        # this is a replacement for an edge\n",
        "        goto=goto,\n",
        "    )\n",
        "\n",
        "\n",
        "# Nodes search_nearby_homes and answer_question are unchanged (just like before)\n",
        "def search_nearby_homes(state: State):\n",
        "    print(\"Called search_nearby_homes!\")\n",
        "    return {\"nearby_homes\": [{\"home_1\": \"Zia House\"}, {\"home_2\": \"Qasim House\"}]}\n",
        "\n",
        "\n",
        "def answer_question(state: State):\n",
        "    print(\"Called answer_question\")\n",
        "    return {\"messages\": [AIMessage(content=\"System is down - please try later\")]}"
      ]
    },
    {
      "cell_type": "code",
      "execution_count": 5,
      "metadata": {
        "id": "RcmNMkI-VIOI"
      },
      "outputs": [],
      "source": [
        "builder = StateGraph(State)\n",
        "builder.add_edge(START, \"node_a\")\n",
        "builder.add_node(node_a)\n",
        "builder.add_node(search_nearby_homes)\n",
        "builder.add_node(answer_question)\n",
        "# NOTE: there are no edges between nodes A, B and C!\n",
        "\n",
        "graph = builder.compile()"
      ]
    },
    {
      "cell_type": "code",
      "execution_count": 6,
      "metadata": {
        "colab": {
          "base_uri": "https://localhost:8080/",
          "height": 350
        },
        "id": "jsyM2Z6dVMgi",
        "outputId": "9f3b4817-6423-4e2b-ab62-e6c80ed98fde"
      },
      "outputs": [
        {
          "output_type": "display_data",
          "data": {
            "image/png": "[encoded data removed]",
            "text/plain": [
              "<IPython.core.display.Image object>"
            ]
          },
          "metadata": {}
        }
      ],
      "source": [
        "from IPython.display import display, Image\n",
        "\n",
        "display(Image(graph.get_graph().draw_mermaid_png()))"
      ]
    },
    {
      "cell_type": "code",
      "execution_count": 9,
      "metadata": {
        "colab": {
          "base_uri": "https://localhost:8080/"
        },
        "id": "y13nIFUmVO0O",
        "outputId": "18699409-51c4-4d0a-bb6c-3f57d8f21e37"
      },
      "outputs": [
        {
          "output_type": "stream",
          "name": "stdout",
          "text": [
            "Called A\n",
            "Called search_nearby_homes!\n",
            "\n",
            "[FINAL RESPONSE]\n",
            " {'address': 'Karachi', 'nearby_homes': [{'home_1': 'Zia House'}, {'home_2': 'Qasim House'}], 'messages': []}\n"
          ]
        }
      ],
      "source": [
        "agent_response = graph.invoke({\"address\": \"Karachi\"})\n",
        "\n",
        "print(\"\\n[FINAL RESPONSE]\\n\", agent_response)"
      ]
    },
    {
      "cell_type": "code",
      "source": [
        "agent_response = graph.invoke({\"address\": \"Karachi\"})\n",
        "\n",
        "print(\"\\n[FINAL RESPONSE]\\n\", agent_response)"
      ],
      "metadata": {
        "id": "tEWuHYLaWnxt",
        "outputId": "d1f64dff-f60d-4e39-ff22-b313f14e582c",
        "colab": {
          "base_uri": "https://localhost:8080/"
        }
      },
      "execution_count": 7,
      "outputs": [
        {
          "output_type": "stream",
          "name": "stdout",
          "text": [
            "Called A\n",
            "Called answer_question\n",
            "\n",
            "[FINAL RESPONSE]\n",
            " {'address': 'Karachi', 'messages': [AIMessage(content='System is down - please try later', additional_kwargs={}, response_metadata={}, id='2a632a6f-485d-4403-a1c0-eb8005e240ad')]}\n"
          ]
        }
      ]
    },
    {
      "cell_type": "markdown",
      "metadata": {
        "id": "1NE-PRe2WwAz"
      },
      "source": [
        "## S2: Update State using Command\n",
        "\n",
        "After node_1 we can update our state as well. So if user is already in our system we can add it's user data in the stage to personalize user experience."
      ]
    },
    {
      "cell_type": "code",
      "execution_count": 10,
      "metadata": {
        "id": "KgMwEzaTXL0O"
      },
      "outputs": [],
      "source": [
        "# Define graph state\n",
        "class State(TypedDict):\n",
        "    address: str # address where user wants to search homes for.\n",
        "    nearby_homes: Optional[list[dict]] # list of nearby homes\n",
        "    messages: Annotated[list, add_messages]\n",
        "    user_data: Optional[dict] # user data - for registered users we already have this"
      ]
    },
    {
      "cell_type": "code",
      "execution_count": 11,
      "metadata": {
        "id": "WlV_2nMqXA88"
      },
      "outputs": [],
      "source": [
        "# Define the nodes (agents)\n",
        "\n",
        "def node_a(state: State) -> Command[Literal[\"search_nearby_homes\", \"answer_question\"]]:\n",
        "    print(\"Called A\",state)\n",
        "\n",
        "    # Get User Data From Memory or Data Store\n",
        "    fetched_user_data = {\"name\": \"Ammen Alam\"}\n",
        "\n",
        "    # THis is where llm decides which node shall I go next\n",
        "    value = random.choice([\"search_nearby_homes\", \"answer_question\"])\n",
        "\n",
        "    # This is a replacement for a conditional edge function\n",
        "    if value == \"search_nearby_homes\":\n",
        "        goto = \"search_nearby_homes\"\n",
        "    else:\n",
        "        goto = \"answer_question\"\n",
        "\n",
        "    # note how Command allows you to BOTH update the graph state AND route to the next node\n",
        "    return Command(\n",
        "        update={\"user_data\": fetched_user_data,\"address\": \"Lahore\"},\n",
        "        # this is a replacement for an edge\n",
        "        goto=goto,\n",
        "    )\n",
        "\n",
        "\n",
        "# Nodes search_nearby_homes and answer_question are unchanged (just like before)\n",
        "def search_nearby_homes(state: State):\n",
        "    print(\"Called search_nearby_homes!\")\n",
        "    print(\"UserInfo\", state[\"user_data\"])\n",
        "    return {\"nearby_homes\": [{\"home_1\": \"Zia House\"}, {\"home_2\": \"Qasim House\"}]}\n",
        "\n",
        "\n",
        "def answer_question(state: State):\n",
        "    print(\"Called answer_question\")\n",
        "    print(\"UserInfo\", state[\"user_data\"])\n",
        "    user_name = state[\"user_data\"].get(\"name\", \"Guest\")\n",
        "    return {\"messages\": [AIMessage(content=f\"Hi, {user_name} Welcome to Homes AI Search Engine\")]}"
      ]
    },
    {
      "cell_type": "code",
      "execution_count": 12,
      "metadata": {
        "id": "0Zu-DQrCYH-x"
      },
      "outputs": [],
      "source": [
        "builder = StateGraph(State)\n",
        "builder.add_edge(START, \"node_a\")\n",
        "builder.add_node(node_a)\n",
        "builder.add_node(search_nearby_homes)\n",
        "builder.add_node(answer_question)\n",
        "# NOTE: there are no edges between nodes A, B and C!\n",
        "\n",
        "graph = builder.compile()"
      ]
    },
    {
      "cell_type": "code",
      "execution_count": 13,
      "metadata": {
        "colab": {
          "base_uri": "https://localhost:8080/",
          "height": 350
        },
        "id": "tmWKK6wvYKMC",
        "outputId": "148096cc-ac42-4ac8-b3d5-e598df0305ce"
      },
      "outputs": [
        {
          "output_type": "display_data",
          "data": {
            "image/png": "[encoded data removed]",
            "text/plain": [
              "<IPython.core.display.Image object>"
            ]
          },
          "metadata": {}
        }
      ],
      "source": [
        "from IPython.display import display, Image\n",
        "\n",
        "display(Image(graph.get_graph().draw_mermaid_png()))"
      ]
    },
    {
      "cell_type": "code",
      "source": [
        "agent_response = graph.invoke({\"address\": \"Karachi\"})\n",
        "\n",
        "print(\"\\n[FINAL RESPONSE]\\n\", agent_response)"
      ],
      "metadata": {
        "colab": {
          "base_uri": "https://localhost:8080/"
        },
        "id": "hEGiF4DxQrRY",
        "outputId": "1f5a0599-cb50-4f1f-ae61-a0900712514e"
      },
      "execution_count": 14,
      "outputs": [
        {
          "output_type": "stream",
          "name": "stdout",
          "text": [
            "Called A {'address': 'Karachi', 'messages': []}\n",
            "Called search_nearby_homes!\n",
            "UserInfo {'name': 'Ammen Alam'}\n",
            "\n",
            "[FINAL RESPONSE]\n",
            " {'address': 'Lahore', 'nearby_homes': [{'home_1': 'Zia House'}, {'home_2': 'Qasim House'}], 'messages': [], 'user_data': {'name': 'Ammen Alam'}}\n"
          ]
        }
      ]
    },
    {
      "cell_type": "code",
      "execution_count": 15,
      "metadata": {
        "colab": {
          "base_uri": "https://localhost:8080/"
        },
        "id": "VnvpB566YEy2",
        "outputId": "d4d4e515-9655-4f14-b5a7-3731204d0b21"
      },
      "outputs": [
        {
          "output_type": "stream",
          "name": "stdout",
          "text": [
            "Called A {'address': 'Karachi', 'messages': []}\n",
            "Called answer_question\n",
            "UserInfo {'name': 'Ammen Alam'}\n",
            "\n",
            "[FINAL RESPONSE]\n",
            " {'address': 'Lahore', 'messages': [AIMessage(content='Hi, Ammen Alam Welcome to Homes AI Search Engine', additional_kwargs={}, response_metadata={}, id='ab4e3b0a-f770-42fb-93a8-736d732269b0')], 'user_data': {'name': 'Ammen Alam'}}\n"
          ]
        }
      ],
      "source": [
        "agent_response = graph.invoke({\"address\": \"Karachi\"})\n",
        "\n",
        "print(\"\\n[FINAL RESPONSE]\\n\", agent_response)"
      ]
    },
    {
      "cell_type": "markdown",
      "metadata": {
        "id": "7iuYLfWZV4E-"
      },
      "source": [
        "# S3: Run Nodes(Agents) in Parallel\n"
      ]
    },
    {
      "cell_type": "markdown",
      "metadata": {
        "id": "XD5NPfzzWYDP"
      },
      "source": [
        "Now our user requirement is to both find homes and have conversation with user.\n",
        "For this:\n",
        "\n",
        "- We shall call Both Nodes in Parrallel"
      ]
    },
    {
      "cell_type": "code",
      "execution_count": 16,
      "metadata": {
        "id": "-yLGnl9XYY7g"
      },
      "outputs": [],
      "source": [
        "# Define graph state\n",
        "class State(TypedDict):\n",
        "    address: str # address where user wants to search homes for.\n",
        "    nearby_homes: Optional[list[dict]] # list of nearby homes\n",
        "    messages: Annotated[list, add_messages]\n",
        "    user_data: Optional[dict] # user data - for registered users we already have this"
      ]
    },
    {
      "cell_type": "code",
      "execution_count": 17,
      "metadata": {
        "id": "YhzGbxG8WVFZ"
      },
      "outputs": [],
      "source": [
        "# Define the nodes (agents)\n",
        "\n",
        "def node_a(state: State) -> Command[Literal[\"search_nearby_homes\", \"answer_question\"]]:\n",
        "    print(\"Called A\")\n",
        "\n",
        "    # Get User Data From Memory or Data Store\n",
        "    fetched_user_data = {\"name\": \"Ammen Alam\"}\n",
        "\n",
        "    # note how Command allows you to BOTH update the graph state AND route to the next node\n",
        "    return Command(\n",
        "        update={\"user_data\": fetched_user_data},\n",
        "        # this is a replacement for an edge\n",
        "        goto=[\"search_nearby_homes\", \"answer_question\"], # Now,it will run nodes in parallel\n",
        "    )\n",
        "\n",
        "\n",
        "# Nodes search_nearby_homes and answer_question are unchanged (just like before)\n",
        "def search_nearby_homes(state: State):\n",
        "    print(\"Called search_nearby_homes!\")\n",
        "    print(\"UserInfo\", state[\"user_data\"])\n",
        "    return {\"nearby_homes\": [{\"home_1\": \"Zia House\"}, {\"home_2\": \"Qasim House\"}]}\n",
        "\n",
        "\n",
        "def answer_question(state: State):\n",
        "    print(\"Called answer_question\")\n",
        "    print(\"UserInfo\", state[\"user_data\"])\n",
        "    user_name = state[\"user_data\"].get(\"name\", \"Guest\")\n",
        "    return {\"messages\": [AIMessage(content=f\"Hi, {user_name} Welcome to Homes AI Search Engine\")]}"
      ]
    },
    {
      "cell_type": "code",
      "execution_count": 18,
      "metadata": {
        "id": "qj3qPdcfYdj0"
      },
      "outputs": [],
      "source": [
        "builder = StateGraph(State)\n",
        "builder.add_edge(START, \"node_a\")\n",
        "builder.add_node(node_a)\n",
        "builder.add_node(search_nearby_homes)\n",
        "builder.add_node(answer_question)\n",
        "# NOTE: there are no edges between nodes A, B and C!\n",
        "\n",
        "graph = builder.compile()"
      ]
    },
    {
      "cell_type": "code",
      "source": [
        "from IPython.display import display, Image\n",
        "\n",
        "display(Image(graph.get_graph().draw_mermaid_png()))"
      ],
      "metadata": {
        "id": "AvVkyJK8OYUp",
        "outputId": "a39c70f4-f27a-4deb-ae9a-fb944c18b9db",
        "colab": {
          "base_uri": "https://localhost:8080/",
          "height": 350
        }
      },
      "execution_count": 19,
      "outputs": [
        {
          "output_type": "display_data",
          "data": {
            "image/png": "[encoded data removed]",
            "text/plain": [
              "<IPython.core.display.Image object>"
            ]
          },
          "metadata": {}
        }
      ]
    },
    {
      "cell_type": "code",
      "execution_count": 20,
      "metadata": {
        "colab": {
          "base_uri": "https://localhost:8080/"
        },
        "id": "KST9z3eMYkwH",
        "outputId": "8f9bae71-bc0d-462b-e9e0-51a2fce44c89"
      },
      "outputs": [
        {
          "output_type": "stream",
          "name": "stdout",
          "text": [
            "Called A\n",
            "Called answer_question\n",
            "UserInfo {'name': 'Ammen Alam'}\n",
            "Called search_nearby_homes!\n",
            "UserInfo {'name': 'Ammen Alam'}\n",
            "\n",
            "[FINAL RESPONSE]\n",
            " {'address': 'Karachi', 'nearby_homes': [{'home_1': 'Zia House'}, {'home_2': 'Qasim House'}], 'messages': [AIMessage(content='Hi, Ammen Alam Welcome to Homes AI Search Engine', additional_kwargs={}, response_metadata={}, id='045eebfb-6736-4b8d-b9a0-0519f7b8a297')], 'user_data': {'name': 'Ammen Alam'}}\n"
          ]
        }
      ],
      "source": [
        "agent_response = graph.invoke({\"address\": \"Karachi\"})\n",
        "\n",
        "print(\"\\n[FINAL RESPONSE]\\n\", agent_response)"
      ]
    },
    {
      "cell_type": "markdown",
      "metadata": {
        "id": "e2BHrLUbYpXZ"
      },
      "source": [
        "##"
      ]
    },
    {
      "cell_type": "markdown",
      "source": [
        "*Question: What will happen if two nodes running in parallel try update same key in state*"
      ],
      "metadata": {
        "id": "gRtX_MxFavQL"
      }
    },
    {
      "cell_type": "code",
      "source": [
        "# Define graph state\n",
        "class State(TypedDict):\n",
        "    address: str # address where user wants to search homes for.\n",
        "    nearby_homes: Optional[list[dict]] # list of nearby homes\n",
        "    messages: Annotated[list, add_messages]\n",
        "    user_data: Optional[dict] # user data - for registered users we already have this"
      ],
      "metadata": {
        "id": "jkWL8Mm1XQl_"
      },
      "execution_count": 41,
      "outputs": []
    },
    {
      "cell_type": "code",
      "source": [
        "# Define the nodes (agents)\n",
        "\n",
        "def node_a(state: State) -> Command[Literal[\"search_nearby_homes\", \"answer_question\"]]:\n",
        "    print(\"Called A\")\n",
        "\n",
        "    # Get User Data From Memory or Data Store\n",
        "    fetched_user_data = {\"name\": \"Ammen Alam\"}\n",
        "\n",
        "    # note how Command allows you to BOTH update the graph state AND route to the next node\n",
        "    return Command(\n",
        "        update={\"user_data\": fetched_user_data},\n",
        "        # this is a replacement for an edge\n",
        "        goto=[\"search_nearby_homes\", \"answer_question\"], # Now,it will run nodes in parallel\n",
        "    )\n",
        "\n",
        "\n",
        "# Nodes search_nearby_homes and answer_question are unchanged (just like before)\n",
        "def search_nearby_homes(state: State) -> Command[Literal[\"answer_question\"]]:\n",
        "    print(\"Called search_nearby_homes!\")\n",
        "    print(\"UserInfo\", state[\"user_data\"])\n",
        "    return Command(\n",
        "        update={\"nearby_homes\": [{\"home_1\": \"Zia House\"}, {\"home_2\": \"Qasim House\"}],'user_data': {'name': 'Areeb'}},\n",
        "        # this is a replacement for an edge\n",
        "        goto=[\"answer_question\"], # Now,it will run nodes in parallel\n",
        "    )\n",
        "\n",
        "\n",
        "def answer_question(state: State):\n",
        "    print(\"Called answer_question\")\n",
        "    print(\"UserInfo\", state[\"user_data\"])\n",
        "    user_name = state[\"user_data\"].get(\"name\", \"Guest\")\n",
        "    return {\"messages\": [AIMessage(content=f\"Hi, {user_name} Welcome to Homes AI Search Engine\")]}"
      ],
      "metadata": {
        "id": "45XFegUwRFtQ"
      },
      "execution_count": 42,
      "outputs": []
    },
    {
      "cell_type": "code",
      "source": [
        "builder = StateGraph(State)\n",
        "builder.add_edge(START, \"node_a\")\n",
        "builder.add_node(node_a)\n",
        "builder.add_node(search_nearby_homes)\n",
        "builder.add_node(answer_question)\n",
        "# NOTE: there are no edges between nodes A, B and C!\n",
        "\n",
        "graph = builder.compile()"
      ],
      "metadata": {
        "id": "1N3_VqLRRN2l"
      },
      "execution_count": 43,
      "outputs": []
    },
    {
      "cell_type": "code",
      "source": [
        "from IPython.display import display, Image\n",
        "\n",
        "display(Image(graph.get_graph().draw_mermaid_png()))"
      ],
      "metadata": {
        "id": "yzHsNR7ZR2z4",
        "outputId": "b3d8f61b-5886-408b-d3d1-ecfde0390eed",
        "colab": {
          "base_uri": "https://localhost:8080/",
          "height": 449
        }
      },
      "execution_count": 44,
      "outputs": [
        {
          "output_type": "display_data",
          "data": {
            "image/png": "[encoded data removed]",
            "text/plain": [
              "<IPython.core.display.Image object>"
            ]
          },
          "metadata": {}
        }
      ]
    },
    {
      "cell_type": "code",
      "source": [
        "agent_response = graph.invoke({\"address\": \"Karachi\"})\n",
        "\n",
        "print(\"\\n[FINAL RESPONSE]\\n\", agent_response)"
      ],
      "metadata": {
        "id": "WWL7ysxrR728",
        "outputId": "56b512e7-260f-4f4c-fb7f-9c88f8956b8c",
        "colab": {
          "base_uri": "https://localhost:8080/"
        }
      },
      "execution_count": 45,
      "outputs": [
        {
          "output_type": "stream",
          "name": "stdout",
          "text": [
            "Called A\n",
            "Called answer_question\n",
            "UserInfo {'name': 'Ammen Alam'}\n",
            "Called search_nearby_homes!\n",
            "UserInfo {'name': 'Ammen Alam'}\n",
            "Called answer_question\n",
            "UserInfo {'name': 'Areeb'}\n",
            "\n",
            "[FINAL RESPONSE]\n",
            " {'address': 'Karachi', 'nearby_homes': [{'home_1': 'Zia House'}, {'home_2': 'Qasim House'}], 'messages': [AIMessage(content='Hi, Ammen Alam Welcome to Homes AI Search Engine', additional_kwargs={}, response_metadata={}, id='caa8644b-d680-4081-98ee-f971fa56ac92'), AIMessage(content='Hi, Areeb Welcome to Homes AI Search Engine', additional_kwargs={}, response_metadata={}, id='beedbcb7-d20a-4925-bc44-b2a9165ceb63')], 'user_data': {'name': 'Areeb'}}\n"
          ]
        }
      ]
    },
    {
      "cell_type": "markdown",
      "source": [
        "*In node_a replace that random with an llm and it will decide in which node to go next.*"
      ],
      "metadata": {
        "id": "MFJ4_ZJ1ayeh"
      }
    },
    {
      "cell_type": "code",
      "source": [
        "%%capture --no-stderr\n",
        "%pip install --quiet -U langchain_google_genai"
      ],
      "metadata": {
        "id": "BfuluM52bwQ8"
      },
      "execution_count": 55,
      "outputs": []
    },
    {
      "cell_type": "code",
      "source": [
        "# Define graph state\n",
        "class State(TypedDict):\n",
        "    address: str # address where user wants to search homes for.\n",
        "    nearby_homes: Optional[list[dict]] # list of nearby homes\n",
        "    messages: Annotated[list, add_messages]\n",
        "    user_data: Optional[dict] # user data - for registered users we already have this"
      ],
      "metadata": {
        "id": "ZxaYdnJHa3Jz"
      },
      "execution_count": 56,
      "outputs": []
    },
    {
      "cell_type": "code",
      "source": [
        "from google.colab import userdata\n",
        "GEMINI_API_KEY = userdata.get('GEMINI_API_KEY')"
      ],
      "metadata": {
        "id": "9f2728WYblM4"
      },
      "execution_count": 57,
      "outputs": []
    },
    {
      "cell_type": "code",
      "source": [
        "from langchain_google_genai import ChatGoogleGenerativeAI\n",
        "\n",
        "llm: ChatGoogleGenerativeAI = ChatGoogleGenerativeAI(model = \"gemini-2.0-flash\")\n",
        "\n",
        "# Define Node A with LLM decision logic\n",
        "def node_a(state: State) -> Command[Literal[\"search_nearby_homes\", \"answer_question\"]]:\n",
        "    print(\"Called node_a\", state)\n",
        "\n",
        "    # Step 1: Fetch user data (simulating retrieval)\n",
        "    fetched_user_data = {\"name\": \"Ammen Alam\"}\n",
        "\n",
        "    # Step 2: Ask LLM which route to take\n",
        "    prompt = f\"\"\"\n",
        "    You are a routing assistant in a home search system.\n",
        "\n",
        "    Reply with only one of these exact words:\n",
        "    - search_nearby_homes\n",
        "    - answer_question\n",
        "    \"\"\"\n",
        "\n",
        "    llm_response = llm.invoke(prompt).content.strip().lower()\n",
        "\n",
        "    if llm_response not in [\"search_nearby_homes\", \"answer_question\"]:\n",
        "        llm_response = \"answer_question\"  # fallback\n",
        "\n",
        "    goto = llm_response\n",
        "\n",
        "    # Step 3: Return the command\n",
        "    return Command(\n",
        "        update={\"user_data\": fetched_user_data, \"address\": \"Lahore\"},\n",
        "        goto=goto,\n",
        "    )\n",
        "\n",
        "# Other nodes remain unchanged\n",
        "def search_nearby_homes(state: State):\n",
        "    print(\"Called search_nearby_homes!\")\n",
        "    print(\"UserInfo\", state[\"user_data\"])\n",
        "    return {\"nearby_homes\": [{\"home_1\": \"Zia House\"}, {\"home_2\": \"Qasim House\"}]}\n",
        "\n",
        "def answer_question(state: State):\n",
        "    print(\"Called answer_question\")\n",
        "    print(\"UserInfo\", state[\"user_data\"])\n",
        "    user_name = state[\"user_data\"].get(\"name\", \"Guest\")\n",
        "    return {\"messages\": [AIMessage(content=f\"Hi, {user_name}! Welcome to Homes AI Search Engine.\")]}"
      ],
      "metadata": {
        "id": "os9jZcX-bAqp"
      },
      "execution_count": 82,
      "outputs": []
    },
    {
      "cell_type": "code",
      "source": [
        "builder = StateGraph(State)\n",
        "builder.add_edge(START, \"node_a\")\n",
        "builder.add_node(node_a)\n",
        "builder.add_node(search_nearby_homes)\n",
        "builder.add_node(answer_question)\n",
        "# NOTE: there are no edges between nodes A, B and C!\n",
        "\n",
        "graph = builder.compile()"
      ],
      "metadata": {
        "id": "ns4m1PV1bBmZ"
      },
      "execution_count": 83,
      "outputs": []
    },
    {
      "cell_type": "code",
      "source": [
        "from IPython.display import display, Image\n",
        "\n",
        "display(Image(graph.get_graph().draw_mermaid_png()))"
      ],
      "metadata": {
        "id": "pAVOufylbNdX",
        "outputId": "a6ab06ab-ae70-4832-be31-914c5117a64f",
        "colab": {
          "base_uri": "https://localhost:8080/",
          "height": 350
        }
      },
      "execution_count": 84,
      "outputs": [
        {
          "output_type": "display_data",
          "data": {
            "image/png": "[encoded data removed]",
            "text/plain": [
              "<IPython.core.display.Image object>"
            ]
          },
          "metadata": {}
        }
      ]
    },
    {
      "cell_type": "code",
      "source": [
        "agent_response = graph.invoke({\"address\": \"Karachi\"})\n",
        "\n",
        "print(\"\\n[FINAL RESPONSE]\\n\", agent_response)"
      ],
      "metadata": {
        "id": "DId4KGmebQTs",
        "outputId": "90183357-a78d-41c6-e560-655179c8a020",
        "colab": {
          "base_uri": "https://localhost:8080/"
        }
      },
      "execution_count": 85,
      "outputs": [
        {
          "output_type": "stream",
          "name": "stdout",
          "text": [
            "Called node_a {'address': 'Karachi', 'messages': []}\n",
            "Called search_nearby_homes!\n",
            "UserInfo {'name': 'Ammen Alam'}\n",
            "\n",
            "[FINAL RESPONSE]\n",
            " {'address': 'Lahore', 'nearby_homes': [{'home_1': 'Zia House'}, {'home_2': 'Qasim House'}], 'messages': [], 'user_data': {'name': 'Ammen Alam'}}\n"
          ]
        }
      ]
    },
    {
      "cell_type": "code",
      "source": [
        "agent_response = graph.invoke({\"message\": \"Hello\"})\n",
        "\n",
        "print(\"\\n[FINAL RESPONSE]\\n\", agent_response)"
      ],
      "metadata": {
        "id": "S3Ruef0LcZg3",
        "outputId": "93edf335-832f-4edb-97d7-d1ee278db2f8",
        "colab": {
          "base_uri": "https://localhost:8080/"
        }
      },
      "execution_count": 86,
      "outputs": [
        {
          "output_type": "stream",
          "name": "stdout",
          "text": [
            "Called node_a {'messages': []}\n",
            "Called answer_question\n",
            "UserInfo {'name': 'Ammen Alam'}\n",
            "\n",
            "[FINAL RESPONSE]\n",
            " {'address': 'Lahore', 'messages': [AIMessage(content='Hi, Ammen Alam! Welcome to Homes AI Search Engine.', additional_kwargs={}, response_metadata={}, id='aae8df82-eeb8-4cee-b45e-53ba9ba49580')], 'user_data': {'name': 'Ammen Alam'}}\n"
          ]
        }
      ]
    },
    {
      "cell_type": "markdown",
      "metadata": {
        "id": "BnyPOlOaY5zz"
      },
      "source": [
        "## Final Notes"
      ]
    },
    {
      "cell_type": "markdown",
      "metadata": {
        "id": "uDbJ-HMdZBri"
      },
      "source": [
        "\n",
        "- **Task**: In `node_a` replace that random with an llm and it will decide in which node to go next.\n",
        "\n",
        "- **Question:** What will happen if two nodes running in parallel try update same key in state (Think about reducers and find your answer in Module 4)\n",
        "\n",
        "References:\n",
        "- https://langchain-ai.github.io/langgraph/how-tos/command/#define-graph\n",
        "- https://blog.langchain.dev/command-a-new-tool-for-multi-agent-architectures-in-langgraph/"
      ]
    },
    {
      "cell_type": "code",
      "execution_count": null,
      "metadata": {
        "id": "j26dblOFY9fo"
      },
      "outputs": [],
      "source": []
    }
  ],
  "metadata": {
    "colab": {
      "collapsed_sections": [
        "cpXGrqZrVu5O"
      ],
      "provenance": []
    },
    "kernelspec": {
      "display_name": "Python 3",
      "name": "python3"
    },
    "language_info": {
      "name": "python"
    }
  },
  "nbformat": 4,
  "nbformat_minor": 0
}