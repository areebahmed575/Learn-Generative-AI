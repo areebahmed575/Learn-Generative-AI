{
  "cells": [
    {
      "cell_type": "markdown",
      "id": "d0cefea1-f982-4bb1-b691-27a855bfdccb",
      "metadata": {
        "id": "d0cefea1-f982-4bb1-b691-27a855bfdccb"
      },
      "source": [
        "# Dynamic breakpoints\n",
        "\n",
        "## Review\n",
        "\n",
        "We discussed motivations for human-in-the-loop:\n",
        "\n",
        "(1) `Approval` - We can interrupt our agent, surface state to a user, and allow the user to accept an action\n",
        "\n",
        "(2) `Debugging` - We can rewind the graph to reproduce or avoid issues\n",
        "\n",
        "(3) `Editing` - You can modify the state\n",
        "\n",
        "We covered breakpoints as a general way to stop the graph at specific steps, which enables use-cases like `Approval`\n",
        "\n",
        "We also showed how to edit graph state, and introduce human feedback.\n",
        "\n",
        "## Goals\n",
        "\n",
        "Breakpoints are set by the developer on a specific node during graph compilation.\n",
        "\n",
        "But, sometimes it is helpful to allow the graph **dynamically interrupt** itself!\n",
        "\n",
        "This is an internal breakpoint, and [can be achieved using `NodeInterrupt`](https://langchain-ai.github.io/langgraph/how-tos/human_in_the_loop/dynamic_breakpoints/#run-the-graph-with-dynamic-interrupt).\n",
        "\n",
        "This has a few specific benefits:\n",
        "\n",
        "(1) you can do it conditionally (from inside a node based on developer-defined logic).\n",
        "\n",
        "(2) you can communicate to the user why its interrupted (by passing whatever you want to the `NodeInterrupt`).\n",
        "\n",
        "Let's create a graph where a `NodeInterrupt` is thrown based upon length of the input."
      ]
    },
    {
      "cell_type": "code",
      "execution_count": 1,
      "id": "387d8d87-598a-485a-a99f-a9270a7c2e73",
      "metadata": {
        "id": "387d8d87-598a-485a-a99f-a9270a7c2e73"
      },
      "outputs": [],
      "source": [
        "%%capture --no-stderr\n",
        "%pip install --quiet -U langgraph langgraph_sdk"
      ]
    },
    {
      "cell_type": "code",
      "source": [
        "import os\n",
        "from google.colab import userdata\n",
        "\n",
        "%env LANGCHAIN_API_KEY = {userdata.get('LANGCHAIN_API_KEY')}\n",
        "os.environ[\"LANGCHAIN_TRACING_V2\"] = \"true\"\n",
        "os.environ[\"LANGCHAIN_PROJECT\"] = \"langchain-academy\""
      ],
      "metadata": {
        "id": "atEGIq7_DUCT"
      },
      "id": "atEGIq7_DUCT",
      "execution_count": null,
      "outputs": []
    },
    {
      "cell_type": "code",
      "execution_count": 3,
      "id": "6248f166-2013-445a-b4ae-1fb7b92f8c32",
      "metadata": {
        "colab": {
          "base_uri": "https://localhost:8080/",
          "height": 449
        },
        "id": "6248f166-2013-445a-b4ae-1fb7b92f8c32",
        "outputId": "44499dc4-c319-4382-f69f-62d91e10e5a8"
      },
      "outputs": [
        {
          "output_type": "display_data",
          "data": {
            "image/png": "[encoded data removed]",
            "text/plain": [
              "<IPython.core.display.Image object>"
            ]
          },
          "metadata": {}
        }
      ],
      "source": [
        "from IPython.display import Image, display\n",
        "\n",
        "from typing_extensions import TypedDict\n",
        "from langgraph.checkpoint.memory import MemorySaver\n",
        "from langgraph.errors import NodeInterrupt\n",
        "from langgraph.graph import START, END, StateGraph\n",
        "from langgraph.graph.state import CompiledStateGraph\n",
        "\n",
        "class State(TypedDict):\n",
        "    input: str\n",
        "\n",
        "def step_1(state: State) -> State:\n",
        "    print(\"---Step 1---\")\n",
        "    return state\n",
        "\n",
        "def step_2(state: State) -> State:\n",
        "    # Let's optionally raise a NodeInterrupt if the length of the input is longer than 5 characters\n",
        "    if len(state['input']) > 5:\n",
        "        raise NodeInterrupt(f\"Received input that is longer than 5 characters: {state['input']}\")\n",
        "\n",
        "    print(\"---Step 2---\")\n",
        "    return state\n",
        "\n",
        "def step_3(state: State) -> State:\n",
        "    print(\"---Step 3---\")\n",
        "    return state\n",
        "\n",
        "builder: StateGraph = StateGraph(State)\n",
        "builder.add_node(\"step_1\", step_1)\n",
        "builder.add_node(\"step_2\", step_2)\n",
        "builder.add_node(\"step_3\", step_3)\n",
        "builder.add_edge(START, \"step_1\")\n",
        "builder.add_edge(\"step_1\", \"step_2\")\n",
        "builder.add_edge(\"step_2\", \"step_3\")\n",
        "builder.add_edge(\"step_3\", END)\n",
        "\n",
        "# Set up memory\n",
        "memory: MemorySaver = MemorySaver()\n",
        "\n",
        "# Compile the graph with memory\n",
        "graph: CompiledStateGraph = builder.compile(checkpointer=memory)\n",
        "\n",
        "# View\n",
        "display(Image(graph.get_graph().draw_mermaid_png()))"
      ]
    },
    {
      "cell_type": "markdown",
      "id": "b2c6e5c8-0556-43d1-9eef-b3af32728f74",
      "metadata": {
        "id": "b2c6e5c8-0556-43d1-9eef-b3af32728f74"
      },
      "source": [
        "Let's run the graph with an input that's longer than 5 characters."
      ]
    },
    {
      "cell_type": "code",
      "execution_count": 11,
      "id": "de73c9ce-ccc5-4ffd-8d82-7018364e7c4f",
      "metadata": {
        "colab": {
          "base_uri": "https://localhost:8080/"
        },
        "id": "de73c9ce-ccc5-4ffd-8d82-7018364e7c4f",
        "outputId": "45d590ed-4a0e-4d0c-8eed-42a64da844f0"
      },
      "outputs": [
        {
          "output_type": "stream",
          "name": "stdout",
          "text": [
            "{'input': 'hi'}\n",
            "---Step 1---\n",
            "{'input': 'hi'}\n",
            "---Step 2---\n",
            "{'input': 'hi'}\n",
            "---Step 3---\n",
            "{'input': 'hi'}\n"
          ]
        }
      ],
      "source": [
        "initial_input = {\"input\": \"hi\"}\n",
        "thread_config = {\"configurable\": {\"thread_id\": \"1\"}}\n",
        "\n",
        "# Run the graph until the first interruption\n",
        "for event in graph.stream(initial_input, thread_config, stream_mode=\"values\"):\n",
        "    print(event)"
      ]
    },
    {
      "cell_type": "code",
      "source": [
        "initial_input = {\"input\": \"hello world\"}\n",
        "thread_config = {\"configurable\": {\"thread_id\": \"1\"}}\n",
        "\n",
        "# Run the graph until the first interruption\n",
        "for event in graph.stream(initial_input, thread_config, stream_mode=\"values\"):\n",
        "    print(event)"
      ],
      "metadata": {
        "id": "ZcPB6beV5Z1e",
        "outputId": "99eb6502-6667-4118-cd5f-2c298aae5687",
        "colab": {
          "base_uri": "https://localhost:8080/"
        }
      },
      "id": "ZcPB6beV5Z1e",
      "execution_count": 13,
      "outputs": [
        {
          "output_type": "stream",
          "name": "stdout",
          "text": [
            "{'input': 'hello world'}\n",
            "---Step 1---\n",
            "{'input': 'hello world'}\n"
          ]
        }
      ]
    },
    {
      "cell_type": "markdown",
      "id": "da79063f-5b67-49dd-8ef0-3eae4c480cb5",
      "metadata": {
        "id": "da79063f-5b67-49dd-8ef0-3eae4c480cb5"
      },
      "source": [
        "If we inspect the graph state at this point, we the node set to execute next (`step_2`).\n"
      ]
    },
    {
      "cell_type": "code",
      "execution_count": 14,
      "id": "34706f0d-379b-4236-a42e-c8e52b27fb22",
      "metadata": {
        "colab": {
          "base_uri": "https://localhost:8080/"
        },
        "id": "34706f0d-379b-4236-a42e-c8e52b27fb22",
        "outputId": "34aa8c60-534d-4997-c766-2ba1392d6b62"
      },
      "outputs": [
        {
          "output_type": "stream",
          "name": "stdout",
          "text": [
            "('step_2',)\n"
          ]
        }
      ],
      "source": [
        "state = graph.get_state(thread_config)\n",
        "print(state.next)"
      ]
    },
    {
      "cell_type": "markdown",
      "id": "3ed78755-f1e8-4c66-a4f8-a7ccff472c91",
      "metadata": {
        "id": "3ed78755-f1e8-4c66-a4f8-a7ccff472c91"
      },
      "source": [
        "We can see that the `Interrupt` is logged to state."
      ]
    },
    {
      "cell_type": "code",
      "execution_count": 15,
      "id": "93815a05-819a-4050-8834-73236fa910dc",
      "metadata": {
        "colab": {
          "base_uri": "https://localhost:8080/"
        },
        "id": "93815a05-819a-4050-8834-73236fa910dc",
        "outputId": "6d3b0fe1-514c-4c5f-bb94-772d86b3c36e"
      },
      "outputs": [
        {
          "output_type": "stream",
          "name": "stdout",
          "text": [
            "(PregelTask(id='8d173089-7555-386f-8dc4-06ffb39eda55', name='step_2', path=('__pregel_pull', 'step_2'), error=None, interrupts=(Interrupt(value='Received input that is longer than 5 characters: hello world', resumable=False, ns=None, when='during'),), state=None, result=None),)\n"
          ]
        }
      ],
      "source": [
        "print(state.tasks)"
      ]
    },
    {
      "cell_type": "markdown",
      "id": "27d74573-b62c-4ac1-a142-d04c2dccfd08",
      "metadata": {
        "id": "27d74573-b62c-4ac1-a142-d04c2dccfd08"
      },
      "source": [
        "We can try to resume the graph from the breakpoint.\n",
        "\n",
        "But, this just re-runs the same node!\n",
        "\n",
        "Unless state is changed we will be stuck here."
      ]
    },
    {
      "cell_type": "code",
      "execution_count": 7,
      "id": "b735875e-62c6-4253-ba85-7ccf93a353b4",
      "metadata": {
        "colab": {
          "base_uri": "https://localhost:8080/"
        },
        "id": "b735875e-62c6-4253-ba85-7ccf93a353b4",
        "outputId": "f1c86a95-e9af-4d36-ab48-18afe3656538"
      },
      "outputs": [
        {
          "output_type": "stream",
          "name": "stdout",
          "text": [
            "{'input': 'hello world'}\n"
          ]
        }
      ],
      "source": [
        "for event in graph.stream(None, thread_config, stream_mode=\"values\"):\n",
        "    print(event)"
      ]
    },
    {
      "cell_type": "code",
      "execution_count": 8,
      "id": "1e3bc5e3-7a2f-49a1-8bdc-fd3597bd5fae",
      "metadata": {
        "colab": {
          "base_uri": "https://localhost:8080/"
        },
        "id": "1e3bc5e3-7a2f-49a1-8bdc-fd3597bd5fae",
        "outputId": "df095ba5-d96d-4ab4-b02a-48cca905c31c"
      },
      "outputs": [
        {
          "output_type": "stream",
          "name": "stdout",
          "text": [
            "('step_2',)\n"
          ]
        }
      ],
      "source": [
        "state = graph.get_state(thread_config)\n",
        "print(state.next)"
      ]
    },
    {
      "cell_type": "markdown",
      "id": "79ab61de-5c3f-44a5-b417-e36b1a2f26dd",
      "metadata": {
        "id": "79ab61de-5c3f-44a5-b417-e36b1a2f26dd"
      },
      "source": [
        "Now, we can update state."
      ]
    },
    {
      "cell_type": "code",
      "execution_count": 9,
      "id": "6f08dff4-3399-46de-a9ba-ba89b8cdb61e",
      "metadata": {
        "colab": {
          "base_uri": "https://localhost:8080/"
        },
        "id": "6f08dff4-3399-46de-a9ba-ba89b8cdb61e",
        "outputId": "606e416e-93d4-4e47-c71f-2facf3761a0e"
      },
      "outputs": [
        {
          "output_type": "execute_result",
          "data": {
            "text/plain": [
              "{'configurable': {'thread_id': '1',\n",
              "  'checkpoint_ns': '',\n",
              "  'checkpoint_id': '1efd5aab-65ed-63f6-8002-76d728322db0'}}"
            ]
          },
          "metadata": {},
          "execution_count": 9
        }
      ],
      "source": [
        "graph.update_state(\n",
        "    thread_config,\n",
        "    {\"input\": \"hi\"},\n",
        ")"
      ]
    },
    {
      "cell_type": "code",
      "execution_count": 10,
      "id": "4cb3f62b-fccd-47c3-af1e-541969e4d804",
      "metadata": {
        "colab": {
          "base_uri": "https://localhost:8080/"
        },
        "id": "4cb3f62b-fccd-47c3-af1e-541969e4d804",
        "outputId": "4e969a18-ba8b-45a0-ed70-8a92c0dfaf47"
      },
      "outputs": [
        {
          "output_type": "stream",
          "name": "stdout",
          "text": [
            "{'input': 'hi'}\n",
            "---Step 2---\n",
            "{'input': 'hi'}\n",
            "---Step 3---\n",
            "{'input': 'hi'}\n"
          ]
        }
      ],
      "source": [
        "for event in graph.stream(None, thread_config, stream_mode=\"values\"):\n",
        "    print(event)"
      ]
    },
    {
      "cell_type": "markdown",
      "id": "76e3dea8-8270-42c7-8d24-606b79b9c6aa",
      "metadata": {
        "id": "76e3dea8-8270-42c7-8d24-606b79b9c6aa"
      },
      "source": [
        "### Usage with LangGraph API\n",
        "\n",
        "--\n",
        "\n",
        "**⚠️ DISCLAIMER**\n",
        "\n",
        "*Running Studio currently requires a Mac. If you are not using a Mac, then skip this step.*\n",
        "\n",
        "*Also, if you are running this notebook in CoLab, then skip this step.*\n",
        "\n",
        "--\n",
        "\n",
        "We can run the above graph in Studio with `module-3/studio/dynamic_breakpoints.py`.\n",
        "\n",
        "![Screenshot 2024-08-27 at 2.02.20 PM.png](https://cdn.prod.website-files.com/65b8cd72835ceeacd4449a53/66dbaedf43c3d4df239c589e_dynamic-breakpoints1.png)"
      ]
    },
    {
      "cell_type": "code",
      "execution_count": null,
      "id": "be02c417-5adc-4789-aa90-02fd2312eb53",
      "metadata": {
        "id": "be02c417-5adc-4789-aa90-02fd2312eb53"
      },
      "outputs": [],
      "source": [
        "import platform\n",
        "\n",
        "if 'google.colab' in str(get_ipython()) or platform.system() != 'Darwin':\n",
        "    raise Exception(\"Unfortunately LangGraph Studio is currently not supported on Google Colab or requires a Mac\")"
      ]
    },
    {
      "cell_type": "markdown",
      "id": "2390ff2e-6b1a-4c6e-b0ce-debd45085dc8",
      "metadata": {
        "id": "2390ff2e-6b1a-4c6e-b0ce-debd45085dc8"
      },
      "source": [
        "We connect to it via the SDK."
      ]
    },
    {
      "cell_type": "code",
      "execution_count": null,
      "id": "4696327d",
      "metadata": {
        "id": "4696327d"
      },
      "outputs": [],
      "source": [
        "from langgraph_sdk import get_client\n",
        "\n",
        "# Replace this with the URL of your own deployed graph\n",
        "URL = \"https://cardiff-rivers-timothy-supply.trycloudflare.com\"\n",
        "client = get_client(url=URL)\n",
        "\n",
        "# Search all hosted graphs\n",
        "assistants = await client.assistants.search()"
      ]
    },
    {
      "cell_type": "code",
      "execution_count": null,
      "id": "8cb892cb-c79c-46bb-820b-d0479e71c5c4",
      "metadata": {
        "colab": {
          "base_uri": "https://localhost:8080/"
        },
        "id": "8cb892cb-c79c-46bb-820b-d0479e71c5c4",
        "outputId": "8d811cea-0eb1-4eb5-c0bc-ab57ba310b7a"
      },
      "outputs": [
        {
          "output_type": "stream",
          "name": "stdout",
          "text": [
            "Receiving new event of type: metadata...\n",
            "{'run_id': '1ef7bea5-52e3-64f2-b9c2-9c4247af6f1b', 'attempt': 1}\n",
            "\n",
            "\n",
            "\n",
            "Receiving new event of type: values...\n",
            "{'input': 'hello world'}\n",
            "\n",
            "\n",
            "\n",
            "Receiving new event of type: values...\n",
            "{'input': 'hello world'}\n",
            "\n",
            "\n",
            "\n"
          ]
        }
      ],
      "source": [
        "thread = await client.threads.create()\n",
        "input_dict = {\"input\": \"hello world\"}\n",
        "\n",
        "async for chunk in client.runs.stream(\n",
        "    thread[\"thread_id\"],\n",
        "    assistant_id=\"dynamic_breakpoints\",\n",
        "    input=input_dict,\n",
        "    stream_mode=\"values\",):\n",
        "\n",
        "    print(f\"Receiving new event of type: {chunk.event}...\")\n",
        "    print(chunk.data)\n",
        "    print(\"\\n\\n\")"
      ]
    },
    {
      "cell_type": "code",
      "execution_count": null,
      "id": "0ba7d9da",
      "metadata": {
        "id": "0ba7d9da"
      },
      "outputs": [],
      "source": [
        "current_state = await client.threads.get_state(thread['thread_id'])"
      ]
    },
    {
      "cell_type": "code",
      "execution_count": null,
      "id": "9610fc2b-ae39-4ffa-84af-b049e7d22cd6",
      "metadata": {
        "colab": {
          "base_uri": "https://localhost:8080/"
        },
        "id": "9610fc2b-ae39-4ffa-84af-b049e7d22cd6",
        "outputId": "d24d97eb-8eb6-46c2-b724-949f9bcb503d"
      },
      "outputs": [
        {
          "output_type": "execute_result",
          "data": {
            "text/plain": [
              "['step_2']"
            ]
          },
          "metadata": {},
          "execution_count": 17
        }
      ],
      "source": [
        "current_state['next']"
      ]
    },
    {
      "cell_type": "code",
      "execution_count": null,
      "id": "1e880cf0-18b1-4f7b-a770-24d45dd22757",
      "metadata": {
        "colab": {
          "base_uri": "https://localhost:8080/"
        },
        "id": "1e880cf0-18b1-4f7b-a770-24d45dd22757",
        "outputId": "80f2e0f6-9af2-4d18-ab62-7101fad64a97"
      },
      "outputs": [
        {
          "output_type": "execute_result",
          "data": {
            "text/plain": [
              "{'checkpoint': {'thread_id': 'a394a61a-ec3a-4769-8d53-617414ed175f',\n",
              "  'checkpoint_ns': '',\n",
              "  'checkpoint_id': '1ef7bea6-a84b-6ec4-8002-738a0528c65e'},\n",
              " 'configurable': {'thread_id': 'a394a61a-ec3a-4769-8d53-617414ed175f',\n",
              "  'checkpoint_ns': '',\n",
              "  'checkpoint_id': '1ef7bea6-a84b-6ec4-8002-738a0528c65e'},\n",
              " 'checkpoint_id': '1ef7bea6-a84b-6ec4-8002-738a0528c65e'}"
            ]
          },
          "metadata": {},
          "execution_count": 18
        }
      ],
      "source": [
        "await client.threads.update_state(thread['thread_id'], {\"input\": \"hi!\"})"
      ]
    },
    {
      "cell_type": "code",
      "execution_count": null,
      "id": "16dc65b9-95c0-46eb-9f73-da0a35e70034",
      "metadata": {
        "colab": {
          "base_uri": "https://localhost:8080/"
        },
        "id": "16dc65b9-95c0-46eb-9f73-da0a35e70034",
        "outputId": "0c2e10ae-5bb8-445f-8ac9-1bf54ca136fb"
      },
      "outputs": [
        {
          "output_type": "stream",
          "name": "stdout",
          "text": [
            "Receiving new event of type: metadata...\n",
            "{'run_id': '1ef7bea7-08b9-6d5f-b509-1391f5ab13a0', 'attempt': 1}\n",
            "\n",
            "\n",
            "\n",
            "Receiving new event of type: values...\n",
            "{'input': 'hi!'}\n",
            "\n",
            "\n",
            "\n",
            "Receiving new event of type: values...\n",
            "{'input': 'hi!'}\n",
            "\n",
            "\n",
            "\n",
            "Receiving new event of type: values...\n",
            "{'input': 'hi!'}\n",
            "\n",
            "\n",
            "\n"
          ]
        }
      ],
      "source": [
        "async for chunk in client.runs.stream(\n",
        "    thread[\"thread_id\"],\n",
        "    assistant_id=\"dynamic_breakpoints\",\n",
        "    input=None,\n",
        "    stream_mode=\"values\",):\n",
        "\n",
        "    print(f\"Receiving new event of type: {chunk.event}...\")\n",
        "    print(chunk.data)\n",
        "    print(\"\\n\\n\")"
      ]
    },
    {
      "cell_type": "code",
      "execution_count": null,
      "id": "5f662b10-ad4c-45c7-a420-ded8ccae8faa",
      "metadata": {
        "colab": {
          "base_uri": "https://localhost:8080/"
        },
        "id": "5f662b10-ad4c-45c7-a420-ded8ccae8faa",
        "outputId": "b7b63ce3-3f94-456c-a070-5c22c5da48e1"
      },
      "outputs": [
        {
          "output_type": "execute_result",
          "data": {
            "text/plain": [
              "{'values': {'input': 'hi!'},\n",
              " 'next': [],\n",
              " 'tasks': [],\n",
              " 'metadata': {'step': 4,\n",
              "  'run_id': '1ef7bea7-08b9-6d5f-b509-1391f5ab13a0',\n",
              "  'source': 'loop',\n",
              "  'writes': {'step_3': {'input': 'hi!'}},\n",
              "  'parents': {},\n",
              "  'user_id': '',\n",
              "  'graph_id': 'dynamic_breakpoints',\n",
              "  'thread_id': 'a394a61a-ec3a-4769-8d53-617414ed175f',\n",
              "  'created_by': 'system',\n",
              "  'run_attempt': 1,\n",
              "  'assistant_id': '6f6fce9a-b777-529d-9699-dd340ddec86c',\n",
              "  'x-forwarded-for': '34.48.111.248',\n",
              "  'x-forwarded-proto': 'https'},\n",
              " 'created_at': '2024-09-26T09:33:51.352382+00:00',\n",
              " 'checkpoint': {'thread_id': 'a394a61a-ec3a-4769-8d53-617414ed175f',\n",
              "  'checkpoint_ns': '',\n",
              "  'checkpoint_id': '1ef7bea7-09aa-6f3c-8004-0d63c32e8a69'},\n",
              " 'parent_checkpoint': {'thread_id': 'a394a61a-ec3a-4769-8d53-617414ed175f',\n",
              "  'checkpoint_ns': '',\n",
              "  'checkpoint_id': '1ef7bea7-099d-621f-8003-de7c4b415319'},\n",
              " 'checkpoint_id': '1ef7bea7-09aa-6f3c-8004-0d63c32e8a69',\n",
              " 'parent_checkpoint_id': '1ef7bea7-099d-621f-8003-de7c4b415319'}"
            ]
          },
          "metadata": {},
          "execution_count": 20
        }
      ],
      "source": [
        "current_state = await client.threads.get_state(thread['thread_id'])\n",
        "current_state"
      ]
    },
    {
      "cell_type": "code",
      "execution_count": null,
      "id": "873b3696-df61-4f2e-94d8-089b7072aafa",
      "metadata": {
        "id": "873b3696-df61-4f2e-94d8-089b7072aafa"
      },
      "outputs": [],
      "source": []
    }
  ],
  "metadata": {
    "kernelspec": {
      "display_name": "Python 3 (ipykernel)",
      "language": "python",
      "name": "python3"
    },
    "language_info": {
      "codemirror_mode": {
        "name": "ipython",
        "version": 3
      },
      "file_extension": ".py",
      "mimetype": "text/x-python",
      "name": "python",
      "nbconvert_exporter": "python",
      "pygments_lexer": "ipython3",
      "version": "3.12.4"
    },
    "colab": {
      "provenance": []
    }
  },
  "nbformat": 4,
  "nbformat_minor": 5
}