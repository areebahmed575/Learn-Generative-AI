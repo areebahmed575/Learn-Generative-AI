{
  "cells": [
    {
      "cell_type": "markdown",
      "id": "d4aa16f5-abc8-4ed3-8a71-54837fe46917",
      "metadata": {
        "id": "d4aa16f5-abc8-4ed3-8a71-54837fe46917"
      },
      "source": [
        "# Breakpoints\n",
        "\n",
        "## Review\n",
        "\n",
        "For `human-in-the-loop`, we often want to see our graph outputs as its running.\n",
        "\n",
        "We laid the foundations for this with streaming.\n",
        "\n",
        "## Goals\n",
        "\n",
        "Now, let's talk about the motivations for `human-in-the-loop`:\n",
        "\n",
        "(1) `Approval` - We can interrupt our agent, surface state to a user, and allow the user to accept an action\n",
        "\n",
        "(2) `Debugging` - We can rewind the graph to reproduce or avoid issues\n",
        "\n",
        "(3) `Editing` - You can modify the state\n",
        "\n",
        "LangGraph offers several ways to get or update agent state to support various `human-in-the-loop` workflows.\n",
        "\n",
        "First, we'll introduce [breakpoints](https://langchain-ai.github.io/langgraph/how-tos/human_in_the_loop/breakpoints/#simple-usage), which provide a simple way to stop the graph at specific steps.\n",
        "\n",
        "We'll show how this enables user `approval`."
      ]
    },
    {
      "cell_type": "code",
      "execution_count": 12,
      "id": "35842345-0694-4f0a-aa62-7d4898abf653",
      "metadata": {
        "id": "35842345-0694-4f0a-aa62-7d4898abf653"
      },
      "outputs": [],
      "source": [
        "%%capture --no-stderr\n",
        "%pip install --quiet -U langgraph langchain_google_genai langgraph_sdk"
      ]
    },
    {
      "cell_type": "code",
      "execution_count": null,
      "id": "11b44c41",
      "metadata": {},
      "outputs": [],
      "source": [
        "from google.colab import userdata\n",
        "\n",
        "%env GOOGLE_API_KEY = {userdata.get('GEMINI_API_KEY')}\n",
        "\n",
        "import os\n",
        "print(os.environ[\"GOOGLE_API_KEY\"])"
      ]
    },
    {
      "cell_type": "code",
      "execution_count": 16,
      "id": "HKrhR660NQWV",
      "metadata": {
        "colab": {
          "base_uri": "https://localhost:8080/"
        },
        "id": "HKrhR660NQWV",
        "outputId": "e96af93c-62f7-4821-f6be-c22d99c2f826"
      },
      "outputs": [
        {
          "name": "stdout",
          "output_type": "stream",
          "text": [
            "env: LANGCHAIN_API_KEY=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\n"
          ]
        }
      ],
      "source": [
        "%env LANGCHAIN_API_KEY = {userdata.get('LANGCHAIN_API_KEY')}\n",
        "os.environ[\"LANGCHAIN_TRACING_V2\"] = \"true\"\n",
        "os.environ[\"LANGCHAIN_PROJECT\"] = \"langchain-academy\""
      ]
    },
    {
      "cell_type": "markdown",
      "id": "31d8b4cd-e3ff-48cc-b7b2-f83fadb1c86b",
      "metadata": {
        "id": "31d8b4cd-e3ff-48cc-b7b2-f83fadb1c86b"
      },
      "source": [
        "## Breakpoints for human approval\n",
        "\n",
        "Let's re-consider the simple agent that we worked with in Module 1.\n",
        "\n",
        "Let's assume that are concerned about tool use: we want to approve the agent to use any of its tools.\n",
        "\n",
        "All we need to do is simply compile the graph with `interrupt_before=[\"tools\"]` where `tools` is our tools node.\n",
        "\n",
        "This means that the execution will be interrupted before the node `tools`, which executes the tool call."
      ]
    },
    {
      "cell_type": "code",
      "execution_count": 17,
      "id": "b94d1a90-2fe3-4b2a-a901-3bdb89e37edc",
      "metadata": {
        "id": "b94d1a90-2fe3-4b2a-a901-3bdb89e37edc"
      },
      "outputs": [],
      "source": [
        "from langchain_google_genai import ChatGoogleGenerativeAI\n",
        "from langchain_core.tools import tool\n",
        "\n",
        "def multiply(a: int, b: int) -> int:\n",
        "    \"\"\"Multiply a and b.\n",
        "\n",
        "    Args:\n",
        "        a: first int\n",
        "        b: second int\n",
        "    \"\"\"\n",
        "    return a * b\n",
        "\n",
        "# This will be a tool\n",
        "def add(a: int, b: int) -> int:\n",
        "    \"\"\"Adds a and b.\n",
        "\n",
        "    Args:\n",
        "        a: first int\n",
        "        b: second int\n",
        "    \"\"\"\n",
        "    return a + b\n",
        "\n",
        "def divide(a: int, b: int) -> float:\n",
        "    \"\"\"Adds a and b.\n",
        "\n",
        "    Args:\n",
        "        a: first int\n",
        "        b: second int\n",
        "    \"\"\"\n",
        "    return a / b\n",
        "\n",
        "tools: list[tool] = [add, multiply, divide]\n",
        "llm: ChatGoogleGenerativeAI = ChatGoogleGenerativeAI(model = \"gemini-1.5-flash\")\n",
        "llm_with_tools = llm.bind_tools(tools)"
      ]
    },
    {
      "cell_type": "code",
      "execution_count": 18,
      "id": "ac06feae-d12b-490b-95e7-38cf40b74202",
      "metadata": {
        "colab": {
          "base_uri": "https://localhost:8080/",
          "height": 308
        },
        "id": "ac06feae-d12b-490b-95e7-38cf40b74202",
        "outputId": "79d30e5e-5cef-4e5c-cf42-00c9bb258645"
      },
      "outputs": [
        {
          "data": {
            "image/png": "[encoded data removed]",
            "text/plain": [
              "<IPython.core.display.Image object>"
            ]
          },
          "metadata": {},
          "output_type": "display_data"
        }
      ],
      "source": [
        "from IPython.display import Image, display\n",
        "\n",
        "from langgraph.checkpoint.memory import MemorySaver\n",
        "from langgraph.graph import MessagesState\n",
        "from langgraph.graph import START, StateGraph\n",
        "from langgraph.prebuilt import tools_condition, ToolNode\n",
        "from langgraph.graph.state import CompiledStateGraph\n",
        "\n",
        "from langchain_core.messages import AIMessage, HumanMessage, SystemMessage\n",
        "\n",
        "# System message\n",
        "sys_msg = SystemMessage(content=\"You are a helpful assistant tasked with performing arithmetic on a set of inputs.\")\n",
        "\n",
        "# Node\n",
        "def assistant(state: MessagesState):\n",
        "   return {\"messages\": [llm_with_tools.invoke([sys_msg] + state[\"messages\"])]}\n",
        "\n",
        "# Graph\n",
        "builder: StateGraph = StateGraph(MessagesState)\n",
        "\n",
        "# Define nodes: these do the work\n",
        "builder.add_node(\"assistant\", assistant)\n",
        "builder.add_node(\"tools\", ToolNode(tools))\n",
        "\n",
        "# Define edges: these determine the control flow\n",
        "builder.add_edge(START, \"assistant\")\n",
        "builder.add_conditional_edges(\n",
        "    \"assistant\",\n",
        "    # If the latest message (result) from assistant is a tool call -> tools_condition routes to tools\n",
        "    # If the latest message (result) from assistant is a not a tool call -> tools_condition routes to END\n",
        "    tools_condition,\n",
        ")\n",
        "builder.add_edge(\"tools\", \"assistant\")\n",
        "\n",
        "memory: MemorySaver = MemorySaver()\n",
        "graph: CompiledStateGraph = builder.compile(interrupt_before=[\"tools\"], checkpointer=memory)\n",
        "\n",
        "# Show\n",
        "display(Image(graph.get_graph(xray=True).draw_mermaid_png()))"
      ]
    },
    {
      "cell_type": "code",
      "execution_count": 19,
      "id": "a783efac-46a9-4fb4-a1c6-a11b02540448",
      "metadata": {
        "colab": {
          "base_uri": "https://localhost:8080/"
        },
        "id": "a783efac-46a9-4fb4-a1c6-a11b02540448",
        "outputId": "675e024b-cd45-4acd-9f53-126359c30ba5"
      },
      "outputs": [
        {
          "name": "stdout",
          "output_type": "stream",
          "text": [
            "================================\u001b[1m Human Message \u001b[0m=================================\n",
            "\n",
            "Multiply 2 and 3\n",
            "==================================\u001b[1m Ai Message \u001b[0m==================================\n",
            "Tool Calls:\n",
            "  multiply (7dcec3ed-0cee-45f1-a606-1427d8a2fdea)\n",
            " Call ID: 7dcec3ed-0cee-45f1-a606-1427d8a2fdea\n",
            "  Args:\n",
            "    a: 2.0\n",
            "    b: 3.0\n"
          ]
        }
      ],
      "source": [
        "# Input\n",
        "initial_input = {\"messages\": HumanMessage(content=\"Multiply 2 and 3\")}\n",
        "\n",
        "# Thread\n",
        "thread = {\"configurable\": {\"thread_id\": \"1\"}}\n",
        "\n",
        "# Run the graph until the first interruption\n",
        "for event in graph.stream(initial_input, thread, stream_mode=\"values\"):\n",
        "    event['messages'][-1].pretty_print()"
      ]
    },
    {
      "cell_type": "markdown",
      "id": "50d49669-b1a5-42c2-bdb8-052da89bd7c4",
      "metadata": {
        "id": "50d49669-b1a5-42c2-bdb8-052da89bd7c4"
      },
      "source": [
        "We can get the state and look at the next node to call.\n",
        "\n",
        "This is a nice way to see that the graph has been interrupted."
      ]
    },
    {
      "cell_type": "code",
      "execution_count": 20,
      "id": "6Ie_x7ziAP3i",
      "metadata": {
        "colab": {
          "base_uri": "https://localhost:8080/"
        },
        "id": "6Ie_x7ziAP3i",
        "outputId": "7f6b4c41-0592-49c3-8450-d21413155103"
      },
      "outputs": [
        {
          "data": {
            "text/plain": [
              "StateSnapshot(values={'messages': [HumanMessage(content='Multiply 2 and 3', additional_kwargs={}, response_metadata={}, id='fadf6ad4-beca-44f6-8ef0-3d9d18521f4d'), AIMessage(content='', additional_kwargs={'function_call': {'name': 'multiply', 'arguments': '{\"a\": 2.0, \"b\": 3.0}'}}, response_metadata={'prompt_feedback': {'block_reason': 0, 'safety_ratings': []}, 'finish_reason': 'STOP', 'safety_ratings': []}, id='run-3fc55e59-e159-4a25-94a0-6ad9f7102e95-0', tool_calls=[{'name': 'multiply', 'args': {'a': 2.0, 'b': 3.0}, 'id': '7dcec3ed-0cee-45f1-a606-1427d8a2fdea', 'type': 'tool_call'}], usage_metadata={'input_tokens': 166, 'output_tokens': 3, 'total_tokens': 169, 'input_token_details': {'cache_read': 0}})]}, next=('tools',), config={'configurable': {'thread_id': '1', 'checkpoint_ns': '', 'checkpoint_id': '1efc0531-2109-64e9-8001-70d7c57dc7ef'}}, metadata={'source': 'loop', 'writes': {'assistant': {'messages': [AIMessage(content='', additional_kwargs={'function_call': {'name': 'multiply', 'arguments': '{\"a\": 2.0, \"b\": 3.0}'}}, response_metadata={'prompt_feedback': {'block_reason': 0, 'safety_ratings': []}, 'finish_reason': 'STOP', 'safety_ratings': []}, id='run-3fc55e59-e159-4a25-94a0-6ad9f7102e95-0', tool_calls=[{'name': 'multiply', 'args': {'a': 2.0, 'b': 3.0}, 'id': '7dcec3ed-0cee-45f1-a606-1427d8a2fdea', 'type': 'tool_call'}], usage_metadata={'input_tokens': 166, 'output_tokens': 3, 'total_tokens': 169, 'input_token_details': {'cache_read': 0}})]}}, 'thread_id': '1', 'step': 1, 'parents': {}}, created_at='2024-12-22T10:54:08.966958+00:00', parent_config={'configurable': {'thread_id': '1', 'checkpoint_ns': '', 'checkpoint_id': '1efc0531-1bc8-62a5-8000-804ed21e9607'}}, tasks=(PregelTask(id='8db2f617-c802-93b5-c2e6-f0dad53a577e', name='tools', path=('__pregel_pull', 'tools'), error=None, interrupts=(), state=None, result=None),))"
            ]
          },
          "execution_count": 20,
          "metadata": {},
          "output_type": "execute_result"
        }
      ],
      "source": [
        "state = graph.get_state(thread)\n",
        "state"
      ]
    },
    {
      "cell_type": "code",
      "execution_count": 21,
      "id": "61569596-8342-4a37-9c99-e3a9dccb18ee",
      "metadata": {
        "colab": {
          "base_uri": "https://localhost:8080/"
        },
        "id": "61569596-8342-4a37-9c99-e3a9dccb18ee",
        "outputId": "12c9019d-425b-422e-c22f-fbc30109e0bd"
      },
      "outputs": [
        {
          "data": {
            "text/plain": [
              "('tools',)"
            ]
          },
          "execution_count": 21,
          "metadata": {},
          "output_type": "execute_result"
        }
      ],
      "source": [
        "state.next"
      ]
    },
    {
      "cell_type": "markdown",
      "id": "2fea0fb5-3145-4f34-bcc0-9c9e8972d6b4",
      "metadata": {
        "id": "2fea0fb5-3145-4f34-bcc0-9c9e8972d6b4"
      },
      "source": [
        "Now, we'll introduce a nice trick.\n",
        "\n",
        "When we invoke the graph with `None`, it will just continue from the last state checkpoint!\n",
        "\n",
        "![breakpoints.jpg](https://cdn.prod.website-files.com/65b8cd72835ceeacd4449a53/66dbae7985b747dfed67775d_breakpoints1.png)\n",
        "\n",
        "For clarity, LangGraph will re-emit the current state, which contains the `AIMessage` with tool call.\n",
        "\n",
        "And then it will proceed to execute the following steps in the graph, which start with the tool node.\n",
        "\n",
        "We see that the tool node is run with this tool call, and it's passed back to the chat model for our final answer."
      ]
    },
    {
      "cell_type": "code",
      "execution_count": 22,
      "id": "896a5f41-7386-4bfa-a78e-3e6ca5e26641",
      "metadata": {
        "colab": {
          "base_uri": "https://localhost:8080/"
        },
        "id": "896a5f41-7386-4bfa-a78e-3e6ca5e26641",
        "outputId": "e43140c2-0056-47d0-d71a-307bb52ba083"
      },
      "outputs": [
        {
          "name": "stdout",
          "output_type": "stream",
          "text": [
            "==================================\u001b[1m Ai Message \u001b[0m==================================\n",
            "Tool Calls:\n",
            "  multiply (7dcec3ed-0cee-45f1-a606-1427d8a2fdea)\n",
            " Call ID: 7dcec3ed-0cee-45f1-a606-1427d8a2fdea\n",
            "  Args:\n",
            "    a: 2.0\n",
            "    b: 3.0\n",
            "=================================\u001b[1m Tool Message \u001b[0m=================================\n",
            "Name: multiply\n",
            "\n",
            "6\n",
            "==================================\u001b[1m Ai Message \u001b[0m==================================\n",
            "\n",
            "The result is 6.\n"
          ]
        }
      ],
      "source": [
        "for event in graph.stream(None, thread, stream_mode=\"values\"):\n",
        "    event['messages'][-1].pretty_print()"
      ]
    },
    {
      "cell_type": "markdown",
      "id": "37f91a0c-7cc1-4437-adc7-b36abb29beb1",
      "metadata": {
        "id": "37f91a0c-7cc1-4437-adc7-b36abb29beb1"
      },
      "source": [
        "Now, lets bring these together with a specific user approval step that accepts user input."
      ]
    },
    {
      "cell_type": "code",
      "execution_count": 25,
      "id": "zbpQUnvVCzH1",
      "metadata": {
        "colab": {
          "base_uri": "https://localhost:8080/"
        },
        "id": "zbpQUnvVCzH1",
        "outputId": "4864bca9-8215-4d8f-9e89-9391628ab811"
      },
      "outputs": [
        {
          "name": "stdout",
          "output_type": "stream",
          "text": [
            "================================\u001b[1m Human Message \u001b[0m=================================\n",
            "\n",
            "Multiply 2 and 3\n",
            "==================================\u001b[1m Ai Message \u001b[0m==================================\n",
            "Tool Calls:\n",
            "  multiply (369673f4-17a1-4df4-a86c-8939af8a78bd)\n",
            " Call ID: 369673f4-17a1-4df4-a86c-8939af8a78bd\n",
            "  Args:\n",
            "    a: 2.0\n",
            "    b: 3.0\n",
            "Do you want to call the tool? (yes/no): yes\n",
            "==================================\u001b[1m Ai Message \u001b[0m==================================\n",
            "Tool Calls:\n",
            "  multiply (369673f4-17a1-4df4-a86c-8939af8a78bd)\n",
            " Call ID: 369673f4-17a1-4df4-a86c-8939af8a78bd\n",
            "  Args:\n",
            "    a: 2.0\n",
            "    b: 3.0\n",
            "=================================\u001b[1m Tool Message \u001b[0m=================================\n",
            "Name: multiply\n",
            "\n",
            "6\n",
            "==================================\u001b[1m Ai Message \u001b[0m==================================\n",
            "\n",
            "The result is 6.\n"
          ]
        }
      ],
      "source": [
        "# Input\n",
        "initial_input = {\"messages\": HumanMessage(content=\"Multiply 2 and 3\")}\n",
        "\n",
        "# Thread\n",
        "thread = {\"configurable\": {\"thread_id\": \"2\"}}\n",
        "\n",
        "# Run the graph until the first interruption\n",
        "for event in graph.stream(initial_input, thread, stream_mode=\"values\"):\n",
        "    event['messages'][-1].pretty_print()\n",
        "\n",
        "# Get user feedback\n",
        "user_approval = input(\"Do you want to call the tool? (yes/no): \")\n",
        "\n",
        "# Check approval\n",
        "if user_approval.lower() == \"yes\":\n",
        "\n",
        "    # If approved, continue the graph execution\n",
        "    for event in graph.stream(None, thread, stream_mode=\"values\"):\n",
        "        event['messages'][-1].pretty_print()\n",
        "\n",
        "else:\n",
        "    print(\"Operation cancelled by user.\")"
      ]
    },
    {
      "cell_type": "code",
      "execution_count": 24,
      "id": "95a0eb50-66e3-4538-8103-207aae175154",
      "metadata": {
        "colab": {
          "base_uri": "https://localhost:8080/"
        },
        "id": "95a0eb50-66e3-4538-8103-207aae175154",
        "outputId": "b45f6de6-ec97-4619-f07c-db841b82d758"
      },
      "outputs": [
        {
          "name": "stdout",
          "output_type": "stream",
          "text": [
            "================================\u001b[1m Human Message \u001b[0m=================================\n",
            "\n",
            "Multiply 2 and 3\n",
            "==================================\u001b[1m Ai Message \u001b[0m==================================\n",
            "Tool Calls:\n",
            "  multiply (6c261e86-4351-4f84-8742-897680140c1d)\n",
            " Call ID: 6c261e86-4351-4f84-8742-897680140c1d\n",
            "  Args:\n",
            "    a: 2.0\n",
            "    b: 3.0\n",
            "Do you want to call the tool? (yes/no): no\n",
            "Operation cancelled by user.\n"
          ]
        }
      ],
      "source": [
        "# Input\n",
        "initial_input = {\"messages\": HumanMessage(content=\"Multiply 2 and 3\")}\n",
        "\n",
        "# Thread\n",
        "thread = {\"configurable\": {\"thread_id\": \"2\"}}\n",
        "\n",
        "# Run the graph until the first interruption\n",
        "for event in graph.stream(initial_input, thread, stream_mode=\"values\"):\n",
        "    event['messages'][-1].pretty_print()\n",
        "\n",
        "# Get user feedback\n",
        "user_approval = input(\"Do you want to call the tool? (yes/no): \")\n",
        "\n",
        "# Check approval\n",
        "if user_approval.lower() == \"yes\":\n",
        "\n",
        "    # If approved, continue the graph execution\n",
        "    for event in graph.stream(None, thread, stream_mode=\"values\"):\n",
        "        event['messages'][-1].pretty_print()\n",
        "\n",
        "else:\n",
        "    print(\"Operation cancelled by user.\")"
      ]
    },
    {
      "cell_type": "markdown",
      "id": "b8ff8762-6fa1-4373-954a-e7f479ee0efb",
      "metadata": {
        "id": "b8ff8762-6fa1-4373-954a-e7f479ee0efb"
      },
      "source": [
        "### Breakpoints with LangGraph API\n",
        "\n",
        "--\n",
        "\n",
        "**⚠️ DISCLAIMER**\n",
        "\n",
        "*Running Studio currently requires a Mac. If you are not using a Mac, then skip this step.*\n",
        "\n",
        "*Also, if you are running this notebook in CoLab, then skip this step.*\n",
        "\n",
        "--\n",
        "\n",
        "Let's load our `agent` in the Studio UI, which uses `module-3/studio/agent.py` set in `module-3/studio/langgraph.json`.\n",
        "\n",
        "Let's get the URL for the local deployment from Studio.\n",
        "\n",
        "![Screenshot 2024-08-26 at 9.36.41 AM.png](https://cdn.prod.website-files.com/65b8cd72835ceeacd4449a53/66dbae7989b1d60204c199dc_breakpoints2.png)\n",
        "\n",
        "The LangGraph API [supports breakpoints](https://langchain-ai.github.io/langgraph/cloud/how-tos/human_in_the_loop_breakpoint/#sdk-initialization)."
      ]
    },
    {
      "cell_type": "code",
      "execution_count": null,
      "id": "63c2eaf1-6b8b-4d80-9902-98ae5587bcf9",
      "metadata": {
        "id": "63c2eaf1-6b8b-4d80-9902-98ae5587bcf9"
      },
      "outputs": [],
      "source": [
        "import platform\n",
        "\n",
        "if platform.system() != 'Darwin':\n",
        "    raise Exception(\"Unfortunately LangGraph Studio is currently not supported on Google Colab or requires a Mac\")"
      ]
    },
    {
      "cell_type": "code",
      "execution_count": null,
      "id": "fb1dd890-c216-4802-9e33-b637e491e144",
      "metadata": {
        "id": "fb1dd890-c216-4802-9e33-b637e491e144"
      },
      "outputs": [],
      "source": [
        "from langgraph_sdk import get_client\n",
        "client = get_client(url=\"https://cardiff-rivers-timothy-supply.trycloudflare.com\")"
      ]
    },
    {
      "cell_type": "markdown",
      "id": "1e80d969-d065-45d7-8bfc-a403a0a1079b",
      "metadata": {
        "id": "1e80d969-d065-45d7-8bfc-a403a0a1079b"
      },
      "source": [
        "As shown above, we can add `interrupt_before=[\"node\"]` when compiling the graph that is running in Studio.\n",
        "\n",
        "However, with the API, you can also pass `interrupt_before` to the stream method directly."
      ]
    },
    {
      "cell_type": "code",
      "execution_count": null,
      "id": "de9c5017-3a15-46f6-8edf-3997613da323",
      "metadata": {
        "colab": {
          "base_uri": "https://localhost:8080/"
        },
        "id": "de9c5017-3a15-46f6-8edf-3997613da323",
        "outputId": "4b820a5e-25da-400e-fa2d-a2549450c484"
      },
      "outputs": [
        {
          "name": "stdout",
          "output_type": "stream",
          "text": [
            "Receiving new event of type: metadata...\n",
            "--------------------------------------------------\n",
            "Receiving new event of type: values...\n",
            "{'content': 'Multiply 2 and 3', 'additional_kwargs': {'example': False, 'additional_kwargs': {}, 'response_metadata': {}}, 'response_metadata': {}, 'type': 'human', 'name': None, 'id': '53955f1f-1d43-4049-9662-89f99a0f64e0', 'example': False}\n",
            "--------------------------------------------------\n",
            "Receiving new event of type: values...\n",
            "{'content': '', 'additional_kwargs': {'function_call': {'name': 'multiply', 'arguments': '{\"a\": 2.0, \"b\": 3.0}'}}, 'response_metadata': {'prompt_feedback': {'block_reason': 0, 'safety_ratings': []}, 'finish_reason': 'STOP', 'safety_ratings': [{'category': 'HARM_CATEGORY_DANGEROUS_CONTENT', 'probability': 'NEGLIGIBLE', 'blocked': False}, {'category': 'HARM_CATEGORY_SEXUALLY_EXPLICIT', 'probability': 'NEGLIGIBLE', 'blocked': False}, {'category': 'HARM_CATEGORY_HARASSMENT', 'probability': 'NEGLIGIBLE', 'blocked': False}, {'category': 'HARM_CATEGORY_HATE_SPEECH', 'probability': 'NEGLIGIBLE', 'blocked': False}]}, 'type': 'ai', 'name': None, 'id': 'run-77d3d27e-39bd-4399-b2b1-5b4840c4ae38-0', 'example': False, 'tool_calls': [{'name': 'multiply', 'args': {'a': 2.0, 'b': 3.0}, 'id': 'e187fd16-f944-4c07-85f4-f7d879ac3828', 'type': 'tool_call'}], 'invalid_tool_calls': [], 'usage_metadata': {'input_tokens': 210, 'output_tokens': 18, 'total_tokens': 228}}\n",
            "--------------------------------------------------\n"
          ]
        }
      ],
      "source": [
        "initial_input = {\"messages\": HumanMessage(content=\"Multiply 2 and 3\")}\n",
        "thread = await client.threads.create()\n",
        "async for chunk in client.runs.stream(\n",
        "    thread[\"thread_id\"],\n",
        "    assistant_id=\"agent\",\n",
        "    input=initial_input,\n",
        "    stream_mode=\"values\",\n",
        "    interrupt_before=[\"tools\"],\n",
        "):\n",
        "    print(f\"Receiving new event of type: {chunk.event}...\")\n",
        "    messages = chunk.data.get('messages', [])\n",
        "    if messages:\n",
        "        print(messages[-1])\n",
        "    print(\"-\" * 50)"
      ]
    },
    {
      "cell_type": "markdown",
      "id": "b64272d1-c6ee-435f-9890-9b6c3525ca6c",
      "metadata": {
        "id": "b64272d1-c6ee-435f-9890-9b6c3525ca6c"
      },
      "source": [
        "Now, we can proceed from the breakpoint just like we did before by passing the `thread_id` and `None` as the input!"
      ]
    },
    {
      "cell_type": "code",
      "execution_count": null,
      "id": "76284730-9c90-46c4-8295-400a49760b07",
      "metadata": {
        "colab": {
          "base_uri": "https://localhost:8080/"
        },
        "id": "76284730-9c90-46c4-8295-400a49760b07",
        "outputId": "16ea3896-2c64-4ed2-991a-4528323ebe44"
      },
      "outputs": [
        {
          "name": "stdout",
          "output_type": "stream",
          "text": [
            "Receiving new event of type: metadata...\n",
            "--------------------------------------------------\n",
            "Receiving new event of type: values...\n",
            "{'content': '', 'additional_kwargs': {'function_call': {'name': 'multiply', 'arguments': '{\"a\": 2.0, \"b\": 3.0}'}}, 'response_metadata': {'prompt_feedback': {'block_reason': 0, 'safety_ratings': []}, 'finish_reason': 'STOP', 'safety_ratings': [{'category': 'HARM_CATEGORY_DANGEROUS_CONTENT', 'probability': 'NEGLIGIBLE', 'blocked': False}, {'category': 'HARM_CATEGORY_SEXUALLY_EXPLICIT', 'probability': 'NEGLIGIBLE', 'blocked': False}, {'category': 'HARM_CATEGORY_HARASSMENT', 'probability': 'NEGLIGIBLE', 'blocked': False}, {'category': 'HARM_CATEGORY_HATE_SPEECH', 'probability': 'NEGLIGIBLE', 'blocked': False}]}, 'type': 'ai', 'name': None, 'id': 'run-77d3d27e-39bd-4399-b2b1-5b4840c4ae38-0', 'example': False, 'tool_calls': [{'name': 'multiply', 'args': {'a': 2.0, 'b': 3.0}, 'id': 'e187fd16-f944-4c07-85f4-f7d879ac3828', 'type': 'tool_call'}], 'invalid_tool_calls': [], 'usage_metadata': {'input_tokens': 210, 'output_tokens': 18, 'total_tokens': 228}}\n",
            "--------------------------------------------------\n",
            "Receiving new event of type: values...\n",
            "{'content': '6', 'additional_kwargs': {}, 'response_metadata': {}, 'type': 'tool', 'name': 'multiply', 'id': 'fc779fda-c55e-43f1-9ba7-3bff56eb16c5', 'tool_call_id': 'e187fd16-f944-4c07-85f4-f7d879ac3828', 'artifact': None, 'status': 'success'}\n",
            "--------------------------------------------------\n",
            "Receiving new event of type: values...\n",
            "{'content': 'The answer is 6. \\n', 'additional_kwargs': {}, 'response_metadata': {'prompt_feedback': {'block_reason': 0, 'safety_ratings': []}, 'finish_reason': 'STOP', 'safety_ratings': [{'category': 'HARM_CATEGORY_SEXUALLY_EXPLICIT', 'probability': 'NEGLIGIBLE', 'blocked': False}, {'category': 'HARM_CATEGORY_HATE_SPEECH', 'probability': 'NEGLIGIBLE', 'blocked': False}, {'category': 'HARM_CATEGORY_HARASSMENT', 'probability': 'NEGLIGIBLE', 'blocked': False}, {'category': 'HARM_CATEGORY_DANGEROUS_CONTENT', 'probability': 'NEGLIGIBLE', 'blocked': False}]}, 'type': 'ai', 'name': None, 'id': 'run-8d479dfb-305d-4196-b19f-32d1135a4553-0', 'example': False, 'tool_calls': [], 'invalid_tool_calls': [], 'usage_metadata': {'input_tokens': 243, 'output_tokens': 6, 'total_tokens': 249}}\n",
            "--------------------------------------------------\n"
          ]
        }
      ],
      "source": [
        "async for chunk in client.runs.stream(\n",
        "    thread[\"thread_id\"],\n",
        "    \"agent\",\n",
        "    input=None,\n",
        "    stream_mode=\"values\",\n",
        "    interrupt_before=[\"tools\"],\n",
        "):\n",
        "    print(f\"Receiving new event of type: {chunk.event}...\")\n",
        "    messages = chunk.data.get('messages', [])\n",
        "    if messages:\n",
        "        print(messages[-1])\n",
        "    print(\"-\" * 50)"
      ]
    },
    {
      "cell_type": "markdown",
      "id": "4575970f-42e2-4d03-b18a-aacaa8233b53",
      "metadata": {
        "id": "4575970f-42e2-4d03-b18a-aacaa8233b53"
      },
      "source": []
    },
    {
      "cell_type": "code",
      "execution_count": null,
      "id": "Sokc0EGjR33U",
      "metadata": {
        "id": "Sokc0EGjR33U"
      },
      "outputs": [],
      "source": []
    }
  ],
  "metadata": {
    "colab": {
      "provenance": []
    },
    "kernelspec": {
      "display_name": "Python 3 (ipykernel)",
      "language": "python",
      "name": "python3"
    },
    "language_info": {
      "codemirror_mode": {
        "name": "ipython",
        "version": 3
      },
      "file_extension": ".py",
      "mimetype": "text/x-python",
      "name": "python",
      "nbconvert_exporter": "python",
      "pygments_lexer": "ipython3",
      "version": "3.12.4"
    }
  },
  "nbformat": 4,
  "nbformat_minor": 5
}
