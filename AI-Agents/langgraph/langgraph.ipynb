{
 "cells": [
  {
   "cell_type": "markdown",
   "metadata": {},
   "source": [
    "nodes\n",
    "edges:\n",
    "solid line --- > simple edge\n",
    "dotted line --- > conditional edge\n",
    "\n",
    "start -- > node 1 --- > node 1 conditional edge h tou agar is ki logic less than 5 generate krti tou yeh node 2 k pass jaye ga or agar is ki logic greater than 5 generate krti tou yeh node 3 k pass jaye ga  "
   ]
  }
 ],
 "metadata": {
  "language_info": {
   "name": "python"
  }
 },
 "nbformat": 4,
 "nbformat_minor": 2
}
