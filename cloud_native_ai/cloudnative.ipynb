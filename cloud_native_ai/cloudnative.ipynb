{
 "cells": [
  {
   "cell_type": "markdown",
   "metadata": {},
   "source": [
    "#compose.yaml\n",
    "- version : \"3.9\"\n",
    "\n",
    "- services:\n",
    "  - jupyter:\n",
    "    - container_name : \"jupyter\"\n",
    "    - hostname : \"jupyter\"\n",
    "    - build:\n",
    "      - context : ./code\n",
    "    - ports :\n",
    "      - -- \"8888:8888\" \n",
    "    - volumes: #jaisy hum development mai kohi changing krtay h container mai tou woh changes humai local folder mai nazar   aaaye ghi.Agar aap ka container crash bhi kr jaye tou phi bhi aap ka codebase os mai majood rehta h.\n",
    "      \n",
    "    - -- ./code:/code/ #First wali windows ya macos ki h or second wali docker container ka hota h yani linux os ka\n",
    "\n",
    "\n",
    "#Dockerfile\n",
    "- FROM jupyter/base-notebook:latest\n",
    "\n",
    "- WORKDIR /code\n",
    "\n",
    "- RUN pip install poetry\n",
    "\n",
    "- COPY . .\n",
    "\n",
    "- RUN poetry config virtualenvs.create false\n",
    "\n",
    "\n",
    "- EXPOSE 8888\n",
    "\n",
    "- CMD [\"jupyter\", \"notebook\" ,\"--port\", \"8888\", \"--no-browser\" ,\"--allow-root\"]\n",
    "\n",
    "\n",
    "- Now check notebook in:\n",
    "- http://127.0.0.1:8888/tree\n",
    "\n",
    "#Dev container:\n",
    "- ls\n",
    "- poetry --version\n",
    "- poetry new project1\n",
    "- Now move files in project1 in root\n",
    "- poetry add openai\n",
    "\n",
    "\n",
    "Python and jupyter notebook install to run notebook on vscode"
   ]
  },
  {
   "cell_type": "markdown",
   "metadata": {},
   "source": []
  }
 ],
 "metadata": {
  "language_info": {
   "name": "python"
  }
 },
 "nbformat": 4,
 "nbformat_minor": 2
}
