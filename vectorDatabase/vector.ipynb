{
 "cells": [
  {
   "cell_type": "markdown",
   "metadata": {},
   "source": [
    "## Vector Database(Coverting data into vectors then storing it into vectors database)\n",
    "\n",
    "A vector database is a database that used for storing high-dimensional vector such as word embeddings and image embeddings\n",
    "\n",
    "* Embeddings is just  a vector which have some semantic meaning"
   ]
  },
  {
   "cell_type": "markdown",
   "metadata": {},
   "source": [
    "Vectorstore Memory: Langchain also supports vector-based memory architectures, which store and retrieve conversation history based on vector embeddings. This approach allows for semantic similarity searches, enabling the AI to retrieve relevant information from the conversation history based on contextual meaning rather than exact keyword matches. Vectorstores can be built on top of different storage backends, such as in-memory, file-based, or database systems."
   ]
  },
  {
   "cell_type": "code",
   "execution_count": null,
   "metadata": {},
   "outputs": [],
   "source": []
  },
  {
   "cell_type": "code",
   "execution_count": null,
   "metadata": {},
   "outputs": [],
   "source": []
  }
 ],
 "metadata": {
  "language_info": {
   "name": "python"
  }
 },
 "nbformat": 4,
 "nbformat_minor": 2
}
