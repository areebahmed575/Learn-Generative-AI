{
 "cells": [
  {
   "cell_type": "code",
   "execution_count": 1,
   "metadata": {},
   "outputs": [],
   "source": [
    "from dotenv import load_dotenv\n",
    "\n",
    "load_dotenv()\n",
    "import os\n",
    "os.environ['OPENAI_API_KEY']=os.getenv(\"OPENAI_API_KEY\")"
   ]
  },
  {
   "cell_type": "code",
   "execution_count": 2,
   "metadata": {},
   "outputs": [],
   "source": [
    "from langchain_community.document_loaders import WebBaseLoader"
   ]
  },
  {
   "cell_type": "code",
   "execution_count": 3,
   "metadata": {},
   "outputs": [
    {
     "data": {
      "text/plain": [
       "[Document(page_content=\"\\n\\n\\n\\n\\nLangSmith User Guide | 🦜️🛠️ LangSmith\\n\\n\\n\\n\\n\\n\\n\\nSkip to main contentLangSmith API DocsSearchGo to AppQuick StartUser GuideTracingEvaluationProduction Monitoring & AutomationsPrompt HubProxyPricingSelf-HostingCookbookThis is outdated documentation for 🦜️🛠️ LangSmith, which is no longer actively maintained.For up-to-date documentation, see the latest version.User GuideOn this pageLangSmith User GuideLangSmith is a platform for LLM application development, monitoring, and testing. In this guide, we’ll highlight the breadth of workflows LangSmith supports and how they fit into each stage of the application development lifecycle. We hope this will inform users how to best utilize this powerful platform or give them something to consider if they’re just starting their journey.Prototyping\\u200bPrototyping LLM applications often involves quick experimentation between prompts, model types, retrieval strategy and other parameters.\\nThe ability to rapidly understand how the model is performing — and debug where it is failing — is incredibly important for this phase.Debugging\\u200bWhen developing new LLM applications, we suggest having LangSmith tracing enabled by default.\\nOftentimes, it isn’t necessary to look at every single trace. However, when things go wrong (an unexpected end result, infinite agent loop, slower than expected execution, higher than expected token usage), it’s extremely helpful to debug by looking through the application traces. LangSmith gives clear visibility and debugging information at each step of an LLM sequence, making it much easier to identify and root-cause issues.\\nWe provide native rendering of chat messages, functions, and retrieve documents.Initial Test Set\\u200bWhile many developers still ship an initial version of their application based on “vibe checks”, we’ve seen an increasing number of engineering teams start to adopt a more test driven approach. LangSmith allows developers to create datasets, which are collections of inputs and reference outputs, and use these to run tests on their LLM applications.\\nThese test cases can be uploaded in bulk, created on the fly, or exported from application traces. LangSmith also makes it easy to run custom evaluations (both LLM and heuristic based) to score test results.Comparison View\\u200bWhen prototyping different versions of your applications and making changes, it’s important to see whether or not you’ve regressed with respect to your initial test cases.\\nOftentimes, changes in the prompt, retrieval strategy, or model choice can have huge implications in responses produced by your application.\\nIn order to get a sense for which variant is performing better, it’s useful to be able to view results for different configurations on the same datapoints side-by-side. We’ve invested heavily in a user-friendly comparison view for test runs to track and diagnose regressions in test scores across multiple revisions of your application.Playground\\u200bLangSmith provides a playground environment for rapid iteration and experimentation.\\nThis allows you to quickly test out different prompts and models. You can open the playground from any prompt or model run in your trace.\\nEvery playground run is logged in the system and can be used to create test cases or compare with other runs.Beta Testing\\u200bBeta testing allows developers to collect more data on how their LLM applications are performing in real-world scenarios. In this phase, it’s important to develop an understanding for the types of inputs the app is performing well or poorly on and how exactly it’s breaking down in those cases. Both feedback collection and run annotation are critical for this workflow. This will help in curation of test cases that can help track regressions/improvements and development of automatic evaluations.Capturing Feedback\\u200bWhen launching your application to an initial set of users, it’s important to gather human feedback on the responses it’s producing. This helps draw attention to the most interesting runs and highlight edge cases that are causing problematic responses. LangSmith allows you to attach feedback scores to logged traces (oftentimes, this is hooked up to a feedback button in your app), then filter on traces that have a specific feedback tag and score. A common workflow is to filter on traces that receive a poor user feedback score, then drill down into problematic points using the detailed trace view.Annotating Traces\\u200bLangSmith also supports sending runs to annotation queues, which allow annotators to closely inspect interesting traces and annotate them with respect to different criteria. Annotators can be PMs, engineers, or even subject matter experts. This allows users to catch regressions across important evaluation criteria.Adding Runs to a Dataset\\u200bAs your application progresses through the beta testing phase, it's essential to continue collecting data to refine and improve its performance. LangSmith enables you to add runs as examples to datasets (from both the project page and within an annotation queue), expanding your test coverage on real-world scenarios. This is a key benefit in having your logging system and your evaluation/testing system in the same platform.Production\\u200bClosely inspecting key data points, growing benchmarking datasets, annotating traces, and drilling down into important data in trace view are workflows you’ll also want to do once your app hits production.However, especially at the production stage, it’s crucial to get a high-level overview of application performance with respect to latency, cost, and feedback scores. This ensures that it's delivering desirable results at scale.Online evaluations and automations allow you to process and score production traces in near real-time.Additionally, threads provide a seamless way to group traces from a single conversation, making it easier to track the performance of your application across multiple turns.Monitoring and A/B Testing\\u200bLangSmith provides monitoring charts that allow you to track key metrics over time. You can expand to view metrics for a given period and drill down into a specific data point to get a trace table for that time period — this is especially handy for debugging production issues.LangSmith also allows for tag and metadata grouping, which allows users to mark different versions of their applications with different identifiers and view how they are performing side-by-side within each chart. This is helpful for A/B testing changes in prompt, model, or retrieval strategy.Automations\\u200bAutomations are a powerful feature in LangSmith that allow you to perform actions on traces in near real-time. This can be used to automatically score traces, send them to annotation queues, or send them to datasets.To define an automation, simply provide a filter condition, a sampling rate, and an action to perform. Automations are particularly helpful for processing traces at production scale.Threads\\u200bMany LLM applications are multi-turn, meaning that they involve a series of interactions between the user and the application. LangSmith provides a threads view that groups traces from a single conversation together, making it easier to track the performance of and annotate your application across multiple turns.Was this page helpful?PreviousQuick StartNextOverviewPrototypingBeta TestingProductionCommunityDiscordTwitterGitHubDocs CodeLangSmith SDKPythonJS/TSMoreHomepageBlogLangChain Python DocsLangChain JS/TS DocsCopyright © 2024 LangChain, Inc.\\n\\n\\n\\n\", metadata={'source': 'https://docs.smith.langchain.com/user_guide', 'title': 'LangSmith User Guide | 🦜️🛠️ LangSmith', 'description': 'LangSmith is a platform for LLM application development, monitoring, and testing. In this guide, we’ll highlight the breadth of workflows LangSmith supports and how they fit into each stage of the application development lifecycle. We hope this will inform users how to best utilize this powerful platform or give them something to consider if they’re just starting their journey.', 'language': 'en'})]"
      ]
     },
     "execution_count": 3,
     "metadata": {},
     "output_type": "execute_result"
    }
   ],
   "source": [
    "loader = WebBaseLoader(\"https://docs.smith.langchain.com/user_guide\")\n",
    "data = loader.load()\n",
    "data"
   ]
  },
  {
   "cell_type": "code",
   "execution_count": 5,
   "metadata": {},
   "outputs": [
    {
     "name": "stdout",
     "output_type": "stream",
     "text": [
      "Collecting langchain_objectbox\n",
      "  Obtaining dependency information for langchain_objectbox from https://files.pythonhosted.org/packages/66/42/f121f75f28556021fa0e654da3052ce16c7b5cce166f9e6d73096a08653f/langchain_objectbox-0.1.0a3-py3-none-any.whl.metadata\n",
      "  Downloading langchain_objectbox-0.1.0a3-py3-none-any.whl.metadata (4.5 kB)\n",
      "Requirement already satisfied: langchain-core<0.2.0,>=0.1.45 in c:\\users\\dell\\anaconda3\\envs\\python13\\lib\\site-packages (from langchain_objectbox) (0.1.52)\n",
      "Collecting objectbox==0.7.0a10 (from langchain_objectbox)\n",
      "  Obtaining dependency information for objectbox==0.7.0a10 from https://files.pythonhosted.org/packages/07/29/7c16b2b7795bc15436130f2afaa84855bdd1d0c3c2830e81627458c76b6f/objectbox-0.7.0a10-py3-none-any.whl.metadata\n",
      "  Downloading objectbox-0.7.0a10-py3-none-any.whl.metadata (7.4 kB)\n",
      "Collecting flatbuffers==23.5.26 (from objectbox==0.7.0a10->langchain_objectbox)\n",
      "  Obtaining dependency information for flatbuffers==23.5.26 from https://files.pythonhosted.org/packages/6f/12/d5c79ee252793ffe845d58a913197bfa02ae9a0b5c9bc3dc4b58d477b9e7/flatbuffers-23.5.26-py2.py3-none-any.whl.metadata\n",
      "  Downloading flatbuffers-23.5.26-py2.py3-none-any.whl.metadata (850 bytes)\n",
      "Requirement already satisfied: numpy in c:\\users\\dell\\anaconda3\\envs\\python13\\lib\\site-packages (from objectbox==0.7.0a10->langchain_objectbox) (1.26.4)\n",
      "Requirement already satisfied: PyYAML>=5.3 in c:\\users\\dell\\anaconda3\\envs\\python13\\lib\\site-packages (from langchain-core<0.2.0,>=0.1.45->langchain_objectbox) (6.0.1)\n",
      "Requirement already satisfied: jsonpatch<2.0,>=1.33 in c:\\users\\dell\\anaconda3\\envs\\python13\\lib\\site-packages (from langchain-core<0.2.0,>=0.1.45->langchain_objectbox) (1.33)\n",
      "Requirement already satisfied: langsmith<0.2.0,>=0.1.0 in c:\\users\\dell\\anaconda3\\envs\\python13\\lib\\site-packages (from langchain-core<0.2.0,>=0.1.45->langchain_objectbox) (0.1.31)\n",
      "Requirement already satisfied: packaging<24.0,>=23.2 in c:\\users\\dell\\appdata\\roaming\\python\\python312\\site-packages (from langchain-core<0.2.0,>=0.1.45->langchain_objectbox) (23.2)\n",
      "Requirement already satisfied: pydantic<3,>=1 in c:\\users\\dell\\anaconda3\\envs\\python13\\lib\\site-packages (from langchain-core<0.2.0,>=0.1.45->langchain_objectbox) (1.10.15)\n",
      "Requirement already satisfied: tenacity<9.0.0,>=8.1.0 in c:\\users\\dell\\anaconda3\\envs\\python13\\lib\\site-packages (from langchain-core<0.2.0,>=0.1.45->langchain_objectbox) (8.2.3)\n",
      "Requirement already satisfied: jsonpointer>=1.9 in c:\\users\\dell\\anaconda3\\envs\\python13\\lib\\site-packages (from jsonpatch<2.0,>=1.33->langchain-core<0.2.0,>=0.1.45->langchain_objectbox) (2.4)\n",
      "Requirement already satisfied: orjson<4.0.0,>=3.9.14 in c:\\users\\dell\\anaconda3\\envs\\python13\\lib\\site-packages (from langsmith<0.2.0,>=0.1.0->langchain-core<0.2.0,>=0.1.45->langchain_objectbox) (3.9.15)\n",
      "Requirement already satisfied: requests<3,>=2 in c:\\users\\dell\\anaconda3\\envs\\python13\\lib\\site-packages (from langsmith<0.2.0,>=0.1.0->langchain-core<0.2.0,>=0.1.45->langchain_objectbox) (2.31.0)\n",
      "Requirement already satisfied: typing-extensions>=4.2.0 in c:\\users\\dell\\anaconda3\\envs\\python13\\lib\\site-packages (from pydantic<3,>=1->langchain-core<0.2.0,>=0.1.45->langchain_objectbox) (4.8.0)\n",
      "Requirement already satisfied: charset-normalizer<4,>=2 in c:\\users\\dell\\anaconda3\\envs\\python13\\lib\\site-packages (from requests<3,>=2->langsmith<0.2.0,>=0.1.0->langchain-core<0.2.0,>=0.1.45->langchain_objectbox) (3.3.2)\n",
      "Requirement already satisfied: idna<4,>=2.5 in c:\\users\\dell\\anaconda3\\envs\\python13\\lib\\site-packages (from requests<3,>=2->langsmith<0.2.0,>=0.1.0->langchain-core<0.2.0,>=0.1.45->langchain_objectbox) (3.6)\n",
      "Requirement already satisfied: urllib3<3,>=1.21.1 in c:\\users\\dell\\anaconda3\\envs\\python13\\lib\\site-packages (from requests<3,>=2->langsmith<0.2.0,>=0.1.0->langchain-core<0.2.0,>=0.1.45->langchain_objectbox) (2.1.0)\n",
      "Requirement already satisfied: certifi>=2017.4.17 in c:\\users\\dell\\anaconda3\\envs\\python13\\lib\\site-packages (from requests<3,>=2->langsmith<0.2.0,>=0.1.0->langchain-core<0.2.0,>=0.1.45->langchain_objectbox) (2023.11.17)\n",
      "Downloading langchain_objectbox-0.1.0a3-py3-none-any.whl (6.6 kB)\n",
      "Downloading objectbox-0.7.0a10-py3-none-any.whl (4.0 MB)\n",
      "   ---------------------------------------- 0.0/4.0 MB ? eta -:--:--\n",
      "   ---------------------------------------- 0.0/4.0 MB ? eta -:--:--\n",
      "   ---------------------------------------- 0.0/4.0 MB ? eta -:--:--\n",
      "   ---------------------------------------- 0.0/4.0 MB 435.7 kB/s eta 0:00:10\n",
      "   ---------------------------------------- 0.0/4.0 MB 435.7 kB/s eta 0:00:10\n",
      "    --------------------------------------- 0.1/4.0 MB 297.7 kB/s eta 0:00:14\n",
      "    --------------------------------------- 0.1/4.0 MB 374.1 kB/s eta 0:00:11\n",
      "   - -------------------------------------- 0.1/4.0 MB 423.5 kB/s eta 0:00:10\n",
      "   - -------------------------------------- 0.1/4.0 MB 425.3 kB/s eta 0:00:10\n",
      "   - -------------------------------------- 0.2/4.0 MB 455.1 kB/s eta 0:00:09\n",
      "   - -------------------------------------- 0.2/4.0 MB 455.1 kB/s eta 0:00:09\n",
      "   - -------------------------------------- 0.2/4.0 MB 406.9 kB/s eta 0:00:10\n",
      "   - -------------------------------------- 0.2/4.0 MB 406.9 kB/s eta 0:00:10\n",
      "   - -------------------------------------- 0.2/4.0 MB 406.9 kB/s eta 0:00:10\n",
      "   - -------------------------------------- 0.2/4.0 MB 406.9 kB/s eta 0:00:10\n",
      "   - -------------------------------------- 0.2/4.0 MB 406.9 kB/s eta 0:00:10\n",
      "   - -------------------------------------- 0.2/4.0 MB 406.9 kB/s eta 0:00:10\n",
      "   - -------------------------------------- 0.2/4.0 MB 406.9 kB/s eta 0:00:10\n",
      "   - -------------------------------------- 0.2/4.0 MB 406.9 kB/s eta 0:00:10\n",
      "   - -------------------------------------- 0.2/4.0 MB 406.9 kB/s eta 0:00:10\n",
      "   - -------------------------------------- 0.2/4.0 MB 406.9 kB/s eta 0:00:10\n",
      "   - -------------------------------------- 0.2/4.0 MB 406.9 kB/s eta 0:00:10\n",
      "   - -------------------------------------- 0.2/4.0 MB 406.9 kB/s eta 0:00:10\n",
      "   - -------------------------------------- 0.2/4.0 MB 406.9 kB/s eta 0:00:10\n",
      "   - -------------------------------------- 0.2/4.0 MB 406.9 kB/s eta 0:00:10\n",
      "   - -------------------------------------- 0.2/4.0 MB 406.9 kB/s eta 0:00:10\n",
      "   - -------------------------------------- 0.2/4.0 MB 406.9 kB/s eta 0:00:10\n",
      "   - -------------------------------------- 0.2/4.0 MB 406.9 kB/s eta 0:00:10\n",
      "   -- ------------------------------------- 0.2/4.0 MB 181.6 kB/s eta 0:00:21\n",
      "   -- ------------------------------------- 0.2/4.0 MB 181.6 kB/s eta 0:00:21\n",
      "   -- ------------------------------------- 0.2/4.0 MB 181.6 kB/s eta 0:00:21\n",
      "   -- ------------------------------------- 0.2/4.0 MB 181.6 kB/s eta 0:00:21\n",
      "   -- ------------------------------------- 0.2/4.0 MB 181.6 kB/s eta 0:00:21\n",
      "   -- ------------------------------------- 0.2/4.0 MB 181.6 kB/s eta 0:00:21\n",
      "   -- ------------------------------------- 0.2/4.0 MB 181.6 kB/s eta 0:00:21\n",
      "   -- ------------------------------------- 0.2/4.0 MB 181.6 kB/s eta 0:00:21\n",
      "   -- ------------------------------------- 0.2/4.0 MB 181.6 kB/s eta 0:00:21\n",
      "   -- ------------------------------------- 0.2/4.0 MB 181.6 kB/s eta 0:00:21\n",
      "   -- ------------------------------------- 0.2/4.0 MB 181.6 kB/s eta 0:00:21\n",
      "   -- ------------------------------------- 0.2/4.0 MB 181.6 kB/s eta 0:00:21\n",
      "   -- ------------------------------------- 0.2/4.0 MB 181.6 kB/s eta 0:00:21\n",
      "   --- ------------------------------------ 0.4/4.0 MB 179.2 kB/s eta 0:00:21\n",
      "   --- ------------------------------------ 0.4/4.0 MB 179.2 kB/s eta 0:00:21\n",
      "   --- ------------------------------------ 0.4/4.0 MB 179.2 kB/s eta 0:00:21\n",
      "   --- ------------------------------------ 0.4/4.0 MB 179.2 kB/s eta 0:00:21\n",
      "   --- ------------------------------------ 0.4/4.0 MB 179.2 kB/s eta 0:00:21\n",
      "   --- ------------------------------------ 0.4/4.0 MB 169.5 kB/s eta 0:00:22\n",
      "   ---- ----------------------------------- 0.4/4.0 MB 175.0 kB/s eta 0:00:21\n",
      "   ---- ----------------------------------- 0.4/4.0 MB 175.9 kB/s eta 0:00:21\n",
      "   ---- ----------------------------------- 0.4/4.0 MB 175.9 kB/s eta 0:00:21\n",
      "   ---- ----------------------------------- 0.5/4.0 MB 181.8 kB/s eta 0:00:20\n",
      "   ---- ----------------------------------- 0.5/4.0 MB 189.0 kB/s eta 0:00:19\n",
      "   ---- ----------------------------------- 0.5/4.0 MB 191.3 kB/s eta 0:00:19\n",
      "   ----- ---------------------------------- 0.5/4.0 MB 198.6 kB/s eta 0:00:18\n",
      "   ----- ---------------------------------- 0.5/4.0 MB 200.1 kB/s eta 0:00:18\n",
      "   ----- ---------------------------------- 0.6/4.0 MB 215.8 kB/s eta 0:00:16\n",
      "   ------ --------------------------------- 0.6/4.0 MB 221.0 kB/s eta 0:00:16\n",
      "   ------ --------------------------------- 0.6/4.0 MB 221.0 kB/s eta 0:00:16\n",
      "   ------ --------------------------------- 0.6/4.0 MB 221.0 kB/s eta 0:00:16\n",
      "   ------ --------------------------------- 0.6/4.0 MB 218.4 kB/s eta 0:00:16\n",
      "   ------ --------------------------------- 0.7/4.0 MB 224.3 kB/s eta 0:00:15\n",
      "   ------ --------------------------------- 0.7/4.0 MB 229.8 kB/s eta 0:00:15\n",
      "   ------- -------------------------------- 0.7/4.0 MB 239.8 kB/s eta 0:00:14\n",
      "   ------- -------------------------------- 0.7/4.0 MB 240.7 kB/s eta 0:00:14\n",
      "   ------- -------------------------------- 0.8/4.0 MB 241.2 kB/s eta 0:00:14\n",
      "   -------- ------------------------------- 0.8/4.0 MB 246.2 kB/s eta 0:00:13\n",
      "   -------- ------------------------------- 0.8/4.0 MB 250.1 kB/s eta 0:00:13\n",
      "   -------- ------------------------------- 0.8/4.0 MB 248.5 kB/s eta 0:00:13\n",
      "   -------- ------------------------------- 0.8/4.0 MB 248.5 kB/s eta 0:00:13\n",
      "   -------- ------------------------------- 0.8/4.0 MB 248.5 kB/s eta 0:00:13\n",
      "   -------- ------------------------------- 0.9/4.0 MB 248.4 kB/s eta 0:00:13\n",
      "   -------- ------------------------------- 0.9/4.0 MB 252.1 kB/s eta 0:00:13\n",
      "   -------- ------------------------------- 0.9/4.0 MB 252.1 kB/s eta 0:00:13\n",
      "   -------- ------------------------------- 0.9/4.0 MB 252.1 kB/s eta 0:00:13\n",
      "   -------- ------------------------------- 0.9/4.0 MB 252.1 kB/s eta 0:00:13\n",
      "   -------- ------------------------------- 0.9/4.0 MB 252.1 kB/s eta 0:00:13\n",
      "   --------- ------------------------------ 0.9/4.0 MB 239.5 kB/s eta 0:00:13\n",
      "   --------- ------------------------------ 0.9/4.0 MB 239.5 kB/s eta 0:00:13\n",
      "   --------- ------------------------------ 0.9/4.0 MB 239.5 kB/s eta 0:00:13\n",
      "   --------- ------------------------------ 0.9/4.0 MB 239.5 kB/s eta 0:00:13\n",
      "   --------- ------------------------------ 0.9/4.0 MB 231.6 kB/s eta 0:00:14\n",
      "   --------- ------------------------------ 0.9/4.0 MB 233.1 kB/s eta 0:00:14\n",
      "   --------- ------------------------------ 0.9/4.0 MB 233.0 kB/s eta 0:00:14\n",
      "   --------- ------------------------------ 0.9/4.0 MB 233.0 kB/s eta 0:00:14\n",
      "   --------- ------------------------------ 0.9/4.0 MB 233.0 kB/s eta 0:00:14\n",
      "   --------- ------------------------------ 0.9/4.0 MB 233.0 kB/s eta 0:00:14\n",
      "   --------- ------------------------------ 0.9/4.0 MB 233.0 kB/s eta 0:00:14\n",
      "   --------- ------------------------------ 0.9/4.0 MB 233.0 kB/s eta 0:00:14\n",
      "   --------- ------------------------------ 0.9/4.0 MB 233.0 kB/s eta 0:00:14\n",
      "   --------- ------------------------------ 1.0/4.0 MB 220.8 kB/s eta 0:00:14\n",
      "   --------- ------------------------------ 1.0/4.0 MB 223.1 kB/s eta 0:00:14\n",
      "   ---------- ----------------------------- 1.0/4.0 MB 227.7 kB/s eta 0:00:14\n",
      "   ---------- ----------------------------- 1.1/4.0 MB 231.3 kB/s eta 0:00:13\n",
      "   ---------- ----------------------------- 1.1/4.0 MB 238.7 kB/s eta 0:00:13\n",
      "   ----------- ---------------------------- 1.1/4.0 MB 242.1 kB/s eta 0:00:12\n",
      "   ----------- ---------------------------- 1.2/4.0 MB 246.3 kB/s eta 0:00:12\n",
      "   ----------- ---------------------------- 1.2/4.0 MB 246.3 kB/s eta 0:00:12\n",
      "   ----------- ---------------------------- 1.2/4.0 MB 246.3 kB/s eta 0:00:12\n",
      "   ----------- ---------------------------- 1.2/4.0 MB 246.3 kB/s eta 0:00:12\n",
      "   ----------- ---------------------------- 1.2/4.0 MB 246.3 kB/s eta 0:00:12\n",
      "   ----------- ---------------------------- 1.2/4.0 MB 240.8 kB/s eta 0:00:12\n",
      "   ------------ --------------------------- 1.2/4.0 MB 246.8 kB/s eta 0:00:12\n",
      "   ------------ --------------------------- 1.2/4.0 MB 246.5 kB/s eta 0:00:12\n",
      "   ------------ --------------------------- 1.3/4.0 MB 249.9 kB/s eta 0:00:11\n",
      "   ------------ --------------------------- 1.3/4.0 MB 250.3 kB/s eta 0:00:11\n",
      "   ------------- -------------------------- 1.3/4.0 MB 254.5 kB/s eta 0:00:11\n",
      "   ------------- -------------------------- 1.3/4.0 MB 255.0 kB/s eta 0:00:11\n",
      "   ------------- -------------------------- 1.3/4.0 MB 257.4 kB/s eta 0:00:11\n",
      "   ------------- -------------------------- 1.4/4.0 MB 255.5 kB/s eta 0:00:11\n",
      "   ------------- -------------------------- 1.4/4.0 MB 258.6 kB/s eta 0:00:11\n",
      "   -------------- ------------------------- 1.4/4.0 MB 260.6 kB/s eta 0:00:10\n",
      "   -------------- ------------------------- 1.4/4.0 MB 260.6 kB/s eta 0:00:10\n",
      "   -------------- ------------------------- 1.4/4.0 MB 260.6 kB/s eta 0:00:10\n",
      "   -------------- ------------------------- 1.4/4.0 MB 260.6 kB/s eta 0:00:10\n",
      "   -------------- ------------------------- 1.4/4.0 MB 256.6 kB/s eta 0:00:10\n",
      "   -------------- ------------------------- 1.5/4.0 MB 263.2 kB/s eta 0:00:10\n",
      "   --------------- ------------------------ 1.5/4.0 MB 266.1 kB/s eta 0:00:10\n",
      "   --------------- ------------------------ 1.6/4.0 MB 271.8 kB/s eta 0:00:09\n",
      "   --------------- ------------------------ 1.6/4.0 MB 272.2 kB/s eta 0:00:09\n",
      "   ---------------- ----------------------- 1.6/4.0 MB 274.5 kB/s eta 0:00:09\n",
      "   ---------------- ----------------------- 1.6/4.0 MB 274.5 kB/s eta 0:00:09\n",
      "   ---------------- ----------------------- 1.6/4.0 MB 274.5 kB/s eta 0:00:09\n",
      "   ---------------- ----------------------- 1.6/4.0 MB 274.5 kB/s eta 0:00:09\n",
      "   ---------------- ----------------------- 1.6/4.0 MB 270.7 kB/s eta 0:00:09\n",
      "   ---------------- ----------------------- 1.6/4.0 MB 270.7 kB/s eta 0:00:09\n",
      "   ---------------- ----------------------- 1.7/4.0 MB 273.6 kB/s eta 0:00:09\n",
      "   ----------------- ---------------------- 1.7/4.0 MB 279.9 kB/s eta 0:00:09\n",
      "   ----------------- ---------------------- 1.7/4.0 MB 280.1 kB/s eta 0:00:09\n",
      "   ----------------- ---------------------- 1.7/4.0 MB 280.1 kB/s eta 0:00:09\n",
      "   ----------------- ---------------------- 1.8/4.0 MB 280.8 kB/s eta 0:00:08\n",
      "   ------------------ --------------------- 1.8/4.0 MB 284.6 kB/s eta 0:00:08\n",
      "   ------------------ --------------------- 1.8/4.0 MB 288.7 kB/s eta 0:00:08\n",
      "   ------------------ --------------------- 1.8/4.0 MB 288.7 kB/s eta 0:00:08\n",
      "   ------------------ --------------------- 1.8/4.0 MB 288.7 kB/s eta 0:00:08\n",
      "   ------------------ --------------------- 1.8/4.0 MB 282.6 kB/s eta 0:00:08\n",
      "   ------------------ --------------------- 1.9/4.0 MB 286.9 kB/s eta 0:00:08\n",
      "   ------------------- -------------------- 1.9/4.0 MB 288.8 kB/s eta 0:00:08\n",
      "   ------------------- -------------------- 1.9/4.0 MB 289.7 kB/s eta 0:00:08\n",
      "   ------------------- -------------------- 1.9/4.0 MB 290.7 kB/s eta 0:00:08\n",
      "   ------------------- -------------------- 1.9/4.0 MB 290.7 kB/s eta 0:00:08\n",
      "   ------------------- -------------------- 2.0/4.0 MB 289.1 kB/s eta 0:00:07\n",
      "   -------------------- ------------------- 2.0/4.0 MB 292.4 kB/s eta 0:00:07\n",
      "   -------------------- ------------------- 2.0/4.0 MB 294.8 kB/s eta 0:00:07\n",
      "   -------------------- ------------------- 2.1/4.0 MB 298.8 kB/s eta 0:00:07\n",
      "   -------------------- ------------------- 2.1/4.0 MB 299.6 kB/s eta 0:00:07\n",
      "   --------------------- ------------------ 2.1/4.0 MB 299.2 kB/s eta 0:00:07\n",
      "   --------------------- ------------------ 2.1/4.0 MB 300.8 kB/s eta 0:00:07\n",
      "   --------------------- ------------------ 2.1/4.0 MB 300.8 kB/s eta 0:00:07\n",
      "   --------------------- ------------------ 2.1/4.0 MB 300.8 kB/s eta 0:00:07\n",
      "   --------------------- ------------------ 2.1/4.0 MB 300.8 kB/s eta 0:00:07\n",
      "   --------------------- ------------------ 2.1/4.0 MB 300.8 kB/s eta 0:00:07\n",
      "   --------------------- ------------------ 2.2/4.0 MB 294.1 kB/s eta 0:00:07\n",
      "   --------------------- ------------------ 2.2/4.0 MB 293.6 kB/s eta 0:00:07\n",
      "   --------------------- ------------------ 2.2/4.0 MB 294.5 kB/s eta 0:00:07\n",
      "   ---------------------- ----------------- 2.2/4.0 MB 296.0 kB/s eta 0:00:07\n",
      "   ---------------------- ----------------- 2.2/4.0 MB 298.2 kB/s eta 0:00:06\n",
      "   ---------------------- ----------------- 2.2/4.0 MB 298.2 kB/s eta 0:00:06\n",
      "   ---------------------- ----------------- 2.3/4.0 MB 295.3 kB/s eta 0:00:06\n",
      "   ----------------------- ---------------- 2.3/4.0 MB 299.5 kB/s eta 0:00:06\n",
      "   ----------------------- ---------------- 2.3/4.0 MB 299.5 kB/s eta 0:00:06\n",
      "   ----------------------- ---------------- 2.3/4.0 MB 299.5 kB/s eta 0:00:06\n",
      "   ----------------------- ---------------- 2.3/4.0 MB 299.5 kB/s eta 0:00:06\n",
      "   ----------------------- ---------------- 2.3/4.0 MB 296.2 kB/s eta 0:00:06\n",
      "   ----------------------- ---------------- 2.3/4.0 MB 296.3 kB/s eta 0:00:06\n",
      "   ----------------------- ---------------- 2.4/4.0 MB 299.8 kB/s eta 0:00:06\n",
      "   ----------------------- ---------------- 2.4/4.0 MB 299.3 kB/s eta 0:00:06\n",
      "   ----------------------- ---------------- 2.4/4.0 MB 299.3 kB/s eta 0:00:06\n",
      "   ------------------------ --------------- 2.4/4.0 MB 298.3 kB/s eta 0:00:06\n",
      "   ------------------------ --------------- 2.4/4.0 MB 297.9 kB/s eta 0:00:06\n",
      "   ------------------------ --------------- 2.4/4.0 MB 298.1 kB/s eta 0:00:06\n",
      "   ------------------------ --------------- 2.4/4.0 MB 298.1 kB/s eta 0:00:06\n",
      "   ------------------------ --------------- 2.4/4.0 MB 298.1 kB/s eta 0:00:06\n",
      "   ------------------------ --------------- 2.4/4.0 MB 298.1 kB/s eta 0:00:06\n",
      "   ------------------------ --------------- 2.4/4.0 MB 298.1 kB/s eta 0:00:06\n",
      "   ------------------------ --------------- 2.4/4.0 MB 298.1 kB/s eta 0:00:06\n",
      "   ------------------------ --------------- 2.4/4.0 MB 298.1 kB/s eta 0:00:06\n",
      "   ------------------------ --------------- 2.4/4.0 MB 298.1 kB/s eta 0:00:06\n",
      "   ------------------------ --------------- 2.4/4.0 MB 298.1 kB/s eta 0:00:06\n",
      "   ------------------------ --------------- 2.4/4.0 MB 298.1 kB/s eta 0:00:06\n",
      "   ------------------------ --------------- 2.4/4.0 MB 298.1 kB/s eta 0:00:06\n",
      "   ------------------------ --------------- 2.4/4.0 MB 298.1 kB/s eta 0:00:06\n",
      "   ------------------------ --------------- 2.5/4.0 MB 281.2 kB/s eta 0:00:06\n",
      "   ------------------------ --------------- 2.5/4.0 MB 281.2 kB/s eta 0:00:06\n",
      "   ------------------------ --------------- 2.5/4.0 MB 278.9 kB/s eta 0:00:06\n",
      "   ------------------------ --------------- 2.5/4.0 MB 278.9 kB/s eta 0:00:06\n",
      "   ------------------------ --------------- 2.5/4.0 MB 279.7 kB/s eta 0:00:06\n",
      "   ------------------------- -------------- 2.5/4.0 MB 278.4 kB/s eta 0:00:06\n",
      "   ------------------------- -------------- 2.5/4.0 MB 278.3 kB/s eta 0:00:06\n",
      "   ------------------------- -------------- 2.5/4.0 MB 278.3 kB/s eta 0:00:06\n",
      "   ------------------------- -------------- 2.5/4.0 MB 278.6 kB/s eta 0:00:06\n",
      "   ------------------------- -------------- 2.6/4.0 MB 280.5 kB/s eta 0:00:06\n",
      "   ------------------------- -------------- 2.6/4.0 MB 280.5 kB/s eta 0:00:06\n",
      "   ------------------------- -------------- 2.6/4.0 MB 278.8 kB/s eta 0:00:06\n",
      "   -------------------------- ------------- 2.6/4.0 MB 281.3 kB/s eta 0:00:05\n",
      "   -------------------------- ------------- 2.6/4.0 MB 281.3 kB/s eta 0:00:05\n",
      "   -------------------------- ------------- 2.7/4.0 MB 282.9 kB/s eta 0:00:05\n",
      "   -------------------------- ------------- 2.7/4.0 MB 284.1 kB/s eta 0:00:05\n",
      "   --------------------------- ------------ 2.7/4.0 MB 287.7 kB/s eta 0:00:05\n",
      "   --------------------------- ------------ 2.7/4.0 MB 287.7 kB/s eta 0:00:05\n",
      "   --------------------------- ------------ 2.8/4.0 MB 288.0 kB/s eta 0:00:05\n",
      "   ---------------------------- ----------- 2.8/4.0 MB 289.8 kB/s eta 0:00:05\n",
      "   ---------------------------- ----------- 2.8/4.0 MB 291.5 kB/s eta 0:00:05\n",
      "   ---------------------------- ----------- 2.8/4.0 MB 292.8 kB/s eta 0:00:04\n",
      "   ---------------------------- ----------- 2.8/4.0 MB 292.8 kB/s eta 0:00:04\n",
      "   ---------------------------- ----------- 2.8/4.0 MB 292.8 kB/s eta 0:00:04\n",
      "   ---------------------------- ----------- 2.8/4.0 MB 292.8 kB/s eta 0:00:04\n",
      "   ---------------------------- ----------- 2.8/4.0 MB 292.8 kB/s eta 0:00:04\n",
      "   ---------------------------- ----------- 2.9/4.0 MB 287.9 kB/s eta 0:00:04\n",
      "   ---------------------------- ----------- 2.9/4.0 MB 287.1 kB/s eta 0:00:04\n",
      "   ----------------------------- ---------- 2.9/4.0 MB 287.8 kB/s eta 0:00:04\n",
      "   ----------------------------- ---------- 2.9/4.0 MB 288.4 kB/s eta 0:00:04\n",
      "   ----------------------------- ---------- 2.9/4.0 MB 289.1 kB/s eta 0:00:04\n",
      "   ----------------------------- ---------- 3.0/4.0 MB 290.4 kB/s eta 0:00:04\n",
      "   ----------------------------- ---------- 3.0/4.0 MB 290.4 kB/s eta 0:00:04\n",
      "   ----------------------------- ---------- 3.0/4.0 MB 289.7 kB/s eta 0:00:04\n",
      "   ----------------------------- ---------- 3.0/4.0 MB 289.7 kB/s eta 0:00:04\n",
      "   ----------------------------- ---------- 3.0/4.0 MB 288.5 kB/s eta 0:00:04\n",
      "   ------------------------------ --------- 3.0/4.0 MB 290.7 kB/s eta 0:00:04\n",
      "   ------------------------------ --------- 3.0/4.0 MB 290.8 kB/s eta 0:00:04\n",
      "   ------------------------------ --------- 3.1/4.0 MB 292.0 kB/s eta 0:00:04\n",
      "   ------------------------------- -------- 3.1/4.0 MB 293.1 kB/s eta 0:00:04\n",
      "   ------------------------------- -------- 3.1/4.0 MB 293.7 kB/s eta 0:00:03\n",
      "   ------------------------------- -------- 3.1/4.0 MB 295.3 kB/s eta 0:00:03\n",
      "   ------------------------------- -------- 3.2/4.0 MB 294.6 kB/s eta 0:00:03\n",
      "   -------------------------------- ------- 3.2/4.0 MB 298.1 kB/s eta 0:00:03\n",
      "   -------------------------------- ------- 3.2/4.0 MB 299.5 kB/s eta 0:00:03\n",
      "   -------------------------------- ------- 3.2/4.0 MB 299.5 kB/s eta 0:00:03\n",
      "   -------------------------------- ------- 3.2/4.0 MB 299.5 kB/s eta 0:00:03\n",
      "   -------------------------------- ------- 3.2/4.0 MB 296.2 kB/s eta 0:00:03\n",
      "   -------------------------------- ------- 3.3/4.0 MB 299.2 kB/s eta 0:00:03\n",
      "   --------------------------------- ------ 3.3/4.0 MB 302.5 kB/s eta 0:00:03\n",
      "   --------------------------------- ------ 3.4/4.0 MB 304.0 kB/s eta 0:00:03\n",
      "   ---------------------------------- ----- 3.4/4.0 MB 305.1 kB/s eta 0:00:02\n",
      "   ---------------------------------- ----- 3.4/4.0 MB 307.5 kB/s eta 0:00:02\n",
      "   ---------------------------------- ----- 3.5/4.0 MB 308.9 kB/s eta 0:00:02\n",
      "   ----------------------------------- ---- 3.5/4.0 MB 310.4 kB/s eta 0:00:02\n",
      "   ----------------------------------- ---- 3.5/4.0 MB 312.2 kB/s eta 0:00:02\n",
      "   ----------------------------------- ---- 3.6/4.0 MB 312.3 kB/s eta 0:00:02\n",
      "   ----------------------------------- ---- 3.6/4.0 MB 313.3 kB/s eta 0:00:02\n",
      "   ----------------------------------- ---- 3.6/4.0 MB 313.3 kB/s eta 0:00:02\n",
      "   ------------------------------------ --- 3.6/4.0 MB 313.4 kB/s eta 0:00:02\n",
      "   ------------------------------------ --- 3.6/4.0 MB 315.2 kB/s eta 0:00:02\n",
      "   ------------------------------------ --- 3.7/4.0 MB 317.1 kB/s eta 0:00:01\n",
      "   ------------------------------------- -- 3.7/4.0 MB 317.1 kB/s eta 0:00:01\n",
      "   ------------------------------------- -- 3.7/4.0 MB 318.0 kB/s eta 0:00:01\n",
      "   ------------------------------------- -- 3.7/4.0 MB 317.2 kB/s eta 0:00:01\n",
      "   ------------------------------------- -- 3.7/4.0 MB 317.7 kB/s eta 0:00:01\n",
      "   ------------------------------------- -- 3.8/4.0 MB 319.0 kB/s eta 0:00:01\n",
      "   ------------------------------------- -- 3.8/4.0 MB 319.0 kB/s eta 0:00:01\n",
      "   ------------------------------------- -- 3.8/4.0 MB 316.9 kB/s eta 0:00:01\n",
      "   -------------------------------------- - 3.8/4.0 MB 317.8 kB/s eta 0:00:01\n",
      "   -------------------------------------- - 3.8/4.0 MB 319.1 kB/s eta 0:00:01\n",
      "   -------------------------------------- - 3.9/4.0 MB 320.0 kB/s eta 0:00:01\n",
      "   -------------------------------------- - 3.9/4.0 MB 320.5 kB/s eta 0:00:01\n",
      "   ---------------------------------------  3.9/4.0 MB 320.5 kB/s eta 0:00:01\n",
      "   ---------------------------------------  3.9/4.0 MB 320.5 kB/s eta 0:00:01\n",
      "   ---------------------------------------  3.9/4.0 MB 321.4 kB/s eta 0:00:01\n",
      "   ---------------------------------------  3.9/4.0 MB 321.0 kB/s eta 0:00:01\n",
      "   ---------------------------------------  3.9/4.0 MB 321.0 kB/s eta 0:00:01\n",
      "   ---------------------------------------  4.0/4.0 MB 320.2 kB/s eta 0:00:01\n",
      "   ---------------------------------------  4.0/4.0 MB 320.2 kB/s eta 0:00:01\n",
      "   ---------------------------------------  4.0/4.0 MB 317.8 kB/s eta 0:00:01\n",
      "   ---------------------------------------  4.0/4.0 MB 317.8 kB/s eta 0:00:01\n",
      "   ---------------------------------------  4.0/4.0 MB 316.7 kB/s eta 0:00:01\n",
      "   ---------------------------------------- 4.0/4.0 MB 315.5 kB/s eta 0:00:00\n",
      "Downloading flatbuffers-23.5.26-py2.py3-none-any.whl (26 kB)\n",
      "Installing collected packages: flatbuffers, objectbox, langchain_objectbox\n",
      "  Attempting uninstall: flatbuffers\n",
      "    Found existing installation: flatbuffers 24.3.25\n",
      "    Uninstalling flatbuffers-24.3.25:\n",
      "      Successfully uninstalled flatbuffers-24.3.25\n",
      "Successfully installed flatbuffers-23.5.26 langchain_objectbox-0.1.0a3 objectbox-0.7.0a10\n",
      "Note: you may need to restart the kernel to use updated packages.\n"
     ]
    }
   ],
   "source": [
    "%pip install langchain_objectbox"
   ]
  },
  {
   "cell_type": "code",
   "execution_count": 6,
   "metadata": {},
   "outputs": [],
   "source": [
    "from langchain_objectbox.vectorstores import ObjectBox ##vector Database\n",
    "from langchain_openai import OpenAIEmbeddings"
   ]
  },
  {
   "cell_type": "code",
   "execution_count": 7,
   "metadata": {},
   "outputs": [],
   "source": [
    "from langchain_text_splitters import RecursiveCharacterTextSplitter\n",
    "\n",
    "text_splitter = RecursiveCharacterTextSplitter()\n",
    "documents = text_splitter.split_documents(data)"
   ]
  },
  {
   "cell_type": "code",
   "execution_count": 8,
   "metadata": {},
   "outputs": [
    {
     "data": {
      "text/plain": [
       "[Document(page_content='LangSmith User Guide | 🦜️🛠️ LangSmith', metadata={'source': 'https://docs.smith.langchain.com/user_guide', 'title': 'LangSmith User Guide | 🦜️🛠️ LangSmith', 'description': 'LangSmith is a platform for LLM application development, monitoring, and testing. In this guide, we’ll highlight the breadth of workflows LangSmith supports and how they fit into each stage of the application development lifecycle. We hope this will inform users how to best utilize this powerful platform or give them something to consider if they’re just starting their journey.', 'language': 'en'}),\n",
       " Document(page_content='Skip to main contentLangSmith API DocsSearchGo to AppQuick StartUser GuideTracingEvaluationProduction Monitoring & AutomationsPrompt HubProxyPricingSelf-HostingCookbookThis is outdated documentation for 🦜️🛠️ LangSmith, which is no longer actively maintained.For up-to-date documentation, see the latest version.User GuideOn this pageLangSmith User GuideLangSmith is a platform for LLM application development, monitoring, and testing. In this guide, we’ll highlight the breadth of workflows LangSmith supports and how they fit into each stage of the application development lifecycle. We hope this will inform users how to best utilize this powerful platform or give them something to consider if they’re just starting their journey.Prototyping\\u200bPrototyping LLM applications often involves quick experimentation between prompts, model types, retrieval strategy and other parameters.\\nThe ability to rapidly understand how the model is performing — and debug where it is failing — is incredibly important for this phase.Debugging\\u200bWhen developing new LLM applications, we suggest having LangSmith tracing enabled by default.\\nOftentimes, it isn’t necessary to look at every single trace. However, when things go wrong (an unexpected end result, infinite agent loop, slower than expected execution, higher than expected token usage), it’s extremely helpful to debug by looking through the application traces. LangSmith gives clear visibility and debugging information at each step of an LLM sequence, making it much easier to identify and root-cause issues.\\nWe provide native rendering of chat messages, functions, and retrieve documents.Initial Test Set\\u200bWhile many developers still ship an initial version of their application based on “vibe checks”, we’ve seen an increasing number of engineering teams start to adopt a more test driven approach. LangSmith allows developers to create datasets, which are collections of inputs and reference outputs, and use these to run tests on their LLM applications.\\nThese test cases can be uploaded in bulk, created on the fly, or exported from application traces. LangSmith also makes it easy to run custom evaluations (both LLM and heuristic based) to score test results.Comparison View\\u200bWhen prototyping different versions of your applications and making changes, it’s important to see whether or not you’ve regressed with respect to your initial test cases.\\nOftentimes, changes in the prompt, retrieval strategy, or model choice can have huge implications in responses produced by your application.\\nIn order to get a sense for which variant is performing better, it’s useful to be able to view results for different configurations on the same datapoints side-by-side. We’ve invested heavily in a user-friendly comparison view for test runs to track and diagnose regressions in test scores across multiple revisions of your application.Playground\\u200bLangSmith provides a playground environment for rapid iteration and experimentation.\\nThis allows you to quickly test out different prompts and models. You can open the playground from any prompt or model run in your trace.', metadata={'source': 'https://docs.smith.langchain.com/user_guide', 'title': 'LangSmith User Guide | 🦜️🛠️ LangSmith', 'description': 'LangSmith is a platform for LLM application development, monitoring, and testing. In this guide, we’ll highlight the breadth of workflows LangSmith supports and how they fit into each stage of the application development lifecycle. We hope this will inform users how to best utilize this powerful platform or give them something to consider if they’re just starting their journey.', 'language': 'en'}),\n",
       " Document(page_content=\"Every playground run is logged in the system and can be used to create test cases or compare with other runs.Beta Testing\\u200bBeta testing allows developers to collect more data on how their LLM applications are performing in real-world scenarios. In this phase, it’s important to develop an understanding for the types of inputs the app is performing well or poorly on and how exactly it’s breaking down in those cases. Both feedback collection and run annotation are critical for this workflow. This will help in curation of test cases that can help track regressions/improvements and development of automatic evaluations.Capturing Feedback\\u200bWhen launching your application to an initial set of users, it’s important to gather human feedback on the responses it’s producing. This helps draw attention to the most interesting runs and highlight edge cases that are causing problematic responses. LangSmith allows you to attach feedback scores to logged traces (oftentimes, this is hooked up to a feedback button in your app), then filter on traces that have a specific feedback tag and score. A common workflow is to filter on traces that receive a poor user feedback score, then drill down into problematic points using the detailed trace view.Annotating Traces\\u200bLangSmith also supports sending runs to annotation queues, which allow annotators to closely inspect interesting traces and annotate them with respect to different criteria. Annotators can be PMs, engineers, or even subject matter experts. This allows users to catch regressions across important evaluation criteria.Adding Runs to a Dataset\\u200bAs your application progresses through the beta testing phase, it's essential to continue collecting data to refine and improve its performance. LangSmith enables you to add runs as examples to datasets (from both the project page and within an annotation queue), expanding your test coverage on real-world scenarios. This is a key benefit in having your logging system and your evaluation/testing system in the same platform.Production\\u200bClosely inspecting key data points, growing benchmarking datasets, annotating traces, and drilling down into important data in trace view are workflows you’ll also want to do once your app hits production.However, especially at the production stage, it’s crucial to get a high-level overview of application performance with respect to latency, cost, and feedback scores. This ensures that it's delivering desirable results at scale.Online evaluations and automations allow you to process and score production traces in near real-time.Additionally, threads provide a seamless way to group traces from a single conversation, making it easier to track the performance of your application across multiple turns.Monitoring and A/B Testing\\u200bLangSmith provides monitoring charts that allow you to track key metrics over time. You can expand to view metrics for a given period and drill down into a specific data point to get a trace table for that time period — this is especially handy for debugging production issues.LangSmith also allows for tag and metadata grouping, which allows users to mark different versions of their applications with different identifiers and view how they are performing side-by-side within each chart. This is helpful for A/B testing changes in prompt, model, or retrieval strategy.Automations\\u200bAutomations are a powerful feature in LangSmith that allow you to perform actions on traces in near real-time. This can be used to automatically score traces, send them to annotation queues, or send them to datasets.To define an automation, simply provide a filter condition, a sampling rate, and an action to perform. Automations are particularly helpful for processing traces at production scale.Threads\\u200bMany LLM applications are multi-turn, meaning that they involve a series of interactions between the user and the application. LangSmith provides a threads view that groups traces from a single conversation together, making it easier to\", metadata={'source': 'https://docs.smith.langchain.com/user_guide', 'title': 'LangSmith User Guide | 🦜️🛠️ LangSmith', 'description': 'LangSmith is a platform for LLM application development, monitoring, and testing. In this guide, we’ll highlight the breadth of workflows LangSmith supports and how they fit into each stage of the application development lifecycle. We hope this will inform users how to best utilize this powerful platform or give them something to consider if they’re just starting their journey.', 'language': 'en'}),\n",
       " Document(page_content='meaning that they involve a series of interactions between the user and the application. LangSmith provides a threads view that groups traces from a single conversation together, making it easier to track the performance of and annotate your application across multiple turns.Was this page helpful?PreviousQuick StartNextOverviewPrototypingBeta TestingProductionCommunityDiscordTwitterGitHubDocs CodeLangSmith SDKPythonJS/TSMoreHomepageBlogLangChain Python DocsLangChain JS/TS DocsCopyright © 2024 LangChain, Inc.', metadata={'source': 'https://docs.smith.langchain.com/user_guide', 'title': 'LangSmith User Guide | 🦜️🛠️ LangSmith', 'description': 'LangSmith is a platform for LLM application development, monitoring, and testing. In this guide, we’ll highlight the breadth of workflows LangSmith supports and how they fit into each stage of the application development lifecycle. We hope this will inform users how to best utilize this powerful platform or give them something to consider if they’re just starting their journey.', 'language': 'en'})]"
      ]
     },
     "execution_count": 8,
     "metadata": {},
     "output_type": "execute_result"
    }
   ],
   "source": [
    "documents"
   ]
  },
  {
   "cell_type": "code",
   "execution_count": 9,
   "metadata": {},
   "outputs": [
    {
     "data": {
      "text/plain": [
       "<langchain_objectbox.vectorstores.ObjectBox at 0x2261950d2b0>"
      ]
     },
     "execution_count": 9,
     "metadata": {},
     "output_type": "execute_result"
    }
   ],
   "source": [
    "from langchain_openai import OpenAIEmbeddings\n",
    "vector = ObjectBox.from_documents(documents, OpenAIEmbeddings(), embedding_dimensions=768)\n",
    "vector"
   ]
  },
  {
   "cell_type": "markdown",
   "metadata": {},
   "source": [
    "# 3. Make a RAG pipeline"
   ]
  },
  {
   "cell_type": "code",
   "execution_count": 10,
   "metadata": {},
   "outputs": [],
   "source": [
    "from langchain_openai import ChatOpenAI #this is for interacting as a chat\n",
    "from langchain_core.output_parsers import StrOutputParser #responsible for displaying the output from LLM model\n",
    "from langchain_core.prompts import ChatPromptTemplate # Creating your own prompt template\n",
    "from langchain.chains import RetrievalQA\n",
    "from langchain import hub # from the hub where i can download the my rag prompt"
   ]
  },
  {
   "cell_type": "code",
   "execution_count": 13,
   "metadata": {},
   "outputs": [],
   "source": [
    "prompt_template=\"\"\"\n",
    "You are an assistant for question-answering tasks. Use the following pieces of retrieved context to answer the question. If you don't know the answer, just say that you don't know. Use three sentences maximum and keep the answer concise\n",
    "\n",
    "Context: {context}\n",
    "Question: {question}\n",
    "\n",
    "Only return the helpful answer below and nothing else.\n",
    "Helpful answer:\n",
    "\"\"\""
   ]
  },
  {
   "cell_type": "code",
   "execution_count": 25,
   "metadata": {},
   "outputs": [],
   "source": [
    "from langchain import PromptTemplate\n",
    "llm = ChatOpenAI() \n",
    "# llm = ChatOpenAI(model=\"gpt-4o\") ## Calling Gpt-4o\n",
    "PROMPT=PromptTemplate(template=prompt_template, input_variables=[\"context\", \"question\"])\n"
   ]
  },
  {
   "cell_type": "code",
   "execution_count": 26,
   "metadata": {},
   "outputs": [],
   "source": [
    "qa_chain = RetrievalQA.from_chain_type(\n",
    "        llm,\n",
    "        retriever=vector.as_retriever(),\n",
    "        chain_type_kwargs={\"prompt\": PROMPT}\n",
    "    )"
   ]
  },
  {
   "cell_type": "code",
   "execution_count": 27,
   "metadata": {},
   "outputs": [
    {
     "data": {
      "text/plain": [
       "{'query': 'Explain what is langsmith',\n",
       " 'result': 'LangSmith is a platform for LLM application development, monitoring, and testing. It supports various workflows throughout the application development lifecycle, including prototyping, debugging, initial test sets, comparison views, playground environment, beta testing, capturing feedback, annotating traces, adding runs to datasets, production monitoring, A/B testing, automations, and threads view for multi-turn applications.'}"
      ]
     },
     "execution_count": 27,
     "metadata": {},
     "output_type": "execute_result"
    }
   ],
   "source": [
    "question = \"Explain what is langsmith\"\n",
    "result = qa_chain({\"query\": question })\n",
    "result"
   ]
  }
 ],
 "metadata": {
  "kernelspec": {
   "display_name": "python13",
   "language": "python",
   "name": "python3"
  },
  "language_info": {
   "codemirror_mode": {
    "name": "ipython",
    "version": 3
   },
   "file_extension": ".py",
   "mimetype": "text/x-python",
   "name": "python",
   "nbconvert_exporter": "python",
   "pygments_lexer": "ipython3",
   "version": "3.12.0"
  }
 },
 "nbformat": 4,
 "nbformat_minor": 2
}
