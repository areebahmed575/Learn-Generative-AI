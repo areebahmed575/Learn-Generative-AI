{
 "cells": [
  {
   "cell_type": "markdown",
   "metadata": {},
   "source": [
    "## Vector Database(Coverting data into vectors then storing it into vectors database)\n",
    "\n",
    "A vector database is a database that used for storing high-dimensional vector such as word embeddings and image embeddings\n",
    "\n",
    "* Embeddings is just  a vector which have some semantic meaning\n",
    "* Vector is a set of values"
   ]
  },
  {
   "cell_type": "markdown",
   "metadata": {},
   "source": [
    "Vectorstore Memory: Langchain also supports vector-based memory architectures, which store and retrieve conversation history based on vector embeddings. This approach allows for semantic similarity searches, enabling the AI to retrieve relevant information from the conversation history based on contextual meaning rather than exact keyword matches. Vectorstores can be built on top of different storage backends, such as in-memory, file-based, or database systems."
   ]
  },
  {
   "cell_type": "markdown",
   "metadata": {},
   "source": [
    "Why do we need vector databases?\n",
    "\n",
    "Over 80-85% data is unstructured data.\n",
    "* e.g:videos,images,audio etc\n",
    "\n",
    "\n",
    "\n",
    "We can't easily stored them in Relational Databases."
   ]
  },
  {
   "cell_type": "markdown",
   "metadata": {},
   "source": [
    "Whether we have images,video or text,we just need to download pretrained embedding model.Based on that we are able to generate a embedding.\n",
    "\n",
    "3 prosibilities in Embedding:\n",
    "* Trained \n",
    "* Fine tuning\n",
    "* Training from scratch"
   ]
  },
  {
   "cell_type": "markdown",
   "metadata": {},
   "source": [
    "#### Techniques in Embedding:\n",
    "\n",
    "* Word2vec\n",
    "* Elmo\n",
    "* Hugging Face Api Embedding\n",
    "* Open Ai Api Embedding\n",
    "\n"
   ]
  },
  {
   "cell_type": "markdown",
   "metadata": {},
   "source": [
    "#### A vector database indexes and store vector embeddings for faster retrieval and simalarity search\n",
    "\n",
    "\n",
    "\n",
    "\n",
    "#### Use caess of Vector Databases:\n",
    "\n",
    "* Long Term memory for LLMs\n",
    "* Semantic Search:Search based on the meaning of the context\n",
    "* Similarity Search:Images,Text,Video,Audio\n",
    "* Recommendation engine as well \n",
    "\n",
    "\n",
    "\n",
    "#### Some Widely Used Vector Databases:\n",
    "\n",
    "* Pinecone\n",
    "* Chroma\n",
    "* Weaviate\n",
    "* Faiss \n"
   ]
  },
  {
   "cell_type": "markdown",
   "metadata": {},
   "source": [
    "### What are embeddings?\n",
    "\n",
    "Embeddings are dense vector representations of data, such as text, images, or audio, that capture their semantic meaning and relationships. They are typically learned from large datasets using techniques like deep learning or dimensionality reduction.\n",
    "\n",
    "\n",
    "\n",
    "Role of embeddings in vector databases:\n",
    "\n",
    "* Vectorization: Embeddings convert raw data into numerical vectors, enabling vector databases to store and process them efficiently.\n",
    "* Semantic capture: Embeddings capture the semantic meaning and context of data, allowing vector databases to perform semantic searches, clustering, and classification.\n",
    "* Dimensionality reduction: Embeddings reduce high-dimensional data to lower-dimensional vectors, making storage and querying more efficient.\n",
    "* Similarity measurement: Embeddings enable measuring similarity between vectors using distance metrics like cosine similarity or Euclidean distance.\n",
    "* Data retrieval: Embeddings facilitate data retrieval based on semantic similarity, enabling applications like image search, text search, and recommendation systems.\n",
    "* AI application integration: Embeddings enable integration with various AI applications, such as natural language processing (NLP), computer vision, and recommender systems.\n",
    "\n",
    "\n",
    "Types of embeddings:\n",
    "\n",
    "* Text embeddings: Word2Vec, GloVe, BERT (for text data)\n",
    "* Image embeddings: ConvNets, ResNets (for image data)\n",
    "\n",
    "\n",
    "\n",
    "\n",
    "\n",
    "OpenAI’s text embeddings measure the relatedness of text strings. Embeddings are commonly used for:\n",
    "\n",
    "* Search (where results are ranked by relevance to a query string)\n",
    "* Clustering (where text strings are grouped by similarity)\n",
    "* Recommendations (where items with related text strings are recommended)\n",
    "* Anomaly detection (where outliers with little relatedness are identified)\n",
    "* Diversity measurement (where similarity distributions are analyzed)\n",
    "* Classification (where text strings are classified by their most similar label)\n",
    "\n",
    "An embedding is a vector (list) of floating point numbers. The distance between two vectors measures their relatedness. Small distances suggest high relatedness and large distances suggest low relatedness."
   ]
  },
  {
   "cell_type": "markdown",
   "metadata": {},
   "source": [
    "## What Are Word Embeddings?\n",
    "\n",
    "Think of word embeddings as a way to represent words using numbers so that a computer can understand their meaning and relationships. Let’s break it down in a simple way:\n",
    "\n",
    "### Imagine a World Without Embeddings\n",
    "Before embeddings, computers saw words as just plain text with no connection to each other. \n",
    "For example:\n",
    "\n",
    "- \"dog\" and \"cat\" were treated like completely different words, even though they both refer to animals.\n",
    "- Similarly, \"happy\" and \"joyful\" had no relation, even though they mean almost the same thing.\n",
    "\n",
    "This was a problem because the computer couldn’t understand that some words have similar meanings or belong to the same category.\n",
    "\n",
    "### Enter Word Embeddings\n",
    "A word embedding is a set of numbers (a vector) that represents a word in a way that captures its meaning and relationships with other words.\n",
    "\n",
    "For example:\n",
    "\n",
    "- \"dog\" might be represented as [0.5, 0.8, -0.2].\n",
    "- \"cat\" might be [0.6, 0.7, -0.1].\n",
    "\n",
    "These two vectors are close to each other, meaning the computer understands that \"dog\" and \"cat\" are related.\n",
    "\n",
    "### How Word Embeddings Work in Practice\n",
    "The magic happens because the closer two word embeddings are in the number space, the more similar the words are in meaning.\n",
    "\n",
    "Example:\n",
    "- \"happy\" might have the vector [0.3, 0.9, -0.4].\n",
    "- \"joyful\" might have [0.3, 0.8, -0.3].\n",
    "These vectors are close, meaning the computer knows they are similar in meaning.\n",
    "\n",
    "Analogy: Coordinates on a Map\n",
    "\n",
    "Think of word embeddings as placing words on a map:\n",
    "\n",
    "- Words like \"king\" and \"queen\" will be close to each other.\n",
    "- Words like \"apple\" and \"banana\" will also be close to each other, but far from \"king\" and \"queen\" because they belong to different categories.\n",
    "\n",
    "### Why Are Word Embeddings Useful?\n",
    "\n",
    "- Understand Relationships: Computers can now understand that \"cat\" and \"dog\" are related.\n",
    "- Find Similar Words: If you search for \"joyful\", the system can suggest similar words like \"happy\".\n",
    "- Handle Context Better: Embeddings help in tasks like translation, chatbots, and more, because they capture meaning rather than just raw text.\n"
   ]
  },
  {
   "cell_type": "markdown",
   "metadata": {},
   "source": []
  }
 ],
 "metadata": {
  "kernelspec": {
   "display_name": "python13",
   "language": "python",
   "name": "python3"
  },
  "language_info": {
   "name": "python",
   "version": "3.12.0"
  }
 },
 "nbformat": 4,
 "nbformat_minor": 2
}
