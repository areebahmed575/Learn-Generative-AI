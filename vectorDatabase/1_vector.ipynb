{
 "cells": [
  {
   "cell_type": "markdown",
   "metadata": {},
   "source": [
    "## Vector Database(Coverting data into vectors then storing it into vectors database)\n",
    "\n",
    "A vector database is a database that used for storing high-dimensional vector such as word embeddings and image embeddings\n",
    "\n",
    "* Embeddings is just  a vector which have some semantic meaning\n",
    "* Vector is a set of values"
   ]
  },
  {
   "cell_type": "markdown",
   "metadata": {},
   "source": [
    "Vectorstore Memory: Langchain also supports vector-based memory architectures, which store and retrieve conversation history based on vector embeddings. This approach allows for semantic similarity searches, enabling the AI to retrieve relevant information from the conversation history based on contextual meaning rather than exact keyword matches. Vectorstores can be built on top of different storage backends, such as in-memory, file-based, or database systems."
   ]
  },
  {
   "cell_type": "markdown",
   "metadata": {},
   "source": [
    "Why do we need vector databases?\n",
    "\n",
    "Over 80-85% data is unstructured data.\n",
    "* e.g:videos,images,audio etc\n",
    "\n",
    "\n",
    "\n",
    "We can't easily stored them in Relational Databases."
   ]
  },
  {
   "cell_type": "markdown",
   "metadata": {},
   "source": [
    "Whether we have images,video or text,we just need to download pretrained embedding model.Based on that we are able to generate a embedding.\n",
    "\n",
    "3 prosibilities in Embedding:\n",
    "* Trained \n",
    "* Fine tuning\n",
    "* Training from scratch"
   ]
  },
  {
   "cell_type": "markdown",
   "metadata": {},
   "source": [
    "#### Techniques in Embedding:\n",
    "\n",
    "* Word2vec\n",
    "* Elmo\n",
    "* Hugging Face Api Embedding\n",
    "* Open Ai Api Embedding\n",
    "\n"
   ]
  },
  {
   "cell_type": "markdown",
   "metadata": {},
   "source": [
    "#### A vector database indexes and store vector embeddings for faster retrieval and simalarity search\n",
    "\n",
    "\n",
    "\n",
    "\n",
    "#### Use caess of Vector Databases:\n",
    "\n",
    "* Long Term memory for LLMs\n",
    "* Semantic Search:Search based on the meaning of the context\n",
    "* Similarity Search:Images,Text,Video,Audio\n",
    "* Recommendation engine as well \n",
    "\n",
    "\n",
    "\n",
    "#### Some Widely Used Vector Databases:\n",
    "\n",
    "* Pinecone\n",
    "* Chroma\n",
    "* Weaviate\n",
    "* Faiss \n"
   ]
  },
  {
   "cell_type": "markdown",
   "metadata": {},
   "source": [
    "### What are embeddings?\n",
    "OpenAI’s text embeddings measure the relatedness of text strings. Embeddings are commonly used for:\n",
    "\n",
    "* Search (where results are ranked by relevance to a query string)\n",
    "* Clustering (where text strings are grouped by similarity)\n",
    "* Recommendations (where items with related text strings are recommended)\n",
    "* Anomaly detection (where outliers with little relatedness are identified)\n",
    "* Diversity measurement (where similarity distributions are analyzed)\n",
    "* Classification (where text strings are classified by their most similar label)\n",
    "\n",
    "An embedding is a vector (list) of floating point numbers. The distance between two vectors measures their relatedness. Small distances suggest high relatedness and large distances suggest low relatedness."
   ]
  }
 ],
 "metadata": {
  "kernelspec": {
   "display_name": "python13",
   "language": "python",
   "name": "python3"
  },
  "language_info": {
   "name": "python",
   "version": "3.12.0"
  }
 },
 "nbformat": 4,
 "nbformat_minor": 2
}
