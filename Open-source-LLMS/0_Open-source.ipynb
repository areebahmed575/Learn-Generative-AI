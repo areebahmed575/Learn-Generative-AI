{
 "cells": [
  {
   "cell_type": "markdown",
   "metadata": {},
   "source": [
    "## Open Source LLMs\n",
    "* No need cost\n",
    "* Free to use for research purposes and commercial purposes\n",
    "* They are not hosted anywhere and will be available in hugging face.\n",
    "* You have to download that model and load that that model\n",
    "* One of the disadvantage is that you don't have any api access.You need good CPU configuration system\n",
    "   - Core i3 - i5 processor\n",
    "   - 8 gb ram\n",
    "   - GPU will be a plus point"
   ]
  },
  {
   "cell_type": "markdown",
   "metadata": {},
   "source": [
    "## Some very popular and powerful Open source LLM models\n",
    "\n",
    "* Meta LLama 3\n",
    "* Meta LLama 2\n",
    "* Google Palm 2\n",
    "* Falcon"
   ]
  }
 ],
 "metadata": {
  "language_info": {
   "name": "python"
  }
 },
 "nbformat": 4,
 "nbformat_minor": 2
}
