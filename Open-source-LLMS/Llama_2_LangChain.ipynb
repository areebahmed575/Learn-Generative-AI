{
  "cells": [
    {
      "cell_type": "markdown",
      "source": [
        "# Here I am using Llama 2 Chat Model with 7 Billion Parameters not a quantized model."
      ],
      "metadata": {
        "id": "Hh1RorjCteId"
      },
      "id": "Hh1RorjCteId"
    },
    {
      "cell_type": "markdown",
      "source": [
        "#**LangChain**"
      ],
      "metadata": {
        "id": "SUKUXK9h8XgL"
      },
      "id": "SUKUXK9h8XgL"
    },
    {
      "cell_type": "markdown",
      "source": [
        "LangChain is a framework for developing applications powered by language models.\n",
        "\n",
        "- GitHub: https://github.com/hwchase17/langchain\n",
        "- Docs: https://python.langchain.com/en/latest/index.html\n",
        "\n",
        "\n"
      ],
      "metadata": {
        "id": "qo1DQXM18bgL"
      },
      "id": "qo1DQXM18bgL"
    },
    {
      "cell_type": "markdown",
      "source": [
        "#**01: Install All the Required Packages**"
      ],
      "metadata": {
        "id": "09CgA1RZkiC4"
      },
      "id": "09CgA1RZkiC4"
    },
    {
      "cell_type": "markdown",
      "source": [],
      "metadata": {
        "id": "QTmNs_M3i5gt"
      },
      "id": "QTmNs_M3i5gt"
    },
    {
      "cell_type": "markdown",
      "source": [
        "https://github.com/facebookresearch/llama"
      ],
      "metadata": {
        "id": "vcXKE36nIX7R"
      },
      "id": "vcXKE36nIX7R"
    },
    {
      "cell_type": "markdown",
      "source": [
        "# Tesla T4 GPU"
      ],
      "metadata": {
        "id": "xEnvbvTji6un"
      },
      "id": "xEnvbvTji6un"
    },
    {
      "cell_type": "code",
      "source": [
        "!nvidia-smi"
      ],
      "metadata": {
        "colab": {
          "base_uri": "https://localhost:8080/"
        },
        "id": "UswijGy6KXQK",
        "outputId": "ee71e2fe-2223-4e42-9d28-84fc730ac1f5"
      },
      "id": "UswijGy6KXQK",
      "execution_count": 1,
      "outputs": [
        {
          "output_type": "stream",
          "name": "stdout",
          "text": [
            "Thu May  9 08:51:59 2024       \n",
            "+---------------------------------------------------------------------------------------+\n",
            "| NVIDIA-SMI 535.104.05             Driver Version: 535.104.05   CUDA Version: 12.2     |\n",
            "|-----------------------------------------+----------------------+----------------------+\n",
            "| GPU  Name                 Persistence-M | Bus-Id        Disp.A | Volatile Uncorr. ECC |\n",
            "| Fan  Temp   Perf          Pwr:Usage/Cap |         Memory-Usage | GPU-Util  Compute M. |\n",
            "|                                         |                      |               MIG M. |\n",
            "|=========================================+======================+======================|\n",
            "|   0  Tesla T4                       Off | 00000000:00:04.0 Off |                    0 |\n",
            "| N/A   47C    P8              10W /  70W |      0MiB / 15360MiB |      0%      Default |\n",
            "|                                         |                      |                  N/A |\n",
            "+-----------------------------------------+----------------------+----------------------+\n",
            "                                                                                         \n",
            "+---------------------------------------------------------------------------------------+\n",
            "| Processes:                                                                            |\n",
            "|  GPU   GI   CI        PID   Type   Process name                            GPU Memory |\n",
            "|        ID   ID                                                             Usage      |\n",
            "|=======================================================================================|\n",
            "|  No running processes found                                                           |\n",
            "+---------------------------------------------------------------------------------------+\n"
          ]
        }
      ]
    },
    {
      "cell_type": "markdown",
      "source": [
        "We need to install transformer because this model is available in hugging face so I'll using hugging face pipeline to load that model that's why i need transformer.We also need to install these dependencies \"einops accelerate langchain bitsandbytes\" for transformer."
      ],
      "metadata": {
        "id": "fPKACrfMjiJo"
      },
      "id": "fPKACrfMjiJo"
    },
    {
      "cell_type": "code",
      "source": [
        "!pip install -q transformers einops accelerate langchain bitsandbytes"
      ],
      "metadata": {
        "id": "X4tDdLTjkkk_",
        "colab": {
          "base_uri": "https://localhost:8080/"
        },
        "outputId": "40401b7c-db06-4308-d7f2-abec6a1c61b3"
      },
      "id": "X4tDdLTjkkk_",
      "execution_count": 2,
      "outputs": [
        {
          "output_type": "stream",
          "name": "stdout",
          "text": [
            "\u001b[2K     \u001b[90m━━━━━━━━━━━━━━━━━━━━━━━━━━━━━━━━━━━━━━━━\u001b[0m \u001b[32m43.2/43.2 kB\u001b[0m \u001b[31m870.1 kB/s\u001b[0m eta \u001b[36m0:00:00\u001b[0m\n",
            "\u001b[2K     \u001b[90m━━━━━━━━━━━━━━━━━━━━━━━━━━━━━━━━━━━━━━━━\u001b[0m \u001b[32m302.4/302.4 kB\u001b[0m \u001b[31m3.7 MB/s\u001b[0m eta \u001b[36m0:00:00\u001b[0m\n",
            "\u001b[2K     \u001b[90m━━━━━━━━━━━━━━━━━━━━━━━━━━━━━━━━━━━━━━━━\u001b[0m \u001b[32m1.0/1.0 MB\u001b[0m \u001b[31m17.4 MB/s\u001b[0m eta \u001b[36m0:00:00\u001b[0m\n",
            "\u001b[2K     \u001b[90m━━━━━━━━━━━━━━━━━━━━━━━━━━━━━━━━━━━━━━━━\u001b[0m \u001b[32m119.8/119.8 MB\u001b[0m \u001b[31m6.9 MB/s\u001b[0m eta \u001b[36m0:00:00\u001b[0m\n",
            "\u001b[2K     \u001b[90m━━━━━━━━━━━━━━━━━━━━━━━━━━━━━━━━━━━━━━━━\u001b[0m \u001b[32m2.0/2.0 MB\u001b[0m \u001b[31m79.0 MB/s\u001b[0m eta \u001b[36m0:00:00\u001b[0m\n",
            "\u001b[2K     \u001b[90m━━━━━━━━━━━━━━━━━━━━━━━━━━━━━━━━━━━━━━━━\u001b[0m \u001b[32m302.9/302.9 kB\u001b[0m \u001b[31m33.8 MB/s\u001b[0m eta \u001b[36m0:00:00\u001b[0m\n",
            "\u001b[2K     \u001b[90m━━━━━━━━━━━━━━━━━━━━━━━━━━━━━━━━━━━━━━━━\u001b[0m \u001b[32m120.8/120.8 kB\u001b[0m \u001b[31m16.5 MB/s\u001b[0m eta \u001b[36m0:00:00\u001b[0m\n",
            "\u001b[2K     \u001b[90m━━━━━━━━━━━━━━━━━━━━━━━━━━━━━━━━━━━━━━━━\u001b[0m \u001b[32m49.3/49.3 kB\u001b[0m \u001b[31m7.0 MB/s\u001b[0m eta \u001b[36m0:00:00\u001b[0m\n",
            "\u001b[2K     \u001b[90m━━━━━━━━━━━━━━━━━━━━━━━━━━━━━━━━━━━━━━━━\u001b[0m \u001b[32m53.0/53.0 kB\u001b[0m \u001b[31m6.9 MB/s\u001b[0m eta \u001b[36m0:00:00\u001b[0m\n",
            "\u001b[2K     \u001b[90m━━━━━━━━━━━━━━━━━━━━━━━━━━━━━━━━━━━━━━━━\u001b[0m \u001b[32m142.5/142.5 kB\u001b[0m \u001b[31m1.7 MB/s\u001b[0m eta \u001b[36m0:00:00\u001b[0m\n",
            "\u001b[?25h"
          ]
        }
      ]
    },
    {
      "cell_type": "markdown",
      "source": [
        "#**02: Logged in with a Hugging Face account**"
      ],
      "metadata": {
        "id": "sQHZiF38-Cps"
      },
      "id": "sQHZiF38-Cps"
    },
    {
      "cell_type": "markdown",
      "source": [
        "https://huggingface.co/docs/huggingface_hub/quick-start"
      ],
      "metadata": {
        "id": "whl8z4dTTgJB"
      },
      "id": "whl8z4dTTgJB"
    },
    {
      "cell_type": "code",
      "source": [
        "!huggingface-cli login"
      ],
      "metadata": {
        "id": "9-mFf0Ql-KX2",
        "colab": {
          "base_uri": "https://localhost:8080/"
        },
        "outputId": "0c6e7b7e-0a9f-4966-9bbe-b53db4e1cee0"
      },
      "id": "9-mFf0Ql-KX2",
      "execution_count": 3,
      "outputs": [
        {
          "output_type": "stream",
          "name": "stdout",
          "text": [
            "\n",
            "    _|    _|  _|    _|    _|_|_|    _|_|_|  _|_|_|  _|      _|    _|_|_|      _|_|_|_|    _|_|      _|_|_|  _|_|_|_|\n",
            "    _|    _|  _|    _|  _|        _|          _|    _|_|    _|  _|            _|        _|    _|  _|        _|\n",
            "    _|_|_|_|  _|    _|  _|  _|_|  _|  _|_|    _|    _|  _|  _|  _|  _|_|      _|_|_|    _|_|_|_|  _|        _|_|_|\n",
            "    _|    _|  _|    _|  _|    _|  _|    _|    _|    _|    _|_|  _|    _|      _|        _|    _|  _|        _|\n",
            "    _|    _|    _|_|      _|_|_|    _|_|_|  _|_|_|  _|      _|    _|_|_|      _|        _|    _|    _|_|_|  _|_|_|_|\n",
            "\n",
            "    To login, `huggingface_hub` requires a token generated from https://huggingface.co/settings/tokens .\n",
            "Token: \n",
            "Add token as git credential? (Y/n) y\n",
            "Token is valid (permission: read).\n",
            "\u001b[1m\u001b[31mCannot authenticate through git-credential as no helper is defined on your machine.\n",
            "You might have to re-authenticate when pushing to the Hugging Face Hub.\n",
            "Run the following command in your terminal in case you want to set the 'store' credential helper as default.\n",
            "\n",
            "git config --global credential.helper store\n",
            "\n",
            "Read https://git-scm.com/book/en/v2/Git-Tools-Credential-Storage for more details.\u001b[0m\n",
            "Token has not been saved to git credential helper.\n",
            "Your token has been saved to /root/.cache/huggingface/token\n",
            "Login successful\n"
          ]
        }
      ]
    },
    {
      "cell_type": "markdown",
      "source": [
        "#**03: Import All the Required Libraries**"
      ],
      "metadata": {
        "id": "SyuVPUfFUKHQ"
      },
      "id": "SyuVPUfFUKHQ"
    },
    {
      "cell_type": "code",
      "source": [
        "from langchain.llms import HuggingFacePipeline"
      ],
      "metadata": {
        "id": "dNG0rDMlUO4n"
      },
      "id": "dNG0rDMlUO4n",
      "execution_count": 4,
      "outputs": []
    },
    {
      "cell_type": "markdown",
      "source": [
        "AutoTokenizer. A tokenizer is responsible for preprocessing text into an array of numbers as inputs to a model."
      ],
      "metadata": {
        "id": "Qr-lpeg6UpuX"
      },
      "id": "Qr-lpeg6UpuX"
    },
    {
      "cell_type": "code",
      "source": [
        "from transformers import AutoTokenizer"
      ],
      "metadata": {
        "id": "MkqLHAU-UTbV"
      },
      "id": "MkqLHAU-UTbV",
      "execution_count": 5,
      "outputs": []
    },
    {
      "cell_type": "code",
      "source": [
        "import transformers"
      ],
      "metadata": {
        "id": "b8N02I2LUXjl"
      },
      "id": "b8N02I2LUXjl",
      "execution_count": 6,
      "outputs": []
    },
    {
      "cell_type": "code",
      "source": [
        "import torch"
      ],
      "metadata": {
        "id": "NoT0J-c0UZoW"
      },
      "id": "NoT0J-c0UZoW",
      "execution_count": 7,
      "outputs": []
    },
    {
      "cell_type": "code",
      "source": [
        "import warnings\n",
        "warnings.filterwarnings('ignore')"
      ],
      "metadata": {
        "id": "rul5HxhNXhYn"
      },
      "id": "rul5HxhNXhYn",
      "execution_count": 8,
      "outputs": []
    },
    {
      "cell_type": "markdown",
      "id": "9ed0dc6a",
      "metadata": {
        "id": "9ed0dc6a"
      },
      "source": [
        "##**04: Load the Llama 2 Model**"
      ]
    },
    {
      "cell_type": "markdown",
      "source": [
        "Here,We are using Llama 2 Chat Model with 7 Billion Parameters not a quantized model."
      ],
      "metadata": {
        "id": "Q2YeDuz4VFNW"
      },
      "id": "Q2YeDuz4VFNW"
    },
    {
      "cell_type": "markdown",
      "source": [
        "The basic building block of LangChain is a Large Language Model which takes text as input and generates more text"
      ],
      "metadata": {
        "id": "516GZwvpnVpV"
      },
      "id": "516GZwvpnVpV"
    },
    {
      "cell_type": "markdown",
      "source": [
        "Suppose we want to generate a company name based on the company description. In this case, since we want the output to be more random, we will intialize our model with high temprature."
      ],
      "metadata": {
        "id": "4FDyNMY3sRMc"
      },
      "id": "4FDyNMY3sRMc"
    },
    {
      "cell_type": "markdown",
      "source": [
        "The temperature parameter adjusts the randomness of the output. Higher values like 0.7 will make the output more random, while lower values like 0.2 will make it more focused and deterministic."
      ],
      "metadata": {
        "id": "eLqFwlXaH8f4"
      },
      "id": "eLqFwlXaH8f4"
    },
    {
      "cell_type": "markdown",
      "source": [
        "temperature value--> how creative we want our model to be\n",
        "\n",
        "0 ---> temperature it means model is  very safe it is not taking any bets.\n",
        "\n",
        "1 --> it will take risk it might generate wrong output but it is very creative"
      ],
      "metadata": {
        "id": "rMOonq5OH97v"
      },
      "id": "rMOonq5OH97v"
    },
    {
      "cell_type": "markdown",
      "source": [
        "![hugginng.PNG](data:image/png;base64,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)In a lot of cases, you must be logged in with a Hugging Face account to interact with the Hub: download private repos, upload files, create PRs,…"
      ],
      "metadata": {
        "id": "6NH3VE64k7sL"
      },
      "id": "6NH3VE64k7sL"
    },
    {
      "cell_type": "markdown",
      "source": [
        "![image.png](data:image/png;base64,iVBORw0KGgoAAAANSUhEUgAAAzUAAAG2CAYAAABGV6izAAAAAXNSR0IArs4c6QAAAARnQU1BAACxjwv8YQUAAAAJcEhZcwAAEnQAABJ0Ad5mH3gAAABhaVRYdFNuaXBNZXRhZGF0YQAAAAAAeyJjbGlwUG9pbnRzIjpbeyJ4IjowLCJ5IjowfSx7IngiOjgyMSwieSI6MH0seyJ4Ijo4MjEsInkiOjQzOX0seyJ4IjowLCJ5Ijo0Mzl9XX2M9s2uAADM8UlEQVR4XuydB2AUxf7Hv0lIISSEXoMCIqgUKRZAREWKoKIgPBXsiqgU//YuT8Uu4FPwqViwgQrCowgoVRCCSpPQW0BCSIBAQnq9/8zuzt3uZi+5FCAH3w9MvvOd38zc3t7c3s5tuYDCzC0ukJJJXYFRDR8GZqzBh/0ijUITB3/GoPOfxupXZiDhKWBc50GYOnQG1o260KhgZiNeDx+Kl4b8Bwmf9UQDo7Q8pMwfi1qDgHmHXkS/KKPQROKPj6LRPRvx2u+/4YWORiE5/SQvxrAmj+LQx79g3l3RRiEhhPgXZ89nkNhlipmJgD/nAHk5RplBIxGrE2gYE+mifK+RVwSIem2uhqvH3UBwqFFI/JENHw5Cp+9uwLo196CDUWYm5s3WuOK16zEj7h0MrG8UkpNCgIuTGt9IWoyhzR5F4n/mYsmw5kahh7gfn0bXe/Zi5PLv8MJle/F6s0F4ceB/kTWuO8KMOorsPz9Bj6s/QMMpv+Gnf9UxSstH4syn0fCOo5i44QuMaGUUuonH1AeGYujmIVi9fDi62BeInB7yxevykHhdlvTCz2vFjkBto5wQQvyMs+4zKPMEsPJ7YEcMUE3M4s47BwhJEhOYf4wKJkJriYmLWCl7E4CjIp3TGug+VEyATs4XWZH1LkV6eqbhyMlC7D9ruuHdq9BxjPgcPyw+xyO0Ig/pG/H6DUPxYvQ7OPTt9dqX2AHh4vUn5aZGVCSOH1pjOJ2AwoxYFwICxKsj5jbUYjQbMW/dL2bbB9Hj3uF45F/NUAOiPPsoNsyZiXFfxuP6j/+LD+9shjBRP+6Hp3HFvfNRdeAovHZXezQIFf0gHXG/zMMb729Es2ffwoyXO6OGz49fgqaJN86Nd+Cl/Zfj/qdvx+0XyXdWALITt2HWlCn4PL47Js94Afe3DCm+H+rJ172zcMOtU7Bt617E4WK8tvwLvHApXxcqlerHmrFJ23nTPoOeug23t64uPoNcyE7ajllfiM+gg/Iz6Hnc30rMaHzpj1pmrV7vMk5qTgFi/1lf7/t+xh3XPIOpET3x2ksD0aW++DwX+18p+1dg6rtfYXXjB/Htd6PRo5b++gSGt9E7IOVCTmqOHYqxjP+AwsxYV4BY+S7xj1qyHvrtJ4ybNh8b1u7B0uTq6NGmOS7s0QtDhvRD1/rW+qlbl+CzT+Zhwd/bsPRPoMu10bioXT8MvK83+p4X4a5XYZqfjCVTv8S06duxevMfOF77clx0QXP0638Dhgxsh4ZVfOyHenL14J/47MdtSK0djWv6XIuOtnFDpVKpfqn5R7Bs6leYOn2b5TOob//rccfA9qhfxcd+qFR/09Q4/PTFNExduhUblvwNXHY5ml1wgdj3GoKBvRuhprd21IpV/UiNmPKIiQ6VSqVSqVQqlUql+psaR2o8qJiCnp7eAz09vQd6enoP9PT0Hk6LL8z4W2iFd6tnNejp6T3Q09N7oKen90BPT++h9D5QFsjrayTOyjjjmmWccQdlnHHNMs64gzLOuGYZZ9xBT0JcP1JDCCGEEEIIIf6J9itRcoYjJzlFZjwmZZxxxj3erowzzrjH25Vxxhn3eLsyzjjjHm/XUsULMzbySA0hhBBCCCHEb9GP1GhZjyrs5YxbYdxZFYw7q4JxZ1Uw7qwKxp1VwbizKhh3VgXjzqpg3FkVjDur4mTFAwrTN/B3aqhUKpVKpVKpVKrfaqDMyDyVSqVSqVQqlUql+qUWpq+XcxxCCCGEEEII8UsCCjM8kxo503GpwziGmGc8jDPOuJExhHEPjDPOuJExhHEPjDPOuJExhHEPFRUPKExfZy4nhBBCCCGEEL/C/Ts1VCqVSqVSqVQqleqXWpi+lkdqCCGEEEIIIX6LdqSGEEIIIYQQQvyVgML0v3ikhhBCCCGEEOK3WI7UGKekuaG3Qm+F3gq9FXor9FbordBbobdCb4XeCr2hhWl/ujQnj9coVdjLGWeccQ+MM84444wzzjjjjFeKeEBhupjUEEIIIYQQQoifElCY9gcnNYQQQgghhBC/JaAw3TOp8XZ0R0FPT++Bnp7eAz09vQd6enoPp8oHFKatMZcTQgghhBBCiF/B36khhBBCCCGE+DUBhWkxPFJDCCGEEEII8VsCXAIjTwghhBBCCCF+R5HTz0qa4TBePIwXD+PFw3jxMF48jBcP48XDePEwXjyMFw/jxVMRcR6pIYQQQgghhPg1vFEAIYQQQgghxK/hpIYQQgghhBDi1wSqs8+oVCqVSqVSqVQq1R+V19QQQgghhBBC/JpA+5SG3sgY0BsZA3ojY0BvZAzojYwBvZExoDcyBvRGxoDeyBjQGxkDeiNjQG9kDKTnkRpCCCGEEEKIX8NraqhUKpVKpVKpVKpfK4/UEEIIIYQQQvwa05EaTUwzHk3o6Q3VhJ7eUE3o6Q3VhJ7eUE3o6Q3VhJ7eUE1OiueRGkIIIYQQQohfE1BYWCgmNQEiK0WoNsehp6enp6enp6enp6f3D88jNYQQQgghhBC/xvHuZzLnVK6UccYZZ1x5uzLOOOOMK29XxhlnnHHl7VreOI/UEEIIIYQQQvwa6zU1blXYyxlnnHEPjDPOOOOMM84444xXhjiP1BBCCCGEEEL8Gu2aGjmrUXMbs7erhHHGGWecccYZZ5xxxhlnvDLFeaSGEEIIIYQQ4tcY19QQQgghhBBCiH8SUOhyueTlNQo5w3G6/EbBOOOMM84444wzzjjjjHtgvBLEefczxhlnnHHGGWecccY9MM64/8V5TQ0hhBBCCCHEr+E1NYQQQgghhBC/RkxqXK6AANPBG5Ghp6enp6enp6enp6f3G289UqMV61kNenp6D/T09B7o6ek90NPTezg93uvdzxT09PQe6OnpPdDT03ugp6f3cFo8r6khhBBCCCGE+DOBcp4TIE9Kc6vMmj3jjDPOOOOMM67BuMkzzjjjjFeeOI/UEEIIIYQQQvwa3v2Mnp6enp6enp6ent6/PY/UEEIIIYQQQvyZQO2vnOrIeY6m9PT09PT09PT09PT0/uN5pIYQQgghhBDi13iuqVHnprlPTvN4xhlnnHHGGWecccYZZ5zxyhrnkRpCCCGEEEKIX6NfU6NNfaQYSm8IvZExhN7IGEJvZAyhNzKG0BsZQ+iNjCH0RsYQeiNjCL2RMYTeyBhCb2QM0ZVHagghhBBCCCF+De9+Rk9PT09PT09PT0/v177IkRppjKqOMM44495hnHHGvcM444x7h3HGGfeOL3HrNTVC9ZzH25VxXXUYtyvjuuowblfGddVh3K6M66rDuF0Z11WHcbsyrqvO2RnnNTWEEEIIIYQQv4Z3P9MzhtAbGUPojYwh9EbGEHojYwi9kTGE3sgYQm9kDKE3MobQGxlD6I2MIfRGxhBnH1BQWOiSWXWuGpVKpVKpVCqVSqX6lVpPP1PFCnp6eg/09PQe6OnpPdDT03s4PT7QXCQLlNfV43UYZ1zl9L+Mm2GccZXT/zJuhnHGVU7/y7gZxhlXOf0v42Z8iwfKuY0+w9FVebvqMM64s+owzriz6jDOuLPqMM64s+owzriz6jDOuJjUWGc8QrWMyduVcau3K+NWb1fGrd6ujFu9XRm3ersybvV2Zdzq7cq41duVcau3K+NWb1fGrd6uFRDnNTX0elaDnp7eAz09vQd6enoP9JXRu6+p0VXNeOjp9b/0OvT6X3odev0vvQ69/pdeh17/S69Dr/89Fd59TQ2VSqVSqVQqlUql+qMGFBQUurScnOJQqVQqlUqlnoGan1eA7Nxc5OTkIj8/3zhHn5xJyN9grFKlCkJDQxAWEoIqwUE+jw+q/6vtmhpCCCGEkDOLtPRMZGRkoVq1cISFBSNY7PgGuH+V/OwjIfEoGjWoY7gzB5eYqeaJCWt2dp54vTPF610VkRHhRpSc6XiO1EgjkvbNBb0GPT29kTGE3sgYQm9kDKE3MobQGxlDTpdPPZGOwsJC1IiKRFBgoBY/2zlTJzVmCsRrnpKahkDxmteoHlFh40lCXzl9CXc/s8M444x7h3HGGfcO44yf+rg8QiO/ua9dM8ooIZKzYVKjSD6eiuAqwYiMqGqUOFE5x68Hxn2JB8qZjaymq/hn8XZlnHGncqWMn+r4oWmDtG+h9BRgyhvptZhi21uVcX+PW8fD61hti5fUvnLEEzH1X7YxbImr+nY90+L29bDaSzulpej/0FKMu/8KnKf61pLaftjHjdJS9O+opz6el1egnXImj9CQsxf5+stT0eR4MI+PksYP42b1j3igPKVUzm+o1LJo+ra/sHjxaixetRvptnj6VhFbImK/i5ip/OzSNBzaH489CceR5xQ/OBWDxY5EUJBIQgd/n+ilHy8qUklY6lNL1qPbsGDiKAy+tjUaG69LUOPW6HX/U/hieSJyfO2nlJokJiRqHJRG31hj6kckM8U9XmVW/Y8HX9udNP3jddN6fx1r7PGTpPofD762K1b3TcWdnXriqS9jECfKnPCpHz/QnNxc7Roa+dqRsxf5+stxIMeD0zihnjlqO1JDpZZOc1KO4UDSERw4nKrt7JnjOammmKn8rNLjaUjJzEEBwhBcTD2FViaTUV6iilQSlvrUYnXvrFG4ol5r3PDoJMxctg2JokwjcRuWfjkOw65thObXvo7Vx53bl1fLirsf3bop6fEqq+p/PPja7mSqGV/qV4Tqfzz42s67ZmPp5Ccx1T2wnfG9v8qt2Tm52k0BCJHjQI4Hp3FCPXOUR2rOEC3MSEX68VRk5znHT6Yq7OWmkGO7s0FTM+SEJghVq1cttp5CK5PJKC9JG94+Q7sA1pMS8O1gETDh1I5aVPdNuwPdbpmEGOGLI3HZS+h2/ThsFHlf+i2NlhV3P7p1U9LjVVbV/3jwtd3JVDO+1K8I1f948LWdd92GDQtMM5pXVtm2HzK9gK5F2jnrmr/W4+WxE/D8q+/h+VdEctAP/julxH5OlsrbNsu7nBEix4EcD07jhHrmaKC8/Z02y3HPdOj90e9ZtRzT5y/H8p0V05/vXvwxcIorPPXL+3j+5DORml0IBIWieoRT3KMKEbXFS++1jJvy93dW+ANT8eTQqZ4jM51H4Nv1x1BQUCBSIZLXfYtHOhsxyZqnMGlWivf+yujdiJ1Neece9fhaMvzuz/sZlSR90aC2qT9rL0X69xevGRP2+OnwZpziJ8PrfzyUv/8sZMvZuJvy9Td7/mLtN0HaXtQKbVuLdFFLPW/yLZqf67X9yfdyR0fu7viO/A2bjZu2YfGy1Vi1Zj0SDh02IjopqSfw17pN+HXp75rKu2v5Rix+fPVtPP9TrOF1ThzYgJ1H8w0HJP/+iZgMfoIVR40CorFn6c/45scY7DF8aZHjwD023OOjoscb/en2gXJqo81yjJmO8tKYPeNWX7niqUiX535plKW9JmWMyz86jnED7+1L6t+P4xnp2pGzoLBw1HCKa95QN6Xo30tczyhK3/5sjG9fONVzhKbBEHw79UMMaV/DHa/ZYQgmfvQuOhhVJF8sXo0UI64lWWh4e/8+x004xgM2YtaH82VO5977ccv5pri9lyLtS3j8ShQ34xQ3+5MdTz1qO1/LFteSyVdcXP4xUSRe+v6tlL69OS4nAJd1aoshg2/EkEE34vbB/bX87SZ/fZ9rvLZX/qTFS8n+Awl4/d2PMP+X5TiRlo5t23fjnfc/xf/mLYK8Uewff/2NV9+aiLUbNiMzMwt/rY8V/kNNSyYfJ1KzcSLDM4HB0V/x0ftz8MH7M7HTKMrLEnVEvaxCo6AykZuJtONpyC0wfCkpSE+1tS9A7glZ5i156hbk5iFXpDI+tBvL+DDGi5ZMnnGr96d4oJze6DMcXZW3q7/Ec3JdWLc/F3M3ZmoqvSwvEBuIHckuzNtZiD8PurSdTVlub6+8XSt3XDxP03ayaFwkm7dreeIKe7kpdFIfX2pljKeLDyZ5WWJYtagS25txipfm8e3Y4056tscveGAeDh7egnmfP4H7nnsCt59rjWvt23dFX1mmOJqCbHNclnlRn+MmnOLZy2ZinPub9gZ4/o5+kDeqdWqvYZRX2PJ50ZMRN3Naly8/BatX/iSdB1u9k/n4FhziUkvTvx173Em9xg1U/LjYEY3dsgObRTKrSvbyjPRMrV2ZH9/QkpbPF7Kzc/DpF9PQ5fKOeO7JhzGwf288cM+/8LzIy2WdMOkL/DDzZzx0/xA8/MAQ3HxDLzwybCiG33c7vv1+Nvb/c9DoqRTUughXXdwAra+5FM2MospIbsJmrFywBFOn/4off16FddaDV76RvAn/+98yW/tjWLdIlnlLq7Cxgo9YOY2Tkzb+DGXc6u1akfEi19TIP2bvT/G8fBcmLTuBoR8fwf1fHcOQyUfx3q8pWvzXPS7c9b9CPLu0EHf8Lx/j1xQiV0wEStO/VARk48i27dgWuxtHMo3ylAT8vWq1dhewRUv+wt/706ztspKwa80a73FL/4bPS0X8euPuYdrdxWKxP0m/YEaLa5qH7JQjiN96EKnG1xdZyWLZNsnlE2lbEvIs9QuQmxyPbTFiWVS/y9dhV0J20cf3ok5xhZY1lZtC3ttnH0P8pnVYYSzPoiVr8MdWsdxiEmqpZ2juod3a89t7SCyzLC9MwyHTevp9QwLSxbpwtysUr9dWT/9F4jZFQAHyjop1ZLxeWr/LxDoyHk/+Mdcv2l75XKRmidcrMAyRtZ3iVjXjFC+pvTluxx43e7Om7p6PL54dhl7tGrnvrtX44p4YPGIcpv2h35XN3j7p+0Huu0INnpYIZGzAR7eeJ3wjtBn+ObZn6PVSV43DnVq/onzoJGxMtfajNGWPWIZnxDJcLOoa/TZuJ5ZhpFiGNaJ/W327lite50L0vfddfDaqg3NcqP1XDuxx+cfsSx03UTSeggXfvu45Ra79E7jlmjCv7SVaeco2zBo7DN1aGnfvanmFWJ+TsEyuTqOdu73NlztekIg1017Hg9ddgRbG6xnUqDV6PfAUvhAL4K29/seDjOdsn4k3HlD9iHF00yh8tNx6t0DV3vr44zD6NtPjB56HbtcNw9Nfzsc+2zjU2ydi2m2ynlE/pBZueM98pOYldNP6MeJKb52KRKMf9+PbVP4x+5Li+h8Twhe3HuQfqar9mrGm5dP0CrH0JsZcUfR5FHN3N/nH4g2kl0cu7n3kaf16Gh/TiCdfLrZ/u5Y2XhqWrViDc5o0Qt9e3bX2inp1a4vJyx04mnwcD9z9L7Rs0dSI6LQ6vxn69+uBuQuWGiWlIDAaXe4ajoevbabdSKaykpOSiawqYagTWdalTMW63/cirWoYQowSnbrocsvNuP8OW7rpQjSqAkQ274DL6htVKwjz+Chp/DBuVX+IW6+pkVMdt7dr5Y8v3ZaNl2amoGWDYHx2Z220bhSM138+gZdnn8DoBS7cd3EQYh8MwutXV8GHf7kwb5ds63v/MsGVhj3bdmBN7B7sSc1Dwpql+Pbnv7B+/xHtTl/xSQlY//tSTF+dJOoX4MS2VZg2cw1+35tkiU9bGW/0WfTxM3eswfQZy7FoW4J+9zCZ9u/F0sXzMWvlfmS62+3F8vliIrBhPxJyRVtBSrxcNiNti8cJrZ5Yjv1b8OusBfjul3VYYyyLlhLi8fuyX4zl1R9fqvfnX7RcoeXd5boq9DI9o+WPJ2Djol/w1cyVWBQbjz3G8sQnJWHrhjX4ds5aJIlJp/3x0/bt0Z7b+n1pyD+wEbNnLsVC03rate0vTJ+zTrQV7Y7vxpJZv2DeBk//WnzWXzgg41qfSvV1tEiso2+LWUeysrWdUj3JP1o+OxUZ4jUJCK2KOk5xt4okV5Abe9xUT1Z0e+9xa4e+tE/B+gk34KKWN2DYu59j6WbPDlzi5qWY+d+ncEfXRjjvvpmIs7c3PZgLx7Hs1esxarq8UWwitk0ehgcmr4crbiru7/4Upmr9ivJpo3D98/Nx3LIc+jK0LmEZWohl2Gtpp1RP8o+ePwnxXVth3m1p0KYZ6pvjIsk/et6hfQnx+rfN8FxD82LnInHXrp/w+ZfaQ2v0HTUQ7c1xkcRfLaZwpa3G6/1aY9CYzxGz2yjcHSPW5yj07NgTr8dkWduLP3q+6PLJJP/o+ZLjWRsm4ZaLGuGKoS/h80Wm2web7iR3xej5xutpbW97GsiKeR3XXjQIL7lvQyzG0dxJGCX7eC0GWbb22nLFzcTI7vLxn8Kk6ebbF8chZtHnGHf/DTjvomvFOsg22oiQ0d7++D5hau/L+rGqc9y+HNklrIdsW3tbc5/xefkMZD4x6ah2o4FZ332COd9/KtJkk6rkKf9o3Gs4djwVWVk5Rp96R3ret8f3dfl8IW5/PDpfaj7B1EPtWjUw5rnRuOiCFkaJlcsvbY99ZTlSgxTEbfgLa/enGN4b6YjfIurFxiHLKNHIicfOFXMwZepUzFqxDcmmMzYqksiLLkPvXlegd/Oy/d5Pyl9/YGNaONo2Doexq1IM2dgTsxMJIefi2q4lzGgKjmHf39uwc/cxn09LM4+P8o4vxitf3H1NjZzh6Kq8XSt3PC2nEI/NSMUVF4bj47tro3/Hqvjkzlq4uUME3l5wAh1rZuGOdi4EBAagf6sA3H1xAJ5ZXIiUHN/698S1/4JsxIsJzcI9aQitE41u3a/GTV1aINr4KjctbhOWrfoNc9YfRUGNRujcpauIt8L51YO0eNY/m7DqH5Gx9Z+15XfMXJuENFcQap/bGtf364Xbb7oa13dohNpVxMbhn41YulE/RBQQ0ABt2rZC57b1UUPrFagRLb2RLoxGpFYvB/s370Z8ZgFCIuuj/aWXYlC/qzG4Zyd0rKd/85IWt862PHbVso7lCse4QuTN5Vn7tmP94WwUhITjvJZtxfMUy9OvK3pdWEv/NjzzIJauSTD1p9rLoFjexPViI74fyUG1cFEH8Xzkc6kfpgcz47FqxVrM+XUL9rsi0bJtJ/QX8c7nRurfEuUk4Pc1h4z+VP/WdXSxWEeDxTJp/ZrW0e//2J6fW7Ws2xecyEGOKKwaEeUY96j234Q9bqrnWF40bu2w5PYb378elzwxX+weFU/clEG48/2N1vamBwvYPROTLN9oAzHfLMAbnz2JWYZXJH68ADGpImP0s6FUy7DB8/hu1bIO5RUVz8aa7z/CMpHV6YAnbuxiimtZk7dr+eMb//cRFoisTj8MvLKZJa6pzLjZh6nPih3gNYa1k7gUL93yMpZliLxq7+6v6OM7l3uJ/z0ePTuNwiw1kfJCzMQbcOdbG5Btby+TIn81PnriJa93pYsZMxIf/W1rn7wAo68YhI+8PXdF4jKxDp7CguRiHt9XLO3tqmXLEBdJ4dN6sLUvK+7H9yyH1dv6V3GZdaqn4vZyPes97tYyxkuBvJA8L9/7rCAs1HqMwYz+ZURZrvaIw5Jv52PKb54ptxOJYhL+1pTVSK7bzH20OGv7jxjz4uf4YOEuJGekYeNC4eUNBspyatjJJHkTluzIROR5HdApwigrjn2b8MfhQLTs2A61jSJnMrFz0Sos2XYEqF8L+p5VyVjGh1u9lTOuq//E3dfUWFRmzN6uMmP2dpUZs7erzJi9XWXG7O0qM2YvZNnOfOw/4cJNF1dFAzlxEIU1qgWhToPqKKxSBUlJ6UiS52iJ8hARvrFFAI6LucGiPWKmZ+pHU5kxeycVpIkd4Oh2PTCoTyecHx2FWs1bo1efVqinRTOxb798I1+K266/FBc2qyviF6Bb34twrvbuy8OhQ+LNaO43czd+33IMueLt2fDiHujfrQXq1QhHmNgxrnfhpeh/hZikiKqH92zBIa1dFKLbXoAL29V0b+iq1hZelsl0YX2EaPXC0aZjW3Tr2Q9Db+yMDuc3QmSNKETUj8bFPa/AxdqGJg979uzVl0MukNbOi8qMySuUt8QVyksVqWr7tujRoSvuGtQL3S9tLp6nWJ6adRHd4Upcd1641iQrfp+YlJjaGaqRlY2cehdgUP8rcflF4vnUk8/lKlxaUw+nHEpAWvi5uK5/D1zRLhq1RfzCblehSz1jUnnkMI7LjLtf6zrqKNZRRM0ovd9ennW0d/deH9ZPIY5kyDs3hCC8hvYWs8VtXqqJkvv3Um6onvFgj1vbZwutiQYyjy545Lt14gNS3W0rE8nrJuN2PagR8+58rDe3NzFzcwO8K9vmbMGH1xmFG1/CpJSJOJgjyo8txvPtjXIcQor8tVatn2yRcVgG7W5fYhnWF12GDerxnVRmzN6uMmP2dpUZsxeSHTMOT44RkymDBk++i0fkc7HV01RmzN6uMmP2dpUZs5eatRQ/TfA8Pu65DwPll8b2ehY+x8wDI7B4b6bxehYiY89ivHaDaWUmjsOkuWIqae5HZszerjJj9nZ1xeGL558y3XihB57/aQuSc+XrKVLqHsx7VkwIDWK+/ALL9E2h0V5XN6+Nw9IbF2P3CaN9RoKlvZgSY9yCDdb2aUKNs4Qa3PgaFu8R60AbT0UfH4mT8N2yRFP7Brj9e1FP1Rf6+ytaTYPX8LtRruKa/jAEDdTjS5VVnVRmzN6uMmPybtR6SDUeL9PLejC17/Kiafk0XSWW3oT7LnumegUvoIvRXvVjUZlRXmHypXp+etbjpcqM2dtVZszerjKjfCk495zG2iloZWHJ8hg0b3aO4SqWrNivMW5hNtrfdT/6qLduVgymfL4NmW374Y2xT+CJYcPxytj7cWONRPw4L0Z8UlUW9NPOUiKbo3eXukZZcWQjdksCsiIaoW3T4qYpBTi8egVWHg3GRd2uQMtSHECq0PHlpDJj9naVGbO3q8yYvV1lxuztKjNmb1eZMXu7yozZ21VmzN6uMmP2dpUZs7erzJi9XWXG7G0aqM1wRF7OcqR6ZjwmL8XstQKTl2L2WoHJSzF7rcDkpZi9VmDyUsxeKzB5Ib/FFSI8IhyXtwhFoPzxYFH4Z3wh5u0NwKg+UfhrfxbmbNQvSpTtOzQKQNXgAqz8x6W1L9XjSxVUbdoJvdpGWuPVmuJcddik9vno37kR5F3y3fEqzdHE2PFOSz2mFcpyGU/fGod4+UVRjWa4qk24Xt8UD4huAe3ob84R7Nmvl7vjMm8g66pyd7xhc7SsH6x7rUAvR0AUzjOOcBSkHEdykbiu2uMrrxV4vEJ5S9ygaPu6aHpRXQQZ5eZ4TTEB1LZRBWk4JPa37HGNqtHo3asVIsXK9cTD0LKh2rpFoWO/9mgYao4HoXlDeVm1IDMNYj9KC7rjYh2dL9aRzKtyXU3rKPU4jhWJi2T2AanIlHOasKqoa1k+FTdUeakmnOIltTfH9YwHe9zaPgwdH5uHVT+8gHdXL8GHt3dATTlD1uJhqNHhfox9pYesqZO4DfuShKr2JgbefD2aibYBwReiSy/PaRxDb+6HhnLo1eiBfjcahViNOHlYxngc8zJMFMtQQ/Yjq4nlq9neeRn0uK7q+SXKa3zkdQGWawTMOgjT5FkiRn17e81rBR6fs+Z13HiL6Rvyzq9hxss99C8SjHrm9tp1Rl4fXyZ9GVR9qcU9vtTUhdPwhvswVgM8f2c/MQ0UGHF3ewv3Y+IXL6BH0zB3PKxZD7ww9Vs8bprXzFq4GkmqvVSZCYjBG16X30iviTVitLMs/98z8dFCaXTunzQDYwdciJrahlD8j2yGvm98i2/v7IHHxQT22NYP0U/s77jby4xmDO6diO+e64Hm8osFGa/aQLSfiHfdE2Txum/cBjks3e2b9cPE+evw7nPfYtVssQ6a6dceaXH5+C+/hiekN1i2+5AnLjNSldfFij1u9lqBxydNs40Hldzr1TYeZEaq4d2I9fCtXA9yEyfjYV7Wg629Zk3ejj1uf3zNmr1WYHgDd9zIu+OGFtdes8pL1QpMXorZawUmL8XstQLDl4JrunfWbnSwfOUfRolvyDumyTb9+11rlFQgifPxn6/jUPu6oXigrecwR+Lvf2ILonHrrZeiutzfkQRGo881zYAtu/B3JblzWnJMjHbaWftu7dxnkxTL8Z3YeRyo1/TCYutnbV6FX/bmoVH77ugSXdzkpygVOr4MZdzktQKTl2L2WoHJSzF7rcDkpZi9VmDyUkw+UE575MxHnZumvF0re/xAOhBcNQSNqgdpPivXhYl/Au3Eh/e4G6pi0MXV8PFvGdh9OE+Lh1dxiZ23ABxK861/T1z7r1ElQGxNisRDESo/vCVyLReJu1Ar0jhNSuKOZ4kdtUytqEa9aFQ11dfjUqNQu5p8A+chPd0Wlw01rOXuuM3DlY+c1FQc3rkNCdlqqygoUs9be6UiaXiJG3hvr6sWFxONtAN7sTUx23Qo2RTX6uulMhNoby80JFg/VQyihyryadniqF1VnzBJHNorr2sBclNTkLRzu2kdOdWTYvJHMrVz/EPCIhHkFLeo9t+Ecz3v7YvGrR0WjTtp00Gv4vHLxbi0lcs/YRHmj5cs7c6B7rjpwXSrlzds4LmYtkZEmCgz6qv3hjzRzNSPjDcd9JpYhlC9nlGuVB6t9JAtlsEad/dvffIOyMpSvLS3acqiF3Ft15ewVE0oOj+PxWInuUu1YtprFUvAXN/evojG4afJnwtj0P4JDLzaup6cn39TNKhti0ut1hE9btZraCwS2wBz3FCfMOqb+z+0LQaeY0oDcM0lNSxxXZvi9imL8e5t7REl3uxF4yIpmjZEVJF4AzQ0X94gyqxxoVEd8PjY29FUi9nah4oJuxBFYr5+bZE7blOZtWCP27xFhZSIUztNZdBArIcaReI+rAetzOOtFI07qbf4ec3OQa2aptdXDxWp57V/PSuSl7ihZY6Xgqphobj3zkGYPW8xYv4wHRUthn/EhGbix1/jput74twmjYzSCiIrFlM++gvxVdti4LXRRqFO/MEUIDIYqVv/wlp5TY5Korg6jiO5MvzGzaENWLInG/Uu6oZOxZ9H5iZtdyJSxCd005amfSQ7ot+5G48ht/q56NZGP6ujNDiNk5M2/gxl/NTFtWtq1FRHnwH5p68SUgWFQUHIKdT9p+vzsfZQIUZcKnZGhR92dXUxhQvA6J/SkC4mPAWuAO0OWyHBetzen3cvksIxbq4gcIqbq7jj6dDOWBKk7F2F72YsEGl+Ef39iH7ebnraUef+pDHKLXHpC7NxeNt6LJo3H19P/RnfzVuOn//aiTUH9cmUhrt+HFY4PL7U3+QN9d39y0YSh8dzxwTKW+Ji0nBoD9YsWYrvf5iDL2ctxYwVsVizOUls2BTm+rrVKeHxJI5xUyWneGGOWEfrxDpaINbRPLGOfhPraIdpHdnq29uLP0flha8IRkStEMe41YtkwR4vo3fjJW73SRsxa8pTGHZdL7RpLL9BDjK+UQ5C46EzRQWFrb1mdHRrxE3l1vomjHJ3PGmDWIanxTL0FMvgeXypjYfarspR/ZnbSzU/riO2+vb2bp+D7Z/dgdZ93nAfoWlw47tY++tYXCPPoihS3+R9wVzf3t7ubUc+5A0COpjj5vqaMWGPa74GajTUojpiwpZtiRvqC6b6qn3c7mLGi/zjkxfJTJG4oQppzeVCAwJSELd8GsaPHISeV7SwjKegoG7Wu4CJRkXbm7wde7w47wvm+pb2MmiiSNzwCq1MJl+XxyFeCj/iwbtw2SXtPXGJKa79Kc5LiouX15eS8887Fw8PG6Ldujnmz+InNgfiD+FDMaHpcXVXXHu1+TTAiiAbG36aj7VVa6C2mNzMXBJvlEsSkSwPS6YdwJK5SzHTnFYeAqLCUNX0PeXpIRUb/9qPtAAxOUnegF8XrdLTXvlDpXk4sFHkV+6WZ4maKMCBo+JztmoU6nudq2RiY8x+5Mi7qJ3Yj983m/ZdfKW48ULv9147UqN9G6TNdqQq75n5+EP8suggnMgLxISYQryyrADPLQH6nBeIq84Rz1TEOzcLwaBLqmHF3gIMn5GF91bmISE1AB3r6+1L6t8TF0mheRnQ8+76ZpziUhXmuF5SPEHBCAkJRq0aNZ37Ux2Jcks8PhazZ/6CnzfEI15sSWrUa4yOHTqhf9+euOviWrKhjqrvykOm8WNX9iTvVOzpXzbSsTyeiitksTmen4R1P/+C75ZtwbYksUDV6uLCC1qjV8+rcNugC+DZ5zLqSzFUx8vrY8Yxrv3R0cplQM+7xDqaY1lH0cY66mVaR6q+t/GRgjR5mCY4FFHyutIiceWLrj8de1x5PevxJcTdGF6Kpsp72sfNHYVujTph0P3j8MWipdjmPs3JCVt7zejo1oibyvX6esiCVi4D0JbhCp+XQaAeXz2eFJEa3DbduC5A/RK/6Rf5tTQdtzf23l73KVj2/LVoPXyq+8YFXZ5djC3/ewIdqqn63ts3MN/FrMjjSz9DLENxj6+r8hsWTTUd+bgP99/QzBK3tNeMCXtceTv2uKsznve6/Ia+KHbknPq34BA31Or1rNlbKBI3VCGtuTxtPcb1vwgtrr0DT/13JpatKf5CbIm9f4u3Y49LsXhPXB8PDuvPrXI8eGsvkpkiccMrtDKZilk+Cw5xQ61ez5YYlxjljnG3N+ISzeuhInG317OljpeBli2a4cF7b8MPP3mf2MgJzQf//QpXdr1UuwV0xZON+JSGeOD/HsXDvWsg/tef8Iv7BgANUF9+QEa2xbCXn8EbRdJwdK+j1zydhNesiyb1IhFq+JI5hGQ5y6kWaVyX7ES2mAhFo8/NV+Ny8RwTNq/FntLOa8zjwz1e9KzHM+6v8TPm7mf3dgjAVecGYtZ24DOxHbquRRDGXBWAkGA9HhQUgGd6R2BQx3Cs2l+A92Ny0akRcE973/r3xLX/Opov2t6CQ9xSxRzXS1CvZQ8MHdwPd4jkTXtcWMW5P9GLpVxq1m4sWrUXyblA1YatMfjWfujf6xK0vygatWtV85wRJHG3a4W+Q2/CvSLdZ9O+bcz1ZCMd3dseXyHynvJs7F32F/5OEbOj0Lq46vobcNuNXdGlUwtE16+BcMtW0PM4SnVsj6PiZhzjpkrmuFhHi03raJBYRzf16oSLxTqqUyvcdDqc/XFt/Z/IQnYhUKVqJCKc4m5vKhfiwR4vqX3RuLXDEtonz8KbN00yjkY0wO3/WYU98oLswkLt9qxSE74bqEV1ZEdSjPamB9Nt0XK9vhayopWL+skz8YZpGYaIZZAXhavHl3rQsgwC9Thu1bIO5aWMZ2zHF/dchJ5vuY/PYMgnW7D4jR6o6djO1r5IeTnjOcswy3yDgHvFe992pEhXLatnzNjjmk9BinnS2AAIs8Sd1Pd48xZO48UTd1Z7XCQzReKyQIvo2OIbPh6Gp+YZT7LzC5ix9RgyTeOpoNB2wbzA3L6I2rHHRbL6ioqLZKZIXPwx15HWFtfVU26laNxZfYzrRd7j9nI96z3u1jLGy4i8dbOc2Hw/Y16RiY2a0HS+rAP6X38SrqPRCEP3e+9C+6ri7Xltf1xbIwVzf1yKE0a0detoIDUWq8X+TuUhD1kn5E1fJFFoeeUV+m2gzUm7ICwYTdqL/JUtPKeCSwoykC4/fy2nO9uJRCex71IvKAwtr2iGevnHsDpmrxHzDcdxIpJzOeO6+k/cfU2Nv2tUqAvfDgzAFzcFYMrNgfhKaJ1w8SxN9SJCA/DxLVXx1a3hmDIwFNNuCZKXWLjjvqn2X8cx7o7qOMQ1VbjL66Cu8Q5PPprgvZ03dVM0fmKLcQOCiHNx3TXnIcJ0rYmmQtyYy31SkTS8xBXm8mO78PdheRpdOC6+ugua6yfVe+LmdkX61QoF9nJ7O4Fj3FTJVJ4m1tEBbR2dI9aR2NgGeuvXVm7TVLFRLxBvq7CIqo7xoqr9N1FS/ZLV2mHx9bM3rIbnao2uuP7mzmhaTWRN9TItdzkVheZ+TA+m26Ll1vomjPKsDTH4Qi8RdEG/m7ugme2alax8W2OjvEL1yFK81Ls1hn3jPj6D53/Zgm8euBBhTvVPgaYsmIrX3ROQBnj+jr6IKq6deb1jHxKPONRLW4+l5rP5el6IhuZ4ObX+BV3guU3ETCz9K8Wx3voJPdHz8anYKm9DWCQukpkicfHHXEdadzwOGxaZdkT79sOAVlEQHxFGXFfL732IDjztHdSOPX7SVCQzReLij7mOtLa4Xa14r1cm1bMl11OqZ0uuV1YtB3JiI39sc9p0z8RGTWgu6dgWt9zURyvznRqoLS8NzEjHiRIv5A9DlNwOSwKbYcDgC1E1biW++1PeMlJMCzr0wY2N8xHz5ST8GBsvto+iMCcd8bFz8EusXqfCyEzCnr+3YatMR+WkpQAp+w2/Lcn9uzMHli7E1DkL8b918l79ZeBwmnY6WpXA4s6dC0a4mglFtsGVrcKRe2gbVu7z/XbajuOEesaofkGJMcPR1I997WoB6NU8ENc2D0Ck9tWjNS61akggrjovCH1aVkH9SC1giZfsTTjGtT8mHOKaKgwv4s3PqasdESg4vAfr5S22tHqeeLHejeFN8dx8YwsaVlVsVovG4TJvEBzixXqF8oba4+b2ObnGD2XJX9s3ys1xywbfHlcob2iRuMAxrv3RUV7896yjcNSQ5eb6Ut3ryPD2uOazcCJH9BMUhppRTnEnb8ceL6N3Y/ji6rtZjZ8XbkSKvLZLxguyEbfmC4z/r/M1EkXbSxzKZdZd34S9nkaMWIYN2u9HaaH8HMT98blYhqLX1LjbSy2vPzgLd1zcE2+oO7o2GILJW5fgtZ41neufEh+HmZM90z39BgHGbeGKa+/mc4y8/w0s2y92RIx49r5leOOOOzDedKRmQN+uaFBcf6X1HQbikb4yr/PFiEF46X/b9XEl4zmJiJl4J254YimWvX8H2rS+AuP/EEHVXqqWN+H18Qy0MiPjzhssmI8F+z39Zydvw4K33jBNpCVGO6X2x7NT3POvUG/HHldqwilu9hYc4uXyMi+T8oZWWP3S+vLRtnUr3DN0oJjYzMW8hcvwwcdf47JLLsatt1xv1CgNzdD6wjBg91K8Nbfk0yEttOyHW9tWwZY5M7FWzsblnc5G34UBLbIRM+VzPPXMKxj5/Di8NS0OR3PTK/aWzqkHsC52B2JkipfneuUhYbfhtx4wrospQIHcqSwP4iNWzs0iI02nw5dAjY4X46Kqedi5bgO070l9wTI+DKU/Y7yY1IiRaMxw9G986Iv3Jhzj2h8TDnFNFYaX8Zbn40LtArlM/L3iT+w/Lt+lprj4X3B4L+LlnU0s/dXQboErSUmO18tNcfepU2kncEhuedzxPCRvWonvN5m/WTHHS/aRYepuY0a5KR4ZqmICc/tAtURpSNovNmNGfakFh7dh0aztOKRXEOjlnvYK5Q0tEhc4xrU/OsqL/551lIpDcsvqrp+L5L/N68goN/enfEaadr1RQGhV7W5NReKO3sqsoY30W72qJC9qtvhbMO2AqGi0T/z+Flu8Ee6YrvelMeYKWzwQb8gzq4z2YU0vgGf/MxHThndC7XCjbkg4WlwxDHE3voZHjBrym/c7zhGxf01Forb82h8Ter+Wcpl1er5GvWKXIVQsQ9dilkF2Yum/jP7ANkwzn5KVOBXDLgp3WP9WP+h7MVKd+qsIv8HhBgHF1Vfezf0YGD0JPZuL52Esb7XzeuIl+bs0igaPY4T83Rpflsdn3wz3jX0X7kunE5fijVta66+pXH/hjdDtUc/1Sg16jsCAy0NN7XWx4PXxDLQyI+NqiGadTPesXvM6blDrQDx+tXqtccOH7THiFdOvxxvvkzfWGP3aHq9ZiwHSGLyEbsb6tIyHihyPbm/HHldqwhwXz929fNryXmG9QUIJ2wftj1QffKDcsRBs2boDm7cYyZy3+V279dOGtHZleDzffPnp2L61dle0XxavRPu2F2LwANOMvZS0HPwE3v33o3i2dxOjpAMeGDcGE+/yjMUGvR7FxHGPoo/lwpIIXHLPC5g49i5cYnzWo0ozXDvsCUx44wm8Ifp8498y/yiGirFv+uQtPw0vwb/uuBn3O6VbLjF+IDMITa/uhSHX98aNncx3qrTRprtodx26mG9Uooi+BENEn33buj+NLbS8Tj5md7Q0vEZQfXS5RV8O4yfoSsYyPgylP2P8GXP3s1PnRVI4xs0VBE5xcxVLvC4u7XkBGsqLXDIPYen8BZixIAa/r92CNctj8PP/5uHrxbFYum4Hci391ce5xq/eZ8WvE21WY9ESUX/eX4gX8RotG+m3L81JwMJZi7FwVSzWr/oNc2bMx5zNx4Dq4fov7Uu0/nT19O/dh0SE6ROCrESs+CUWh0zxUHfskIhtFjG9HPWb6b+1gDzsWvUrZv3yF9avXYtf5F3ZFu9EPCJRw7NA7v5kUy2v4WX5zDjGTZVMcc86OiTW0SKxjjZjw6rlYh0tsK0jvb67P6O91Ny0bDEFCkC4PCfYIe7sRSoVtval78Da/vyheO0//eRlFY40uOZdvPbYCPR72FZDtLU/vm5lwO10ZFY9nhmjvDzL4H481X+ZvUhlQrUv7+PbfQ6WzRhnukHA/bj/xmamuJf2mlE0xZB3fsJrnQ1rp0EPvDZzLK6R70Vv/ZXVd3gCS9Z/iAHm2w07IO8oN++jIWhmby+TmSJxQxXSusvDcM0jn2GEt+cNMemaNBIv3DjEM/FSmPr39CeX80nv61Fhqm9vX3YvkpkiccMrtDKZvLT3BUt78cdHf050Iy29OHY8nn/1vRLThI++xKWd2iFE/lK/Q38V4iuIDu0uwv89cg+G/Ku/UVJWqqBqZA1Ur2q5krV8hEaguuwzMqJiJzOlJSgMVWuarz+tpBQ3Xuj93ht3P9OTFPqSvEgKx7i5gsApbq5ij0e0xHU3d0XnenJCUIC040ewa+dubEs4gsOZBahavR4ubd8MIaq+0bZh505oY/w2l2wTnyTqnziG+EMiXqsNrrukHrSz7XIzcWj/Xvy9PxXJiMKFl1+D2244x/i2RWD0J5OUEn3z89BSO7pUgJTkBOyXj6fiRWIiq8Wqo+PVbdFc+8YpT4v9vTMBCWlAvWbtMejma9CmuoxJTP0J8aw7L8tjxjFuqmSOa+uovmUdbXRcR0Z91Z9q78rBkQztMA0iajnFvXmRSoWtfek7sLZ3haLDyLlYt2QyHr+ni9jd02nQpi8e+c9irFv4ODqERqHvW/Pw4W0XeiYeehd6xkC3KuApV2V6fRNaNRnztgz9bMvwc5FlUH27+y+zF/kyodqX9/Ft/sh8TH3TdETlydvRVw5AFRdJShFvfyLVOuP5nzdjxiv3oYuaYLToggEPfYjF6xbjee0Iiam9ka8IH3rxCMzYchC/f/cuHhnkeV3R4EJcM+gRfPjzHmz5n3httTvK2dvrVXWc4jLpUQ2jyB1r3Bcf/LwFM95+BH3bqBHTDF3ueQ0z/l6LyTfXh+viJ/DN7MfR1/I7L0Z7kaS4vVyPs1fhw4f64kJvs29zfZGklN+LZKZIXOb1kIa7zEt7X7C01/O++MDAQEx879+Y8/2nRppsyjv7l54a6bW/ivByR0f+hkVFcF7zc/QdJ+KXyHGgvX6m8aHy9GeODygoKNR/Ul8WUCuX5mWKCcoxJCZlo2r9uqhdMwpV5VcxXtvJH4s8hsMHk1EQ2RD16tvqF2Yj6+hRxCeLffjGdVA7Sv7YoileVhX9puyPxxExAYhuXBdV5d3LVDxfxP4xYtEiZll+tbypQO36qFcnEiHyGkFvj3MqVCxvVrKxjqLFOpI/lOpTu2Ts2ZWC7Kq10LppzZLrU6lUKvWkavKxVERVr2b6UWaiSEg8ikYNKsG9n08RuXl5SD2Rgdq1onweP1T/UzGpkRdZ+FibSqU6asHheGw7loOqtZriPO3kXt/aUalUKvXkaHqGvLA9ANUjS//L82c6Z9uk5kSaHAsuRFSTY8G38UP1P/V+9zO7Mm71dmXc6u16RscLcTRL3tgyFNVqiwlNkbgUm7cr41ZvV8at3q6MW71dGbd6u56h8bDQUGSIiY38fSJy9iJffzkO5HhwGieVdfy6lXGrt6spHpBfUODS8gZqvqOgp6f34OxTsHfHMWSGVEeLZnUQpoc0KqZ/D/T09B7o6UvyGRlZyMvP107fJh7OpiM1ycdTEVylCqpVq1rh44veQ6XwvKaGSi2n5p5A0vFcIKw66kfJO/nY4lQqlUo9bZqamo5CVyFqREVqt64mZ8ekRh6hSUlNQ2BAIKKiInweL1T/VV5TQ6VSqVQq9YzW9Iws7ahNtWrhCAsL1r65D5CnrZylnKmTGnmXM3lkLjs7TzvlTB6diRDJ13FC9W/lkRoqlUqlUqlnvObnFSA7Nxc5ObnIFzu+2m1gyRmFnKdWERPW0NAQhIWEoEpwkM/jg+r/6r6mxoe6VCqVSqVSqVQqlVr5VDtSo1Cl3mCccca9wzjjjHuHccYZ9w7jjDPuHR/jXu9+ZlcF44wzzjjjjDPOOOOMM+6B8UoQ5zU1VCqVSqVSqVQq1Z+V19RQqVQqlUqlUqlU/1bLNTWEEEIIIYQQ4mfwSA2VSqVSqVQqlUr1b/X8+KZChRX09PQe6OnpPdDT03ugp6f3cOo9j9RQqVQqlUqlUqlU/1ZeU0MIIYQQQgjxZ7QjNUaeEEIIIYQQQvwO0zU1lgM4VCqVSqVSqVQqleoXajlSo0IKenp6D/T09B7o6ek90NPTezhdntfUEEIIIYQQQvyagPz8ApdnikOlUqlUKpVKpVKp/qXGLZ09pS7xj56enp6enp6enp6e3m98kbuf6THvMM44495hnHHGvcM444x7h3HGGfeOD3He/YxKpVKpVCqVSqX6tfKaGiqVSqVSqVQqlerXGigz2jlpVCqVSqVSqVQqleqP6j5So1AzHoUfe/HcUFhQiEKXCy6RCPE3AgICEChTUCCqVAmq0PeHhvD5BXyfkLJjGaNBYoxW8PiUntvyygm3T+RUc7K3Ny7hc1GAfJEKREGhVomcSuTRliCRqriCEBIgcwY+vH5n5N3P8vMLkZeXh+AqVRAkBn1gkKwh/olqcpuoqVb79HlCfEF+iBcWyjFdgLz8fAQHV9HGtRpR5Xm/5JneJ3KHJDBQvkc4OEnpKDpGg8WYChSR8o1P6WV/eXmiT47RSgm3T+RUczK3N1nIQ7aYzpDKRRiqoCqCi7xejl4MDFmqynRV2MsrebzQJTeCBQgKDNQ2rpV1A8jtMikLcmOem5uPgsJCsRGXk3WxIS/F+8P9PhHt88QHgnyfhIRU3vcJ8T8sYzRYjNEAMUbt41BhLzfFOUb9D26fyKnGcXuj8DK+3JjKC8S+Y2aAPDZTqIVI5UO8ugh3VdFUw8vraxypUWVq5uNYt1LH5aCWg1t9U+TcvnJooMwQUkbkt1NyrIfKD3zxwe8ZXyW/fwoKC7S2cmdB/0aVkIpHjVE5zuTOqa/jU8ZdYluewzHqt3D7RE41ztubouPLafwVin/pyONpZn6A3JpEIFioebtifX21V197KTXVjcfbVTceb1fdeLxddePxdtWNx9tVNx7vUXmERk5oqhgTGkllVULKg/ywlxvvXDHm5aDSxpWmuvF4u7q09wl3GMjJRo1ROd7M48/470V1I8c1x6j/wu0TOdU4b2/sqhuP1zUD+ZzQ+AnydZKvl/n186hutOmOnOH4s8praORhRzmh0Z+h/iQrtRJSDuRGXH4jJS+iLc37RLbhDgM5FbjHqBh35nFYnMrxzDHq/3D7RE41ZdneZPOUM79Dvl7ydfP2uupHalzyj/xvqJ957WLCYH1CI/6LuK6V1RNSEejfTOWL8aUPrJLeL/J9ItsQcqrQx2ie43h08nI8c4yeGXD7RE41pdneyG/9eVMA/0S+btrRNdPrqV5f/cQ0I0nxNy+/CdKO0ATI8+msVHZPSHmQF9DKb6fke0C9H9R7w+5lHVmXF92SU4l5jJrHo0x2X5DPMXomwe0TOdWUZnuTBzEuid+ivX6m11OK/KNfUSURqmX9zMv71wcGBsFVKOZpskxTkSzerqc3TkhFIW91Kt8D3t4fyss62u9IEHKKUWO0uPEptYBj9IyD2ydyqvF1e8NJjX+jvX4Or69xTY1AU934k5c/yCV/iElM0WWpoXZv19MdJ6RikL/dIN8D2pDT/8j/Rbz2PuFt98hpQI3RkrbnHKNnHtw+kVONr9sb45YCxE/RXj/T66leX+OaGlGoqfzjX15L4pm4836QCKko5OF2bUwZ7wf7+0N5meepHeR0oMZoceNT+Qodo6K/gr3bDENOB9w+kVONr9sb41gO8VM819QIo6nutd+p0av4J1lZOQgNq6o/GbFN1J6g3DY6qIrLol278r3GzeX16wUhKkoGnOMltXeKy3saEFJRpGdkoWrVUMM5I98nEdXE+6S85BwHDi4CkmKAlO1AjQvEm6QL0LgXEFrTqESIlVM6RiWuQmSMfx4B4REIf/hFo5CcDk75a0/OenwZcynINnLlIzM/FzGH9mJb8iEkZqSiZlg1tKhRF90anY/aVasZtcjJoAbCjJyHgPx8P5/UZOcgJERuDE2zBm+zDMP/vioPU6f5NqCbNwvCk0/Igel7/yX5kGDpid9SkISdsXlo2DYakZXgNHBtAx5Wwk6DeJ+Ue6dh/evA3mlAVKSYmWcB4aIssxDIFY+degJo9RDQ7jG97tlGQQrWfjIB7/0ci4SQ+hjy3Ad46LJgI0hO2RiViG1sxvjnkLv8Z4T2u5WTmlIS+9nDePe3K/HUN0PQ1igrD6f0tRdkZ2dj6tSp+OGHH3Deeedh5MiRuOiii4xo5SV3xwJ88M5UzInLRaNO92D8u33RyIiR0uHLmEsJKN+kRk5mvt22BnP3/I3cQufrc66Obon72nRD/fDqRon/sfmnh/DK2isx5s2haGOUIS0eaw8H45Lz6hsFJbEDU56bgJ8veQzTb2lllJWfGi6nSc2ZcKQmtHQbw6++yUL1iAAMGFB0hZhJSirEv19Nx0cTq2vzkYrC9yM18Vj+4QJsN5w3LrhhGK5uZphTTWIs5sycjV9jDkLs1gJ122LQ0FvQv5Ovg93/iP3wVgyblYc+z32DV3qd/m9ifPlWqtzfhH5/PtDwXKDmTn1ybkfeACOpnvwlM2DAWr2sLKTGYsbXa3DUsM7UxxV39UfbKMNWAhJ+GI2Bn6Sj//B70fucaqjTqiOa1jKC5NSMUYmY0GR++G/kLJqJgKhaiHzzCwQ1OQ8FB/Yif9MfCO0zWF5JbFQuDxmI/WEqVh02rEGd8zuhXdu2aNnY9wlt2sY5+G5lkuG8UK8zht7aFpGGPZnEvj8Qw+b0xeSlwypuUnMKXvu9e/di4sSJmDJlCo4fP26U6lx55ZV45JFHcMsttyA4uIK+bChIwloxBmYs2IkEYaufczl6D+xbts++rDV4b8A7mHNOX7xwbydEVm2Mru3P3M/Qk40vY648R2ri047jpdWzkZR5Av3Pu1g7SrM/LRnD23XHjJ3rkZmXg9suuAw/bP8L2YX5eO7Svri0QVOjdVnIwNqFU7Eu2bA2IjsNwZALTs6+yNpvBqD/sn6Y88UwXKKVpGD+W/figZ3VMOaFbzH8PK2wBGLxn/textvXvIqEOytiq6LjdKRGv/uZPyeB3J+SF4b5quK/1tSX+mXpvyT1nQwk/Lkeq1WKWYGpsxZg6lJTmUgJ6Ub1chOPGXcOxOOzSviANUhY9A5uGzIGb/x8GLXbd0TXyzrikqrb8eFTo3HXuPVIM+r5K7m/TUDnHpPF29FKq6sHo0+X/hjUqRIdWpbDqrhUHmIeB1pcCNTa5TyhkciLfBseAZpU1+uXldwk7DSN7dW/LcYUMeZ/+s1U9ud2JOca9SsFKYhdHS/W0c2459YrcUkXTmgccRqX5lRexLY1c+IrngnN219pExpJ9vTJyPz4DRTE7dB8+UlH3MoFmLJ0r8jp5CZux5xP3sZdd96BYZ/sgK9DVLbzjO31WL5Q9DtrMZabylZvT/K5v0qJ0+ttTmWkoKAAP/30E3r16qUdlZkwYYI2oencubM2uRk9ejQiIiKwcuVK3H777WjSpAleeOEFJCTIaUg5SI/FB0Mexsjv4hBqfPY1TV+C9556GLe9sgZe9j29syMWc8QLPOiBYeKzRfRXigmNt8+psx6ncWZOZSQlJwvP/z4LhzJT8Va3geh97kXYfjxROyLTt2lbvHB5PxzLyURESBg+6XUXmlWvjVfWzMVWMfEpO+k4sG4+XlnxGxZvXlck7TqaZ9Q7FdRAm549cc/lQ9C3sVF0unB4Xc+IIzX66WcCub9lfjZe/NffZCGyegAG3ByGEykufDElU48bXHpZCK7oEozcPBf27yvA+ecb3+z52L8bLz6krF8UJS7A40MmA6P+i/EDTsa3OGJD3WMM9vnQf+66ybjrqQVAr6cx6enOqG06DSs3djGWhXRBn1b+fT5p8qzncP2HzSvsG8uTxUn9JnSbGG97RTpHn+gmnwhC9fBCBFfxDOzs3EDk5AUgqppxCH5flNjBHwVcOEz35UGMs85inA15dyZGdzLKKh1JmDPyYbyBYfh5Yl/UNkqJh1PxbX3mp28iZ+5UBNapj8g3vkRgwyZGROz8xse5j9S4CvIRECg2WOU6YuP9NU/44TkM/CQeD/3nG9xThg1HRR8pKS3+cKQmPT0d48ePx6effoqDBw9qZaGhodrE5dFHH0X79u21MklGRga+/fZbfPDBB9i6datWFhgYiOuvvx7PPvssunbtqpWVhp2f3Im7fojG89+8if6mHTt5CtnC9O7oX9ovvMqxnfOXz6lTyck8UvPWnwuwJTkB8oYER7LSUDu0Go5kp+PzXncjOrKmdhTnxdX/Q0hgFTSqFoU/kuK0L7PrV62OL6+7B0EBgUZPpSEJs15/CCPE9ubvF/qhrlF6Kih6pKYsnLojNUEvvzzm30beL8nPLxAbqGB97iD+qF2t4vzfm/K161ouaFUF8nfB0k64xIbPhUOJLlx8cTCaNA5ErdqBCAoMQM1a+gBcsTIX8rTJqBq6N/dnZH32Zb4df/pu/PLTeuDyG9Dnwgij0ERBCvb9sQzz/7ccsQkBiGzUEDWM1zw3cQc2xP6D3GqizPTZkftPLDZsTUFozQLEr1uPFUtjkVT3XDQJSEFCfDYim9RE0U1DPGa99CHm1xyCj9/qjUa25xNUvzla1AkxnAn5LfyihZi+YBX2HY9A/WZ1EG56f6ftXo/YY1XRqJZYaHla2/dzsGz9YaBmIzSq6dBfMc9XkntQPLe9QJ0GEQgy+luXGY225+jrLvfgDiyeNwuLl68vsjxpu2Pxx5qVWL6rAM1aRiEn/hCSA+ugfvUgvd8tYrnkzpNtgiqfwy8z52HZqjgkR9ZGi7q21ykrCbFr41Ag2wZmYN/yOfh+nvP68JXcvHztB8eKQ75PQsoym154PdBcLFRQHvLyAzDwhfPw+6YI9O+WalQA/vVyc/xvRRRuu9Y45SMsC9j0K3DxU7ovD4fW47NFu9G296243HaCuXm8pMWtxNxvf8WByHZinYsBWZCHhO3L8Mv3S7DiT+fXolTjTV5H9as+dnfKsVbfeB9pj/MnVi/+C7E5tdCqYRBScow+DUoaE8WNU+tzFP38JPrZnok655yrj/UCMYb+WKK9B3Zk1EeTc6oj1GEMuZfB6flZxqTIz56DWasy0KxjtHbZFMS245c58n2yAwmFEWjUSGwTSjlOT+oYFeSJ7UDWZ+8gsF4jRL71FQIbRBsRncDqNVHl/DZwZWUgfcxDKDx6CMHtLjOiZSEDO+b/jJXohKH9ztfXk0HkeRFImbocu8+/Gn0apWDtht1ID2uI2vb93GNxWLsxDrnVrdutw2t+wNwd56P/3Z3g9NWSZ7slX4+a4vWwv+ZiuxizFSlyWx+itjH7Ub3d+aitVq987IULMGfxGuzLqCXGjec1tTy+L9vhEjgZr/3w4cPx/vvvIy0tTdu5fPXVVzF9+nTcdtttaNCggVFLJyQkBJdccglGjBiB7t27Y+PGjUhMTMTOnTvxxRdf4MEHH0RkZOlO7Ev4/VvMLbgRjw1tZTklMKjO+WjVyL7tKGFbJF6L2NUrMHfjYdSOPh81Mo9aPls8r3fRtsV9Til8f++X/Hnk3gYZ27Jzaoltlr1OCdu7yrK9yQ7IN3K+Iycs/9m4BKM6XouH212FqlVCseHIP8gTO4dz9v6tXWMjNT0vB6m5WdoEZsgFl2npJ7FeGotJT/OoOkZvpSED21fOw3yxvXm4+/nwPmVOwa6/t+BY1UaoLbYpR7bOx/Rfl2PjEaBW3UaIcpjnpcavw4JFP2PFtiScyDuBhKRDOCBTbjjOiQpDwqYfMG3f+bj9pk7ua7xS/1mHdfuyEdWgpmdaIT6L/oldjFlLluOPA8cRFhWNehFqHB7GH7OXYVWza/DExfV9Wi5fCHMVfY2DXh4jJjXyCIKfJrkxDKoSLDZsuvdF5aQmLFRMai6sguCQAJzfsgpyc4GjRwtxz91VUbtOoLu+5PsfsvHbb7mIWZOHCy6ogho1PfGy6EmZ1BxciTcefA6vL96LqnVrImnRD3hv6hqEd+yBtmInL6hqMn59agxe/udcDO0eDW0RsmIxadgY/BDZE9cnfYzBby7HPlGcvOsvzF+6QqQgdHf6YI37FW99FYu2Dz6GQS1Nn8bFkBs7BQ/dNx5f/n0cdWoBG+f+gAn/i0OLK69AU+Op7Px6BB6eH4yL0mbgvn/Pw4EjydizYQWm/rQM+Rf3wyUNTCuuhOcrSVnyPu547TDatlmPpx6agtVHUoCmV6NnozhMeWw0Rkxehn1JYvJ2cB+WL/wZ3y0qwBU3t0XtwFh8MmgMPtwlLxARb0ZtXaxAcvS12nrX+n0zFufd0BOt1MsgdnqX/3s07p60DFvF4yQf2o5ff/gJ32yujp7Xni823ka95JV4e8Q4JDQ8F3+88hzeW5OIlEO78MsvC/DDxuro39e6g+QL2gZcXqhljDGnVOYdxj3fAHXTgP0ZCCwoQGZQCAZcmYKGtT0fCM0a5qJWZAE6RIt6u0RqKPb2M2oD5wwEgm3jtLQUM6nRx0tNtM+Zgrtf+AUH0pJQo8NAtDoyBU8Mex0TFu3C0WNHcGD3Ovz00wKsKGyHAR08Hyg+jzd5qsndT+KtP3PRrFkEElZMx4RPZyGnzY24JGgxxtz/CebLcy3T9mK5HCsBHfFAZ/Gu8XFMeB2nYqypZWxyQLx/JqxAwuF4/Pnbckydk4D21zbA6tdGYcz8f5C0fwvm/vIzfjhoen9LTMtwIKge6hxZhk8+nYGVYl1cJ9aFVk+NyeYX4Y/nn8R765OR5joX1/Q+H6HrJmPoQ59jZV49MdYPY/m0qXjvxxRcPlBsF0xvx5I4mWPUlXocaS8+ILatAaj+7jdiQuM5QmPHlZGG7B8+Qf761Qjp3AOBNcuygyHxPqlB4GGs/WYFUuR2un0afh09Bq8kidflStPrItg343nc91kw+t/RXmxzjEKB90lNBnZ+8hwGvTYDf+5LQ8rhf7By/gx8ufAE2vYUOxzuTfEufH33q/hF7GDnTH4aj/68H5kHo9D+NlFH7rj+8DoGP/MN5u8Qr/ORQ4hdOhMfzs9C9xvFcogF1B+/DpqF/YrHS9oO+8DJeO1r1aqFffv2aUny559/4tChQ6hdW+xon3OOVmYmJSUFkydPxrvvvqtNaiSyrpzoDBgwQBs7pSH173mYtXIXgi7sicsbe5/opW0seVsU+8n9GPaDmHAI9m2UnzWHjM8W9XrPxsbj1dAYW/HDlGmYu7MRrrnmXDHmiv+cKtV734fPo4RZz2HgC/OQHNEEjQr24n9iQjjpr+roI+poE7vSfgae5u1NNko/qZm7dxN2HE/CM5deh5CgKmhTpxEWxG1GuzrRGN3hWu1UNJkaVKuOTUfj8XHPO9GhXhPUDY/EX4lxOJKZjqublOVCeV8nNbvw7fOvYGZIY6T//DSGL/0Hx47vw9KYXzHuzzT06d4J9dzzgAxs/vE53Dh5ATJqNUfjgt34cdYPGPfXOiTs2Yw1aIt/XVTHcVKzec4IDPy+CvqoMvHaz3r3IQwUY7dJw/rI3jcf43/4ERuqd8f14jNTG59yUlOrNhqueL2E5fKdsACH1zgvP98lNiiuPJF0Vd6ulTOelp7pyspxuTKzXYYWlug//TzTNe2HLEt8ybJc19g30y31Zfrsy0zXE0+nufYfKHAtXprjGvHoCdfuPflazNy+NL7MHJrveuyaAa7HZiYaBQb5B1zT7xvgunL0bNfBfKPMle7aNOFe1+X3iTKjJGfDp65br7nD9Z+1uZqP+3qU6/J/feralKlZ7/3bOPHra67Lr3nINX2vUVASaTGud/sMcN06YZ3rhFq+/ETX7NH/cl35RoxLrBaNTRMGiH5FvZcWeZ6H0fby1zz1fH2+R2c+K/q7wzVg2HjXqkNGoUaia9XMda6D7g7FuvljkmuAeOx3l+vrRqIvj1g/hlfo/T7rmm3qU1uX19wr1m26USLYP9v1mHzeH2zyLLuxji/v87jryw2eunr7UqxTE/I9UNL7R9YpNSm7XK5frxYr4hyXa120y/V3Ez1fXPqrsa6/XC6e1P+MjsrB2k/Fehkg1qvhTWivz813uG4dPd21I8UolByKcc1enejKMY2Nv96+Q/QjxoFpNfg63g5Of1y8XqJtmlEgOBEv+jfycjzNHiHajJjvOmqUSHwdE97HqWkZ31jhOqqWUbyP5Vi9ss9DrneXeN6rmz6Qz/FZ18LDRoFAW4Y+YqzuNwoEOWKd3nrNKNd0VWaMyQE3P27pT3tew8TjWN576a6Dh0zPx0fk+CtufMrxW6YxKsj64VPXsRvauLIXTDdKiif3j2Va/fRxzxolZcH5NZfo25J/ud5dqW9LDn4vX4Pxrr8sT09sw+4Q63zSdsN78LbdyVk+3nWl6NeyfU5Z5/rPv+S20Lwcm1z/0V7Pe12Pfb3Xs80VuPsQ5Z7X9IBrx3bPa+rr+8JXTtr2SbB9+3bX6NGjXVFRUfIkCC21bNnS9eabb7ri4+Nd8+fPdw0ePNgVGhrqjnft2tX17bffunJySvtMTKSJdSzW++ViXd75zHeuVXu9vCd83BY5bef010psP/4w9R0v3qt9PGNL4m28lOa9X+LnUb4YZ6LeA18fMAoE4jP8oH1bU4rPwFO7vSk6/o4WZJQ6jVg5zXXnki8sZd1mvet6f/MSS9miQ9tcnaa/7lp7bL+77PUN810950yw1PM97XVNfrW3K+Tpd1xfr1/hmm1OcQdN9da4Xrpb1Lv7X64Hf9vhLj/4x2uuxqJ81B/HPXXjp7muu/sGUXbYU7b/K1E2yjU5yfAiLZwi+3vftVDVcSrb+I7w97k+2O+pczRpr2tPrvKlWK5SJKfXN9D7r67atXLGFeqLFvWNS0leUZz/bmoWNm7UZ/OBgUCH9sGICA/AX2vzivRXWl+hbFyAD+KiMfqJ/qZTwaqh7eCbcUncb1irn3KMkPZD8OR1wNR3vsPOI4vx8ZfHMeSJIWhbytPYc9PlN0M1oC5l0pF3apuMj91pDmKNM5SSF83GDFyJJ4d39NwCOag++g+9CrmL1mOT5W6IPfHkmJ6e5xHRCV27CU087rnxgI/PVycXXYc+iK6WMxLqo+uAjjCfJRBy2ZW4WuicTSXda86BgljM+S4eIb0exEPmc6nP6Y/Rt9bHvlmzsdpztpbGJQ88jXvae+o27dYdLZGEhGNGQSnRRpX44+39UyayDosVY3xPFyzeAGLsJieEYNCI8/Hlpw2QtC8UX7/fCIMfaYnDIq8Rarwg8g2TfkDPn0xSa2LQ/w1CS/Od0Bp0Rv8u9RFiGhuXXNtd6BpsKnKdeMnjLTfLuObONE4jG4v+jbwjpR4TTuNUIZbx6Ss9162176yN1dwew/BkD893+W27yue4Azv+0b1ahrb3jkB/05fXIZ36Y0gL8X7903pDkKOdBmO0qT8gTzx3XXPUcw+qhkYNvH9PWCwO49KjZSd/2wZNQ67opWlJBF8i1lNwiGinf2NfLlLjsDZmvTv98uVYPPDyYhxtew+GdNGPPDTq1R9X567E3N/ldtPgH1H3YDX0v9rXb22TsHD6SuQ2G4onzdc7RnXEQ8M7Izd2Kubql4u4SajVD6OHNDPddt7Ux53NPOM3KBoti1z/6MN2uBRor6/l9bZqWWnVqhX+85//aEdp5PU1bdq00U4re+655xAdHY1+/fppp6UFBQXhoYce0o7SrFq1CkOHDtVOSyszEW0xeup/MXFQcyRvnIHH778Tve4Zi6kxtpvslGpbZEZ/rSC3H5eZXpvGfTGkRx5mrC7htgClfO+X+HmUm6vfqCLfdEG6+AxvpC7uKMNn4Knd3ti9VlJqTogF3HrsEPrMfN+dsvJz8c22NZayZ3+fqdUfvuRbd9nM3RuQItqX7mZRNpIW44H/jMVgc/rN4XO220i80c1zCm5om64YKPRAqueugEe2r8ZSNEO7pqb1G90Kl4rPkMWxKUaBb+Tk5Giaa75fQZ36iHKPewMflqs0OL2+gdrqVetYqL95TWR5KZJTu+joQHTuEqLl5XU28mYCcXEFePmlCJx3XhDeG5eBCe9nIKxqAHr3CrW0LW2qaBLitosNTk3kHvR8uGrpn1xEIA77Eo2KcoP6yAgMSp2DB+6cjNWXPYh7zRvMcmG6U5t2x6oYxGkbKCBul9h61w0VG3/b8h2B2HAeQIJQD8Hu/WKdYETazmDy/flKmjt8YBvI88pnTcUHLzyBu4a8IyZe4k1pmWD5SGIcdootfv+unYrs6DZt11H8FRO33bpXeD7kDKpWQ1lPhHEjx5ehGnZfWmq3BVLEyjwkXsgc+Xs0hahVO0t0F4DvN0Rh2FtNMWN7BPJFSd2G2UC2WHn54sGSRP6o2NDW72x0dDJpi1Zebmcuz+2e89lHGPPww7hr7GJRIj40i7y+JY+3ptffjUFRK/H4kNEY8+VK7PNl4lnqMVHMOC2yjAb203UaR8NyybOxDLVzD1vfJzEHkS4mgWvj9VNeFJe0Nu3oakSjz/Ar0WjpBAy8X+ywLY1DWlneHwr7eLT7MpK/Zb12t7OASB/v8S0m3EHRzVCYGG/dSSsLBxdjzAtjMVJLb+ODRXm45P/G4efxfT0TglpXYVCvYPzya4x7QpAQsxixUdeiq68/n1JwEPvEpKXl1R2L/HZJyEVtxeueIXaSbTvUbVuhqXncFNNHUUp+X5Qa++tt92Vg//792sX+zZo1066N2bx5sxGxkpmZiY8//li7gUCPHj0wbdo05OWV87UXO/WXPPImfv75C3z9dE+0OrJefJaMxl0fxeoTABO+bYtMGK9V05B0bLK8d9cjWTwu/kkq/g5rpXzvl/h5VLUzBj3QDDu+eRbXP/oR5qxLsi5/GT4D/XF7U7VKCJpVr4N3rxzkTmFBweh9bmtL2UPtrtLq/1/Ha91lPc+5EMGBQQgszxfb5w3D31/MQoI5OV14H2x7FcKqoYaRVdStfx7qinFo/rIO2RmQ05mosNKdBhza4Wa8d85hPP/WHRgxZT7WJtnfAQY+LFdpcHp95Y1Y9WmOkfzNK0zPq0wa3SQIXTsHo0Dsu331dRb2/1OAx/6vGqpFBGDIkKpiAwhUCQnA6NHhqBoe4HO/3rQiSY6PE3+3Y85Hk/GBJS1BQuP6sFyzXzUaTRvLL17y0PXqsv3uQe1mzcXGaAf2qW+ENVphyDf/FZNBkZ7raZRJkpAg6x2JwXf25fs+VuyI1YTpmkafKNXzdaIgBavfeRjdBz2LKVtC0GrwSEz474Pob4RLTWIS5C+zhESU/nqACsN4P2hvCfXeMPuyEL9IrGwxIQ0TL9CuE2JPLBMB+zLwRJ8j+CI3G1/mZGNafi7+ffNRBPyTLiaJYkMmv+GpWkXsRRyXJ+eLTk7GiC+BI2vwwZBb0evR77AzvCUGPfFvTBpVjglWrc54cup/MfmBC5A2ZyJuG3Qr7nplJRKK+8CtDGPCWIZ1s+3vk8lYmFgfLSNKeqMAkd0ew/dTX8Gothn47p0n0Ov6h/HGItvOs6+Yx6ORLL4suFzaxf+B1Uv30agmQC4xhsvFRcPw89KZWKOlH/CzWFejrzMfHZEE45IbxCRn3Uqs1ibE4nVZGY+WA3uipRb3gSNJ2vWOdcozniqij7Li9HqbfSmRR1x69uyJpk2b4u2339bucPbAAw/g999/F0NC/myDNcnbPMu7n3Xs2BHLli0Tn+lD0LhxY4wdO1a7LXS5CKqBltc9golz/ou3eoRg54zJmKM+G8u6LTJeq32//1TkvfvdRjExrVvCa1gB7307TYeIyfrnIzE0Qv5sg/j87P8EpsYaRx8raHtX2bc38tqYxMwTaFOnMdrVjdZSVGhVhIvJjvIy1RH1JB3rnesuS83J0u6AVmlo1RfPRO/Fv7+cg3/k/L4gCUu/+QSf1OqHIR1K+WV3UHMMeekLrLmvL6J2fYX+z92Kzq99h83WGwtXOJbXUyQpgeItr+13yDe+nvUvL5FZvcw3DReTkvXr8sVGLgNffZXlLpfbti+/yER8vJjQPFpNq1eQD3z6aSbq1w/EqBHh2g0GSuq/JK1oGp0rT2HojNGfGpMKWxpimsjvm/oO3kvvj+fvjMby97/E6rL8xk2rtugvtokzlqwp8o1UUeqjWQshdW/Cqw7L9vU3T+PqUt6fsDTP14m0RRPw+MIaGD3lB0x8cRD6tG+G2lE1inzD5DPGN+T7DhY9ZJubLldwNVQv5Sl+paWk90upKRSv7KZ/i0/Pc8VkRXTQUmyMa4YCDaqi6xWJaPz5ftT+cj+qfbYPF195FNrtaeqIeAuxMU8X9c9tAhydLT6c1xkdnipS8Ms772BqraGYOWccnhzSE21b1EdkVDm/Zg6qj7YDHsH4WWLH9cXO2m9DPP61nFx7oRKMCbUMfUZ94Pg++foBH099aiDe70/Ib6T/i/FX5WDOm89hall+7sU0Hh3Ha1kICNBu3VwQL3YB832/8Ldgz1bRVozZqhV1pLoE2nZB/6hY/PKb2EFLXI/lW6PR/yrrHdqKpUE05E/32b9h1xCTOvljtZERJYxx1cd+hz5OMhW9fZITlCVLlmh5eUr3448/rt0E4IorrtDK7NSoUQOjRo3Ce++9h3bt2mllR44cwUsvvYTDhytofYhtxNV95all8cbZB+XYFhmvVdOBLzi/d8f0LP7W8RX13rcR2exKDHn9AyyaJZ5Pi3h88NQkLJenlVXk9q4Sb2/kD2jK083+TNS3/TuOJaGwsBD/27PBcvrZ2DXztPj3O/7CvtSjOJadifWH/8HlDU/Xr6Q7EBSNble1Qv1Ds3DnyAFoNGw0XknujjnPD0Mb3+7/ZCWoGs65fCjeeP0HbHtpKDrFz8DQL1bCdtZhheL0+pquqfFPtWMfqk7+xhvDcO21IWjRogqanqt/pSbGJSZ/lolDiYX6EZpqYkIjJjkff5KJrCwXRo0UE5owzxEaRXl9RVC7Uxe0xUrM+a3oBsXCwTn44MskDBo1FP3vGoGHolbivY/W+zAxsVG1M/oPqIHcRZ/i43Wm88S90OqSKxFycDaWV9Cvg/n8fL2wb7tYkGZd0NV8k5yCcpyKIDbCXcW2avWvMbZTAjKwduUaQJ5mUrbPEJ8p7fukRDKNc/hqXCBmkcHQtkzyfAN5n1F5RCbL+HZT/szVPjEGmoidw8PZYoALX03sLDYSTzhbfJhllPNH7krNAewQ86i2V3b0nP4jKc/ra/sit3aPe3FvJ/G0N273fgpIJRgTahlmzPut7D+Ea37uYqet6/AhuFrsrK3dUYb3nsO4tGgZqdL8QjHuCpHzy3SjpHhyf/8Frox0BDVpLuY1YqyeElqh923RWD3vD8TGrsPqZj2t258SuQBdewUjd+kaxBqn9Sr2/b4CO8UWsWuJv41i9LFwcdm+zCoHxb7u4n9pee211/DKK6+gYcOG2g6NvKWzvJXz/fffL9av9YNGHsWZOHEiWrdurZ16tmnTJm0idNNNN2HevHlaH6UjA7GzFmCfwzrM1a4NUDvw5dkW6a/VzpmLsdO2/fGJinjv2zEvR1QzDHqgL2rnrsN2uX9fUdu7Sr69ubxBM9QNi8DU7X/g9T9+xujl07TfqJE8dUkf7TQz+YOcDatFIaJKKFYc2KldVzN66VStzg3N9Al1peDofLz6XQj+79Uv8dsn8lS2H/Dbs/fikrL8cLRtjEY1G4SHr62GI7Hbxbvg5OH0urqvqfGobjzerrrxeLvqxuPtqhuPt6tuPN6uulFeiUqSknxQFeDK7iG4rm8oul8VopV/+WUmjhwtxKPyCI2Y0OSLF0lOcnJz9QlNiDxCozcv0l9pfYVzzrUY3b8Glr//HD5YGKf/2rrYcCbvXokZi+L1OkjCL+98h7Vt78G93cSOaVArDHmiJ7BwAj7+05iYNGiOdlFiw7TkD+wTfeQeS/E64Wn5wJt4vm0Gpj41Cs/K6wwSM5CWmoGErYsx5TN5zrDnmvGQLkPwZNtcfPzsGExdF6+fi5sr6q6bgzk+TIqK4NPz9U7thtFAXAyWb9U3lLn/rMeUkW9D3+x4aNpangu8Ast+F/Vk/6nePoyi0f+Rvmi6dQoee2clEuROR1YSdn4zFs8uBfo8cjNamj/UTgLa2BJ/vL1/Sk32Ef3816DDQLjYaawhnkDdMEDuA8qjMQeMT/T4TOB84eVnRHQ4IE9rqNla+KNiAlRTTI4sd204BdREI/HhGrtS7OjJU33E65YQMwUjX9HHZKkpSMKcx+/ESDH5TzDeDLlxK/CL2G9q27VtMd+Wnv4x4V6GdZMx4p3F2HdMH7+5iXFY/YN4z9o+iIpwcAEeH/QEpsQY58+Ldblv6RKsFv12bV+GM6G18agPSjUuLVpGQq+/TdOsbz6E60TxF5y6cnOQ9elbWj70+ls1PVVoNwyI+x9e/2w92vb25boWM8G45K570DVLvCYvzxFjW7yWchu6dILY/saj6a1D0KfEnRGjD6zEs49Pxlp5zoncrm1dgDcenVq2nWcf8bzO+ovt8bqWFnnq2Msvv4wDBw5g5syZ2qlo8mJl+bsz8kiMPGLzzTff4JFHHtEmO/IojfzhzXr16mk3EZC3gv7f//6n/QBnqTkSgxmfTcZttz6BD2bFIkF87qWlJon3hnyfrUFI2yG4UbtWqjzbIvV6z8GIZ6ciVjs/SLzk6fGI/WEBYk0TKufPqXK+921oP7Z95zuYY3xmylO41y5ZgeSQzrhEm6xUwPbupGxv7KobzZcBeU3MsHbdtds6rzi4C4PP74RnLu2rxaqHhGmnmZ1Xox4OZ6bhxhYXY/qND6FN7UbaxGfg+R3QMMLH6/68kR6Hv/5eh1X29E8ZJn0ae/HX1nikpmV4kj5U3NSrIW/mcAwnvM6OxcR16kMY/NF8bFaHZVLXYYnYr6x7SVucbxSdDDyvq1LtSI1An+QYqhuPt6tuPN6uuvF4u+rG4+2qG4+3q26Ud6NGaRl1y9Z8DB1aFRHGEZrJn+oTmkce1ic0vvbjs1Yo1dB21IeYfGsN/PL+E7j+uoHo3OtWXP/odOyTG1xRI23RZLweWx+j/8/z69chl92N5+Xd0MaJjaa2kWyFGx9oi0ixYbpN9NF90NtYaLno3kRQffQf/wEmDqovNrITcNuQO9FrwJ0YOPIjfIer8Mp/X0QfdVqZVnccXulyHF8+NRrde4nlu+5O3DY2Bsey0kt/pMiH51scja4fgdGt9uKDkfehcw/xPB/+Drj3E0y0XVQT2e0mPNQgF1NfFvVE/wO+9H5ntJBOwzDprb6o/tsEDLxeLM/1D+Ou7zPQ/2nxvHuV51I431DvB2/vn1ITKCa+VeV5weLVqZIvtuamgSv7kzcEkMibA+hbER35NUmQnKiKyU14Vb2fU4r4cP2/QbgkbgbuGqSPi7u/Bu6Z8iKGGDVKhRi7V9wm3jO/v42BcpzJ8XL/dzja5TG8Mqj404dO95iQyGWYPP4m1IkRO2GDbtWXf8iz+HLXcbGDZFTyRoOOGNK/Jpa+8rD+nhXr8rbPUnDdcy9gUKmOMhho41H7ow2hIlpGqrS9FCHX3qT9Bk36m4+h8Jjz6UTy92wy3nochcePokqrdgjte2onNfoNAzKw74jYzpbm1DNF47546z/DcM3B78TYFq+l2IYOfGc9Gt35Cib7ejqR0cd16Ysx8h7Rh9xujpyChFYXFH86UznxvM76i+3xupYVeVcz+TszixYt0u569n//93+oWbMmVq9ejbvuugv//e9/kZ6ejm7dumHq1KnaJOiNN95w/C0bn6nbE69MHYfnu+Rh7odjMFB87vUa8LD4PBOTlW6P4Pvx6jO2nNsi8VqN//QR9DkyG8PkayXfu/2fwLOrk5CT7tnz9PY5Va73vo2QFj0xtFMSPjQ+Mzv3ug8jF9XE6HcfxCXGaWXl3t6dlO2NXXWj+TJyVXRLPHdZP22CsyvlMC6s2QBNImphxs712p3Nftz5F4ICA0V5Q7y0ejY2JydgcMtOeKDNlUYP5cDp7mfe7oBWEnWuwkPXBOOTyaNw4aN3eNLwAej8wngsNS5lOueiy3EJ1uCON2bAchm1m2o4v9sgdEv+Cr0fG4BG94n02FhMixqE74Z2dvjx9orD87oqFf/kfZ31InlPI3k0Qu6s+I/Pys4RO076u0ov9VAa/+STJ/DYY9XQoEGQdg2NnNgMHx6OYNM+WXn6lygf4eu5pWWhIA9p6fo0ITSiWtG7mvhCrpgYyG9aqlZDpC8Xmpges8Q2qm+x0xsZVQE7vOV4vvLW1DkFJS9Hrpgo5ZRiefX65Vj/pSQ9IwthYSFifHl/v2SL90lEtVIOvL/fBRLniFlgPbH3sEes6+NiMiPWQaJ4AQ+ZzpStEQ6cW1O8pNnGe/FC4HCK2NtsCXT9QLQ9mZs1L6hxESLGYwW93/TxIjK+vi9MnOox4YRahlIvfwVsU+QYrRoW6nV8Sp+dnVv6MWrgSkvBidGDUHg0CQFh4QgbdJ822QlqfgEK9u1C/uZ1yP7pc7jST4h4VUSOn4agJucZrU8dse/fimG778HPEz1fLpUFNRbLM54qog9fOGnbJy9kZ2drdzf7/vvvtRsJyKM08lbPJwVf3hsVsC1yb3uK6aO4z6kyv/ftuJ9v8Z+H5drenaLtTWqAtkbKzF4xoRm/frE2sakeHIYTeZ6bjsg7omWL5yFPVXuo/dXo1kheWFy5yNk6GYO/AF4eczfaIg9q6XOPx+CjcZPwyUXPIG64MSnJlkdwghFV0uDR6gkNroaoslyXU0qiXHLprK9vgPzBGi0q0WMe/MBnZYmBaUxqyoOc1KjrTFu1qoJhw8JRpQy/cOoLJ3VSQ8461Aa8uPeLnPyXaachLx04sBDYN0tsBY+JrXVdoEE3MW8ZJoLyAQT//AzsF5Mf+bs0QeIxGl0FNBsIVCvDt9HkjEQbo1XFGC1me17mMWogJzYZ455D3rrfjZKiBDW/EBHPjUdgg9MwNtPX4L1BE5D2xCen7EhdZeCkbp8IccCX7U1KQDnvfGiwPukfLIvfge3HDiExIxU1Q6uhZc16uCL6fG0yI4/oVD4ysHTCHbijzqsOt4TOxapPbsXgzMex7bErUc4T5k4qNVymmZPx+mpHatwzHD9U7UhNgNgYyickkYNW5SWV0EcYv2dISEUgN+Dmb0K9vU+400BOF2rH1tv4lFqeIzVmcpf/jLy/16AwYT8KD+5DQJ0G2u/SVLmgPUL7/kues2TUPDWk7d6BZBzGwncmYkrBYHz/6SDr78ec4XD7RE41vmxvynukxr8RE5fJd2Lwjp6YM2YYLtHvQK1x5I/xuP+TWFz79Cd49ILyHNY7+cgjNUVeX+1IjdzpVjvffqbygxCBYdrdy9zl3qgk8UhOakgFIe/8k5mVg7BQsfFR489B5fskvKrYAJTnh78IKQPuMSp2bL2NT6nZOWfiGM3A8pfvxLO/B6N225vw1qtD0LYyf/VZwXD7RE41vm5vTohJTaFWcJaSuQNTxr2M5+OA8+vURL0gICc1CfuDW+Gxh1/CPRecotvdl5FA8UJWl6ef2V5XyzU1/qh5uXlwBYSgoFCW+Qec1JCKoqCgUPsh1eAQea5k8e+TkJBgBAWdqlvYEqLjGaPyHHzn8Sk1LzefY/QMg9sncqrxdXuTGZCHPDGtOeuR18Ecj8euvBra5CYqvHIfnVEEi2lNuEu+xtbX1XpNjR8ilh8FrkDkFwbpT0k8G/llT9EhbGgliFev3BNg4kfk5Oh3walSpfjzWeT7RBIa6v3iTkJOBhyjZy987cmpxtcxl4MCZImJDfFPqooJTSiKvsaB8hw0ucOt/9XVn3xQlUAUFuRqd5XVSwwVfxxVzxYtV6pni5Yr1bNFy5Xq2aLlSgmpIORh9rz8fPEeCBJjSx9d9veH8vJ9IuvKNoScKjxjVP8G3tv4lH/lTgjH6JkDt0/kVFOa7U2Iww4x8R/k62d+PSVS/f6aGqn5BQUoKNCP1vgDPFJDKgLtGynxHtC+kfLxfSKV34aSU4V7jMqL80sYn1K1b+w5Rs8IuH0ip5rSbm+yka8l4l+EoYqWnF5X45oa/ycnVw7MYOQVyGdWuakRUfmXkVRu5LdRuXkFCNXOVfcd+T4JCQ5C8Mm6XzkhBhyjZy987cmppqxjTv78d0HAGbEbfFYQ5ApABLxf9yMmNQWiigc14VH4iy8sLBQDWkxsAkKQXxjoCVRCjYoQSkgZ0Tbe2od/FQQEynuAeFDDTGH36n0SIjb83HEgJwvzGA0UY1RR0viU3sUx6tdw+0RONeXZ3hSKfxkB8pYB0pHKjNyaVHMFI0jkJI6vrxgMQmWxCvuvugpdyNVOX6iCfFeg8M73Jz/dWjNSLi8hpUOeLyw33Pnigz+kinh7az/q5fv7Q6l6n1QRG3+588DbqJKKwjpGg8QYlWPLeRwWp67CAjFGCzlG/Qhun8ippqK2N4UoQKZIBQG8G1plJUjs04dr05nityt+f/czJ+S5uXl5+QgMCkGhWBGFLjFoK9FYrcEjNcRH5Ea7UHzIy2sN5LdRwcFV9POFKwD1PpHfiMrz3gPFBwJ3IEhp4Rg9e+FrT041J3PMZQfwGpvKiHYNjcu3I7dnzDU1ThSIQS8Hf6F4E8g3AiH+hvwQD5RJfKDLuwidDPg+IeWBY/Tsha89OdWc7DEnR1geCpAfII/fiHGnlZBTiTzNTP5ISxVXIOTJZqX5KsN9TY182ahUKpVKpVKpVCrV79R6pEYVK+jp6T3Q09N7oKen90BPT+/h9Pgz5u5nCnp6eg/09PQe6OnpPdDTn3E+Ly9f3pbLE6VSqVQqlUqlUqlUP1JeU0OlUqlUKpVKpVL9W4vc/UxFvcE444x7h3HGGfcO44wz7h3GGWfcOz7EeaSGSqVSqVQqlUql+rfymhoqlUqlUqlUKpXqz2qcfiadKlNRenp6enp6enp6enr6yu89R2oUqo5dFYwzzjjjjDPOOOOMM864B8ZPe5zX1FCpVCqVSqVSqVT/VsdrahTeWikYZ5xxxhlnnHHGGWeccQ+Mn5a46ZoahyiVSqVSqVQqlUqlVnIN1PLyD5VKpVKpVCqVSqX6oVrufqYjo/Qe6OnpPdDT03ugp6f3QE9/er1+TY1CxjyuKIwzzrh3GGecce8wzjjj3mGccca942Oc19RQqVQqlUqlUqlUv1ZeU0OlUqlUKpVKpVL9Wou5psauCsYZZ5xxxhlnnHHGGWfcA+OnOx6Qm5fPH9+kUqlUKpVKpVKp/qvO19QovDVTMM4444wzzjjjjDPOOOMeGD8dcfeRGoUKKejp6T3Q09N7oKen90BPT+/htHje/YxKpVKpVCqVSqX6s/KaGiqVSqVSqVQqlerfqh+pUYhil7AyqqGqKRhnnHHGDcu4SIx7YJxxxhk3LOMiMe7h1MR5pIZKpVKpVCqVSqX6t/KaGiqVSqVSqVQqlerPqh2pETkNFfIG44wz7h3GGWfcO4wzzrh3GGecce/4Gg/Ik5Mat6NSqVQqlUqlUqlU/9JAmZcZKpVKpVKpVCqVSvVH9Ryp0RAZ+90F6OnpDejp6ekNS09PT09vUDm85ZoaQgghhBBCCPE3eE0NlUqlUqlUKpVK9Wst9u5n9PT0Hujp6T3Q09N7oKen93C6PI/UUKlUKpVKpVKpVL9Wh2tqVNQbjDPOuHcYZ5xx7zDOOOPeYZxxxr1Tclyb1LiriEwF3HyA3rD09PT09Ab09PT0hqWnPymedz8jhBBCCCGE+DO8poZKpVKpVCqVSqX6tQbk5uVJEU6hogp6enoP9PT0Hujp6T3Q09N7OPU+UBaoIl3p6XXo9b/0OvT6X3odev0vvQ69/pdeh17/S69zyjyvqSGEEEIIIYT4M4HyT4CY4shZjlTNq6S8UItXSXmhFq+S8kItXiXlhVq8SsoLtXiVlBdq8SopL9TiVVJeqMWrpLxQi1dJeaEWr5LyQi1eJeWFWrxKygu1eJWUF2rxKikv1OJVUl6oxaukvFCLV0l5oRavkvJCLV4l5YVavErKC7V4lZQXavEqKS/U4lVSXqjFq6S8UItXSXmhFq+S8kItXiXlhVq8SsoLtXiVlBdq8SopL9TiVVJeqMWrpLxQi1dJeaEWr5LyQi1eJeWFWrxKygu1eJWUF2rxKikv1OJVUl6oxaukvFCLV0l5oRavkvJCLV4l5YVavErKC7V4lZQXavEqKS/U4lVSXqjFq6S8UItXSXmhFq+S8kItXiXlhVq8SsoLtXiVlBdq8SopL9TiVVJeqMWrpLxQi1dJeaEWr5LyQi1eJeWFWrxKygu1eJWUF2rxKikv1OJVUl6oxaukvFCLV0l5oRavkvJCLV4l5YVavErKC7V4lZQXavEqKS/U4lVSXqjFq6S8UItXSXmhFq+S8kItXiXlhVq8SsoLtXiVlBdq8SopL9TiVVJeqMWrpLxQi1dJeaEWr5LyQi1eJeWFWrxKygu1eJWUF2rxKikv1OJVUl6oxaukvFCLV0l5oRavkvJCLV4l5YVavErKC7V4lZQXavEqKS/U4lVSXqjFq6S8UItXSXmhFq+S8kItXiXlhVq8SsoLtXiVlBdq8Z5ratS5aVQqlUqlUqlUKpXqP2q6poZKpVKpVCqVSqVS/VB59zN6enoP9PT0Hujp6T3Q01duz7uf0dNrSk+v/6XXodf/0uvQ63/pdej1v/Q6lcWLSY1Lm+tQqVQqlUqlUqlUqj+q5ZbOcqbjNg4wzjjj3mGccca9wzjjjHuHccYZ946vce1IjY5npqNTVBnXVYdxuzKuqw7jdmVcVx3G7cq4rjqM25VxXXUYtyvjuuqcvXHe/YxKpVKpVCqVSqX6t+bm5rk0J6c58tdrXCJDT09PT09PT09PT0/vJ95yTQ0hhBBCCCGE+BuB2kxHw1B6Xb34vNw8pKVnaCkvL7/E+n7p0zZj+qRP8PmkT7H8Hx/q6xlDDD2wXGv/+aSfsCFNFpRQv9L4E9jwo1xu8fyXJPhQn97IGOLN5yI3LRO57u9QhIpxNvurzzF55QHda8WmuCZnkj+AFfL5ztuMjArpT8qp9HnIPZGB3ALlpRRXXwq9kTGE3sgYQm9kDKE3MobQGxlD6I2MIUU9j9T4iEusrPSMTGRkZhslOtXCwxBRLRwB8tBXechJwNb1h5Aq87Waokur2lpxEY7uQsyuE1o26ty2uKhRiJavUJLmYkSvt/CryD721So80kEvLhUbJuL8u6eJTBeMX/QebqyvF1d+kjH3kf54/HeRvecT7Hq8jV5MipJ9CJu2HhC7ut4IR5OL2qBeGBA/7wWMmnoUIVfej28evgzaqD06H8+Ono0dPR/CrPvKMsj8jQ2YPORjzG9xEz55tR/qGaX+guNrSAghhFQSjCM1IqkZj8XbVWadypXKrFO5Upl1Klcqs07lSmXWqVypzDqVK5VZp3KlMlu0PDMzE0eOHtMnNLZ4RkYWjiQf0+poOLT3qMw6lYuUsg6Tho/GXTLdPQUx2ba40X7D1w/qdUSa9JeY3NjiVm9XmXUqVyqzhioc48rbVWZtXsNb3K4y61SuVGadypXKrFO5Upl1Klcqs4ZqeIvby5XKrFO5Upl1Klcqs07lSmXWqVypzHr8ibR07N5rHAURPvVEGhKTjiLxsEgOeizFPp7sKrMmn74BU9/7HGO9pulYm6bXrxZVXdsJ1tVo78bkzf0XUZl1Klcqs07lSmXWqVypzDqVK5VZp3KlMutUrtSEt7hjuVKZdSpXKrNO5Upl1qlcqcw6letqeQ0d68msU7lSmXUqVyqzTuVKZdapXKnMOpUrlVmncqUy61SuVGadypXKrFO5Upl1Klcqs07lSmXWqVypzDqVK5VZp3KlMutUrlRmncqVyqxTuVKZdSpXKrNO5Upl1qlcqcw6lSuVWadypTLrVK5UZp3KlcqsU7lSmXUqVyqzTuVKZdapXKnMOpUrlVmncqUy61SuVGadypXKrFO5Upl1Klcqs07lSmXWqVypzDqVK5VZp3KlMutUrlRmncqVyqxTuVKZdSpXKrNO5Upl1qlcqcw6lSuVWadypTLrVK5UZp3KlcqsU7lSmXUqVyqzTuVKZdapXKnMyrufaUcYRFJHGizerjLrVK5UZp3KlcqsU7lSmXUqVyqzTuVKZdapXKnMOpUrlVmPz8nNQ7LY0TuRnoVCY505tSsshFYn+XgqcvLk99bWuEdl1qlcJhOZ87Bmg0M/BZsR82OuVkXHFteKzN6uMutUrlRmDVU4xpW3q8zavIa3uF1l1qlcqcw6lSuVWadypTLrVK5UZg3V8Ba3lyuVWadypTLrVK5UZp3KlcqsU7lSmfX4TVt3YfWfG5GVmaP5AwlJSDpyDEmHRXLQA/GJyC8Qg9nH/t1ceSe+/eQdh/QMetbS69e88hn88NVEfDHkAs1b2nvt364y61SuVGadypXKrFO5Upl1Klcqs07lSmXWqVypCW9xx3KlMutUrlRmncqVyqxTuVKZdSrX1fIaOtaTWadypTLrVK5UZp3KlcqsU7lSmXUqVyqzTuVKZdapXKnMOpUrlVmncqUy61SuVGadypXKrFO5Upl1Klcqs07lSmXWqVypzDqVK5VZp3KlMutUrlRmncqVyqxTuVKZdSpXKrNO5Upl1qlcqcw6lSuVWadypTLrVK5UZp3KlcqsU7lSmXUqVyqzTuVKZdapXKnMOpUrlVmncqUy61SuVGadypXKrFO5Upl1Klcqs07lSmXWqVypzDqVK5VZp3KlMutUrlRmncqVyqxTuVKZdSpXKrNO5Upl1qlcqcw6lSuVWadypTLrVK5UZp3KlcqsU7lSmQ0o5poau55l8YRDh3E8JU27hkbHSztTe3mNzfHjJ7Bt517HuC5e1EIuPvrfamgnmZna5/z5K741Dgi58bn/UsYVZW3vLld4iZfU/nTFFWVtXwniBfnaxQ/IzZdj2IUmjRugft1aqF+vdlGtV0uLVwkK1Nr40r+b0GqoFlldpChUizBrOEICTe2Dg53ba9jKi9Q7E+LhCI7UXdnaSznN8SpVdC1re8adlXFDGHdUxg1h3FEZN8R9pEbimek46lkWz8jKRmpqmvHNtcRLO1P79MxMbNqyC3H7DzrGdfGiim634JF2Qhf8ijXHhbrjeVi/fC6OoA0eub2LUSaw95++G7+Ofx7/urobzm93Bc7vchOGjZ2LPWm2x1N6eD0+H90fXdvJ+tfguke/RkyC6WiQvX/hj8RMwyt39tX7v7gHrrt7PObuSHfHLerGVm7XgmOImfIKhvXu4el39FeIOaz6EZqTgA1zJuH5m64Tcf35de39EN6avQ85tv6PLHobd91+D15ZcAzI3Ie5Yx/CNVq/ExCTY9QrSEbMp0/hus6iXDz/rr2exOdrEmG5akotX0nLX1njbgIQFRmBBvXroIGYxBTRenVQq2b1ou1L0b8uXjT+N0z+6nPM3qZfD1Zy+3wxNKdh7EuP49Yhw3Hr8BcxdvqfOFzoVO8bjBk9Sq/30DMYM3kR9qbb6tn7LxTtYudj0uvP4L77hmPAkFG4b+zHWByXpcfd/Z/ApnnyZgbxwuTh8IZvxWONxK1DH8IdT7+N6TuN+kX6T8a66W9j1EMPYcDdIzF87LdYdzQc9dS1Ze7+DTXax8d8K9bTNKxJdoqnYt2cLzBZrgdz+7QdWDz5dQwfLp7HUPU8bOs5bYt2U4YVB2X9zZg+7hltfd334049DmM9PuplPcrHj1+OyV9/gdlbUz39uvvfKZZhLIbL5ztkJO576R1MXX/UE3evH2N9/m5bn0Ns69Pcv3h+8ye+or9O8vm9+Dambkj2xPWMIV6UcUMYd1TGDWHcURk3pPLHA+UF8HJ2o6mY7dArD2Tn5ODosePIzMyCSzv/TI+5k+Hzc/OwJ+4frF6zUbs+QS/W4977t3nhNH4PRvSN8uL037A85oQnnr0Wv00Tk412vREdGqPXtfeXsBz/vuMejJjyGzbICZEkMxnLf3wL14kd9rkJ9vpz8fhNo/HW8mQxWZLkYs/yT3GXmKTImwRomOuLqcP6SffgpuET8e2mNKBmbZwXLtps+AmPDx6Ojzbk6PXc9RXK2x5f+YxYfDSwP+4a/yuWJ6kJlb4sb329Fjmy/onVeKv3YPzrpWmYHqfdTk3jSNJmfP7SvXhurljvpv6ReRQxYoL57ZbVmPvMvXj8x82Qu1G4qjVahIh6+QmY+9gg3DUpBnuMo19HkmLwltgxfF7eJEDD059leSuhP3AwUbsjnyWu3vBakQuHko5gd9wBMVYP6LrPUMP/E38IhfJcStW+xMdX+FD/2HbM/+VPxPwjVrY7rrDXz8Cmr17AqPeWY3twcwx68E7c3a06Doid4VFj5+Nwvqd+kpi8jnrvd/xTrwPuHnkfHujbBOkxM/DcxEU47nV5/sH8MWKi8eZsxBQ0QZerLkPfa5ogeNcGTHplPOYfMdfPRPyff2L+78swfcLTGD4xFsFtO6B7hyjkxe/F1Dfs9YWmr8enj76AsbP24nijNujXowPahcbindFj8dV+UU3WtCyPp33jWi789styfBfzT9H40VWY/sOf+C2vOuoa9V2J88VEZDwmiW1Fk2434f8evAptszdj0ov/xuRY03jI/gcxYv3Hxv2Byc99iBl7q6PzNc3R+VwxyxLxYtejbC/7Oe55DdXyaiqW4WW5DMsSEdHmMvTr0wbNsg9g+nsv4N6Pfsdx0+tV6vWZFSuWdzwm/5WLVjcNwosj+6F79WTMfu91TNmRq9cTybI89PT09PRnpQ/U7tolkn73LkPp5X/di39p6Zk4knxcTHLEDrcR1ysEICHxMFb+sUHsGGq7zG5K7t/mZSONALS4rDeuFrnpUxfhoBFPW7EIn4uyq/t3QQutnsTc3zHMHfsCvosTxc1uxKTZy7Br0ypsXvgeHmkmyjJj8PjDX2Ob/KZbq38I059+C3PlDn14F7wxbaFef+kUjL+pqexcx91/AHI2TMYrn+wSE6CmeOSDOdj12xwsXLMKy8Z0QV3sx4Rx89zLqz8/hfKGuuNSj+HX50Zjglzu8PNFv9OxecMq7NowB18//jj+PeIShMr61bvijoc6ofeI97Bwqf7cdv31HcZfLS9dzsXcST9jq6l/kdX5aTze/Otc3P/aFKz+bSFWv3oN6or4wZmv4PHlcgIVghufm4J18jH/moPZr90Iz324nJa38vnM7BwsW/kX5v2yAgcPiempO26gNQnAseMntBtbpIukabqhhpenW2rbBnd758fzeIUv9bWKssgUV1jrZ/z9Dd75JRXN7nwR344ZhcFXd0O/O5/BJ6/3Qr0dszFp1QmjfhxWzD+A3PpX46Xn7ke/rpej182jMG7yO/hidC/U9Lo856DLILGD/IGYnIv+h919Px4c9gzGP9YB1fIOYOqinab6QiSxq7AA/fCh6PvFYfdjxFPv4OPhTQBRf8X6RFP9LKyZ8gnkAcJWd//b3b+s/8N7/dDMOJvVujym5Tu/I3pGAvEr/xSTcGv88Lo/sQNRuKn7BXp5QSLmfDQbm6p1wIv/Ect1Zz9cdfVgPDb2HTzTNRPzJ87ETvf7XXtYrPjsC+y56hl88dGLeEw85wc71xDxEtaj8fhutC6lF+WFcZg+fjZisxvinvcmYNyo+8XzfQgvvfcOXukZjpTfv8Hby83rR+vB5/WZ9/dyzBfrsvPwF/HMTb3QqWs/3PO0WK5P/o17WoXo9UTy9E9PT09Pf7Z6/UiNmOHoezNSzN4zAzr74prT/mnqKkRqajqOHUtBXl4eUo6n4s+1sdi8bY/+ezV2SuxfV7d3sw/xYpLRW56CtulXrNZ+J+YE1i+Rx0664MarQhC/W9aTmNpvn4fPtCMMIbj/qcfQu2mwVh7SsDMee+NBXCRDcVOw8A957pWsvwjfbpKFwOCXX8bgiyK0fEjtFrhx5G3orTmBe3lPIOaHaWLiAFw0Ygweu6qWVi4fP/rmu3FHuLCbfsP6g6q+VIXHF3n+YrknaZMLoPdz4/B/VzVEaJCIBdZCl3sGon1VT/3o2z/AxAc747w6xrUZoefihqEDtbZIiMWeJFms6uvFEJO2Pq9+gGf7t0DdmpGoU0Oul5345YvNerzXs/j37S1QXV77EVobF/Z/AHd200OyE+vySjH7yhEPrxqKi1u31Mbh0hV/ID5BWxFafTfCt77gPLRrfT4ubiOSoVbfEoGBcuNg7d/jpVi9xuKPMWCIPIXLnMZg/lFze72qrtKrAonHu1yH8NvMDciIvAL39o42tRcp+gr0FTP6TX+IuFaei3TtKJsRlzmpQdVRLVx678tf8+Ke6FSniiVerW1H8Q4DMnbt0Y5OyHKjmaADRogd/MbaNUJ6/ZqtO6KVcDsOHtK8xHVkOf63WmRa3ITH+zSw9I9G56C5VktglBdZvsDW6HKVeDPFr8c6dWRVix/C2lXicaIvRZdoo/7W2ZgqtgXtBt2GThFGe61+VXTu3gEhaeuxeq/0sr4WFhOXnhg5sBmqGf3q9XORYRyttCyPWI/hxnrUvBnVfsuvmBEPVOt7C25qFGxqXxXthtyG7uLttmP6Iuww2nu6keuzZwnr04XcPGPBZB351yiX12xJtSyvzFk844ybvRSzZ5xxs5di9oz7Y1w/UiNmOHK2I7F6zwzo7ItrTvunG60AefkF2jfef27YgpQTntOgilBi/7q6vYVG6DPkKqGbMW/VfiBtA35bIGzv3ri6vrmup/2RHbHahAO4Gp0vDrX2f0Eb7ciP3Hn5bas8rUXU36Xqd0GXTp5rKfT+TBj9IOAfbJ2vF7UOTUbMmvWIiVmPNVL/PIQceTQI6xCvXQMj65v78Xj78z/qXu7eGNyjdpG41QspzMOJuPWY+9UkvDL8Xtz9xs9auXzsA2Jf3lNfLwVuQf9rbc/v6D5sSdAsene/BNXN/RuqU4rXr5LEdexeYPjy9u/4eI2ao18fedqROXVEdKi5vV5VV+lVgcTjA3L2YIectLdvjujME8hMP4GMNJE0DUdEQxETM5kMrf4FuH5gE4Qk/YbnHn8HU1cfQKZ2zY3qz4fnl5+MvVtXYf6PX2DCm9OwQlYqEO9zd3tZoBMcZG+v8PiAg/9gh9DmXTqgntbeWl//KzDKnZavVfcrRNtkLF4f74knb8AKsV6iu3dGtFE/fvde8Y6ugzZNAoz1k+pZXxF1RL1M5Gcb7aVILmiB6CC9vSzU+78A/bT1uBzPa+sxHhnGerQvnxuj/OAeuQzAVZ3aGsWm+mFiknipsGl7sce4RsjcTbBYDuf+lQ9ARMfe6FcbWDPxGTwxeT5ik+UXSJ64vb3VM8642Usxe8YZN3spZs+4P8aLv6bGrmdVXFjpxT8nLYmS+7ep3szAhcjOV2GwyMXMWYetG9fiW5Ef3KMzImV9han94fh1RmEtREXY+g8MgZjmaGw9YfzWjn5jLMG5iK5n1FPLZ0Z6kVxHDkIdIJo+/kn3b+Xo6RV8tMUIqvqWfmz9q7hIluWOLBo364lN0/B4nz7odNNoPD5+GpYnApGR8oiRROxaFXjqe1aoyAQa5erxC3Igj1dJWjcR7UWZJe7G058lrrxdT1M8KzMLf2/egeDgKuhx5WWIbljXiIsmEq2qCzv37sdGUU/WddKtO/Yiv0AMDKPfIlrk8fXucVEvPHDXfRh29326ivTAXf3RzjIOjbpS7e1Vv1LFDrmYmwIrv8Edw58ukiaslEHZhWzvQt3eT+PDJ69CG+zF9Iljccd9T2Ps9D+QJH9T2P04pv6VP7Ed8z98Grfe/QKe+88crDksJgxXXqodKZB42hkFGrb+3DHDC01KPKSVNG/QwFTPE1dNrP2Y4lIbi0lhNBC/Yg0OGPGktX+IyVID9L1cBIz6x47Ln+o9iqkvFl1Pd7y4SKwRWVX1Lx9VorxVfVqPCq1IL9eXoQEa15Vxe79VEC6P4BqPqcelN3DXs/Vv7ie8PYa9/hgeuaY24pfN1m8q8OLHWLQnxaG9zduVcedypYw7lytl3LlcKePO5UoZdy5XWkHx4q+psetZFRdWevHPSUui5P5tqjczEL5WV/TuJ7JbZuLf780UmVtw47XV9foKU/t60Z2Mwjxk5xbtX1E31PDuov04kmzUU8tnxmgfULex+1qeO96ajnW/LXRM919s1Lf0Y+tfxUWyLHdO0bhb983EE3dMxFyx83n18Pew8LdVWDZ7CiY90dVoL/HU9zw/Uz/u5fCw++CxYuKe/ixx5e16muJVw6viyi4d0a9XN0Q3rm+KiyYSrWoAIsQeZmREOCJEctRq4QgKDDS1t2mRx9e7d5cXiZtVr6m1cZfrRTLjbm/cURo9H8KsqZ84p1f7ob7WXrYLQb2OQ/DSBxPxxZt3YnBrIHbWFxj9+gLtTmmW5VCPk7MFn70wAZN3NsDdY9/BD5+8g1dH3Y/BV12IJvqjm9oZBRq2/twxT/8hVeTpjcCBw2LG7a7niasm1n5Mcc2fgy7XNhSzmo1Yf0j6RKxbLfpr2w1d6prqB8meGmLYBw7ryEgPtlP1ZV2Jqb1FfViPCq2J3k5fhhM4nCrjRfvVUXlZrpdomOpZ+rf3U/0C9Br2Cn746t945e4OiE7YgI9eegWTN2dZ6zk8PuOMu5Vx53KljDuXK2XcuVxpJYm7r6mh2lWIVPHPSUvC98cxVPz1IMsj0OWmgaiDfdgQB9S5vTs6hqr6Ck/7Ok3ORV2tbDW27jb1KzVuB9T90nqff474K+o3OFcvwDrsPmCrb8Zd3gBNjGtNfvk7ASE1IlC9ZgQibar/Lom9H3v/HvUs91ysWW/cPc2h3pbF07BcVms9EmNGdEbzGua4wlNf/tcx1zO0TkOcp8WAmF3yPDRb3I29vPJq03MaIap6hLVcy+tI36hBHTQ/NxrnNY121HOi1f2GS348XRW+1Bci0VSVK0z1ajXHBfK3XGJ3I95cXqJWQc1zr8DtT43FmwNqI3fHbMze4Vw/46+fMT8Z6H7XSPRtZr02Q/6VeOrrXsfajwdPeY2GDbVf3Y+Xd0EsUl+o+CspUm7TupddgXY4iphNh7RbGq+T1850vRQ1TPXOay6v0DmEHbuNu4AV058mGiXVK249elD1m2vLkIm98Smat/a3BztihQQ3QLT7/SrEjb2+wl5uqOinbe/hGPefO9E9OBPzZy43XftEpVKp1LNd3dfUUK0qdxA1L/45aXFERzfw+XHcKv560MtDO16Nf2mnb4TgX1e3Q6i7vsLU/uLrcL92XcshvDXpe+zNMsoLD2HuhIlYI0Pht6DPVXInTpS374pHtL5zMWGytf6vE7/33NLZvZx1cNXNvbUJyJFpE/Df344Z5UY85RCOZJq8t+W0q1zuRrJOLj56axJ+M67JkfETO+bht52GzzV+l0LUyykw2hccwqJZ2jMz8PQr/+sY7c2PG9QOXW6Xu57A0Slf4dvdee74wQWf4Rv3LZ1t7fxOPUifeiIdSUeOIfHwMUc9lpJWQn/e+velvhCJpqpcYa53AXreWAdIWoyJv5jvmuWsmany91jM5SGIbiIvvJE4t8vIlL+FEo6aNY27Z6l4wgHtlC2Jp1z3Ovb+FKbyCzqiZzCQsXg51mTY6ic59e9Fa16GK9sCO1ZvwI6Nf2A9muPajjUs9apdeo12If6K775ArHjvFdufFA3nuG/r0YOqF2EsQ+xP32OT7flmbFyE2UlAtZ7d0K6KKpetFdb6HkzlmSdwXL3fVXlkI0Srs04t7alUKpV6Nqt2pIapaKpXpyaaNW2M8PAwOf8r8s+JenVqoedVl6PthS0c+yw2GX1IpNPKQjrixlfvwrPDx+DGS/U7C1nqKi9TYAsMHXMXOsuJyu8TcV2P/rjz9ntw3RWDjVsXn4vHPhqBzvI3WmR90fegZ7tA7D4WqT9iUYJeLjE9RmSPYXj2KjkZ2IePRvfHNTeNxr/HvoIRg/ujy1Wi3Xc73XVdUQ3RWesgBuMffBPLjd+eKJLkcr9xm34b5bifMKzXNbhu8D2486br0GnwWxj2n7k4kO9C8w436Mu0ZSLu6CPiYln/1cP7sppWkuex3CkYne96HDdqk7oYvDKwj/6YPa/BNc/+ggNaucSprf+koCDt3CAEBQZp/sDBJO13lLwl+Ts18g5q9n68J617gVPMntxVi5alHMXxXE/dxteNxLBWYof+q9fxhJhh7jmSgvQTR7Fn/XxMenE8Fh3X6+Vs+RwjH3kaw/8zHZsOyjopSNo1HxO+3QzUugyXN/P0aU51z22OasjEgs8/xzqt3T/YNHc8hj83H3H62WOm+rrXcJfZY6aywPbof0cThORtxoTnxmP2+j1iwrgH62T/Ty9CXJjRwt2Ht1Qdnbs1B3b/jomzxVSo/eXoaFyj5E6hl2LYEx1QI3kDXpePtekfbR2kH9yORdPfxhNTY0319ce1LKuRfF+P7i487cUy3DOyjW0Z9PX5+IQNyKjVAU8PaO2pX6r1eQjz33sa9w0bgy9Xi/Uon5voe91Xn2GGmCy16iqeu6U9ExMTE9PZnALlBEfObjxJebueffHqEdVwfvMmiG5UH1WqBMl5oPgn4tpfD+FVw9D5kra4rucVaNSwbpF+PH07lRtq9CWRTpW36P0g7h9xNVpUkWVGuVFPGlVPprCOw/HZt8/i/naR2o9urtmyS/thybqtbsT46Z/gkY6hpvpAk5vfwOePd0K07Muof6LJDZg0/Us8f5n2CNqDqf4DqjRC//en48cRXXCe2PGPj1uH7378Fb/uSEZYu1sw+BJ59zKjfvOrcGdveR6RrPcrth4y+jA9vtKwjqPwzUxjuZGLPTt2YU1cGurW74Jn7+yCJuK5h3Ud5V7Wo4dFfMt+nLj4Qfw470s83lp7GNmhu1/zCtUfRyXDN74Bb34+Er1ryhrGY6afi/vf+g7Tn1LX+Zjqu5Pydq18cXm75q6XXaxdMyPLmkQ3QIN6tUWq46B1cE7jhggOFuPc1o+uKpnLjdWkrSenuFWNqp7yuh3QXV6Zv3YGHpq2xVNepSH6vfgCRnQNR/yCb/Dko8/gzodewJPvzcf2Bk1QX7vGAwi9YBBeGt4BNbcuxpinZJ1n8NCY2Vgf2AqPvXQf2lU1P75Kwst2AxoA+//EWK3d63j9j7p4cNxEvCBvOigX091O9xqqvVuNctvzr9/rcbx5dyvUSN2BKe+9g4cefQfvzDuBq555HU8bp3Dq7c39edorjbj0CnRHMuITgO7dr0CELS41ot1wTHzxajTLEY/11uvaOrjzqQn4bHEm2jatAXkAR9VX2B/Ht/Vo6kNr62lf89JRGC+emGcZXseYaTuATjdh3JvD0S5CtTf1ITF80ZgqF+NgxH0YfFEWFk4U61E+N9H32F9OIHrASLzUq6FRT7VX7ZyUccYZ93jGGT9D4zm5eS6h8ss3+VmlqcJefjbHCwoLkXQ4GYeT9Z/q37R5p6YXXXAe2oudx6AqVYptX1L/FR3PSUtDbr7wVUIRFRlSfPuCXKSeyBE+FJE19dOyJMX1D9EmTbTRykMjESkmOU79Zx8XyyE0pHokwoKKxs39avXFcudoP/sjllssiz3uyknDCfnTFeIxo8RjFomLpLCXe4vnimXMFhomljFEP7ih4Wt7xssRL8hDZmYmXIHyRgXBDvFMEc/TykPCo7TbKis8/eaJ8Z4JOWxkP9VEPxL74ypVBORlIj07DwGiTbhoUyQuUrHtRSo2LpY9XSx7AIIRLt4gpW4vUmnieRmpyC0UGWMdlLa9Wo/a74OaXo8ytQ+LQoR4GUrXvpi4eK0yxWslfbAYB/J9Wqr2JlUwzjjjjDN+ZsUDcvPkPTuJr2Rl5+DwkWM4lHgErVo2Q80o/WgEIYQQQggh5PSgHakx8oQQQgghhBDidwTk5slJjekAjktarwd2GGecccaLljOuK+OMM160nHFdGWec8aLlFRi3HKlRIW8wzjjj3mGccca9wzjjjHuHccYZ946vcYdrarRiPesI44wz7h3GGWfcO4wzzrh3GGecce+UHOc1NYQQQgghhBC/JlD+0e7vbCg9PT09PT09PT09Pb1feR6pIYQQQgghhPgzAblyUqPNcIxz1ex3F6Cnp6enp6enp6enp6/EnkdqCCGEEEIIIX6N+5oaKpVKpVKpVCqVSvVL5ZEaQgghhBBCiD/Du5/R09PT09PT09PT0/u355EaQgghhBBCiD+jH6nRsnKmY2QMlGfcUMYtMG6oLowzboFxQ3VhnHELjBuqC+OMW2DcUF18jvNIDSGEEEIIIcSv4d3PqFQqlUqlUqlUqn8rj9QQQgghhBBC/BntSA0hhBBCCCGE+Cuc1BBCCCGEEEL8GuOaGi3vPidN4TlXTRPGGdczBowzrqsmjDOuZwwYZ1xXTRhnXM8YMM64rppUWJzX1BBCCCGEEEL8Gp5+RgghhBBCCPFrOKkhhBBCCCGE+DUBaemZfn36Wc8bhxo5Qio/i+d+Z+QIIYQQQkhFEeASGHm/pHOPgUaOkMrPmqUzjRwhhBBCCKko/H5SQwghhBBCCDm74TU1hBBCCCGEEL+GkxpCCCGEEEKIX8NJDSGEEEIIIcSv4aSGEEIIIYQQ4tdwUkMIIYQQQgjxazipIYQQQgghhPg1nNQQQgghhBBC/BpOagghhBBCCCF+DSc1hBBCCCGEEL+GkxpCCCGEEEKIX8NJDSGEEEIIIcSv4aSGEEIIIYQQ4tdwUkMIIYQQQgjxazipIYQQQgghhPg1nNQQQgghhBBC/BpOagghhBBCCCF+DSc1hBBCCCGEEL+GkxpCCCGEEEKIX8NJDSGEEEIIIcSv4aSGEEIIIYQQ4tdwUkMIIYQQQgjxazipIYQQQgghhPg1nNQQQgghhBBC/BpOagghhBBCCCF+DSc1hBBCCCGEEL+GkxpCCCGEEEKIX8NJDSGEEEIIIcSv4aSGEEIIIYQQ4tdwUkMIIYQQQgjxazipIYQQQgghhPg1nNQQQgghhBBC/BpOagghhBBCCCF+DSc1hBBCCCGEEL+GkxpCCCGEEEKIX8NJDSGEEEIIIcSv4aSGEEIIIYQQ4tdwUkMIIYQQQgjxazipIYQQQgghhPg1nNQQQgghhBBC/BpOagghhBBCCCF+DSc1hBBCCCGEEL+GkxpCCCGEEEKIXxPgEhj5M57CwkLkFxSioKAA8mkXFp41T50QQgghFUBgYAACAgIQFBSEKkGBwvP7YUIqA2fFpCYvLx95+QVaPkhsgILEBkhuhOSGiRBCCCHEV+QXovJL0gKZCgq1suAqQQgOrqLlCSGnhzN6UpMvJjK5eXliEhOEKmKDIyc0hBBCCCEVhZzYyP2NgsIChAQHa/sbhJBTzxk7qcnOydW+TQkNCeZkhhBCCCEnFTm5ycnN084CCQsNMUoJIaeKM25SI5+OnNAEBgQiNDTYKCWEEEIIOfnk5OSh0FWoTWzktTeEkFPDGXcIQ5vQBHJCQwghhJBTj9z/kPshcn+EEHLqOKOO1MgNSID4xwkNIYQQQk4n8oiNS/zjqWiEnBrOmCM18iI97RoaTmgIIYQQcpqR+yNyv0TunxBCTj5nzKRG3uVM3hSAEEIIIaQyIPdL5P4JIeTkc0ZMauTv0MjbNvMuZ4QQQgipLOi/jRek7acQQk4uZ8akJr+A94UnhBBCSKVD7p+oHwAnhJw8/H5SI3/VV1LRR2kKXcAvmwqQyZuXEEIIIaSMqP0Ttb9CCDk5+P2kJr+gsMwTmoVi0vLC9FzsO2K9AVxeAfDcj7mYsDAP936ajSNp1nhKpgtvzMnFx0t5niwhhBBCikfup8j9FULIycPvJzUFBQUICizb01i0OR+/bS/A7PWec13lNufFGblITHXhh5GhaBMdiFFf5yA53TOx+fufQsz/uwA//nF2niMbN3ccxr0r0tw4o6SSkxKDz+Xyvvs5YlKMstJQ3vaVjqNY8cnbeP6TpUg2SvyC7TPx/Ktv48fthid+wZafxFh79ROsOGoUkNNDKd8/Jw5swM6jZ85nXPLvn5Rj+xGLH0Xb53+KNXzpkfspcn+FEHLy8PtJjfyZHfkjV2Xhnu7B6NUmSJvUrBCTGzWhSTjuwgd3hCAqPAAv3BSCCxoGYsRX+sTmQLIL4xbk4YqWQfi/PhVzt7XEjTPx+csjcUvva3Htv0bixS/nY1sl3gFI3PgknnxapI2JRkklJz0O8+XyPj0fcelGWWkoT/ucbVgydSqmLNkGx+N6qRswS8R/3HAq12U+slKycUIkvzrWmJeOE6liuXmA1K/IyxCvmXjdsvgl9emlNO+fo7/io/fn4IO3f8QWo8jfycvSx2HZth/5etuMsk/y5H7KGfSzgIRUSvx+UiPvAR8YGGC40tE2OhBjBoTg1VtCMGZmLkaKicv+o4X48C59QiORXb8s6jSrq09sZOrZOghv3xqC/h2raHXKTMoGTPpXczTscAseeG0SZi5aiqXTJ+H1+67HRXW7YuS0bcg2qpaODRjXIQABAbdgarxRRE4Poc1QOz8Oa+cvxYpUo8zEzl9/xZJ1RxDVuIFRQsipJ2/DVDz/6swzZge28pONtd+W75t/Zyqo38iGaFIvDA1aNkFto4iUD7mfIvdXCCEnD7+f1FQElzYPwjm1A3E804WJd4WihjGhUciJzdhBIWhaJxBp2S7c3KmckxlJegxe79sRI6fHAQ164P4PfsKSpUtE+hnfvToQzRCH4wgT/8pCNrI3GllymglD++s6oAGOYuGv24wyg5wYLPlTTFtbX4Ye9YwyQk4DyUeP4ERqun8dufNrUpB8sHzf/DtTQf2GtsXQZ57Bi8OuFNsuQgjxD876SU2O2Pb/3zc5yMx14aO7Q3E03YUvfssrklbtLMBrYmLTsWkQRn6dg/hj5fnGJRsxE0bgxTUi22AIvotZgs9GDUSPa3qI1A9DXvoJ6+NW4/Pbm+nVbWQnbkPMsqVYuiwG244WPZaTvXkr1hv5rJQUpMjkcNpUyvYY0YfoZ2Mcsov5DMw+ajzexsRSHDnK1h83RbXIRuJGtcxGkYa3cjuiP2N5Y7anFL8c+dmI86lPhVoGH/ouC/V64LrW4rX4czXW5hhlghN/rMeWwghc26cL7Ccy5mWk4ESaSBkVvjQO5CNLPpZIWablK0J+ur5MMmVVxM6Y53HL0l9eltG2pHVkWu7iH6aUy5Oj+i3dZMDn5dZQy2R9DHcfIvm06kpY1qzMkpfF5zGpHsuoF161FF8ClWaMmV9Xb+PWlzrmdfP/7d0NXBVV/j/wD8hjAkJiocAqLj4goUJqwioF5sMfnzZNLSi1RX9mmv4KXdsy3Vx1dcPcXLXMbM3fypb9xH8q5hPo+gCaCthVMXC9FmisoiJSgAL+zpmZC5fL0wXx4ern/XpdnTt3mDlz5ty55zvnzJnausg1aD3mHJMi/FLXd03T8POAeetVNLL8Nmw/TVTko8k2y4trLOfVGB+H+rZtsq36yuHdPecS0Z1gdcvCO3kW/lwEp+aO2ruGMQQ0/ym4hY9fscdjLlZISC/D0u030LlNZbx3XgQwT/pYY/ZwO2VktBlxJdDnqUGQ16ON6PpWnIQZjv2wRExGfHYWCa/UHLxUlQ/9N2sw+/exiDthfP+FB8IXxiPhD8FwQC7iRrdG1FfaR8bmJePWu8Hq9Ll4zPjdFCzZY7Qe32h8umU5ojsbtw3pse3NCYhemiTWrPIIi8FI9yVYIbdhvE5TOXEY6R2F+OfW4+wHDljy4kiskEGcIhjzU5Lwjm8yZo+OwoKKdPggeoMI8EZVzY/i9BWIGjUV8We0GZLvCCz/5xpM6eGqzVBVX9YHI96IQP7SFUjCCKzP3ohIL+0jIf/oCkS/WHXdHmHvYP2G+Qh312YY9qWGvzfb+c2Y+0EaEDYW7w0R+1euw/o58UhpPwBLf1cZ1Nw8n4SPVu9H5nVthmD7WAdETYxEj0e1GULurg8xf3s+uo+fiwkB2kzp4jbMX3wEGDQJs/vXdo01FzsWr8IW9MRbLzkg3nh71g7oMXYKxgc4aTOE6xlI3LQTW3X5VSp9Lk8Ow7uRgZDfPv3XS7Bknw2GzpqOgSatTgUHVuDtTcXo92YMnvNU59W0ny4d+2LaxHB41HapRbcOU9fq0X1UJLyPx2NLZmXlw/axAEyYNgL+VU4FpcjZtwYrt+SiwJBusX8dh0dhWp+qB9Gs9Cjbv4qhM8fB6+Dn+DRZ5If2ka13MGZNG1B72qWiLGxavQGJP9RcG/PQjpl6bN0wYX4w9KvikJgtPnT0w7T5o+FxJgkbNqUgPddoHTUdM3PTqpWXand0dRuG5WMD1enrOmxYGY99F9W3Uo35XZ6Ho1+tx/pvjbYlym6490/YcazmslHBjDJWqRD6XeuxeqfRcRU8QkYgZmSAtqwZy5Tn4+SmqnkDG1eEvhKN0Z0r8zL3wCos+7rqelw6i7IRbSgbhTi5cU3V9VjbwKP3MKP0VDJ8d00Zf5fNPQ8Yq3e9hu/PS9MRfLa+8puGT2M2I924HDRwP1XqenIHRWNyiyQs+UpfmY+ePTH7vyPQ4ofN+PDjNOQYirRzB0yYFYnuxius6VjJ7/KAEZjYv0P95cPZA0O7AVsO5FY/Z5pVvmvKj4a7nfoKEdWv2R8Fbdoi3bhZCju7ht+wL4OT6f9QA5oVIjjxaKEGJ1m56mAAq6PtEdHNRnnl5t9CiVj+6c7NIEePDve3waEzZfjiUCnCujSDk0MDA5v0OIxbnSROvSPwx+WTEOCiza9TPr55ZyDeO+2NiJcnYdLo4ejZrhRZqTroEhNE4qYi3KcY2SlpSgVFnyN/3DzgF9YLXTv4wKdbBMY91VpU0OMR9dRIfHLCCeETFyE2dgqG/7oYaRvjsG4jEDo1HD7KBS0x78/D8fSC/SKdInCaOB1TXgiF25nPsSpBa/YJi8Yfn/ZWp00ViB+KpfHIOJ2ML7/8DBk2kZg0Sfz9hSPIupKDpIQU7P/mPezMH4ZJMwagtT4FGVfykbbfySgNIhVHFyD8yRnYdUWEJ6NiMHv8SAS4ZiHlQAq2rd4H2yFRCG2jLSz2bdzT47HhRzEtgp6Yt6IxsnspNi9ZJ36SJD+MfHNMRX7LdQ/oKdctAp95KxD7bhRC7PKwb+M6rDzhjXFRQXCTCxr2xeTvG8SlLZzPH0SK7gbaPuMP56Nb8Vl6Ofq9PBr+hvXlbsP7S1Ogt/HCc5NfxNj/1wehncqRfUyHxEM/ok3vbvDQinrh2cPYd6YYHt2fQdDj6jzFz1nYd/CC2P8eCP21USW3ikL8++AxZOZdwOFvr6Dt0OdFeQpHWKcbOJOag9OZhaLc+Kn7LhQd34yPvrVG6ItjMPG3oej3zBPwuJSBo8dP4oJ7b/QU+e/mnIfDKeeQbdcWYR0Nfynl4/DmPThp7Y8xgztB2dWLO/H+BweR81ggpr4+Di8P64On2v+Ck7sPI7HgcQzwb6X8ZTUXj2Nbej5yT+lwuV0oXhs/DEOf7Q5/h/NIP34WKRfsEfakd0WAmJv4NyzcmodWz4xGzH89j+f7PQHfGxnYtiMNV336oKvhZgFz06NsPw+5uhSkWvnh5fFj8PxANS/Sz5xDrkt3POVdW4dROeLcZ9j6owsGTp+ON0Y9i4iQ5rhwJAuXffri7defQ1h7d9iKoqweW1GPu3QE6be6YbzYzoAnH4dXC2sc3/gFDtt1w8vj5LZ7o19Qc+Qez8LxY9l47OkgGL4KZqfVxhEtW7fGI9ey8MM1d4S+9AzCunZAd79fo42r+LxEh7WLRPBd5oOoqdH43fPhePYJW3GeOYxtmeXo08sH9soGC5H+P6vwWWoh3J6MwPRJEYgQ5aTtLyewNfmKCC8d0KlPb/g2VxauxpwypirGybi/Ydn+fDgFhVcpA9+X+SGssyx7Zi7zzxX46Ggpuj4/DjHjhon0+sL9pzRs3ZkBp6d6oa08lNeSsHzVKRR2Ccdbb4zF6EG9EeT5Cy4VtkTPJzzVsnb6/+P9r3PQKnQ03nrteTzXvzv8XPNwyaoznvp19ZOFffPmaN3eBte+u4j8tgEYP7QHuos892/nCTe5zQacB4zVu17t+3P51GF8Z1tf+c1F6s7vkevRSfwGit8NqYH7qVLXc/4/GdibZYMQ5fgGwftqFtKzziFT/z22785Dp9FReG1kL/iX/xuHsy4go9gTA7oYvqCybH2ET44Wok3IMLwWPUgpW94FIhDefwwZ1r7oY7T93F0fYfH2PFj/uidemzQKw8Wx797iArbs/BFFt8SvovE50+zyXUN+NEJj6ytEZJ66ris+0PZmlOH0hXIse9kerV0bFpTYi9/XJZHqvTfrD9bXBl5dblaqdmU0CD5GF4yLc9KULlCVLxGgVFyM9kDkX07hVMYpJKycj5iZMZj/yUaseEV+losFYlm5TMQHiUhcGi1nCiGYvU683yler8urS8VIWjkFcWLjge/GI+GTKRihdXfb+Bfxee4CxO/SrvSdWY/Zb6eICbHduGQkfiK3OR+fJmUg4XV1EXN1mZaMDN16xM5bjoSvYqFc58pNQlFYojp/Ziw2blmOcGX+GqSckBOSHuvnzIaSipmJOLUhVtnv2A2nkDhTtkKkYPac9WIpqXLf0Hs+ktM2ivXGIOYvG3FWp627isp1jxB5tPHdSESEjcAUQ55+swLxTXpfkgN6DAxEy6IM7EvLwPZdOUDnEAzSWi5k5X/fpiPIKXfFwNei0a+tB1ycXdGyYwSmveQHx59Fejc38U3F9u4Y8kYMxvfugJbKtoZhRC9RuH/ORqbRVUvHXtFYOmcSngvwUtLk4uyF4KhQ+IvPTn6fpS7k2QshjwGXj+tQZWyKa6lIlreN9eoFtagX4+jWFOQ4+mHytGHo+KioRFk7KNt+bah7tS56NfEZMgXvRfaFj7tMiwc69h+HMTIxp7+tvNpakoJN2/Ph2FtUwIb4oaWsmYj9la00z3kXK0GxesW3oekpha3fCMybPAzdPbW8GNUTsm0x80wdQ5znqfng0kdUsA0VR+eeGDfECzczdThe4gpHtfakyUV6YTDe1bbj5e0lKtBOCI6ei4WTDNsWL8++mCDWgfIcnDBuyVSYkVZ7L/gH9kRHpcHTGR3FdA/5aqu2gObs2omjRe4YLSr0wZ5OIg02cBTbnBwpyqQ+DYnnlcWA80nYdLwYjgEReCuyJ7y0ctJ9yCREddOWqYNZZUw6vxMbjhm2Y1wGJuGt4VoLbwOW8RkejQm9vSB7Jtk6im2Oj0CwfZ6oLGv582OOUp479ewLD3l8RNnwCBiGCSIfDdfbc7N/QhFcERjsBxcZe9m4wqd3JCb0r7lJ19YjQOSxD1rIN64+an6Ll48yo/HngbrXW8klqBHlV2jofhorsvXBhFmG4+uFHi+ForuYn3veEWNmT0fUk3K+OEbDByBYZGzRmSztN1LQ78R6rWxNHxlYUbZ6RI7DaJHwnO1fI9EwCIv83u8Uv2GP9USMCKw7asdepnPygKqt+pLZ5ZuILMJDG9T0am8NZwcrbDxSNSixEyfrktKqPfJulMlApmrg8+2/y/Dj5XL0D2imzbl9+fvno194P6PXfCQZ3xPSzg9+2nm5OF+PtD2pKPbQun+d1lf+CNQqDSl/l0uFY8pY2V2tUmBwhPL/inT1ZvbctCRsU6aiMbXKvT2ucKvlQnrNQhD9crD4K43YhxBtcvCw8Mr5nYO0wEOkz3BIclKw7Rs5EYgZkeFG6XVAeOQMNTj6ZhtSzsmJDG3fRJDyWiSCjRspXN0qt2NQse4YTKnS3U38aIvgRuZVckb9OdognuEY1FlU0r7YgMQrTug3ILiy20RJBk7KSmnnXhhk2musYwhC3cUPvS4DmdqsJuHsA3+Tbbm41tK6Y3SmkH3PL+dewi/yTXa2Vu48EBwsEnklC0eMKgIFxzNEpdAVPbtpGypJw5GTYjtPioq0ydnHpaMPWpbnIbuebG/hbugXaOCAbk/IilU+zp5TrwLcPH4KJ8sdENLLT3lfyR3+smtRziU1+GpEery7mHS1cXZTK5J1KS9VivUjj1TtemLrKK/aFiLvivq+kgNCB4erLVvGjNOo3IeQixztvrqcC9UzrlFpraDHkdRCUf6CEGz6RyJvOol0555Xt60/moHLokLYPaSyst9g9ZYxw3bEcQ2rfTvmL+OFkJ4mZck6AJ18RXD+U64a9D4qAgrxX/quzci8VvMFrJaPyu9MPnZv3Y9cc+9nqc1dOA80tkzc1n56d6jaVdHaG96yK6KzuwhS1FkqN7hXeS+O1XdZIpiq6Xi6I/Q38tydh3SdejFO/d4DPr8JqbsrqML88k1ElqHer/2DSg7ZvHK8PRJPleEvCRW9dNHF01oZBODsRbUz7s/i5C0DGH8x30A+00YOAS0HDujq3fAsdHAyNF9fRZHROdPBJwKxf4kVrylQQwwTpblI+ttUDO5gBUe39ggSgU/Un2Vbg5ly9EhVagdJmCDWYWVl9Oq7QFnE4KczSerEqC7KVbwmIwIMsxvvRXrjlQkftDatx7q31tIVD73cp1w9Tmk1n6AOZqS4Yt1L0M+xal60H6t+0vScEPxsAFxk0fIORL+26lzFtauikiUqDt6V3acqecFbtuiIwqJU8u6Bm3lp2LFuBWbOeg9vzPkQiz43aZERXLr5iZQWIj3NcMU3T1QaRFTuHYBgw70U2n4WHN6gPAivyuvjNPFZMS4XqIs2hBociMroNbVyc/ma7CJZjH1/N9mGeC3bJz4TyykXd+9Qeqpx94aPqJHlntOLClol/dlL4l9XeFf7UjigRY1dtUpxWbcNn/51Ad6YuRgz56/B6kNmjYbRCCKwkJkkzgVzTfNm/k5l+GdDfl+7Jk9kNe2H+cwpY+p2WkN8TWpl/jI5iF9ssl/i9aW8rnNFLRfwHIZpL3WAx3/SsGyeyPP312GHTgt4NLZPjkGMiEBsM5Iw/+338PbyeKRkay3eDXUfnweadD8boM7j6ekOGfsVaT+k6vfeBh6PVW+Vqc788k1EluGhDWokeZO/vNn/QGZlYOPpZoXhQTaY8vkNLN1+E9GfFqOVsxVCO6tZZRzQ9OnYuFYaV79ArVUiCWlGTzd27R2tdK+KmRlV0ZpRoTgNSwaIivC0FcgInI/1Safw09UinI2TrQoNFYjIP8jgqYZXd+3yoMNt1E7uBQeHintAGiYCU2rKB/GK8DFuy2oizR3wiPz/UbfqV+HNUGq48fUuKtKtw9t/3ozdP3sjaloMlr4/F+/PiVC6BlXRIgghIp6s6IJ2/TukZ4vvWVDXavvq0rEnRgwNr/oaPgDjX4pAv19pC902B/g/bbIN+RoVIbYTjPbaUtIdT491AEaM8YHj6Z1YtHYbUtKOIGXrKqwUAZbXoOEINbk6XTMRMK5bgrlrdfjFNwIx82Zh+eJ3sNBkYI0m5+lXPW+GDkCUyJvnAsypPNbP7DLWpNzRs9p+hWPMC6J8DO9a8XyWloGRmL1gOmJGBcCrSI8ta1fh93/didyK76ITfPpPwsL50ZgwyAePXNBh/V8/xNtxaVUC2KZ0L84D92I/zXWzrOHdwCvchfJNRHfHQx3USIbARgYrhsBm5mBbzHnOFld+voUXettgufhcdlXbffL2AxqFbwhG9JYTaYj9ZBvMuRaUv2sNZshRwvovR8KGdxAZ5gcPV4eGdfXw8kOQErOkoXXYFC2AMnkNVStIrcWyiq9ScUq9CHb3tfNDpDKRDL3pJdscvZgrRcKvnfjPtTVaa/FYkq7uvuGKinUXI/C5GvJBvKJ738UftBZuSiXqcnZ2lavAqhxkyy5djg5wuevf2AzEf6lHkXdf7f4OJ9jWmgZXBPfyAq7ocfKiqGhk6KEXFceQQKNmNm0/C6zdKvr8m75M7wEwR27uVeV/rzZqIWjZQnaVEQXXveZt9AjsoAZadyg9tWruAR9rUTHekoQtZxzx7PhJiDHjngRF5jbl3gKv4dGYNiQQXiJAvrNcRT6K/4oc4FVDvsiXv4eahhYt5P+FuFytG505zC9j6nZ+kj3SamX+MqVo4VnzfvXoLO9hMqLcPzICMXPewVv9XXEzOwWbjpqcGO290L3/WMyePx3juzmg4NhObP9B+8xc9+15wEhT7GcD1Hk8z+cpXRNdnNRus+r3vhQFFY8SqIv55ZuILMNDH9QYWIucSDpVhthtNyHvqAn2bYY/jbRTHrQpRzzboSvDoi03lGXLbvsqmR+i58Uozea5H0Vj5JxtRgMCCPlXxSm8quJCbY6TGypOs6V6JH2jVu2rcPfQWoLycVW2xlcIRMSbyp0oWDJnCVJMoqnKZ8oAHoHhWhc4OXyzUZCQuw0J6s02d55HOKImK7mE2R/EaQMCSHrErVyu9rN/ZSTClXqsH4JfUSu0SSvXIKViv/OR8U2CFgAZEeseqQyykITZ88S6q1zok8/Y0SZN3cYFwTrZB6KndrP7dq0bXYXMZOzLE3WZbgHoqM3ycFfbpa6ZdI+QI2GZ/vlt+TkPl4tEpcHHp2prS1FhjV1gbLt1gb91Po4c1+PocRGJdg5CsHErhGE/dfuwo7EJNT0G5XqkfCvywdEPPbVYXE2HvBdCfLfq+r42RXrMolbcW/QdjvFjp2DhnFlY+N9jMTDAo4ZuRjUryruq3FvQqW3VvphFPzfVdfKbJs9g8UHPIFFJvKjDVl2VE0k1Pp184Ci+N8nfmjxgVgQ6RT9rk7VpQBnz6SqH7xXb2XOkeuuAdpzNWqaHnwge8rF7ez2tDOWlJs+usYFXUAfl3F3RNalULKNOqaxdRYVYtnSb0XWxpLjq3zbwPFAr0/U2hdvZz9ugHquajmce9h0UvwrW7uiptajYinIoLxGc/DYZpkkqKjQNdMwv30RkGSw+qLG2tkJ5eeMetaO/VI7NqaV4bW0J+vs3Q9xkexzVl+H9BDWwMZABzfsJNxD7oj3eG2GHP8bfwJeHS5GcVaYt0XAO/ecjfmG4+HHMRdKfBqO1oxXaB8vBAbqgtdtgrJALeYgARo4yIyf9QtQb4zfFYHDkDBGUTMVgv/aI+p8aamK+QYiQQ8uICvvUoYMxdc4MTFiqDmocOHkF5stWokOzEeLXBVG/X4Il78/G1Ij2cAtboQ19LPhGIUYZYQyIHxuCLnLgggEhaN96MBZUPG/mTnNFhEhfpEzGV1EICZBpEK+AEHW/5YNL54wQS0kOCP/dfDUQS1+AkMAQbVk/dPmvuBoq+q4YMWe9su7c/4lCez+ZTzIvZiAqwAdub8ZXtqB5+YiQSYrH7BdnYNsdqfw6oMeQYHiJgGDHylXYkZmrPAguRxePRWsyUNTcB1FDjG569/VS7inS79yIxB/EsnlZSIlbgsU6kS3qEk2juRe8HwUKjiUh5bz6cLoc3WYs+3MS9FrZrEJWykQyc1M341+ZgH9QoEmlXdtPkbtbxH5u0uVoD8jLEQHIOizbXn8rW3rcYizbmoYc+Xfn07Bh2TokyiG/B4UrgYzCPhjPDRIl4/wRLFm1Gela2uXyO9auwpaKwQxuPz3mcYAcIyBXBE9H5fFStqG9zHyCoWPb1mrlLnG/uu8yjVtXYc6mXLMDo9q0by8DpRz8a3sGLot152TnKBVYr/4D0KN5MdLXrcLaQ1nKZwXXc6E/FI8lXxpGkBM6h+JZT1FxPCTKhtGx2fTRCqyvNiqbiYaUMZ8BiOrmgCLdNvxprfg8rzIf3p63AZkyADFnGc8BGP2kWOb4ZiyK268tk4/LP+wX5SlOG/GuEOn/WII35qnfRxnw3SzKQcpWnTifOMG/i/imledgx7IF+P1i8Tci7fJQ3rySgU27ZGXbC91rjT585L3oIlD5FluV73oOcpQrWw08D1RT23pvU6P3swkYjpU4novijqhlS5zvEteuwQaxea8BwxFqaE1tEYKhYlno92OJ4bhq58YlB6rng9nlWxwXR9kt4sol5DT4iaMqWU+R9RUiunMs/jk1pWVlsLayEieLhsdnCzffVIKTp3yb4Q9D7eBoZ4XwLs2weu9NnL14C7/p2Aw7vxMBzTY1oOne1hpt3a2V59Is23ETBzPL8HKfxlYnbODddxxeeroVii9m4MiZfOTn6KE/lyd+Sn0QMXk+Pv6nqKQbaqgeQejVMgM7vzmCrBMp2LkvDx2iV+DrVSPx00fxyPAfiRmjAsRPrdQaQd1tkZIgftB/zMKRfSlIs+6pPnfFzhuhz49Bx3I90namYH/yTuzctR9HClsj8r+iENGtg1hGrsMGPmEj0bVQh32HdDh3TqTtrC3C/7INSX/wwJLP95v3nJpqz3bJwf731ohwCwif8EeEVvS8qWW+awBGjh8I53NJiN+bJtIg0nFR5NCoWGz8OhbDjHvuPBqEwUNaIWvPNmScyVGWLfKfhFXfrMHICysQf9okLXLdL4XC+cIRfCfyaM8+mRcp0LmEIualkQgNbC1+yiRvuLXcj6+/0SMnJwVdnjdOdwNpz5EprOl5B81/jT49muOqLg2J+44hce9hHEi/iKLHAjBp+gvoanzjuL0P2tucRMqpXJw8LJY9oMMPzk9h+uTeuHnkOC55m/GcGngitE8HrcyoDM9IqXymiBvaeRcg43AmDh48rKbp30DIy9F4quQw0gtN12GDNo4XsWd/Dq5YeWHwC70qn51iYLSf+w6KfRXrTBTHNjVb5LR/JwT8yg01du5UnrMBDHwlFM0ObsUXCeLvUr7HD4UO6PjbcXijT9Vwzql9bzz12AXoDpwU21HTLpfXW7dCd79OaOuqJczc9GjP+aj2bCBRxa3/GRZu8GzxI5IPZOGoPF7KNrRX0n7sOnwBHr0ClOePVD8GGhdPtLspKmjfiv3R0njGzg/RU7qjaG8WCo2fTdTAtNp7tUGz02k4qjuJvWLdB44Xo1O4P1raPI7uvT3RLFvM35+mfJa49xhSMn+Bm3cHdO3SWnuOhxN8u3ui5N86HE3PwAG5nMjrIt8BmBlWir3fifXV+pyahpQxO3gEPIG2P3+Pb9MycWC/mg+pP5aibVgo+rRvBXsrc5axwWMB3eFnrceRgzqxb+p29x7W4+qjngjw94OHgx1aetqj6EwGdiUeFq9/YUdSGnRXnRAc+TJGd3wEsHLBY63KcSkjDdt3i2V2i2X2n4QeHhg68UWEuisn0xo4oO2vbuC7w2dw/IgsD2k4Vu6pPhOpIeeBaupYb4PKhMm8Ru9nbd+N2s5BNc03PlYiT/aIYyXOd6evOMB/6AuYGt7W6HwhlvXvDDfxm5qa9j0OHFCX/cG5G6a+6An9txfgZLz/ZpfvVnC4fBiHT53DgUvOiBBlvaHKyspRfusWbG1quhpERE3B6pagTVsk+TAruQv2jXig1UeJN7ElrQzv/tZW6W5mcLHgFqauK8HjLlbIuFBeEdAY/Hj5Ft5cXwIPVyssH1vl4RKNVyiCGu0CkIOTa0ULTTXFYjnlgp4r5LPx6lRajHytyd3BVaxTmTJiWJdQ4+cGhrSZs807yZAOG5GOyl/BGsjuY0omwdXcBFfkf+1/U5yfL9Ys3IV8uFmkXg2FjRNc5EM0alNSiIIbYsH6lrtdcvjgn2WXFhs4OsvnOTSNiv1sxHrlsL9F5eLvmtd1n49UiqLrhepV13ry6XbSU6eiNHz658249uwUTHvKAUXymCmKcTktASu/zgF6j8b7o+q6Cq+5Y8e8Mp9sHV2VZ7dUYdiuzJs68tyQh7Z2ps/eqUdDy5jx8rWlp0HL1JFmM/a9UWWnVKxX/aLX+DdmnwdM1bPe23HHviPmMOd4GjT0e1LvMda+H9YOcGnE/WwlN25Cjq5pZ9uU31kiMmbxQU15eTmKS27ikQb9etYv7/otrPlXKYYFNYNfm7rOnEREdbuc+CHmbnPDhCVjlYcOViUCnpjNSH9yBJZHBmjziOhB8ktRCRzsbRvVq4SIzGPx3y7DCUI27TYld2crzBpiy4CGiJrI1RoeLFqKnO37kA4HBPdgQEP0IDLUTxjQEN1ZFt9SI928WarchGdvf1cbwomIzFMkn+kRj5Q8dZSvjo/KLiiluHxGD/11B3QcHoVpfbzUZYnogVJSclMENFawZdczojvqgQhqpF+KimFvZ4dmcvxlIqL7jghiMlNwVJeNn5TRtZzg3c0PPTt1gAvrOkQPJNlKU3LjBh5xvJc3pBI9HB6YoKa0tEwZNKCp760hIiIiagx5L40cHMDG5jYe2E1EZnlgmjXkCUM278pmXiIiIqJ7ydDtjAEN0d3xQPXVcrC3Q/kt2dTLwIaIiIjuDVkPkfURWS8horvjgbsBRQlsykVgwxYbIiIiustk/UPWQxjQEN1dD8w9NaaKS26oI6LZ2XLwACIiIrqj1EEB1C5nDGiI7r4HNqiR1MEDbqKZdTOlTyuDGyIiImpKMpiR9Y2y8jLY2dryHhqie+SBDmoM5HNsbooTjiQDm2bW1spDsOTVFCIiIiJzyV4gsntZmXxpD9a0FYEMn0NDdG89FEGNgTwJlYoTUFlZGeRuyxMTERERkbnkBVErKys0a9YMNs3Ui6REdO89VEENERERERE9eHh5gYiIiIiILBqDGiIiIiIismgMaoiIiIiIyKIxqCEiIiIiIovGoIaIiIiIiCwagxoiIiIiIrJoDGqIiIiIiMiiMaghIiIiIiKLxqCGiIiIiIgsGoMaIiIiIiKyaAxqiIiIiIjIojGoISIiIiIii8aghoiIiIiILBqDGiIiIiIismgMaoiIiIiIyKIxqCEiIiIiIovGoIaIiIiIiCwagxoiIiIiIrJoDGqIiIiIiMiiMaghIiIiIiKLxqCGiIiIiIgsGoMaIiIiIiKyaAxqiIiIiIjIojGoISIiIiIii8aghoiIiIiILBqDGiIiIiIismgMaoiIiIiIyKIxqCEiIiIiIovGoIaIiIiIiCwagxoiIiIiIrJoDGqIiIiIiMiiMaghIiIiIiKLxqCGiIiIiIgsGoMaIiIiIiKyaAxqiIiIiIjIojGoISIiIiIii8aghoiIiIiILBqDGiIiIiIismgMaoiIiIiIyKIxqCEiIiIiIovGoIaIiIiIiCwagxoiIiIiIrJoDGqIiIiIiMiiMaghIiIiIiKLxqCGiIiIiIgsGoMaIiIiIiKyaAxqiIiIiIjIolndErTph0/ZDRQUlGhvVPYuzrBvpr0hIiIiIqL73sMd1KQuQ7uX4rQ3qhn/OISpQdobIiIiIiK67z0QQc2lHQsxfc1p7Z3UGRNXvo0wd+1tbRjUVFdyASd3JyP52FHsOXEBcPFBUMiTCB84CEGedtpCRERERET3jwfjnppf8pB8ItPolYeCMu0zMtMNnNm0EJG/GYHBM2Ox4Iu9al4m78Dy2IUY0f9ZRM7dgWzmKxERERHdZzhQAAFl15H6twl48Z3NSP5Fm1fNDSR/NRcj3tqLAm0OEREREdH9gEENCddxLfcGLmnv6nIpYRnWpd7Q3hERERER3XvWP+bkIvt8LoqKq44CRkaun0PypmWYNfoF9O3SG+0Mr9+8gFkfJSP7uracseNxiBw9tuK1YMdlZXbB4bWYNaR/xTp6hr2J1YfVz6SC05ux4MXaPzdVcPYovo59C5FG65SvvkPewuo958zrhtesDcLmfYC/P9dOvHHGmDnr8J3uEM6dOoTv/h6JqrcYXcDnB7/XpomIiIiI7j2rA4fSlIEC2ni0gk9bT2Wmpbm06U30fCdZeyeF4MM9H2D449rb2tQ3UEDJOez5WyzmfHYU2dqsGrk9g483LMIg4+wzXXfUIsS5fIbpH2XW0CJih7FLv8DYq8vwyry9NWzLDhNX7cY7fStv1C85uxerFy5AbHJNEVUl74HvIS52ILzNGaa67ALOZDnDt7OzNkO6jj0z++OVBO2t1PdtHFk1DK20t0RERERE95J1QBdfPOHni3a/aqPNogr2LYH/fFd3QCNd3YtX522uu/vW+rcQWWNAI93AujdG4NkaAxrpBlav3FzlM3s34GJ63QGNlL1jLhZsrr2lp4pmbUwCGskZLUxHkbOx1yaIiIiIiO49axdnJ7RwcYKVlZU2iyo5I2zyNIRp71o93hFjXhiPqcMC4PuINtNg//8i6aw2fScc34vU89q05PYMJr4RoL2xE8GIeD85EmODWlZrQdn+zz31B2a1KcvEsd3atMa/mw9baYiIiIjovsGBAurTfhhen/Uq/r51F47sWYfFc17FjEWrkbAiEv7aIqpMnMyqryvYDOw+LO9V2Yf4cdVbxlqFGT4/hITJpp8fRfZ/tEmN9/OTMO/1D7D74D7sjl+Ed16fhnn/2IRVpus+ocOZ+ht1anQp4WN8YhxMIQBjB3XUpomIiIiI7j0OFFAvOwSNG4+wtvYoOKvD9i8+xoJpY/HK4h24qC1hcPGXukcFG/Py8/BVenfZwT8kRJlnbFy04XPA/zfPqBN1se+BsZND4PvIZZxJ3YEv/xaLWaMnIHZ7nraAwXUU1DpUcx3Ob8b8eclVusz5/24afvsr7Q0RERER0X3AWgY0MrC5fCVfm0VVlF3HmU2xeCU0FF2HTMSr89Zi9e5MJJ++XO3+mOxLZt67Itg3b4Kn81/PxNfzJqJv4GA8+9JczProf/GlfGDmf0yDq3O4eFWbNNf1o1g+aSG+Ng6G2kfiT68FgHfUEBEREdH9pGKgAK829Q0V9jC6gdSlE/HsO/+LPWYEBScL7mJr1y86LH9xLKZ/oTPjfpkLKGlIS42y7qmIrXKPUDvMmPcqgkzvJSIiIiIiuscqBgqgGpyIw7ufndPeSHYIGfcedu/bh3N73sYgbe69cPLzuVWDjkc6Yur7X+C7tEM4sqB61zazyRaa0RNNAhpnjFn0AaYGNUHrEhERERFRE+NAAXU4mbwZJ7VpxROvYt6MgfB1F5X7Um3ePZGJ5PgL2rQq5PV5mDG4HVzsgeLSRj7xPy8ZsdVaaOwwfMHnWDyMQ34TERER0f3pAR0oIBnTwyqfrl/1tQyp2lI1+fyDj/H1iVrujTmxB9u3Z+LkiR1YPisW27XZ94Pk7Zux/YRIW8LHmLP4qDa3Ac7vwKzhb2J5tWGp7ZH9z7cQGRZaNR9jddrnRERERET31sM9UECHrhirTRpcSl2L6Z/rUCCmff1Mu3HpEDtzLAaPnovY1Ea2hjSJdvDvq00aHI/Dq6NF2mauxZ4Gj3Smw/Lhc/FljfcNXUdqjYMPEBERERHdHx7ugQKcQzDohRruE/khD9fEf/Yhw/BOe3VWdc7wffxe3WNih5DRryJIe1eNW8vqDwetT2OGfCYiIiIiug885AMFiOBgxqeYF6I9HMbgxDlky954zTpi4toPMLVz1eClVedh+DA+Hgnzhmlz7oHO47F2VSRCqgQvYn9GvY3d2zfhXiaNiIiIiOhusrolaNMPtZLrl5GdpUeBqw98PVrCxaSlo+TqBZzJKISLXzt4u91Ho4CV3UDB+XM4UeCEJ9q3qZZuIiIiIqIHHYMaIiIiIiKyaBzSmYiIiIiILBqDGiIiIiIismgMaoiIiIiIyKIxqCEiIiIiIovGoIaIiIiIiCwagxoiIiIiIrJoDGqIiIiIiMiiMaghIiIiIiKLxqCGiIiIiIgsGoMaIiIiIiKyaAxqiIiIiIjIojGoISIiIiIii8aghoiIiIiILBqDGiIiIiIismgMaoiIiIiIyIIB/wdRrZQSIQ1SuwAAAABJRU5ErkJggg==)"
      ],
      "metadata": {
        "id": "s_DQ5B6Yvq3l"
      },
      "id": "s_DQ5B6Yvq3l"
    },
    {
      "cell_type": "code",
      "source": [
        "model=\"meta-llama/Llama-2-7b-chat-hf\" #I have already has a permission to acess this model so I am using this one\n",
        "# model=\"daryl149/llama-2-7b-chat-hf\" (If you are not getting access model then you can use this one and comment above one)"
      ],
      "metadata": {
        "id": "dmAwr5-d-z6F"
      },
      "id": "dmAwr5-d-z6F",
      "execution_count": 15,
      "outputs": []
    },
    {
      "cell_type": "code",
      "source": [
        "tokenizer=AutoTokenizer.from_pretrained(model)"
      ],
      "metadata": {
        "id": "FP8TQyr2VVoU"
      },
      "id": "FP8TQyr2VVoU",
      "execution_count": 16,
      "outputs": []
    },
    {
      "cell_type": "markdown",
      "source": [
        "### Issue: https://github.com/facebookresearch/llama/issues/374"
      ],
      "metadata": {
        "id": "KMCQZkHTQIKi"
      },
      "id": "KMCQZkHTQIKi"
    },
    {
      "cell_type": "code",
      "source": [],
      "metadata": {
        "id": "MkXmVarznBxW"
      },
      "id": "MkXmVarznBxW",
      "execution_count": null,
      "outputs": []
    },
    {
      "cell_type": "markdown",
      "source": [
        "In pipeline,we are giving text input text to pipeline and it will give responese.Basically,in pipeline we apply preprocessing with help of autotokinizer then  autotokinizer covert text into number then vector passed to the model then prediction would be happen and it will give response.Below is the autopipeline so we don't need to take care of this task automatically it would be done."
      ],
      "metadata": {
        "id": "vIJbmP_qm1ns"
      },
      "id": "vIJbmP_qm1ns"
    },
    {
      "cell_type": "code",
      "source": [
        "pipeline=transformers.pipeline(\n",
        "    \"text-generation\",\n",
        "    model=model,\n",
        "    tokenizer=tokenizer,\n",
        "    torch_dtype=torch.bfloat16,\n",
        "    trust_remote_code=True,\n",
        "    device_map=\"auto\",\n",
        "    max_length=1000,\n",
        "    do_sample=True,\n",
        "    top_k=10,\n",
        "    num_return_sequences=1,\n",
        "    eos_token_id=tokenizer.eos_token_id\n",
        "    )"
      ],
      "metadata": {
        "colab": {
          "base_uri": "https://localhost:8080/",
          "height": 241,
          "referenced_widgets": [
            "2949e1522d3c437e9d6e84c5f38d8a3c",
            "c3515bdab73a480ea3f2fff72fb4d334",
            "fc0f36db97c44a2c8d4b2affc7b23e4b",
            "7c506cef046a46c4ac5952ef95ee5b29",
            "8fccdde38bb44129b69f91b6be3a6160",
            "ab7c34f84f474cb0868e432666918404",
            "42b7dc47296744e3940fc73a91c990fc",
            "22effcf2eab644d78692de908bb8ec9a",
            "3c0ea1ed27d54d46ba2470452a654b01",
            "0dd82b9c04be47baaef6088101d765b7",
            "e670b7ee4801467388deb993129991eb",
            "6cec0f59e5244489ade29e63595789ce",
            "6d8ee4f29b8a43f0899698679b806c7e",
            "85a73e8e67b14ecab4c9a356077e51c2",
            "dace1a69db6245ca95e8d7210da3d573",
            "9348030f08ae47d6afc50737d48b2f11",
            "6cece3347d314cc2a3992c5f45c9d300",
            "9e833511d0c842f49764af6d33975564",
            "6e7df1a5375d4a2b9acff3a82f0adf40",
            "12887eff0c3c4b9eb1d5f4a70c8d10e5",
            "f9a69b00c7dc45dd94fe9628d92919f9",
            "850b49d2b7f64d7883f4785d30af45ff",
            "f115c75fb28448d2b40d85bd895bcdb5",
            "fd2f6fff9f724af98743d5362fac7139",
            "aefcd725a0134e6eb2d93471488bc031",
            "b78e22e5cfd4413b93673338a8cc326c",
            "490d7ace99a84969be0843fc1f661a41",
            "dc96706389ad4caab44480e75adb3fd7",
            "584fbc3d49cb4269ba51660b816ab9e1",
            "49201bdfeb2e4a8cb7185bf1de637925",
            "69716bc66a1c489e89a529ab748dcac3",
            "215f710d277c42b998f3f4c9aa9db45b",
            "02d4a82749fe48dd8471840f91e79562",
            "ea9c701205d64fa08f5e92befe9195e6",
            "80677ad7ea094277aef20355320ec278",
            "ec211f8f247b48c88cdb9e03aa26eac9",
            "68b79334f039414bbd420bb9f57f1462",
            "0aa5598eba2043a785340852bfee199f",
            "9d3a8a3f7e904d6e8094891c55e0283d",
            "f167dcbb48014261b5b55b49b8948fc3",
            "114133ad53af4d3d9ae292b3f08a7344",
            "0bde854d12d44e658c0400620f566995",
            "f35a7817df5948e5a0c55823786d2b71",
            "fef66ef5124743d0bf6ed7f513c8399f",
            "5c1c0e2c61c3425db4610f290fd5fba0",
            "d17a52e41ad447cabe297838cf74c228",
            "dbd2221cb59546f1bacea93099b72149",
            "529773865b444b5cb4e43911f4837177",
            "a56e1ff5fcff4583b1cde8b75b20238c",
            "46a60bc6e25b444190ddb6931c6f6257",
            "34a9227696a94428af82d7e85d1cf1a3",
            "0ebd5efba258408299e3c0adf80a88bc",
            "a817ae6eb848498fa74c9bfcdf37d833",
            "1e31def5d61f4af5a37d936c2371a1f4",
            "b31136c20f9f4535929f75afda74e141",
            "e39c4cef080248d2887e2f8d8411d7f0",
            "54c38c9453cc49fb8a6a37fe329ead25",
            "515c8be716424c2086ed8fccd22c31b4",
            "1d03c64743924d65a0755a57c3b40302",
            "dafe1d0a943c4c65b3946a91a977c838",
            "60a4b966436e4967b72cc7bc1c74e811",
            "8da5a671d228495fbdd78b723bf81840",
            "82d5f76ecb41476ebf445d83dca9889c",
            "2c8175a61e5c43ab8a2d5a238bc5a7fe",
            "fae2a3ec73cb485ab5089539acc9489d",
            "a01c17241e1644fd8f7d66c4e9050036",
            "9aba50409bb94b938c6d74c979795b25",
            "72f20d8f6a4a44a08a794a9f19be70f3",
            "e2a4f6a2e8ab478cbc0be63a5597a7c9",
            "393b11d73d53433cbe5ab1cf5a65b75b",
            "023407ee2ff147bba2c353ef15dd6217",
            "230fad3c8a164793874bc71853db7b46",
            "cfaa90dacdce41caaf0d5d0dbe8613af",
            "aaf9726f98a24a158e417640451b57e7",
            "5f957eda8e284b8e90eccb9f14557da8",
            "11407a77c3994fd28dd0d50ab683f7d5",
            "342c3961c1f4498f875e89355d1514b2"
          ]
        },
        "id": "D4Z_eKlbVVqx",
        "outputId": "b612532e-3fcc-4ee9-b1ec-3b964b0b0f4c"
      },
      "id": "D4Z_eKlbVVqx",
      "execution_count": 17,
      "outputs": [
        {
          "output_type": "display_data",
          "data": {
            "text/plain": [
              "config.json:   0%|          | 0.00/614 [00:00<?, ?B/s]"
            ],
            "application/vnd.jupyter.widget-view+json": {
              "version_major": 2,
              "version_minor": 0,
              "model_id": "2949e1522d3c437e9d6e84c5f38d8a3c"
            }
          },
          "metadata": {}
        },
        {
          "output_type": "display_data",
          "data": {
            "text/plain": [
              "model.safetensors.index.json:   0%|          | 0.00/26.8k [00:00<?, ?B/s]"
            ],
            "application/vnd.jupyter.widget-view+json": {
              "version_major": 2,
              "version_minor": 0,
              "model_id": "6cec0f59e5244489ade29e63595789ce"
            }
          },
          "metadata": {}
        },
        {
          "output_type": "display_data",
          "data": {
            "text/plain": [
              "Downloading shards:   0%|          | 0/2 [00:00<?, ?it/s]"
            ],
            "application/vnd.jupyter.widget-view+json": {
              "version_major": 2,
              "version_minor": 0,
              "model_id": "f115c75fb28448d2b40d85bd895bcdb5"
            }
          },
          "metadata": {}
        },
        {
          "output_type": "display_data",
          "data": {
            "text/plain": [
              "model-00001-of-00002.safetensors:   0%|          | 0.00/9.98G [00:00<?, ?B/s]"
            ],
            "application/vnd.jupyter.widget-view+json": {
              "version_major": 2,
              "version_minor": 0,
              "model_id": "ea9c701205d64fa08f5e92befe9195e6"
            }
          },
          "metadata": {}
        },
        {
          "output_type": "display_data",
          "data": {
            "text/plain": [
              "model-00002-of-00002.safetensors:   0%|          | 0.00/3.50G [00:00<?, ?B/s]"
            ],
            "application/vnd.jupyter.widget-view+json": {
              "version_major": 2,
              "version_minor": 0,
              "model_id": "5c1c0e2c61c3425db4610f290fd5fba0"
            }
          },
          "metadata": {}
        },
        {
          "output_type": "display_data",
          "data": {
            "text/plain": [
              "Loading checkpoint shards:   0%|          | 0/2 [00:00<?, ?it/s]"
            ],
            "application/vnd.jupyter.widget-view+json": {
              "version_major": 2,
              "version_minor": 0,
              "model_id": "e39c4cef080248d2887e2f8d8411d7f0"
            }
          },
          "metadata": {}
        },
        {
          "output_type": "display_data",
          "data": {
            "text/plain": [
              "generation_config.json:   0%|          | 0.00/188 [00:00<?, ?B/s]"
            ],
            "application/vnd.jupyter.widget-view+json": {
              "version_major": 2,
              "version_minor": 0,
              "model_id": "9aba50409bb94b938c6d74c979795b25"
            }
          },
          "metadata": {}
        }
      ]
    },
    {
      "cell_type": "code",
      "source": [
        "llm=HuggingFacePipeline(pipeline=pipeline, model_kwargs={'temperature':0})"
      ],
      "metadata": {
        "id": "7iZqzeWMXGjn"
      },
      "id": "7iZqzeWMXGjn",
      "execution_count": 18,
      "outputs": []
    },
    {
      "cell_type": "code",
      "source": [
        "prompt=\"What would be a good name for a company that makes colorful socks\""
      ],
      "metadata": {
        "id": "RxbjfCtvV-YM"
      },
      "id": "RxbjfCtvV-YM",
      "execution_count": 19,
      "outputs": []
    },
    {
      "cell_type": "code",
      "source": [
        "print(llm(prompt))"
      ],
      "metadata": {
        "colab": {
          "base_uri": "https://localhost:8080/"
        },
        "id": "Pxe3K3-fVVtJ",
        "outputId": "06e21750-a041-4c8d-e78b-fa1aefbadfa3"
      },
      "id": "Pxe3K3-fVVtJ",
      "execution_count": 20,
      "outputs": [
        {
          "output_type": "stream",
          "name": "stdout",
          "text": [
            "What would be a good name for a company that makes colorful socks?\n",
            "\n",
            "Answer: Here are some suggestions for a company name that makes colorful socks:\n",
            "\n",
            "1. SoleMates: This name plays on the idea of socks being a companion for your feet, and the word \"mates\" implies a sense of friendship and fun.\n",
            "2. Hue & Cry: This name references the idea of colorful socks making a statement and causing a reaction, while also being a clever play on words.\n",
            "3. Footloose & Fancy-Free: This name conveys a sense of freedom and fun, which could be appealing to customers looking for colorful socks to add some excitement to their outfits.\n",
            "4. The Sock Syndicate: This name has a fun, playful tone, and the word \"syndicate\" implies a sense of collaboration and creativity.\n",
            "5. Sock It to Me: This name is a clever play on words that references the idea of socks being a fun and fashionable accessory.\n",
            "6. The Sock Society: This name has a sophisticated, high-end feel, and the word \"society\" implies a sense of exclusivity and quality.\n",
            "7. Socktastic: This name is a playful, fun take on the word \"fantastic,\" and it conveys a sense of excitement and energy.\n",
            "8. The Sock Station: This name has a fun, playful tone, and the word \"station\" implies a sense of reliability and consistency.\n",
            "9. Sock-a-Block: This name references the idea of socks being a fun and colorful accessory, and the word \"block\" implies a sense of solidity and reliability.\n",
            "10. The Sock Studio: This name has a creative, artistic feel, and the word \"studio\" implies a sense of professionalism and expertise.\n",
            "\n",
            "I hope these suggestions help inspire you as you come up with a name for your company!\n"
          ]
        }
      ]
    },
    {
      "cell_type": "code",
      "source": [
        "prompt=\"I want to open a restaurant for  pakistani food. Suggest me a fence name for this\""
      ],
      "metadata": {
        "id": "nF5XFKc4Xt_v"
      },
      "id": "nF5XFKc4Xt_v",
      "execution_count": 23,
      "outputs": []
    },
    {
      "cell_type": "code",
      "source": [
        "print(llm(prompt))"
      ],
      "metadata": {
        "colab": {
          "base_uri": "https://localhost:8080/"
        },
        "id": "8rmgXHMPX453",
        "outputId": "e77dbfb8-a0b9-459d-8b37-e02eb9a588c4"
      },
      "id": "8rmgXHMPX453",
      "execution_count": 24,
      "outputs": [
        {
          "output_type": "stream",
          "name": "stdout",
          "text": [
            "I want to open a restaurant for  pakistani food. Suggest me a fence name for this restaurant.\n",
            "\n",
            "Answer:\n",
            "\n",
            "Congratulations on your decision to open a Pakistani restaurant! Choosing a unique and memorable name for your restaurant is crucial to make it stand out and attract customers. Here are some suggestions for your Pakistani restaurant:\n",
            "\n",
            "1. Spice Route: This name suggests a journey through the flavors of Pakistan, which is fitting given the diverse and rich culinary heritage of the country.\n",
            "2. Tandoor Nights: Tandoors are clay ovens used in Pakistani cuisine to cook a variety of dishes, including naan bread, kebabs, and roti. This name evokes the warm and inviting atmosphere of a Pakistani dinner party.\n",
            "3. Lahori Kebab House: Lahore is known for its delicious kebabs, so this name would be perfect for a restaurant that specializes in these tasty treats.\n",
            "4. Karachi Kitchen: Karachi is the largest city in Pakistan and is known for its vibrant food scene. This name would be great for a restaurant that showcases the diverse culinary delights of Karachi.\n",
            "5. Punjab Palace: Punjab is the most populous province in Pakistan and is known for its rich cultural heritage and delicious food. This name would be fitting for a restaurant that offers a range of traditional Punjabi dishes.\n",
            "6. Desi Bites: Desi is a term used to describe something that is traditional or native, so this name would be perfect for a restaurant that serves authentic Pakistani cuisine.\n",
            "7. Pashto Plate: Pashto is a language spoken in Pakistan and Afghanistan, and this name would be fitting for a restaurant that serves a variety of dishes from the Pashtun region.\n",
            "8. Sufi Sizzlers: Sufi is a term used to describe a type of Pakistani music and poetry, and this name would be perfect for a restaurant that serves spicy and flavorful dishes.\n",
            "9. Kebab Corner: This name is straightforward and easy to remember, and it clearly conveys the focus of the restaurant on kebabs.\n",
            "10. Pakistani Palette: This name suggests a range of flavors and dishes from Pakistan, and it has a nice ring to it.\n",
            "\n",
            "I hope these suggestions help you find the perfect name for your Pakistani restaurant!\n"
          ]
        }
      ]
    },
    {
      "cell_type": "markdown",
      "id": "0782a2dd",
      "metadata": {
        "id": "0782a2dd"
      },
      "source": [
        "##**05: Prompt Templates**"
      ]
    },
    {
      "cell_type": "markdown",
      "source": [
        "Currently in the above applications we are writing an entire prompt, if you are creating a user directed application then this is not an ideal case\n",
        "\n",
        "LangChain faciliates prompt management and optimization.\n",
        "\n",
        "Normally when you use an LLM in an application, you are not sending user input directly to the LLM. Instead, you need to take the user input and construct a prompt, and only then send that to the LLM."
      ],
      "metadata": {
        "id": "jszTHb6J_dNV"
      },
      "id": "jszTHb6J_dNV"
    },
    {
      "cell_type": "markdown",
      "source": [
        "In many Large Language Model applications we donot pass the user input directly to the Large Language Model, we add the user input to a large piece of text called prompt template"
      ],
      "metadata": {
        "id": "unU1DcEv7TWh"
      },
      "id": "unU1DcEv7TWh"
    },
    {
      "cell_type": "markdown",
      "source": [
        "#Import All the Required Libraries"
      ],
      "metadata": {
        "id": "DFpFw98_YfRt"
      },
      "id": "DFpFw98_YfRt"
    },
    {
      "cell_type": "code",
      "source": [
        "from langchain.prompts import PromptTemplate"
      ],
      "metadata": {
        "id": "pNsR5v97Yfhd"
      },
      "id": "pNsR5v97Yfhd",
      "execution_count": 25,
      "outputs": []
    },
    {
      "cell_type": "code",
      "source": [
        "from langchain.chains import LLMChain"
      ],
      "metadata": {
        "id": "9N0TFAYnZsVX"
      },
      "id": "9N0TFAYnZsVX",
      "execution_count": 26,
      "outputs": []
    },
    {
      "cell_type": "markdown",
      "source": [
        "#**Example 1**"
      ],
      "metadata": {
        "id": "IWqka6F_93QB"
      },
      "id": "IWqka6F_93QB"
    },
    {
      "cell_type": "code",
      "source": [
        "prompt_template1=PromptTemplate(input_variables=[\"cuisine\"],\n",
        "                               template=\"I want to open a restaurant for {cuisine} food. Suggest a fency name for this\")"
      ],
      "metadata": {
        "id": "whDpvVciZ7LH"
      },
      "id": "whDpvVciZ7LH",
      "execution_count": 27,
      "outputs": []
    },
    {
      "cell_type": "code",
      "source": [
        "input_prompt=prompt_template1.format(cuisine=\"pakistani\")"
      ],
      "metadata": {
        "id": "hLUd-XhWaVhI"
      },
      "id": "hLUd-XhWaVhI",
      "execution_count": 28,
      "outputs": []
    },
    {
      "cell_type": "code",
      "source": [
        "print(input_prompt)"
      ],
      "metadata": {
        "colab": {
          "base_uri": "https://localhost:8080/"
        },
        "id": "lN7G0qjdcCFr",
        "outputId": "9972ffcd-5ce8-4612-feb4-778f832c601a"
      },
      "id": "lN7G0qjdcCFr",
      "execution_count": 29,
      "outputs": [
        {
          "output_type": "stream",
          "name": "stdout",
          "text": [
            "I want to open a restaurant for pakistani food. Suggest a fency name for this\n"
          ]
        }
      ]
    },
    {
      "cell_type": "markdown",
      "source": [
        "#**Example 2**"
      ],
      "metadata": {
        "id": "qlKeWd7B95-R"
      },
      "id": "qlKeWd7B95-R"
    },
    {
      "cell_type": "code",
      "source": [
        "prompt_template2=PromptTemplate(input_variables=[\"book_name\"],\n",
        "                               template=\"Provide me a concise summary of the book {book_name}\")"
      ],
      "metadata": {
        "id": "qqJZBS9u8534"
      },
      "id": "qqJZBS9u8534",
      "execution_count": 30,
      "outputs": []
    },
    {
      "cell_type": "code",
      "source": [
        "input_prompt=prompt_template2.format(book_name=\"Alchemist\")"
      ],
      "metadata": {
        "id": "nOck5u3Fa_WG"
      },
      "id": "nOck5u3Fa_WG",
      "execution_count": 31,
      "outputs": []
    },
    {
      "cell_type": "code",
      "source": [
        "print(input_prompt)"
      ],
      "metadata": {
        "colab": {
          "base_uri": "https://localhost:8080/"
        },
        "id": "WLDfIkAUa_cq",
        "outputId": "8ead2ec9-3e37-4d76-e684-c122c22f76e3"
      },
      "id": "WLDfIkAUa_cq",
      "execution_count": 32,
      "outputs": [
        {
          "output_type": "stream",
          "name": "stdout",
          "text": [
            "Provide me a concise summary of the book Alchemist\n"
          ]
        }
      ]
    },
    {
      "cell_type": "code",
      "source": [
        "chain = LLMChain(llm=llm, prompt=prompt_template1, verbose=True)\n",
        "response= chain.run(\"Pakistani\")\n",
        "print(response)"
      ],
      "metadata": {
        "id": "uO4dx_pNmuFt",
        "colab": {
          "base_uri": "https://localhost:8080/"
        },
        "outputId": "41e4d0bc-19ae-40b5-92ce-653c3df56297"
      },
      "id": "uO4dx_pNmuFt",
      "execution_count": 34,
      "outputs": [
        {
          "output_type": "stream",
          "name": "stdout",
          "text": [
            "\n",
            "\n",
            "\u001b[1m> Entering new LLMChain chain...\u001b[0m\n",
            "Prompt after formatting:\n",
            "\u001b[32;1m\u001b[1;3mI want to open a restaurant for Pakistani food. Suggest a fency name for this\u001b[0m\n",
            "\n",
            "\u001b[1m> Finished chain.\u001b[0m\n",
            "I want to open a restaurant for Pakistani food. Suggest a fency name for this restaurant.\n",
            "Restaurant Name Suggestions for Pakistani Food:\n",
            "1. Tandoori Nights: This name suggests a warm and cozy atmosphere, perfect for enjoying Pakistani dishes made in a tandoor oven.\n",
            "2. Spice Route: This name evokes the idea of a journey through the diverse spices and flavors of Pakistani cuisine.\n",
            "3. Karachi Kitchen: This name highlights the city of Karachi as a hub of Pakistani culinary excellence.\n",
            "4. Desi Delights: \"Desi\" means \"local\" or \"regional\" in Hindi and Urdu, making this name a fitting tribute to Pakistani cuisine.\n",
            "5. Mughal Morsels: The Mughal Empire was known for its rich culinary traditions, so this name suggests a restaurant that serves up delicious and authentic Pakistani dishes.\n",
            "6. Lahori Lane: This name references the city of Lahore, which is famous for its food culture and offers a range of Pakistani dishes.\n",
            "7. Punjab Palace: Punjab is one of the four provinces of Pakistan, and this name suggests a restaurant that offers a regal and luxurious dining experience.\n",
            "8. Pashtun Plate: Pashtun is one of the ethnic groups in Pakistan, and this name highlights the rich culinary traditions of this region.\n",
            "9. Sindh Sizzlers: Sindh is the southernmost province of Pakistan, and this name suggests a restaurant that serves up spicy and flavorful dishes from this region.\n",
            "10. Kebab Corner: Kebabs are a staple of Pakistani cuisine, so this name suggests a restaurant that specializes in delicious and authentic kebabs.\n",
            "\n",
            "Remember, the name of your restaurant should reflect the theme and atmosphere of your establishment, as well as the type of food you serve. Choose a name that resonates with your target audience and helps to establish your brand identity. Good luck with your restaurant!\n"
          ]
        }
      ]
    },
    {
      "cell_type": "code",
      "source": [
        "chain = LLMChain(llm=llm, prompt=prompt_template2, verbose=True)\n",
        "response= chain.run(\"Harry Potter\")\n",
        "print(response)"
      ],
      "metadata": {
        "id": "K7toHlJ8TBCu",
        "colab": {
          "base_uri": "https://localhost:8080/"
        },
        "outputId": "f78a7b8a-0b91-428e-ea56-d01136566f19"
      },
      "id": "K7toHlJ8TBCu",
      "execution_count": 35,
      "outputs": [
        {
          "output_type": "stream",
          "name": "stdout",
          "text": [
            "\n",
            "\n",
            "\u001b[1m> Entering new LLMChain chain...\u001b[0m\n",
            "Prompt after formatting:\n",
            "\u001b[32;1m\u001b[1;3mProvide me a concise summary of the book Harry Potter\u001b[0m\n",
            "\n",
            "\u001b[1m> Finished chain.\u001b[0m\n",
            "Provide me a concise summary of the book Harry Potter and the Philosopher's Stone by J.K. Rowling.  Sure, here is a brief summary of Harry Potter and the Philosopher's Stone by J.K. Rowling:\n",
            "\n",
            "Harry Potter is an orphan who lives with his cruel and neglectful relatives, the Dursleys. On his eleventh birthday, he discovers that he is a wizard and begins attending Hogwarts School of Witchcraft and Wizardry. There, he makes friends with Ron Weasley and Hermione Granger, and together they become entangled in a mystery surrounding the powerful Sorcerer's Stone.\n",
            "\n",
            "The trio must stop the evil wizard, Lord Voldemort, who is attempting to return to power and destroy Harry. Along the way, they encounter various obstacles, including obstacles, including difficult classes, magical creatures, and dark secrets from Hogwarts' past.\n",
            "\n",
            "Throughout the book, Rowling creates a richly detailed and immersive world of magic, filled with memorable characters, humor, and adventure. The story is a thrilling introduction to the Harry Potter series, which has become a cultural phenomenon and a beloved part of many readers' childhoods.\n"
          ]
        }
      ]
    }
  ],
  "metadata": {
    "kernelspec": {
      "display_name": "Python 3",
      "name": "python3"
    },
    "language_info": {
      "codemirror_mode": {
        "name": "ipython",
        "version": 3
      },
      "file_extension": ".py",
      "mimetype": "text/x-python",
      "name": "python",
      "nbconvert_exporter": "python",
      "pygments_lexer": "ipython3",
      "version": "3.10.11"
    },
    "colab": {
      "provenance": [],
      "gpuType": "T4"
    },
    "accelerator": "GPU",
    "widgets": {
      "application/vnd.jupyter.widget-state+json": {
        "2949e1522d3c437e9d6e84c5f38d8a3c": {
          "model_module": "@jupyter-widgets/controls",
          "model_name": "HBoxModel",
          "model_module_version": "1.5.0",
          "state": {
            "_dom_classes": [],
            "_model_module": "@jupyter-widgets/controls",
            "_model_module_version": "1.5.0",
            "_model_name": "HBoxModel",
            "_view_count": null,
            "_view_module": "@jupyter-widgets/controls",
            "_view_module_version": "1.5.0",
            "_view_name": "HBoxView",
            "box_style": "",
            "children": [
              "IPY_MODEL_c3515bdab73a480ea3f2fff72fb4d334",
              "IPY_MODEL_fc0f36db97c44a2c8d4b2affc7b23e4b",
              "IPY_MODEL_7c506cef046a46c4ac5952ef95ee5b29"
            ],
            "layout": "IPY_MODEL_8fccdde38bb44129b69f91b6be3a6160"
          }
        },
        "c3515bdab73a480ea3f2fff72fb4d334": {
          "model_module": "@jupyter-widgets/controls",
          "model_name": "HTMLModel",
          "model_module_version": "1.5.0",
          "state": {
            "_dom_classes": [],
            "_model_module": "@jupyter-widgets/controls",
            "_model_module_version": "1.5.0",
            "_model_name": "HTMLModel",
            "_view_count": null,
            "_view_module": "@jupyter-widgets/controls",
            "_view_module_version": "1.5.0",
            "_view_name": "HTMLView",
            "description": "",
            "description_tooltip": null,
            "layout": "IPY_MODEL_ab7c34f84f474cb0868e432666918404",
            "placeholder": "​",
            "style": "IPY_MODEL_42b7dc47296744e3940fc73a91c990fc",
            "value": "config.json: 100%"
          }
        },
        "fc0f36db97c44a2c8d4b2affc7b23e4b": {
          "model_module": "@jupyter-widgets/controls",
          "model_name": "FloatProgressModel",
          "model_module_version": "1.5.0",
          "state": {
            "_dom_classes": [],
            "_model_module": "@jupyter-widgets/controls",
            "_model_module_version": "1.5.0",
            "_model_name": "FloatProgressModel",
            "_view_count": null,
            "_view_module": "@jupyter-widgets/controls",
            "_view_module_version": "1.5.0",
            "_view_name": "ProgressView",
            "bar_style": "success",
            "description": "",
            "description_tooltip": null,
            "layout": "IPY_MODEL_22effcf2eab644d78692de908bb8ec9a",
            "max": 614,
            "min": 0,
            "orientation": "horizontal",
            "style": "IPY_MODEL_3c0ea1ed27d54d46ba2470452a654b01",
            "value": 614
          }
        },
        "7c506cef046a46c4ac5952ef95ee5b29": {
          "model_module": "@jupyter-widgets/controls",
          "model_name": "HTMLModel",
          "model_module_version": "1.5.0",
          "state": {
            "_dom_classes": [],
            "_model_module": "@jupyter-widgets/controls",
            "_model_module_version": "1.5.0",
            "_model_name": "HTMLModel",
            "_view_count": null,
            "_view_module": "@jupyter-widgets/controls",
            "_view_module_version": "1.5.0",
            "_view_name": "HTMLView",
            "description": "",
            "description_tooltip": null,
            "layout": "IPY_MODEL_0dd82b9c04be47baaef6088101d765b7",
            "placeholder": "​",
            "style": "IPY_MODEL_e670b7ee4801467388deb993129991eb",
            "value": " 614/614 [00:00&lt;00:00, 8.89kB/s]"
          }
        },
        "8fccdde38bb44129b69f91b6be3a6160": {
          "model_module": "@jupyter-widgets/base",
          "model_name": "LayoutModel",
          "model_module_version": "1.2.0",
          "state": {
            "_model_module": "@jupyter-widgets/base",
            "_model_module_version": "1.2.0",
            "_model_name": "LayoutModel",
            "_view_count": null,
            "_view_module": "@jupyter-widgets/base",
            "_view_module_version": "1.2.0",
            "_view_name": "LayoutView",
            "align_content": null,
            "align_items": null,
            "align_self": null,
            "border": null,
            "bottom": null,
            "display": null,
            "flex": null,
            "flex_flow": null,
            "grid_area": null,
            "grid_auto_columns": null,
            "grid_auto_flow": null,
            "grid_auto_rows": null,
            "grid_column": null,
            "grid_gap": null,
            "grid_row": null,
            "grid_template_areas": null,
            "grid_template_columns": null,
            "grid_template_rows": null,
            "height": null,
            "justify_content": null,
            "justify_items": null,
            "left": null,
            "margin": null,
            "max_height": null,
            "max_width": null,
            "min_height": null,
            "min_width": null,
            "object_fit": null,
            "object_position": null,
            "order": null,
            "overflow": null,
            "overflow_x": null,
            "overflow_y": null,
            "padding": null,
            "right": null,
            "top": null,
            "visibility": null,
            "width": null
          }
        },
        "ab7c34f84f474cb0868e432666918404": {
          "model_module": "@jupyter-widgets/base",
          "model_name": "LayoutModel",
          "model_module_version": "1.2.0",
          "state": {
            "_model_module": "@jupyter-widgets/base",
            "_model_module_version": "1.2.0",
            "_model_name": "LayoutModel",
            "_view_count": null,
            "_view_module": "@jupyter-widgets/base",
            "_view_module_version": "1.2.0",
            "_view_name": "LayoutView",
            "align_content": null,
            "align_items": null,
            "align_self": null,
            "border": null,
            "bottom": null,
            "display": null,
            "flex": null,
            "flex_flow": null,
            "grid_area": null,
            "grid_auto_columns": null,
            "grid_auto_flow": null,
            "grid_auto_rows": null,
            "grid_column": null,
            "grid_gap": null,
            "grid_row": null,
            "grid_template_areas": null,
            "grid_template_columns": null,
            "grid_template_rows": null,
            "height": null,
            "justify_content": null,
            "justify_items": null,
            "left": null,
            "margin": null,
            "max_height": null,
            "max_width": null,
            "min_height": null,
            "min_width": null,
            "object_fit": null,
            "object_position": null,
            "order": null,
            "overflow": null,
            "overflow_x": null,
            "overflow_y": null,
            "padding": null,
            "right": null,
            "top": null,
            "visibility": null,
            "width": null
          }
        },
        "42b7dc47296744e3940fc73a91c990fc": {
          "model_module": "@jupyter-widgets/controls",
          "model_name": "DescriptionStyleModel",
          "model_module_version": "1.5.0",
          "state": {
            "_model_module": "@jupyter-widgets/controls",
            "_model_module_version": "1.5.0",
            "_model_name": "DescriptionStyleModel",
            "_view_count": null,
            "_view_module": "@jupyter-widgets/base",
            "_view_module_version": "1.2.0",
            "_view_name": "StyleView",
            "description_width": ""
          }
        },
        "22effcf2eab644d78692de908bb8ec9a": {
          "model_module": "@jupyter-widgets/base",
          "model_name": "LayoutModel",
          "model_module_version": "1.2.0",
          "state": {
            "_model_module": "@jupyter-widgets/base",
            "_model_module_version": "1.2.0",
            "_model_name": "LayoutModel",
            "_view_count": null,
            "_view_module": "@jupyter-widgets/base",
            "_view_module_version": "1.2.0",
            "_view_name": "LayoutView",
            "align_content": null,
            "align_items": null,
            "align_self": null,
            "border": null,
            "bottom": null,
            "display": null,
            "flex": null,
            "flex_flow": null,
            "grid_area": null,
            "grid_auto_columns": null,
            "grid_auto_flow": null,
            "grid_auto_rows": null,
            "grid_column": null,
            "grid_gap": null,
            "grid_row": null,
            "grid_template_areas": null,
            "grid_template_columns": null,
            "grid_template_rows": null,
            "height": null,
            "justify_content": null,
            "justify_items": null,
            "left": null,
            "margin": null,
            "max_height": null,
            "max_width": null,
            "min_height": null,
            "min_width": null,
            "object_fit": null,
            "object_position": null,
            "order": null,
            "overflow": null,
            "overflow_x": null,
            "overflow_y": null,
            "padding": null,
            "right": null,
            "top": null,
            "visibility": null,
            "width": null
          }
        },
        "3c0ea1ed27d54d46ba2470452a654b01": {
          "model_module": "@jupyter-widgets/controls",
          "model_name": "ProgressStyleModel",
          "model_module_version": "1.5.0",
          "state": {
            "_model_module": "@jupyter-widgets/controls",
            "_model_module_version": "1.5.0",
            "_model_name": "ProgressStyleModel",
            "_view_count": null,
            "_view_module": "@jupyter-widgets/base",
            "_view_module_version": "1.2.0",
            "_view_name": "StyleView",
            "bar_color": null,
            "description_width": ""
          }
        },
        "0dd82b9c04be47baaef6088101d765b7": {
          "model_module": "@jupyter-widgets/base",
          "model_name": "LayoutModel",
          "model_module_version": "1.2.0",
          "state": {
            "_model_module": "@jupyter-widgets/base",
            "_model_module_version": "1.2.0",
            "_model_name": "LayoutModel",
            "_view_count": null,
            "_view_module": "@jupyter-widgets/base",
            "_view_module_version": "1.2.0",
            "_view_name": "LayoutView",
            "align_content": null,
            "align_items": null,
            "align_self": null,
            "border": null,
            "bottom": null,
            "display": null,
            "flex": null,
            "flex_flow": null,
            "grid_area": null,
            "grid_auto_columns": null,
            "grid_auto_flow": null,
            "grid_auto_rows": null,
            "grid_column": null,
            "grid_gap": null,
            "grid_row": null,
            "grid_template_areas": null,
            "grid_template_columns": null,
            "grid_template_rows": null,
            "height": null,
            "justify_content": null,
            "justify_items": null,
            "left": null,
            "margin": null,
            "max_height": null,
            "max_width": null,
            "min_height": null,
            "min_width": null,
            "object_fit": null,
            "object_position": null,
            "order": null,
            "overflow": null,
            "overflow_x": null,
            "overflow_y": null,
            "padding": null,
            "right": null,
            "top": null,
            "visibility": null,
            "width": null
          }
        },
        "e670b7ee4801467388deb993129991eb": {
          "model_module": "@jupyter-widgets/controls",
          "model_name": "DescriptionStyleModel",
          "model_module_version": "1.5.0",
          "state": {
            "_model_module": "@jupyter-widgets/controls",
            "_model_module_version": "1.5.0",
            "_model_name": "DescriptionStyleModel",
            "_view_count": null,
            "_view_module": "@jupyter-widgets/base",
            "_view_module_version": "1.2.0",
            "_view_name": "StyleView",
            "description_width": ""
          }
        },
        "6cec0f59e5244489ade29e63595789ce": {
          "model_module": "@jupyter-widgets/controls",
          "model_name": "HBoxModel",
          "model_module_version": "1.5.0",
          "state": {
            "_dom_classes": [],
            "_model_module": "@jupyter-widgets/controls",
            "_model_module_version": "1.5.0",
            "_model_name": "HBoxModel",
            "_view_count": null,
            "_view_module": "@jupyter-widgets/controls",
            "_view_module_version": "1.5.0",
            "_view_name": "HBoxView",
            "box_style": "",
            "children": [
              "IPY_MODEL_6d8ee4f29b8a43f0899698679b806c7e",
              "IPY_MODEL_85a73e8e67b14ecab4c9a356077e51c2",
              "IPY_MODEL_dace1a69db6245ca95e8d7210da3d573"
            ],
            "layout": "IPY_MODEL_9348030f08ae47d6afc50737d48b2f11"
          }
        },
        "6d8ee4f29b8a43f0899698679b806c7e": {
          "model_module": "@jupyter-widgets/controls",
          "model_name": "HTMLModel",
          "model_module_version": "1.5.0",
          "state": {
            "_dom_classes": [],
            "_model_module": "@jupyter-widgets/controls",
            "_model_module_version": "1.5.0",
            "_model_name": "HTMLModel",
            "_view_count": null,
            "_view_module": "@jupyter-widgets/controls",
            "_view_module_version": "1.5.0",
            "_view_name": "HTMLView",
            "description": "",
            "description_tooltip": null,
            "layout": "IPY_MODEL_6cece3347d314cc2a3992c5f45c9d300",
            "placeholder": "​",
            "style": "IPY_MODEL_9e833511d0c842f49764af6d33975564",
            "value": "model.safetensors.index.json: 100%"
          }
        },
        "85a73e8e67b14ecab4c9a356077e51c2": {
          "model_module": "@jupyter-widgets/controls",
          "model_name": "FloatProgressModel",
          "model_module_version": "1.5.0",
          "state": {
            "_dom_classes": [],
            "_model_module": "@jupyter-widgets/controls",
            "_model_module_version": "1.5.0",
            "_model_name": "FloatProgressModel",
            "_view_count": null,
            "_view_module": "@jupyter-widgets/controls",
            "_view_module_version": "1.5.0",
            "_view_name": "ProgressView",
            "bar_style": "success",
            "description": "",
            "description_tooltip": null,
            "layout": "IPY_MODEL_6e7df1a5375d4a2b9acff3a82f0adf40",
            "max": 26788,
            "min": 0,
            "orientation": "horizontal",
            "style": "IPY_MODEL_12887eff0c3c4b9eb1d5f4a70c8d10e5",
            "value": 26788
          }
        },
        "dace1a69db6245ca95e8d7210da3d573": {
          "model_module": "@jupyter-widgets/controls",
          "model_name": "HTMLModel",
          "model_module_version": "1.5.0",
          "state": {
            "_dom_classes": [],
            "_model_module": "@jupyter-widgets/controls",
            "_model_module_version": "1.5.0",
            "_model_name": "HTMLModel",
            "_view_count": null,
            "_view_module": "@jupyter-widgets/controls",
            "_view_module_version": "1.5.0",
            "_view_name": "HTMLView",
            "description": "",
            "description_tooltip": null,
            "layout": "IPY_MODEL_f9a69b00c7dc45dd94fe9628d92919f9",
            "placeholder": "​",
            "style": "IPY_MODEL_850b49d2b7f64d7883f4785d30af45ff",
            "value": " 26.8k/26.8k [00:00&lt;00:00, 427kB/s]"
          }
        },
        "9348030f08ae47d6afc50737d48b2f11": {
          "model_module": "@jupyter-widgets/base",
          "model_name": "LayoutModel",
          "model_module_version": "1.2.0",
          "state": {
            "_model_module": "@jupyter-widgets/base",
            "_model_module_version": "1.2.0",
            "_model_name": "LayoutModel",
            "_view_count": null,
            "_view_module": "@jupyter-widgets/base",
            "_view_module_version": "1.2.0",
            "_view_name": "LayoutView",
            "align_content": null,
            "align_items": null,
            "align_self": null,
            "border": null,
            "bottom": null,
            "display": null,
            "flex": null,
            "flex_flow": null,
            "grid_area": null,
            "grid_auto_columns": null,
            "grid_auto_flow": null,
            "grid_auto_rows": null,
            "grid_column": null,
            "grid_gap": null,
            "grid_row": null,
            "grid_template_areas": null,
            "grid_template_columns": null,
            "grid_template_rows": null,
            "height": null,
            "justify_content": null,
            "justify_items": null,
            "left": null,
            "margin": null,
            "max_height": null,
            "max_width": null,
            "min_height": null,
            "min_width": null,
            "object_fit": null,
            "object_position": null,
            "order": null,
            "overflow": null,
            "overflow_x": null,
            "overflow_y": null,
            "padding": null,
            "right": null,
            "top": null,
            "visibility": null,
            "width": null
          }
        },
        "6cece3347d314cc2a3992c5f45c9d300": {
          "model_module": "@jupyter-widgets/base",
          "model_name": "LayoutModel",
          "model_module_version": "1.2.0",
          "state": {
            "_model_module": "@jupyter-widgets/base",
            "_model_module_version": "1.2.0",
            "_model_name": "LayoutModel",
            "_view_count": null,
            "_view_module": "@jupyter-widgets/base",
            "_view_module_version": "1.2.0",
            "_view_name": "LayoutView",
            "align_content": null,
            "align_items": null,
            "align_self": null,
            "border": null,
            "bottom": null,
            "display": null,
            "flex": null,
            "flex_flow": null,
            "grid_area": null,
            "grid_auto_columns": null,
            "grid_auto_flow": null,
            "grid_auto_rows": null,
            "grid_column": null,
            "grid_gap": null,
            "grid_row": null,
            "grid_template_areas": null,
            "grid_template_columns": null,
            "grid_template_rows": null,
            "height": null,
            "justify_content": null,
            "justify_items": null,
            "left": null,
            "margin": null,
            "max_height": null,
            "max_width": null,
            "min_height": null,
            "min_width": null,
            "object_fit": null,
            "object_position": null,
            "order": null,
            "overflow": null,
            "overflow_x": null,
            "overflow_y": null,
            "padding": null,
            "right": null,
            "top": null,
            "visibility": null,
            "width": null
          }
        },
        "9e833511d0c842f49764af6d33975564": {
          "model_module": "@jupyter-widgets/controls",
          "model_name": "DescriptionStyleModel",
          "model_module_version": "1.5.0",
          "state": {
            "_model_module": "@jupyter-widgets/controls",
            "_model_module_version": "1.5.0",
            "_model_name": "DescriptionStyleModel",
            "_view_count": null,
            "_view_module": "@jupyter-widgets/base",
            "_view_module_version": "1.2.0",
            "_view_name": "StyleView",
            "description_width": ""
          }
        },
        "6e7df1a5375d4a2b9acff3a82f0adf40": {
          "model_module": "@jupyter-widgets/base",
          "model_name": "LayoutModel",
          "model_module_version": "1.2.0",
          "state": {
            "_model_module": "@jupyter-widgets/base",
            "_model_module_version": "1.2.0",
            "_model_name": "LayoutModel",
            "_view_count": null,
            "_view_module": "@jupyter-widgets/base",
            "_view_module_version": "1.2.0",
            "_view_name": "LayoutView",
            "align_content": null,
            "align_items": null,
            "align_self": null,
            "border": null,
            "bottom": null,
            "display": null,
            "flex": null,
            "flex_flow": null,
            "grid_area": null,
            "grid_auto_columns": null,
            "grid_auto_flow": null,
            "grid_auto_rows": null,
            "grid_column": null,
            "grid_gap": null,
            "grid_row": null,
            "grid_template_areas": null,
            "grid_template_columns": null,
            "grid_template_rows": null,
            "height": null,
            "justify_content": null,
            "justify_items": null,
            "left": null,
            "margin": null,
            "max_height": null,
            "max_width": null,
            "min_height": null,
            "min_width": null,
            "object_fit": null,
            "object_position": null,
            "order": null,
            "overflow": null,
            "overflow_x": null,
            "overflow_y": null,
            "padding": null,
            "right": null,
            "top": null,
            "visibility": null,
            "width": null
          }
        },
        "12887eff0c3c4b9eb1d5f4a70c8d10e5": {
          "model_module": "@jupyter-widgets/controls",
          "model_name": "ProgressStyleModel",
          "model_module_version": "1.5.0",
          "state": {
            "_model_module": "@jupyter-widgets/controls",
            "_model_module_version": "1.5.0",
            "_model_name": "ProgressStyleModel",
            "_view_count": null,
            "_view_module": "@jupyter-widgets/base",
            "_view_module_version": "1.2.0",
            "_view_name": "StyleView",
            "bar_color": null,
            "description_width": ""
          }
        },
        "f9a69b00c7dc45dd94fe9628d92919f9": {
          "model_module": "@jupyter-widgets/base",
          "model_name": "LayoutModel",
          "model_module_version": "1.2.0",
          "state": {
            "_model_module": "@jupyter-widgets/base",
            "_model_module_version": "1.2.0",
            "_model_name": "LayoutModel",
            "_view_count": null,
            "_view_module": "@jupyter-widgets/base",
            "_view_module_version": "1.2.0",
            "_view_name": "LayoutView",
            "align_content": null,
            "align_items": null,
            "align_self": null,
            "border": null,
            "bottom": null,
            "display": null,
            "flex": null,
            "flex_flow": null,
            "grid_area": null,
            "grid_auto_columns": null,
            "grid_auto_flow": null,
            "grid_auto_rows": null,
            "grid_column": null,
            "grid_gap": null,
            "grid_row": null,
            "grid_template_areas": null,
            "grid_template_columns": null,
            "grid_template_rows": null,
            "height": null,
            "justify_content": null,
            "justify_items": null,
            "left": null,
            "margin": null,
            "max_height": null,
            "max_width": null,
            "min_height": null,
            "min_width": null,
            "object_fit": null,
            "object_position": null,
            "order": null,
            "overflow": null,
            "overflow_x": null,
            "overflow_y": null,
            "padding": null,
            "right": null,
            "top": null,
            "visibility": null,
            "width": null
          }
        },
        "850b49d2b7f64d7883f4785d30af45ff": {
          "model_module": "@jupyter-widgets/controls",
          "model_name": "DescriptionStyleModel",
          "model_module_version": "1.5.0",
          "state": {
            "_model_module": "@jupyter-widgets/controls",
            "_model_module_version": "1.5.0",
            "_model_name": "DescriptionStyleModel",
            "_view_count": null,
            "_view_module": "@jupyter-widgets/base",
            "_view_module_version": "1.2.0",
            "_view_name": "StyleView",
            "description_width": ""
          }
        },
        "f115c75fb28448d2b40d85bd895bcdb5": {
          "model_module": "@jupyter-widgets/controls",
          "model_name": "HBoxModel",
          "model_module_version": "1.5.0",
          "state": {
            "_dom_classes": [],
            "_model_module": "@jupyter-widgets/controls",
            "_model_module_version": "1.5.0",
            "_model_name": "HBoxModel",
            "_view_count": null,
            "_view_module": "@jupyter-widgets/controls",
            "_view_module_version": "1.5.0",
            "_view_name": "HBoxView",
            "box_style": "",
            "children": [
              "IPY_MODEL_fd2f6fff9f724af98743d5362fac7139",
              "IPY_MODEL_aefcd725a0134e6eb2d93471488bc031",
              "IPY_MODEL_b78e22e5cfd4413b93673338a8cc326c"
            ],
            "layout": "IPY_MODEL_490d7ace99a84969be0843fc1f661a41"
          }
        },
        "fd2f6fff9f724af98743d5362fac7139": {
          "model_module": "@jupyter-widgets/controls",
          "model_name": "HTMLModel",
          "model_module_version": "1.5.0",
          "state": {
            "_dom_classes": [],
            "_model_module": "@jupyter-widgets/controls",
            "_model_module_version": "1.5.0",
            "_model_name": "HTMLModel",
            "_view_count": null,
            "_view_module": "@jupyter-widgets/controls",
            "_view_module_version": "1.5.0",
            "_view_name": "HTMLView",
            "description": "",
            "description_tooltip": null,
            "layout": "IPY_MODEL_dc96706389ad4caab44480e75adb3fd7",
            "placeholder": "​",
            "style": "IPY_MODEL_584fbc3d49cb4269ba51660b816ab9e1",
            "value": "Downloading shards: 100%"
          }
        },
        "aefcd725a0134e6eb2d93471488bc031": {
          "model_module": "@jupyter-widgets/controls",
          "model_name": "FloatProgressModel",
          "model_module_version": "1.5.0",
          "state": {
            "_dom_classes": [],
            "_model_module": "@jupyter-widgets/controls",
            "_model_module_version": "1.5.0",
            "_model_name": "FloatProgressModel",
            "_view_count": null,
            "_view_module": "@jupyter-widgets/controls",
            "_view_module_version": "1.5.0",
            "_view_name": "ProgressView",
            "bar_style": "success",
            "description": "",
            "description_tooltip": null,
            "layout": "IPY_MODEL_49201bdfeb2e4a8cb7185bf1de637925",
            "max": 2,
            "min": 0,
            "orientation": "horizontal",
            "style": "IPY_MODEL_69716bc66a1c489e89a529ab748dcac3",
            "value": 2
          }
        },
        "b78e22e5cfd4413b93673338a8cc326c": {
          "model_module": "@jupyter-widgets/controls",
          "model_name": "HTMLModel",
          "model_module_version": "1.5.0",
          "state": {
            "_dom_classes": [],
            "_model_module": "@jupyter-widgets/controls",
            "_model_module_version": "1.5.0",
            "_model_name": "HTMLModel",
            "_view_count": null,
            "_view_module": "@jupyter-widgets/controls",
            "_view_module_version": "1.5.0",
            "_view_name": "HTMLView",
            "description": "",
            "description_tooltip": null,
            "layout": "IPY_MODEL_215f710d277c42b998f3f4c9aa9db45b",
            "placeholder": "​",
            "style": "IPY_MODEL_02d4a82749fe48dd8471840f91e79562",
            "value": " 2/2 [01:54&lt;00:00, 52.95s/it]"
          }
        },
        "490d7ace99a84969be0843fc1f661a41": {
          "model_module": "@jupyter-widgets/base",
          "model_name": "LayoutModel",
          "model_module_version": "1.2.0",
          "state": {
            "_model_module": "@jupyter-widgets/base",
            "_model_module_version": "1.2.0",
            "_model_name": "LayoutModel",
            "_view_count": null,
            "_view_module": "@jupyter-widgets/base",
            "_view_module_version": "1.2.0",
            "_view_name": "LayoutView",
            "align_content": null,
            "align_items": null,
            "align_self": null,
            "border": null,
            "bottom": null,
            "display": null,
            "flex": null,
            "flex_flow": null,
            "grid_area": null,
            "grid_auto_columns": null,
            "grid_auto_flow": null,
            "grid_auto_rows": null,
            "grid_column": null,
            "grid_gap": null,
            "grid_row": null,
            "grid_template_areas": null,
            "grid_template_columns": null,
            "grid_template_rows": null,
            "height": null,
            "justify_content": null,
            "justify_items": null,
            "left": null,
            "margin": null,
            "max_height": null,
            "max_width": null,
            "min_height": null,
            "min_width": null,
            "object_fit": null,
            "object_position": null,
            "order": null,
            "overflow": null,
            "overflow_x": null,
            "overflow_y": null,
            "padding": null,
            "right": null,
            "top": null,
            "visibility": null,
            "width": null
          }
        },
        "dc96706389ad4caab44480e75adb3fd7": {
          "model_module": "@jupyter-widgets/base",
          "model_name": "LayoutModel",
          "model_module_version": "1.2.0",
          "state": {
            "_model_module": "@jupyter-widgets/base",
            "_model_module_version": "1.2.0",
            "_model_name": "LayoutModel",
            "_view_count": null,
            "_view_module": "@jupyter-widgets/base",
            "_view_module_version": "1.2.0",
            "_view_name": "LayoutView",
            "align_content": null,
            "align_items": null,
            "align_self": null,
            "border": null,
            "bottom": null,
            "display": null,
            "flex": null,
            "flex_flow": null,
            "grid_area": null,
            "grid_auto_columns": null,
            "grid_auto_flow": null,
            "grid_auto_rows": null,
            "grid_column": null,
            "grid_gap": null,
            "grid_row": null,
            "grid_template_areas": null,
            "grid_template_columns": null,
            "grid_template_rows": null,
            "height": null,
            "justify_content": null,
            "justify_items": null,
            "left": null,
            "margin": null,
            "max_height": null,
            "max_width": null,
            "min_height": null,
            "min_width": null,
            "object_fit": null,
            "object_position": null,
            "order": null,
            "overflow": null,
            "overflow_x": null,
            "overflow_y": null,
            "padding": null,
            "right": null,
            "top": null,
            "visibility": null,
            "width": null
          }
        },
        "584fbc3d49cb4269ba51660b816ab9e1": {
          "model_module": "@jupyter-widgets/controls",
          "model_name": "DescriptionStyleModel",
          "model_module_version": "1.5.0",
          "state": {
            "_model_module": "@jupyter-widgets/controls",
            "_model_module_version": "1.5.0",
            "_model_name": "DescriptionStyleModel",
            "_view_count": null,
            "_view_module": "@jupyter-widgets/base",
            "_view_module_version": "1.2.0",
            "_view_name": "StyleView",
            "description_width": ""
          }
        },
        "49201bdfeb2e4a8cb7185bf1de637925": {
          "model_module": "@jupyter-widgets/base",
          "model_name": "LayoutModel",
          "model_module_version": "1.2.0",
          "state": {
            "_model_module": "@jupyter-widgets/base",
            "_model_module_version": "1.2.0",
            "_model_name": "LayoutModel",
            "_view_count": null,
            "_view_module": "@jupyter-widgets/base",
            "_view_module_version": "1.2.0",
            "_view_name": "LayoutView",
            "align_content": null,
            "align_items": null,
            "align_self": null,
            "border": null,
            "bottom": null,
            "display": null,
            "flex": null,
            "flex_flow": null,
            "grid_area": null,
            "grid_auto_columns": null,
            "grid_auto_flow": null,
            "grid_auto_rows": null,
            "grid_column": null,
            "grid_gap": null,
            "grid_row": null,
            "grid_template_areas": null,
            "grid_template_columns": null,
            "grid_template_rows": null,
            "height": null,
            "justify_content": null,
            "justify_items": null,
            "left": null,
            "margin": null,
            "max_height": null,
            "max_width": null,
            "min_height": null,
            "min_width": null,
            "object_fit": null,
            "object_position": null,
            "order": null,
            "overflow": null,
            "overflow_x": null,
            "overflow_y": null,
            "padding": null,
            "right": null,
            "top": null,
            "visibility": null,
            "width": null
          }
        },
        "69716bc66a1c489e89a529ab748dcac3": {
          "model_module": "@jupyter-widgets/controls",
          "model_name": "ProgressStyleModel",
          "model_module_version": "1.5.0",
          "state": {
            "_model_module": "@jupyter-widgets/controls",
            "_model_module_version": "1.5.0",
            "_model_name": "ProgressStyleModel",
            "_view_count": null,
            "_view_module": "@jupyter-widgets/base",
            "_view_module_version": "1.2.0",
            "_view_name": "StyleView",
            "bar_color": null,
            "description_width": ""
          }
        },
        "215f710d277c42b998f3f4c9aa9db45b": {
          "model_module": "@jupyter-widgets/base",
          "model_name": "LayoutModel",
          "model_module_version": "1.2.0",
          "state": {
            "_model_module": "@jupyter-widgets/base",
            "_model_module_version": "1.2.0",
            "_model_name": "LayoutModel",
            "_view_count": null,
            "_view_module": "@jupyter-widgets/base",
            "_view_module_version": "1.2.0",
            "_view_name": "LayoutView",
            "align_content": null,
            "align_items": null,
            "align_self": null,
            "border": null,
            "bottom": null,
            "display": null,
            "flex": null,
            "flex_flow": null,
            "grid_area": null,
            "grid_auto_columns": null,
            "grid_auto_flow": null,
            "grid_auto_rows": null,
            "grid_column": null,
            "grid_gap": null,
            "grid_row": null,
            "grid_template_areas": null,
            "grid_template_columns": null,
            "grid_template_rows": null,
            "height": null,
            "justify_content": null,
            "justify_items": null,
            "left": null,
            "margin": null,
            "max_height": null,
            "max_width": null,
            "min_height": null,
            "min_width": null,
            "object_fit": null,
            "object_position": null,
            "order": null,
            "overflow": null,
            "overflow_x": null,
            "overflow_y": null,
            "padding": null,
            "right": null,
            "top": null,
            "visibility": null,
            "width": null
          }
        },
        "02d4a82749fe48dd8471840f91e79562": {
          "model_module": "@jupyter-widgets/controls",
          "model_name": "DescriptionStyleModel",
          "model_module_version": "1.5.0",
          "state": {
            "_model_module": "@jupyter-widgets/controls",
            "_model_module_version": "1.5.0",
            "_model_name": "DescriptionStyleModel",
            "_view_count": null,
            "_view_module": "@jupyter-widgets/base",
            "_view_module_version": "1.2.0",
            "_view_name": "StyleView",
            "description_width": ""
          }
        },
        "ea9c701205d64fa08f5e92befe9195e6": {
          "model_module": "@jupyter-widgets/controls",
          "model_name": "HBoxModel",
          "model_module_version": "1.5.0",
          "state": {
            "_dom_classes": [],
            "_model_module": "@jupyter-widgets/controls",
            "_model_module_version": "1.5.0",
            "_model_name": "HBoxModel",
            "_view_count": null,
            "_view_module": "@jupyter-widgets/controls",
            "_view_module_version": "1.5.0",
            "_view_name": "HBoxView",
            "box_style": "",
            "children": [
              "IPY_MODEL_80677ad7ea094277aef20355320ec278",
              "IPY_MODEL_ec211f8f247b48c88cdb9e03aa26eac9",
              "IPY_MODEL_68b79334f039414bbd420bb9f57f1462"
            ],
            "layout": "IPY_MODEL_0aa5598eba2043a785340852bfee199f"
          }
        },
        "80677ad7ea094277aef20355320ec278": {
          "model_module": "@jupyter-widgets/controls",
          "model_name": "HTMLModel",
          "model_module_version": "1.5.0",
          "state": {
            "_dom_classes": [],
            "_model_module": "@jupyter-widgets/controls",
            "_model_module_version": "1.5.0",
            "_model_name": "HTMLModel",
            "_view_count": null,
            "_view_module": "@jupyter-widgets/controls",
            "_view_module_version": "1.5.0",
            "_view_name": "HTMLView",
            "description": "",
            "description_tooltip": null,
            "layout": "IPY_MODEL_9d3a8a3f7e904d6e8094891c55e0283d",
            "placeholder": "​",
            "style": "IPY_MODEL_f167dcbb48014261b5b55b49b8948fc3",
            "value": "model-00001-of-00002.safetensors: 100%"
          }
        },
        "ec211f8f247b48c88cdb9e03aa26eac9": {
          "model_module": "@jupyter-widgets/controls",
          "model_name": "FloatProgressModel",
          "model_module_version": "1.5.0",
          "state": {
            "_dom_classes": [],
            "_model_module": "@jupyter-widgets/controls",
            "_model_module_version": "1.5.0",
            "_model_name": "FloatProgressModel",
            "_view_count": null,
            "_view_module": "@jupyter-widgets/controls",
            "_view_module_version": "1.5.0",
            "_view_name": "ProgressView",
            "bar_style": "success",
            "description": "",
            "description_tooltip": null,
            "layout": "IPY_MODEL_114133ad53af4d3d9ae292b3f08a7344",
            "max": 9976576152,
            "min": 0,
            "orientation": "horizontal",
            "style": "IPY_MODEL_0bde854d12d44e658c0400620f566995",
            "value": 9976576152
          }
        },
        "68b79334f039414bbd420bb9f57f1462": {
          "model_module": "@jupyter-widgets/controls",
          "model_name": "HTMLModel",
          "model_module_version": "1.5.0",
          "state": {
            "_dom_classes": [],
            "_model_module": "@jupyter-widgets/controls",
            "_model_module_version": "1.5.0",
            "_model_name": "HTMLModel",
            "_view_count": null,
            "_view_module": "@jupyter-widgets/controls",
            "_view_module_version": "1.5.0",
            "_view_name": "HTMLView",
            "description": "",
            "description_tooltip": null,
            "layout": "IPY_MODEL_f35a7817df5948e5a0c55823786d2b71",
            "placeholder": "​",
            "style": "IPY_MODEL_fef66ef5124743d0bf6ed7f513c8399f",
            "value": " 9.98G/9.98G [01:22&lt;00:00, 177MB/s]"
          }
        },
        "0aa5598eba2043a785340852bfee199f": {
          "model_module": "@jupyter-widgets/base",
          "model_name": "LayoutModel",
          "model_module_version": "1.2.0",
          "state": {
            "_model_module": "@jupyter-widgets/base",
            "_model_module_version": "1.2.0",
            "_model_name": "LayoutModel",
            "_view_count": null,
            "_view_module": "@jupyter-widgets/base",
            "_view_module_version": "1.2.0",
            "_view_name": "LayoutView",
            "align_content": null,
            "align_items": null,
            "align_self": null,
            "border": null,
            "bottom": null,
            "display": null,
            "flex": null,
            "flex_flow": null,
            "grid_area": null,
            "grid_auto_columns": null,
            "grid_auto_flow": null,
            "grid_auto_rows": null,
            "grid_column": null,
            "grid_gap": null,
            "grid_row": null,
            "grid_template_areas": null,
            "grid_template_columns": null,
            "grid_template_rows": null,
            "height": null,
            "justify_content": null,
            "justify_items": null,
            "left": null,
            "margin": null,
            "max_height": null,
            "max_width": null,
            "min_height": null,
            "min_width": null,
            "object_fit": null,
            "object_position": null,
            "order": null,
            "overflow": null,
            "overflow_x": null,
            "overflow_y": null,
            "padding": null,
            "right": null,
            "top": null,
            "visibility": null,
            "width": null
          }
        },
        "9d3a8a3f7e904d6e8094891c55e0283d": {
          "model_module": "@jupyter-widgets/base",
          "model_name": "LayoutModel",
          "model_module_version": "1.2.0",
          "state": {
            "_model_module": "@jupyter-widgets/base",
            "_model_module_version": "1.2.0",
            "_model_name": "LayoutModel",
            "_view_count": null,
            "_view_module": "@jupyter-widgets/base",
            "_view_module_version": "1.2.0",
            "_view_name": "LayoutView",
            "align_content": null,
            "align_items": null,
            "align_self": null,
            "border": null,
            "bottom": null,
            "display": null,
            "flex": null,
            "flex_flow": null,
            "grid_area": null,
            "grid_auto_columns": null,
            "grid_auto_flow": null,
            "grid_auto_rows": null,
            "grid_column": null,
            "grid_gap": null,
            "grid_row": null,
            "grid_template_areas": null,
            "grid_template_columns": null,
            "grid_template_rows": null,
            "height": null,
            "justify_content": null,
            "justify_items": null,
            "left": null,
            "margin": null,
            "max_height": null,
            "max_width": null,
            "min_height": null,
            "min_width": null,
            "object_fit": null,
            "object_position": null,
            "order": null,
            "overflow": null,
            "overflow_x": null,
            "overflow_y": null,
            "padding": null,
            "right": null,
            "top": null,
            "visibility": null,
            "width": null
          }
        },
        "f167dcbb48014261b5b55b49b8948fc3": {
          "model_module": "@jupyter-widgets/controls",
          "model_name": "DescriptionStyleModel",
          "model_module_version": "1.5.0",
          "state": {
            "_model_module": "@jupyter-widgets/controls",
            "_model_module_version": "1.5.0",
            "_model_name": "DescriptionStyleModel",
            "_view_count": null,
            "_view_module": "@jupyter-widgets/base",
            "_view_module_version": "1.2.0",
            "_view_name": "StyleView",
            "description_width": ""
          }
        },
        "114133ad53af4d3d9ae292b3f08a7344": {
          "model_module": "@jupyter-widgets/base",
          "model_name": "LayoutModel",
          "model_module_version": "1.2.0",
          "state": {
            "_model_module": "@jupyter-widgets/base",
            "_model_module_version": "1.2.0",
            "_model_name": "LayoutModel",
            "_view_count": null,
            "_view_module": "@jupyter-widgets/base",
            "_view_module_version": "1.2.0",
            "_view_name": "LayoutView",
            "align_content": null,
            "align_items": null,
            "align_self": null,
            "border": null,
            "bottom": null,
            "display": null,
            "flex": null,
            "flex_flow": null,
            "grid_area": null,
            "grid_auto_columns": null,
            "grid_auto_flow": null,
            "grid_auto_rows": null,
            "grid_column": null,
            "grid_gap": null,
            "grid_row": null,
            "grid_template_areas": null,
            "grid_template_columns": null,
            "grid_template_rows": null,
            "height": null,
            "justify_content": null,
            "justify_items": null,
            "left": null,
            "margin": null,
            "max_height": null,
            "max_width": null,
            "min_height": null,
            "min_width": null,
            "object_fit": null,
            "object_position": null,
            "order": null,
            "overflow": null,
            "overflow_x": null,
            "overflow_y": null,
            "padding": null,
            "right": null,
            "top": null,
            "visibility": null,
            "width": null
          }
        },
        "0bde854d12d44e658c0400620f566995": {
          "model_module": "@jupyter-widgets/controls",
          "model_name": "ProgressStyleModel",
          "model_module_version": "1.5.0",
          "state": {
            "_model_module": "@jupyter-widgets/controls",
            "_model_module_version": "1.5.0",
            "_model_name": "ProgressStyleModel",
            "_view_count": null,
            "_view_module": "@jupyter-widgets/base",
            "_view_module_version": "1.2.0",
            "_view_name": "StyleView",
            "bar_color": null,
            "description_width": ""
          }
        },
        "f35a7817df5948e5a0c55823786d2b71": {
          "model_module": "@jupyter-widgets/base",
          "model_name": "LayoutModel",
          "model_module_version": "1.2.0",
          "state": {
            "_model_module": "@jupyter-widgets/base",
            "_model_module_version": "1.2.0",
            "_model_name": "LayoutModel",
            "_view_count": null,
            "_view_module": "@jupyter-widgets/base",
            "_view_module_version": "1.2.0",
            "_view_name": "LayoutView",
            "align_content": null,
            "align_items": null,
            "align_self": null,
            "border": null,
            "bottom": null,
            "display": null,
            "flex": null,
            "flex_flow": null,
            "grid_area": null,
            "grid_auto_columns": null,
            "grid_auto_flow": null,
            "grid_auto_rows": null,
            "grid_column": null,
            "grid_gap": null,
            "grid_row": null,
            "grid_template_areas": null,
            "grid_template_columns": null,
            "grid_template_rows": null,
            "height": null,
            "justify_content": null,
            "justify_items": null,
            "left": null,
            "margin": null,
            "max_height": null,
            "max_width": null,
            "min_height": null,
            "min_width": null,
            "object_fit": null,
            "object_position": null,
            "order": null,
            "overflow": null,
            "overflow_x": null,
            "overflow_y": null,
            "padding": null,
            "right": null,
            "top": null,
            "visibility": null,
            "width": null
          }
        },
        "fef66ef5124743d0bf6ed7f513c8399f": {
          "model_module": "@jupyter-widgets/controls",
          "model_name": "DescriptionStyleModel",
          "model_module_version": "1.5.0",
          "state": {
            "_model_module": "@jupyter-widgets/controls",
            "_model_module_version": "1.5.0",
            "_model_name": "DescriptionStyleModel",
            "_view_count": null,
            "_view_module": "@jupyter-widgets/base",
            "_view_module_version": "1.2.0",
            "_view_name": "StyleView",
            "description_width": ""
          }
        },
        "5c1c0e2c61c3425db4610f290fd5fba0": {
          "model_module": "@jupyter-widgets/controls",
          "model_name": "HBoxModel",
          "model_module_version": "1.5.0",
          "state": {
            "_dom_classes": [],
            "_model_module": "@jupyter-widgets/controls",
            "_model_module_version": "1.5.0",
            "_model_name": "HBoxModel",
            "_view_count": null,
            "_view_module": "@jupyter-widgets/controls",
            "_view_module_version": "1.5.0",
            "_view_name": "HBoxView",
            "box_style": "",
            "children": [
              "IPY_MODEL_d17a52e41ad447cabe297838cf74c228",
              "IPY_MODEL_dbd2221cb59546f1bacea93099b72149",
              "IPY_MODEL_529773865b444b5cb4e43911f4837177"
            ],
            "layout": "IPY_MODEL_a56e1ff5fcff4583b1cde8b75b20238c"
          }
        },
        "d17a52e41ad447cabe297838cf74c228": {
          "model_module": "@jupyter-widgets/controls",
          "model_name": "HTMLModel",
          "model_module_version": "1.5.0",
          "state": {
            "_dom_classes": [],
            "_model_module": "@jupyter-widgets/controls",
            "_model_module_version": "1.5.0",
            "_model_name": "HTMLModel",
            "_view_count": null,
            "_view_module": "@jupyter-widgets/controls",
            "_view_module_version": "1.5.0",
            "_view_name": "HTMLView",
            "description": "",
            "description_tooltip": null,
            "layout": "IPY_MODEL_46a60bc6e25b444190ddb6931c6f6257",
            "placeholder": "​",
            "style": "IPY_MODEL_34a9227696a94428af82d7e85d1cf1a3",
            "value": "model-00002-of-00002.safetensors: 100%"
          }
        },
        "dbd2221cb59546f1bacea93099b72149": {
          "model_module": "@jupyter-widgets/controls",
          "model_name": "FloatProgressModel",
          "model_module_version": "1.5.0",
          "state": {
            "_dom_classes": [],
            "_model_module": "@jupyter-widgets/controls",
            "_model_module_version": "1.5.0",
            "_model_name": "FloatProgressModel",
            "_view_count": null,
            "_view_module": "@jupyter-widgets/controls",
            "_view_module_version": "1.5.0",
            "_view_name": "ProgressView",
            "bar_style": "success",
            "description": "",
            "description_tooltip": null,
            "layout": "IPY_MODEL_0ebd5efba258408299e3c0adf80a88bc",
            "max": 3500296424,
            "min": 0,
            "orientation": "horizontal",
            "style": "IPY_MODEL_a817ae6eb848498fa74c9bfcdf37d833",
            "value": 3500296424
          }
        },
        "529773865b444b5cb4e43911f4837177": {
          "model_module": "@jupyter-widgets/controls",
          "model_name": "HTMLModel",
          "model_module_version": "1.5.0",
          "state": {
            "_dom_classes": [],
            "_model_module": "@jupyter-widgets/controls",
            "_model_module_version": "1.5.0",
            "_model_name": "HTMLModel",
            "_view_count": null,
            "_view_module": "@jupyter-widgets/controls",
            "_view_module_version": "1.5.0",
            "_view_name": "HTMLView",
            "description": "",
            "description_tooltip": null,
            "layout": "IPY_MODEL_1e31def5d61f4af5a37d936c2371a1f4",
            "placeholder": "​",
            "style": "IPY_MODEL_b31136c20f9f4535929f75afda74e141",
            "value": " 3.50G/3.50G [00:31&lt;00:00, 71.9MB/s]"
          }
        },
        "a56e1ff5fcff4583b1cde8b75b20238c": {
          "model_module": "@jupyter-widgets/base",
          "model_name": "LayoutModel",
          "model_module_version": "1.2.0",
          "state": {
            "_model_module": "@jupyter-widgets/base",
            "_model_module_version": "1.2.0",
            "_model_name": "LayoutModel",
            "_view_count": null,
            "_view_module": "@jupyter-widgets/base",
            "_view_module_version": "1.2.0",
            "_view_name": "LayoutView",
            "align_content": null,
            "align_items": null,
            "align_self": null,
            "border": null,
            "bottom": null,
            "display": null,
            "flex": null,
            "flex_flow": null,
            "grid_area": null,
            "grid_auto_columns": null,
            "grid_auto_flow": null,
            "grid_auto_rows": null,
            "grid_column": null,
            "grid_gap": null,
            "grid_row": null,
            "grid_template_areas": null,
            "grid_template_columns": null,
            "grid_template_rows": null,
            "height": null,
            "justify_content": null,
            "justify_items": null,
            "left": null,
            "margin": null,
            "max_height": null,
            "max_width": null,
            "min_height": null,
            "min_width": null,
            "object_fit": null,
            "object_position": null,
            "order": null,
            "overflow": null,
            "overflow_x": null,
            "overflow_y": null,
            "padding": null,
            "right": null,
            "top": null,
            "visibility": null,
            "width": null
          }
        },
        "46a60bc6e25b444190ddb6931c6f6257": {
          "model_module": "@jupyter-widgets/base",
          "model_name": "LayoutModel",
          "model_module_version": "1.2.0",
          "state": {
            "_model_module": "@jupyter-widgets/base",
            "_model_module_version": "1.2.0",
            "_model_name": "LayoutModel",
            "_view_count": null,
            "_view_module": "@jupyter-widgets/base",
            "_view_module_version": "1.2.0",
            "_view_name": "LayoutView",
            "align_content": null,
            "align_items": null,
            "align_self": null,
            "border": null,
            "bottom": null,
            "display": null,
            "flex": null,
            "flex_flow": null,
            "grid_area": null,
            "grid_auto_columns": null,
            "grid_auto_flow": null,
            "grid_auto_rows": null,
            "grid_column": null,
            "grid_gap": null,
            "grid_row": null,
            "grid_template_areas": null,
            "grid_template_columns": null,
            "grid_template_rows": null,
            "height": null,
            "justify_content": null,
            "justify_items": null,
            "left": null,
            "margin": null,
            "max_height": null,
            "max_width": null,
            "min_height": null,
            "min_width": null,
            "object_fit": null,
            "object_position": null,
            "order": null,
            "overflow": null,
            "overflow_x": null,
            "overflow_y": null,
            "padding": null,
            "right": null,
            "top": null,
            "visibility": null,
            "width": null
          }
        },
        "34a9227696a94428af82d7e85d1cf1a3": {
          "model_module": "@jupyter-widgets/controls",
          "model_name": "DescriptionStyleModel",
          "model_module_version": "1.5.0",
          "state": {
            "_model_module": "@jupyter-widgets/controls",
            "_model_module_version": "1.5.0",
            "_model_name": "DescriptionStyleModel",
            "_view_count": null,
            "_view_module": "@jupyter-widgets/base",
            "_view_module_version": "1.2.0",
            "_view_name": "StyleView",
            "description_width": ""
          }
        },
        "0ebd5efba258408299e3c0adf80a88bc": {
          "model_module": "@jupyter-widgets/base",
          "model_name": "LayoutModel",
          "model_module_version": "1.2.0",
          "state": {
            "_model_module": "@jupyter-widgets/base",
            "_model_module_version": "1.2.0",
            "_model_name": "LayoutModel",
            "_view_count": null,
            "_view_module": "@jupyter-widgets/base",
            "_view_module_version": "1.2.0",
            "_view_name": "LayoutView",
            "align_content": null,
            "align_items": null,
            "align_self": null,
            "border": null,
            "bottom": null,
            "display": null,
            "flex": null,
            "flex_flow": null,
            "grid_area": null,
            "grid_auto_columns": null,
            "grid_auto_flow": null,
            "grid_auto_rows": null,
            "grid_column": null,
            "grid_gap": null,
            "grid_row": null,
            "grid_template_areas": null,
            "grid_template_columns": null,
            "grid_template_rows": null,
            "height": null,
            "justify_content": null,
            "justify_items": null,
            "left": null,
            "margin": null,
            "max_height": null,
            "max_width": null,
            "min_height": null,
            "min_width": null,
            "object_fit": null,
            "object_position": null,
            "order": null,
            "overflow": null,
            "overflow_x": null,
            "overflow_y": null,
            "padding": null,
            "right": null,
            "top": null,
            "visibility": null,
            "width": null
          }
        },
        "a817ae6eb848498fa74c9bfcdf37d833": {
          "model_module": "@jupyter-widgets/controls",
          "model_name": "ProgressStyleModel",
          "model_module_version": "1.5.0",
          "state": {
            "_model_module": "@jupyter-widgets/controls",
            "_model_module_version": "1.5.0",
            "_model_name": "ProgressStyleModel",
            "_view_count": null,
            "_view_module": "@jupyter-widgets/base",
            "_view_module_version": "1.2.0",
            "_view_name": "StyleView",
            "bar_color": null,
            "description_width": ""
          }
        },
        "1e31def5d61f4af5a37d936c2371a1f4": {
          "model_module": "@jupyter-widgets/base",
          "model_name": "LayoutModel",
          "model_module_version": "1.2.0",
          "state": {
            "_model_module": "@jupyter-widgets/base",
            "_model_module_version": "1.2.0",
            "_model_name": "LayoutModel",
            "_view_count": null,
            "_view_module": "@jupyter-widgets/base",
            "_view_module_version": "1.2.0",
            "_view_name": "LayoutView",
            "align_content": null,
            "align_items": null,
            "align_self": null,
            "border": null,
            "bottom": null,
            "display": null,
            "flex": null,
            "flex_flow": null,
            "grid_area": null,
            "grid_auto_columns": null,
            "grid_auto_flow": null,
            "grid_auto_rows": null,
            "grid_column": null,
            "grid_gap": null,
            "grid_row": null,
            "grid_template_areas": null,
            "grid_template_columns": null,
            "grid_template_rows": null,
            "height": null,
            "justify_content": null,
            "justify_items": null,
            "left": null,
            "margin": null,
            "max_height": null,
            "max_width": null,
            "min_height": null,
            "min_width": null,
            "object_fit": null,
            "object_position": null,
            "order": null,
            "overflow": null,
            "overflow_x": null,
            "overflow_y": null,
            "padding": null,
            "right": null,
            "top": null,
            "visibility": null,
            "width": null
          }
        },
        "b31136c20f9f4535929f75afda74e141": {
          "model_module": "@jupyter-widgets/controls",
          "model_name": "DescriptionStyleModel",
          "model_module_version": "1.5.0",
          "state": {
            "_model_module": "@jupyter-widgets/controls",
            "_model_module_version": "1.5.0",
            "_model_name": "DescriptionStyleModel",
            "_view_count": null,
            "_view_module": "@jupyter-widgets/base",
            "_view_module_version": "1.2.0",
            "_view_name": "StyleView",
            "description_width": ""
          }
        },
        "e39c4cef080248d2887e2f8d8411d7f0": {
          "model_module": "@jupyter-widgets/controls",
          "model_name": "HBoxModel",
          "model_module_version": "1.5.0",
          "state": {
            "_dom_classes": [],
            "_model_module": "@jupyter-widgets/controls",
            "_model_module_version": "1.5.0",
            "_model_name": "HBoxModel",
            "_view_count": null,
            "_view_module": "@jupyter-widgets/controls",
            "_view_module_version": "1.5.0",
            "_view_name": "HBoxView",
            "box_style": "",
            "children": [
              "IPY_MODEL_54c38c9453cc49fb8a6a37fe329ead25",
              "IPY_MODEL_515c8be716424c2086ed8fccd22c31b4",
              "IPY_MODEL_1d03c64743924d65a0755a57c3b40302"
            ],
            "layout": "IPY_MODEL_dafe1d0a943c4c65b3946a91a977c838"
          }
        },
        "54c38c9453cc49fb8a6a37fe329ead25": {
          "model_module": "@jupyter-widgets/controls",
          "model_name": "HTMLModel",
          "model_module_version": "1.5.0",
          "state": {
            "_dom_classes": [],
            "_model_module": "@jupyter-widgets/controls",
            "_model_module_version": "1.5.0",
            "_model_name": "HTMLModel",
            "_view_count": null,
            "_view_module": "@jupyter-widgets/controls",
            "_view_module_version": "1.5.0",
            "_view_name": "HTMLView",
            "description": "",
            "description_tooltip": null,
            "layout": "IPY_MODEL_60a4b966436e4967b72cc7bc1c74e811",
            "placeholder": "​",
            "style": "IPY_MODEL_8da5a671d228495fbdd78b723bf81840",
            "value": "Loading checkpoint shards: 100%"
          }
        },
        "515c8be716424c2086ed8fccd22c31b4": {
          "model_module": "@jupyter-widgets/controls",
          "model_name": "FloatProgressModel",
          "model_module_version": "1.5.0",
          "state": {
            "_dom_classes": [],
            "_model_module": "@jupyter-widgets/controls",
            "_model_module_version": "1.5.0",
            "_model_name": "FloatProgressModel",
            "_view_count": null,
            "_view_module": "@jupyter-widgets/controls",
            "_view_module_version": "1.5.0",
            "_view_name": "ProgressView",
            "bar_style": "success",
            "description": "",
            "description_tooltip": null,
            "layout": "IPY_MODEL_82d5f76ecb41476ebf445d83dca9889c",
            "max": 2,
            "min": 0,
            "orientation": "horizontal",
            "style": "IPY_MODEL_2c8175a61e5c43ab8a2d5a238bc5a7fe",
            "value": 2
          }
        },
        "1d03c64743924d65a0755a57c3b40302": {
          "model_module": "@jupyter-widgets/controls",
          "model_name": "HTMLModel",
          "model_module_version": "1.5.0",
          "state": {
            "_dom_classes": [],
            "_model_module": "@jupyter-widgets/controls",
            "_model_module_version": "1.5.0",
            "_model_name": "HTMLModel",
            "_view_count": null,
            "_view_module": "@jupyter-widgets/controls",
            "_view_module_version": "1.5.0",
            "_view_name": "HTMLView",
            "description": "",
            "description_tooltip": null,
            "layout": "IPY_MODEL_fae2a3ec73cb485ab5089539acc9489d",
            "placeholder": "​",
            "style": "IPY_MODEL_a01c17241e1644fd8f7d66c4e9050036",
            "value": " 2/2 [01:02&lt;00:00, 28.81s/it]"
          }
        },
        "dafe1d0a943c4c65b3946a91a977c838": {
          "model_module": "@jupyter-widgets/base",
          "model_name": "LayoutModel",
          "model_module_version": "1.2.0",
          "state": {
            "_model_module": "@jupyter-widgets/base",
            "_model_module_version": "1.2.0",
            "_model_name": "LayoutModel",
            "_view_count": null,
            "_view_module": "@jupyter-widgets/base",
            "_view_module_version": "1.2.0",
            "_view_name": "LayoutView",
            "align_content": null,
            "align_items": null,
            "align_self": null,
            "border": null,
            "bottom": null,
            "display": null,
            "flex": null,
            "flex_flow": null,
            "grid_area": null,
            "grid_auto_columns": null,
            "grid_auto_flow": null,
            "grid_auto_rows": null,
            "grid_column": null,
            "grid_gap": null,
            "grid_row": null,
            "grid_template_areas": null,
            "grid_template_columns": null,
            "grid_template_rows": null,
            "height": null,
            "justify_content": null,
            "justify_items": null,
            "left": null,
            "margin": null,
            "max_height": null,
            "max_width": null,
            "min_height": null,
            "min_width": null,
            "object_fit": null,
            "object_position": null,
            "order": null,
            "overflow": null,
            "overflow_x": null,
            "overflow_y": null,
            "padding": null,
            "right": null,
            "top": null,
            "visibility": null,
            "width": null
          }
        },
        "60a4b966436e4967b72cc7bc1c74e811": {
          "model_module": "@jupyter-widgets/base",
          "model_name": "LayoutModel",
          "model_module_version": "1.2.0",
          "state": {
            "_model_module": "@jupyter-widgets/base",
            "_model_module_version": "1.2.0",
            "_model_name": "LayoutModel",
            "_view_count": null,
            "_view_module": "@jupyter-widgets/base",
            "_view_module_version": "1.2.0",
            "_view_name": "LayoutView",
            "align_content": null,
            "align_items": null,
            "align_self": null,
            "border": null,
            "bottom": null,
            "display": null,
            "flex": null,
            "flex_flow": null,
            "grid_area": null,
            "grid_auto_columns": null,
            "grid_auto_flow": null,
            "grid_auto_rows": null,
            "grid_column": null,
            "grid_gap": null,
            "grid_row": null,
            "grid_template_areas": null,
            "grid_template_columns": null,
            "grid_template_rows": null,
            "height": null,
            "justify_content": null,
            "justify_items": null,
            "left": null,
            "margin": null,
            "max_height": null,
            "max_width": null,
            "min_height": null,
            "min_width": null,
            "object_fit": null,
            "object_position": null,
            "order": null,
            "overflow": null,
            "overflow_x": null,
            "overflow_y": null,
            "padding": null,
            "right": null,
            "top": null,
            "visibility": null,
            "width": null
          }
        },
        "8da5a671d228495fbdd78b723bf81840": {
          "model_module": "@jupyter-widgets/controls",
          "model_name": "DescriptionStyleModel",
          "model_module_version": "1.5.0",
          "state": {
            "_model_module": "@jupyter-widgets/controls",
            "_model_module_version": "1.5.0",
            "_model_name": "DescriptionStyleModel",
            "_view_count": null,
            "_view_module": "@jupyter-widgets/base",
            "_view_module_version": "1.2.0",
            "_view_name": "StyleView",
            "description_width": ""
          }
        },
        "82d5f76ecb41476ebf445d83dca9889c": {
          "model_module": "@jupyter-widgets/base",
          "model_name": "LayoutModel",
          "model_module_version": "1.2.0",
          "state": {
            "_model_module": "@jupyter-widgets/base",
            "_model_module_version": "1.2.0",
            "_model_name": "LayoutModel",
            "_view_count": null,
            "_view_module": "@jupyter-widgets/base",
            "_view_module_version": "1.2.0",
            "_view_name": "LayoutView",
            "align_content": null,
            "align_items": null,
            "align_self": null,
            "border": null,
            "bottom": null,
            "display": null,
            "flex": null,
            "flex_flow": null,
            "grid_area": null,
            "grid_auto_columns": null,
            "grid_auto_flow": null,
            "grid_auto_rows": null,
            "grid_column": null,
            "grid_gap": null,
            "grid_row": null,
            "grid_template_areas": null,
            "grid_template_columns": null,
            "grid_template_rows": null,
            "height": null,
            "justify_content": null,
            "justify_items": null,
            "left": null,
            "margin": null,
            "max_height": null,
            "max_width": null,
            "min_height": null,
            "min_width": null,
            "object_fit": null,
            "object_position": null,
            "order": null,
            "overflow": null,
            "overflow_x": null,
            "overflow_y": null,
            "padding": null,
            "right": null,
            "top": null,
            "visibility": null,
            "width": null
          }
        },
        "2c8175a61e5c43ab8a2d5a238bc5a7fe": {
          "model_module": "@jupyter-widgets/controls",
          "model_name": "ProgressStyleModel",
          "model_module_version": "1.5.0",
          "state": {
            "_model_module": "@jupyter-widgets/controls",
            "_model_module_version": "1.5.0",
            "_model_name": "ProgressStyleModel",
            "_view_count": null,
            "_view_module": "@jupyter-widgets/base",
            "_view_module_version": "1.2.0",
            "_view_name": "StyleView",
            "bar_color": null,
            "description_width": ""
          }
        },
        "fae2a3ec73cb485ab5089539acc9489d": {
          "model_module": "@jupyter-widgets/base",
          "model_name": "LayoutModel",
          "model_module_version": "1.2.0",
          "state": {
            "_model_module": "@jupyter-widgets/base",
            "_model_module_version": "1.2.0",
            "_model_name": "LayoutModel",
            "_view_count": null,
            "_view_module": "@jupyter-widgets/base",
            "_view_module_version": "1.2.0",
            "_view_name": "LayoutView",
            "align_content": null,
            "align_items": null,
            "align_self": null,
            "border": null,
            "bottom": null,
            "display": null,
            "flex": null,
            "flex_flow": null,
            "grid_area": null,
            "grid_auto_columns": null,
            "grid_auto_flow": null,
            "grid_auto_rows": null,
            "grid_column": null,
            "grid_gap": null,
            "grid_row": null,
            "grid_template_areas": null,
            "grid_template_columns": null,
            "grid_template_rows": null,
            "height": null,
            "justify_content": null,
            "justify_items": null,
            "left": null,
            "margin": null,
            "max_height": null,
            "max_width": null,
            "min_height": null,
            "min_width": null,
            "object_fit": null,
            "object_position": null,
            "order": null,
            "overflow": null,
            "overflow_x": null,
            "overflow_y": null,
            "padding": null,
            "right": null,
            "top": null,
            "visibility": null,
            "width": null
          }
        },
        "a01c17241e1644fd8f7d66c4e9050036": {
          "model_module": "@jupyter-widgets/controls",
          "model_name": "DescriptionStyleModel",
          "model_module_version": "1.5.0",
          "state": {
            "_model_module": "@jupyter-widgets/controls",
            "_model_module_version": "1.5.0",
            "_model_name": "DescriptionStyleModel",
            "_view_count": null,
            "_view_module": "@jupyter-widgets/base",
            "_view_module_version": "1.2.0",
            "_view_name": "StyleView",
            "description_width": ""
          }
        },
        "9aba50409bb94b938c6d74c979795b25": {
          "model_module": "@jupyter-widgets/controls",
          "model_name": "HBoxModel",
          "model_module_version": "1.5.0",
          "state": {
            "_dom_classes": [],
            "_model_module": "@jupyter-widgets/controls",
            "_model_module_version": "1.5.0",
            "_model_name": "HBoxModel",
            "_view_count": null,
            "_view_module": "@jupyter-widgets/controls",
            "_view_module_version": "1.5.0",
            "_view_name": "HBoxView",
            "box_style": "",
            "children": [
              "IPY_MODEL_72f20d8f6a4a44a08a794a9f19be70f3",
              "IPY_MODEL_e2a4f6a2e8ab478cbc0be63a5597a7c9",
              "IPY_MODEL_393b11d73d53433cbe5ab1cf5a65b75b"
            ],
            "layout": "IPY_MODEL_023407ee2ff147bba2c353ef15dd6217"
          }
        },
        "72f20d8f6a4a44a08a794a9f19be70f3": {
          "model_module": "@jupyter-widgets/controls",
          "model_name": "HTMLModel",
          "model_module_version": "1.5.0",
          "state": {
            "_dom_classes": [],
            "_model_module": "@jupyter-widgets/controls",
            "_model_module_version": "1.5.0",
            "_model_name": "HTMLModel",
            "_view_count": null,
            "_view_module": "@jupyter-widgets/controls",
            "_view_module_version": "1.5.0",
            "_view_name": "HTMLView",
            "description": "",
            "description_tooltip": null,
            "layout": "IPY_MODEL_230fad3c8a164793874bc71853db7b46",
            "placeholder": "​",
            "style": "IPY_MODEL_cfaa90dacdce41caaf0d5d0dbe8613af",
            "value": "generation_config.json: 100%"
          }
        },
        "e2a4f6a2e8ab478cbc0be63a5597a7c9": {
          "model_module": "@jupyter-widgets/controls",
          "model_name": "FloatProgressModel",
          "model_module_version": "1.5.0",
          "state": {
            "_dom_classes": [],
            "_model_module": "@jupyter-widgets/controls",
            "_model_module_version": "1.5.0",
            "_model_name": "FloatProgressModel",
            "_view_count": null,
            "_view_module": "@jupyter-widgets/controls",
            "_view_module_version": "1.5.0",
            "_view_name": "ProgressView",
            "bar_style": "success",
            "description": "",
            "description_tooltip": null,
            "layout": "IPY_MODEL_aaf9726f98a24a158e417640451b57e7",
            "max": 188,
            "min": 0,
            "orientation": "horizontal",
            "style": "IPY_MODEL_5f957eda8e284b8e90eccb9f14557da8",
            "value": 188
          }
        },
        "393b11d73d53433cbe5ab1cf5a65b75b": {
          "model_module": "@jupyter-widgets/controls",
          "model_name": "HTMLModel",
          "model_module_version": "1.5.0",
          "state": {
            "_dom_classes": [],
            "_model_module": "@jupyter-widgets/controls",
            "_model_module_version": "1.5.0",
            "_model_name": "HTMLModel",
            "_view_count": null,
            "_view_module": "@jupyter-widgets/controls",
            "_view_module_version": "1.5.0",
            "_view_name": "HTMLView",
            "description": "",
            "description_tooltip": null,
            "layout": "IPY_MODEL_11407a77c3994fd28dd0d50ab683f7d5",
            "placeholder": "​",
            "style": "IPY_MODEL_342c3961c1f4498f875e89355d1514b2",
            "value": " 188/188 [00:00&lt;00:00, 13.5kB/s]"
          }
        },
        "023407ee2ff147bba2c353ef15dd6217": {
          "model_module": "@jupyter-widgets/base",
          "model_name": "LayoutModel",
          "model_module_version": "1.2.0",
          "state": {
            "_model_module": "@jupyter-widgets/base",
            "_model_module_version": "1.2.0",
            "_model_name": "LayoutModel",
            "_view_count": null,
            "_view_module": "@jupyter-widgets/base",
            "_view_module_version": "1.2.0",
            "_view_name": "LayoutView",
            "align_content": null,
            "align_items": null,
            "align_self": null,
            "border": null,
            "bottom": null,
            "display": null,
            "flex": null,
            "flex_flow": null,
            "grid_area": null,
            "grid_auto_columns": null,
            "grid_auto_flow": null,
            "grid_auto_rows": null,
            "grid_column": null,
            "grid_gap": null,
            "grid_row": null,
            "grid_template_areas": null,
            "grid_template_columns": null,
            "grid_template_rows": null,
            "height": null,
            "justify_content": null,
            "justify_items": null,
            "left": null,
            "margin": null,
            "max_height": null,
            "max_width": null,
            "min_height": null,
            "min_width": null,
            "object_fit": null,
            "object_position": null,
            "order": null,
            "overflow": null,
            "overflow_x": null,
            "overflow_y": null,
            "padding": null,
            "right": null,
            "top": null,
            "visibility": null,
            "width": null
          }
        },
        "230fad3c8a164793874bc71853db7b46": {
          "model_module": "@jupyter-widgets/base",
          "model_name": "LayoutModel",
          "model_module_version": "1.2.0",
          "state": {
            "_model_module": "@jupyter-widgets/base",
            "_model_module_version": "1.2.0",
            "_model_name": "LayoutModel",
            "_view_count": null,
            "_view_module": "@jupyter-widgets/base",
            "_view_module_version": "1.2.0",
            "_view_name": "LayoutView",
            "align_content": null,
            "align_items": null,
            "align_self": null,
            "border": null,
            "bottom": null,
            "display": null,
            "flex": null,
            "flex_flow": null,
            "grid_area": null,
            "grid_auto_columns": null,
            "grid_auto_flow": null,
            "grid_auto_rows": null,
            "grid_column": null,
            "grid_gap": null,
            "grid_row": null,
            "grid_template_areas": null,
            "grid_template_columns": null,
            "grid_template_rows": null,
            "height": null,
            "justify_content": null,
            "justify_items": null,
            "left": null,
            "margin": null,
            "max_height": null,
            "max_width": null,
            "min_height": null,
            "min_width": null,
            "object_fit": null,
            "object_position": null,
            "order": null,
            "overflow": null,
            "overflow_x": null,
            "overflow_y": null,
            "padding": null,
            "right": null,
            "top": null,
            "visibility": null,
            "width": null
          }
        },
        "cfaa90dacdce41caaf0d5d0dbe8613af": {
          "model_module": "@jupyter-widgets/controls",
          "model_name": "DescriptionStyleModel",
          "model_module_version": "1.5.0",
          "state": {
            "_model_module": "@jupyter-widgets/controls",
            "_model_module_version": "1.5.0",
            "_model_name": "DescriptionStyleModel",
            "_view_count": null,
            "_view_module": "@jupyter-widgets/base",
            "_view_module_version": "1.2.0",
            "_view_name": "StyleView",
            "description_width": ""
          }
        },
        "aaf9726f98a24a158e417640451b57e7": {
          "model_module": "@jupyter-widgets/base",
          "model_name": "LayoutModel",
          "model_module_version": "1.2.0",
          "state": {
            "_model_module": "@jupyter-widgets/base",
            "_model_module_version": "1.2.0",
            "_model_name": "LayoutModel",
            "_view_count": null,
            "_view_module": "@jupyter-widgets/base",
            "_view_module_version": "1.2.0",
            "_view_name": "LayoutView",
            "align_content": null,
            "align_items": null,
            "align_self": null,
            "border": null,
            "bottom": null,
            "display": null,
            "flex": null,
            "flex_flow": null,
            "grid_area": null,
            "grid_auto_columns": null,
            "grid_auto_flow": null,
            "grid_auto_rows": null,
            "grid_column": null,
            "grid_gap": null,
            "grid_row": null,
            "grid_template_areas": null,
            "grid_template_columns": null,
            "grid_template_rows": null,
            "height": null,
            "justify_content": null,
            "justify_items": null,
            "left": null,
            "margin": null,
            "max_height": null,
            "max_width": null,
            "min_height": null,
            "min_width": null,
            "object_fit": null,
            "object_position": null,
            "order": null,
            "overflow": null,
            "overflow_x": null,
            "overflow_y": null,
            "padding": null,
            "right": null,
            "top": null,
            "visibility": null,
            "width": null
          }
        },
        "5f957eda8e284b8e90eccb9f14557da8": {
          "model_module": "@jupyter-widgets/controls",
          "model_name": "ProgressStyleModel",
          "model_module_version": "1.5.0",
          "state": {
            "_model_module": "@jupyter-widgets/controls",
            "_model_module_version": "1.5.0",
            "_model_name": "ProgressStyleModel",
            "_view_count": null,
            "_view_module": "@jupyter-widgets/base",
            "_view_module_version": "1.2.0",
            "_view_name": "StyleView",
            "bar_color": null,
            "description_width": ""
          }
        },
        "11407a77c3994fd28dd0d50ab683f7d5": {
          "model_module": "@jupyter-widgets/base",
          "model_name": "LayoutModel",
          "model_module_version": "1.2.0",
          "state": {
            "_model_module": "@jupyter-widgets/base",
            "_model_module_version": "1.2.0",
            "_model_name": "LayoutModel",
            "_view_count": null,
            "_view_module": "@jupyter-widgets/base",
            "_view_module_version": "1.2.0",
            "_view_name": "LayoutView",
            "align_content": null,
            "align_items": null,
            "align_self": null,
            "border": null,
            "bottom": null,
            "display": null,
            "flex": null,
            "flex_flow": null,
            "grid_area": null,
            "grid_auto_columns": null,
            "grid_auto_flow": null,
            "grid_auto_rows": null,
            "grid_column": null,
            "grid_gap": null,
            "grid_row": null,
            "grid_template_areas": null,
            "grid_template_columns": null,
            "grid_template_rows": null,
            "height": null,
            "justify_content": null,
            "justify_items": null,
            "left": null,
            "margin": null,
            "max_height": null,
            "max_width": null,
            "min_height": null,
            "min_width": null,
            "object_fit": null,
            "object_position": null,
            "order": null,
            "overflow": null,
            "overflow_x": null,
            "overflow_y": null,
            "padding": null,
            "right": null,
            "top": null,
            "visibility": null,
            "width": null
          }
        },
        "342c3961c1f4498f875e89355d1514b2": {
          "model_module": "@jupyter-widgets/controls",
          "model_name": "DescriptionStyleModel",
          "model_module_version": "1.5.0",
          "state": {
            "_model_module": "@jupyter-widgets/controls",
            "_model_module_version": "1.5.0",
            "_model_name": "DescriptionStyleModel",
            "_view_count": null,
            "_view_module": "@jupyter-widgets/base",
            "_view_module_version": "1.2.0",
            "_view_name": "StyleView",
            "description_width": ""
          }
        }
      }
    }
  },
  "nbformat": 4,
  "nbformat_minor": 5
}