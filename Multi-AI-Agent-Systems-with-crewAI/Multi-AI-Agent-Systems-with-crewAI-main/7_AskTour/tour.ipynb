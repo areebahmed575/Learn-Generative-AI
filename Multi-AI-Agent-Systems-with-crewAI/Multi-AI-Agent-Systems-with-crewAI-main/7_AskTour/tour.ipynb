{
 "cells": [
  {
   "cell_type": "code",
   "execution_count": 152,
   "metadata": {},
   "outputs": [],
   "source": [
    "# Warning control\n",
    "import warnings\n",
    "warnings.filterwarnings(\"ignore\")"
   ]
  },
  {
   "cell_type": "code",
   "execution_count": 153,
   "metadata": {},
   "outputs": [],
   "source": [
    "from crewai import Agent, Task, Crew, Process"
   ]
  },
  {
   "cell_type": "markdown",
   "metadata": {},
   "source": [
    "## Tools"
   ]
  },
  {
   "cell_type": "code",
   "execution_count": 155,
   "metadata": {},
   "outputs": [],
   "source": [
    "from crewai_tools import SerperDevTool,ScrapeWebsiteTool,WebsiteSearchTool\n",
    "\n",
    "\n",
    "search_tool = SerperDevTool()  \n",
    "scrape_tool = ScrapeWebsiteTool() \n",
    "flight_tool = WebsiteSearchTool(\n",
    "    url=\"https://www.booking.com\",\n",
    "    search_terms=\"flights from your city to user's destination\"\n",
    ")\n",
    "# map_tool = MapboxTool(api_key=os.getenv(\"MAPBOX_API_KEY\"))  # Custom Mapbox tool to display locations on map\n",
    "# geocoding_tool = MapboxGeocodingTool(api_key=os.getenv(\"MAPBOX_API_KEY\"))  # Too"
   ]
  },
  {
   "cell_type": "markdown",
   "metadata": {},
   "source": [
    "## Agents"
   ]
  },
  {
   "cell_type": "code",
   "execution_count": 160,
   "metadata": {},
   "outputs": [],
   "source": [
    "tourist_searcher = Agent(\n",
    "    role=\"Tourist Place Researcher \",\n",
    "    goal=\"Find and summarize \" \n",
    "    \"the top tourist places \" \n",
    "    \"in Pakistan \" \n",
    "    \"based on user interests.\",\n",
    "    tools=[search_tool,scrape_tool],\n",
    "    verbose=True,\n",
    "    backstory=(\n",
    "        \"A web search expert, \" \n",
    "        \"proficient in finding \" \n",
    "        \"the most exciting tourist spots \" \n",
    "        \"based on the user's interests.\"\n",
    "    )\n",
    " \n",
    ")"
   ]
  },
  {
   "cell_type": "code",
   "execution_count": 161,
   "metadata": {},
   "outputs": [],
   "source": [
    "flight_finder = Agent(\n",
    "    role=\"Flight Search Expert\",\n",
    "    goal=\"Find flights to top tourist spots \" \n",
    "    \"in Pakistan \" \n",
    "    \"within the user\\'s budget.\",\n",
    "    tools=[search_tool,scrape_tool,flight_tool], \n",
    "    verbose=True,\n",
    "    memory=True,\n",
    "    backstory=(\n",
    "        \"A dedicated travel expert \" \n",
    "        \"skilled in finding the best flight options \" \n",
    "        \"within the user's budget.\"\n",
    "    ),\n",
    ")"
   ]
  },
  {
   "cell_type": "markdown",
   "metadata": {},
   "source": [
    "## Task"
   ]
  },
  {
   "cell_type": "code",
   "execution_count": 162,
   "metadata": {},
   "outputs": [],
   "source": [
    "tourist_search_task = Task(\n",
    "    description=\"Search the web \" \n",
    "    \"for top tourist places \"\n",
    "    \"in {search_query} \" \n",
    "    \"based on the user's {interest}.\",\n",
    "    expected_output=\"A summary of the top tourist destinations \" \n",
    "    \"in {search_query} \" \n",
    "    \"based on the user's {interest} and {duration}.\",\n",
    "    agent=tourist_searcher\n",
    ")\n"
   ]
  },
  {
   "cell_type": "code",
   "execution_count": 165,
   "metadata": {},
   "outputs": [],
   "source": [
    "flight_search_task = Task(\n",
    "    description=\"Search for flights \" \n",
    "    \"in {search_query} \" \n",
    "    \"based on user {budget}.\",\n",
    "    expected_output=\"List of {flight_search} flights \" \n",
    "    \"to major tourist destinations, \" \n",
    "    \"including airline names, \" \n",
    "    \"times, prices (within user's {budget}). \",\n",
    "    agent=flight_finder\n",
    ")"
   ]
  },
  {
   "cell_type": "markdown",
   "metadata": {},
   "source": [
    "## Create Crew"
   ]
  },
  {
   "cell_type": "code",
   "execution_count": 166,
   "metadata": {},
   "outputs": [
    {
     "name": "stderr",
     "output_type": "stream",
     "text": [
      "2024-09-07 19:57:34,898 - 6772 - __init__.py-__init__:538 - WARNING: Overriding of current TracerProvider is not allowed\n"
     ]
    }
   ],
   "source": [
    "crew = Crew(\n",
    "    agents=[tourist_searcher,\n",
    "             flight_finder],\n",
    "    tasks=[tourist_search_task,\n",
    "            flight_search_task],\n",
    "   verbose=True \n",
    ")"
   ]
  },
  {
   "cell_type": "code",
   "execution_count": 167,
   "metadata": {},
   "outputs": [],
   "source": [
    "inputs_details={\n",
    "    \"search_query\": \"Skardu\", \n",
    "    \"budget\": \"50000 PKR\",\n",
    "    \"interest\": \"adventure\", \n",
    "    \"duration\": \"7 days\",\n",
    "    \"flight_search\": \"Karachi to Skardu\", \n",
    "}\n",
    "\n"
   ]
  },
  {
   "cell_type": "code",
   "execution_count": 168,
   "metadata": {},
   "outputs": [
    {
     "name": "stdout",
     "output_type": "stream",
     "text": [
      "\u001b[1m\u001b[95m [2024-09-07 19:57:41][DEBUG]: == Working Agent: Tourist Place Researcher \u001b[00m\n",
      "\u001b[1m\u001b[95m [2024-09-07 19:57:41][INFO]: == Starting Task: Search the web for top tourist places in Skardu based on the user's adventure.\u001b[00m\n",
      "\n",
      "\n",
      "\u001b[1m> Entering new CrewAgentExecutor chain...\u001b[0m\n",
      "\u001b[32;1m\u001b[1;3m\u001b[0m\n",
      "\n",
      "\u001b[1m> Finished chain.\u001b[0m\n",
      "\u001b[1m\u001b[92m [2024-09-07 19:57:53][DEBUG]: == [Tourist Place Researcher ] Task output: Agent stopped due to iteration limit or time limit.\n",
      "\n",
      "\u001b[00m\n",
      "\u001b[1m\u001b[95m [2024-09-07 19:57:53][DEBUG]: == Working Agent: Flight Search Expert\u001b[00m\n",
      "\u001b[1m\u001b[95m [2024-09-07 19:57:53][INFO]: == Starting Task: Search for flights in Skardu based on user 50000 PKR.\u001b[00m\n",
      "\n",
      "\n",
      "\u001b[1m> Entering new CrewAgentExecutor chain...\u001b[0m\n",
      "\u001b[32;1m\u001b[1;3m\u001b[0m\n",
      "\n",
      "\u001b[1m> Finished chain.\u001b[0m\n",
      "\u001b[1m\u001b[92m [2024-09-07 19:58:05][DEBUG]: == [Flight Search Expert] Task output: Agent stopped due to iteration limit or time limit.\n",
      "\n",
      "\u001b[00m\n"
     ]
    }
   ],
   "source": [
    "result = crew.kickoff(inputs=inputs_details)"
   ]
  },
  {
   "cell_type": "code",
   "execution_count": 169,
   "metadata": {},
   "outputs": [
    {
     "data": {
      "text/markdown": [
       "Agent stopped due to iteration limit or time limit."
      ],
      "text/plain": [
       "<IPython.core.display.Markdown object>"
      ]
     },
     "execution_count": 169,
     "metadata": {},
     "output_type": "execute_result"
    }
   ],
   "source": [
    "from IPython.display import Markdown\n",
    "Markdown(result.raw)"
   ]
  }
 ],
 "metadata": {
  "kernelspec": {
   "display_name": "python15",
   "language": "python",
   "name": "python3"
  },
  "language_info": {
   "codemirror_mode": {
    "name": "ipython",
    "version": 3
   },
   "file_extension": ".py",
   "mimetype": "text/x-python",
   "name": "python",
   "nbconvert_exporter": "python",
   "pygments_lexer": "ipython3",
   "version": "3.12.0"
  }
 },
 "nbformat": 4,
 "nbformat_minor": 2
}
