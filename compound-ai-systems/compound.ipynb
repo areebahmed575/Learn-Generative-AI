{
 "cells": [
  {
   "cell_type": "markdown",
   "metadata": {},
   "source": [
    "Abhi tak hum monolithic approach use kr rahay thay yani k hum ney request bheji or response mil gaya.One go process hota tou complex task sahe sai perform nahi krta tha like chat completion in LLM.Compound ai system  mai LLM aik bar response anay k baad phir sai uss reponse ko analyze krwaye.Phir jo answer aaye usko different role k saat analayze ya assesment krwaya.Aap multiple time jo input araha h multiple components ya role k saat usko dobara analyze krwaye.Components ya role can be AG, APIs, Web Search, Web Access.So GPT k custom gpt ko agar dhekay tou woh aik compound ai system h.\n",
    "\n",
    "\n",
    "2022 -> LLM\n",
    "23 -> Compound Ai system\n",
    "24 -> Agents\n",
    "\n",
    "Compund ai system k baad ai ka period start h.Agents autonomous h.Kohi kaam dya uska step by step plan banaye ga.Baar baar iterations krtay h baar baar LLM ko call krtay h  or unn sai kaam krwatay h.Yeh sab agent kud decide kray ga q k woh autonomous h"
   ]
  }
 ],
 "metadata": {
  "language_info": {
   "name": "python"
  }
 },
 "nbformat": 4,
 "nbformat_minor": 2
}
