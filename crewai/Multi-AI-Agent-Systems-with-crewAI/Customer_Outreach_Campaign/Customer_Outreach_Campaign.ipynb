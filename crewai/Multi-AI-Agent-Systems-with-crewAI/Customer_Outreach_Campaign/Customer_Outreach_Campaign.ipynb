{
 "cells": [
  {
   "cell_type": "markdown",
   "id": "47885daa-366f-485b-b9c9-ac2657dc241c",
   "metadata": {},
   "source": [
    "# Customer Outreach Campaign\n",
    "\n",
    "We learn how to create custom tools for a customer outreach campaign. A Good tool has 3 key elements:\n",
    "\n",
    "- Versatility\n",
    "- Caching\n",
    "- Fault Tolerance"
   ]
  },
  {
   "cell_type": "markdown",
   "id": "f8899e19-cc6a-4f2a-9ccf-eadc32959a35",
   "metadata": {},
   "source": [
    "Note: CrewAI only works with Python version >=3.10 and <=3.13 "
   ]
  },
  {
   "cell_type": "code",
   "execution_count": 31,
   "id": "50cf3491-2ca5-47a0-ae75-19ff70d17f8c",
   "metadata": {},
   "outputs": [
    {
     "name": "stdout",
     "output_type": "stream",
     "text": [
      "3.12.3 (main, Apr 27 2024, 19:00:21) [GCC 11.4.0]\n"
     ]
    }
   ],
   "source": [
    "import sys\n",
    "print(sys.version)"
   ]
  },
  {
   "cell_type": "markdown",
   "id": "1d195e57-1fbe-4c9e-a5f9-7bbb10764378",
   "metadata": {},
   "source": [
    "## Step 01. Installing CrewAI packages"
   ]
  },
  {
   "cell_type": "code",
   "execution_count": 37,
   "id": "9b7bb8bd-1257-4251-8713-f0f65d7dbb1e",
   "metadata": {},
   "outputs": [],
   "source": [
    "%%capture\n",
    "!pip install crewai"
   ]
  },
  {
   "cell_type": "code",
   "execution_count": 38,
   "id": "17f6fa08-f29a-4d0b-8ff3-ad3508beeeb6",
   "metadata": {},
   "outputs": [],
   "source": [
    "%%capture\n",
    "!pip install 'crewai[tools]'"
   ]
  },
  {
   "cell_type": "code",
   "execution_count": 6,
   "id": "fba8748b-370f-4605-a98d-1d7a07091b7b",
   "metadata": {},
   "outputs": [],
   "source": [
    "# Warning control\n",
    "import warnings\n",
    "warnings.filterwarnings('ignore')"
   ]
  },
  {
   "cell_type": "markdown",
   "id": "020a5c05-8334-4144-b9e3-553644c7d55a",
   "metadata": {},
   "source": [
    "## Step 02. Importing CrewAI library (Agent, Task and Crew module)"
   ]
  },
  {
   "cell_type": "code",
   "execution_count": 7,
   "id": "4fe89365-5e10-46e6-a9f4-a9201fef3b90",
   "metadata": {},
   "outputs": [],
   "source": [
    "from crewai import Agent, Task, Crew"
   ]
  },
  {
   "cell_type": "markdown",
   "id": "0ce2e39c-6043-4bd4-a051-10c2246d225d",
   "metadata": {},
   "source": [
    "To use Agents, we need to set env. variables (key, model name)"
   ]
  },
  {
   "cell_type": "code",
   "execution_count": 39,
   "id": "997c61f2-1625-4f1d-8e1c-0ecc1d6eb06c",
   "metadata": {},
   "outputs": [],
   "source": [
    "import os\n",
    "os.environ['OPENAI_API_KEY'] = 'Your OPENAI API KEY'\n",
    "os.environ['OPENAI_MODEL_NAME'] = 'gpt-4-turbo'\n",
    "os.environ['SERPER_API_KEY'] = 'Your SERPER API KEY'"
   ]
  },
  {
   "cell_type": "markdown",
   "id": "eae071d6-492e-4d9d-ac92-d1904c30674a",
   "metadata": {},
   "source": [
    "## Step 03. Creating Agents"
   ]
  },
  {
   "cell_type": "code",
   "execution_count": 10,
   "id": "9abbb3ed-3963-494f-9672-3dd923d62c8e",
   "metadata": {},
   "outputs": [],
   "source": [
    "sales_rep_agent = Agent(\n",
    "    role=\"Sales Representative\",\n",
    "    goal=\"Identify high-value leads that match \"\n",
    "         \"our ideal customer profile\",\n",
    "    backstory=(\n",
    "        \"As a part of the dynamic sales team at CrewAI, \"\n",
    "        \"your mission is to scour \"\n",
    "        \"the digital landscape for potential leads. \"\n",
    "        \"Armed with cutting-edge tools \"\n",
    "        \"and a strategic mindset, you analyze data, \"\n",
    "        \"trends, and interactions to \"\n",
    "        \"unearth opportunities that others might overlook. \"\n",
    "        \"Your work is crucial in paving the way \"\n",
    "        \"for meaningful engagements and driving the company's growth.\"\n",
    "    ),\n",
    "    allow_delegation=False,\n",
    "    verbose=True\n",
    ")"
   ]
  },
  {
   "cell_type": "code",
   "execution_count": 11,
   "id": "1fdcc9c3-287c-4ee2-8021-b0f8e7df5693",
   "metadata": {},
   "outputs": [],
   "source": [
    "lead_sales_rep_agent = Agent(\n",
    "    role=\"Lead Sales Representative\",\n",
    "    goal=\"Nurture leads with personalized, compelling communications\",\n",
    "    backstory=(\n",
    "        \"Within the vibrant ecosystem of CrewAI's sales department, \"\n",
    "        \"you stand out as the bridge between potential clients \"\n",
    "        \"and the solutions they need.\"\n",
    "        \"By creating engaging, personalized messages, \"\n",
    "        \"you not only inform leads about our offerings \"\n",
    "        \"but also make them feel seen and heard.\"\n",
    "        \"Your role is pivotal in converting interest \"\n",
    "        \"into action, guiding leads through the journey \"\n",
    "        \"from curiosity to commitment.\"\n",
    "    ),\n",
    "    allow_delegation=False,\n",
    "    verbose=True\n",
    ")"
   ]
  },
  {
   "cell_type": "markdown",
   "id": "83034cac-45d9-4ef0-9bd1-78c48c3af5ea",
   "metadata": {},
   "source": [
    "## Step 04. Creating Tools"
   ]
  },
  {
   "cell_type": "markdown",
   "id": "a67bfda4-af35-4306-be98-e95453b243d7",
   "metadata": {},
   "source": [
    "### CrewAI Tools\n",
    "\n",
    "- **SerperDevTool** : Used for Google Search\n",
    "- **DirectoryReadTool** : Open a directory\n",
    "- **FileReadTool** : Read a file"
   ]
  },
  {
   "cell_type": "code",
   "execution_count": 12,
   "id": "45e72e03-24cc-4fd6-ab6c-cfa2d9092000",
   "metadata": {},
   "outputs": [],
   "source": [
    "from crewai_tools import SerperDevTool, DirectoryReadTool, FileReadTool"
   ]
  },
  {
   "cell_type": "code",
   "execution_count": 20,
   "id": "a677d33f-59cf-4cf9-99f8-fa1360944143",
   "metadata": {},
   "outputs": [],
   "source": [
    "# local directory 'instructions' contains markdown files\n",
    "# markdown files (.md) having instructions on how to deal with company of different sizes \n",
    "\n",
    "directory_read_tool = DirectoryReadTool(directory='./instructions')\n",
    "file_read_tool = FileReadTool()\n",
    "serper_dev_tool = SerperDevTool()"
   ]
  },
  {
   "cell_type": "markdown",
   "id": "8f314e4f-0823-45d6-b0c2-962ea5c2c511",
   "metadata": {},
   "source": [
    "### Custom Tool (SentimentAnalysisTool)\n",
    "\n",
    "- Create a custom tool using crewAI's BaseTool class"
   ]
  },
  {
   "cell_type": "code",
   "execution_count": 21,
   "id": "4a2b7c01-8a46-4794-a677-a6eb84cf13df",
   "metadata": {},
   "outputs": [],
   "source": [
    "from crewai_tools import BaseTool"
   ]
  },
  {
   "cell_type": "markdown",
   "id": "4dc54882-4b96-45c5-8b1e-a73a4c1549da",
   "metadata": {},
   "source": [
    "- Every Tool needs to have a `name` and a `description`.\n",
    "- Tool logic written in `_run` function\n",
    "- For simplicity and classroom purposes, `SentimentAnalysisTool` will return `positive` for every text."
   ]
  },
  {
   "cell_type": "code",
   "execution_count": 22,
   "id": "f07e4aa7-3739-4c46-b6da-6f191745d239",
   "metadata": {},
   "outputs": [],
   "source": [
    "class SentimentAnalysisTool(BaseTool):\n",
    "    name : str = \"Sentiment Analysis Tool\"\n",
    "    description : str = (\"Analyzes the sentiment of text \"\n",
    "         \"to ensure positive and engaging communication.\")\n",
    "\n",
    "    def _run(self, argument : str) -> str:\n",
    "        return \"positive\""
   ]
  },
  {
   "cell_type": "code",
   "execution_count": 23,
   "id": "f98443b0-0ba8-4e9b-9f3a-497d76195e73",
   "metadata": {},
   "outputs": [],
   "source": [
    "sentiment_analysis_tool = SentimentAnalysisTool()"
   ]
  },
  {
   "cell_type": "markdown",
   "id": "3ce15ffd-b323-4b23-a479-98243a593051",
   "metadata": {},
   "source": [
    "## Step 05. Creating Tasks\n",
    "\n",
    "- Lead Profiling Task usign crewAI Tools"
   ]
  },
  {
   "cell_type": "code",
   "execution_count": 24,
   "id": "d256e187-d936-41b3-8675-b09d6596f317",
   "metadata": {},
   "outputs": [],
   "source": [
    "lead_profiling = Task (\n",
    "    description=(\n",
    "        \"Conduct an in-depth analysis of {lead_name}, \"\n",
    "        \"a company in the {industry} sector \"\n",
    "        \"that recently showed interest in our solutions. \"\n",
    "        \"Utilize all available data sources \"\n",
    "        \"to compile a detailed profile, \"\n",
    "        \"focusing on key decision-makers, recent business \"\n",
    "        \"developments, and potential needs \"\n",
    "        \"that align with our offerings. \"\n",
    "        \"This task is crucial for tailoring \"\n",
    "        \"our engagement strategy effectively.\\n\"\n",
    "        \"Don't make assumptions and \"\n",
    "        \"only use information you absolutely sure about.\"\n",
    "    ),\n",
    "    expected_output=(\n",
    "        \"A comprehensive report on {lead_name}, \"\n",
    "        \"including company background, \"\n",
    "        \"key personnel, recent milestones, and identified needs. \"\n",
    "        \"Highlight potential areas where \"\n",
    "        \"our solutions can provide value, \"\n",
    "        \"and suggest personalized engagement strategies.\"\n",
    "    ),\n",
    "    tools=[serper_dev_tool, directory_read_tool, file_read_tool],\n",
    "    agent=sales_rep_agent\n",
    ")"
   ]
  },
  {
   "cell_type": "markdown",
   "id": "dd962dc1-36ee-4a3f-a151-c4a63ae02160",
   "metadata": {},
   "source": [
    "- The personalized outreach task is created using custom tool `SentimentAnalysisTool`, as well as crewAI's `SerperDevTool` (search tool)"
   ]
  },
  {
   "cell_type": "code",
   "execution_count": 26,
   "id": "5627d9c3-f821-4316-b471-de4af1914220",
   "metadata": {},
   "outputs": [],
   "source": [
    "personalized_outreach_task = Task (\n",
    "    description=(\n",
    "        \"Using the insights gathered from \"\n",
    "        \"the lead profiling report on {lead_name}, \"\n",
    "        \"craft a personalized outreach campaign \"\n",
    "        \"aimed at {key_decision_maker}, \"\n",
    "        \"the {position} of {lead_name}. \"\n",
    "        \"The campaign should address their recent {milestone} \"\n",
    "        \"and how our solutions can support their goals. \"\n",
    "        \"Your communication must resonate \"\n",
    "        \"with {lead_name}'s company culture and values, \"\n",
    "        \"demonstrating a deep understanding of \"\n",
    "        \"their business and needs.\\n\"\n",
    "        \"Don't make assumptions and only \"\n",
    "        \"use information you absolutely sure about.\"\n",
    "    ),\n",
    "    expected_output=(\n",
    "        \"A series of personalized email drafts \"\n",
    "        \"tailored to {lead_name}, \"\n",
    "        \"specifically targeting {key_decision_maker}.\"\n",
    "        \"Each draft should include \"\n",
    "        \"a compelling narrative that connects our solutions \"\n",
    "        \"with their recent achievements and future goals. \"\n",
    "        \"Ensure the tone is engaging, professional, \"\n",
    "        \"and aligned with {lead_name}'s corporate identity.\"\n",
    "    ),\n",
    "    tools=[serper_dev_tool, sentiment_analysis_tool],\n",
    "    agent=lead_sales_rep_agent\n",
    ")"
   ]
  },
  {
   "cell_type": "markdown",
   "id": "86926ef3-9497-4ddd-aeb7-5a98a8522e94",
   "metadata": {},
   "source": [
    "## Step 06.  Creating a crew "
   ]
  },
  {
   "cell_type": "code",
   "execution_count": 27,
   "id": "507ce7eb-7761-4b8d-91a5-b57f08594609",
   "metadata": {},
   "outputs": [],
   "source": [
    "crew = Crew(\n",
    "    tasks=[lead_profiling, personalized_outreach_task],\n",
    "    agents=[sales_rep_agent, lead_sales_rep_agent],\n",
    "    memory=True,\n",
    "    verbose=2\n",
    ")"
   ]
  },
  {
   "cell_type": "markdown",
   "id": "b6d43d73-d8c0-4b2e-b0cd-30934a6a2e84",
   "metadata": {},
   "source": [
    "## Kicking off the crew"
   ]
  },
  {
   "cell_type": "code",
   "execution_count": 28,
   "id": "d5aaf533-111d-420f-9dbd-ad5584ddebd2",
   "metadata": {},
   "outputs": [
    {
     "name": "stdout",
     "output_type": "stream",
     "text": [
      "\u001b[1m\u001b[95m [DEBUG]: == Working Agent: Sales Representative\u001b[00m\n",
      "\u001b[1m\u001b[95m [INFO]: == Starting Task: Conduct an in-depth analysis of DeepLearningAI, a company in the Online Learning Platform sector that recently showed interest in our solutions. Utilize all available data sources to compile a detailed profile, focusing on key decision-makers, recent business developments, and potential needs that align with our offerings. This task is crucial for tailoring our engagement strategy effectively.\n",
      "Don't make assumptions and only use information you absolutely sure about.\u001b[00m\n",
      "\n",
      "\n",
      "\u001b[1m> Entering new CrewAgentExecutor chain...\u001b[0m\n",
      "\u001b[32;1m\u001b[1;3mThought: To gather a comprehensive profile of DeepLearningAI, I need to start by searching for general information about the company, including its background, key personnel, and recent business developments.\n",
      "\n",
      "Action: Search the internet\n",
      "Action Input: {\"search_query\": \"DeepLearningAI company profile\"}\u001b[0m\u001b[95m \n",
      "\n",
      "\n",
      "Search results: Title: Deeplearning.ai - Crunchbase Company Profile & Funding\n",
      "Link: https://www.crunchbase.com/organization/deeplearning-ai\n",
      "Snippet: Deeplearning.ai is company that explores the frontier of AI. The company is founded by Andrew Ng, the former Chief Scientist of Baidu and the current Chairman ...\n",
      "---\n",
      "Title: DeepLearning.AI - LinkedIn\n",
      "Link: https://www.linkedin.com/company/deeplearningai\n",
      "Snippet: DeepLearning.AI is making a world-class AI education accessible to people around the globe. DeepLearning.AI was founded by Andrew Ng, a global leader in AI.\n",
      "---\n",
      "Title: DeepLearning.AI: Start or Advance Your Career in AI\n",
      "Link: https://www.deeplearning.ai/\n",
      "Snippet: Learn the skills to start or advance your AI career | World-class education | Hands-on training | Collaborative community of peers and mentors.\n",
      "---\n",
      "Title: DEEPLEARNING.AI LLC Company Profile | Palo Alto, CA\n",
      "Link: https://www.dnb.com/business-directory/company-profiles.deeplearningai_llc.7cb525da4ad45b067062d87d5fbcad0b.html\n",
      "Snippet: Find company research, competitor information, contact details & financial data for DEEPLEARNING.AI LLC of Palo Alto, CA. Get the latest business insights ...\n",
      "---\n",
      "Title: Deeplearning.ai company information, funding & investors\n",
      "Link: https://app.dealroom.co/companies/deeplearning_ai\n",
      "Snippet: Deeplearning.ai, deeplearningai is company that explores the frontier of ai. Here you'll find information about their funding, investors and team.\n",
      "---\n",
      "Title: DeepLearning.AI - Overview, News & Similar companies - ZoomInfo\n",
      "Link: https://www.zoominfo.com/c/deeplearningai-inc/462132321\n",
      "Snippet: View DeepLearning.AI (www.deeplearning.ai) location in California, United States , revenue, industry and description. Find related and similar companies as ...\n",
      "---\n",
      "Title: deeplearning.ai: Revenue, Competitors, Alternatives - Growjo\n",
      "Link: https://growjo.com/company/deeplearning.ai\n",
      "Snippet: deeplearning.ai top competitors are TruthMD, Atrium and Bluestone PIM and they have annual revenue of $62.7M and 346 employees.\n",
      "---\n",
      "Title: Top Deep Learning Companies - May 2024 Reviews - GoodFirms\n",
      "Link: https://www.goodfirms.co/artificial-intelligence/deep-learning\n",
      "Snippet: List of Top AI Companies for Deep Learning · SoluLab · Simublade · OpenXcell · KitRUM · Altamira · Outsource Bigdata · 6omb AI · Need assistance in finding the best ...\n",
      "---\n",
      "Title: DeepLearning.AI Online Courses - Coursera\n",
      "Link: https://www.coursera.org/deeplearning-ai\n",
      "Snippet: DeepLearning.AI is an education technology company that develops a global community of AI talent. DeepLearning.AI's expert-led educational experiences ...\n",
      "---\n",
      "\n",
      "\u001b[00m\n",
      "\u001b[32;1m\u001b[1;3mThought: From the initial search, the most relevant and direct sources of information about DeepLearningAI include the Crunchbase profile, LinkedIn page, and their official website. These should provide a comprehensive view of the company's background, key personnel, recent milestones, and offerings which will help in identifying potential needs that align with our solutions.\n",
      "\n",
      "Action: Search the internet\n",
      "Action Input: {\"search_query\": \"DeepLearningAI Crunchbase LinkedIn official site\"}\u001b[0m\u001b[95m \n",
      "\n",
      "\n",
      "Search results: Title: DeepLearning.AI - LinkedIn\n",
      "Link: https://www.linkedin.com/company/deeplearningai\n",
      "Snippet: DeepLearning.AI is making a world-class AI education accessible to people around the globe. DeepLearning.AI was founded by Andrew Ng, a global leader in AI.\n",
      "---\n",
      "Title: Andrew Ng - DeepLearning.AI - LinkedIn\n",
      "Link: https://www.linkedin.com/in/andrewyng\n",
      "Snippet: Personal home page: http://andrewng.org · Experience: DeepLearning.AI · Education: University of California, Berkeley · Location: Palo Alto · 500+ ...\n",
      "---\n",
      "Title: DeepLearning.AI on LinkedIn: Since its launch in 2017, our Deep ...\n",
      "Link: https://www.linkedin.com/posts/deeplearningai_since-its-launch-in-2017-our-deep-learning-activity-6783765037321461760-LzL6\n",
      "Snippet: Since its launch in 2017, our Deep Learning Specialization has been the most popular deep learning program in the world.\n",
      "---\n",
      "Title: Deeplearning.ai - Crunchbase Company Profile & Funding\n",
      "Link: https://www.crunchbase.com/organization/deeplearning-ai\n",
      "Snippet: Deeplearning.ai is company that explores the frontier of AI. The company is founded by Andrew Ng, the former Chief Scientist of Baidu and the current Chairman ...\n",
      "---\n",
      "Title: Andrew Ng on LinkedIn: Just got the data: Generative AI for ...\n",
      "Link: https://www.linkedin.com/posts/andrewyng_just-got-the-data-generative-ai-for-everyone-activity-7129883857411080192-gNvQ\n",
      "Snippet: In my journey studying Generative AI, I would like to share how DeepLearning.AI has proven to be an excellent platform, offering high-quality ...\n",
      "---\n",
      "Title: [Video] Andrew Ng on LinkedIn: Thrilled to announce\n",
      "Link: https://www.linkedin.com/posts/andrewyng_thrilled-to-announce-our-new-course-chatgpt-activity-7057374526451445760-kA1T\n",
      "Snippet: Thrilled to announce: Our new course ChatGPT Prompt Engineering for Developers, created together with OpenAI, is available now for free!\n",
      "---\n",
      "Title: Deepa K. on LinkedIn: #machinelearning #artificialintelligence ...\n",
      "Link: https://www.linkedin.com/posts/deepa-kushwaha-2038aa157_machinelearning-artificialintelligence-activity-6728680220615864320-25iH?trk=public_profile_like_view\n",
      "Snippet: View profile for Deepa K. Deepa K. Data Scientist at GTM Buddy | IIIT'ian | Expertise in Data Science | NLP | Machine Learning & Deep Learning.\n",
      "---\n",
      "Title: OpenAI - LinkedIn\n",
      "Link: https://www.linkedin.com/company/openai\n",
      "Snippet: OpenAI is an AI research and deployment company dedicated to ensuring that general-purpose artificial intelligence benefits all of humanity.\n",
      "---\n",
      "Title: Google DeepMind | LinkedIn\n",
      "Link: https://www.linkedin.com/company/googledeepmind\n",
      "Snippet: Google DeepMind | 977047 followers on LinkedIn. We're committed to solving intelligence, to advance science and benefit humanity.\n",
      "---\n",
      "Title: Coursera - LinkedIn\n",
      "Link: https://www.linkedin.com/company/coursera\n",
      "Snippet: Coursera. E-Learning Providers. Mountain View, CA 2,027,186 followers. Learn without limits on Coursera. Access online courses and degrees ...\n",
      "---\n",
      "\n",
      "\u001b[00m\n",
      "\u001b[32;1m\u001b[1;3mThought: The search results provided a focused but broad overview of DeepLearningAI, including details about its founder Andrew Ng and various LinkedIn posts indicating recent activities and offerings. However, to create a detailed report, I need to extract specific information about the company's background, key personnel, recent milestones, and offerings from these links. This will help identify areas where our solutions align with their needs.\n",
      "\n",
      "Action: Search the internet\n",
      "Action Input: {\"search_query\": \"DeepLearningAI company history key personnel recent milestones offerings\"}\u001b[0m\u001b[95m \n",
      "\n",
      "\n",
      "Search results: Title: About - DeepLearning.AI\n",
      "Link: https://www.deeplearning.ai/about/\n",
      "Snippet: DeepLearning.AI is an education technology company that is empowering the global workforce to build an AI-powered future through world-class education, hands-on ...\n",
      "---\n",
      "Title: Andrew Ng: Home\n",
      "Link: https://www.andrewng.org/\n",
      "Snippet: Dr. Andrew Ng is a globally recognized leader in AI (Artificial Intelligence). He is Founder of DeepLearning.AI, Founder & CEO of Landing AI, General Partner ...\n",
      "---\n",
      "Title: Compute Trends Across Three Eras of Machine Learning - Epoch AI\n",
      "Link: https://epochai.org/blog/compute-trends\n",
      "Snippet: We identify three major eras of training compute - the pre-Deep Learning Era, the Deep Learning Era, and the Large-Scale Era. Furthermore, we find that the ...\n",
      "---\n",
      "Title: DeepLearning.AI: Start or Advance Your Career in AI\n",
      "Link: https://www.deeplearning.ai/\n",
      "Snippet: Learn the skills to start or advance your AI career | World-class education | Hands-on training | Collaborative community of peers and mentors.\n",
      "---\n",
      "Title: Week 1 Quiz - Introduction to deep learning.md - GitHub\n",
      "Link: https://github.com/Kulbear/deep-learning-coursera/blob/master/Neural%20Networks%20and%20Deep%20Learning/Week%201%20Quiz%20-%20Introduction%20to%20deep%20learning.md\n",
      "Snippet: Week 1 Quiz - Introduction to deep learning · We have access to a lot more computational power. · Neural Networks are a brand new field. · We have ...\n",
      "---\n",
      "Title: Interdisciplinary Team - Deep Genomics\n",
      "Link: https://www.deepgenomics.com/company/\n",
      "Snippet: Deep Genomics recruits from among the top 1% of recent graduates and seasoned experts at the intersection of genomics, drug development and AI.\n",
      "---\n",
      "Title: Top 10 AI Chip Makers of 2024: In-depth Guide - Research AIMultiple\n",
      "Link: https://research.aimultiple.com/ai-chip-makers/\n",
      "Snippet: Groq has been founded by former Google employees. The company represents LPUs, a new model for AI chip architecture, that aims to make it easier ...\n",
      "---\n",
      "Title: Unleashing an AI Revolution: Inside Salesforce's Decade-Long ...\n",
      "Link: https://www.salesforce.com/news/stories/ai-history-salesforce/\n",
      "Snippet: “Salesforce will become an AI-first company.” The goal was to transform Salesforce into an 'intelligent' CRM, making it easy for every company ...\n",
      "---\n",
      "Title: 75 Artificial Intelligence (AI) Companies to Know | Built In\n",
      "Link: https://builtin.com/artificial-intelligence/ai-companies-roundup\n",
      "Snippet: From Google and Amazon to Apple and Microsoft, every major tech company is dedicating resources to breakthroughs in artificial intelligence. Personal ...\n",
      "---\n",
      "Title: The startup making deep learning possible without specialized ...\n",
      "Link: https://www.technologyreview.com/2020/06/18/1003989/ai-deep-learning-startup-neural-magic-uses-cpu-not-gpu/\n",
      "Snippet: Neural Magic plans to expand its offerings in the future to help companies train their AI models on CPUs as well. “We believe 10 to 20 years ...\n",
      "---\n",
      "\n",
      "\u001b[00m\n",
      "\u001b[32;1m\u001b[1;3mThought: The information gathered so far is scattered and needs to be compiled into a detailed and coherent profile of DeepLearningAI, focusing on the company background, key personnel, recent milestones, and offerings. This will help identify potential areas where our solutions align with their needs and suggest a personalized engagement strategy.\n",
      "\n",
      "Final Answer: DeepLearningAI Profile:\n",
      "\n",
      "**Company Background:**\n",
      "Founded by Andrew Ng, DeepLearningAI is a pioneering education technology company centered on spreading AI knowledge globally. Based in Palo Alto, CA, the company has been at the forefront of AI education, emphasizing practical, hands-on learning experiences that are accessible to a global audience. \n",
      "\n",
      "**Key Personnel:**\n",
      "- Andrew Ng: Founder and a prominent figure in AI globally, former Chief Scientist at Baidu, and associated with Stanford University. Known for his significant contributions to AI education and research, he plays an instrumental role in the company's direction and offerings.\n",
      "\n",
      "**Recent Milestones:**\n",
      "- Launch of the Deep Learning Specialization program in 2017, which quickly became the world's most popular deep learning program.\n",
      "- Introduction of new courses in collaboration with OpenAI, such as the ChatGPT Prompt Engineering for Developers.\n",
      "- Continuous expansion of course offerings to include cutting-edge topics in AI and machine learning.\n",
      "\n",
      "**Offerings:**\n",
      "DeepLearningAI provides an array of educational programs and courses tailored to different aspects of AI, such as machine learning, deep learning, and AI for business applications. Their programs are designed to cater to both beginners and advanced learners, with a strong emphasis on real-world applicability.\n",
      "\n",
      "**Potential Areas of Alignment and Engagement Strategy:**\n",
      "- **Customized Learning Solutions:** Given DeepLearningAI's commitment to accessible, high-quality AI education, CrewAI could explore partnerships to co-develop specialized courses that integrate our AI tools and platforms, providing practical experience with theoretical learning.\n",
      "- **AI Talent Development:** As DeepLearningAI aims to empower the global workforce, CrewAI can offer our AI solutions for hands-on training and real-world problem-solving scenarios, enhancing the learning experience for students.\n",
      "- **Collaborative Research and Development:** Engaging in joint R&D initiatives could be fruitful, leveraging Andrew Ng's expertise and our technological capabilities to explore new frontiers in AI education and application.\n",
      "\n",
      "This comprehensive understanding of DeepLearningAI will inform our approach in crafting a tailored, value-driven proposition for potential collaboration, aimed at enhancing both organizations' offerings in the AI space.\u001b[0m\n",
      "\n",
      "\u001b[1m> Finished chain.\u001b[0m\n",
      "\u001b[1m\u001b[92m [DEBUG]: == [Sales Representative] Task output: DeepLearningAI Profile:\n",
      "\n",
      "**Company Background:**\n",
      "Founded by Andrew Ng, DeepLearningAI is a pioneering education technology company centered on spreading AI knowledge globally. Based in Palo Alto, CA, the company has been at the forefront of AI education, emphasizing practical, hands-on learning experiences that are accessible to a global audience. \n",
      "\n",
      "**Key Personnel:**\n",
      "- Andrew Ng: Founder and a prominent figure in AI globally, former Chief Scientist at Baidu, and associated with Stanford University. Known for his significant contributions to AI education and research, he plays an instrumental role in the company's direction and offerings.\n",
      "\n",
      "**Recent Milestones:**\n",
      "- Launch of the Deep Learning Specialization program in 2017, which quickly became the world's most popular deep learning program.\n",
      "- Introduction of new courses in collaboration with OpenAI, such as the ChatGPT Prompt Engineering for Developers.\n",
      "- Continuous expansion of course offerings to include cutting-edge topics in AI and machine learning.\n",
      "\n",
      "**Offerings:**\n",
      "DeepLearningAI provides an array of educational programs and courses tailored to different aspects of AI, such as machine learning, deep learning, and AI for business applications. Their programs are designed to cater to both beginners and advanced learners, with a strong emphasis on real-world applicability.\n",
      "\n",
      "**Potential Areas of Alignment and Engagement Strategy:**\n",
      "- **Customized Learning Solutions:** Given DeepLearningAI's commitment to accessible, high-quality AI education, CrewAI could explore partnerships to co-develop specialized courses that integrate our AI tools and platforms, providing practical experience with theoretical learning.\n",
      "- **AI Talent Development:** As DeepLearningAI aims to empower the global workforce, CrewAI can offer our AI solutions for hands-on training and real-world problem-solving scenarios, enhancing the learning experience for students.\n",
      "- **Collaborative Research and Development:** Engaging in joint R&D initiatives could be fruitful, leveraging Andrew Ng's expertise and our technological capabilities to explore new frontiers in AI education and application.\n",
      "\n",
      "This comprehensive understanding of DeepLearningAI will inform our approach in crafting a tailored, value-driven proposition for potential collaboration, aimed at enhancing both organizations' offerings in the AI space.\n",
      "\n",
      "\u001b[00m\n",
      "\u001b[1m\u001b[95m [DEBUG]: == Working Agent: Lead Sales Representative\u001b[00m\n",
      "\u001b[1m\u001b[95m [INFO]: == Starting Task: Using the insights gathered from the lead profiling report on DeepLearningAI, craft a personalized outreach campaign aimed at Andrew Ng, the CEO of DeepLearningAI. The campaign should address their recent product launch and how our solutions can support their goals. Your communication must resonate with DeepLearningAI's company culture and values, demonstrating a deep understanding of their business and needs.\n",
      "Don't make assumptions and only use information you absolutely sure about.\u001b[00m\n",
      "\n",
      "\n",
      "\u001b[1m> Entering new CrewAgentExecutor chain...\u001b[0m\n",
      "\u001b[32;1m\u001b[1;3mTo ensure that the outreach campaign is perfectly aligned with DeepLearningAI's values and Andrew Ng's vision, I need to craft messages that resonate with their recent achievements and highlight how CrewAI's solutions can enhance their educational programs. I should use the Sentiment Analysis Tool to ensure the tone in the drafts is positive and engaging.\n",
      "\n",
      "Action: Sentiment Analysis Tool\n",
      "Action Input: {\"argument\": \"Dear Andrew Ng, I hope this message finds you well. I am reaching out to explore potential collaborative opportunities between DeepLearningAI and CrewAI. Our AI solutions could enrich your educational programs, particularly in hands-on learning, which aligns with your mission to provide practical, accessible AI education globally. Looking forward to discussing how we can work together to innovate in AI education. Best regards, [Your Name]\"}\u001b[0m\u001b[95m \n",
      "\n",
      "positive\n",
      "\u001b[00m\n",
      "\u001b[32;1m\u001b[1;3mThought:\n",
      "The sentiment analysis confirms a positive tone in the draft, which aligns well with the engaging and professional communication style needed. Now, I'll craft a series of email drafts, each focusing on different aspects of potential collaboration and ensuring they resonate with DeepLearningAI's achievements and goals.\n",
      "\n",
      "Final Answer:\n",
      "Email Draft 1:\n",
      "Subject: Enhancing AI Education Together – A Collaborative Opportunity\n",
      "\n",
      "Dear Andrew Ng,\n",
      "\n",
      "I hope this message finds you well. I am reaching out to explore potential collaborative opportunities between DeepLearningAI and CrewAI. Our AI solutions could enrich your educational programs, particularly in hands-on learning, which aligns with your mission to provide practical, accessible AI education globally. Looking forward to discussing how we can work together to innovate in AI education.\n",
      "\n",
      "Best regards,\n",
      "[Your Name]\n",
      "\n",
      "Email Draft 2:\n",
      "Subject: Partnership Proposal: Integrating Real-World AI Tools into DeepLearningAI Courses\n",
      "\n",
      "Dear Andrew Ng,\n",
      "\n",
      "Following your recent successful launch of new courses with OpenAI, we at CrewAI are inspired by your commitment to advancing AI education. We believe that integrating our cutting-edge AI tools into DeepLearningAI's curriculum could provide students with invaluable hands-on experience, bridging the gap between theory and real-world application. Let's discuss how we can make AI education even more impactful together.\n",
      "\n",
      "Warm regards,\n",
      "[Your Name]\n",
      "\n",
      "Email Draft 3:\n",
      "Subject: Joint R&D Initiative: Pioneering the Future of AI Learning\n",
      "\n",
      "Dear Andrew Ng,\n",
      "\n",
      "Your leadership in AI education through DeepLearningAI has set a benchmark in the industry. At CrewAI, we are excited about the possibility of joining forces to co-develop new learning modules that feature our latest AI technologies. Imagine the possibilities of combining our strengths in a joint research and development initiative that could set new standards for AI education.\n",
      "\n",
      "Looking forward to your thoughts,\n",
      "\n",
      "Best,\n",
      "[Your Name]\n",
      "\n",
      "These drafts are tailored to address specific areas of potential collaboration, emphasizing how our solutions can support and enhance DeepLearningAI's educational offerings and Andrew Ng's vision for global AI education.\u001b[0m\n",
      "\n",
      "\u001b[1m> Finished chain.\u001b[0m\n",
      "\u001b[1m\u001b[92m [DEBUG]: == [Lead Sales Representative] Task output: Email Draft 1:\n",
      "Subject: Enhancing AI Education Together – A Collaborative Opportunity\n",
      "\n",
      "Dear Andrew Ng,\n",
      "\n",
      "I hope this message finds you well. I am reaching out to explore potential collaborative opportunities between DeepLearningAI and CrewAI. Our AI solutions could enrich your educational programs, particularly in hands-on learning, which aligns with your mission to provide practical, accessible AI education globally. Looking forward to discussing how we can work together to innovate in AI education.\n",
      "\n",
      "Best regards,\n",
      "[Your Name]\n",
      "\n",
      "Email Draft 2:\n",
      "Subject: Partnership Proposal: Integrating Real-World AI Tools into DeepLearningAI Courses\n",
      "\n",
      "Dear Andrew Ng,\n",
      "\n",
      "Following your recent successful launch of new courses with OpenAI, we at CrewAI are inspired by your commitment to advancing AI education. We believe that integrating our cutting-edge AI tools into DeepLearningAI's curriculum could provide students with invaluable hands-on experience, bridging the gap between theory and real-world application. Let's discuss how we can make AI education even more impactful together.\n",
      "\n",
      "Warm regards,\n",
      "[Your Name]\n",
      "\n",
      "Email Draft 3:\n",
      "Subject: Joint R&D Initiative: Pioneering the Future of AI Learning\n",
      "\n",
      "Dear Andrew Ng,\n",
      "\n",
      "Your leadership in AI education through DeepLearningAI has set a benchmark in the industry. At CrewAI, we are excited about the possibility of joining forces to co-develop new learning modules that feature our latest AI technologies. Imagine the possibilities of combining our strengths in a joint research and development initiative that could set new standards for AI education.\n",
      "\n",
      "Looking forward to your thoughts,\n",
      "\n",
      "Best,\n",
      "[Your Name]\n",
      "\n",
      "These drafts are tailored to address specific areas of potential collaboration, emphasizing how our solutions can support and enhance DeepLearningAI's educational offerings and Andrew Ng's vision for global AI education.\n",
      "\n",
      "\u001b[00m\n"
     ]
    }
   ],
   "source": [
    "inputs = {\n",
    "    \"lead_name\": \"DeepLearningAI\",\n",
    "    \"industry\": \"Online Learning Platform\",\n",
    "    \"key_decision_maker\": \"Andrew Ng\",\n",
    "    \"position\": \"CEO\",\n",
    "    \"milestone\": \"product launch\"\n",
    "}\n",
    "\n",
    "result = crew.kickoff(inputs=inputs)"
   ]
  },
  {
   "cell_type": "code",
   "execution_count": 29,
   "id": "b35dd156-f388-42d1-878c-9588fcedcab1",
   "metadata": {},
   "outputs": [
    {
     "data": {
      "text/markdown": [
       "Email Draft 1:\n",
       "Subject: Enhancing AI Education Together – A Collaborative Opportunity\n",
       "\n",
       "Dear Andrew Ng,\n",
       "\n",
       "I hope this message finds you well. I am reaching out to explore potential collaborative opportunities between DeepLearningAI and CrewAI. Our AI solutions could enrich your educational programs, particularly in hands-on learning, which aligns with your mission to provide practical, accessible AI education globally. Looking forward to discussing how we can work together to innovate in AI education.\n",
       "\n",
       "Best regards,\n",
       "[Your Name]\n",
       "\n",
       "Email Draft 2:\n",
       "Subject: Partnership Proposal: Integrating Real-World AI Tools into DeepLearningAI Courses\n",
       "\n",
       "Dear Andrew Ng,\n",
       "\n",
       "Following your recent successful launch of new courses with OpenAI, we at CrewAI are inspired by your commitment to advancing AI education. We believe that integrating our cutting-edge AI tools into DeepLearningAI's curriculum could provide students with invaluable hands-on experience, bridging the gap between theory and real-world application. Let's discuss how we can make AI education even more impactful together.\n",
       "\n",
       "Warm regards,\n",
       "[Your Name]\n",
       "\n",
       "Email Draft 3:\n",
       "Subject: Joint R&D Initiative: Pioneering the Future of AI Learning\n",
       "\n",
       "Dear Andrew Ng,\n",
       "\n",
       "Your leadership in AI education through DeepLearningAI has set a benchmark in the industry. At CrewAI, we are excited about the possibility of joining forces to co-develop new learning modules that feature our latest AI technologies. Imagine the possibilities of combining our strengths in a joint research and development initiative that could set new standards for AI education.\n",
       "\n",
       "Looking forward to your thoughts,\n",
       "\n",
       "Best,\n",
       "[Your Name]\n",
       "\n",
       "These drafts are tailored to address specific areas of potential collaboration, emphasizing how our solutions can support and enhance DeepLearningAI's educational offerings and Andrew Ng's vision for global AI education."
      ],
      "text/plain": [
       "<IPython.core.display.Markdown object>"
      ]
     },
     "execution_count": 29,
     "metadata": {},
     "output_type": "execute_result"
    }
   ],
   "source": [
    "from IPython.display import Markdown\n",
    "Markdown(result)"
   ]
  },
  {
   "cell_type": "code",
   "execution_count": null,
   "id": "2b2015e0-0ed4-44a8-9ce4-98ad8b5c952f",
   "metadata": {},
   "outputs": [],
   "source": []
  }
 ],
 "metadata": {
  "kernelspec": {
   "display_name": "Python 3.12.1",
   "language": "python",
   "name": "python312"
  },
  "language_info": {
   "codemirror_mode": {
    "name": "ipython",
    "version": 3
   },
   "file_extension": ".py",
   "mimetype": "text/x-python",
   "name": "python",
   "nbconvert_exporter": "python",
   "pygments_lexer": "ipython3",
   "version": "3.12.3"
  }
 },
 "nbformat": 4,
 "nbformat_minor": 5
}
